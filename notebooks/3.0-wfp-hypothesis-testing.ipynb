{
 "cells": [
  {
   "cell_type": "markdown",
   "metadata": {},
   "source": [
    "# Hypothesis testing"
   ]
  },
  {
   "cell_type": "markdown",
   "metadata": {},
   "source": [
    "During our exploratory data analysis (EDA), we observed that some features appear to have no relationship with employee resignation. We will test this hypothesis to determine if these features are indeed irrelevant to our target variable, in order to train the model and check its performance with and without those categories.\n",
    "\n",
    "A signifficance value of 0.01 will be used in order to have a 99% confidence interval of influence of the features."
   ]
  },
  {
   "cell_type": "markdown",
   "metadata": {},
   "source": [
    "## Preparing environment"
   ]
  },
  {
   "cell_type": "code",
   "execution_count": 6,
   "metadata": {},
   "outputs": [],
   "source": [
    "import numpy as np\n",
    "import pandas as pd\n",
    "import pingouin\n",
    "import sys\n",
    "sys.path.append('../high_performance_employee_resign_prediction')\n",
    "from utils import paths"
   ]
  },
  {
   "cell_type": "code",
   "execution_count": 7,
   "metadata": {},
   "outputs": [],
   "source": [
    "import warnings\n",
    "warnings.filterwarnings(\"ignore\", category=UserWarning)\n",
    "warnings.filterwarnings(\"ignore\", category=RuntimeWarning)"
   ]
  },
  {
   "cell_type": "markdown",
   "metadata": {},
   "source": [
    "## Importing data"
   ]
  },
  {
   "cell_type": "code",
   "execution_count": 8,
   "metadata": {},
   "outputs": [],
   "source": [
    "train_df = pd.read_csv(paths.data_interim_dir('train_clean.csv'))"
   ]
  },
  {
   "cell_type": "markdown",
   "metadata": {},
   "source": [
    "## Generating hypothesis testing functions"
   ]
  },
  {
   "cell_type": "markdown",
   "metadata": {},
   "source": [
    "### Chi2 independence test"
   ]
  },
  {
   "cell_type": "code",
   "execution_count": 9,
   "metadata": {},
   "outputs": [],
   "source": [
    "def chi2_independence_test(data: pd.DataFrame, main_cat: str, sec_cat: str, alpha=0.01):\n",
    "    \"\"\"\n",
    "    Perform a Chi-square test of independence between two categorical variables.\n",
    "\n",
    "    Parameters:\n",
    "    data (pd.DataFrame): The DataFrame containing the data to be tested.\n",
    "    main_cat (str): The name of the first categorical variable (column).\n",
    "    sec_cat (str): The name of the second categorical variable (column).\n",
    "    alpha (float, optional): The significance level to be used for the test. Defaults to 0.05.\n",
    "\n",
    "    Returns:\n",
    "    None\n",
    "\n",
    "    This function prints the Chi-square test statistics and whether the null hypothesis\n",
    "    of independence between the two categorical variables is rejected or not.\n",
    "\n",
    "    Example:\n",
    "    >>> df = pd.DataFrame({'A': ['a', 'b', 'a', 'b'], 'B': ['x', 'x', 'y', 'y']})\n",
    "    >>> chi2_independence_test(df, 'A', 'B')\n",
    "    \"\"\"\n",
    "    \n",
    "    expected, observed, stats = pingouin.chi2_independence(data=data, x=main_cat, y=sec_cat)\n",
    "    \n",
    "    stats = pd.DataFrame(stats)\n",
    "    \n",
    "    print(stats)\n",
    "    print('-'*80)\n",
    "    \n",
    "    stat_sign = stats['pval'] < alpha\n",
    "    \n",
    "    if stat_sign.any():\n",
    "        print('Reject null hypothesis: There is a statistically significant difference between categories.')\n",
    "    else:\n",
    "        print('Failed to reject null hypothesis: There is no statistically significant difference between categories.')"
   ]
  },
  {
   "cell_type": "markdown",
   "metadata": {},
   "source": [
    "### Kruskal-Wallis test"
   ]
  },
  {
   "cell_type": "code",
   "execution_count": 10,
   "metadata": {},
   "outputs": [],
   "source": [
    "def kruskal_wallis_test(data: pd.DataFrame, cat_feat: str, num_feat: str, alpha=0.01):\n",
    "    \"\"\"\n",
    "    Perform the Kruskal-Wallis H-test for independent samples to determine if there are \n",
    "    statistically significant differences between the groups of a categorical variable \n",
    "    on a continuous variable.\n",
    "\n",
    "    Parameters:\n",
    "    data (pd.DataFrame): The DataFrame containing the data to be tested.\n",
    "    cat_feat (str): The name of the categorical variable (column).\n",
    "    num_feat (str): The name of the numerical variable (column).\n",
    "    alpha (float, optional): The significance level to be used for the test. Defaults to 0.05.\n",
    "\n",
    "    Returns:\n",
    "    None\n",
    "\n",
    "    This function prints the Kruskal-Wallis test results and whether the null hypothesis\n",
    "    of equal medians among groups is rejected or not.\n",
    "\n",
    "    Example:\n",
    "    >>> df = pd.DataFrame({'Category': ['A', 'A', 'B', 'B', 'C', 'C'], 'Values': [5, 6, 7, 8, 9, 10]})\n",
    "    >>> kruskal_wallis_test(df, 'Category', 'Values')\n",
    "    \"\"\"\n",
    "    \n",
    "    results = pingouin.kruskal(data=data, dv=num_feat, between=cat_feat)\n",
    "    \n",
    "    print(results)\n",
    "    print('-'*80)\n",
    "    \n",
    "    if results['p-unc'].iloc[0] < alpha:\n",
    "        print(f'Reject null hypothesis: There is a statistically significant difference in {num_feat} between {cat_feat}.')\n",
    "    else:\n",
    "        print(f'Failed to reject null hypothesis: There is no statistically significant difference in {num_feat} between {cat_feat}')"
   ]
  },
  {
   "cell_type": "code",
   "execution_count": 11,
   "metadata": {},
   "outputs": [],
   "source": [
    "no_infl_cat = []\n",
    "no_infl_num = []"
   ]
  },
  {
   "cell_type": "markdown",
   "metadata": {},
   "source": [
    "## Categorical tests: Chi2 independence tests between categorical features and target."
   ]
  },
  {
   "cell_type": "markdown",
   "metadata": {},
   "source": [
    "### id_last_boss_employee"
   ]
  },
  {
   "cell_type": "markdown",
   "metadata": {},
   "source": [
    "- H<sub>0</sub>: There is not statistical signifficant difference between bosses and employee resign\n",
    "\n",
    "- H<sub>1</sub>: There is statistical signifficant difference between bosses and employee resign"
   ]
  },
  {
   "cell_type": "code",
   "execution_count": 12,
   "metadata": {},
   "outputs": [
    {
     "name": "stdout",
     "output_type": "stream",
     "text": [
      "                 test    lambda        chi2    dof          pval    cramer  \\\n",
      "0             pearson  1.000000  253.683979  170.0  3.318702e-05  0.343341   \n",
      "1        cressie-read  0.666667  258.145263  170.0  1.497057e-05  0.346347   \n",
      "2      log-likelihood  0.000000  278.098851  170.0  3.227638e-07  0.359483   \n",
      "3       freeman-tukey -0.500000         NaN  170.0           NaN       NaN   \n",
      "4  mod-log-likelihood -1.000000         inf  170.0  0.000000e+00       inf   \n",
      "5              neyman -2.000000         NaN  170.0           NaN       NaN   \n",
      "\n",
      "   power  \n",
      "0    1.0  \n",
      "1    1.0  \n",
      "2    1.0  \n",
      "3    NaN  \n",
      "4    NaN  \n",
      "5    NaN  \n",
      "--------------------------------------------------------------------------------\n",
      "Reject null hypothesis: There is a statistically significant difference between categories.\n"
     ]
    }
   ],
   "source": [
    "chi2_independence_test(train_df, 'resign', 'id_last_boss_employee')"
   ]
  },
  {
   "cell_type": "markdown",
   "metadata": {},
   "source": [
    "id_last_boss_employee has influence in our target."
   ]
  },
  {
   "cell_type": "markdown",
   "metadata": {},
   "source": [
    "### seniority_employee"
   ]
  },
  {
   "cell_type": "markdown",
   "metadata": {},
   "source": [
    "- H<sub>0</sub>: There is not statistical signifficant difference between employee seniority and employee resign\n",
    "\n",
    "- H<sub>1</sub>: There is statistical signifficant difference between employee seniority and employee resign"
   ]
  },
  {
   "cell_type": "code",
   "execution_count": 13,
   "metadata": {},
   "outputs": [
    {
     "name": "stdout",
     "output_type": "stream",
     "text": [
      "                 test    lambda       chi2  dof          pval    cramer  \\\n",
      "0             pearson  1.000000  36.374241  1.0  1.628412e-09  0.130010   \n",
      "1        cressie-read  0.666667  36.565411  1.0  1.476282e-09  0.130351   \n",
      "2      log-likelihood  0.000000  37.810045  1.0  7.797921e-10  0.132551   \n",
      "3       freeman-tukey -0.500000  39.605439  1.0  3.108164e-10  0.135661   \n",
      "4  mod-log-likelihood -1.000000  42.291719  1.0  7.862479e-11  0.140187   \n",
      "5              neyman -2.000000  51.216367  1.0  8.272602e-13  0.154271   \n",
      "\n",
      "      power  \n",
      "0  0.999977  \n",
      "1  0.999978  \n",
      "2  0.999986  \n",
      "3  0.999993  \n",
      "4  0.999997  \n",
      "5  1.000000  \n",
      "--------------------------------------------------------------------------------\n",
      "Reject null hypothesis: There is a statistically significant difference between categories.\n"
     ]
    }
   ],
   "source": [
    "chi2_independence_test(train_df, 'resign', 'seniority_employee')"
   ]
  },
  {
   "cell_type": "markdown",
   "metadata": {},
   "source": [
    "seniority_employee has influence in our target."
   ]
  },
  {
   "cell_type": "markdown",
   "metadata": {},
   "source": [
    "### work_modality_employee"
   ]
  },
  {
   "cell_type": "markdown",
   "metadata": {},
   "source": [
    "- H<sub>0</sub>: There is not statistical signifficant difference between employee work modality and employee resign\n",
    "\n",
    "- H<sub>1</sub>: There is statistical signifficant difference between employee work modality and employee resign"
   ]
  },
  {
   "cell_type": "code",
   "execution_count": 14,
   "metadata": {},
   "outputs": [
    {
     "name": "stdout",
     "output_type": "stream",
     "text": [
      "                 test    lambda      chi2  dof      pval    cramer     power\n",
      "0             pearson  1.000000  7.961430  1.0  0.004778  0.060824  0.805557\n",
      "1        cressie-read  0.666667  7.956675  1.0  0.004791  0.060806  0.805325\n",
      "2      log-likelihood  0.000000  7.950230  1.0  0.004808  0.060781  0.805010\n",
      "3       freeman-tukey -0.500000  7.948070  1.0  0.004814  0.060773  0.804905\n",
      "4  mod-log-likelihood -1.000000  7.948196  1.0  0.004814  0.060773  0.804911\n",
      "5              neyman -2.000000  7.955293  1.0  0.004795  0.060800  0.805258\n",
      "--------------------------------------------------------------------------------\n",
      "Reject null hypothesis: There is a statistically significant difference between categories.\n"
     ]
    }
   ],
   "source": [
    "chi2_independence_test(train_df, 'resign', 'work_modality_employee')"
   ]
  },
  {
   "cell_type": "markdown",
   "metadata": {},
   "source": [
    "work_modality_employee has influence in our target"
   ]
  },
  {
   "cell_type": "markdown",
   "metadata": {},
   "source": [
    "### gender_employee"
   ]
  },
  {
   "cell_type": "markdown",
   "metadata": {},
   "source": [
    "- H<sub>0</sub>: There is not statistical signifficant difference between gender and employee resign\n",
    "\n",
    "- H<sub>1</sub>: There is statistical signifficant difference between gender and employee resign"
   ]
  },
  {
   "cell_type": "code",
   "execution_count": 15,
   "metadata": {},
   "outputs": [
    {
     "name": "stdout",
     "output_type": "stream",
     "text": [
      "                 test    lambda      chi2  dof      pval    cramer     power\n",
      "0             pearson  1.000000  3.902991  1.0  0.048200  0.042587  0.506279\n",
      "1        cressie-read  0.666667  3.903170  1.0  0.048195  0.042588  0.506297\n",
      "2      log-likelihood  0.000000  3.903928  1.0  0.048173  0.042592  0.506373\n",
      "3       freeman-tukey -0.500000  3.904849  1.0  0.048147  0.042597  0.506466\n",
      "4  mod-log-likelihood -1.000000  3.906070  1.0  0.048112  0.042604  0.506589\n",
      "5              neyman -2.000000  3.909419  1.0  0.048016  0.042622  0.506927\n",
      "--------------------------------------------------------------------------------\n",
      "Failed to reject null hypothesis: There is no statistically significant difference between categories.\n"
     ]
    }
   ],
   "source": [
    "chi2_independence_test(train_df, 'resign', 'gender_employee')"
   ]
  },
  {
   "cell_type": "markdown",
   "metadata": {},
   "source": [
    "gender_employee has influence in our target."
   ]
  },
  {
   "cell_type": "code",
   "execution_count": 16,
   "metadata": {},
   "outputs": [],
   "source": [
    "no_infl_cat.append('gender_employee')"
   ]
  },
  {
   "cell_type": "markdown",
   "metadata": {},
   "source": [
    "### recruitment_channel_employee"
   ]
  },
  {
   "cell_type": "markdown",
   "metadata": {},
   "source": [
    "- H<sub>0</sub>: There is not statistical signifficant difference between employee recruitment channel and employee resign\n",
    "\n",
    "- H<sub>1</sub>: There is statistical signifficant difference between employee recruitment channel and employee resign"
   ]
  },
  {
   "cell_type": "code",
   "execution_count": 17,
   "metadata": {},
   "outputs": [
    {
     "name": "stdout",
     "output_type": "stream",
     "text": [
      "                 test    lambda       chi2  dof          pval    cramer  \\\n",
      "0             pearson  1.000000  43.645651  4.0  7.600404e-09  0.142413   \n",
      "1        cressie-read  0.666667  43.801927  4.0  7.053200e-09  0.142668   \n",
      "2      log-likelihood  0.000000  44.227223  4.0  5.755041e-09  0.143359   \n",
      "3       freeman-tukey -0.500000  44.649401  4.0  4.702424e-09  0.144041   \n",
      "4  mod-log-likelihood -1.000000  45.165170  4.0  3.673663e-09  0.144871   \n",
      "5              neyman -2.000000  46.500171  4.0  1.937891e-09  0.146996   \n",
      "\n",
      "      power  \n",
      "0  0.999942  \n",
      "1  0.999945  \n",
      "2  0.999951  \n",
      "3  0.999957  \n",
      "4  0.999963  \n",
      "5  0.999976  \n",
      "--------------------------------------------------------------------------------\n",
      "Reject null hypothesis: There is a statistically significant difference between categories.\n"
     ]
    }
   ],
   "source": [
    "chi2_independence_test(train_df, 'resign', 'recruitment_channel_employee')"
   ]
  },
  {
   "cell_type": "markdown",
   "metadata": {},
   "source": [
    "recruitment_channel_employee has influence in our target"
   ]
  },
  {
   "cell_type": "markdown",
   "metadata": {},
   "source": [
    "### marital_estatus"
   ]
  },
  {
   "cell_type": "markdown",
   "metadata": {},
   "source": [
    "- H<sub>0</sub>: There is not statistical signifficant difference employee between marital estatus and employee resign\n",
    "\n",
    "- H<sub>1</sub>: There is statistical signifficant difference employee between marital estatus and employee resign"
   ]
  },
  {
   "cell_type": "code",
   "execution_count": 18,
   "metadata": {},
   "outputs": [
    {
     "name": "stdout",
     "output_type": "stream",
     "text": [
      "                 test    lambda       chi2  dof      pval    cramer     power\n",
      "0             pearson  1.000000  20.900890  3.0  0.000110  0.098551  0.980173\n",
      "1        cressie-read  0.666667  20.918306  3.0  0.000109  0.098592  0.980261\n",
      "2      log-likelihood  0.000000  20.968675  3.0  0.000107  0.098711  0.980515\n",
      "3       freeman-tukey -0.500000  21.020234  3.0  0.000104  0.098832  0.980771\n",
      "4  mod-log-likelihood -1.000000  21.083810  3.0  0.000101  0.098981  0.981082\n",
      "5              neyman -2.000000  21.247888  3.0  0.000094  0.099366  0.981864\n",
      "--------------------------------------------------------------------------------\n",
      "Reject null hypothesis: There is a statistically significant difference between categories.\n"
     ]
    }
   ],
   "source": [
    "chi2_independence_test(train_df, 'resign', 'marital_estatus_employee')"
   ]
  },
  {
   "cell_type": "markdown",
   "metadata": {},
   "source": [
    "marital_estatus has influence in our target."
   ]
  },
  {
   "cell_type": "markdown",
   "metadata": {},
   "source": [
    "### join_year_employee"
   ]
  },
  {
   "cell_type": "markdown",
   "metadata": {},
   "source": [
    "- H<sub>0</sub>: There is not statistical signifficant difference between employee year of join and employee resign\n",
    "\n",
    "- H<sub>1</sub>: There is statistical signifficant difference between employee year of join and employee resign"
   ]
  },
  {
   "cell_type": "code",
   "execution_count": 19,
   "metadata": {},
   "outputs": [
    {
     "name": "stdout",
     "output_type": "stream",
     "text": [
      "                 test    lambda       chi2   dof          pval    cramer  \\\n",
      "0             pearson  1.000000  48.316797  11.0  1.253445e-06  0.149840   \n",
      "1        cressie-read  0.666667  48.351606  11.0  1.235634e-06  0.149894   \n",
      "2      log-likelihood  0.000000  48.619469  11.0  1.106703e-06  0.150309   \n",
      "3       freeman-tukey -0.500000  48.998801  11.0  9.465954e-07  0.150894   \n",
      "4  mod-log-likelihood -1.000000  49.537969  11.0  7.577378e-07  0.151722   \n",
      "5              neyman -2.000000  51.132013  11.0  3.913587e-07  0.154144   \n",
      "\n",
      "      power  \n",
      "0  0.999681  \n",
      "1  0.999684  \n",
      "2  0.999704  \n",
      "3  0.999730  \n",
      "4  0.999764  \n",
      "5  0.999841  \n",
      "--------------------------------------------------------------------------------\n",
      "Reject null hypothesis: There is a statistically significant difference between categories.\n"
     ]
    }
   ],
   "source": [
    "chi2_independence_test(train_df, 'resign', 'join_year_employee')"
   ]
  },
  {
   "cell_type": "markdown",
   "metadata": {},
   "source": [
    "join_year_employee has influence in our target"
   ]
  },
  {
   "cell_type": "markdown",
   "metadata": {},
   "source": [
    "### join_month_employee"
   ]
  },
  {
   "cell_type": "markdown",
   "metadata": {},
   "source": [
    "- H<sub>0</sub>: There is not statistical signifficant difference between month of join and employee resign\n",
    "\n",
    "- H<sub>1</sub>: There is statistical signifficant difference between month of join and employee resign"
   ]
  },
  {
   "cell_type": "code",
   "execution_count": 20,
   "metadata": {},
   "outputs": [
    {
     "name": "stdout",
     "output_type": "stream",
     "text": [
      "                 test    lambda      chi2   dof      pval    cramer     power\n",
      "0             pearson  1.000000  7.293563  11.0  0.774836  0.058217  0.379021\n",
      "1        cressie-read  0.666667  7.290816  11.0  0.775067  0.058206  0.378872\n",
      "2      log-likelihood  0.000000  7.289974  11.0  0.775138  0.058203  0.378826\n",
      "3       freeman-tukey -0.500000  7.293408  11.0  0.774849  0.058216  0.379012\n",
      "4  mod-log-likelihood -1.000000  7.300327  11.0  0.774267  0.058244  0.379388\n",
      "5              neyman -2.000000  7.324659  11.0  0.772216  0.058341  0.380710\n",
      "--------------------------------------------------------------------------------\n",
      "Failed to reject null hypothesis: There is no statistically significant difference between categories.\n"
     ]
    }
   ],
   "source": [
    "chi2_independence_test(train_df, 'resign', 'join_month_employee')"
   ]
  },
  {
   "cell_type": "markdown",
   "metadata": {},
   "source": [
    "join_month has no influence in our target."
   ]
  },
  {
   "cell_type": "code",
   "execution_count": 21,
   "metadata": {},
   "outputs": [],
   "source": [
    "no_infl_cat.append('join_month_employee')"
   ]
  },
  {
   "cell_type": "markdown",
   "metadata": {},
   "source": [
    "### performance_employee"
   ]
  },
  {
   "cell_type": "markdown",
   "metadata": {},
   "source": [
    "- H<sub>0</sub>: There is not statistical signifficant difference between employee performance and employee resign\n",
    "\n",
    "- H<sub>1</sub>: There is statistical signifficant difference between employee performance and employee resign"
   ]
  },
  {
   "cell_type": "code",
   "execution_count": 22,
   "metadata": {},
   "outputs": [
    {
     "name": "stdout",
     "output_type": "stream",
     "text": [
      "                 test    lambda        chi2  dof          pval    cramer  \\\n",
      "0             pearson  1.000000  107.647958  1.0  3.210224e-25  0.223657   \n",
      "1        cressie-read  0.666667  108.260367  1.0  2.356907e-25  0.224292   \n",
      "2      log-likelihood  0.000000  110.031645  1.0  9.643885e-26  0.226119   \n",
      "3       freeman-tukey -0.500000  111.871485  1.0  3.812389e-26  0.228002   \n",
      "4  mod-log-likelihood -1.000000  114.188210  1.0  1.185090e-26  0.230351   \n",
      "5              neyman -2.000000  120.429820  1.0  5.093727e-28  0.236562   \n",
      "\n",
      "   power  \n",
      "0    1.0  \n",
      "1    1.0  \n",
      "2    1.0  \n",
      "3    1.0  \n",
      "4    1.0  \n",
      "5    1.0  \n",
      "--------------------------------------------------------------------------------\n",
      "Reject null hypothesis: There is a statistically significant difference between categories.\n"
     ]
    }
   ],
   "source": [
    "chi2_independence_test(train_df, 'resign', 'performance_employee')"
   ]
  },
  {
   "cell_type": "markdown",
   "metadata": {},
   "source": [
    "performance_employee has influence in our target."
   ]
  },
  {
   "cell_type": "markdown",
   "metadata": {},
   "source": [
    "### id_last_boss_boss\n",
    "\n",
    "- H<sub>0</sub>: There is not statistical signifficant difference between boss last boss and employee resign\n",
    "\n",
    "- H<sub>1</sub>: There is statistical signifficant difference between boss last boss and employee resign"
   ]
  },
  {
   "cell_type": "code",
   "execution_count": 23,
   "metadata": {},
   "outputs": [
    {
     "name": "stdout",
     "output_type": "stream",
     "text": [
      "                 test    lambda        chi2   dof          pval    cramer  \\\n",
      "0             pearson  1.000000  165.432658  86.0  5.831360e-07  0.277261   \n",
      "1        cressie-read  0.666667  167.240706  86.0  3.689875e-07  0.278772   \n",
      "2      log-likelihood  0.000000  175.090931  86.0  4.801039e-08  0.285240   \n",
      "3       freeman-tukey -0.500000         NaN  86.0           NaN       NaN   \n",
      "4  mod-log-likelihood -1.000000         inf  86.0  0.000000e+00       inf   \n",
      "5              neyman -2.000000         NaN  86.0           NaN       NaN   \n",
      "\n",
      "   power  \n",
      "0    1.0  \n",
      "1    1.0  \n",
      "2    1.0  \n",
      "3    NaN  \n",
      "4    NaN  \n",
      "5    NaN  \n",
      "--------------------------------------------------------------------------------\n",
      "Reject null hypothesis: There is a statistically significant difference between categories.\n"
     ]
    }
   ],
   "source": [
    "chi2_independence_test(train_df, 'resign', 'id_last_boss_boss')"
   ]
  },
  {
   "cell_type": "markdown",
   "metadata": {},
   "source": [
    "id_last_boss_boss has influence in our target."
   ]
  },
  {
   "cell_type": "markdown",
   "metadata": {},
   "source": [
    "### work_modality_boss\n",
    "\n",
    "- H<sub>0</sub>: There is not statistical signifficant difference between boss work modality and employee resign\n",
    "\n",
    "- H<sub>1</sub>: There is statistical signifficant difference between boss work modality and employee resign"
   ]
  },
  {
   "cell_type": "code",
   "execution_count": 24,
   "metadata": {},
   "outputs": [
    {
     "name": "stdout",
     "output_type": "stream",
     "text": [
      "                 test    lambda      chi2  dof      pval    cramer     power\n",
      "0             pearson  1.000000  1.659943  1.0  0.197611  0.027773  0.251507\n",
      "1        cressie-read  0.666667  1.658377  1.0  0.197823  0.027760  0.251315\n",
      "2      log-likelihood  0.000000  1.655912  1.0  0.198156  0.027739  0.251012\n",
      "3       freeman-tukey -0.500000  1.654645  1.0  0.198328  0.027729  0.250857\n",
      "4  mod-log-likelihood -1.000000  1.653876  1.0  0.198432  0.027722  0.250762\n",
      "5              neyman -2.000000  1.653827  1.0  0.198439  0.027722  0.250756\n",
      "--------------------------------------------------------------------------------\n",
      "Failed to reject null hypothesis: There is no statistically significant difference between categories.\n"
     ]
    }
   ],
   "source": [
    "chi2_independence_test(train_df, 'resign', 'work_modality_boss')"
   ]
  },
  {
   "cell_type": "markdown",
   "metadata": {},
   "source": [
    "work_modality_boss has no influence in our target."
   ]
  },
  {
   "cell_type": "code",
   "execution_count": 25,
   "metadata": {},
   "outputs": [],
   "source": [
    "no_infl_cat.append('work_modality_boss')"
   ]
  },
  {
   "cell_type": "markdown",
   "metadata": {},
   "source": [
    "### gender_boss\n",
    "\n",
    "- H<sub>0</sub>: There is not statistical signifficant difference between boss gender and employee resign\n",
    "\n",
    "- H<sub>1</sub>: There is statistical signifficant difference between boss gender and employee resign"
   ]
  },
  {
   "cell_type": "code",
   "execution_count": 26,
   "metadata": {},
   "outputs": [
    {
     "name": "stdout",
     "output_type": "stream",
     "text": [
      "                 test    lambda      chi2  dof      pval    cramer     power\n",
      "0             pearson  1.000000  1.536760  1.0  0.215101  0.026723  0.236357\n",
      "1        cressie-read  0.666667  1.536675  1.0  0.215113  0.026722  0.236347\n",
      "2      log-likelihood  0.000000  1.536571  1.0  0.215129  0.026721  0.236334\n",
      "3       freeman-tukey -0.500000  1.536549  1.0  0.215132  0.026721  0.236331\n",
      "4  mod-log-likelihood -1.000000  1.536576  1.0  0.215128  0.026721  0.236335\n",
      "5              neyman -2.000000  1.536774  1.0  0.215099  0.026723  0.236359\n",
      "--------------------------------------------------------------------------------\n",
      "Failed to reject null hypothesis: There is no statistically significant difference between categories.\n"
     ]
    }
   ],
   "source": [
    "chi2_independence_test(train_df, 'resign', 'gender_boss')"
   ]
  },
  {
   "cell_type": "markdown",
   "metadata": {},
   "source": [
    "gender_boss has no influence in our target"
   ]
  },
  {
   "cell_type": "code",
   "execution_count": 27,
   "metadata": {},
   "outputs": [],
   "source": [
    "no_infl_cat.append('gender_boss')"
   ]
  },
  {
   "cell_type": "markdown",
   "metadata": {},
   "source": [
    "### recruitment_channel_boss\n",
    "\n",
    "- H<sub>0</sub>: There is not statistical signifficant difference between boss recruitment channel and employee resign\n",
    "\n",
    "- H<sub>1</sub>: There is statistical signifficant difference between boss recruitment channel and employee resign"
   ]
  },
  {
   "cell_type": "code",
   "execution_count": 28,
   "metadata": {},
   "outputs": [
    {
     "name": "stdout",
     "output_type": "stream",
     "text": [
      "                 test    lambda      chi2  dof      pval    cramer     power\n",
      "0             pearson  1.000000  0.825301  4.0  0.935024  0.019583  0.094927\n",
      "1        cressie-read  0.666667  0.824912  4.0  0.935077  0.019579  0.094904\n",
      "2      log-likelihood  0.000000  0.824357  4.0  0.935153  0.019572  0.094871\n",
      "3       freeman-tukey -0.500000  0.824137  4.0  0.935183  0.019569  0.094857\n",
      "4  mod-log-likelihood -1.000000  0.824084  4.0  0.935190  0.019569  0.094854\n",
      "5              neyman -2.000000  0.824479  4.0  0.935136  0.019574  0.094878\n",
      "--------------------------------------------------------------------------------\n",
      "Failed to reject null hypothesis: There is no statistically significant difference between categories.\n"
     ]
    }
   ],
   "source": [
    "chi2_independence_test(train_df, 'resign', 'recruitment_channel_boss')"
   ]
  },
  {
   "cell_type": "markdown",
   "metadata": {},
   "source": [
    "recruitment_channel_boss has no influence in our target"
   ]
  },
  {
   "cell_type": "code",
   "execution_count": 29,
   "metadata": {},
   "outputs": [],
   "source": [
    "no_infl_cat.append('recruitment_channel_boss')"
   ]
  },
  {
   "cell_type": "markdown",
   "metadata": {},
   "source": [
    "### marital_estatus_boss\n",
    "\n",
    "- H<sub>0</sub>: There is not statistical signifficant difference between boss marital estatus and employee resign\n",
    "\n",
    "- H<sub>1</sub>: There is statistical signifficant difference between boss marital estatus and employee resign"
   ]
  },
  {
   "cell_type": "code",
   "execution_count": 30,
   "metadata": {},
   "outputs": [
    {
     "name": "stdout",
     "output_type": "stream",
     "text": [
      "                 test    lambda      chi2  dof      pval    cramer     power\n",
      "0             pearson  1.000000  0.896464  3.0  0.826281  0.020410  0.108262\n",
      "1        cressie-read  0.666667  0.896960  3.0  0.826161  0.020416  0.108297\n",
      "2      log-likelihood  0.000000  0.898037  3.0  0.825901  0.020428  0.108373\n",
      "3       freeman-tukey -0.500000  0.898922  3.0  0.825688  0.020438  0.108436\n",
      "4  mod-log-likelihood -1.000000  0.899872  3.0  0.825459  0.020449  0.108503\n",
      "5              neyman -2.000000  0.901970  3.0  0.824952  0.020473  0.108652\n",
      "--------------------------------------------------------------------------------\n",
      "Failed to reject null hypothesis: There is no statistically significant difference between categories.\n"
     ]
    }
   ],
   "source": [
    "chi2_independence_test(train_df, 'resign', 'marital_estatus_boss')"
   ]
  },
  {
   "cell_type": "markdown",
   "metadata": {},
   "source": [
    "marital_estatus_boss has no influence in our target."
   ]
  },
  {
   "cell_type": "code",
   "execution_count": 31,
   "metadata": {},
   "outputs": [],
   "source": [
    "no_infl_cat.append('marital_estatus_boss')"
   ]
  },
  {
   "cell_type": "markdown",
   "metadata": {},
   "source": [
    "### join_year_boss\n",
    "\n",
    "- H<sub>0</sub>: There is not statistical signifficant difference between boss join year and employee resign\n",
    "\n",
    "- H<sub>1</sub>: There is statistical signifficant difference between boss join year and employee resign"
   ]
  },
  {
   "cell_type": "code",
   "execution_count": 32,
   "metadata": {},
   "outputs": [
    {
     "name": "stdout",
     "output_type": "stream",
     "text": [
      "                 test    lambda       chi2   dof      pval    cramer     power\n",
      "0             pearson  1.000000  20.426235  11.0  0.039827  0.097426  0.886328\n",
      "1        cressie-read  0.666667  20.422087  11.0  0.039877  0.097416  0.886250\n",
      "2      log-likelihood  0.000000  20.444204  11.0  0.039608  0.097468  0.886663\n",
      "3       freeman-tukey -0.500000  20.487517  11.0  0.039086  0.097572  0.887468\n",
      "4  mod-log-likelihood -1.000000  20.553948  11.0  0.038298  0.097730  0.888693\n",
      "5              neyman -2.000000  20.757416  11.0  0.035973  0.098212  0.892375\n",
      "--------------------------------------------------------------------------------\n",
      "Failed to reject null hypothesis: There is no statistically significant difference between categories.\n"
     ]
    }
   ],
   "source": [
    "chi2_independence_test(train_df, 'resign', 'join_year_boss')"
   ]
  },
  {
   "cell_type": "markdown",
   "metadata": {},
   "source": [
    "join_year_boss has no influence in our target"
   ]
  },
  {
   "cell_type": "code",
   "execution_count": 33,
   "metadata": {},
   "outputs": [],
   "source": [
    "no_infl_cat.append('join_year_boss')"
   ]
  },
  {
   "cell_type": "markdown",
   "metadata": {},
   "source": [
    "### join_month_boss\n",
    "\n",
    "- H<sub>0</sub>: There is not statistical signifficant difference between boss join month and employee resign\n",
    "\n",
    "- H<sub>1</sub>: There is statistical signifficant difference between boss join month and employee resign"
   ]
  },
  {
   "cell_type": "code",
   "execution_count": 34,
   "metadata": {},
   "outputs": [
    {
     "name": "stdout",
     "output_type": "stream",
     "text": [
      "                 test    lambda       chi2   dof      pval    cramer     power\n",
      "0             pearson  1.000000  14.911043  11.0  0.186606  0.083240  0.738385\n",
      "1        cressie-read  0.666667  14.921631  11.0  0.186113  0.083270  0.738765\n",
      "2      log-likelihood  0.000000  14.953765  11.0  0.184623  0.083359  0.739913\n",
      "3       freeman-tukey -0.500000  14.987542  11.0  0.183068  0.083453  0.741116\n",
      "4  mod-log-likelihood -1.000000  15.029708  11.0  0.181141  0.083571  0.742612\n",
      "5              neyman -2.000000  15.139634  11.0  0.176193  0.083876  0.746485\n",
      "--------------------------------------------------------------------------------\n",
      "Failed to reject null hypothesis: There is no statistically significant difference between categories.\n"
     ]
    }
   ],
   "source": [
    "chi2_independence_test(train_df, 'resign', 'join_month_boss')"
   ]
  },
  {
   "cell_type": "markdown",
   "metadata": {},
   "source": [
    "join_month_boss has no influence in our target"
   ]
  },
  {
   "cell_type": "code",
   "execution_count": 35,
   "metadata": {},
   "outputs": [],
   "source": [
    "no_infl_cat.append('join_month_boss')"
   ]
  },
  {
   "cell_type": "markdown",
   "metadata": {},
   "source": [
    "### performance_boss\n",
    "\n",
    "- H<sub>0</sub>: There is not statistical signifficant difference between boss performance and employee resign\n",
    "\n",
    "- H<sub>1</sub>: There is statistical signifficant difference between boss performance and employee resign"
   ]
  },
  {
   "cell_type": "code",
   "execution_count": 36,
   "metadata": {},
   "outputs": [
    {
     "name": "stdout",
     "output_type": "stream",
     "text": [
      "                 test    lambda      chi2  dof      pval    cramer     power\n",
      "0             pearson  1.000000  3.750363  1.0  0.052796  0.041746  0.490723\n",
      "1        cressie-read  0.666667  3.749348  1.0  0.052828  0.041740  0.490618\n",
      "2      log-likelihood  0.000000  3.747803  1.0  0.052877  0.041732  0.490459\n",
      "3       freeman-tukey -0.500000  3.747067  1.0  0.052900  0.041728  0.490384\n",
      "4  mod-log-likelihood -1.000000  3.746692  1.0  0.052912  0.041726  0.490345\n",
      "5              neyman -2.000000  3.747027  1.0  0.052902  0.041727  0.490380\n",
      "--------------------------------------------------------------------------------\n",
      "Failed to reject null hypothesis: There is no statistically significant difference between categories.\n"
     ]
    }
   ],
   "source": [
    "chi2_independence_test(train_df, 'resign', 'performance_boss')"
   ]
  },
  {
   "cell_type": "markdown",
   "metadata": {},
   "source": [
    "performance_boss has no influence in our target"
   ]
  },
  {
   "cell_type": "code",
   "execution_count": 37,
   "metadata": {},
   "outputs": [],
   "source": [
    "no_infl_cat.append('performance_boss')"
   ]
  },
  {
   "cell_type": "markdown",
   "metadata": {},
   "source": [
    "### joined_after_boss\n",
    "\n",
    "- H<sub>0</sub>: There is not statistical signifficant difference between employees who joined company after boss and employee resign\n",
    "\n",
    "- H<sub>1</sub>: There is statistical signifficant difference between employees who joined company after boss and employee resign"
   ]
  },
  {
   "cell_type": "code",
   "execution_count": 38,
   "metadata": {},
   "outputs": [
    {
     "name": "stdout",
     "output_type": "stream",
     "text": [
      "                 test    lambda      chi2  dof      pval    cramer     power\n",
      "0             pearson  1.000000  3.208977  1.0  0.073235  0.038616  0.433143\n",
      "1        cressie-read  0.666667  3.208975  1.0  0.073235  0.038616  0.433142\n",
      "2      log-likelihood  0.000000  3.209243  1.0  0.073223  0.038617  0.433172\n",
      "3       freeman-tukey -0.500000  3.209683  1.0  0.073204  0.038620  0.433220\n",
      "4  mod-log-likelihood -1.000000  3.210328  1.0  0.073175  0.038624  0.433291\n",
      "5              neyman -2.000000  3.212234  1.0  0.073090  0.038635  0.433500\n",
      "--------------------------------------------------------------------------------\n",
      "Failed to reject null hypothesis: There is no statistically significant difference between categories.\n"
     ]
    }
   ],
   "source": [
    "chi2_independence_test(train_df, 'resign', 'joined_after_boss')"
   ]
  },
  {
   "cell_type": "markdown",
   "metadata": {},
   "source": [
    "joined_after_boss has no influence in our target"
   ]
  },
  {
   "cell_type": "code",
   "execution_count": 39,
   "metadata": {},
   "outputs": [],
   "source": [
    "no_infl_cat.append('joined_after_boss')"
   ]
  },
  {
   "cell_type": "markdown",
   "metadata": {},
   "source": [
    "### younger_than_boss\n",
    "\n",
    "- H<sub>0</sub>: There is not statistical signifficant difference between employees younger than boss and employee resign\n",
    "\n",
    "- H<sub>1</sub>: There is statistical signifficant difference between employees younger than boss and employee resign"
   ]
  },
  {
   "cell_type": "code",
   "execution_count": 40,
   "metadata": {},
   "outputs": [
    {
     "name": "stdout",
     "output_type": "stream",
     "text": [
      "                 test    lambda      chi2  dof      pval    cramer     power\n",
      "0             pearson  1.000000  3.208977  1.0  0.073235  0.038616  0.433143\n",
      "1        cressie-read  0.666667  3.208975  1.0  0.073235  0.038616  0.433142\n",
      "2      log-likelihood  0.000000  3.209243  1.0  0.073223  0.038617  0.433172\n",
      "3       freeman-tukey -0.500000  3.209683  1.0  0.073204  0.038620  0.433220\n",
      "4  mod-log-likelihood -1.000000  3.210328  1.0  0.073175  0.038624  0.433291\n",
      "5              neyman -2.000000  3.212234  1.0  0.073090  0.038635  0.433500\n",
      "--------------------------------------------------------------------------------\n",
      "Failed to reject null hypothesis: There is no statistically significant difference between categories.\n"
     ]
    }
   ],
   "source": [
    "chi2_independence_test(train_df, 'resign', 'younger_than_boss')"
   ]
  },
  {
   "cell_type": "markdown",
   "metadata": {},
   "source": [
    "younger_than_boss has no influence in our target"
   ]
  },
  {
   "cell_type": "code",
   "execution_count": 41,
   "metadata": {},
   "outputs": [],
   "source": [
    "no_infl_cat.append('younger_than_boss')"
   ]
  },
  {
   "cell_type": "code",
   "execution_count": 42,
   "metadata": {},
   "outputs": [
    {
     "name": "stdout",
     "output_type": "stream",
     "text": [
      "Categories considered to discard ['gender_employee', 'join_month_employee', 'work_modality_boss', 'gender_boss', 'recruitment_channel_boss', 'marital_estatus_boss', 'join_year_boss', 'join_month_boss', 'performance_boss', 'joined_after_boss', 'younger_than_boss']\n"
     ]
    }
   ],
   "source": [
    "print(f'Categories considered to discard {no_infl_cat}')"
   ]
  },
  {
   "cell_type": "markdown",
   "metadata": {},
   "source": [
    "## Numerical tests: Kruskal-Wallis tests between numerical features and target."
   ]
  },
  {
   "cell_type": "markdown",
   "metadata": {},
   "source": [
    "### office_distance_employee"
   ]
  },
  {
   "cell_type": "markdown",
   "metadata": {},
   "source": [
    "- H<sub>0</sub>: There is not statistical signifficant difference between employee distance to the office and employee resign\n",
    "\n",
    "- H<sub>1</sub>: There is statistical signifficant difference between employee distance to the office and employee resign"
   ]
  },
  {
   "cell_type": "code",
   "execution_count": 43,
   "metadata": {},
   "outputs": [
    {
     "name": "stdout",
     "output_type": "stream",
     "text": [
      "         Source  ddof1         H     p-unc\n",
      "Kruskal  resign      1  0.215454  0.642526\n",
      "--------------------------------------------------------------------------------\n",
      "Failed to reject null hypothesis: There is no statistically significant difference in office_distance_employee between resign\n"
     ]
    }
   ],
   "source": [
    "kruskal_wallis_test(train_df, 'resign', 'office_distance_employee')"
   ]
  },
  {
   "cell_type": "markdown",
   "metadata": {},
   "source": [
    "distancia_oficina has no influence in our target."
   ]
  },
  {
   "cell_type": "code",
   "execution_count": 44,
   "metadata": {},
   "outputs": [],
   "source": [
    "no_infl_num.append('office_distance_employee')"
   ]
  },
  {
   "cell_type": "markdown",
   "metadata": {},
   "source": [
    "### low_health_days_employee"
   ]
  },
  {
   "cell_type": "markdown",
   "metadata": {},
   "source": [
    "- H<sub>0</sub>: There is not statistical signifficant difference between employee sick days and employee resign\n",
    "\n",
    "- H<sub>1</sub>: There is statistical signifficant difference between employee sick days and employee resign"
   ]
  },
  {
   "cell_type": "code",
   "execution_count": 45,
   "metadata": {},
   "outputs": [
    {
     "name": "stdout",
     "output_type": "stream",
     "text": [
      "         Source  ddof1          H         p-unc\n",
      "Kruskal  resign      1  44.826429  2.152970e-11\n",
      "--------------------------------------------------------------------------------\n",
      "Reject null hypothesis: There is a statistically significant difference in low_health_days_employee between resign.\n"
     ]
    }
   ],
   "source": [
    "kruskal_wallis_test(train_df, 'resign', 'low_health_days_employee')"
   ]
  },
  {
   "cell_type": "markdown",
   "metadata": {},
   "source": [
    "dias_baja_salud has influence in our target"
   ]
  },
  {
   "cell_type": "markdown",
   "metadata": {},
   "source": [
    "### average_permanence_employee"
   ]
  },
  {
   "cell_type": "markdown",
   "metadata": {},
   "source": [
    "- H<sub>0</sub>: There is not statistical signifficant difference between employee average permanence and employee resign\n",
    "\n",
    "- H<sub>1</sub>: There is statistical signifficant difference between employee average permanence and employee resign"
   ]
  },
  {
   "cell_type": "code",
   "execution_count": 46,
   "metadata": {},
   "outputs": [
    {
     "name": "stdout",
     "output_type": "stream",
     "text": [
      "         Source  ddof1         H    p-unc\n",
      "Kruskal  resign      1  0.672763  0.41209\n",
      "--------------------------------------------------------------------------------\n",
      "Failed to reject null hypothesis: There is no statistically significant difference in average_permanence_employee between resign\n"
     ]
    }
   ],
   "source": [
    "kruskal_wallis_test(train_df, 'resign', 'average_permanence_employee')"
   ]
  },
  {
   "cell_type": "markdown",
   "metadata": {},
   "source": [
    "permanencia_promedio has no influence in our target."
   ]
  },
  {
   "cell_type": "code",
   "execution_count": 47,
   "metadata": {},
   "outputs": [],
   "source": [
    "no_infl_num.append('average_permanence_employee')"
   ]
  },
  {
   "cell_type": "markdown",
   "metadata": {},
   "source": [
    "### salary_employee"
   ]
  },
  {
   "cell_type": "markdown",
   "metadata": {},
   "source": [
    "- H<sub>0</sub>: There is not statistical signifficant difference between employee salary and employee resign\n",
    "\n",
    "- H<sub>1</sub>: There is statistical signifficant difference between employee salary and employee resign"
   ]
  },
  {
   "cell_type": "code",
   "execution_count": 48,
   "metadata": {},
   "outputs": [
    {
     "name": "stdout",
     "output_type": "stream",
     "text": [
      "         Source  ddof1         H     p-unc\n",
      "Kruskal  resign      1  0.235091  0.627774\n",
      "--------------------------------------------------------------------------------\n",
      "Failed to reject null hypothesis: There is no statistically significant difference in salary_employee between resign\n"
     ]
    }
   ],
   "source": [
    "kruskal_wallis_test(train_df, 'resign', 'salary_employee')"
   ]
  },
  {
   "cell_type": "markdown",
   "metadata": {},
   "source": [
    "salary_employee has no influence in our target."
   ]
  },
  {
   "cell_type": "code",
   "execution_count": 49,
   "metadata": {},
   "outputs": [],
   "source": [
    "no_infl_num.append('salary_employee')"
   ]
  },
  {
   "cell_type": "markdown",
   "metadata": {},
   "source": [
    "### performance_score_employee"
   ]
  },
  {
   "cell_type": "markdown",
   "metadata": {},
   "source": [
    "- H<sub>0</sub>: There is not statistical signifficant difference between employee performance score and employee resign\n",
    "\n",
    "- H<sub>1</sub>: There is statistical signifficant difference between employee performance score and employee resign"
   ]
  },
  {
   "cell_type": "code",
   "execution_count": 50,
   "metadata": {},
   "outputs": [
    {
     "name": "stdout",
     "output_type": "stream",
     "text": [
      "         Source  ddof1           H         p-unc\n",
      "Kruskal  resign      1  201.720451  8.798300e-46\n",
      "--------------------------------------------------------------------------------\n",
      "Reject null hypothesis: There is a statistically significant difference in performance_score_employee between resign.\n"
     ]
    }
   ],
   "source": [
    "kruskal_wallis_test(train_df, 'resign', 'performance_score_employee')"
   ]
  },
  {
   "cell_type": "markdown",
   "metadata": {},
   "source": [
    "performance_score_employee has influence in our target"
   ]
  },
  {
   "cell_type": "markdown",
   "metadata": {},
   "source": [
    "### psi_score_employee"
   ]
  },
  {
   "cell_type": "markdown",
   "metadata": {},
   "source": [
    "- H<sub>0</sub>: There is not statistical signifficant difference between employee psi score and employee resign\n",
    "\n",
    "- H<sub>1</sub>: There is statistical signifficant difference between employee psi score and employee resign"
   ]
  },
  {
   "cell_type": "code",
   "execution_count": 51,
   "metadata": {},
   "outputs": [
    {
     "name": "stdout",
     "output_type": "stream",
     "text": [
      "         Source  ddof1         H     p-unc\n",
      "Kruskal  resign      1  0.592649  0.441396\n",
      "--------------------------------------------------------------------------------\n",
      "Failed to reject null hypothesis: There is no statistically significant difference in psi_score_employee between resign\n"
     ]
    }
   ],
   "source": [
    "kruskal_wallis_test(train_df, 'resign', 'psi_score_employee')"
   ]
  },
  {
   "cell_type": "markdown",
   "metadata": {},
   "source": [
    "psi_score_employee has no influence in our target"
   ]
  },
  {
   "cell_type": "code",
   "execution_count": 52,
   "metadata": {},
   "outputs": [],
   "source": [
    "no_infl_num.append('psi_score_employee')"
   ]
  },
  {
   "cell_type": "markdown",
   "metadata": {},
   "source": [
    "### join_age_employee"
   ]
  },
  {
   "cell_type": "markdown",
   "metadata": {},
   "source": [
    "- H<sub>0</sub>: There is not statistical signifficant difference between employee age and employee resign\n",
    "\n",
    "- H<sub>1</sub>: There is statistical signifficant difference between employee age and employee resign"
   ]
  },
  {
   "cell_type": "code",
   "execution_count": 53,
   "metadata": {},
   "outputs": [
    {
     "name": "stdout",
     "output_type": "stream",
     "text": [
      "         Source  ddof1         H     p-unc\n",
      "Kruskal  resign      1  0.080111  0.777146\n",
      "--------------------------------------------------------------------------------\n",
      "Failed to reject null hypothesis: There is no statistically significant difference in join_age_employee between resign\n"
     ]
    }
   ],
   "source": [
    "kruskal_wallis_test(train_df, 'resign', 'join_age_employee')"
   ]
  },
  {
   "cell_type": "markdown",
   "metadata": {},
   "source": [
    "join_age_employee has no influence in our target"
   ]
  },
  {
   "cell_type": "code",
   "execution_count": 54,
   "metadata": {},
   "outputs": [],
   "source": [
    "no_infl_num.append('join_age_employee')"
   ]
  },
  {
   "cell_type": "markdown",
   "metadata": {},
   "source": [
    "### office_distance_boss\n",
    "\n",
    "- H<sub>0</sub>: There is not statistical signifficant difference between boss office distance and employee resign\n",
    "\n",
    "- H<sub>1</sub>: There is statistical signifficant difference between boss office distance and employee resign"
   ]
  },
  {
   "cell_type": "code",
   "execution_count": 55,
   "metadata": {},
   "outputs": [
    {
     "name": "stdout",
     "output_type": "stream",
     "text": [
      "         Source  ddof1         H     p-unc\n",
      "Kruskal  resign      1  0.525837  0.468362\n",
      "--------------------------------------------------------------------------------\n",
      "Failed to reject null hypothesis: There is no statistically significant difference in office_distance_boss between resign\n"
     ]
    }
   ],
   "source": [
    "kruskal_wallis_test(train_df, 'resign', 'office_distance_boss')"
   ]
  },
  {
   "cell_type": "markdown",
   "metadata": {},
   "source": [
    "office_distance_boss has no influence in our target"
   ]
  },
  {
   "cell_type": "code",
   "execution_count": 56,
   "metadata": {},
   "outputs": [],
   "source": [
    "no_infl_num.append('office_distance_boss')"
   ]
  },
  {
   "cell_type": "markdown",
   "metadata": {},
   "source": [
    "### low_health_days_boss\n",
    "\n",
    "- H<sub>0</sub>: There is not statistical signifficant difference between boss low health days and employee resign\n",
    "\n",
    "- H<sub>1</sub>: There is statistical signifficant difference between boss low health days and employee resign"
   ]
  },
  {
   "cell_type": "code",
   "execution_count": 57,
   "metadata": {},
   "outputs": [
    {
     "name": "stdout",
     "output_type": "stream",
     "text": [
      "         Source  ddof1         H     p-unc\n",
      "Kruskal  resign      1  3.210622  0.073162\n",
      "--------------------------------------------------------------------------------\n",
      "Failed to reject null hypothesis: There is no statistically significant difference in low_health_days_boss between resign\n"
     ]
    }
   ],
   "source": [
    "kruskal_wallis_test(train_df, 'resign', 'low_health_days_boss')"
   ]
  },
  {
   "cell_type": "markdown",
   "metadata": {},
   "source": [
    "low_health_days_boss has no influence in our target"
   ]
  },
  {
   "cell_type": "code",
   "execution_count": 58,
   "metadata": {},
   "outputs": [],
   "source": [
    "no_infl_num.append('low_health_days_boss')"
   ]
  },
  {
   "cell_type": "markdown",
   "metadata": {},
   "source": [
    "### average_permanence_boss\n",
    "\n",
    "- H<sub>0</sub>: There is not statistical signifficant difference between boss average permanence and employee resign\n",
    "\n",
    "- H<sub>1</sub>: There is statistical signifficant difference between boss average permanence and employee resign"
   ]
  },
  {
   "cell_type": "code",
   "execution_count": 59,
   "metadata": {},
   "outputs": [
    {
     "name": "stdout",
     "output_type": "stream",
     "text": [
      "         Source  ddof1         H     p-unc\n",
      "Kruskal  resign      1  1.500904  0.220532\n",
      "--------------------------------------------------------------------------------\n",
      "Failed to reject null hypothesis: There is no statistically significant difference in average_permanence_boss between resign\n"
     ]
    }
   ],
   "source": [
    "kruskal_wallis_test(train_df, 'resign', 'average_permanence_boss')"
   ]
  },
  {
   "cell_type": "markdown",
   "metadata": {},
   "source": [
    "average_permanence_boss has no influence in our target"
   ]
  },
  {
   "cell_type": "code",
   "execution_count": 60,
   "metadata": {},
   "outputs": [],
   "source": [
    "no_infl_num.append('average_permanence_boss')"
   ]
  },
  {
   "cell_type": "markdown",
   "metadata": {},
   "source": [
    "### salary_boss\n",
    "\n",
    "- H<sub>0</sub>: There is not statistical signifficant difference between boss salary and employee resign\n",
    "\n",
    "- H<sub>1</sub>: There is statistical signifficant difference between boss salary and employee resign"
   ]
  },
  {
   "cell_type": "code",
   "execution_count": 61,
   "metadata": {},
   "outputs": [
    {
     "name": "stdout",
     "output_type": "stream",
     "text": [
      "         Source  ddof1         H     p-unc\n",
      "Kruskal  resign      1  2.380555  0.122854\n",
      "--------------------------------------------------------------------------------\n",
      "Failed to reject null hypothesis: There is no statistically significant difference in salary_boss between resign\n"
     ]
    }
   ],
   "source": [
    "kruskal_wallis_test(train_df, 'resign', 'salary_boss')"
   ]
  },
  {
   "cell_type": "markdown",
   "metadata": {},
   "source": [
    "salary_boss has no influence in our target"
   ]
  },
  {
   "cell_type": "code",
   "execution_count": 62,
   "metadata": {},
   "outputs": [],
   "source": [
    "no_infl_num.append('salary_boss')"
   ]
  },
  {
   "cell_type": "markdown",
   "metadata": {},
   "source": [
    "### performance_score_boss\n",
    "\n",
    "- H<sub>0</sub>: There is not statistical signifficant difference between boss performance score and employee resign\n",
    "\n",
    "- H<sub>1</sub>: There is statistical signifficant difference between boss performance score and employee resign"
   ]
  },
  {
   "cell_type": "code",
   "execution_count": 63,
   "metadata": {},
   "outputs": [
    {
     "name": "stdout",
     "output_type": "stream",
     "text": [
      "         Source  ddof1         H     p-unc\n",
      "Kruskal  resign      1  5.618567  0.017771\n",
      "--------------------------------------------------------------------------------\n",
      "Failed to reject null hypothesis: There is no statistically significant difference in performance_score_boss between resign\n"
     ]
    }
   ],
   "source": [
    "kruskal_wallis_test(train_df, 'resign', 'performance_score_boss')"
   ]
  },
  {
   "cell_type": "markdown",
   "metadata": {},
   "source": [
    "performance_score_boss has no influence in our target"
   ]
  },
  {
   "cell_type": "code",
   "execution_count": 64,
   "metadata": {},
   "outputs": [],
   "source": [
    "no_infl_num.append('performance_score_boss')"
   ]
  },
  {
   "cell_type": "markdown",
   "metadata": {},
   "source": [
    "### psi_score_boss\n",
    "\n",
    "- H<sub>0</sub>: There is not statistical signifficant difference between boss psi score and employee resign\n",
    "\n",
    "- H<sub>1</sub>: There is statistical signifficant difference between boss psi score and employee resign"
   ]
  },
  {
   "cell_type": "code",
   "execution_count": 65,
   "metadata": {},
   "outputs": [
    {
     "name": "stdout",
     "output_type": "stream",
     "text": [
      "         Source  ddof1         H     p-unc\n",
      "Kruskal  resign      1  0.027217  0.868962\n",
      "--------------------------------------------------------------------------------\n",
      "Failed to reject null hypothesis: There is no statistically significant difference in psi_score_boss between resign\n"
     ]
    }
   ],
   "source": [
    "kruskal_wallis_test(train_df, 'resign', 'psi_score_boss')"
   ]
  },
  {
   "cell_type": "markdown",
   "metadata": {},
   "source": [
    "psi_score_boss has no influence in our target"
   ]
  },
  {
   "cell_type": "code",
   "execution_count": 66,
   "metadata": {},
   "outputs": [],
   "source": [
    "no_infl_num.append('psi_score_boss')"
   ]
  },
  {
   "cell_type": "markdown",
   "metadata": {},
   "source": [
    "### join_age_boss\n",
    "\n",
    "- H<sub>0</sub>: There is not statistical signifficant difference between boss join age and employee resign\n",
    "\n",
    "- H<sub>1</sub>: There is statistical signifficant difference between boss join age and employee resign"
   ]
  },
  {
   "cell_type": "code",
   "execution_count": 67,
   "metadata": {},
   "outputs": [
    {
     "name": "stdout",
     "output_type": "stream",
     "text": [
      "         Source  ddof1         H     p-unc\n",
      "Kruskal  resign      1  3.150868  0.075887\n",
      "--------------------------------------------------------------------------------\n",
      "Failed to reject null hypothesis: There is no statistically significant difference in join_age_boss between resign\n"
     ]
    }
   ],
   "source": [
    "kruskal_wallis_test(train_df, 'resign', 'join_age_boss')"
   ]
  },
  {
   "cell_type": "markdown",
   "metadata": {},
   "source": [
    "join_age_boss has no influence in our target"
   ]
  },
  {
   "cell_type": "code",
   "execution_count": 68,
   "metadata": {},
   "outputs": [],
   "source": [
    "no_infl_num.append('join_age_boss')"
   ]
  },
  {
   "cell_type": "markdown",
   "metadata": {},
   "source": [
    "### office_distance_diff\n",
    "\n",
    "- H<sub>0</sub>: There is not statistical signifficant difference between office distance difference between employee and boss and employee resign\n",
    "\n",
    "- H<sub>1</sub>: There is statistical signifficant difference between office distance difference between employee and boss and employee resign"
   ]
  },
  {
   "cell_type": "code",
   "execution_count": 69,
   "metadata": {},
   "outputs": [
    {
     "name": "stdout",
     "output_type": "stream",
     "text": [
      "         Source  ddof1         H   p-unc\n",
      "Kruskal  resign      1  0.422081  0.5159\n",
      "--------------------------------------------------------------------------------\n",
      "Failed to reject null hypothesis: There is no statistically significant difference in office_distance_diff between resign\n"
     ]
    }
   ],
   "source": [
    "kruskal_wallis_test(train_df, 'resign', 'office_distance_diff')"
   ]
  },
  {
   "cell_type": "markdown",
   "metadata": {},
   "source": [
    "office_distance_diff has no influence in our target"
   ]
  },
  {
   "cell_type": "code",
   "execution_count": 70,
   "metadata": {},
   "outputs": [],
   "source": [
    "no_infl_num.append('office_distance_diff')"
   ]
  },
  {
   "cell_type": "markdown",
   "metadata": {},
   "source": [
    "### low_health_days_diff\n",
    "\n",
    "- H<sub>0</sub>: There is not statistical signifficant difference between low health days difference between employee and boss and employee resign\n",
    "\n",
    "- H<sub>1</sub>: There is statistical signifficant difference between low health days difference between employee and boss and employee resign"
   ]
  },
  {
   "cell_type": "code",
   "execution_count": 71,
   "metadata": {},
   "outputs": [
    {
     "name": "stdout",
     "output_type": "stream",
     "text": [
      "         Source  ddof1          H     p-unc\n",
      "Kruskal  resign      1  15.452513  0.000085\n",
      "--------------------------------------------------------------------------------\n",
      "Reject null hypothesis: There is a statistically significant difference in low_health_days_diff between resign.\n"
     ]
    }
   ],
   "source": [
    "kruskal_wallis_test(train_df, 'resign', 'low_health_days_diff')"
   ]
  },
  {
   "cell_type": "markdown",
   "metadata": {},
   "source": [
    "low_health_days_diff has influence in our target"
   ]
  },
  {
   "cell_type": "markdown",
   "metadata": {},
   "source": [
    "### average_permanence_diff\n",
    "\n",
    "- H<sub>0</sub>: There is not statistical signifficant difference between average permanence difference between employee and boss and employee resign\n",
    "\n",
    "- H<sub>1</sub>: There is statistical signifficant difference between average permanence difference between employee and boss and employee resign"
   ]
  },
  {
   "cell_type": "code",
   "execution_count": 72,
   "metadata": {},
   "outputs": [
    {
     "name": "stdout",
     "output_type": "stream",
     "text": [
      "         Source  ddof1         H     p-unc\n",
      "Kruskal  resign      1  0.004402  0.947099\n",
      "--------------------------------------------------------------------------------\n",
      "Failed to reject null hypothesis: There is no statistically significant difference in average_permanence_diff between resign\n"
     ]
    }
   ],
   "source": [
    "kruskal_wallis_test(train_df, 'resign', 'average_permanence_diff')"
   ]
  },
  {
   "cell_type": "markdown",
   "metadata": {},
   "source": [
    "average_permanence_diff has no influence in our target"
   ]
  },
  {
   "cell_type": "code",
   "execution_count": 73,
   "metadata": {},
   "outputs": [],
   "source": [
    "no_infl_num.append('average_permanence_diff')"
   ]
  },
  {
   "cell_type": "markdown",
   "metadata": {},
   "source": [
    "### salary_diff\n",
    "\n",
    "- H<sub>0</sub>: There is not statistical signifficant difference between salary difference between employee and boss and employee resign\n",
    "\n",
    "- H<sub>1</sub>: There is statistical signifficant difference between salary difference between employee and boss and employee resign"
   ]
  },
  {
   "cell_type": "code",
   "execution_count": 74,
   "metadata": {},
   "outputs": [
    {
     "name": "stdout",
     "output_type": "stream",
     "text": [
      "         Source  ddof1         H     p-unc\n",
      "Kruskal  resign      1  4.301208  0.038085\n",
      "--------------------------------------------------------------------------------\n",
      "Failed to reject null hypothesis: There is no statistically significant difference in salary_diff between resign\n"
     ]
    }
   ],
   "source": [
    "kruskal_wallis_test(train_df, 'resign', 'salary_diff')"
   ]
  },
  {
   "cell_type": "markdown",
   "metadata": {},
   "source": [
    "salary_diff has no influence in our target"
   ]
  },
  {
   "cell_type": "code",
   "execution_count": 75,
   "metadata": {},
   "outputs": [],
   "source": [
    "no_infl_num.append('salary_diff')"
   ]
  },
  {
   "cell_type": "markdown",
   "metadata": {},
   "source": [
    "### join_days_diff\n",
    "\n",
    "- H<sub>0</sub>: There is not statistical signifficant difference between join days difference between employee and boss and employee resign\n",
    "\n",
    "- H<sub>1</sub>: There is statistical signifficant difference between join days difference between employee and boss and employee resign"
   ]
  },
  {
   "cell_type": "code",
   "execution_count": 76,
   "metadata": {},
   "outputs": [
    {
     "name": "stdout",
     "output_type": "stream",
     "text": [
      "         Source  ddof1         H     p-unc\n",
      "Kruskal  resign      1  8.617638  0.003329\n",
      "--------------------------------------------------------------------------------\n",
      "Reject null hypothesis: There is a statistically significant difference in join_days_diff between resign.\n"
     ]
    }
   ],
   "source": [
    "kruskal_wallis_test(train_df, 'resign', 'join_days_diff')"
   ]
  },
  {
   "cell_type": "markdown",
   "metadata": {},
   "source": [
    "join_days_diff has influence in our target"
   ]
  },
  {
   "cell_type": "markdown",
   "metadata": {},
   "source": [
    "### age_diff\n",
    "\n",
    "- H<sub>0</sub>: There is not statistical signifficant difference between age difference between employee and boss and employee resign\n",
    "\n",
    "- H<sub>1</sub>: There is statistical signifficant difference between age difference between employee and boss and employee resign"
   ]
  },
  {
   "cell_type": "code",
   "execution_count": 77,
   "metadata": {},
   "outputs": [
    {
     "name": "stdout",
     "output_type": "stream",
     "text": [
      "         Source  ddof1         H    p-unc\n",
      "Kruskal  resign      1  0.299892  0.58395\n",
      "--------------------------------------------------------------------------------\n",
      "Failed to reject null hypothesis: There is no statistically significant difference in age_diff between resign\n"
     ]
    }
   ],
   "source": [
    "kruskal_wallis_test(train_df, 'resign', 'age_diff')"
   ]
  },
  {
   "cell_type": "markdown",
   "metadata": {},
   "source": [
    "age_diff has no influence in our target"
   ]
  },
  {
   "cell_type": "code",
   "execution_count": 78,
   "metadata": {},
   "outputs": [],
   "source": [
    "no_infl_num.append('age_diff')"
   ]
  },
  {
   "cell_type": "markdown",
   "metadata": {},
   "source": [
    "### avg_od_epb\n",
    "\n",
    "- H<sub>0</sub>: There is not statistical signifficant difference between employee average office distance by boss and employee resign\n",
    "\n",
    "- H<sub>1</sub>: There is statistical signifficant difference between employee average office distance by boss and employee resign"
   ]
  },
  {
   "cell_type": "code",
   "execution_count": 80,
   "metadata": {},
   "outputs": [
    {
     "name": "stdout",
     "output_type": "stream",
     "text": [
      "         Source  ddof1        H     p-unc\n",
      "Kruskal  resign      1  0.05205  0.819533\n",
      "--------------------------------------------------------------------------------\n",
      "Failed to reject null hypothesis: There is no statistically significant difference in avg_od_epb between resign\n"
     ]
    }
   ],
   "source": [
    "kruskal_wallis_test(train_df, 'resign', 'avg_od_epb')"
   ]
  },
  {
   "cell_type": "markdown",
   "metadata": {},
   "source": [
    "avg_od_epb has no influence in our target"
   ]
  },
  {
   "cell_type": "code",
   "execution_count": 81,
   "metadata": {},
   "outputs": [],
   "source": [
    "no_infl_num.append('avg_od_epb')"
   ]
  },
  {
   "cell_type": "markdown",
   "metadata": {},
   "source": [
    "### avg_lhd_epb\n",
    "\n",
    "- H<sub>0</sub>: There is not statistical signifficant difference between employee average low health days by boss and employee resign\n",
    "\n",
    "- H<sub>1</sub>: There is statistical signifficant difference between employee average low health days by boss and employee resign"
   ]
  },
  {
   "cell_type": "code",
   "execution_count": 82,
   "metadata": {},
   "outputs": [
    {
     "name": "stdout",
     "output_type": "stream",
     "text": [
      "         Source  ddof1         H     p-unc\n",
      "Kruskal  resign      1  1.251547  0.263257\n",
      "--------------------------------------------------------------------------------\n",
      "Failed to reject null hypothesis: There is no statistically significant difference in avg_lhd_epb between resign\n"
     ]
    }
   ],
   "source": [
    "kruskal_wallis_test(train_df, 'resign', 'avg_lhd_epb')"
   ]
  },
  {
   "cell_type": "markdown",
   "metadata": {},
   "source": [
    "avg_lhd_epb has no influence in our target"
   ]
  },
  {
   "cell_type": "code",
   "execution_count": 83,
   "metadata": {},
   "outputs": [],
   "source": [
    "no_infl_num.append('avg_lhd_epb')"
   ]
  },
  {
   "cell_type": "markdown",
   "metadata": {},
   "source": [
    "### avg_avgp_epb\n",
    "\n",
    "- H<sub>0</sub>: There is not statistical signifficant difference between employee average permanence by boss and employee resign\n",
    "\n",
    "- H<sub>1</sub>: There is statistical signifficant difference between employee average permanence by boss and employee resign"
   ]
  },
  {
   "cell_type": "code",
   "execution_count": 84,
   "metadata": {},
   "outputs": [
    {
     "name": "stdout",
     "output_type": "stream",
     "text": [
      "         Source  ddof1         H     p-unc\n",
      "Kruskal  resign      1  1.807231  0.178841\n",
      "--------------------------------------------------------------------------------\n",
      "Failed to reject null hypothesis: There is no statistically significant difference in avg_avgp_epb between resign\n"
     ]
    }
   ],
   "source": [
    "kruskal_wallis_test(train_df, 'resign', 'avg_avgp_epb')"
   ]
  },
  {
   "cell_type": "markdown",
   "metadata": {},
   "source": [
    "avg_avgp_epb has no influence in our target"
   ]
  },
  {
   "cell_type": "code",
   "execution_count": 88,
   "metadata": {},
   "outputs": [],
   "source": [
    "no_infl_num.append('avg_avgp_epb')"
   ]
  },
  {
   "cell_type": "markdown",
   "metadata": {},
   "source": [
    "### avg_sal_epb\n",
    "\n",
    "- H<sub>0</sub>: There is not statistical signifficant difference between employee average salary by boss and employee resign\n",
    "\n",
    "- H<sub>1</sub>: There is statistical signifficant difference between employee average salary by boss and employee resign"
   ]
  },
  {
   "cell_type": "code",
   "execution_count": 90,
   "metadata": {},
   "outputs": [
    {
     "name": "stdout",
     "output_type": "stream",
     "text": [
      "         Source  ddof1         H     p-unc\n",
      "Kruskal  resign      1  0.040999  0.839539\n",
      "--------------------------------------------------------------------------------\n",
      "Failed to reject null hypothesis: There is no statistically significant difference in avg_sal_epb between resign\n"
     ]
    }
   ],
   "source": [
    "kruskal_wallis_test(train_df, 'resign', 'avg_sal_epb')"
   ]
  },
  {
   "cell_type": "markdown",
   "metadata": {},
   "source": [
    "avg_sal_epb has no influence in our target"
   ]
  },
  {
   "cell_type": "code",
   "execution_count": 91,
   "metadata": {},
   "outputs": [],
   "source": [
    "no_infl_num.append('avg_sal_epb')"
   ]
  },
  {
   "cell_type": "markdown",
   "metadata": {},
   "source": [
    "### avg_ps_epb\n",
    "\n",
    "- H<sub>0</sub>: There is not statistical signifficant difference between employee average performance score by boss and employee resign\n",
    "\n",
    "- H<sub>1</sub>: There is statistical signifficant difference between employee average performance score by boss and employee resign"
   ]
  },
  {
   "cell_type": "code",
   "execution_count": 92,
   "metadata": {},
   "outputs": [
    {
     "name": "stdout",
     "output_type": "stream",
     "text": [
      "         Source  ddof1          H         p-unc\n",
      "Kruskal  resign      1  40.844558  1.648316e-10\n",
      "--------------------------------------------------------------------------------\n",
      "Reject null hypothesis: There is a statistically significant difference in avg_ps_epb between resign.\n"
     ]
    }
   ],
   "source": [
    "kruskal_wallis_test(train_df, 'resign', 'avg_ps_epb')"
   ]
  },
  {
   "cell_type": "markdown",
   "metadata": {},
   "source": [
    "avg_ps_epb has influence in our target"
   ]
  },
  {
   "cell_type": "markdown",
   "metadata": {},
   "source": [
    "### avg_psis_epb\n",
    "\n",
    "- H<sub>0</sub>: There is not statistical signifficant difference between employee average psi score by boss and employee resign\n",
    "\n",
    "- H<sub>1</sub>: There is statistical signifficant difference between employee average psi score by boss and employee resign"
   ]
  },
  {
   "cell_type": "code",
   "execution_count": 93,
   "metadata": {},
   "outputs": [
    {
     "name": "stdout",
     "output_type": "stream",
     "text": [
      "         Source  ddof1        H     p-unc\n",
      "Kruskal  resign      1  0.03522  0.851135\n",
      "--------------------------------------------------------------------------------\n",
      "Failed to reject null hypothesis: There is no statistically significant difference in avg_psis_epb between resign\n"
     ]
    }
   ],
   "source": [
    "kruskal_wallis_test(train_df, 'resign', 'avg_psis_epb')"
   ]
  },
  {
   "cell_type": "markdown",
   "metadata": {},
   "source": [
    "avg_psis_epb has no influence in our target"
   ]
  },
  {
   "cell_type": "code",
   "execution_count": 94,
   "metadata": {},
   "outputs": [],
   "source": [
    "no_infl_num.append('avg_psis_epb')"
   ]
  },
  {
   "cell_type": "markdown",
   "metadata": {},
   "source": [
    "### avg_ja_epb\n",
    "\n",
    "- H<sub>0</sub>: There is not statistical signifficant difference between employee average join age by boss and employee resign\n",
    "\n",
    "- H<sub>1</sub>: There is statistical signifficant difference between employee average join age by boss and employee resign"
   ]
  },
  {
   "cell_type": "code",
   "execution_count": 95,
   "metadata": {},
   "outputs": [
    {
     "name": "stdout",
     "output_type": "stream",
     "text": [
      "         Source  ddof1         H     p-unc\n",
      "Kruskal  resign      1  8.804674  0.003005\n",
      "--------------------------------------------------------------------------------\n",
      "Reject null hypothesis: There is a statistically significant difference in avg_ja_epb between resign.\n"
     ]
    }
   ],
   "source": [
    "kruskal_wallis_test(train_df, 'resign', 'avg_ja_epb')"
   ]
  },
  {
   "cell_type": "markdown",
   "metadata": {},
   "source": [
    "avg_ja_epb has influence in our target"
   ]
  },
  {
   "cell_type": "markdown",
   "metadata": {},
   "source": [
    "### avg_od_bpb\n",
    "\n",
    "- H<sub>0</sub>: There is not statistical signifficant difference between boss average office distance by its boss and employee resign\n",
    "\n",
    "- H<sub>1</sub>: There is statistical signifficant difference between boss average office distance by its boss and employee resign"
   ]
  },
  {
   "cell_type": "code",
   "execution_count": 96,
   "metadata": {},
   "outputs": [
    {
     "name": "stdout",
     "output_type": "stream",
     "text": [
      "         Source  ddof1         H     p-unc\n",
      "Kruskal  resign      1  1.368042  0.242149\n",
      "--------------------------------------------------------------------------------\n",
      "Failed to reject null hypothesis: There is no statistically significant difference in avg_od_bpb between resign\n"
     ]
    }
   ],
   "source": [
    "kruskal_wallis_test(train_df, 'resign', 'avg_od_bpb')"
   ]
  },
  {
   "cell_type": "markdown",
   "metadata": {},
   "source": [
    "avg_od_bpb has no influence in our target"
   ]
  },
  {
   "cell_type": "code",
   "execution_count": 97,
   "metadata": {},
   "outputs": [],
   "source": [
    "no_infl_num.append('avg_od_bpb')"
   ]
  },
  {
   "cell_type": "markdown",
   "metadata": {},
   "source": [
    "### avg_lhd_bpb\n",
    "\n",
    "- H<sub>0</sub>: There is not statistical signifficant difference between boss average low health days by its boss and employee resign\n",
    "\n",
    "- H<sub>1</sub>: There is statistical signifficant difference between boss average low health days by its boss and employee resign"
   ]
  },
  {
   "cell_type": "code",
   "execution_count": 98,
   "metadata": {},
   "outputs": [
    {
     "name": "stdout",
     "output_type": "stream",
     "text": [
      "         Source  ddof1         H     p-unc\n",
      "Kruskal  resign      1  2.707232  0.099894\n",
      "--------------------------------------------------------------------------------\n",
      "Failed to reject null hypothesis: There is no statistically significant difference in avg_lhd_bpb between resign\n"
     ]
    }
   ],
   "source": [
    "kruskal_wallis_test(train_df, 'resign', 'avg_lhd_bpb')"
   ]
  },
  {
   "cell_type": "markdown",
   "metadata": {},
   "source": [
    "avg_lhd_bpb has no influence in our target"
   ]
  },
  {
   "cell_type": "code",
   "execution_count": 99,
   "metadata": {},
   "outputs": [],
   "source": [
    "no_infl_num.append('avg_lhd_bpb')"
   ]
  },
  {
   "cell_type": "markdown",
   "metadata": {},
   "source": [
    "### avg_avgp_bpb\n",
    "\n",
    "- H<sub>0</sub>: There is not statistical signifficant difference between boss average permanence by its boss and employee resign\n",
    "\n",
    "- H<sub>1</sub>: There is statistical signifficant difference between boss average permanence by its boss and employee resign"
   ]
  },
  {
   "cell_type": "code",
   "execution_count": 100,
   "metadata": {},
   "outputs": [
    {
     "name": "stdout",
     "output_type": "stream",
     "text": [
      "         Source  ddof1         H     p-unc\n",
      "Kruskal  resign      1  1.679664  0.194969\n",
      "--------------------------------------------------------------------------------\n",
      "Failed to reject null hypothesis: There is no statistically significant difference in avg_avgp_bpb between resign\n"
     ]
    }
   ],
   "source": [
    "kruskal_wallis_test(train_df, 'resign', 'avg_avgp_bpb')"
   ]
  },
  {
   "cell_type": "markdown",
   "metadata": {},
   "source": [
    "avg_avgp_bpb has no influence in our target"
   ]
  },
  {
   "cell_type": "code",
   "execution_count": 101,
   "metadata": {},
   "outputs": [],
   "source": [
    "no_infl_num.append('avg_avgp_bpb')"
   ]
  },
  {
   "cell_type": "markdown",
   "metadata": {},
   "source": [
    "### avg_sal_bpb\n",
    "\n",
    "- H<sub>0</sub>: There is not statistical signifficant difference between boss average salary by its boss and employee resign\n",
    "\n",
    "- H<sub>1</sub>: There is statistical signifficant difference between boss average salary by its boss and employee resign"
   ]
  },
  {
   "cell_type": "code",
   "execution_count": 102,
   "metadata": {},
   "outputs": [
    {
     "name": "stdout",
     "output_type": "stream",
     "text": [
      "         Source  ddof1        H     p-unc\n",
      "Kruskal  resign      1  1.05641  0.304035\n",
      "--------------------------------------------------------------------------------\n",
      "Failed to reject null hypothesis: There is no statistically significant difference in avg_sal_bpb between resign\n"
     ]
    }
   ],
   "source": [
    "kruskal_wallis_test(train_df, 'resign', 'avg_sal_bpb')"
   ]
  },
  {
   "cell_type": "markdown",
   "metadata": {},
   "source": [
    "avg_sal_bpb has no influence in our target"
   ]
  },
  {
   "cell_type": "code",
   "execution_count": 103,
   "metadata": {},
   "outputs": [],
   "source": [
    "no_infl_num.append('avg_sal_bpb')"
   ]
  },
  {
   "cell_type": "markdown",
   "metadata": {},
   "source": [
    "### avg_ps_bpb\n",
    "\n",
    "- H<sub>0</sub>: There is not statistical signifficant difference between boss average performance score by its boss and employee resign\n",
    "\n",
    "- H<sub>1</sub>: There is statistical signifficant difference between boss average performance score by its boss and employee resign"
   ]
  },
  {
   "cell_type": "code",
   "execution_count": 104,
   "metadata": {},
   "outputs": [
    {
     "name": "stdout",
     "output_type": "stream",
     "text": [
      "         Source  ddof1         H     p-unc\n",
      "Kruskal  resign      1  6.054435  0.013871\n",
      "--------------------------------------------------------------------------------\n",
      "Failed to reject null hypothesis: There is no statistically significant difference in avg_ps_bpb between resign\n"
     ]
    }
   ],
   "source": [
    "kruskal_wallis_test(train_df, 'resign', 'avg_ps_bpb')"
   ]
  },
  {
   "cell_type": "markdown",
   "metadata": {},
   "source": [
    "avg_ps_bpb has no influence in our target"
   ]
  },
  {
   "cell_type": "code",
   "execution_count": 105,
   "metadata": {},
   "outputs": [],
   "source": [
    "no_infl_num.append('avg_ps_bpb')"
   ]
  },
  {
   "cell_type": "markdown",
   "metadata": {},
   "source": [
    "### avg_psis_bpb\n",
    "\n",
    "- H<sub>0</sub>: There is not statistical signifficant difference between boss average psi score by its boss and employee resign\n",
    "\n",
    "- H<sub>1</sub>: There is statistical signifficant difference between boss average psi score by its boss and employee resign"
   ]
  },
  {
   "cell_type": "code",
   "execution_count": 106,
   "metadata": {},
   "outputs": [
    {
     "name": "stdout",
     "output_type": "stream",
     "text": [
      "         Source  ddof1         H     p-unc\n",
      "Kruskal  resign      1  0.253722  0.614466\n",
      "--------------------------------------------------------------------------------\n",
      "Failed to reject null hypothesis: There is no statistically significant difference in avg_psis_bpb between resign\n"
     ]
    }
   ],
   "source": [
    "kruskal_wallis_test(train_df, 'resign', 'avg_psis_bpb')"
   ]
  },
  {
   "cell_type": "markdown",
   "metadata": {},
   "source": [
    "avg_psis_bpb has no influence in our target"
   ]
  },
  {
   "cell_type": "code",
   "execution_count": 107,
   "metadata": {},
   "outputs": [],
   "source": [
    "no_infl_num.append('avg_psis_bpb')"
   ]
  },
  {
   "cell_type": "markdown",
   "metadata": {},
   "source": [
    "### avg_ja_bpb\n",
    "\n",
    "- H<sub>0</sub>: There is not statistical signifficant difference between boss average join age by its boss and employee resign\n",
    "\n",
    "- H<sub>1</sub>: There is statistical signifficant difference between boss average join age by its boss and employee resign"
   ]
  },
  {
   "cell_type": "code",
   "execution_count": 108,
   "metadata": {},
   "outputs": [
    {
     "name": "stdout",
     "output_type": "stream",
     "text": [
      "         Source  ddof1         H     p-unc\n",
      "Kruskal  resign      1  1.746788  0.186281\n",
      "--------------------------------------------------------------------------------\n",
      "Failed to reject null hypothesis: There is no statistically significant difference in avg_ja_bpb between resign\n"
     ]
    }
   ],
   "source": [
    "kruskal_wallis_test(train_df, 'resign', 'avg_ja_bpb')"
   ]
  },
  {
   "cell_type": "markdown",
   "metadata": {},
   "source": [
    "avg_ja_epb has no influence in our target"
   ]
  },
  {
   "cell_type": "code",
   "execution_count": 109,
   "metadata": {},
   "outputs": [],
   "source": [
    "no_infl_num.append('avg_ja_bpb')"
   ]
  },
  {
   "cell_type": "markdown",
   "metadata": {},
   "source": [
    "### boss_employees_in_charge\n",
    "\n",
    "- H<sub>0</sub>: There is not statistical signifficant difference between boss employees and employee resign\n",
    "\n",
    "- H<sub>1</sub>: There is statistical signifficant difference between boss employees and employee resign"
   ]
  },
  {
   "cell_type": "code",
   "execution_count": 110,
   "metadata": {},
   "outputs": [
    {
     "name": "stdout",
     "output_type": "stream",
     "text": [
      "         Source  ddof1         H     p-unc\n",
      "Kruskal  resign      1  2.245334  0.134018\n",
      "--------------------------------------------------------------------------------\n",
      "Failed to reject null hypothesis: There is no statistically significant difference in boss_employees_in_charge between resign\n"
     ]
    }
   ],
   "source": [
    "kruskal_wallis_test(train_df, 'resign', 'boss_employees_in_charge')"
   ]
  },
  {
   "cell_type": "markdown",
   "metadata": {},
   "source": [
    "boss_employees_in_charge has no influence in our target"
   ]
  },
  {
   "cell_type": "code",
   "execution_count": 111,
   "metadata": {},
   "outputs": [],
   "source": [
    "no_infl_num.append('boss_employees_in_charge')"
   ]
  },
  {
   "cell_type": "markdown",
   "metadata": {},
   "source": [
    "### bob_bosses_in_charge\n",
    "\n",
    "- H<sub>0</sub>: There is not statistical signifficant difference between boss of boss bosses in charge and employee resign\n",
    "\n",
    "- H<sub>1</sub>: There is statistical signifficant difference between boss of boss bosses in charge and employee resign"
   ]
  },
  {
   "cell_type": "code",
   "execution_count": 112,
   "metadata": {},
   "outputs": [
    {
     "name": "stdout",
     "output_type": "stream",
     "text": [
      "         Source  ddof1         H     p-unc\n",
      "Kruskal  resign      1  2.280466  0.131013\n",
      "--------------------------------------------------------------------------------\n",
      "Failed to reject null hypothesis: There is no statistically significant difference in bob_bosses_in_charge between resign\n"
     ]
    }
   ],
   "source": [
    "kruskal_wallis_test(train_df, 'resign', 'bob_bosses_in_charge')"
   ]
  },
  {
   "cell_type": "markdown",
   "metadata": {},
   "source": [
    "avg_ja_epb has no influence in our target"
   ]
  },
  {
   "cell_type": "code",
   "execution_count": 113,
   "metadata": {},
   "outputs": [],
   "source": [
    "no_infl_num.append('bob_bosses_in_charge')"
   ]
  },
  {
   "cell_type": "code",
   "execution_count": 114,
   "metadata": {},
   "outputs": [
    {
     "name": "stdout",
     "output_type": "stream",
     "text": [
      "Category features considered to discard ['gender_employee', 'join_month_employee', 'work_modality_boss', 'gender_boss', 'recruitment_channel_boss', 'marital_estatus_boss', 'join_year_boss', 'join_month_boss', 'performance_boss', 'joined_after_boss', 'younger_than_boss']\n",
      "Numerical features considered to discard ['office_distance_employee', 'average_permanence_employee', 'salary_employee', 'psi_score_employee', 'join_age_employee', 'office_distance_boss', 'low_health_days_boss', 'average_permanence_boss', 'salary_boss', 'performance_score_boss', 'psi_score_boss', 'join_age_boss', 'office_distance_diff', 'average_permanence_diff', 'salary_diff', 'age_diff', 'avg_lhd_epb', 'avg_od_epb', 'avg_avgp_epb', 'avg_sal_epb', 'avg_psis_epb', 'avg_od_bpb', 'avg_lhd_bpb', 'avg_avgp_bpb', 'avg_sal_bpb', 'avg_ps_bpb', 'avg_psis_bpb', 'avg_ja_bpb', 'boss_employees_in_charge', 'bob_bosses_in_charge']\n"
     ]
    }
   ],
   "source": [
    "print(f'Category features considered to discard {no_infl_cat}')\n",
    "print(f'Numerical features considered to discard {no_infl_num}')"
   ]
  }
 ],
 "metadata": {
  "kernelspec": {
   "display_name": "Python 3",
   "language": "python",
   "name": "python3"
  },
  "language_info": {
   "codemirror_mode": {
    "name": "ipython",
    "version": 3
   },
   "file_extension": ".py",
   "mimetype": "text/x-python",
   "name": "python",
   "nbconvert_exporter": "python",
   "pygments_lexer": "ipython3",
   "version": "3.9.18"
  }
 },
 "nbformat": 4,
 "nbformat_minor": 2
}
