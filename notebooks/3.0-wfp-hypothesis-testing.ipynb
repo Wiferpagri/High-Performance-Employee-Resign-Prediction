{
 "cells": [
  {
   "cell_type": "markdown",
   "metadata": {},
   "source": [
    "# Hypothesis testing"
   ]
  },
  {
   "cell_type": "markdown",
   "metadata": {},
   "source": [
    "During our exploratory data analysis (EDA), we observed that some features appear to have no relationship with employee resignation. We will test this hypothesis to determine if these features are indeed irrelevant to our target variable, in order to train the model and check its performance with and without those categories.\n",
    "\n",
    "A signifficance value of 0.05 will be used in order to have a 95% confidence interval of influence of the features."
   ]
  },
  {
   "cell_type": "markdown",
   "metadata": {},
   "source": [
    "## Preparing environment"
   ]
  },
  {
   "cell_type": "code",
   "execution_count": 1,
   "metadata": {},
   "outputs": [],
   "source": [
    "import numpy as np\n",
    "import pandas as pd\n",
    "import pingouin\n",
    "import sys\n",
    "sys.path.append('../high_performance_employee_resign_prediction')\n",
    "from utils import paths"
   ]
  },
  {
   "cell_type": "code",
   "execution_count": 21,
   "metadata": {},
   "outputs": [],
   "source": [
    "import warnings\n",
    "warnings.filterwarnings(\"ignore\", category=UserWarning)\n",
    "warnings.filterwarnings(\"ignore\", category=RuntimeWarning)"
   ]
  },
  {
   "cell_type": "markdown",
   "metadata": {},
   "source": [
    "## Importing data"
   ]
  },
  {
   "cell_type": "code",
   "execution_count": 2,
   "metadata": {},
   "outputs": [],
   "source": [
    "train_df = pd.read_csv(paths.data_interim_dir('train_clean.csv'))"
   ]
  },
  {
   "cell_type": "markdown",
   "metadata": {},
   "source": [
    "## Generating hypothesis testing functions"
   ]
  },
  {
   "cell_type": "markdown",
   "metadata": {},
   "source": [
    "### Chi2 independence test"
   ]
  },
  {
   "cell_type": "code",
   "execution_count": 17,
   "metadata": {},
   "outputs": [],
   "source": [
    "def chi2_independence_test(data: pd.DataFrame, main_cat: str, sec_cat: str, alpha=0.05):\n",
    "    \"\"\"\n",
    "    Perform a Chi-square test of independence between two categorical variables.\n",
    "\n",
    "    Parameters:\n",
    "    data (pd.DataFrame): The DataFrame containing the data to be tested.\n",
    "    main_cat (str): The name of the first categorical variable (column).\n",
    "    sec_cat (str): The name of the second categorical variable (column).\n",
    "    alpha (float, optional): The significance level to be used for the test. Defaults to 0.05.\n",
    "\n",
    "    Returns:\n",
    "    None\n",
    "\n",
    "    This function prints the Chi-square test statistics and whether the null hypothesis\n",
    "    of independence between the two categorical variables is rejected or not.\n",
    "\n",
    "    Example:\n",
    "    >>> df = pd.DataFrame({'A': ['a', 'b', 'a', 'b'], 'B': ['x', 'x', 'y', 'y']})\n",
    "    >>> chi2_independence_test(df, 'A', 'B')\n",
    "    \"\"\"\n",
    "    \n",
    "    expected, observed, stats = pingouin.chi2_independence(data=data, x=main_cat, y=sec_cat)\n",
    "    \n",
    "    stats = pd.DataFrame(stats)\n",
    "    \n",
    "    print(stats)\n",
    "    print('-'*80)\n",
    "    \n",
    "    stat_sign = stats['pval'] < alpha\n",
    "    \n",
    "    if stat_sign.any():\n",
    "        print('Reject null hypothesis: There is a statistically significant difference between categories.')\n",
    "    else:\n",
    "        print('Failed to reject null hypothesis: There is no statistically significant difference between categories.')"
   ]
  },
  {
   "cell_type": "markdown",
   "metadata": {},
   "source": [
    "### Kruskal-Wallis test"
   ]
  },
  {
   "cell_type": "code",
   "execution_count": 18,
   "metadata": {},
   "outputs": [],
   "source": [
    "def kruskal_wallis_test(data: pd.DataFrame, cat_feat: str, num_feat: str, alpha=0.05):\n",
    "    \"\"\"\n",
    "    Perform the Kruskal-Wallis H-test for independent samples to determine if there are \n",
    "    statistically significant differences between the groups of a categorical variable \n",
    "    on a continuous variable.\n",
    "\n",
    "    Parameters:\n",
    "    data (pd.DataFrame): The DataFrame containing the data to be tested.\n",
    "    cat_feat (str): The name of the categorical variable (column).\n",
    "    num_feat (str): The name of the numerical variable (column).\n",
    "    alpha (float, optional): The significance level to be used for the test. Defaults to 0.05.\n",
    "\n",
    "    Returns:\n",
    "    None\n",
    "\n",
    "    This function prints the Kruskal-Wallis test results and whether the null hypothesis\n",
    "    of equal medians among groups is rejected or not.\n",
    "\n",
    "    Example:\n",
    "    >>> df = pd.DataFrame({'Category': ['A', 'A', 'B', 'B', 'C', 'C'], 'Values': [5, 6, 7, 8, 9, 10]})\n",
    "    >>> kruskal_wallis_test(df, 'Category', 'Values')\n",
    "    \"\"\"\n",
    "    \n",
    "    results = pingouin.kruskal(data=data, dv=num_feat, between=cat_feat)\n",
    "    \n",
    "    print(results)\n",
    "    print('-'*80)\n",
    "    \n",
    "    if results['p-unc'].iloc[0] < alpha:\n",
    "        print(f'Reject null hypothesis: There is a statistically significant difference in {num_feat} between {cat_feat}.')\n",
    "    else:\n",
    "        print(f'Failed to reject null hypothesis: There is no statistically significant difference in {num_feat} between {cat_feat}')"
   ]
  },
  {
   "cell_type": "code",
   "execution_count": 24,
   "metadata": {},
   "outputs": [],
   "source": [
    "no_infl_cat = []\n",
    "no_infl_num = []"
   ]
  },
  {
   "cell_type": "markdown",
   "metadata": {},
   "source": [
    "## Categorical tests: Chi2 independence tests between categorical features and target."
   ]
  },
  {
   "cell_type": "markdown",
   "metadata": {},
   "source": [
    "### id_ultimo_jefe"
   ]
  },
  {
   "cell_type": "markdown",
   "metadata": {},
   "source": [
    "- H<sub>0</sub>: There is not statistical signifficant difference between bosses and employee resign\n",
    "\n",
    "- H<sub>1</sub>: There is statistical signifficant difference between bosses and employee resign"
   ]
  },
  {
   "cell_type": "code",
   "execution_count": 22,
   "metadata": {},
   "outputs": [
    {
     "name": "stdout",
     "output_type": "stream",
     "text": [
      "                 test    lambda        chi2    dof          pval    cramer  \\\n",
      "0             pearson  1.000000  290.927616  171.0  2.902585e-08  0.367681   \n",
      "1        cressie-read  0.666667  296.670742  171.0  8.362260e-09  0.371293   \n",
      "2      log-likelihood  0.000000  323.194818  171.0  1.832113e-11  0.387535   \n",
      "3       freeman-tukey -0.500000         NaN  171.0           NaN       NaN   \n",
      "4  mod-log-likelihood -1.000000         inf  171.0  0.000000e+00       inf   \n",
      "5              neyman -2.000000         NaN  171.0           NaN       NaN   \n",
      "\n",
      "   power  \n",
      "0    1.0  \n",
      "1    1.0  \n",
      "2    1.0  \n",
      "3    NaN  \n",
      "4    NaN  \n",
      "5    NaN  \n",
      "--------------------------------------------------------------------------------\n",
      "Reject null hypothesis: There is a statistically significant difference between categories.\n"
     ]
    }
   ],
   "source": [
    "chi2_independence_test(train_df, 'abandono_6meses', 'id_ultimo_jefe')"
   ]
  },
  {
   "cell_type": "markdown",
   "metadata": {},
   "source": [
    "id_ultimo_jefe has influence in our target."
   ]
  },
  {
   "cell_type": "markdown",
   "metadata": {},
   "source": [
    "### seniority"
   ]
  },
  {
   "cell_type": "markdown",
   "metadata": {},
   "source": [
    "- H<sub>0</sub>: There is not statistical signifficant difference between seniority and employee resign\n",
    "\n",
    "- H<sub>1</sub>: There is statistical signifficant difference between seniority and employee resign"
   ]
  },
  {
   "cell_type": "code",
   "execution_count": 23,
   "metadata": {},
   "outputs": [
    {
     "name": "stdout",
     "output_type": "stream",
     "text": [
      "                 test    lambda       chi2  dof          pval    cramer  \\\n",
      "0             pearson  1.000000  36.374241  1.0  1.628412e-09  0.130010   \n",
      "1        cressie-read  0.666667  36.565411  1.0  1.476282e-09  0.130351   \n",
      "2      log-likelihood  0.000000  37.810045  1.0  7.797921e-10  0.132551   \n",
      "3       freeman-tukey -0.500000  39.605439  1.0  3.108164e-10  0.135661   \n",
      "4  mod-log-likelihood -1.000000  42.291719  1.0  7.862479e-11  0.140187   \n",
      "5              neyman -2.000000  51.216367  1.0  8.272602e-13  0.154271   \n",
      "\n",
      "      power  \n",
      "0  0.999977  \n",
      "1  0.999978  \n",
      "2  0.999986  \n",
      "3  0.999993  \n",
      "4  0.999997  \n",
      "5  1.000000  \n",
      "--------------------------------------------------------------------------------\n",
      "Reject null hypothesis: There is a statistically significant difference between categories.\n"
     ]
    }
   ],
   "source": [
    "chi2_independence_test(train_df, 'abandono_6meses', 'seniority')"
   ]
  },
  {
   "cell_type": "markdown",
   "metadata": {},
   "source": [
    "seniority has influence in our target."
   ]
  },
  {
   "cell_type": "markdown",
   "metadata": {},
   "source": [
    "### modalidad_trabajo"
   ]
  },
  {
   "cell_type": "markdown",
   "metadata": {},
   "source": [
    "- H<sub>0</sub>: There is not statistical signifficant difference between work modality and employee resign\n",
    "\n",
    "- H<sub>1</sub>: There is statistical signifficant difference between work modality and employee resign"
   ]
  },
  {
   "cell_type": "code",
   "execution_count": 26,
   "metadata": {},
   "outputs": [
    {
     "name": "stdout",
     "output_type": "stream",
     "text": [
      "                 test    lambda      chi2  dof      pval    cramer     power\n",
      "0             pearson  1.000000  7.961430  1.0  0.004778  0.060824  0.805557\n",
      "1        cressie-read  0.666667  7.956675  1.0  0.004791  0.060806  0.805325\n",
      "2      log-likelihood  0.000000  7.950230  1.0  0.004808  0.060781  0.805010\n",
      "3       freeman-tukey -0.500000  7.948070  1.0  0.004814  0.060773  0.804905\n",
      "4  mod-log-likelihood -1.000000  7.948196  1.0  0.004814  0.060773  0.804911\n",
      "5              neyman -2.000000  7.955293  1.0  0.004795  0.060800  0.805258\n",
      "--------------------------------------------------------------------------------\n",
      "Reject null hypothesis: There is a statistically significant difference between categories.\n"
     ]
    }
   ],
   "source": [
    "chi2_independence_test(train_df, 'abandono_6meses', 'modalidad_trabajo')"
   ]
  },
  {
   "cell_type": "markdown",
   "metadata": {},
   "source": [
    "modalidad_trabajo has influence in our target"
   ]
  },
  {
   "cell_type": "markdown",
   "metadata": {},
   "source": [
    "### genero"
   ]
  },
  {
   "cell_type": "markdown",
   "metadata": {},
   "source": [
    "- H<sub>0</sub>: There is not statistical signifficant difference between gender and employee resign\n",
    "\n",
    "- H<sub>1</sub>: There is statistical signifficant difference between gender and employee resign"
   ]
  },
  {
   "cell_type": "code",
   "execution_count": 27,
   "metadata": {},
   "outputs": [
    {
     "name": "stdout",
     "output_type": "stream",
     "text": [
      "                 test    lambda      chi2  dof      pval    cramer     power\n",
      "0             pearson  1.000000  3.902991  1.0  0.048200  0.042587  0.506279\n",
      "1        cressie-read  0.666667  3.903170  1.0  0.048195  0.042588  0.506297\n",
      "2      log-likelihood  0.000000  3.903928  1.0  0.048173  0.042592  0.506373\n",
      "3       freeman-tukey -0.500000  3.904849  1.0  0.048147  0.042597  0.506466\n",
      "4  mod-log-likelihood -1.000000  3.906070  1.0  0.048112  0.042604  0.506589\n",
      "5              neyman -2.000000  3.909419  1.0  0.048016  0.042622  0.506927\n",
      "--------------------------------------------------------------------------------\n",
      "Reject null hypothesis: There is a statistically significant difference between categories.\n"
     ]
    }
   ],
   "source": [
    "chi2_independence_test(train_df, 'abandono_6meses', 'genero')"
   ]
  },
  {
   "cell_type": "markdown",
   "metadata": {},
   "source": [
    "genero has influence in our target."
   ]
  },
  {
   "cell_type": "markdown",
   "metadata": {},
   "source": [
    "### canal_reclutamiento"
   ]
  },
  {
   "cell_type": "markdown",
   "metadata": {},
   "source": [
    "- H<sub>0</sub>: There is not statistical signifficant difference between recruitment channel and employee resign\n",
    "\n",
    "- H<sub>1</sub>: There is statistical signifficant difference between recruitment channel and employee resign"
   ]
  },
  {
   "cell_type": "code",
   "execution_count": 28,
   "metadata": {},
   "outputs": [
    {
     "name": "stdout",
     "output_type": "stream",
     "text": [
      "                 test    lambda       chi2  dof          pval    cramer  \\\n",
      "0             pearson  1.000000  43.645651  4.0  7.600404e-09  0.142413   \n",
      "1        cressie-read  0.666667  43.801927  4.0  7.053200e-09  0.142668   \n",
      "2      log-likelihood  0.000000  44.227223  4.0  5.755041e-09  0.143359   \n",
      "3       freeman-tukey -0.500000  44.649401  4.0  4.702424e-09  0.144041   \n",
      "4  mod-log-likelihood -1.000000  45.165170  4.0  3.673663e-09  0.144871   \n",
      "5              neyman -2.000000  46.500171  4.0  1.937891e-09  0.146996   \n",
      "\n",
      "      power  \n",
      "0  0.999942  \n",
      "1  0.999945  \n",
      "2  0.999951  \n",
      "3  0.999957  \n",
      "4  0.999963  \n",
      "5  0.999976  \n",
      "--------------------------------------------------------------------------------\n",
      "Reject null hypothesis: There is a statistically significant difference between categories.\n"
     ]
    }
   ],
   "source": [
    "chi2_independence_test(train_df, 'abandono_6meses', 'canal_reclutamiento')"
   ]
  },
  {
   "cell_type": "markdown",
   "metadata": {},
   "source": [
    "canal_reclutamiento has influence in our target"
   ]
  },
  {
   "cell_type": "markdown",
   "metadata": {},
   "source": [
    "### estado_civil"
   ]
  },
  {
   "cell_type": "markdown",
   "metadata": {},
   "source": [
    "- H<sub>0</sub>: There is not statistical signifficant difference between marital estatus and employee resign\n",
    "\n",
    "- H<sub>1</sub>: There is statistical signifficant difference between marital estatus and employee resign"
   ]
  },
  {
   "cell_type": "code",
   "execution_count": 29,
   "metadata": {},
   "outputs": [
    {
     "name": "stdout",
     "output_type": "stream",
     "text": [
      "                 test    lambda       chi2  dof      pval    cramer     power\n",
      "0             pearson  1.000000  20.900890  3.0  0.000110  0.098551  0.980173\n",
      "1        cressie-read  0.666667  20.918306  3.0  0.000109  0.098592  0.980261\n",
      "2      log-likelihood  0.000000  20.968675  3.0  0.000107  0.098711  0.980515\n",
      "3       freeman-tukey -0.500000  21.020234  3.0  0.000104  0.098832  0.980771\n",
      "4  mod-log-likelihood -1.000000  21.083810  3.0  0.000101  0.098981  0.981082\n",
      "5              neyman -2.000000  21.247888  3.0  0.000094  0.099366  0.981864\n",
      "--------------------------------------------------------------------------------\n",
      "Reject null hypothesis: There is a statistically significant difference between categories.\n"
     ]
    }
   ],
   "source": [
    "chi2_independence_test(train_df, 'abandono_6meses', 'estado_civil')"
   ]
  },
  {
   "cell_type": "markdown",
   "metadata": {},
   "source": [
    "estado_civil has influence in our target."
   ]
  },
  {
   "cell_type": "markdown",
   "metadata": {},
   "source": [
    "### join_year"
   ]
  },
  {
   "cell_type": "markdown",
   "metadata": {},
   "source": [
    "- H<sub>0</sub>: There is not statistical signifficant difference between year of join and employee resign\n",
    "\n",
    "- H<sub>1</sub>: There is statistical signifficant difference between year of join and employee resign"
   ]
  },
  {
   "cell_type": "code",
   "execution_count": 30,
   "metadata": {},
   "outputs": [
    {
     "name": "stdout",
     "output_type": "stream",
     "text": [
      "                 test    lambda       chi2   dof          pval    cramer  \\\n",
      "0             pearson  1.000000  48.316797  11.0  1.253445e-06  0.149840   \n",
      "1        cressie-read  0.666667  48.351606  11.0  1.235634e-06  0.149894   \n",
      "2      log-likelihood  0.000000  48.619469  11.0  1.106703e-06  0.150309   \n",
      "3       freeman-tukey -0.500000  48.998801  11.0  9.465954e-07  0.150894   \n",
      "4  mod-log-likelihood -1.000000  49.537969  11.0  7.577378e-07  0.151722   \n",
      "5              neyman -2.000000  51.132013  11.0  3.913587e-07  0.154144   \n",
      "\n",
      "      power  \n",
      "0  0.999681  \n",
      "1  0.999684  \n",
      "2  0.999704  \n",
      "3  0.999730  \n",
      "4  0.999764  \n",
      "5  0.999841  \n",
      "--------------------------------------------------------------------------------\n",
      "Reject null hypothesis: There is a statistically significant difference between categories.\n"
     ]
    }
   ],
   "source": [
    "chi2_independence_test(train_df, 'abandono_6meses', 'join_year')"
   ]
  },
  {
   "cell_type": "markdown",
   "metadata": {},
   "source": [
    "join_year has influence in our target"
   ]
  },
  {
   "cell_type": "markdown",
   "metadata": {},
   "source": [
    "### join_month"
   ]
  },
  {
   "cell_type": "markdown",
   "metadata": {},
   "source": [
    "- H<sub>0</sub>: There is not statistical signifficant difference between month of join and employee resign\n",
    "\n",
    "- H<sub>1</sub>: There is statistical signifficant difference between month of join and employee resign"
   ]
  },
  {
   "cell_type": "code",
   "execution_count": 31,
   "metadata": {},
   "outputs": [
    {
     "name": "stdout",
     "output_type": "stream",
     "text": [
      "                 test    lambda      chi2   dof      pval    cramer     power\n",
      "0             pearson  1.000000  7.293563  11.0  0.774836  0.058217  0.379021\n",
      "1        cressie-read  0.666667  7.290816  11.0  0.775067  0.058206  0.378872\n",
      "2      log-likelihood  0.000000  7.289974  11.0  0.775138  0.058203  0.378826\n",
      "3       freeman-tukey -0.500000  7.293408  11.0  0.774849  0.058216  0.379012\n",
      "4  mod-log-likelihood -1.000000  7.300327  11.0  0.774267  0.058244  0.379388\n",
      "5              neyman -2.000000  7.324659  11.0  0.772216  0.058341  0.380710\n",
      "--------------------------------------------------------------------------------\n",
      "Failed to reject null hypothesis: There is no statistically significant difference between categories.\n"
     ]
    }
   ],
   "source": [
    "chi2_independence_test(train_df, 'abandono_6meses', 'join_month')"
   ]
  },
  {
   "cell_type": "markdown",
   "metadata": {},
   "source": [
    "join_month has no influence in our target."
   ]
  },
  {
   "cell_type": "code",
   "execution_count": 32,
   "metadata": {},
   "outputs": [],
   "source": [
    "no_infl_cat.append('join_month')"
   ]
  },
  {
   "cell_type": "markdown",
   "metadata": {},
   "source": [
    "### performance"
   ]
  },
  {
   "cell_type": "markdown",
   "metadata": {},
   "source": [
    "- H<sub>0</sub>: There is not statistical signifficant difference between performance and employee resign\n",
    "\n",
    "- H<sub>1</sub>: There is statistical signifficant difference between performance and employee resign"
   ]
  },
  {
   "cell_type": "code",
   "execution_count": 33,
   "metadata": {},
   "outputs": [
    {
     "name": "stdout",
     "output_type": "stream",
     "text": [
      "                 test    lambda       chi2  dof          pval    cramer  power\n",
      "0             pearson  1.000000  69.057825  1.0  9.561839e-17  0.179137    1.0\n",
      "1        cressie-read  0.666667  69.289208  1.0  8.503360e-17  0.179437    1.0\n",
      "2      log-likelihood  0.000000  69.937619  1.0  6.120989e-17  0.180274    1.0\n",
      "3       freeman-tukey -0.500000  70.592867  1.0  4.391019e-17  0.181117    1.0\n",
      "4  mod-log-likelihood -1.000000  71.400207  1.0  2.916415e-17  0.182150    1.0\n",
      "5              neyman -2.000000  73.503201  1.0  1.004731e-17  0.184813    1.0\n",
      "--------------------------------------------------------------------------------\n",
      "Reject null hypothesis: There is a statistically significant difference between categories.\n"
     ]
    }
   ],
   "source": [
    "chi2_independence_test(train_df, 'abandono_6meses', 'performance')"
   ]
  },
  {
   "cell_type": "markdown",
   "metadata": {},
   "source": [
    "performance has influence in our target."
   ]
  },
  {
   "cell_type": "code",
   "execution_count": 37,
   "metadata": {},
   "outputs": [
    {
     "name": "stdout",
     "output_type": "stream",
     "text": [
      "Categories considered to discard ['join_month']\n"
     ]
    }
   ],
   "source": [
    "print(f'Categories considered to discard {no_infl_cat}')"
   ]
  },
  {
   "cell_type": "markdown",
   "metadata": {},
   "source": [
    "## Numerical tests: Kruskal-Wallis tests between numerical features and target."
   ]
  },
  {
   "cell_type": "markdown",
   "metadata": {},
   "source": [
    "### distancia_oficina"
   ]
  },
  {
   "cell_type": "markdown",
   "metadata": {},
   "source": [
    "- H<sub>0</sub>: There is not statistical signifficant difference between distance to the office and employee resign\n",
    "\n",
    "- H<sub>1</sub>: There is statistical signifficant difference between distance to the office and employee resign"
   ]
  },
  {
   "cell_type": "code",
   "execution_count": 34,
   "metadata": {},
   "outputs": [
    {
     "name": "stdout",
     "output_type": "stream",
     "text": [
      "                  Source  ddof1         H     p-unc\n",
      "Kruskal  abandono_6meses      1  0.215454  0.642526\n",
      "--------------------------------------------------------------------------------\n",
      "Failed to reject null hypothesis: There is no statistically significant difference in distancia_oficina between abandono_6meses\n"
     ]
    }
   ],
   "source": [
    "kruskal_wallis_test(train_df, 'abandono_6meses', 'distancia_oficina')"
   ]
  },
  {
   "cell_type": "markdown",
   "metadata": {},
   "source": [
    "distancia_oficina has no influence in our target."
   ]
  },
  {
   "cell_type": "code",
   "execution_count": 35,
   "metadata": {},
   "outputs": [],
   "source": [
    "no_infl_num.append('distancia_oficina')"
   ]
  },
  {
   "cell_type": "markdown",
   "metadata": {},
   "source": [
    "### dias_baja_salud"
   ]
  },
  {
   "cell_type": "markdown",
   "metadata": {},
   "source": [
    "- H<sub>0</sub>: There is not statistical signifficant difference between sick days and employee resign\n",
    "\n",
    "- H<sub>1</sub>: There is statistical signifficant difference between sick days and employee resign"
   ]
  },
  {
   "cell_type": "code",
   "execution_count": 36,
   "metadata": {},
   "outputs": [
    {
     "name": "stdout",
     "output_type": "stream",
     "text": [
      "                  Source  ddof1          H         p-unc\n",
      "Kruskal  abandono_6meses      1  44.826429  2.152970e-11\n",
      "--------------------------------------------------------------------------------\n",
      "Reject null hypothesis: There is a statistically significant difference in dias_baja_salud between abandono_6meses.\n"
     ]
    }
   ],
   "source": [
    "kruskal_wallis_test(train_df, 'abandono_6meses', 'dias_baja_salud')"
   ]
  },
  {
   "cell_type": "markdown",
   "metadata": {},
   "source": [
    "dias_baja_salud has influence in our target"
   ]
  },
  {
   "cell_type": "markdown",
   "metadata": {},
   "source": [
    "### permanencia_promedio"
   ]
  },
  {
   "cell_type": "markdown",
   "metadata": {},
   "source": [
    "- H<sub>0</sub>: There is not statistical signifficant difference between average permanence and employee resign\n",
    "\n",
    "- H<sub>1</sub>: There is statistical signifficant difference between average permanence and employee resign"
   ]
  },
  {
   "cell_type": "code",
   "execution_count": 38,
   "metadata": {},
   "outputs": [
    {
     "name": "stdout",
     "output_type": "stream",
     "text": [
      "                  Source  ddof1         H    p-unc\n",
      "Kruskal  abandono_6meses      1  0.672763  0.41209\n",
      "--------------------------------------------------------------------------------\n",
      "Failed to reject null hypothesis: There is no statistically significant difference in permanencia_promedio between abandono_6meses\n"
     ]
    }
   ],
   "source": [
    "kruskal_wallis_test(train_df, 'abandono_6meses', 'permanencia_promedio')"
   ]
  },
  {
   "cell_type": "markdown",
   "metadata": {},
   "source": [
    "permanencia_promedio has no influence in our target."
   ]
  },
  {
   "cell_type": "code",
   "execution_count": 39,
   "metadata": {},
   "outputs": [],
   "source": [
    "no_infl_num.append('permanencia_promedio')"
   ]
  },
  {
   "cell_type": "markdown",
   "metadata": {},
   "source": [
    "### salario"
   ]
  },
  {
   "cell_type": "markdown",
   "metadata": {},
   "source": [
    "- H<sub>0</sub>: There is not statistical signifficant difference between salary and employee resign\n",
    "\n",
    "- H<sub>1</sub>: There is statistical signifficant difference between salary and employee resign"
   ]
  },
  {
   "cell_type": "code",
   "execution_count": 40,
   "metadata": {},
   "outputs": [
    {
     "name": "stdout",
     "output_type": "stream",
     "text": [
      "                  Source  ddof1         H     p-unc\n",
      "Kruskal  abandono_6meses      1  0.235091  0.627774\n",
      "--------------------------------------------------------------------------------\n",
      "Failed to reject null hypothesis: There is no statistically significant difference in salario between abandono_6meses\n"
     ]
    }
   ],
   "source": [
    "kruskal_wallis_test(train_df, 'abandono_6meses', 'salario')"
   ]
  },
  {
   "cell_type": "markdown",
   "metadata": {},
   "source": [
    "salario has no influence in our target."
   ]
  },
  {
   "cell_type": "code",
   "execution_count": 41,
   "metadata": {},
   "outputs": [],
   "source": [
    "no_infl_num.append('salario')"
   ]
  },
  {
   "cell_type": "markdown",
   "metadata": {},
   "source": [
    "### performance_score"
   ]
  },
  {
   "cell_type": "markdown",
   "metadata": {},
   "source": [
    "- H<sub>0</sub>: There is not statistical signifficant difference between performance score and employee resign\n",
    "\n",
    "- H<sub>1</sub>: There is statistical signifficant difference between performance score and employee resign"
   ]
  },
  {
   "cell_type": "code",
   "execution_count": 42,
   "metadata": {},
   "outputs": [
    {
     "name": "stdout",
     "output_type": "stream",
     "text": [
      "                  Source  ddof1           H         p-unc\n",
      "Kruskal  abandono_6meses      1  160.008373  1.126728e-36\n",
      "--------------------------------------------------------------------------------\n",
      "Reject null hypothesis: There is a statistically significant difference in performance_score between abandono_6meses.\n"
     ]
    }
   ],
   "source": [
    "kruskal_wallis_test(train_df, 'abandono_6meses', 'performance_score')"
   ]
  },
  {
   "cell_type": "markdown",
   "metadata": {},
   "source": [
    "performance_score has influence in our target"
   ]
  },
  {
   "cell_type": "markdown",
   "metadata": {},
   "source": [
    "### psi_score"
   ]
  },
  {
   "cell_type": "markdown",
   "metadata": {},
   "source": [
    "- H<sub>0</sub>: There is not statistical signifficant difference between psi score and employee resign\n",
    "\n",
    "- H<sub>1</sub>: There is statistical signifficant difference between psi score and employee resign"
   ]
  },
  {
   "cell_type": "code",
   "execution_count": 43,
   "metadata": {},
   "outputs": [
    {
     "name": "stdout",
     "output_type": "stream",
     "text": [
      "                  Source  ddof1         H     p-unc\n",
      "Kruskal  abandono_6meses      1  0.592649  0.441396\n",
      "--------------------------------------------------------------------------------\n",
      "Failed to reject null hypothesis: There is no statistically significant difference in psi_score between abandono_6meses\n"
     ]
    }
   ],
   "source": [
    "kruskal_wallis_test(train_df, 'abandono_6meses', 'psi_score')"
   ]
  },
  {
   "cell_type": "markdown",
   "metadata": {},
   "source": [
    "psi_score has no influence in our target"
   ]
  },
  {
   "cell_type": "code",
   "execution_count": 44,
   "metadata": {},
   "outputs": [],
   "source": [
    "no_infl_num.append('psi_score')"
   ]
  },
  {
   "cell_type": "markdown",
   "metadata": {},
   "source": [
    "### age"
   ]
  },
  {
   "cell_type": "markdown",
   "metadata": {},
   "source": [
    "- H<sub>0</sub>: There is not statistical signifficant difference between age and employee resign\n",
    "\n",
    "- H<sub>1</sub>: There is statistical signifficant difference between age and employee resign"
   ]
  },
  {
   "cell_type": "code",
   "execution_count": 45,
   "metadata": {},
   "outputs": [
    {
     "name": "stdout",
     "output_type": "stream",
     "text": [
      "                  Source  ddof1         H     p-unc\n",
      "Kruskal  abandono_6meses      1  0.080111  0.777146\n",
      "--------------------------------------------------------------------------------\n",
      "Failed to reject null hypothesis: There is no statistically significant difference in age between abandono_6meses\n"
     ]
    }
   ],
   "source": [
    "kruskal_wallis_test(train_df, 'abandono_6meses', 'age')"
   ]
  },
  {
   "cell_type": "markdown",
   "metadata": {},
   "source": [
    "age has no influence in our target"
   ]
  },
  {
   "cell_type": "code",
   "execution_count": 46,
   "metadata": {},
   "outputs": [],
   "source": [
    "no_infl_num.append('age')"
   ]
  },
  {
   "cell_type": "code",
   "execution_count": 47,
   "metadata": {},
   "outputs": [
    {
     "name": "stdout",
     "output_type": "stream",
     "text": [
      "Category features considered to discard ['join_month']\n",
      "Numerical features considered to discard ['distancia_oficina', 'permanencia_promedio', 'salario', 'psi_score', 'age']\n"
     ]
    }
   ],
   "source": [
    "print(f'Category features considered to discard {no_infl_cat}')\n",
    "print(f'Numerical features considered to discard {no_infl_num}')"
   ]
  }
 ],
 "metadata": {
  "kernelspec": {
   "display_name": "Python 3",
   "language": "python",
   "name": "python3"
  },
  "language_info": {
   "codemirror_mode": {
    "name": "ipython",
    "version": 3
   },
   "file_extension": ".py",
   "mimetype": "text/x-python",
   "name": "python",
   "nbconvert_exporter": "python",
   "pygments_lexer": "ipython3",
   "version": "3.9.18"
  }
 },
 "nbformat": 4,
 "nbformat_minor": 2
}
