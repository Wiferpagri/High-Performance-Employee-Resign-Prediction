{
 "cells": [
  {
   "cell_type": "markdown",
   "metadata": {},
   "source": [
    "# Modeling full data\n",
    "\n",
    "Since our full data has many features due to node embeddings, we need to use robust models as XGBoost, Support Vector Machine and a Neural Network. The metric chosen metric for this evaluation is F1-Score because both classes have the same weight"
   ]
  },
  {
   "cell_type": "markdown",
   "metadata": {},
   "source": [
    "## Preparing environment"
   ]
  },
  {
   "cell_type": "code",
   "execution_count": 1,
   "metadata": {},
   "outputs": [],
   "source": [
    "import pandas as pd\n",
    "import numpy as np\n",
    "import sys\n",
    "from sklearn.metrics import f1_score, make_scorer\n",
    "from sklearn.model_selection import KFold, cross_val_score, RandomizedSearchCV\n",
    "from xgboost import XGBClassifier\n",
    "import torch\n",
    "import torch.nn as nn\n",
    "import torch.optim as optim\n",
    "from torch.utils.data import TensorDataset, DataLoader, Subset\n",
    "import optuna\n",
    "sys.path.append('../high_performance_employee_resign_prediction')\n",
    "from utils import paths"
   ]
  },
  {
   "cell_type": "code",
   "execution_count": 2,
   "metadata": {},
   "outputs": [],
   "source": [
    "import warnings\n",
    "warnings.simplefilter(action='ignore', category=FutureWarning)"
   ]
  },
  {
   "cell_type": "markdown",
   "metadata": {},
   "source": [
    "## Importing data"
   ]
  },
  {
   "cell_type": "code",
   "execution_count": 3,
   "metadata": {},
   "outputs": [],
   "source": [
    "train_df = pd.read_csv(paths.data_processed_dir('train_red_processed.csv'))\n",
    "test_df = pd.read_csv(paths.data_processed_dir('test_red_processed.csv'))"
   ]
  },
  {
   "cell_type": "code",
   "execution_count": 4,
   "metadata": {},
   "outputs": [],
   "source": [
    "# Saving id_employee_employee for submission\n",
    "\n",
    "id_col = test_df['id_employee']"
   ]
  },
  {
   "cell_type": "code",
   "execution_count": 5,
   "metadata": {},
   "outputs": [],
   "source": [
    "y = train_df['resign']"
   ]
  },
  {
   "cell_type": "code",
   "execution_count": 6,
   "metadata": {},
   "outputs": [],
   "source": [
    "# Dropping unnecessary columns\n",
    "\n",
    "X = train_df.drop(columns=['id_employee', 'id_last_boss', 'resign'])\n",
    "X_test = test_df.drop(columns=['id_employee', 'id_last_boss'])"
   ]
  },
  {
   "cell_type": "markdown",
   "metadata": {},
   "source": [
    "## Preparing cross validation"
   ]
  },
  {
   "cell_type": "code",
   "execution_count": 7,
   "metadata": {},
   "outputs": [],
   "source": [
    "# Folding data\n",
    "\n",
    "kf = KFold(n_splits=5, shuffle=True, random_state=42)"
   ]
  },
  {
   "cell_type": "markdown",
   "metadata": {},
   "source": [
    "## Evaluating XGBoost Model"
   ]
  },
  {
   "cell_type": "code",
   "execution_count": 8,
   "metadata": {},
   "outputs": [],
   "source": [
    "# Creating base model\n",
    "\n",
    "xgb_base = XGBClassifier(random_state=42, eval_metric='mlogloss')"
   ]
  },
  {
   "cell_type": "code",
   "execution_count": 9,
   "metadata": {},
   "outputs": [
    {
     "data": {
      "text/plain": [
       "array([0.73933649, 0.67027027, 0.70157068, 0.70967742, 0.73607748])"
      ]
     },
     "execution_count": 9,
     "metadata": {},
     "output_type": "execute_result"
    }
   ],
   "source": [
    "# Making cross-validation in xgboost\n",
    "\n",
    "cv_results = cross_val_score(xgb_base, X, y, cv=kf, scoring='f1')\n",
    "cv_results"
   ]
  },
  {
   "cell_type": "markdown",
   "metadata": {},
   "source": [
    "Initial f1 results are good, let's optimize the model with cross-validation"
   ]
  },
  {
   "cell_type": "code",
   "execution_count": 10,
   "metadata": {},
   "outputs": [],
   "source": [
    "# Defining param grid\n",
    "\n",
    "param_dist = {\n",
    "    'n_estimators': [100, 200, 300, 400, 500],\n",
    "    'max_depth': [3, 4, 5, 6, 7],\n",
    "    'learning_rate': [0.01, 0.05, 0.1, 0.2],\n",
    "    'subsample': [0.6, 0.7, 0.8, 0.9, 1.0],\n",
    "    'colsample_bytree': [0.6, 0.7, 0.8, 0.9, 1.0],\n",
    "    'gamma': [0, 0.1, 0.2, 0.3, 0.4, 0.5],\n",
    "    'min_child_weight': [1, 2, 3, 4, 5]\n",
    "}"
   ]
  },
  {
   "cell_type": "code",
   "execution_count": 11,
   "metadata": {},
   "outputs": [],
   "source": [
    "# Defining random search\n",
    "\n",
    "random_search = RandomizedSearchCV(\n",
    "    estimator=xgb_base,\n",
    "    param_distributions=param_dist,\n",
    "    scoring=make_scorer(f1_score),\n",
    "    n_iter=100,  # Number of different combinations to try\n",
    "    cv=kf,\n",
    "    verbose=2,\n",
    "    random_state=42,\n",
    "    n_jobs=-1  # Use all available cores\n",
    ")"
   ]
  },
  {
   "cell_type": "code",
   "execution_count": 12,
   "metadata": {},
   "outputs": [
    {
     "name": "stdout",
     "output_type": "stream",
     "text": [
      "Fitting 5 folds for each of 100 candidates, totalling 500 fits\n"
     ]
    },
    {
     "data": {
      "text/html": [
       "<style>#sk-container-id-1 {color: black;}#sk-container-id-1 pre{padding: 0;}#sk-container-id-1 div.sk-toggleable {background-color: white;}#sk-container-id-1 label.sk-toggleable__label {cursor: pointer;display: block;width: 100%;margin-bottom: 0;padding: 0.3em;box-sizing: border-box;text-align: center;}#sk-container-id-1 label.sk-toggleable__label-arrow:before {content: \"▸\";float: left;margin-right: 0.25em;color: #696969;}#sk-container-id-1 label.sk-toggleable__label-arrow:hover:before {color: black;}#sk-container-id-1 div.sk-estimator:hover label.sk-toggleable__label-arrow:before {color: black;}#sk-container-id-1 div.sk-toggleable__content {max-height: 0;max-width: 0;overflow: hidden;text-align: left;background-color: #f0f8ff;}#sk-container-id-1 div.sk-toggleable__content pre {margin: 0.2em;color: black;border-radius: 0.25em;background-color: #f0f8ff;}#sk-container-id-1 input.sk-toggleable__control:checked~div.sk-toggleable__content {max-height: 200px;max-width: 100%;overflow: auto;}#sk-container-id-1 input.sk-toggleable__control:checked~label.sk-toggleable__label-arrow:before {content: \"▾\";}#sk-container-id-1 div.sk-estimator input.sk-toggleable__control:checked~label.sk-toggleable__label {background-color: #d4ebff;}#sk-container-id-1 div.sk-label input.sk-toggleable__control:checked~label.sk-toggleable__label {background-color: #d4ebff;}#sk-container-id-1 input.sk-hidden--visually {border: 0;clip: rect(1px 1px 1px 1px);clip: rect(1px, 1px, 1px, 1px);height: 1px;margin: -1px;overflow: hidden;padding: 0;position: absolute;width: 1px;}#sk-container-id-1 div.sk-estimator {font-family: monospace;background-color: #f0f8ff;border: 1px dotted black;border-radius: 0.25em;box-sizing: border-box;margin-bottom: 0.5em;}#sk-container-id-1 div.sk-estimator:hover {background-color: #d4ebff;}#sk-container-id-1 div.sk-parallel-item::after {content: \"\";width: 100%;border-bottom: 1px solid gray;flex-grow: 1;}#sk-container-id-1 div.sk-label:hover label.sk-toggleable__label {background-color: #d4ebff;}#sk-container-id-1 div.sk-serial::before {content: \"\";position: absolute;border-left: 1px solid gray;box-sizing: border-box;top: 0;bottom: 0;left: 50%;z-index: 0;}#sk-container-id-1 div.sk-serial {display: flex;flex-direction: column;align-items: center;background-color: white;padding-right: 0.2em;padding-left: 0.2em;position: relative;}#sk-container-id-1 div.sk-item {position: relative;z-index: 1;}#sk-container-id-1 div.sk-parallel {display: flex;align-items: stretch;justify-content: center;background-color: white;position: relative;}#sk-container-id-1 div.sk-item::before, #sk-container-id-1 div.sk-parallel-item::before {content: \"\";position: absolute;border-left: 1px solid gray;box-sizing: border-box;top: 0;bottom: 0;left: 50%;z-index: -1;}#sk-container-id-1 div.sk-parallel-item {display: flex;flex-direction: column;z-index: 1;position: relative;background-color: white;}#sk-container-id-1 div.sk-parallel-item:first-child::after {align-self: flex-end;width: 50%;}#sk-container-id-1 div.sk-parallel-item:last-child::after {align-self: flex-start;width: 50%;}#sk-container-id-1 div.sk-parallel-item:only-child::after {width: 0;}#sk-container-id-1 div.sk-dashed-wrapped {border: 1px dashed gray;margin: 0 0.4em 0.5em 0.4em;box-sizing: border-box;padding-bottom: 0.4em;background-color: white;}#sk-container-id-1 div.sk-label label {font-family: monospace;font-weight: bold;display: inline-block;line-height: 1.2em;}#sk-container-id-1 div.sk-label-container {text-align: center;}#sk-container-id-1 div.sk-container {/* jupyter's `normalize.less` sets `[hidden] { display: none; }` but bootstrap.min.css set `[hidden] { display: none !important; }` so we also need the `!important` here to be able to override the default hidden behavior on the sphinx rendered scikit-learn.org. See: https://github.com/scikit-learn/scikit-learn/issues/21755 */display: inline-block !important;position: relative;}#sk-container-id-1 div.sk-text-repr-fallback {display: none;}</style><div id=\"sk-container-id-1\" class=\"sk-top-container\"><div class=\"sk-text-repr-fallback\"><pre>RandomizedSearchCV(cv=KFold(n_splits=5, random_state=42, shuffle=True),\n",
       "                   estimator=XGBClassifier(base_score=None, booster=None,\n",
       "                                           callbacks=None,\n",
       "                                           colsample_bylevel=None,\n",
       "                                           colsample_bynode=None,\n",
       "                                           colsample_bytree=None, device=None,\n",
       "                                           early_stopping_rounds=None,\n",
       "                                           enable_categorical=False,\n",
       "                                           eval_metric=&#x27;mlogloss&#x27;,\n",
       "                                           feature_types=None, gamma=None,\n",
       "                                           grow_policy=None,\n",
       "                                           importance_t...\n",
       "                                           random_state=42, ...),\n",
       "                   n_iter=100, n_jobs=-1,\n",
       "                   param_distributions={&#x27;colsample_bytree&#x27;: [0.6, 0.7, 0.8, 0.9,\n",
       "                                                             1.0],\n",
       "                                        &#x27;gamma&#x27;: [0, 0.1, 0.2, 0.3, 0.4, 0.5],\n",
       "                                        &#x27;learning_rate&#x27;: [0.01, 0.05, 0.1, 0.2],\n",
       "                                        &#x27;max_depth&#x27;: [3, 4, 5, 6, 7],\n",
       "                                        &#x27;min_child_weight&#x27;: [1, 2, 3, 4, 5],\n",
       "                                        &#x27;n_estimators&#x27;: [100, 200, 300, 400,\n",
       "                                                         500],\n",
       "                                        &#x27;subsample&#x27;: [0.6, 0.7, 0.8, 0.9, 1.0]},\n",
       "                   random_state=42, scoring=make_scorer(f1_score), verbose=2)</pre><b>In a Jupyter environment, please rerun this cell to show the HTML representation or trust the notebook. <br />On GitHub, the HTML representation is unable to render, please try loading this page with nbviewer.org.</b></div><div class=\"sk-container\" hidden><div class=\"sk-item sk-dashed-wrapped\"><div class=\"sk-label-container\"><div class=\"sk-label sk-toggleable\"><input class=\"sk-toggleable__control sk-hidden--visually\" id=\"sk-estimator-id-1\" type=\"checkbox\" ><label for=\"sk-estimator-id-1\" class=\"sk-toggleable__label sk-toggleable__label-arrow\">RandomizedSearchCV</label><div class=\"sk-toggleable__content\"><pre>RandomizedSearchCV(cv=KFold(n_splits=5, random_state=42, shuffle=True),\n",
       "                   estimator=XGBClassifier(base_score=None, booster=None,\n",
       "                                           callbacks=None,\n",
       "                                           colsample_bylevel=None,\n",
       "                                           colsample_bynode=None,\n",
       "                                           colsample_bytree=None, device=None,\n",
       "                                           early_stopping_rounds=None,\n",
       "                                           enable_categorical=False,\n",
       "                                           eval_metric=&#x27;mlogloss&#x27;,\n",
       "                                           feature_types=None, gamma=None,\n",
       "                                           grow_policy=None,\n",
       "                                           importance_t...\n",
       "                                           random_state=42, ...),\n",
       "                   n_iter=100, n_jobs=-1,\n",
       "                   param_distributions={&#x27;colsample_bytree&#x27;: [0.6, 0.7, 0.8, 0.9,\n",
       "                                                             1.0],\n",
       "                                        &#x27;gamma&#x27;: [0, 0.1, 0.2, 0.3, 0.4, 0.5],\n",
       "                                        &#x27;learning_rate&#x27;: [0.01, 0.05, 0.1, 0.2],\n",
       "                                        &#x27;max_depth&#x27;: [3, 4, 5, 6, 7],\n",
       "                                        &#x27;min_child_weight&#x27;: [1, 2, 3, 4, 5],\n",
       "                                        &#x27;n_estimators&#x27;: [100, 200, 300, 400,\n",
       "                                                         500],\n",
       "                                        &#x27;subsample&#x27;: [0.6, 0.7, 0.8, 0.9, 1.0]},\n",
       "                   random_state=42, scoring=make_scorer(f1_score), verbose=2)</pre></div></div></div><div class=\"sk-parallel\"><div class=\"sk-parallel-item\"><div class=\"sk-item\"><div class=\"sk-label-container\"><div class=\"sk-label sk-toggleable\"><input class=\"sk-toggleable__control sk-hidden--visually\" id=\"sk-estimator-id-2\" type=\"checkbox\" ><label for=\"sk-estimator-id-2\" class=\"sk-toggleable__label sk-toggleable__label-arrow\">estimator: XGBClassifier</label><div class=\"sk-toggleable__content\"><pre>XGBClassifier(base_score=None, booster=None, callbacks=None,\n",
       "              colsample_bylevel=None, colsample_bynode=None,\n",
       "              colsample_bytree=None, device=None, early_stopping_rounds=None,\n",
       "              enable_categorical=False, eval_metric=&#x27;mlogloss&#x27;,\n",
       "              feature_types=None, gamma=None, grow_policy=None,\n",
       "              importance_type=None, interaction_constraints=None,\n",
       "              learning_rate=None, max_bin=None, max_cat_threshold=None,\n",
       "              max_cat_to_onehot=None, max_delta_step=None, max_depth=None,\n",
       "              max_leaves=None, min_child_weight=None, missing=nan,\n",
       "              monotone_constraints=None, multi_strategy=None, n_estimators=None,\n",
       "              n_jobs=None, num_parallel_tree=None, random_state=42, ...)</pre></div></div></div><div class=\"sk-serial\"><div class=\"sk-item\"><div class=\"sk-estimator sk-toggleable\"><input class=\"sk-toggleable__control sk-hidden--visually\" id=\"sk-estimator-id-3\" type=\"checkbox\" ><label for=\"sk-estimator-id-3\" class=\"sk-toggleable__label sk-toggleable__label-arrow\">XGBClassifier</label><div class=\"sk-toggleable__content\"><pre>XGBClassifier(base_score=None, booster=None, callbacks=None,\n",
       "              colsample_bylevel=None, colsample_bynode=None,\n",
       "              colsample_bytree=None, device=None, early_stopping_rounds=None,\n",
       "              enable_categorical=False, eval_metric=&#x27;mlogloss&#x27;,\n",
       "              feature_types=None, gamma=None, grow_policy=None,\n",
       "              importance_type=None, interaction_constraints=None,\n",
       "              learning_rate=None, max_bin=None, max_cat_threshold=None,\n",
       "              max_cat_to_onehot=None, max_delta_step=None, max_depth=None,\n",
       "              max_leaves=None, min_child_weight=None, missing=nan,\n",
       "              monotone_constraints=None, multi_strategy=None, n_estimators=None,\n",
       "              n_jobs=None, num_parallel_tree=None, random_state=42, ...)</pre></div></div></div></div></div></div></div></div></div></div>"
      ],
      "text/plain": [
       "RandomizedSearchCV(cv=KFold(n_splits=5, random_state=42, shuffle=True),\n",
       "                   estimator=XGBClassifier(base_score=None, booster=None,\n",
       "                                           callbacks=None,\n",
       "                                           colsample_bylevel=None,\n",
       "                                           colsample_bynode=None,\n",
       "                                           colsample_bytree=None, device=None,\n",
       "                                           early_stopping_rounds=None,\n",
       "                                           enable_categorical=False,\n",
       "                                           eval_metric='mlogloss',\n",
       "                                           feature_types=None, gamma=None,\n",
       "                                           grow_policy=None,\n",
       "                                           importance_t...\n",
       "                                           random_state=42, ...),\n",
       "                   n_iter=100, n_jobs=-1,\n",
       "                   param_distributions={'colsample_bytree': [0.6, 0.7, 0.8, 0.9,\n",
       "                                                             1.0],\n",
       "                                        'gamma': [0, 0.1, 0.2, 0.3, 0.4, 0.5],\n",
       "                                        'learning_rate': [0.01, 0.05, 0.1, 0.2],\n",
       "                                        'max_depth': [3, 4, 5, 6, 7],\n",
       "                                        'min_child_weight': [1, 2, 3, 4, 5],\n",
       "                                        'n_estimators': [100, 200, 300, 400,\n",
       "                                                         500],\n",
       "                                        'subsample': [0.6, 0.7, 0.8, 0.9, 1.0]},\n",
       "                   random_state=42, scoring=make_scorer(f1_score), verbose=2)"
      ]
     },
     "execution_count": 12,
     "metadata": {},
     "output_type": "execute_result"
    }
   ],
   "source": [
    "# Optimizing model\n",
    "\n",
    "random_search.fit(X, y)"
   ]
  },
  {
   "cell_type": "code",
   "execution_count": 13,
   "metadata": {},
   "outputs": [
    {
     "name": "stdout",
     "output_type": "stream",
     "text": [
      "Best parameters found: {'subsample': 1.0, 'n_estimators': 500, 'min_child_weight': 4, 'max_depth': 5, 'learning_rate': 0.1, 'gamma': 0.3, 'colsample_bytree': 0.8}\n",
      "Best cross-validation F1 score: 0.7303542179520053\n"
     ]
    }
   ],
   "source": [
    "print(f\"Best parameters found: {random_search.best_params_}\")\n",
    "print(f\"Best cross-validation F1 score: {random_search.best_score_}\")"
   ]
  },
  {
   "cell_type": "markdown",
   "metadata": {},
   "source": [
    "# Evaluating and optimizing neural network"
   ]
  },
  {
   "cell_type": "code",
   "execution_count": 14,
   "metadata": {},
   "outputs": [],
   "source": [
    "X_train_tensor = torch.from_numpy(X.to_numpy()).float()\n",
    "X_test_tensor = torch.from_numpy(X_test.to_numpy()).float()\n",
    "y_tensor = torch.from_numpy(y.to_numpy()).long()"
   ]
  },
  {
   "cell_type": "code",
   "execution_count": 15,
   "metadata": {},
   "outputs": [],
   "source": [
    "# Defining Neural Network\n",
    "\n",
    "class Net(nn.Module):\n",
    "    def __init__(self, input_size, num_classes, num_layers, hidden_size, dropout_rate, activation_fn):\n",
    "        super(Net, self).__init__()\n",
    "        layers = []\n",
    "        in_size = input_size\n",
    "        \n",
    "        for _ in range(num_layers):\n",
    "            layers.append(nn.Linear(in_size, hidden_size))\n",
    "            layers.append(activation_fn)\n",
    "            layers.append(nn.Dropout(dropout_rate))\n",
    "            in_size = hidden_size\n",
    "        \n",
    "        layers.append(nn.Linear(in_size, num_classes))\n",
    "        self.network = nn.Sequential(*layers)\n",
    "    \n",
    "    def forward(self, x):\n",
    "        return self.network(x)"
   ]
  },
  {
   "cell_type": "markdown",
   "metadata": {},
   "source": [
    "## Defining function to optimize with Optuna"
   ]
  },
  {
   "cell_type": "code",
   "execution_count": 16,
   "metadata": {},
   "outputs": [],
   "source": [
    "# Defining objective function\n",
    "\n",
    "def objective(trial):\n",
    "    # Hyperparameters to tune\n",
    "    num_layers = trial.suggest_int('num_layers', 1, 3)\n",
    "    hidden_size = trial.suggest_int('hidden_size', 32, 256, log=True)\n",
    "    dropout_rate = trial.suggest_uniform('dropout_rate', 0.1, 0.5)\n",
    "    weight_decay = trial.suggest_loguniform('weight_decay', 1e-5, 1e-2)\n",
    "    learning_rate = trial.suggest_loguniform('learning_rate', 1e-4, 1e-1)\n",
    "    batch_size = trial.suggest_categorical('batch_size', [16, 32, 64, 128])\n",
    "    activation_name = trial.suggest_categorical('activation', ['ReLU', 'LeakyReLU', 'ELU'])\n",
    "\n",
    "    # Choose activation function\n",
    "    if activation_name == 'ReLU':\n",
    "        activation_fn = nn.ReLU()\n",
    "    elif activation_name == 'LeakyReLU':\n",
    "        activation_fn = nn.LeakyReLU()\n",
    "    else:\n",
    "        activation_fn = nn.ELU()\n",
    "        \n",
    "    skf = KFold(n_splits=5, shuffle=True, random_state=42)\n",
    "    f1_scores = []\n",
    "    \n",
    "\n",
    "    for train_index, val_index in skf.split(X_train_tensor, y_tensor):\n",
    "        X_train_fold = X_train_tensor[train_index]\n",
    "        y_train_fold = y_tensor[train_index]\n",
    "        X_val_fold = X_train_tensor[val_index]\n",
    "        y_val_fold = y_tensor[val_index]\n",
    "\n",
    "        train_dataset = TensorDataset(X_train_fold, y_train_fold)\n",
    "        val_dataset = TensorDataset(X_val_fold, y_val_fold)\n",
    "\n",
    "        train_loader = DataLoader(train_dataset, batch_size=batch_size, shuffle=True)\n",
    "        val_loader = DataLoader(val_dataset, batch_size=batch_size)\n",
    "\n",
    "        model = Net(input_size=X_train_tensor.shape[1],\n",
    "                    num_classes=2,\n",
    "                    num_layers=num_layers,\n",
    "                    hidden_size=hidden_size,\n",
    "                    dropout_rate=dropout_rate,\n",
    "                    activation_fn=activation_fn)\n",
    "\n",
    "        criterion = nn.CrossEntropyLoss()\n",
    "        optimizer = optim.Adam(model.parameters(), lr=learning_rate, weight_decay=weight_decay)\n",
    "\n",
    "        # Early stopping parameters\n",
    "        best_val_f1 = 0\n",
    "        patience = 10\n",
    "        trigger_times = 0\n",
    "\n",
    "        for epoch in range(50):  # Max epochs\n",
    "            model.train()\n",
    "            for X_batch, y_batch in train_loader:\n",
    "                optimizer.zero_grad()\n",
    "                outputs = model(X_batch)\n",
    "                loss = criterion(outputs, y_batch)\n",
    "                loss.backward()\n",
    "                optimizer.step()\n",
    "\n",
    "            # Validation\n",
    "            model.eval()\n",
    "            all_preds = []\n",
    "            all_labels = []\n",
    "            with torch.no_grad():\n",
    "                for X_batch, y_batch in val_loader:\n",
    "                    outputs = model(X_batch)\n",
    "                    _, predicted = torch.max(outputs.data, 1)\n",
    "                    all_preds.extend(predicted.cpu().numpy())\n",
    "                    all_labels.extend(y_batch.cpu().numpy())\n",
    "\n",
    "            val_f1 = f1_score(all_labels, all_preds, average='binary')\n",
    "\n",
    "            # Early stopping check\n",
    "            if val_f1 > best_val_f1:\n",
    "                best_val_f1 = val_f1\n",
    "                trigger_times = 0\n",
    "            else:\n",
    "                trigger_times += 1\n",
    "                if trigger_times >= patience:\n",
    "                    break  # Early stopping\n",
    "\n",
    "        f1_scores.append(best_val_f1)\n",
    "\n",
    "    # Return the average F1-score across folds\n",
    "    return np.mean(f1_scores)"
   ]
  },
  {
   "cell_type": "code",
   "execution_count": 17,
   "metadata": {},
   "outputs": [
    {
     "name": "stderr",
     "output_type": "stream",
     "text": [
      "[I 2024-09-09 22:17:48,794] A new study created in memory with name: no-name-a93f78c5-71c4-43e6-b523-d71626f6e737\n",
      "[I 2024-09-09 22:18:06,101] Trial 0 finished with value: 0.7233214154371882 and parameters: {'num_layers': 1, 'hidden_size': 56, 'dropout_rate': 0.1759641386783417, 'weight_decay': 0.000828843731613624, 'learning_rate': 0.0003792865555563863, 'batch_size': 32, 'activation': 'ReLU'}. Best is trial 0 with value: 0.7233214154371882.\n",
      "[I 2024-09-09 22:18:49,223] Trial 1 finished with value: 0.7239221345536904 and parameters: {'num_layers': 2, 'hidden_size': 166, 'dropout_rate': 0.42570522730278104, 'weight_decay': 0.00013713208323292637, 'learning_rate': 0.007858025935698024, 'batch_size': 16, 'activation': 'ELU'}. Best is trial 1 with value: 0.7239221345536904.\n",
      "[I 2024-09-09 22:19:00,707] Trial 2 finished with value: 0.6426672339847898 and parameters: {'num_layers': 3, 'hidden_size': 211, 'dropout_rate': 0.24882508201237186, 'weight_decay': 0.00019627164977714374, 'learning_rate': 0.08339665953423955, 'batch_size': 64, 'activation': 'LeakyReLU'}. Best is trial 1 with value: 0.7239221345536904.\n",
      "[I 2024-09-09 22:19:16,629] Trial 3 finished with value: 0.7321786472736106 and parameters: {'num_layers': 2, 'hidden_size': 175, 'dropout_rate': 0.25523073269048646, 'weight_decay': 0.00030400692974805323, 'learning_rate': 0.0010543620309706482, 'batch_size': 128, 'activation': 'ReLU'}. Best is trial 3 with value: 0.7321786472736106.\n",
      "[I 2024-09-09 22:19:24,802] Trial 4 finished with value: 0.6403027972598198 and parameters: {'num_layers': 3, 'hidden_size': 191, 'dropout_rate': 0.4554010578998623, 'weight_decay': 0.0002484107127734871, 'learning_rate': 0.04345562090410708, 'batch_size': 64, 'activation': 'LeakyReLU'}. Best is trial 3 with value: 0.7321786472736106.\n",
      "[I 2024-09-09 22:19:37,172] Trial 5 finished with value: 0.7076318562472281 and parameters: {'num_layers': 2, 'hidden_size': 200, 'dropout_rate': 0.3394940552201572, 'weight_decay': 0.0001727018205366728, 'learning_rate': 0.015750205759669234, 'batch_size': 64, 'activation': 'LeakyReLU'}. Best is trial 3 with value: 0.7321786472736106.\n",
      "[I 2024-09-09 22:19:58,755] Trial 6 finished with value: 0.677671957158776 and parameters: {'num_layers': 2, 'hidden_size': 121, 'dropout_rate': 0.46190245983832867, 'weight_decay': 0.007391946320512821, 'learning_rate': 0.0035161902282651236, 'batch_size': 16, 'activation': 'LeakyReLU'}. Best is trial 3 with value: 0.7321786472736106.\n",
      "[I 2024-09-09 22:20:14,517] Trial 7 finished with value: 0.7266731616049877 and parameters: {'num_layers': 2, 'hidden_size': 176, 'dropout_rate': 0.1468939132999475, 'weight_decay': 0.00038153256120045684, 'learning_rate': 0.000983943257489384, 'batch_size': 64, 'activation': 'ReLU'}. Best is trial 3 with value: 0.7321786472736106.\n",
      "[I 2024-09-09 22:20:26,727] Trial 8 finished with value: 0.6559657038539755 and parameters: {'num_layers': 3, 'hidden_size': 36, 'dropout_rate': 0.3866959694694029, 'weight_decay': 0.006141751847448748, 'learning_rate': 0.012264819221742, 'batch_size': 32, 'activation': 'ReLU'}. Best is trial 3 with value: 0.7321786472736106.\n",
      "[I 2024-09-09 22:20:46,006] Trial 9 finished with value: 0.7414912144679281 and parameters: {'num_layers': 1, 'hidden_size': 60, 'dropout_rate': 0.13049392736488521, 'weight_decay': 0.0019728016410644907, 'learning_rate': 0.0005986529400472455, 'batch_size': 32, 'activation': 'ReLU'}. Best is trial 9 with value: 0.7414912144679281.\n",
      "[I 2024-09-09 22:21:02,756] Trial 10 finished with value: 0.6778586333496067 and parameters: {'num_layers': 1, 'hidden_size': 72, 'dropout_rate': 0.1375936763797955, 'weight_decay': 1.4829461485349002e-05, 'learning_rate': 0.00011298643885533778, 'batch_size': 32, 'activation': 'ELU'}. Best is trial 9 with value: 0.7414912144679281.\n",
      "[I 2024-09-09 22:21:11,221] Trial 11 finished with value: 0.7167317512650581 and parameters: {'num_layers': 1, 'hidden_size': 105, 'dropout_rate': 0.24507849565013934, 'weight_decay': 0.0016076110163946657, 'learning_rate': 0.0008118624877764531, 'batch_size': 128, 'activation': 'ReLU'}. Best is trial 9 with value: 0.7414912144679281.\n",
      "[I 2024-09-09 22:21:19,341] Trial 12 finished with value: 0.6768358106358503 and parameters: {'num_layers': 1, 'hidden_size': 51, 'dropout_rate': 0.10137894448640546, 'weight_decay': 4.2525612595167136e-05, 'learning_rate': 0.00028342908762686375, 'batch_size': 128, 'activation': 'ReLU'}. Best is trial 9 with value: 0.7414912144679281.\n",
      "[I 2024-09-09 22:21:26,811] Trial 13 finished with value: 0.7369777081922874 and parameters: {'num_layers': 1, 'hidden_size': 80, 'dropout_rate': 0.22936526602357504, 'weight_decay': 0.001978246890265235, 'learning_rate': 0.0018676662430132602, 'batch_size': 128, 'activation': 'ReLU'}. Best is trial 9 with value: 0.7414912144679281.\n",
      "[I 2024-09-09 22:21:34,184] Trial 14 finished with value: 0.7429337593287036 and parameters: {'num_layers': 1, 'hidden_size': 79, 'dropout_rate': 0.18768069373693835, 'weight_decay': 0.0024273764551433906, 'learning_rate': 0.002660472020574177, 'batch_size': 128, 'activation': 'ReLU'}. Best is trial 14 with value: 0.7429337593287036.\n",
      "[I 2024-09-09 22:21:49,873] Trial 15 finished with value: 0.7383059961159841 and parameters: {'num_layers': 1, 'hidden_size': 48, 'dropout_rate': 0.18596192874759435, 'weight_decay': 0.0035918784138581025, 'learning_rate': 0.0038785447810605594, 'batch_size': 32, 'activation': 'ReLU'}. Best is trial 14 with value: 0.7429337593287036.\n",
      "[I 2024-09-09 22:21:57,734] Trial 16 finished with value: 0.6639030015676102 and parameters: {'num_layers': 1, 'hidden_size': 32, 'dropout_rate': 0.30357090037938017, 'weight_decay': 0.0008192444435948952, 'learning_rate': 0.0003037490882008854, 'batch_size': 128, 'activation': 'ELU'}. Best is trial 14 with value: 0.7429337593287036.\n",
      "[I 2024-09-09 22:22:11,757] Trial 17 finished with value: 0.6529492451287103 and parameters: {'num_layers': 1, 'hidden_size': 67, 'dropout_rate': 0.19392458593783912, 'weight_decay': 0.0029110918850135874, 'learning_rate': 0.0001226499807285911, 'batch_size': 32, 'activation': 'ReLU'}. Best is trial 14 with value: 0.7429337593287036.\n",
      "[I 2024-09-09 22:22:28,838] Trial 18 finished with value: 0.7367063983910358 and parameters: {'num_layers': 1, 'hidden_size': 96, 'dropout_rate': 0.10675947275212043, 'weight_decay': 0.001009913990637411, 'learning_rate': 0.0022336243445428396, 'batch_size': 16, 'activation': 'ReLU'}. Best is trial 14 with value: 0.7429337593287036.\n",
      "[I 2024-09-09 22:22:58,745] Trial 19 finished with value: 0.7405330581487279 and parameters: {'num_layers': 2, 'hidden_size': 127, 'dropout_rate': 0.30581921709053816, 'weight_decay': 0.008696296113318017, 'learning_rate': 0.0005544385110070253, 'batch_size': 32, 'activation': 'ELU'}. Best is trial 14 with value: 0.7429337593287036.\n",
      "[I 2024-09-09 22:23:03,417] Trial 20 finished with value: 0.7348428888128609 and parameters: {'num_layers': 1, 'hidden_size': 45, 'dropout_rate': 0.20636825945322723, 'weight_decay': 0.0005250735833981841, 'learning_rate': 0.006643679301937182, 'batch_size': 128, 'activation': 'ReLU'}. Best is trial 14 with value: 0.7429337593287036.\n",
      "[I 2024-09-09 22:23:31,483] Trial 21 finished with value: 0.7410306358470795 and parameters: {'num_layers': 2, 'hidden_size': 131, 'dropout_rate': 0.30163356223938026, 'weight_decay': 0.009585837121681125, 'learning_rate': 0.0005374702368988298, 'batch_size': 32, 'activation': 'ELU'}. Best is trial 14 with value: 0.7429337593287036.\n",
      "[I 2024-09-09 22:24:00,921] Trial 22 finished with value: 0.7339588994725793 and parameters: {'num_layers': 3, 'hidden_size': 138, 'dropout_rate': 0.3809998225396276, 'weight_decay': 0.004149159876862086, 'learning_rate': 0.001536325739287134, 'batch_size': 32, 'activation': 'ELU'}. Best is trial 14 with value: 0.7429337593287036.\n",
      "[I 2024-09-09 22:24:37,075] Trial 23 finished with value: 0.7353951354196864 and parameters: {'num_layers': 2, 'hidden_size': 248, 'dropout_rate': 0.14204558910826914, 'weight_decay': 0.0020282171257082534, 'learning_rate': 0.00019412438885175825, 'batch_size': 32, 'activation': 'ELU'}. Best is trial 14 with value: 0.7429337593287036.\n",
      "[I 2024-09-09 22:24:54,876] Trial 24 finished with value: 0.7326650970404227 and parameters: {'num_layers': 1, 'hidden_size': 61, 'dropout_rate': 0.2898332968442707, 'weight_decay': 0.009737465857208465, 'learning_rate': 0.0005915849842638012, 'batch_size': 32, 'activation': 'ELU'}. Best is trial 14 with value: 0.7429337593287036.\n",
      "[I 2024-09-09 22:25:24,451] Trial 25 finished with value: 0.74669117609179 and parameters: {'num_layers': 2, 'hidden_size': 85, 'dropout_rate': 0.3439438078222833, 'weight_decay': 0.004912228884827954, 'learning_rate': 0.000487282319823521, 'batch_size': 32, 'activation': 'ELU'}. Best is trial 25 with value: 0.74669117609179.\n",
      "[I 2024-09-09 22:25:32,631] Trial 26 finished with value: 0.645211880970335 and parameters: {'num_layers': 1, 'hidden_size': 85, 'dropout_rate': 0.49765605479704367, 'weight_decay': 0.0045029421895707925, 'learning_rate': 0.00019489325137559942, 'batch_size': 128, 'activation': 'ReLU'}. Best is trial 25 with value: 0.74669117609179.\n",
      "[I 2024-09-09 22:26:06,852] Trial 27 finished with value: 0.746642206847954 and parameters: {'num_layers': 3, 'hidden_size': 77, 'dropout_rate': 0.15327499214258614, 'weight_decay': 0.0016009671139714985, 'learning_rate': 0.0012721016323356301, 'batch_size': 16, 'activation': 'ELU'}. Best is trial 25 with value: 0.74669117609179.\n",
      "[I 2024-09-09 22:26:40,727] Trial 28 finished with value: 0.7376952588662944 and parameters: {'num_layers': 3, 'hidden_size': 105, 'dropout_rate': 0.34505541620737723, 'weight_decay': 9.793985452714101e-05, 'learning_rate': 0.0048294278220678945, 'batch_size': 16, 'activation': 'ELU'}. Best is trial 25 with value: 0.74669117609179.\n",
      "[I 2024-09-09 22:27:14,453] Trial 29 finished with value: 0.7460142583806941 and parameters: {'num_layers': 3, 'hidden_size': 74, 'dropout_rate': 0.16857397653652292, 'weight_decay': 0.0009373206938825667, 'learning_rate': 0.002358627827910743, 'batch_size': 16, 'activation': 'ELU'}. Best is trial 25 with value: 0.74669117609179.\n",
      "[I 2024-09-09 22:27:46,238] Trial 30 finished with value: 0.7477601301366812 and parameters: {'num_layers': 3, 'hidden_size': 69, 'dropout_rate': 0.16412737752692286, 'weight_decay': 0.0008327157676339546, 'learning_rate': 0.001341368895893073, 'batch_size': 16, 'activation': 'ELU'}. Best is trial 30 with value: 0.7477601301366812.\n",
      "[I 2024-09-09 22:28:24,303] Trial 31 finished with value: 0.7434605264492562 and parameters: {'num_layers': 3, 'hidden_size': 93, 'dropout_rate': 0.16512531583754642, 'weight_decay': 0.0011194862354778003, 'learning_rate': 0.001382203507823936, 'batch_size': 16, 'activation': 'ELU'}. Best is trial 30 with value: 0.7477601301366812.\n",
      "[I 2024-09-09 22:29:01,044] Trial 32 finished with value: 0.74263818012712 and parameters: {'num_layers': 3, 'hidden_size': 69, 'dropout_rate': 0.21631509380946012, 'weight_decay': 0.0006062038422504092, 'learning_rate': 0.0013106767872172929, 'batch_size': 16, 'activation': 'ELU'}. Best is trial 30 with value: 0.7477601301366812.\n",
      "[I 2024-09-09 22:29:30,397] Trial 33 finished with value: 0.7413817104316016 and parameters: {'num_layers': 3, 'hidden_size': 54, 'dropout_rate': 0.16140529133837245, 'weight_decay': 0.0013102345844292903, 'learning_rate': 0.002345462063678168, 'batch_size': 16, 'activation': 'ELU'}. Best is trial 30 with value: 0.7477601301366812.\n",
      "[I 2024-09-09 22:30:14,901] Trial 34 finished with value: 0.7527976161619291 and parameters: {'num_layers': 3, 'hidden_size': 41, 'dropout_rate': 0.2713717321700142, 'weight_decay': 0.0005280908798145974, 'learning_rate': 0.000416949445975649, 'batch_size': 16, 'activation': 'ELU'}. Best is trial 34 with value: 0.7527976161619291.\n",
      "[I 2024-09-09 22:31:01,483] Trial 35 finished with value: 0.751607177518716 and parameters: {'num_layers': 3, 'hidden_size': 40, 'dropout_rate': 0.26563156553636186, 'weight_decay': 0.00049660267415642, 'learning_rate': 0.0003738590130510184, 'batch_size': 16, 'activation': 'ELU'}. Best is trial 34 with value: 0.7527976161619291.\n",
      "[I 2024-09-09 22:31:43,213] Trial 36 finished with value: 0.7544447595934768 and parameters: {'num_layers': 3, 'hidden_size': 41, 'dropout_rate': 0.3314706197782307, 'weight_decay': 8.680208969594677e-05, 'learning_rate': 0.0004105047923459917, 'batch_size': 16, 'activation': 'ELU'}. Best is trial 36 with value: 0.7544447595934768.\n",
      "[I 2024-09-09 22:32:25,232] Trial 37 finished with value: 0.714015814502059 and parameters: {'num_layers': 3, 'hidden_size': 41, 'dropout_rate': 0.27476593436996377, 'weight_decay': 9.974173709791561e-05, 'learning_rate': 0.00018488977123577708, 'batch_size': 16, 'activation': 'LeakyReLU'}. Best is trial 36 with value: 0.7544447595934768.\n",
      "[I 2024-09-09 22:33:07,310] Trial 38 finished with value: 0.7501864742053802 and parameters: {'num_layers': 3, 'hidden_size': 40, 'dropout_rate': 0.26920209476080337, 'weight_decay': 4.8986441699883397e-05, 'learning_rate': 0.00035686004453404265, 'batch_size': 16, 'activation': 'ELU'}. Best is trial 36 with value: 0.7544447595934768.\n",
      "[I 2024-09-09 22:33:52,947] Trial 39 finished with value: 0.7540305064000632 and parameters: {'num_layers': 3, 'hidden_size': 39, 'dropout_rate': 0.32315329325388914, 'weight_decay': 4.020250570759122e-05, 'learning_rate': 0.0003422320733753322, 'batch_size': 16, 'activation': 'ELU'}. Best is trial 36 with value: 0.7544447595934768.\n",
      "[I 2024-09-09 22:34:24,534] Trial 40 finished with value: 0.7354865937932198 and parameters: {'num_layers': 3, 'hidden_size': 32, 'dropout_rate': 0.3769784483868445, 'weight_decay': 2.129894702849138e-05, 'learning_rate': 0.0008417688202695358, 'batch_size': 16, 'activation': 'LeakyReLU'}. Best is trial 36 with value: 0.7544447595934768.\n",
      "[I 2024-09-09 22:35:11,149] Trial 41 finished with value: 0.7523154475775407 and parameters: {'num_layers': 3, 'hidden_size': 40, 'dropout_rate': 0.2715978677499915, 'weight_decay': 4.370392438513817e-05, 'learning_rate': 0.0003458663979973032, 'batch_size': 16, 'activation': 'ELU'}. Best is trial 36 with value: 0.7544447595934768.\n",
      "[I 2024-09-09 22:35:53,364] Trial 42 finished with value: 0.7376468877855131 and parameters: {'num_layers': 3, 'hidden_size': 37, 'dropout_rate': 0.32060440481821956, 'weight_decay': 4.7832520875557474e-05, 'learning_rate': 0.0002501511158639643, 'batch_size': 16, 'activation': 'ELU'}. Best is trial 36 with value: 0.7544447595934768.\n",
      "[I 2024-09-09 22:36:10,980] Trial 43 finished with value: 0.7378261296594897 and parameters: {'num_layers': 3, 'hidden_size': 43, 'dropout_rate': 0.2523235863226707, 'weight_decay': 3.0714216374582976e-05, 'learning_rate': 0.00039460760825580266, 'batch_size': 64, 'activation': 'ELU'}. Best is trial 36 with value: 0.7544447595934768.\n",
      "[I 2024-09-09 22:36:53,770] Trial 44 finished with value: 0.7039673473116366 and parameters: {'num_layers': 3, 'hidden_size': 38, 'dropout_rate': 0.27852017226588266, 'weight_decay': 0.0002480201073619913, 'learning_rate': 0.00014223901714496625, 'batch_size': 16, 'activation': 'ELU'}. Best is trial 36 with value: 0.7544447595934768.\n",
      "[I 2024-09-09 22:37:29,850] Trial 45 finished with value: 0.7502325635917902 and parameters: {'num_layers': 3, 'hidden_size': 47, 'dropout_rate': 0.32653798353338986, 'weight_decay': 7.647733927531344e-05, 'learning_rate': 0.0008121601769985809, 'batch_size': 16, 'activation': 'ELU'}. Best is trial 36 with value: 0.7544447595934768.\n",
      "[I 2024-09-09 22:37:46,479] Trial 46 finished with value: 0.6360492446243896 and parameters: {'num_layers': 3, 'hidden_size': 34, 'dropout_rate': 0.3613180214011189, 'weight_decay': 0.00017049841088670963, 'learning_rate': 0.057839146037147175, 'batch_size': 16, 'activation': 'LeakyReLU'}. Best is trial 36 with value: 0.7544447595934768.\n",
      "[I 2024-09-09 22:37:57,463] Trial 47 finished with value: 0.5965852833194317 and parameters: {'num_layers': 3, 'hidden_size': 51, 'dropout_rate': 0.4139403929911531, 'weight_decay': 1.1226251262832093e-05, 'learning_rate': 0.00010267680922094195, 'batch_size': 64, 'activation': 'ELU'}. Best is trial 36 with value: 0.7544447595934768.\n",
      "[I 2024-09-09 22:38:44,248] Trial 48 finished with value: 0.7436420763357787 and parameters: {'num_layers': 3, 'hidden_size': 59, 'dropout_rate': 0.2389461605372008, 'weight_decay': 0.0003189436619584144, 'learning_rate': 0.00039828374757096404, 'batch_size': 16, 'activation': 'ELU'}. Best is trial 36 with value: 0.7544447595934768.\n",
      "[I 2024-09-09 22:39:30,543] Trial 49 finished with value: 0.7459172485540838 and parameters: {'num_layers': 3, 'hidden_size': 36, 'dropout_rate': 0.26311280203648274, 'weight_decay': 1.992145199995941e-05, 'learning_rate': 0.00027342940546252066, 'batch_size': 16, 'activation': 'ELU'}. Best is trial 36 with value: 0.7544447595934768.\n",
      "[I 2024-09-09 22:39:44,646] Trial 50 finished with value: 0.6931829935467102 and parameters: {'num_layers': 2, 'hidden_size': 43, 'dropout_rate': 0.3247035739552666, 'weight_decay': 6.458482733524574e-05, 'learning_rate': 0.01932944995676775, 'batch_size': 16, 'activation': 'ELU'}. Best is trial 36 with value: 0.7544447595934768.\n",
      "[I 2024-09-09 22:40:23,375] Trial 51 finished with value: 0.7530458025798749 and parameters: {'num_layers': 3, 'hidden_size': 45, 'dropout_rate': 0.3268641234232782, 'weight_decay': 8.60752246908371e-05, 'learning_rate': 0.0007182039931029737, 'batch_size': 16, 'activation': 'ELU'}. Best is trial 36 with value: 0.7544447595934768.\n",
      "[I 2024-09-09 22:41:04,104] Trial 52 finished with value: 0.7563189407508674 and parameters: {'num_layers': 3, 'hidden_size': 40, 'dropout_rate': 0.29116102364918006, 'weight_decay': 3.2174549590753875e-05, 'learning_rate': 0.0007254626761805012, 'batch_size': 16, 'activation': 'ELU'}. Best is trial 52 with value: 0.7563189407508674.\n",
      "[I 2024-09-09 22:41:41,714] Trial 53 finished with value: 0.7522943555145771 and parameters: {'num_layers': 3, 'hidden_size': 49, 'dropout_rate': 0.2882582960288388, 'weight_decay': 3.3895039760867585e-05, 'learning_rate': 0.0007031684080249479, 'batch_size': 16, 'activation': 'ELU'}. Best is trial 52 with value: 0.7563189407508674.\n",
      "[I 2024-09-09 22:42:26,271] Trial 54 finished with value: 0.7351051821948515 and parameters: {'num_layers': 3, 'hidden_size': 35, 'dropout_rate': 0.35559474902421717, 'weight_decay': 0.00014334612445857914, 'learning_rate': 0.00023990718119836182, 'batch_size': 16, 'activation': 'ELU'}. Best is trial 52 with value: 0.7563189407508674.\n",
      "[I 2024-09-09 22:43:07,054] Trial 55 finished with value: 0.7305277981542764 and parameters: {'num_layers': 3, 'hidden_size': 54, 'dropout_rate': 0.31466408968706894, 'weight_decay': 2.5360313532375187e-05, 'learning_rate': 0.0010177596899939659, 'batch_size': 16, 'activation': 'LeakyReLU'}. Best is trial 52 with value: 0.7563189407508674.\n",
      "[I 2024-09-09 22:43:26,984] Trial 56 finished with value: 0.7473389252137947 and parameters: {'num_layers': 3, 'hidden_size': 46, 'dropout_rate': 0.22806220996039556, 'weight_decay': 6.431123805830674e-05, 'learning_rate': 0.0004352631157487786, 'batch_size': 64, 'activation': 'ELU'}. Best is trial 52 with value: 0.7563189407508674.\n",
      "[I 2024-09-09 22:44:04,689] Trial 57 finished with value: 0.7036891680758273 and parameters: {'num_layers': 2, 'hidden_size': 39, 'dropout_rate': 0.41158774106448687, 'weight_decay': 0.00011069058678206514, 'learning_rate': 0.0001575045865760399, 'batch_size': 16, 'activation': 'ELU'}. Best is trial 52 with value: 0.7563189407508674.\n",
      "[I 2024-09-09 22:44:47,402] Trial 58 finished with value: 0.7474200589557997 and parameters: {'num_layers': 3, 'hidden_size': 43, 'dropout_rate': 0.33772666806701895, 'weight_decay': 3.649306276268433e-05, 'learning_rate': 0.0006433430639558388, 'batch_size': 16, 'activation': 'ELU'}. Best is trial 52 with value: 0.7563189407508674.\n",
      "[I 2024-09-09 22:45:34,770] Trial 59 finished with value: 0.7520274402897077 and parameters: {'num_layers': 3, 'hidden_size': 32, 'dropout_rate': 0.2970912037058894, 'weight_decay': 1.694618197049402e-05, 'learning_rate': 0.0003272916938646512, 'batch_size': 16, 'activation': 'ELU'}. Best is trial 52 with value: 0.7563189407508674.\n",
      "[I 2024-09-09 22:46:05,629] Trial 60 finished with value: 0.7481069775719298 and parameters: {'num_layers': 2, 'hidden_size': 34, 'dropout_rate': 0.2839443223986964, 'weight_decay': 5.837344426427538e-05, 'learning_rate': 0.0005132540494828698, 'batch_size': 16, 'activation': 'ELU'}. Best is trial 52 with value: 0.7563189407508674.\n",
      "[I 2024-09-09 22:46:46,343] Trial 61 finished with value: 0.7535842742850398 and parameters: {'num_layers': 3, 'hidden_size': 50, 'dropout_rate': 0.29194623795417424, 'weight_decay': 3.108641453417437e-05, 'learning_rate': 0.0007363391049497798, 'batch_size': 16, 'activation': 'ELU'}. Best is trial 52 with value: 0.7563189407508674.\n",
      "[I 2024-09-09 22:47:24,865] Trial 62 finished with value: 0.7563520676260567 and parameters: {'num_layers': 3, 'hidden_size': 44, 'dropout_rate': 0.31160327929496784, 'weight_decay': 2.7714456583761826e-05, 'learning_rate': 0.0007276798474060238, 'batch_size': 16, 'activation': 'ELU'}. Best is trial 62 with value: 0.7563520676260567.\n",
      "[I 2024-09-09 22:48:02,707] Trial 63 finished with value: 0.7529202662500109 and parameters: {'num_layers': 3, 'hidden_size': 63, 'dropout_rate': 0.31041858506737846, 'weight_decay': 1.2346172339336648e-05, 'learning_rate': 0.0009607231295307745, 'batch_size': 16, 'activation': 'ELU'}. Best is trial 62 with value: 0.7563520676260567.\n",
      "[I 2024-09-09 22:48:35,690] Trial 64 finished with value: 0.7484051507467597 and parameters: {'num_layers': 3, 'hidden_size': 62, 'dropout_rate': 0.310365198708261, 'weight_decay': 2.6489134613249936e-05, 'learning_rate': 0.0010337105657087073, 'batch_size': 16, 'activation': 'ELU'}. Best is trial 62 with value: 0.7563520676260567.\n",
      "[I 2024-09-09 22:49:11,450] Trial 65 finished with value: 0.749423985605904 and parameters: {'num_layers': 3, 'hidden_size': 56, 'dropout_rate': 0.3669272231469361, 'weight_decay': 1.0523141798527405e-05, 'learning_rate': 0.0016959611530610653, 'batch_size': 16, 'activation': 'ELU'}. Best is trial 62 with value: 0.7563520676260567.\n",
      "[I 2024-09-09 22:49:24,999] Trial 66 finished with value: 0.7425814100834789 and parameters: {'num_layers': 3, 'hidden_size': 52, 'dropout_rate': 0.3339885195681067, 'weight_decay': 1.5376850511286544e-05, 'learning_rate': 0.0007661932450090379, 'batch_size': 128, 'activation': 'ELU'}. Best is trial 62 with value: 0.7563520676260567.\n",
      "[I 2024-09-09 22:49:53,064] Trial 67 finished with value: 0.7420918187108261 and parameters: {'num_layers': 3, 'hidden_size': 45, 'dropout_rate': 0.3020513149283402, 'weight_decay': 1.2713176882270077e-05, 'learning_rate': 0.003161812940211493, 'batch_size': 16, 'activation': 'ELU'}. Best is trial 62 with value: 0.7563520676260567.\n",
      "[I 2024-09-09 22:50:12,775] Trial 68 finished with value: 0.7440815082193869 and parameters: {'num_layers': 3, 'hidden_size': 64, 'dropout_rate': 0.34392105766692943, 'weight_decay': 7.842237053219052e-05, 'learning_rate': 0.0006111769060312733, 'batch_size': 64, 'activation': 'ELU'}. Best is trial 62 with value: 0.7563520676260567.\n",
      "[I 2024-09-09 22:50:52,117] Trial 69 finished with value: 0.733639129700125 and parameters: {'num_layers': 3, 'hidden_size': 49, 'dropout_rate': 0.29308437476149857, 'weight_decay': 2.100700660578759e-05, 'learning_rate': 0.001012292019875963, 'batch_size': 16, 'activation': 'LeakyReLU'}. Best is trial 62 with value: 0.7563520676260567.\n",
      "[I 2024-09-09 22:51:23,204] Trial 70 finished with value: 0.7450219028056109 and parameters: {'num_layers': 3, 'hidden_size': 56, 'dropout_rate': 0.3995615737929238, 'weight_decay': 2.6987097207047707e-05, 'learning_rate': 0.0017642471694288538, 'batch_size': 16, 'activation': 'ELU'}. Best is trial 62 with value: 0.7563520676260567.\n",
      "[I 2024-09-09 22:52:03,225] Trial 71 finished with value: 0.7535445520741648 and parameters: {'num_layers': 3, 'hidden_size': 43, 'dropout_rate': 0.31394416273003317, 'weight_decay': 3.434549854097183e-05, 'learning_rate': 0.0004920575821334832, 'batch_size': 16, 'activation': 'ELU'}. Best is trial 62 with value: 0.7563520676260567.\n",
      "[I 2024-09-09 22:52:45,107] Trial 72 finished with value: 0.757470790865014 and parameters: {'num_layers': 3, 'hidden_size': 44, 'dropout_rate': 0.3100113509274515, 'weight_decay': 3.9188916442533357e-05, 'learning_rate': 0.0005216467129404721, 'batch_size': 16, 'activation': 'ELU'}. Best is trial 72 with value: 0.757470790865014.\n",
      "[I 2024-09-09 22:53:28,352] Trial 73 finished with value: 0.7524351019264612 and parameters: {'num_layers': 3, 'hidden_size': 44, 'dropout_rate': 0.3507650474119873, 'weight_decay': 3.653060194792645e-05, 'learning_rate': 0.0005095041673827289, 'batch_size': 16, 'activation': 'ELU'}. Best is trial 72 with value: 0.757470790865014.\n",
      "[I 2024-09-09 22:54:04,778] Trial 74 finished with value: 0.7539677665801309 and parameters: {'num_layers': 3, 'hidden_size': 37, 'dropout_rate': 0.3297583937519253, 'weight_decay': 5.528827927634995e-05, 'learning_rate': 0.000673398354295357, 'batch_size': 16, 'activation': 'ELU'}. Best is trial 72 with value: 0.757470790865014.\n",
      "[I 2024-09-09 22:54:49,944] Trial 75 finished with value: 0.7512275961010141 and parameters: {'num_layers': 3, 'hidden_size': 35, 'dropout_rate': 0.37342894273459504, 'weight_decay': 5.4154446348765806e-05, 'learning_rate': 0.0004952749270765636, 'batch_size': 16, 'activation': 'ELU'}. Best is trial 72 with value: 0.757470790865014.\n",
      "[I 2024-09-09 22:55:36,308] Trial 76 finished with value: 0.7234218524537447 and parameters: {'num_layers': 3, 'hidden_size': 38, 'dropout_rate': 0.33290508532698204, 'weight_decay': 4.418179358379751e-05, 'learning_rate': 0.00023053895800576857, 'batch_size': 16, 'activation': 'ReLU'}. Best is trial 72 with value: 0.757470790865014.\n",
      "[I 2024-09-09 22:55:50,163] Trial 77 finished with value: 0.7381909453464475 and parameters: {'num_layers': 3, 'hidden_size': 42, 'dropout_rate': 0.3166732189768073, 'weight_decay': 2.975675501848137e-05, 'learning_rate': 0.0006176842528680032, 'batch_size': 128, 'activation': 'ELU'}. Best is trial 72 with value: 0.757470790865014.\n",
      "[I 2024-09-09 22:56:41,426] Trial 78 finished with value: 0.7512239127710955 and parameters: {'num_layers': 3, 'hidden_size': 48, 'dropout_rate': 0.30052734656657226, 'weight_decay': 3.881719035595805e-05, 'learning_rate': 0.0002892535102713718, 'batch_size': 16, 'activation': 'ELU'}. Best is trial 72 with value: 0.757470790865014.\n",
      "[I 2024-09-09 22:57:25,981] Trial 79 finished with value: 0.7423241885439591 and parameters: {'num_layers': 3, 'hidden_size': 155, 'dropout_rate': 0.2821324577184986, 'weight_decay': 2.334619865437468e-05, 'learning_rate': 0.001167311646095143, 'batch_size': 16, 'activation': 'ELU'}. Best is trial 72 with value: 0.757470790865014.\n",
      "[I 2024-09-09 22:58:05,645] Trial 80 finished with value: 0.7534017451613306 and parameters: {'num_layers': 3, 'hidden_size': 38, 'dropout_rate': 0.2599159739548408, 'weight_decay': 1.853593794659785e-05, 'learning_rate': 0.0008535915369246467, 'batch_size': 16, 'activation': 'ELU'}. Best is trial 72 with value: 0.757470790865014.\n",
      "[I 2024-09-09 22:58:43,846] Trial 81 finished with value: 0.7550065066893146 and parameters: {'num_layers': 3, 'hidden_size': 38, 'dropout_rate': 0.26026047814697817, 'weight_decay': 1.7679519362431874e-05, 'learning_rate': 0.0008196607153617257, 'batch_size': 16, 'activation': 'ELU'}. Best is trial 72 with value: 0.757470790865014.\n",
      "[I 2024-09-09 22:59:27,428] Trial 82 finished with value: 0.7517256013783078 and parameters: {'num_layers': 3, 'hidden_size': 34, 'dropout_rate': 0.2931153124068974, 'weight_decay': 3.0712112208145844e-05, 'learning_rate': 0.0005612207377923001, 'batch_size': 16, 'activation': 'ELU'}. Best is trial 72 with value: 0.757470790865014.\n",
      "[I 2024-09-09 23:00:14,615] Trial 83 finished with value: 0.7540672262866757 and parameters: {'num_layers': 3, 'hidden_size': 37, 'dropout_rate': 0.24407797021130093, 'weight_decay': 5.410025577025239e-05, 'learning_rate': 0.0004526491235733034, 'batch_size': 16, 'activation': 'ELU'}. Best is trial 72 with value: 0.757470790865014.\n",
      "[I 2024-09-09 23:01:04,952] Trial 84 finished with value: 0.7477624325545357 and parameters: {'num_layers': 3, 'hidden_size': 37, 'dropout_rate': 0.24334080174666817, 'weight_decay': 5.312773403085958e-05, 'learning_rate': 0.000443732414379008, 'batch_size': 16, 'activation': 'ELU'}. Best is trial 72 with value: 0.757470790865014.\n",
      "[I 2024-09-09 23:01:36,357] Trial 85 finished with value: 0.7507767814140546 and parameters: {'num_layers': 3, 'hidden_size': 36, 'dropout_rate': 0.20620406033090452, 'weight_decay': 7.233107351233893e-05, 'learning_rate': 0.000872541850395717, 'batch_size': 16, 'activation': 'ELU'}. Best is trial 72 with value: 0.757470790865014.\n",
      "[I 2024-09-09 23:02:02,483] Trial 86 finished with value: 0.7291011744019489 and parameters: {'num_layers': 3, 'hidden_size': 32, 'dropout_rate': 0.23248568375053683, 'weight_decay': 0.00012872093536809727, 'learning_rate': 0.0003160454189238772, 'batch_size': 32, 'activation': 'ReLU'}. Best is trial 72 with value: 0.757470790865014.\n",
      "[I 2024-09-09 23:02:37,270] Trial 87 finished with value: 0.7519212859195006 and parameters: {'num_layers': 3, 'hidden_size': 41, 'dropout_rate': 0.25495209466586055, 'weight_decay': 4.2188387928600935e-05, 'learning_rate': 0.0007124419069297436, 'batch_size': 16, 'activation': 'ELU'}. Best is trial 72 with value: 0.757470790865014.\n",
      "[I 2024-09-09 23:03:12,728] Trial 88 finished with value: 0.7391765054300322 and parameters: {'num_layers': 3, 'hidden_size': 38, 'dropout_rate': 0.28430937222298364, 'weight_decay': 1.4632376891512445e-05, 'learning_rate': 0.0011707842752415125, 'batch_size': 16, 'activation': 'LeakyReLU'}. Best is trial 72 with value: 0.757470790865014.\n",
      "[I 2024-09-09 23:03:23,327] Trial 89 finished with value: 0.7423171055702327 and parameters: {'num_layers': 3, 'hidden_size': 40, 'dropout_rate': 0.219726780974921, 'weight_decay': 2.281822755782738e-05, 'learning_rate': 0.001988680603425064, 'batch_size': 64, 'activation': 'ELU'}. Best is trial 72 with value: 0.757470790865014.\n",
      "[I 2024-09-09 23:03:50,964] Trial 90 finished with value: 0.7532658941373983 and parameters: {'num_layers': 2, 'hidden_size': 46, 'dropout_rate': 0.24764797145441642, 'weight_decay': 6.129475927553424e-05, 'learning_rate': 0.0015509233183537733, 'batch_size': 16, 'activation': 'ELU'}. Best is trial 72 with value: 0.757470790865014.\n",
      "[I 2024-09-09 23:04:27,326] Trial 91 finished with value: 0.7442712611384961 and parameters: {'num_layers': 3, 'hidden_size': 42, 'dropout_rate': 0.32082373306840134, 'weight_decay': 3.294386545498766e-05, 'learning_rate': 0.00045112295245467463, 'batch_size': 16, 'activation': 'ELU'}. Best is trial 72 with value: 0.757470790865014.\n",
      "[I 2024-09-09 23:05:17,717] Trial 92 finished with value: 0.737950713295753 and parameters: {'num_layers': 3, 'hidden_size': 51, 'dropout_rate': 0.30700243268657784, 'weight_decay': 4.7250228862642376e-05, 'learning_rate': 0.0002081135758662703, 'batch_size': 16, 'activation': 'ELU'}. Best is trial 72 with value: 0.757470790865014.\n",
      "[I 2024-09-09 23:06:00,343] Trial 93 finished with value: 0.7359048762456091 and parameters: {'num_layers': 3, 'hidden_size': 36, 'dropout_rate': 0.35653946878598397, 'weight_decay': 2.6989551293051972e-05, 'learning_rate': 0.00033779049650483283, 'batch_size': 16, 'activation': 'ELU'}. Best is trial 72 with value: 0.757470790865014.\n",
      "[I 2024-09-09 23:06:36,232] Trial 94 finished with value: 0.7492435860803058 and parameters: {'num_layers': 3, 'hidden_size': 34, 'dropout_rate': 0.33618501059346917, 'weight_decay': 3.984456676036327e-05, 'learning_rate': 0.0006751892219273392, 'batch_size': 16, 'activation': 'ELU'}. Best is trial 72 with value: 0.757470790865014.\n",
      "[I 2024-09-09 23:07:16,864] Trial 95 finished with value: 0.7383148347290407 and parameters: {'num_layers': 3, 'hidden_size': 39, 'dropout_rate': 0.32935270926985594, 'weight_decay': 1.7896010012022088e-05, 'learning_rate': 0.000414155998990804, 'batch_size': 16, 'activation': 'ELU'}. Best is trial 72 with value: 0.757470790865014.\n",
      "[I 2024-09-09 23:07:52,825] Trial 96 finished with value: 0.7509786131887617 and parameters: {'num_layers': 3, 'hidden_size': 42, 'dropout_rate': 0.27723091206185607, 'weight_decay': 5.2366922422491965e-05, 'learning_rate': 0.0005413532898886444, 'batch_size': 16, 'activation': 'ELU'}. Best is trial 72 with value: 0.757470790865014.\n",
      "[I 2024-09-09 23:08:06,953] Trial 97 finished with value: 0.6846201239410838 and parameters: {'num_layers': 3, 'hidden_size': 44, 'dropout_rate': 0.31878482338902436, 'weight_decay': 9.184934669631919e-05, 'learning_rate': 0.00026413718251588756, 'batch_size': 128, 'activation': 'ELU'}. Best is trial 72 with value: 0.757470790865014.\n",
      "[I 2024-09-09 23:08:55,643] Trial 98 finished with value: 0.7177442434125307 and parameters: {'num_layers': 3, 'hidden_size': 47, 'dropout_rate': 0.34518969527041854, 'weight_decay': 3.3721221130021674e-05, 'learning_rate': 0.00016794451717166072, 'batch_size': 16, 'activation': 'ELU'}. Best is trial 72 with value: 0.757470790865014.\n",
      "[I 2024-09-09 23:09:35,205] Trial 99 finished with value: 0.7367029438829759 and parameters: {'num_layers': 3, 'hidden_size': 33, 'dropout_rate': 0.4442920765303222, 'weight_decay': 6.890318074791093e-05, 'learning_rate': 0.0003767819413292019, 'batch_size': 16, 'activation': 'ELU'}. Best is trial 72 with value: 0.757470790865014.\n"
     ]
    }
   ],
   "source": [
    "# Optimizing hyperparameters:\n",
    "\n",
    "study = optuna.create_study(direction='maximize')\n",
    "study.optimize(objective, n_trials=100)"
   ]
  },
  {
   "cell_type": "code",
   "execution_count": 18,
   "metadata": {},
   "outputs": [
    {
     "name": "stdout",
     "output_type": "stream",
     "text": [
      "Best hyperparameters:\n",
      "  num_layers: 3\n",
      "  hidden_size: 44\n",
      "  dropout_rate: 0.3100113509274515\n",
      "  weight_decay: 3.9188916442533357e-05\n",
      "  learning_rate: 0.0005216467129404721\n",
      "  batch_size: 16\n",
      "  activation: ELU\n"
     ]
    }
   ],
   "source": [
    "print(\"Best hyperparameters:\")\n",
    "for key, value in study.best_params.items():\n",
    "    print(f\"  {key}: {value}\")"
   ]
  },
  {
   "cell_type": "markdown",
   "metadata": {},
   "source": [
    "## Evaluating best models"
   ]
  },
  {
   "cell_type": "markdown",
   "metadata": {},
   "source": [
    "### XGBoost"
   ]
  },
  {
   "cell_type": "code",
   "execution_count": 19,
   "metadata": {},
   "outputs": [],
   "source": [
    "xgb_params = random_search.best_params_"
   ]
  },
  {
   "cell_type": "code",
   "execution_count": 20,
   "metadata": {},
   "outputs": [],
   "source": [
    "best_xgboost = XGBClassifier(random_state=42, eval_metric='mlogloss',\n",
    "                             **xgb_params)"
   ]
  },
  {
   "cell_type": "code",
   "execution_count": 21,
   "metadata": {},
   "outputs": [
    {
     "data": {
      "text/html": [
       "<style>#sk-container-id-2 {color: black;}#sk-container-id-2 pre{padding: 0;}#sk-container-id-2 div.sk-toggleable {background-color: white;}#sk-container-id-2 label.sk-toggleable__label {cursor: pointer;display: block;width: 100%;margin-bottom: 0;padding: 0.3em;box-sizing: border-box;text-align: center;}#sk-container-id-2 label.sk-toggleable__label-arrow:before {content: \"▸\";float: left;margin-right: 0.25em;color: #696969;}#sk-container-id-2 label.sk-toggleable__label-arrow:hover:before {color: black;}#sk-container-id-2 div.sk-estimator:hover label.sk-toggleable__label-arrow:before {color: black;}#sk-container-id-2 div.sk-toggleable__content {max-height: 0;max-width: 0;overflow: hidden;text-align: left;background-color: #f0f8ff;}#sk-container-id-2 div.sk-toggleable__content pre {margin: 0.2em;color: black;border-radius: 0.25em;background-color: #f0f8ff;}#sk-container-id-2 input.sk-toggleable__control:checked~div.sk-toggleable__content {max-height: 200px;max-width: 100%;overflow: auto;}#sk-container-id-2 input.sk-toggleable__control:checked~label.sk-toggleable__label-arrow:before {content: \"▾\";}#sk-container-id-2 div.sk-estimator input.sk-toggleable__control:checked~label.sk-toggleable__label {background-color: #d4ebff;}#sk-container-id-2 div.sk-label input.sk-toggleable__control:checked~label.sk-toggleable__label {background-color: #d4ebff;}#sk-container-id-2 input.sk-hidden--visually {border: 0;clip: rect(1px 1px 1px 1px);clip: rect(1px, 1px, 1px, 1px);height: 1px;margin: -1px;overflow: hidden;padding: 0;position: absolute;width: 1px;}#sk-container-id-2 div.sk-estimator {font-family: monospace;background-color: #f0f8ff;border: 1px dotted black;border-radius: 0.25em;box-sizing: border-box;margin-bottom: 0.5em;}#sk-container-id-2 div.sk-estimator:hover {background-color: #d4ebff;}#sk-container-id-2 div.sk-parallel-item::after {content: \"\";width: 100%;border-bottom: 1px solid gray;flex-grow: 1;}#sk-container-id-2 div.sk-label:hover label.sk-toggleable__label {background-color: #d4ebff;}#sk-container-id-2 div.sk-serial::before {content: \"\";position: absolute;border-left: 1px solid gray;box-sizing: border-box;top: 0;bottom: 0;left: 50%;z-index: 0;}#sk-container-id-2 div.sk-serial {display: flex;flex-direction: column;align-items: center;background-color: white;padding-right: 0.2em;padding-left: 0.2em;position: relative;}#sk-container-id-2 div.sk-item {position: relative;z-index: 1;}#sk-container-id-2 div.sk-parallel {display: flex;align-items: stretch;justify-content: center;background-color: white;position: relative;}#sk-container-id-2 div.sk-item::before, #sk-container-id-2 div.sk-parallel-item::before {content: \"\";position: absolute;border-left: 1px solid gray;box-sizing: border-box;top: 0;bottom: 0;left: 50%;z-index: -1;}#sk-container-id-2 div.sk-parallel-item {display: flex;flex-direction: column;z-index: 1;position: relative;background-color: white;}#sk-container-id-2 div.sk-parallel-item:first-child::after {align-self: flex-end;width: 50%;}#sk-container-id-2 div.sk-parallel-item:last-child::after {align-self: flex-start;width: 50%;}#sk-container-id-2 div.sk-parallel-item:only-child::after {width: 0;}#sk-container-id-2 div.sk-dashed-wrapped {border: 1px dashed gray;margin: 0 0.4em 0.5em 0.4em;box-sizing: border-box;padding-bottom: 0.4em;background-color: white;}#sk-container-id-2 div.sk-label label {font-family: monospace;font-weight: bold;display: inline-block;line-height: 1.2em;}#sk-container-id-2 div.sk-label-container {text-align: center;}#sk-container-id-2 div.sk-container {/* jupyter's `normalize.less` sets `[hidden] { display: none; }` but bootstrap.min.css set `[hidden] { display: none !important; }` so we also need the `!important` here to be able to override the default hidden behavior on the sphinx rendered scikit-learn.org. See: https://github.com/scikit-learn/scikit-learn/issues/21755 */display: inline-block !important;position: relative;}#sk-container-id-2 div.sk-text-repr-fallback {display: none;}</style><div id=\"sk-container-id-2\" class=\"sk-top-container\"><div class=\"sk-text-repr-fallback\"><pre>XGBClassifier(base_score=None, booster=None, callbacks=None,\n",
       "              colsample_bylevel=None, colsample_bynode=None,\n",
       "              colsample_bytree=0.8, device=None, early_stopping_rounds=None,\n",
       "              enable_categorical=False, eval_metric=&#x27;mlogloss&#x27;,\n",
       "              feature_types=None, gamma=0.3, grow_policy=None,\n",
       "              importance_type=None, interaction_constraints=None,\n",
       "              learning_rate=0.1, max_bin=None, max_cat_threshold=None,\n",
       "              max_cat_to_onehot=None, max_delta_step=None, max_depth=5,\n",
       "              max_leaves=None, min_child_weight=4, missing=nan,\n",
       "              monotone_constraints=None, multi_strategy=None, n_estimators=500,\n",
       "              n_jobs=None, num_parallel_tree=None, random_state=42, ...)</pre><b>In a Jupyter environment, please rerun this cell to show the HTML representation or trust the notebook. <br />On GitHub, the HTML representation is unable to render, please try loading this page with nbviewer.org.</b></div><div class=\"sk-container\" hidden><div class=\"sk-item\"><div class=\"sk-estimator sk-toggleable\"><input class=\"sk-toggleable__control sk-hidden--visually\" id=\"sk-estimator-id-4\" type=\"checkbox\" checked><label for=\"sk-estimator-id-4\" class=\"sk-toggleable__label sk-toggleable__label-arrow\">XGBClassifier</label><div class=\"sk-toggleable__content\"><pre>XGBClassifier(base_score=None, booster=None, callbacks=None,\n",
       "              colsample_bylevel=None, colsample_bynode=None,\n",
       "              colsample_bytree=0.8, device=None, early_stopping_rounds=None,\n",
       "              enable_categorical=False, eval_metric=&#x27;mlogloss&#x27;,\n",
       "              feature_types=None, gamma=0.3, grow_policy=None,\n",
       "              importance_type=None, interaction_constraints=None,\n",
       "              learning_rate=0.1, max_bin=None, max_cat_threshold=None,\n",
       "              max_cat_to_onehot=None, max_delta_step=None, max_depth=5,\n",
       "              max_leaves=None, min_child_weight=4, missing=nan,\n",
       "              monotone_constraints=None, multi_strategy=None, n_estimators=500,\n",
       "              n_jobs=None, num_parallel_tree=None, random_state=42, ...)</pre></div></div></div></div></div>"
      ],
      "text/plain": [
       "XGBClassifier(base_score=None, booster=None, callbacks=None,\n",
       "              colsample_bylevel=None, colsample_bynode=None,\n",
       "              colsample_bytree=0.8, device=None, early_stopping_rounds=None,\n",
       "              enable_categorical=False, eval_metric='mlogloss',\n",
       "              feature_types=None, gamma=0.3, grow_policy=None,\n",
       "              importance_type=None, interaction_constraints=None,\n",
       "              learning_rate=0.1, max_bin=None, max_cat_threshold=None,\n",
       "              max_cat_to_onehot=None, max_delta_step=None, max_depth=5,\n",
       "              max_leaves=None, min_child_weight=4, missing=nan,\n",
       "              monotone_constraints=None, multi_strategy=None, n_estimators=500,\n",
       "              n_jobs=None, num_parallel_tree=None, random_state=42, ...)"
      ]
     },
     "execution_count": 21,
     "metadata": {},
     "output_type": "execute_result"
    }
   ],
   "source": [
    "# Fitting the model \n",
    "\n",
    "best_xgboost.fit(X, y)"
   ]
  },
  {
   "cell_type": "code",
   "execution_count": 22,
   "metadata": {},
   "outputs": [],
   "source": [
    "# Predicting values\n",
    "\n",
    "y_pred_xgb = best_xgboost.predict(X_test)"
   ]
  },
  {
   "cell_type": "code",
   "execution_count": 23,
   "metadata": {},
   "outputs": [],
   "source": [
    "# Saving predicted values\n",
    "\n",
    "sub_xgb = pd.DataFrame(y_pred_xgb, columns=['abandono_6meses'])\n",
    "sub_xgb = pd.concat([id_col, sub_xgb], axis=1)\n",
    "sub_xgb.rename(columns={'id_employee': 'ID'}, inplace=True)\n",
    "sub_xgb.to_csv('../results/sub_xgb_red.csv', index=False, sep=',')"
   ]
  },
  {
   "attachments": {
    "image.png": {
     "image/png": "[encoded data removed]"
    }
   },
   "cell_type": "markdown",
   "metadata": {},
   "source": [
    "Kaggle Score:\n",
    "\n",
    "![image.png](attachment:image.png)"
   ]
  },
  {
   "cell_type": "markdown",
   "metadata": {},
   "source": [
    "### Neural Network"
   ]
  },
  {
   "cell_type": "code",
   "execution_count": 28,
   "metadata": {},
   "outputs": [],
   "source": [
    "best_params = study.best_params\n",
    "\n",
    "# Use the entire training set\n",
    "train_dataset = TensorDataset(X_train_tensor, y_tensor)\n",
    "train_loader = DataLoader(train_dataset, batch_size=best_params['batch_size'], shuffle=True)\n",
    "\n",
    "# Initialize the model with best hyperparameters\n",
    "if best_params['activation'] == 'ReLU':\n",
    "    activation_fn = nn.ReLU()\n",
    "elif best_params['activation'] == 'LeakyReLU':\n",
    "    activation_fn = nn.LeakyReLU()\n",
    "else:\n",
    "    activation_fn = nn.ELU()\n",
    "\n",
    "model = Net(input_size=X_train_tensor.shape[1],\n",
    "            num_classes=2,\n",
    "            num_layers=best_params['num_layers'],\n",
    "            hidden_size=best_params['hidden_size'],\n",
    "            dropout_rate=best_params['dropout_rate'],\n",
    "            activation_fn=activation_fn\n",
    "            )\n",
    "\n",
    "criterion = nn.CrossEntropyLoss()\n",
    "optimizer = optim.Adam(model.parameters(), lr=best_params['learning_rate'], weight_decay=best_params['weight_decay'])\n",
    "\n",
    "# Train the model\n",
    "for epoch in range(50):  # Adjust epochs as needed\n",
    "    model.train()\n",
    "    for X_batch, y_batch in train_loader:\n",
    "        optimizer.zero_grad()\n",
    "        outputs = model(X_batch)\n",
    "        loss = criterion(outputs, y_batch)\n",
    "        loss.backward()\n",
    "        optimizer.step()"
   ]
  },
  {
   "cell_type": "code",
   "execution_count": 29,
   "metadata": {},
   "outputs": [],
   "source": [
    "# Loading test data\n",
    "test_loader = DataLoader(X_test_tensor, batch_size=best_params['batch_size'])\n",
    "\n",
    "# Evaluation\n",
    "model.eval()\n",
    "nn_pred = []\n",
    "\n",
    "with torch.no_grad():\n",
    "    for X_batch in test_loader:\n",
    "        # Getting outputs\n",
    "        outputs = model(X_batch)\n",
    "        \n",
    "        # Get the predicted class (0 or 1)\n",
    "        _, predicted = torch.max(outputs.data, 1)\n",
    "        \n",
    "        # Append the predicted class to test_predictions\n",
    "        nn_pred.extend(predicted.cpu().numpy())"
   ]
  },
  {
   "cell_type": "code",
   "execution_count": 30,
   "metadata": {},
   "outputs": [],
   "source": [
    "# Saving predicted values\n",
    "\n",
    "sub_nn = pd.DataFrame(nn_pred, columns=['abandono_6meses'])\n",
    "sub_nn = pd.concat([id_col, sub_nn], axis=1)\n",
    "sub_nn.rename(columns={'id_employee': 'ID'}, inplace=True)\n",
    "sub_nn.to_csv('../results/sub_nn_red.csv', index=False, sep=',')"
   ]
  },
  {
   "attachments": {
    "image.png": {
     "image/png": "[encoded data removed]"
    }
   },
   "cell_type": "markdown",
   "metadata": {},
   "source": [
    "Kaggle Score:\n",
    "\n",
    "![image.png](attachment:image.png)"
   ]
  }
 ],
 "metadata": {
  "kernelspec": {
   "display_name": "Python 3",
   "language": "python",
   "name": "python3"
  },
  "language_info": {
   "codemirror_mode": {
    "name": "ipython",
    "version": 3
   },
   "file_extension": ".py",
   "mimetype": "text/x-python",
   "name": "python",
   "nbconvert_exporter": "python",
   "pygments_lexer": "ipython3",
   "version": "3.9.18"
  }
 },
 "nbformat": 4,
 "nbformat_minor": 2
}
