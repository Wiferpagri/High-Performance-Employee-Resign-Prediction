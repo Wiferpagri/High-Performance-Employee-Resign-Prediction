{
 "cells": [
  {
   "cell_type": "markdown",
   "metadata": {},
   "source": [
    "# Modeling full data\n",
    "\n",
    "Since our data is composed by multiple boss-employees relationships, we can model it as multiple Directed Acyclic Graphs. Graph Neural Networks are specialized on detecting and learning hidden patterns and characteristics from each graph and their nodes, in order to make more accurate predictions than traditional Machine Learning or Deep Learning models on graphs, since they assume that all the data is independent."
   ]
  },
  {
   "cell_type": "markdown",
   "metadata": {},
   "source": [
    "## Preparing environment"
   ]
  },
  {
   "cell_type": "code",
   "execution_count": 1,
   "metadata": {},
   "outputs": [],
   "source": [
    "import pandas as pd\n",
    "import numpy as np\n",
    "import sys\n",
    "import networkx as nx\n",
    "import torch\n",
    "import torch.nn as nn\n",
    "import torch.nn.functional as F\n",
    "from torch_geometric.utils import from_networkx\n",
    "from torch_geometric.data import Data\n",
    "from torch_geometric.nn import GATConv\n",
    "import optuna\n",
    "from sklearn.metrics import f1_score\n",
    "from sklearn.model_selection import StratifiedKFold\n",
    "from sklearn.utils.class_weight import compute_class_weight\n",
    "sys.path.append('../high_performance_employee_resign_prediction')\n",
    "from utils import paths"
   ]
  },
  {
   "cell_type": "code",
   "execution_count": 2,
   "metadata": {},
   "outputs": [],
   "source": [
    "import warnings\n",
    "\n",
    "# Ignore all future warnings\n",
    "warnings.filterwarnings('ignore', category=FutureWarning)"
   ]
  },
  {
   "cell_type": "markdown",
   "metadata": {},
   "source": [
    "## Importing data"
   ]
  },
  {
   "cell_type": "code",
   "execution_count": 3,
   "metadata": {},
   "outputs": [],
   "source": [
    "train_df = pd.read_csv(paths.data_processed_dir('train_red_processed.csv'))\n",
    "test_df = pd.read_csv(paths.data_processed_dir('test_red_processed.csv'))"
   ]
  },
  {
   "cell_type": "code",
   "execution_count": 4,
   "metadata": {},
   "outputs": [],
   "source": [
    "# Saving test id_employee for submission\n",
    "\n",
    "id_col = test_df['id_employee']"
   ]
  },
  {
   "cell_type": "markdown",
   "metadata": {},
   "source": [
    "## Modeling the graph"
   ]
  },
  {
   "cell_type": "code",
   "execution_count": 5,
   "metadata": {},
   "outputs": [],
   "source": [
    "# Combining both dataframes to model the graph\n",
    "combined_df = pd.concat([train_df, test_df], ignore_index=True)"
   ]
  },
  {
   "cell_type": "code",
   "execution_count": 6,
   "metadata": {},
   "outputs": [
    {
     "name": "stderr",
     "output_type": "stream",
     "text": [
      "C:\\Users\\WILLIAM\\AppData\\Local\\Temp\\ipykernel_11020\\1061126366.py:21: UserWarning: Creating a tensor from a list of numpy.ndarrays is extremely slow. Please consider converting the list to a single numpy.ndarray with numpy.array() before converting to a tensor. (Triggered internally at C:\\cb\\pytorch_1000000000000\\work\\torch\\csrc\\utils\\tensor_new.cpp:278.)\n",
      "  edge_index = torch.tensor([combined_df['employee_idx'].to_numpy(), combined_df['boss_idx'].to_numpy()], dtype=torch.long)\n"
     ]
    }
   ],
   "source": [
    "# Modeling the graph\n",
    "# Create a mapping of employees to indices (node IDs)\n",
    "employee_ids = combined_df['id_employee'].unique()\n",
    "employee_id_map = {id_: idx for idx, id_ in enumerate(employee_ids)}\n",
    "\n",
    "# Map employees and bosses to indices for graph construction\n",
    "combined_df['employee_idx'] = combined_df['id_employee'].map(employee_id_map)\n",
    "combined_df['boss_idx'] = combined_df['id_last_boss'].map(employee_id_map)\n",
    "\n",
    "# Split train and test datasets again, but with the processed features\n",
    "train_mask = combined_df['resign'].notna()\n",
    "test_mask = ~train_mask\n",
    "\n",
    "train_labels = combined_df.loc[train_mask, 'resign'].astype(int).values\n",
    "test_data = combined_df.loc[test_mask].reset_index(drop=True)\n",
    "\n",
    "# Node features\n",
    "node_features = torch.tensor(combined_df.drop(columns=['id_employee', 'id_last_boss', 'employee_idx', 'boss_idx', 'resign']).to_numpy(), dtype=torch.float)\n",
    "\n",
    "# Create edge index\n",
    "edge_index = torch.tensor([combined_df['employee_idx'].to_numpy(), combined_df['boss_idx'].to_numpy()], dtype=torch.long)"
   ]
  },
  {
   "cell_type": "code",
   "execution_count": 7,
   "metadata": {},
   "outputs": [],
   "source": [
    "# Computing class weight\n",
    "\n",
    "class_weights = compute_class_weight('balanced', classes=[0, 1], y=train_labels)\n",
    "class_weights_tensor = torch.tensor(class_weights, dtype=torch.float)"
   ]
  },
  {
   "cell_type": "markdown",
   "metadata": {},
   "source": [
    "# Modeling using GATConv\n",
    "\n",
    "GATConv is a framework that can handle varying importance of node connections, useful for hierarchical structure."
   ]
  },
  {
   "cell_type": "code",
   "execution_count": 8,
   "metadata": {},
   "outputs": [],
   "source": [
    "# Creating the model\n",
    "\n",
    "class GAT(nn.Module):\n",
    "    def __init__(self, input_dim, hidden_dim, output_dim, heads=1, dropout=0.6):\n",
    "        super(GAT, self).__init__()\n",
    "        self.conv1 = GATConv(input_dim, hidden_dim, heads=heads, dropout=dropout)\n",
    "        self.conv2 = GATConv(hidden_dim * heads, output_dim, heads=1, concat=False, dropout=dropout)\n",
    "        \n",
    "    def forward(self, x, edge_index):\n",
    "        # First GAT Layer\n",
    "        x = self.conv1(x, edge_index)\n",
    "        x = F.elu(x)\n",
    "        x = F.dropout(x, p=0.6, training=self.training)\n",
    "        \n",
    "        # Second GAT Layer\n",
    "        x = self.conv2(x, edge_index)\n",
    "        return F.log_softmax(x, dim=1)"
   ]
  },
  {
   "cell_type": "markdown",
   "metadata": {},
   "source": [
    "## Defining the objective function to optimize"
   ]
  },
  {
   "cell_type": "code",
   "execution_count": 9,
   "metadata": {},
   "outputs": [],
   "source": [
    "# Creating function to optimize the model\n",
    "\n",
    "def objective(trial):\n",
    "    # Hyperparameter search space\n",
    "    hidden_dim = trial.suggest_int('hidden_dim', 16, 128)\n",
    "    heads = trial.suggest_int('heads', 1, 8)\n",
    "    dropout = trial.suggest_float('dropout', 0.2, 0.7)\n",
    "    learning_rate = trial.suggest_float('learning_rate', 1e-4, 1e-2)\n",
    "    weight_decay = trial.suggest_float('weight_decay', 1e-5, 1e-3)\n",
    "    \n",
    "    # Initialize cross-validation\n",
    "    skf = StratifiedKFold(n_splits=5, shuffle=True, random_state=42)\n",
    "    f1_scores = []\n",
    "    \n",
    "    for train_idx, val_idx in skf.split(combined_df[train_mask].index, train_labels):\n",
    "        train_x = combined_df.iloc[train_idx]\n",
    "        val_x = combined_df.iloc[val_idx]\n",
    "        train_y = torch.tensor(train_labels[train_idx], dtype=torch.long)\n",
    "        val_y = torch.tensor(train_labels[val_idx], dtype=torch.long)\n",
    "    \n",
    "    # Model\n",
    "    model = GAT(input_dim=node_features.shape[1], hidden_dim=hidden_dim, output_dim=2, heads=heads, dropout=dropout)\n",
    "    optimizer = torch.optim.Adam(model.parameters(), lr=learning_rate, weight_decay=weight_decay)\n",
    "    \n",
    "    # Training loop\n",
    "    patience = 10\n",
    "    best_val_f1 = 0\n",
    "    no_improve_counter = 0\n",
    "    \n",
    "    for epoch in range(100):\n",
    "        model.train()\n",
    "        optimizer.zero_grad()\n",
    "        out = model(node_features, edge_index)\n",
    "        loss = F.nll_loss(out[train_idx], train_y, weight=class_weights_tensor)\n",
    "        loss.backward()\n",
    "        optimizer.step()\n",
    "        \n",
    "        # Validation\n",
    "        model.eval()\n",
    "        out_val = model(node_features, edge_index)\n",
    "        val_pred = out_val[val_idx].argmax(dim=1)\n",
    "        val_f1 = f1_score(val_y.cpu(), val_pred.cpu(), average='macro')\n",
    "        \n",
    "        # Early stopping logic\n",
    "        if val_f1 > best_val_f1 + 0.01:\n",
    "            best_val_f1 = val_f1\n",
    "            no_improve_counter = 0\n",
    "        else:\n",
    "            no_improve_counter += 1\n",
    "        \n",
    "        if no_improve_counter >= patience:\n",
    "            break\n",
    "    \n",
    "    f1_scores.append(best_val_f1)\n",
    "\n",
    "    mean_f1 = sum(f1_scores) / len(f1_scores)\n",
    "    return mean_f1"
   ]
  },
  {
   "cell_type": "markdown",
   "metadata": {},
   "source": [
    "## Optimizing hyperparameters"
   ]
  },
  {
   "cell_type": "code",
   "execution_count": 10,
   "metadata": {},
   "outputs": [
    {
     "name": "stderr",
     "output_type": "stream",
     "text": [
      "[I 2024-09-08 20:44:39,175] A new study created in memory with name: no-name-160917d7-70ca-45fb-a56f-db4589322988\n",
      "[I 2024-09-08 20:44:42,261] Trial 0 finished with value: 0.6951493405635922 and parameters: {'hidden_dim': 54, 'heads': 8, 'dropout': 0.6939289139602758, 'learning_rate': 0.0028841204630924307, 'weight_decay': 0.0003078305489260507}. Best is trial 0 with value: 0.6951493405635922.\n",
      "[I 2024-09-08 20:44:44,364] Trial 1 finished with value: 0.6688013027882309 and parameters: {'hidden_dim': 61, 'heads': 8, 'dropout': 0.33241731158045107, 'learning_rate': 0.008022026281975403, 'weight_decay': 2.9684249017019193e-05}. Best is trial 0 with value: 0.6951493405635922.\n",
      "[I 2024-09-08 20:44:45,192] Trial 2 finished with value: 0.6472326808251702 and parameters: {'hidden_dim': 17, 'heads': 6, 'dropout': 0.3961642852617505, 'learning_rate': 0.006047805094970257, 'weight_decay': 0.0005035185786571049}. Best is trial 0 with value: 0.6951493405635922.\n",
      "[I 2024-09-08 20:44:50,535] Trial 3 finished with value: 0.6859632893519645 and parameters: {'hidden_dim': 95, 'heads': 6, 'dropout': 0.5999560922500551, 'learning_rate': 0.0005615861024791169, 'weight_decay': 0.0003226585243164059}. Best is trial 0 with value: 0.6951493405635922.\n",
      "[I 2024-09-08 20:44:52,999] Trial 4 finished with value: 0.6925976473646585 and parameters: {'hidden_dim': 52, 'heads': 6, 'dropout': 0.6544804738606022, 'learning_rate': 0.008495900331269858, 'weight_decay': 0.0004155244159823702}. Best is trial 0 with value: 0.6951493405635922.\n",
      "[I 2024-09-08 20:44:53,974] Trial 5 finished with value: 0.6766025138108095 and parameters: {'hidden_dim': 37, 'heads': 5, 'dropout': 0.6820009714169857, 'learning_rate': 0.00494773897562378, 'weight_decay': 5.339854799731622e-05}. Best is trial 0 with value: 0.6951493405635922.\n",
      "[I 2024-09-08 20:44:54,361] Trial 6 finished with value: 0.6418604651162789 and parameters: {'hidden_dim': 29, 'heads': 2, 'dropout': 0.5288438460845817, 'learning_rate': 0.007706074217174673, 'weight_decay': 0.00038406934219283793}. Best is trial 0 with value: 0.6951493405635922.\n",
      "[I 2024-09-08 20:44:58,253] Trial 7 finished with value: 0.6743904285930638 and parameters: {'hidden_dim': 113, 'heads': 6, 'dropout': 0.5083528270130389, 'learning_rate': 0.0011124081312145241, 'weight_decay': 0.000672616080714522}. Best is trial 0 with value: 0.6951493405635922.\n",
      "[I 2024-09-08 20:45:00,625] Trial 8 finished with value: 0.6672961113305451 and parameters: {'hidden_dim': 123, 'heads': 4, 'dropout': 0.5148658228764793, 'learning_rate': 0.004447426705239412, 'weight_decay': 0.0009959892475593056}. Best is trial 0 with value: 0.6951493405635922.\n",
      "[I 2024-09-08 20:45:01,979] Trial 9 finished with value: 0.6837046602481325 and parameters: {'hidden_dim': 92, 'heads': 3, 'dropout': 0.33114874877343636, 'learning_rate': 0.0049577621745383734, 'weight_decay': 0.0006699698855422713}. Best is trial 0 with value: 0.6951493405635922.\n",
      "[I 2024-09-08 20:45:03,965] Trial 10 finished with value: 0.6739672017503953 and parameters: {'hidden_dim': 78, 'heads': 8, 'dropout': 0.20329271188323697, 'learning_rate': 0.0026425186264414893, 'weight_decay': 0.00020329786980642352}. Best is trial 0 with value: 0.6951493405635922.\n",
      "[I 2024-09-08 20:45:05,482] Trial 11 finished with value: 0.667396889790399 and parameters: {'hidden_dim': 57, 'heads': 8, 'dropout': 0.6921655359425339, 'learning_rate': 0.009684257232233283, 'weight_decay': 0.0002682607007701022}. Best is trial 0 with value: 0.6951493405635922.\n",
      "[I 2024-09-08 20:45:07,430] Trial 12 finished with value: 0.6948719198747637 and parameters: {'hidden_dim': 47, 'heads': 7, 'dropout': 0.6158477633459009, 'learning_rate': 0.002341171729435606, 'weight_decay': 0.0005454808107346282}. Best is trial 0 with value: 0.6951493405635922.\n",
      "[I 2024-09-08 20:45:08,890] Trial 13 finished with value: 0.6787292099792099 and parameters: {'hidden_dim': 40, 'heads': 7, 'dropout': 0.5908928462603206, 'learning_rate': 0.00298826392105327, 'weight_decay': 0.0006934327431426462}. Best is trial 0 with value: 0.6951493405635922.\n",
      "[I 2024-09-08 20:45:12,816] Trial 14 finished with value: 0.6906960016008741 and parameters: {'hidden_dim': 70, 'heads': 7, 'dropout': 0.5981217835550221, 'learning_rate': 0.002510149570516288, 'weight_decay': 0.0005571418870996443}. Best is trial 0 with value: 0.6951493405635922.\n",
      "[I 2024-09-08 20:45:14,360] Trial 15 finished with value: 0.6409215201480196 and parameters: {'hidden_dim': 51, 'heads': 1, 'dropout': 0.6247968632471531, 'learning_rate': 0.0018024163378381045, 'weight_decay': 0.000830201944038944}. Best is trial 0 with value: 0.6951493405635922.\n",
      "[I 2024-09-08 20:45:16,903] Trial 16 finished with value: 0.6856640043319345 and parameters: {'hidden_dim': 79, 'heads': 7, 'dropout': 0.464369870758983, 'learning_rate': 0.003597519333514138, 'weight_decay': 0.0001650029933314584}. Best is trial 0 with value: 0.6951493405635922.\n",
      "[I 2024-09-08 20:45:18,089] Trial 17 finished with value: 0.6717930396089449 and parameters: {'hidden_dim': 25, 'heads': 4, 'dropout': 0.5591474760082382, 'learning_rate': 0.00610293203426035, 'weight_decay': 0.0005127635267999045}. Best is trial 0 with value: 0.6951493405635922.\n",
      "[I 2024-09-08 20:45:19,779] Trial 18 finished with value: 0.6427712555475393 and parameters: {'hidden_dim': 41, 'heads': 5, 'dropout': 0.6910107186093952, 'learning_rate': 0.0014384712203121142, 'weight_decay': 0.0008165930176649036}. Best is trial 0 with value: 0.6951493405635922.\n",
      "[I 2024-09-08 20:45:25,783] Trial 19 finished with value: 0.6694170131670132 and parameters: {'hidden_dim': 69, 'heads': 8, 'dropout': 0.6379482809492061, 'learning_rate': 0.0002656395134118701, 'weight_decay': 0.0004122192783910089}. Best is trial 0 with value: 0.6951493405635922.\n",
      "[I 2024-09-08 20:45:29,665] Trial 20 finished with value: 0.6786248131539612 and parameters: {'hidden_dim': 94, 'heads': 7, 'dropout': 0.4442851459564177, 'learning_rate': 0.003908023629243767, 'weight_decay': 0.00014160567090433051}. Best is trial 0 with value: 0.6951493405635922.\n",
      "[I 2024-09-08 20:45:30,899] Trial 21 finished with value: 0.668462064251538 and parameters: {'hidden_dim': 49, 'heads': 6, 'dropout': 0.649640305884342, 'learning_rate': 0.00948284518538402, 'weight_decay': 0.00043158072000049324}. Best is trial 0 with value: 0.6951493405635922.\n",
      "[I 2024-09-08 20:45:32,539] Trial 22 finished with value: 0.6602813852813854 and parameters: {'hidden_dim': 60, 'heads': 7, 'dropout': 0.6522429040723687, 'learning_rate': 0.006003153633783627, 'weight_decay': 0.00030282673285412533}. Best is trial 0 with value: 0.6951493405635922.\n",
      "[I 2024-09-08 20:45:33,481] Trial 23 finished with value: 0.6622628120751202 and parameters: {'hidden_dim': 51, 'heads': 5, 'dropout': 0.5742529495601567, 'learning_rate': 0.00829430588995035, 'weight_decay': 0.0005860639264830351}. Best is trial 0 with value: 0.6951493405635922.\n",
      "[I 2024-09-08 20:45:34,747] Trial 24 finished with value: 0.6882034632034633 and parameters: {'hidden_dim': 31, 'heads': 6, 'dropout': 0.6469160859062435, 'learning_rate': 0.007101751597823133, 'weight_decay': 0.00046376494962879734}. Best is trial 0 with value: 0.6951493405635922.\n",
      "[I 2024-09-08 20:45:36,215] Trial 25 finished with value: 0.6533365076101483 and parameters: {'hidden_dim': 46, 'heads': 8, 'dropout': 0.6920298212435256, 'learning_rate': 0.0020274492144253895, 'weight_decay': 0.00034568608960358047}. Best is trial 0 with value: 0.6951493405635922.\n",
      "[I 2024-09-08 20:45:38,535] Trial 26 finished with value: 0.6744186046511629 and parameters: {'hidden_dim': 64, 'heads': 7, 'dropout': 0.5643326177949042, 'learning_rate': 0.003376372576712334, 'weight_decay': 0.0005923860545626652}. Best is trial 0 with value: 0.6951493405635922.\n",
      "[I 2024-09-08 20:45:39,623] Trial 27 finished with value: 0.6801342230861538 and parameters: {'hidden_dim': 57, 'heads': 5, 'dropout': 0.6254767308015768, 'learning_rate': 0.006868992550849998, 'weight_decay': 0.00023119720541050652}. Best is trial 0 with value: 0.6951493405635922.\n",
      "[I 2024-09-08 20:45:42,333] Trial 28 finished with value: 0.6743552016617622 and parameters: {'hidden_dim': 82, 'heads': 8, 'dropout': 0.4721240623331838, 'learning_rate': 0.0037890394000264374, 'weight_decay': 0.0007675380662878057}. Best is trial 0 with value: 0.6951493405635922.\n",
      "[I 2024-09-08 20:45:43,049] Trial 29 finished with value: 0.6803147469814137 and parameters: {'hidden_dim': 18, 'heads': 6, 'dropout': 0.30885623846681387, 'learning_rate': 0.008969155418804092, 'weight_decay': 3.310580138051898e-05}. Best is trial 0 with value: 0.6951493405635922.\n",
      "[I 2024-09-08 20:45:44,447] Trial 30 finished with value: 0.663647981667548 and parameters: {'hidden_dim': 36, 'heads': 8, 'dropout': 0.5393747030844721, 'learning_rate': 0.004453288680479849, 'weight_decay': 0.00039269147245483434}. Best is trial 0 with value: 0.6951493405635922.\n",
      "[I 2024-09-08 20:45:47,038] Trial 31 finished with value: 0.667396889790399 and parameters: {'hidden_dim': 69, 'heads': 7, 'dropout': 0.6064295740119343, 'learning_rate': 0.0025542070097847756, 'weight_decay': 0.0005586413573654019}. Best is trial 0 with value: 0.6951493405635922.\n",
      "[I 2024-09-08 20:45:50,583] Trial 32 finished with value: 0.6831657420249653 and parameters: {'hidden_dim': 64, 'heads': 7, 'dropout': 0.6650756728051046, 'learning_rate': 0.0009875909850453586, 'weight_decay': 0.0005027470093517093}. Best is trial 0 with value: 0.6951493405635922.\n",
      "[I 2024-09-08 20:45:51,965] Trial 33 finished with value: 0.6721204331060325 and parameters: {'hidden_dim': 45, 'heads': 7, 'dropout': 0.6086537448858943, 'learning_rate': 0.0022951349693338006, 'weight_decay': 0.0004759300365816432}. Best is trial 0 with value: 0.6951493405635922.\n",
      "[I 2024-09-08 20:45:54,408] Trial 34 finished with value: 0.6790188033629196 and parameters: {'hidden_dim': 75, 'heads': 6, 'dropout': 0.6660980636993122, 'learning_rate': 0.0029224700301965886, 'weight_decay': 0.0006312419841890496}. Best is trial 0 with value: 0.6951493405635922.\n",
      "[I 2024-09-08 20:45:56,600] Trial 35 finished with value: 0.6746710526315789 and parameters: {'hidden_dim': 58, 'heads': 8, 'dropout': 0.5854596675120926, 'learning_rate': 0.005615810685052826, 'weight_decay': 0.0005320014559406068}. Best is trial 0 with value: 0.6951493405635922.\n",
      "[I 2024-09-08 20:45:58,992] Trial 36 finished with value: 0.6744186046511629 and parameters: {'hidden_dim': 86, 'heads': 6, 'dropout': 0.39367449836277435, 'learning_rate': 0.0015058803556982723, 'weight_decay': 0.0003588360143520371}. Best is trial 0 with value: 0.6951493405635922.\n",
      "[I 2024-09-08 20:46:01,634] Trial 37 finished with value: 0.6580933062880325 and parameters: {'hidden_dim': 101, 'heads': 7, 'dropout': 0.488818920429035, 'learning_rate': 0.004389384808839088, 'weight_decay': 0.0002925972871465543}. Best is trial 0 with value: 0.6951493405635922.\n",
      "[I 2024-09-08 20:46:05,209] Trial 38 finished with value: 0.6767424377633194 and parameters: {'hidden_dim': 54, 'heads': 6, 'dropout': 0.4283601638823819, 'learning_rate': 0.0006247457176237151, 'weight_decay': 0.0007411281068854315}. Best is trial 0 with value: 0.6951493405635922.\n",
      "[I 2024-09-08 20:46:06,578] Trial 39 finished with value: 0.6671376217310576 and parameters: {'hidden_dim': 70, 'heads': 4, 'dropout': 0.5456254040747672, 'learning_rate': 0.0032421201050618275, 'weight_decay': 0.00011463766489776061}. Best is trial 0 with value: 0.6951493405635922.\n",
      "[I 2024-09-08 20:46:08,514] Trial 40 finished with value: 0.690213475903386 and parameters: {'hidden_dim': 64, 'heads': 3, 'dropout': 0.618074645531968, 'learning_rate': 0.002163690296314762, 'weight_decay': 0.0004518916707817609}. Best is trial 0 with value: 0.6951493405635922.\n",
      "[I 2024-09-08 20:46:10,191] Trial 41 finished with value: 0.6860040567951318 and parameters: {'hidden_dim': 65, 'heads': 3, 'dropout': 0.6171923553301079, 'learning_rate': 0.0021963053001071414, 'weight_decay': 0.00043680099570523657}. Best is trial 0 with value: 0.6951493405635922.\n",
      "[I 2024-09-08 20:46:11,714] Trial 42 finished with value: 0.6906156850652688 and parameters: {'hidden_dim': 35, 'heads': 3, 'dropout': 0.6731815267840126, 'learning_rate': 0.001562106741925738, 'weight_decay': 0.0006083114055714595}. Best is trial 0 with value: 0.6951493405635922.\n",
      "[I 2024-09-08 20:46:13,863] Trial 43 finished with value: 0.6440301051298838 and parameters: {'hidden_dim': 33, 'heads': 2, 'dropout': 0.6678490139090377, 'learning_rate': 0.001306245719822494, 'weight_decay': 0.0006163266317112827}. Best is trial 0 with value: 0.6951493405635922.\n",
      "[I 2024-09-08 20:46:14,964] Trial 44 finished with value: 0.6730322188185709 and parameters: {'hidden_dim': 22, 'heads': 2, 'dropout': 0.6947434870709361, 'learning_rate': 0.0028023612394267312, 'weight_decay': 0.0006666901637918936}. Best is trial 0 with value: 0.6951493405635922.\n",
      "[I 2024-09-08 20:46:15,858] Trial 45 finished with value: 0.4748134944213375 and parameters: {'hidden_dim': 42, 'heads': 1, 'dropout': 0.6720732729922436, 'learning_rate': 0.000709555644258377, 'weight_decay': 0.0005455825810339328}. Best is trial 0 with value: 0.6951493405635922.\n",
      "[I 2024-09-08 20:46:17,866] Trial 46 finished with value: 0.6875542252299149 and parameters: {'hidden_dim': 26, 'heads': 8, 'dropout': 0.5942935463142377, 'learning_rate': 0.004185957494659668, 'weight_decay': 0.0009581705716643744}. Best is trial 0 with value: 0.6951493405635922.\n",
      "[I 2024-09-08 20:46:18,769] Trial 47 finished with value: 0.6788961038961039 and parameters: {'hidden_dim': 36, 'heads': 5, 'dropout': 0.6379429331911485, 'learning_rate': 0.005402627114607209, 'weight_decay': 0.0002522290579841355}. Best is trial 0 with value: 0.6951493405635922.\n",
      "[I 2024-09-08 20:46:19,694] Trial 48 finished with value: 0.6790697674418605 and parameters: {'hidden_dim': 46, 'heads': 4, 'dropout': 0.27651596712241233, 'learning_rate': 0.0016220906521549976, 'weight_decay': 0.0007096564115414334}. Best is trial 0 with value: 0.6951493405635922.\n",
      "[I 2024-09-08 20:46:21,734] Trial 49 finished with value: 0.6787292099792099 and parameters: {'hidden_dim': 55, 'heads': 7, 'dropout': 0.5108350201818086, 'learning_rate': 0.0009793069515046486, 'weight_decay': 0.00036801455651824084}. Best is trial 0 with value: 0.6951493405635922.\n",
      "[I 2024-09-08 20:46:22,666] Trial 50 finished with value: 0.5466290815128025 and parameters: {'hidden_dim': 51, 'heads': 3, 'dropout': 0.6739586378818757, 'learning_rate': 0.00022348606604224368, 'weight_decay': 0.00033181037448076214}. Best is trial 0 with value: 0.6951493405635922.\n",
      "[I 2024-09-08 20:46:24,722] Trial 51 finished with value: 0.6828908554572273 and parameters: {'hidden_dim': 74, 'heads': 3, 'dropout': 0.6302901638862348, 'learning_rate': 0.003080567415755423, 'weight_decay': 0.00048541772699178744}. Best is trial 0 with value: 0.6951493405635922.\n",
      "[I 2024-09-08 20:46:25,892] Trial 52 finished with value: 0.6756478089811423 and parameters: {'hidden_dim': 65, 'heads': 3, 'dropout': 0.5800687715134688, 'learning_rate': 0.0024580816984998734, 'weight_decay': 0.00043734549990964103}. Best is trial 0 with value: 0.6951493405635922.\n",
      "[I 2024-09-08 20:46:28,387] Trial 53 finished with value: 0.6625698807764951 and parameters: {'hidden_dim': 40, 'heads': 2, 'dropout': 0.6979916424258923, 'learning_rate': 0.001836155130793592, 'weight_decay': 0.0005798488097876609}. Best is trial 0 with value: 0.6951493405635922.\n",
      "[I 2024-09-08 20:46:30,411] Trial 54 finished with value: 0.667224089317509 and parameters: {'hidden_dim': 61, 'heads': 4, 'dropout': 0.6506053424275663, 'learning_rate': 0.0020844655108545433, 'weight_decay': 0.0005257821780883278}. Best is trial 0 with value: 0.6951493405635922.\n",
      "[I 2024-09-08 20:46:31,854] Trial 55 finished with value: 0.6687354875111218 and parameters: {'hidden_dim': 48, 'heads': 2, 'dropout': 0.6079081430712188, 'learning_rate': 0.0034465071208688697, 'weight_decay': 0.0006422094330703409}. Best is trial 0 with value: 0.6951493405635922.\n",
      "[I 2024-09-08 20:46:32,559] Trial 56 finished with value: 0.6618231717569466 and parameters: {'hidden_dim': 55, 'heads': 3, 'dropout': 0.6309111432257389, 'learning_rate': 0.00801774145730209, 'weight_decay': 0.00046275738696024553}. Best is trial 0 with value: 0.6951493405635922.\n",
      "[I 2024-09-08 20:46:35,456] Trial 57 finished with value: 0.6305118666927712 and parameters: {'hidden_dim': 124, 'heads': 8, 'dropout': 0.6530183530731789, 'learning_rate': 0.0027174877407078885, 'weight_decay': 0.0004199783460513514}. Best is trial 0 with value: 0.6951493405635922.\n",
      "[I 2024-09-08 20:46:37,181] Trial 58 finished with value: 0.6533365076101483 and parameters: {'hidden_dim': 43, 'heads': 7, 'dropout': 0.5603775546068048, 'learning_rate': 0.0017558406709441787, 'weight_decay': 0.0003131230805807426}. Best is trial 0 with value: 0.6951493405635922.\n",
      "[I 2024-09-08 20:46:40,014] Trial 59 finished with value: 0.6717575278294918 and parameters: {'hidden_dim': 85, 'heads': 6, 'dropout': 0.6780655338684313, 'learning_rate': 0.0011922405684333516, 'weight_decay': 0.0006071579580089351}. Best is trial 0 with value: 0.6951493405635922.\n",
      "[I 2024-09-08 20:46:43,146] Trial 60 finished with value: 0.6835497835497836 and parameters: {'hidden_dim': 60, 'heads': 8, 'dropout': 0.5283329199274177, 'learning_rate': 0.006804369637704903, 'weight_decay': 0.0001951479090416796}. Best is trial 0 with value: 0.6951493405635922.\n",
      "[I 2024-09-08 20:46:44,157] Trial 61 finished with value: 0.676728450816968 and parameters: {'hidden_dim': 31, 'heads': 6, 'dropout': 0.6442723310401428, 'learning_rate': 0.008822889750960213, 'weight_decay': 0.0003932964159948329}. Best is trial 0 with value: 0.6951493405635922.\n",
      "[I 2024-09-08 20:46:45,007] Trial 62 finished with value: 0.6651090342679127 and parameters: {'hidden_dim': 33, 'heads': 5, 'dropout': 0.620017834076557, 'learning_rate': 0.009328635526945751, 'weight_decay': 0.00046666800711188893}. Best is trial 0 with value: 0.6951493405635922.\n",
      "[I 2024-09-08 20:46:46,108] Trial 63 finished with value: 0.668462064251538 and parameters: {'hidden_dim': 37, 'heads': 6, 'dropout': 0.6541459596938901, 'learning_rate': 0.007007565730286116, 'weight_decay': 0.0005566345012806557}. Best is trial 0 with value: 0.6951493405635922.\n",
      "[I 2024-09-08 20:46:48,600] Trial 64 finished with value: 0.6721204331060325 and parameters: {'hidden_dim': 52, 'heads': 7, 'dropout': 0.20733597543354257, 'learning_rate': 0.008500072179771122, 'weight_decay': 0.0005031185199885732}. Best is trial 0 with value: 0.6951493405635922.\n",
      "[I 2024-09-08 20:46:49,723] Trial 65 finished with value: 0.6825603612992878 and parameters: {'hidden_dim': 28, 'heads': 7, 'dropout': 0.6020502678708823, 'learning_rate': 0.007324329527201365, 'weight_decay': 0.00038711440548646703}. Best is trial 0 with value: 0.6951493405635922.\n",
      "[I 2024-09-08 20:46:50,683] Trial 66 finished with value: 0.6677790015287756 and parameters: {'hidden_dim': 22, 'heads': 4, 'dropout': 0.6821087847774852, 'learning_rate': 0.007602559268507043, 'weight_decay': 0.0004541143606553049}. Best is trial 0 with value: 0.6951493405635922.\n",
      "[I 2024-09-08 20:46:52,339] Trial 67 finished with value: 0.6709735248464179 and parameters: {'hidden_dim': 67, 'heads': 5, 'dropout': 0.5696921064751247, 'learning_rate': 0.006575806668181954, 'weight_decay': 0.00027533605682398106}. Best is trial 0 with value: 0.6951493405635922.\n",
      "[I 2024-09-08 20:46:55,120] Trial 68 finished with value: 0.6804812036600116 and parameters: {'hidden_dim': 39, 'heads': 6, 'dropout': 0.6581841455030949, 'learning_rate': 0.009792516837507913, 'weight_decay': 0.0005712488828049818}. Best is trial 0 with value: 0.6951493405635922.\n",
      "[I 2024-09-08 20:46:57,467] Trial 69 finished with value: 0.6744186046511629 and parameters: {'hidden_dim': 48, 'heads': 8, 'dropout': 0.6410105316070288, 'learning_rate': 0.003794359606277292, 'weight_decay': 0.0004987988486228507}. Best is trial 0 with value: 0.6951493405635922.\n",
      "[I 2024-09-08 20:46:59,464] Trial 70 finished with value: 0.669373265204849 and parameters: {'hidden_dim': 61, 'heads': 6, 'dropout': 0.5937141932087008, 'learning_rate': 0.0025217976333201638, 'weight_decay': 0.00041177528114923504}. Best is trial 0 with value: 0.6951493405635922.\n",
      "[I 2024-09-08 20:47:00,809] Trial 71 finished with value: 0.6860312292107242 and parameters: {'hidden_dim': 16, 'heads': 8, 'dropout': 0.5885000245580885, 'learning_rate': 0.004693104719980296, 'weight_decay': 0.0008785035348613833}. Best is trial 0 with value: 0.6951493405635922.\n",
      "[I 2024-09-08 20:47:02,650] Trial 72 finished with value: 0.6860312292107241 and parameters: {'hidden_dim': 26, 'heads': 8, 'dropout': 0.6177989182643681, 'learning_rate': 0.0043065330286507, 'weight_decay': 0.0009716651520162731}. Best is trial 0 with value: 0.6951493405635922.\n",
      "[I 2024-09-08 20:47:03,752] Trial 73 finished with value: 0.6674145222957888 and parameters: {'hidden_dim': 20, 'heads': 8, 'dropout': 0.5474442787985953, 'learning_rate': 0.004017140589071223, 'weight_decay': 0.0009177950360211659}. Best is trial 0 with value: 0.6951493405635922.\n",
      "[I 2024-09-08 20:47:05,913] Trial 74 finished with value: 0.6883114073048295 and parameters: {'hidden_dim': 29, 'heads': 7, 'dropout': 0.6841121007758798, 'learning_rate': 0.0022768412637227792, 'weight_decay': 0.0007802248147698091}. Best is trial 0 with value: 0.6951493405635922.\n",
      "[I 2024-09-08 20:47:08,988] Trial 75 finished with value: 0.6458911234396671 and parameters: {'hidden_dim': 117, 'heads': 7, 'dropout': 0.6835502876397788, 'learning_rate': 0.0023093483213623457, 'weight_decay': 0.0007182972303359016}. Best is trial 0 with value: 0.6951493405635922.\n",
      "[I 2024-09-08 20:47:10,181] Trial 76 finished with value: 0.6650003246120886 and parameters: {'hidden_dim': 34, 'heads': 7, 'dropout': 0.6632551236082372, 'learning_rate': 0.001963995040258608, 'weight_decay': 0.0007742158319891347}. Best is trial 0 with value: 0.6951493405635922.\n",
      "[I 2024-09-08 20:47:11,664] Trial 77 finished with value: 0.6603989960186949 and parameters: {'hidden_dim': 30, 'heads': 7, 'dropout': 0.6895534537458942, 'learning_rate': 0.003035322308870628, 'weight_decay': 0.000673961565633094}. Best is trial 0 with value: 0.6951493405635922.\n",
      "[I 2024-09-08 20:47:15,412] Trial 78 finished with value: 0.6883451245105039 and parameters: {'hidden_dim': 79, 'heads': 6, 'dropout': 0.3785976274553831, 'learning_rate': 0.0015296211029394249, 'weight_decay': 0.0008262022584055}. Best is trial 0 with value: 0.6951493405635922.\n",
      "[I 2024-09-08 20:47:18,681] Trial 79 finished with value: 0.681379840013846 and parameters: {'hidden_dim': 73, 'heads': 5, 'dropout': 0.3142100906525496, 'learning_rate': 0.0015013276563873679, 'weight_decay': 0.0008215134739726329}. Best is trial 0 with value: 0.6951493405635922.\n",
      "[I 2024-09-08 20:47:20,977] Trial 80 finished with value: 0.6626429100904128 and parameters: {'hidden_dim': 80, 'heads': 6, 'dropout': 0.3722472358278158, 'learning_rate': 0.0008433766598272864, 'weight_decay': 0.000773225804388613}. Best is trial 0 with value: 0.6951493405635922.\n",
      "[I 2024-09-08 20:47:25,293] Trial 81 finished with value: 0.6674256724232115 and parameters: {'hidden_dim': 78, 'heads': 7, 'dropout': 0.6376958695987329, 'learning_rate': 0.0012397536773063231, 'weight_decay': 0.0008737035565335023}. Best is trial 0 with value: 0.6951493405635922.\n",
      "[I 2024-09-08 20:47:27,178] Trial 82 finished with value: 0.6650510645663841 and parameters: {'hidden_dim': 71, 'heads': 6, 'dropout': 0.34443161813569856, 'learning_rate': 0.002263110804601358, 'weight_decay': 0.0008589384644921477}. Best is trial 0 with value: 0.6951493405635922.\n",
      "[I 2024-09-08 20:47:29,767] Trial 83 finished with value: 0.6809601745771958 and parameters: {'hidden_dim': 98, 'heads': 5, 'dropout': 0.44837154097346626, 'learning_rate': 0.0019005135688707157, 'weight_decay': 0.0005312699728412487}. Best is trial 0 with value: 0.6951493405635922.\n",
      "[I 2024-09-08 20:47:31,253] Trial 84 finished with value: 0.6744115610938042 and parameters: {'hidden_dim': 44, 'heads': 6, 'dropout': 0.39863102764210384, 'learning_rate': 0.0026029232815874444, 'weight_decay': 0.0003663530743736377}. Best is trial 0 with value: 0.6951493405635922.\n",
      "[I 2024-09-08 20:47:34,451] Trial 85 finished with value: 0.6416666666666666 and parameters: {'hidden_dim': 87, 'heads': 3, 'dropout': 0.42394084948298644, 'learning_rate': 0.0003981182928933188, 'weight_decay': 0.000746332522393247}. Best is trial 0 with value: 0.6951493405635922.\n",
      "[I 2024-09-08 20:47:38,350] Trial 86 finished with value: 0.6695887445887445 and parameters: {'hidden_dim': 76, 'heads': 7, 'dropout': 0.696757450136329, 'learning_rate': 0.0016330689548654503, 'weight_decay': 0.000647094602720737}. Best is trial 0 with value: 0.6951493405635922.\n",
      "[I 2024-09-08 20:47:40,881] Trial 87 finished with value: 0.6785064147018031 and parameters: {'hidden_dim': 58, 'heads': 7, 'dropout': 0.6716476710640459, 'learning_rate': 0.0027915190702799244, 'weight_decay': 0.0006016391082044494}. Best is trial 0 with value: 0.6951493405635922.\n",
      "[I 2024-09-08 20:47:42,063] Trial 88 finished with value: 0.6619845060419931 and parameters: {'hidden_dim': 53, 'heads': 4, 'dropout': 0.6237203521269783, 'learning_rate': 0.0032248060698920377, 'weight_decay': 0.0004856698536551976}. Best is trial 0 with value: 0.6951493405635922.\n",
      "[I 2024-09-08 20:47:45,433] Trial 89 finished with value: 0.6811867149405506 and parameters: {'hidden_dim': 67, 'heads': 6, 'dropout': 0.4761449211414914, 'learning_rate': 0.0020688423653018847, 'weight_decay': 0.0004420492313943704}. Best is trial 0 with value: 0.6951493405635922.\n",
      "[I 2024-09-08 20:47:47,369] Trial 90 finished with value: 0.6765325063995368 and parameters: {'hidden_dim': 90, 'heads': 2, 'dropout': 0.6591054952289647, 'learning_rate': 0.0013460001435548798, 'weight_decay': 0.000517666603858904}. Best is trial 0 with value: 0.6951493405635922.\n",
      "[I 2024-09-08 20:47:49,604] Trial 91 finished with value: 0.6835497835497836 and parameters: {'hidden_dim': 25, 'heads': 8, 'dropout': 0.6082434003736338, 'learning_rate': 0.00532844883349067, 'weight_decay': 0.0009445671913536675}. Best is trial 0 with value: 0.6951493405635922.\n",
      "[I 2024-09-08 20:47:50,639] Trial 92 finished with value: 0.6915217391304348 and parameters: {'hidden_dim': 26, 'heads': 8, 'dropout': 0.6344491513581682, 'learning_rate': 0.006397449550719647, 'weight_decay': 0.0009141671342077822}. Best is trial 0 with value: 0.6951493405635922.\n",
      "[I 2024-09-08 20:47:52,038] Trial 93 finished with value: 0.653471504832577 and parameters: {'hidden_dim': 23, 'heads': 7, 'dropout': 0.6305861312627494, 'learning_rate': 0.002422751024496751, 'weight_decay': 0.0009144281882514148}. Best is trial 0 with value: 0.6951493405635922.\n",
      "[I 2024-09-08 20:47:54,076] Trial 94 finished with value: 0.6836593387571404 and parameters: {'hidden_dim': 38, 'heads': 8, 'dropout': 0.6808759292139256, 'learning_rate': 0.005866721236546869, 'weight_decay': 0.0008449182625678189}. Best is trial 0 with value: 0.6951493405635922.\n",
      "[I 2024-09-08 20:47:55,476] Trial 95 finished with value: 0.6694170131670132 and parameters: {'hidden_dim': 29, 'heads': 6, 'dropout': 0.6997128381672494, 'learning_rate': 0.006178172130402142, 'weight_decay': 0.0008981576840737199}. Best is trial 0 with value: 0.6951493405635922.\n",
      "[I 2024-09-08 20:47:58,325] Trial 96 finished with value: 0.6648552685704389 and parameters: {'hidden_dim': 49, 'heads': 8, 'dropout': 0.6661442364943267, 'learning_rate': 0.007822413144437098, 'weight_decay': 0.00033897614486326337}. Best is trial 0 with value: 0.6951493405635922.\n",
      "[I 2024-09-08 20:47:59,187] Trial 97 finished with value: 0.6848037964717573 and parameters: {'hidden_dim': 34, 'heads': 3, 'dropout': 0.6449837904643795, 'learning_rate': 0.007296998295926244, 'weight_decay': 0.0008031003871162422}. Best is trial 0 with value: 0.6951493405635922.\n",
      "[I 2024-09-08 20:48:01,114] Trial 98 finished with value: 0.6790628245067497 and parameters: {'hidden_dim': 41, 'heads': 7, 'dropout': 0.6368839217232091, 'learning_rate': 0.0035259404170979924, 'weight_decay': 0.0008057274842594269}. Best is trial 0 with value: 0.6951493405635922.\n",
      "[I 2024-09-08 20:48:03,807] Trial 99 finished with value: 0.6627742832263334 and parameters: {'hidden_dim': 56, 'heads': 8, 'dropout': 0.6509892799297187, 'learning_rate': 0.008422155334908078, 'weight_decay': 0.0009859164245174365}. Best is trial 0 with value: 0.6951493405635922.\n"
     ]
    },
    {
     "name": "stdout",
     "output_type": "stream",
     "text": [
      "Best hyperparameters:  {'hidden_dim': 54, 'heads': 8, 'dropout': 0.6939289139602758, 'learning_rate': 0.0028841204630924307, 'weight_decay': 0.0003078305489260507}\n",
      "Best F1 score: 0.6951493405635922\n"
     ]
    }
   ],
   "source": [
    "study = optuna.create_study(direction='maximize')\n",
    "study.optimize(objective, n_trials=100)\n",
    "\n",
    "# Print hyperparameters and best F1 score\n",
    "print('Best hyperparameters: ', study.best_params)\n",
    "print(f\"Best F1 score: {study.best_value}\")"
   ]
  },
  {
   "cell_type": "markdown",
   "metadata": {},
   "source": [
    "## Training model with optimized hyperparameters"
   ]
  },
  {
   "cell_type": "code",
   "execution_count": 11,
   "metadata": {},
   "outputs": [],
   "source": [
    "# Final training using best hyperparameters\n",
    "best_params = study.best_params\n",
    "\n",
    "\n",
    "model = GAT(input_dim=node_features.shape[1], hidden_dim=best_params['hidden_dim'], \n",
    "            output_dim=2, heads=best_params['heads'], dropout=best_params['dropout'])\n",
    "optimizer = torch.optim.Adam(model.parameters(), lr=best_params['learning_rate'], weight_decay=best_params['weight_decay'])\n",
    "\n",
    "# Train on the full train data\n",
    "model.train()\n",
    "for epoch in range(200):\n",
    "    optimizer.zero_grad()\n",
    "    out = model(node_features, edge_index)\n",
    "    loss = F.nll_loss(out[train_mask], torch.tensor(train_labels, dtype=torch.long), weight=class_weights_tensor)\n",
    "    loss.backward()\n",
    "    optimizer.step()"
   ]
  },
  {
   "cell_type": "code",
   "execution_count": 12,
   "metadata": {},
   "outputs": [],
   "source": [
    "# Make predictions on the test set\n",
    "model.eval()\n",
    "test_out = model(node_features, edge_index)\n",
    "test_pred = test_out[test_mask].argmax(dim=1)\n",
    "\n",
    "# Save or process predictions\n",
    "test_df['resign'] = test_pred.cpu().numpy()"
   ]
  },
  {
   "cell_type": "code",
   "execution_count": 13,
   "metadata": {},
   "outputs": [
    {
     "data": {
      "text/plain": [
       "resign\n",
       "0    1699\n",
       "1     321\n",
       "Name: count, dtype: int64"
      ]
     },
     "execution_count": 13,
     "metadata": {},
     "output_type": "execute_result"
    }
   ],
   "source": [
    "test_df['resign'].value_counts()"
   ]
  },
  {
   "cell_type": "code",
   "execution_count": 14,
   "metadata": {},
   "outputs": [],
   "source": [
    "test_df[['id_employee', 'resign']].rename({'id_employee':'ID', 'resign':'abandono_6meses'}, axis=1).to_csv('sub_GAT_red.csv', index=False)"
   ]
  }
 ],
 "metadata": {
  "kernelspec": {
   "display_name": "Python 3",
   "language": "python",
   "name": "python3"
  },
  "language_info": {
   "codemirror_mode": {
    "name": "ipython",
    "version": 3
   },
   "file_extension": ".py",
   "mimetype": "text/x-python",
   "name": "python",
   "nbconvert_exporter": "python",
   "pygments_lexer": "ipython3",
   "version": "3.9.18"
  }
 },
 "nbformat": 4,
 "nbformat_minor": 2
}
