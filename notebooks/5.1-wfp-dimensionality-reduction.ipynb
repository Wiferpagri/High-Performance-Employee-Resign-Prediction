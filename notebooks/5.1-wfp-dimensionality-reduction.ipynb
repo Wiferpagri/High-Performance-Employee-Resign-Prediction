{
 "cells": [
  {
   "cell_type": "markdown",
   "metadata": {},
   "source": [
    "# Dimensionality reduction\n",
    "\n",
    "The dataset has increased its variables considerably due to the new generated ones, feature engineering and node embeddings. In order to reduce its complexity and avoid overfitting, it is ideal to apply a dimensionality reduction technique.\n",
    "\n",
    "Recursive Feature Extraction is a dimensionality reduction technique that evaluate the models with the best combination of features, in order to keep only those features that improve the model's performance. It can be applied with cross validation to avoid overfitting during the process. The chosen model to apply RFE is XGBoost Classifier since it can capture complex relationships on the data, very helpful to not discard features that have interaction with other ones.\n",
    "\n",
    "## Preparing environment"
   ]
  },
  {
   "cell_type": "code",
   "execution_count": 1,
   "metadata": {},
   "outputs": [],
   "source": [
    "import numpy as np\n",
    "import pandas as pd\n",
    "from sklearn.feature_selection import RFECV\n",
    "from sklearn.model_selection import RandomizedSearchCV\n",
    "from sklearn.metrics import f1_score, make_scorer\n",
    "from xgboost import XGBClassifier\n",
    "import matplotlib.pyplot as plt\n",
    "import sys\n",
    "sys.path.append('../high_performance_employee_resign_prediction')\n",
    "from utils import paths"
   ]
  },
  {
   "cell_type": "markdown",
   "metadata": {},
   "source": [
    "## Importing data"
   ]
  },
  {
   "cell_type": "code",
   "execution_count": 2,
   "metadata": {},
   "outputs": [],
   "source": [
    "train_df = pd.read_csv(paths.data_processed_dir('train_processed.csv'))\n",
    "test_df = pd.read_csv(paths.data_processed_dir('test_processed.csv'))\n",
    "\n",
    "train_red_df = pd.read_csv(paths.data_processed_dir('train_red_processed.csv'))\n",
    "test_red_df = pd.read_csv(paths.data_processed_dir('test_red_processed.csv'))"
   ]
  },
  {
   "cell_type": "code",
   "execution_count": 3,
   "metadata": {},
   "outputs": [],
   "source": [
    "# Extracting node embeddings to not affect them\n",
    "embeddings_columns = [col for col in train_df.columns.tolist() if 'embedding' in col]\n",
    "\n",
    "embeddings_train = train_df[embeddings_columns]\n",
    "embeddings_test = test_df[embeddings_columns]\n",
    "\n",
    "train_df = train_df.drop(columns=embeddings_columns)\n",
    "test_df = test_df.drop(columns=embeddings_columns)\n",
    "train_red_df = train_red_df.drop(columns=embeddings_columns)\n",
    "test_red_df = test_red_df.drop(columns=embeddings_columns)"
   ]
  },
  {
   "cell_type": "code",
   "execution_count": 4,
   "metadata": {},
   "outputs": [],
   "source": [
    "# Extracting ids and target features\n",
    "ids = ['id_employee', 'id_last_boss']\n",
    "\n",
    "ids_train = train_df[ids]\n",
    "ids_test = test_df[ids]\n",
    "\n",
    "y = train_df['resign']\n",
    "\n",
    "train_df.drop(columns=ids, inplace=True)\n",
    "train_df.drop(columns=['resign'], inplace=True)\n",
    "train_red_df.drop(columns=ids, inplace=True)\n",
    "train_red_df.drop(columns=['resign'], inplace=True)\n",
    "test_df.drop(columns=ids, inplace=True)\n",
    "test_red_df.drop(columns=ids, inplace=True)"
   ]
  },
  {
   "cell_type": "markdown",
   "metadata": {},
   "source": [
    "## Applying RFE"
   ]
  },
  {
   "cell_type": "code",
   "execution_count": 5,
   "metadata": {},
   "outputs": [],
   "source": [
    "# Initializing XGBoost Classifier\n",
    "xgb = XGBClassifier(random_state=42, eval_metric='mlogloss')\n",
    "\n",
    "# Initializing RFECV\n",
    "rfecv = RFECV(\n",
    "    estimator=xgb,\n",
    "    step=1, # Number of features to remove at each iteration\n",
    "    cv=5, # Using 5 folds to make cross validation\n",
    "    scoring='f1',\n",
    "    n_jobs=-1,\n",
    "    verbose=2\n",
    "    )"
   ]
  },
  {
   "cell_type": "markdown",
   "metadata": {},
   "source": [
    "### Applying on full data"
   ]
  },
  {
   "cell_type": "code",
   "execution_count": 6,
   "metadata": {},
   "outputs": [
    {
     "name": "stdout",
     "output_type": "stream",
     "text": [
      "Fitting estimator with 81 features.\n",
      "Fitting estimator with 80 features.\n",
      "Fitting estimator with 79 features.\n",
      "Fitting estimator with 78 features.\n",
      "Fitting estimator with 77 features.\n",
      "Fitting estimator with 76 features.\n",
      "Fitting estimator with 75 features.\n",
      "Fitting estimator with 74 features.\n",
      "Fitting estimator with 73 features.\n",
      "Fitting estimator with 72 features.\n",
      "Fitting estimator with 71 features.\n",
      "Fitting estimator with 70 features.\n",
      "Fitting estimator with 69 features.\n",
      "Fitting estimator with 68 features.\n",
      "Fitting estimator with 67 features.\n",
      "Fitting estimator with 66 features.\n",
      "Fitting estimator with 65 features.\n",
      "Fitting estimator with 64 features.\n",
      "Fitting estimator with 63 features.\n",
      "Fitting estimator with 62 features.\n",
      "Fitting estimator with 61 features.\n",
      "Fitting estimator with 60 features.\n",
      "Fitting estimator with 59 features.\n",
      "Fitting estimator with 58 features.\n",
      "Fitting estimator with 57 features.\n",
      "Fitting estimator with 56 features.\n",
      "Fitting estimator with 55 features.\n",
      "Fitting estimator with 54 features.\n",
      "Fitting estimator with 53 features.\n",
      "Fitting estimator with 52 features.\n",
      "Fitting estimator with 51 features.\n",
      "Fitting estimator with 50 features.\n",
      "Fitting estimator with 49 features.\n",
      "Fitting estimator with 48 features.\n",
      "Fitting estimator with 47 features.\n",
      "Fitting estimator with 46 features.\n",
      "Fitting estimator with 45 features.\n",
      "Fitting estimator with 44 features.\n",
      "Fitting estimator with 43 features.\n",
      "Fitting estimator with 42 features.\n",
      "Fitting estimator with 41 features.\n",
      "Fitting estimator with 40 features.\n",
      "Fitting estimator with 39 features.\n",
      "Fitting estimator with 38 features.\n",
      "Fitting estimator with 37 features.\n",
      "Fitting estimator with 36 features.\n",
      "Fitting estimator with 35 features.\n",
      "Fitting estimator with 34 features.\n",
      "Fitting estimator with 33 features.\n",
      "Fitting estimator with 32 features.\n",
      "Fitting estimator with 31 features.\n",
      "Fitting estimator with 30 features.\n",
      "Fitting estimator with 29 features.\n",
      "Fitting estimator with 28 features.\n",
      "Fitting estimator with 27 features.\n",
      "Fitting estimator with 26 features.\n",
      "Fitting estimator with 25 features.\n",
      "Fitting estimator with 24 features.\n",
      "Fitting estimator with 23 features.\n",
      "Fitting estimator with 22 features.\n",
      "Fitting estimator with 21 features.\n",
      "Fitting estimator with 20 features.\n",
      "Fitting estimator with 19 features.\n",
      "Fitting estimator with 18 features.\n",
      "Fitting estimator with 17 features.\n",
      "Fitting estimator with 16 features.\n",
      "Fitting estimator with 15 features.\n",
      "Fitting estimator with 14 features.\n",
      "Fitting estimator with 13 features.\n",
      "Fitting estimator with 12 features.\n",
      "Fitting estimator with 11 features.\n",
      "Fitting estimator with 10 features.\n",
      "Fitting estimator with 9 features.\n",
      "Fitting estimator with 8 features.\n",
      "Fitting estimator with 7 features.\n",
      "Fitting estimator with 6 features.\n",
      "Fitting estimator with 5 features.\n",
      "Optimal number of features: 4\n",
      "Selected Features:  Index(['seniority_2', 'gender_Mujer', 'gender_boss_Mujer',\n",
      "       'gender_Mujer*gender_boss_Mujer'],\n",
      "      dtype='object')\n"
     ]
    }
   ],
   "source": [
    "# Applying RFECV on full data\n",
    "\n",
    "rfecv.fit(train_df, y)\n",
    "\n",
    "print(f'Optimal number of features: {rfecv.n_features_}')\n",
    "\n",
    "# List the selected features\n",
    "selected_features = train_df.columns[rfecv.support_]\n",
    "print(\"Selected Features: \", selected_features)"
   ]
  },
  {
   "cell_type": "code",
   "execution_count": 7,
   "metadata": {},
   "outputs": [
    {
     "data": {
      "image/png": "[encoded data removed]",
      "text/plain": [
       "<Figure size 640x480 with 1 Axes>"
      ]
     },
     "metadata": {},
     "output_type": "display_data"
    }
   ],
   "source": [
    "# Plot the cross-validation scores as the number of features changes\n",
    "plt.figure()\n",
    "plt.xlabel(\"Number of features selected\")\n",
    "plt.ylabel(\"Cross-validation score (F1)\")\n",
    "plt.plot(range(1, len(rfecv.cv_results_['mean_test_score']) + 1), rfecv.cv_results_['mean_test_score'])\n",
    "plt.show()"
   ]
  },
  {
   "cell_type": "code",
   "execution_count": 21,
   "metadata": {},
   "outputs": [],
   "source": [
    "train_df = pd.concat([ids_train, train_df[selected_features], embeddings_train, y], axis=1)\n",
    "test_df = pd.concat([ids_test, test_df[selected_features], embeddings_test], axis=1)"
   ]
  },
  {
   "cell_type": "code",
   "execution_count": 22,
   "metadata": {},
   "outputs": [],
   "source": [
    "# Saving reduced data\n",
    "\n",
    "train_df.to_csv(paths.data_processed_dir('train_dimrdcd.csv'), index=False)\n",
    "test_df.to_csv(paths.data_processed_dir('test_dimrdcd.csv'), index=False)"
   ]
  }
 ],
 "metadata": {
  "kernelspec": {
   "display_name": "Python 3",
   "language": "python",
   "name": "python3"
  },
  "language_info": {
   "codemirror_mode": {
    "name": "ipython",
    "version": 3
   },
   "file_extension": ".py",
   "mimetype": "text/x-python",
   "name": "python",
   "nbconvert_exporter": "python",
   "pygments_lexer": "ipython3",
   "version": "3.9.18"
  }
 },
 "nbformat": 4,
 "nbformat_minor": 2
}
