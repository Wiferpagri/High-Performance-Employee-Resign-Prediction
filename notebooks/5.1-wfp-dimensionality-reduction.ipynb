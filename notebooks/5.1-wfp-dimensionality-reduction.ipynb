{
 "cells": [
  {
   "cell_type": "markdown",
   "metadata": {},
   "source": [
    "# Dimensionality reduction\n",
    "\n",
    "The dataset has increased its variables considerably due to the new generated ones, feature engineering and node embeddings. In order to reduce its complexity and avoid overfitting, it is ideal to apply a dimensionality reduction technique.\n",
    "\n",
    "Recursive Feature Extraction is a dimensionality reduction technique that evaluate the models with the best combination of features, in order to keep only those features that improve the model's performance. It can be applied with cross validation to avoid overfitting during the process. The chosen model to apply RFE is XGBoost Classifier since it can capture complex relationships on the data, very helpful to not discard features that have interaction with other ones.\n",
    "\n",
    "## Preparing environment"
   ]
  },
  {
   "cell_type": "code",
   "execution_count": 39,
   "metadata": {},
   "outputs": [],
   "source": [
    "import numpy as np\n",
    "import pandas as pd\n",
    "from sklearn.model_selection import train_test_split\n",
    "from sklearn.metrics import f1_score, make_scorer\n",
    "from xgboost import XGBClassifier\n",
    "import matplotlib.pyplot as plt\n",
    "import sys\n",
    "sys.path.append('../high_performance_employee_resign_prediction')\n",
    "from utils import paths"
   ]
  },
  {
   "cell_type": "markdown",
   "metadata": {},
   "source": [
    "## Importing data"
   ]
  },
  {
   "cell_type": "code",
   "execution_count": 40,
   "metadata": {},
   "outputs": [],
   "source": [
    "train_df = pd.read_csv(paths.data_processed_dir('train_featured.csv'))\n",
    "test_df = pd.read_csv(paths.data_processed_dir('test_featured.csv'))\n",
    "\n",
    "train_red_df = pd.read_csv(paths.data_processed_dir('train_red_featured.csv'))\n",
    "test_red_df = pd.read_csv(paths.data_processed_dir('test_red_featured.csv'))"
   ]
  },
  {
   "cell_type": "code",
   "execution_count": null,
   "metadata": {},
   "outputs": [],
   "source": [
    "# Extracting node embeddings to not affect them\n",
    "\n",
    "embeddings_columns = [col for col in train_df.columns.tolist() if 'embedding' in col]\n",
    "\n",
    "embeddings_train = train_df[embeddings_columns]\n",
    "embeddings_test = test_df[embeddings_columns]\n",
    "\n",
    "train_df = train_df.drop(columns=embeddings_columns)\n",
    "test_df = test_df.drop(columns=embeddings_columns)\n",
    "train_red_df = train_red_df.drop(columns=embeddings_columns)\n",
    "test_red_df = test_red_df.drop(columns=embeddings_columns)"
   ]
  },
  {
   "cell_type": "code",
   "execution_count": 42,
   "metadata": {},
   "outputs": [],
   "source": [
    "# Extracting ids and target features\n",
    "ids = ['id_employee', 'id_last_boss']\n",
    "\n",
    "ids_train = train_df[ids]\n",
    "ids_test = test_df[ids]\n",
    "\n",
    "y = train_df['resign']\n",
    "\n",
    "train_df.drop(columns=ids, inplace=True)\n",
    "train_df.drop(columns=['resign'], inplace=True)\n",
    "train_red_df.drop(columns=ids, inplace=True)\n",
    "train_red_df.drop(columns=['resign'], inplace=True)\n",
    "test_df.drop(columns=ids, inplace=True)\n",
    "test_red_df.drop(columns=ids, inplace=True)"
   ]
  },
  {
   "cell_type": "code",
   "execution_count": 43,
   "metadata": {},
   "outputs": [],
   "source": [
    "# Converting categorical columns\n",
    "\n",
    "cat_cols = ['seniority', 'work_modality', 'gender', 'recruitment_channel', 'marital_estatus', \n",
    "            'join_year', 'join_month', 'performance', 'join_age_group', 'work_modality_boss', \n",
    "            'gender_boss', 'recruitment_channel_boss', 'marital_estatus_boss', 'join_year_boss', 'join_month_boss', \n",
    "            'performance_boss', 'join_age_group_boss', 'joined_after_boss', 'younger_than_boss']\n",
    "\n",
    "red_cat_cols = [col for col in cat_cols if col in train_red_df.columns]\n",
    "\n",
    "train_df[cat_cols] = train_df[cat_cols].astype('category')\n",
    "test_df[cat_cols] = test_df[cat_cols].astype('category')\n",
    "train_red_df[red_cat_cols] = train_red_df[red_cat_cols].astype('category')\n",
    "test_red_df[red_cat_cols] = test_red_df[red_cat_cols].astype('category')"
   ]
  },
  {
   "cell_type": "code",
   "execution_count": 44,
   "metadata": {},
   "outputs": [],
   "source": [
    "X_train, X_test, y_train, y_test = train_test_split(train_df, y, test_size=0.2, random_state=42)"
   ]
  },
  {
   "cell_type": "markdown",
   "metadata": {},
   "source": [
    "## Applying RFE"
   ]
  },
  {
   "cell_type": "code",
   "execution_count": null,
   "metadata": {},
   "outputs": [
    {
     "data": {
      "text/html": [
       "<style>#sk-container-id-3 {color: black;}#sk-container-id-3 pre{padding: 0;}#sk-container-id-3 div.sk-toggleable {background-color: white;}#sk-container-id-3 label.sk-toggleable__label {cursor: pointer;display: block;width: 100%;margin-bottom: 0;padding: 0.3em;box-sizing: border-box;text-align: center;}#sk-container-id-3 label.sk-toggleable__label-arrow:before {content: \"▸\";float: left;margin-right: 0.25em;color: #696969;}#sk-container-id-3 label.sk-toggleable__label-arrow:hover:before {color: black;}#sk-container-id-3 div.sk-estimator:hover label.sk-toggleable__label-arrow:before {color: black;}#sk-container-id-3 div.sk-toggleable__content {max-height: 0;max-width: 0;overflow: hidden;text-align: left;background-color: #f0f8ff;}#sk-container-id-3 div.sk-toggleable__content pre {margin: 0.2em;color: black;border-radius: 0.25em;background-color: #f0f8ff;}#sk-container-id-3 input.sk-toggleable__control:checked~div.sk-toggleable__content {max-height: 200px;max-width: 100%;overflow: auto;}#sk-container-id-3 input.sk-toggleable__control:checked~label.sk-toggleable__label-arrow:before {content: \"▾\";}#sk-container-id-3 div.sk-estimator input.sk-toggleable__control:checked~label.sk-toggleable__label {background-color: #d4ebff;}#sk-container-id-3 div.sk-label input.sk-toggleable__control:checked~label.sk-toggleable__label {background-color: #d4ebff;}#sk-container-id-3 input.sk-hidden--visually {border: 0;clip: rect(1px 1px 1px 1px);clip: rect(1px, 1px, 1px, 1px);height: 1px;margin: -1px;overflow: hidden;padding: 0;position: absolute;width: 1px;}#sk-container-id-3 div.sk-estimator {font-family: monospace;background-color: #f0f8ff;border: 1px dotted black;border-radius: 0.25em;box-sizing: border-box;margin-bottom: 0.5em;}#sk-container-id-3 div.sk-estimator:hover {background-color: #d4ebff;}#sk-container-id-3 div.sk-parallel-item::after {content: \"\";width: 100%;border-bottom: 1px solid gray;flex-grow: 1;}#sk-container-id-3 div.sk-label:hover label.sk-toggleable__label {background-color: #d4ebff;}#sk-container-id-3 div.sk-serial::before {content: \"\";position: absolute;border-left: 1px solid gray;box-sizing: border-box;top: 0;bottom: 0;left: 50%;z-index: 0;}#sk-container-id-3 div.sk-serial {display: flex;flex-direction: column;align-items: center;background-color: white;padding-right: 0.2em;padding-left: 0.2em;position: relative;}#sk-container-id-3 div.sk-item {position: relative;z-index: 1;}#sk-container-id-3 div.sk-parallel {display: flex;align-items: stretch;justify-content: center;background-color: white;position: relative;}#sk-container-id-3 div.sk-item::before, #sk-container-id-3 div.sk-parallel-item::before {content: \"\";position: absolute;border-left: 1px solid gray;box-sizing: border-box;top: 0;bottom: 0;left: 50%;z-index: -1;}#sk-container-id-3 div.sk-parallel-item {display: flex;flex-direction: column;z-index: 1;position: relative;background-color: white;}#sk-container-id-3 div.sk-parallel-item:first-child::after {align-self: flex-end;width: 50%;}#sk-container-id-3 div.sk-parallel-item:last-child::after {align-self: flex-start;width: 50%;}#sk-container-id-3 div.sk-parallel-item:only-child::after {width: 0;}#sk-container-id-3 div.sk-dashed-wrapped {border: 1px dashed gray;margin: 0 0.4em 0.5em 0.4em;box-sizing: border-box;padding-bottom: 0.4em;background-color: white;}#sk-container-id-3 div.sk-label label {font-family: monospace;font-weight: bold;display: inline-block;line-height: 1.2em;}#sk-container-id-3 div.sk-label-container {text-align: center;}#sk-container-id-3 div.sk-container {/* jupyter's `normalize.less` sets `[hidden] { display: none; }` but bootstrap.min.css set `[hidden] { display: none !important; }` so we also need the `!important` here to be able to override the default hidden behavior on the sphinx rendered scikit-learn.org. See: https://github.com/scikit-learn/scikit-learn/issues/21755 */display: inline-block !important;position: relative;}#sk-container-id-3 div.sk-text-repr-fallback {display: none;}</style><div id=\"sk-container-id-3\" class=\"sk-top-container\"><div class=\"sk-text-repr-fallback\"><pre>XGBClassifier(base_score=None, booster=&#x27;dart&#x27;, callbacks=None,\n",
       "              colsample_bylevel=None, colsample_bynode=None,\n",
       "              colsample_bytree=0.8, device=None, early_stopping_rounds=50,\n",
       "              enable_categorical=True, eval_metric=&#x27;logloss&#x27;,\n",
       "              feature_types=None, gamma=None, grow_policy=None,\n",
       "              importance_type=None, interaction_constraints=None,\n",
       "              learning_rate=0.01, max_bin=None, max_cat_threshold=None,\n",
       "              max_cat_to_onehot=None, max_delta_step=None, max_depth=6,\n",
       "              max_leaves=None, min_child_weight=None, missing=nan,\n",
       "              monotone_constraints=None, multi_strategy=None, n_estimators=1000,\n",
       "              n_jobs=None, num_parallel_tree=None, random_state=42, ...)</pre><b>In a Jupyter environment, please rerun this cell to show the HTML representation or trust the notebook. <br />On GitHub, the HTML representation is unable to render, please try loading this page with nbviewer.org.</b></div><div class=\"sk-container\" hidden><div class=\"sk-item\"><div class=\"sk-estimator sk-toggleable\"><input class=\"sk-toggleable__control sk-hidden--visually\" id=\"sk-estimator-id-3\" type=\"checkbox\" checked><label for=\"sk-estimator-id-3\" class=\"sk-toggleable__label sk-toggleable__label-arrow\">XGBClassifier</label><div class=\"sk-toggleable__content\"><pre>XGBClassifier(base_score=None, booster=&#x27;dart&#x27;, callbacks=None,\n",
       "              colsample_bylevel=None, colsample_bynode=None,\n",
       "              colsample_bytree=0.8, device=None, early_stopping_rounds=50,\n",
       "              enable_categorical=True, eval_metric=&#x27;logloss&#x27;,\n",
       "              feature_types=None, gamma=None, grow_policy=None,\n",
       "              importance_type=None, interaction_constraints=None,\n",
       "              learning_rate=0.01, max_bin=None, max_cat_threshold=None,\n",
       "              max_cat_to_onehot=None, max_delta_step=None, max_depth=6,\n",
       "              max_leaves=None, min_child_weight=None, missing=nan,\n",
       "              monotone_constraints=None, multi_strategy=None, n_estimators=1000,\n",
       "              n_jobs=None, num_parallel_tree=None, random_state=42, ...)</pre></div></div></div></div></div>"
      ],
      "text/plain": [
       "XGBClassifier(base_score=None, booster='dart', callbacks=None,\n",
       "              colsample_bylevel=None, colsample_bynode=None,\n",
       "              colsample_bytree=0.8, device=None, early_stopping_rounds=50,\n",
       "              enable_categorical=True, eval_metric='logloss',\n",
       "              feature_types=None, gamma=None, grow_policy=None,\n",
       "              importance_type=None, interaction_constraints=None,\n",
       "              learning_rate=0.01, max_bin=None, max_cat_threshold=None,\n",
       "              max_cat_to_onehot=None, max_delta_step=None, max_depth=6,\n",
       "              max_leaves=None, min_child_weight=None, missing=nan,\n",
       "              monotone_constraints=None, multi_strategy=None, n_estimators=1000,\n",
       "              n_jobs=None, num_parallel_tree=None, random_state=42, ...)"
      ]
     },
     "execution_count": 45,
     "metadata": {},
     "output_type": "execute_result"
    }
   ],
   "source": [
    "# Initializing XGBoost Classifier\n",
    "\n",
    "xgb = XGBClassifier(random_state=42,\n",
    "                    objective='binary:logistic',\n",
    "                    eval_metric='logloss', \n",
    "                    enable_categorical=True,\n",
    "                    booster='dart',\n",
    "                    tree_method='hist',\n",
    "                    max_depth=6,\n",
    "                    n_estimators=1000,\n",
    "                    learning_rate=0.01,\n",
    "                    colsample_bytree=0.8,\n",
    "                    reg_alpha=0.1,\n",
    "                    reg_lambda=1.0, \n",
    "                    early_stopping_rounds=50\n",
    "                    )\n",
    "\n",
    "xgb.fit(X_train, y_train, eval_set=[(X_test, y_test)], verbose=False)"
   ]
  },
  {
   "cell_type": "code",
   "execution_count": 46,
   "metadata": {},
   "outputs": [],
   "source": [
    "feature_importances = xgb.feature_importances_\n",
    "feature_importance_df = pd.DataFrame({\n",
    "    'feature': train_df.columns,\n",
    "    'importance': feature_importances\n",
    "}).sort_values(by='importance', ascending=False)"
   ]
  },
  {
   "cell_type": "code",
   "execution_count": 47,
   "metadata": {},
   "outputs": [
    {
     "data": {
      "text/html": [
       "<div>\n",
       "<style scoped>\n",
       "    .dataframe tbody tr th:only-of-type {\n",
       "        vertical-align: middle;\n",
       "    }\n",
       "\n",
       "    .dataframe tbody tr th {\n",
       "        vertical-align: top;\n",
       "    }\n",
       "\n",
       "    .dataframe thead th {\n",
       "        text-align: right;\n",
       "    }\n",
       "</style>\n",
       "<table border=\"1\" class=\"dataframe\">\n",
       "  <thead>\n",
       "    <tr style=\"text-align: right;\">\n",
       "      <th></th>\n",
       "      <th>feature</th>\n",
       "      <th>importance</th>\n",
       "    </tr>\n",
       "  </thead>\n",
       "  <tbody>\n",
       "    <tr>\n",
       "      <th>4</th>\n",
       "      <td>gender</td>\n",
       "      <td>0.083815</td>\n",
       "    </tr>\n",
       "    <tr>\n",
       "      <th>51</th>\n",
       "      <td>Abs(performance_score)/performance_score</td>\n",
       "      <td>0.079747</td>\n",
       "    </tr>\n",
       "    <tr>\n",
       "      <th>19</th>\n",
       "      <td>gender_boss</td>\n",
       "      <td>0.048776</td>\n",
       "    </tr>\n",
       "    <tr>\n",
       "      <th>44</th>\n",
       "      <td>gender_Mujer*gender_boss_Mujer</td>\n",
       "      <td>0.036954</td>\n",
       "    </tr>\n",
       "    <tr>\n",
       "      <th>56</th>\n",
       "      <td>seniority_2*Abs(psi_score_boss)</td>\n",
       "      <td>0.035880</td>\n",
       "    </tr>\n",
       "    <tr>\n",
       "      <th>...</th>\n",
       "      <td>...</td>\n",
       "      <td>...</td>\n",
       "    </tr>\n",
       "    <tr>\n",
       "      <th>34</th>\n",
       "      <td>age_diff</td>\n",
       "      <td>0.006158</td>\n",
       "    </tr>\n",
       "    <tr>\n",
       "      <th>16</th>\n",
       "      <td>work_modality_boss</td>\n",
       "      <td>0.005071</td>\n",
       "    </tr>\n",
       "    <tr>\n",
       "      <th>30</th>\n",
       "      <td>join_age_group_boss</td>\n",
       "      <td>0.004650</td>\n",
       "    </tr>\n",
       "    <tr>\n",
       "      <th>15</th>\n",
       "      <td>join_age_group</td>\n",
       "      <td>0.003422</td>\n",
       "    </tr>\n",
       "    <tr>\n",
       "      <th>33</th>\n",
       "      <td>joined_after_boss</td>\n",
       "      <td>0.000000</td>\n",
       "    </tr>\n",
       "  </tbody>\n",
       "</table>\n",
       "<p>66 rows × 2 columns</p>\n",
       "</div>"
      ],
      "text/plain": [
       "                                     feature  importance\n",
       "4                                     gender    0.083815\n",
       "51  Abs(performance_score)/performance_score    0.079747\n",
       "19                               gender_boss    0.048776\n",
       "44            gender_Mujer*gender_boss_Mujer    0.036954\n",
       "56           seniority_2*Abs(psi_score_boss)    0.035880\n",
       "..                                       ...         ...\n",
       "34                                  age_diff    0.006158\n",
       "16                        work_modality_boss    0.005071\n",
       "30                       join_age_group_boss    0.004650\n",
       "15                            join_age_group    0.003422\n",
       "33                         joined_after_boss    0.000000\n",
       "\n",
       "[66 rows x 2 columns]"
      ]
     },
     "execution_count": 47,
     "metadata": {},
     "output_type": "execute_result"
    }
   ],
   "source": [
    "feature_importance_df"
   ]
  },
  {
   "cell_type": "code",
   "execution_count": 48,
   "metadata": {},
   "outputs": [],
   "source": [
    "# Applying RFE manually:\n",
    "\n",
    "feat_number = list(range(1, feature_importance_df.shape[0] + 1))\n",
    "scores = []\n",
    "\n",
    "for i in feat_number:\n",
    "    cols = list(feature_importance_df.iloc[:i, 0])\n",
    "    \n",
    "    xgb = XGBClassifier(random_state=42,\n",
    "                    objective='binary:logistic',\n",
    "                    eval_metric='logloss', \n",
    "                    enable_categorical=True,\n",
    "                    booster='dart',\n",
    "                    tree_method='hist',\n",
    "                    max_depth=6,\n",
    "                    n_estimators=1000,\n",
    "                    learning_rate=0.01,\n",
    "                    colsample_bytree=0.8,\n",
    "                    reg_alpha=0.1,\n",
    "                    reg_lambda=1.0, \n",
    "                    early_stopping_rounds=50\n",
    "                    )\n",
    "\n",
    "    xgb.fit(X_train[cols], y_train, eval_set=[(X_test[cols], y_test)], verbose=False)\n",
    "    f1_cols = f1_score(xgb.predict(X_test[cols]), y_test)\n",
    "    scores.append(f1_cols)"
   ]
  },
  {
   "cell_type": "code",
   "execution_count": null,
   "metadata": {},
   "outputs": [
    {
     "data": {
      "image/png": "[encoded data removed]",
      "text/plain": [
       "<Figure size 640x480 with 1 Axes>"
      ]
     },
     "metadata": {},
     "output_type": "display_data"
    }
   ],
   "source": [
    "# Plotting F1 score vs Number of features\n",
    "\n",
    "plt.figure()\n",
    "plt.xlabel(\"Number of features selected\")\n",
    "plt.ylabel(\"F1 Score)\")\n",
    "plt.plot(feat_number, scores)\n",
    "plt.show()"
   ]
  },
  {
   "cell_type": "code",
   "execution_count": null,
   "metadata": {},
   "outputs": [],
   "source": [
    "# Saving selected features\n",
    "\n",
    "selected_features = list(feature_importance_df.iloc[:scores.index(max(scores)), 0])\n",
    "reduced_train = pd.concat([ids_train, train_df[selected_features], embeddings_train, y], axis=1)\n",
    "reduced_test = pd.concat([ids_test, test_df[selected_features], embeddings_test], axis=1)"
   ]
  },
  {
   "cell_type": "code",
   "execution_count": 58,
   "metadata": {},
   "outputs": [
    {
     "data": {
      "text/plain": [
       "['gender',\n",
       " 'Abs(performance_score)/performance_score',\n",
       " 'gender_boss',\n",
       " 'gender_Mujer*gender_boss_Mujer',\n",
       " 'seniority_2*Abs(psi_score_boss)',\n",
       " 'gender_boss_Mujer*Abs(join_age_boss)',\n",
       " 'performance_score',\n",
       " 'gender_Mujer*recruitment_channel_PortalWeb',\n",
       " 'gender_Mujer*marital_estatus_Soltero',\n",
       " 'seniority',\n",
       " 'gender_Mujer*low_health_days',\n",
       " 'recruitment_channel',\n",
       " 'join_year',\n",
       " 'performance',\n",
       " 'office_distance_boss**2/boss_employees_in_charge',\n",
       " 'low_health_days',\n",
       " 'marital_estatus',\n",
       " 'marital_estatus_Soltero*Abs(psi_score)',\n",
       " 'join_month_boss',\n",
       " 'performance_score_boss*recruitment_channel_boss_PortalWeb',\n",
       " 'join_year_boss']"
      ]
     },
     "execution_count": 58,
     "metadata": {},
     "output_type": "execute_result"
    }
   ],
   "source": [
    "selected_features"
   ]
  },
  {
   "cell_type": "code",
   "execution_count": null,
   "metadata": {},
   "outputs": [],
   "source": [
    "# Saving reduced data\n",
    "\n",
    "reduced_train.to_csv(paths.data_processed_dir('reduced_train.csv'), index=False)\n",
    "reduced_test.to_csv(paths.data_processed_dir('reduced_test.csv'), index=False)"
   ]
  }
 ],
 "metadata": {
  "kernelspec": {
   "display_name": "venv",
   "language": "python",
   "name": "python3"
  },
  "language_info": {
   "codemirror_mode": {
    "name": "ipython",
    "version": 3
   },
   "file_extension": ".py",
   "mimetype": "text/x-python",
   "name": "python",
   "nbconvert_exporter": "python",
   "pygments_lexer": "ipython3",
   "version": "3.9.18"
  }
 },
 "nbformat": 4,
 "nbformat_minor": 2
}
