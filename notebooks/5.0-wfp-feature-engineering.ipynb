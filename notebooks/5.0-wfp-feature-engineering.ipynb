{
 "cells": [
  {
   "cell_type": "markdown",
   "metadata": {},
   "source": [
    "# Feature engineering\n",
    "\n",
    "There are libraries to make auto feature engineering. In this case, we gonna use AutoFeat that is a powerful tool to make feature engineering. It requires preprocessing before using it. "
   ]
  },
  {
   "cell_type": "markdown",
   "metadata": {},
   "source": [
    "## Preparing environment"
   ]
  },
  {
   "cell_type": "code",
   "execution_count": 1,
   "metadata": {},
   "outputs": [],
   "source": [
    "import numpy as np\n",
    "import pandas as pd\n",
    "from sklearn.preprocessing import OneHotEncoder, StandardScaler\n",
    "from autofeat import AutoFeatClassifier\n",
    "import sys\n",
    "sys.path.append('../high_performance_employee_resign_prediction')\n",
    "from utils import paths"
   ]
  },
  {
   "cell_type": "markdown",
   "metadata": {},
   "source": [
    "## Importing data"
   ]
  },
  {
   "cell_type": "code",
   "execution_count": 2,
   "metadata": {},
   "outputs": [],
   "source": [
    "train_df = pd.read_csv(paths.data_interim_dir('train_node.csv'))\n",
    "test_df = pd.read_csv(paths.data_interim_dir('test_node.csv'))"
   ]
  },
  {
   "cell_type": "code",
   "execution_count": 3,
   "metadata": {},
   "outputs": [],
   "source": [
    "num_cols = ['office_distance', 'low_health_days', 'average_permanence', 'salary', 'performance_score', \n",
    "            'psi_score', 'join_age', 'office_distance_boss', 'low_health_days_boss', 'average_permanence_boss', \n",
    "            'salary_boss', 'performance_score_boss', 'psi_score_boss', 'join_age_boss', 'salary_diff',\n",
    "            'join_days_diff', 'age_diff', 'avg_od_epb', 'avg_lhd_epb', 'avg_avgp_epb', \n",
    "            'avg_sal_epb', 'avg_ps_epb', 'avg_psis_epb', 'avg_ja_epb', 'boss_employees_in_charge']\n",
    "\n",
    "cat_cols = ['seniority', 'work_modality', 'gender', 'recruitment_channel', 'marital_estatus', \n",
    "            'join_year', 'join_month', 'performance', 'join_age_group', 'work_modality_boss', \n",
    "            'gender_boss', 'recruitment_channel_boss', 'marital_estatus_boss', 'join_year_boss', 'join_month_boss', \n",
    "            'performance_boss', 'join_age_group_boss', 'joined_after_boss', 'younger_than_boss']"
   ]
  },
  {
   "cell_type": "markdown",
   "metadata": {},
   "source": [
    "## Dropping categories according to hypothesis testing"
   ]
  },
  {
   "cell_type": "code",
   "execution_count": 4,
   "metadata": {},
   "outputs": [],
   "source": [
    "reduced_train_df = train_df.drop(columns=['join_month', 'work_modality_boss', 'gender_boss', 'recruitment_channel_boss', \n",
    "                                          'marital_estatus_boss', 'join_year_boss', 'join_month_boss', 'join_age_group_boss', \n",
    "                                          'younger_than_boss', 'office_distance', 'average_permanence', 'salary', \n",
    "                                          'psi_score', 'join_age', 'office_distance_boss', 'average_permanence_boss', \n",
    "                                          'salary_boss', 'psi_score_boss', 'join_age_boss', 'age_diff', \n",
    "                                          'avg_od_epb', 'avg_lhd_epb', 'avg_sal_epb', 'avg_psis_epb', \n",
    "                                          'boss_employees_in_charge'])\n",
    "\n",
    "reduced_test_df = test_df.drop(columns=['join_month', 'work_modality_boss', 'gender_boss', 'recruitment_channel_boss', \n",
    "                                          'marital_estatus_boss', 'join_year_boss', 'join_month_boss', 'join_age_group_boss', \n",
    "                                          'younger_than_boss', 'office_distance', 'average_permanence', 'salary', \n",
    "                                          'psi_score', 'join_age', 'office_distance_boss', 'average_permanence_boss', \n",
    "                                          'salary_boss', 'psi_score_boss', 'join_age_boss', 'age_diff', \n",
    "                                          'avg_od_epb', 'avg_lhd_epb', 'avg_sal_epb', 'avg_psis_epb', \n",
    "                                          'boss_employees_in_charge'])"
   ]
  },
  {
   "cell_type": "markdown",
   "metadata": {},
   "source": [
    "## Preprocessing full data"
   ]
  },
  {
   "cell_type": "code",
   "execution_count": 5,
   "metadata": {},
   "outputs": [],
   "source": [
    "ohe_full = OneHotEncoder(sparse_output=False, drop='first')\n",
    "ss_full = StandardScaler()"
   ]
  },
  {
   "cell_type": "code",
   "execution_count": 6,
   "metadata": {},
   "outputs": [],
   "source": [
    "# Encoding categories\n",
    "\n",
    "# Train\n",
    "encoded_full_train = pd.DataFrame(ohe_full.fit_transform(train_df[cat_cols]))\n",
    "encoded_full_train.columns = ohe_full.get_feature_names_out(cat_cols)\n",
    "\n",
    "# Test\n",
    "encoded_full_test = pd.DataFrame(ohe_full.transform(test_df[cat_cols]))\n",
    "encoded_full_test.columns = ohe_full.get_feature_names_out(cat_cols)"
   ]
  },
  {
   "cell_type": "code",
   "execution_count": 7,
   "metadata": {},
   "outputs": [],
   "source": [
    "# Scaling numericals\n",
    "\n",
    "# Train\n",
    "scaled_full_train = pd.DataFrame(ss_full.fit_transform(train_df[num_cols]), columns=num_cols)\n",
    "\n",
    "# Test\n",
    "scaled_full_test = pd.DataFrame(ss_full.transform(test_df[num_cols]), columns=num_cols)"
   ]
  },
  {
   "cell_type": "code",
   "execution_count": 8,
   "metadata": {},
   "outputs": [],
   "source": [
    "# Concatenating dfs\n",
    "\n",
    "concat_full_train = pd.concat([encoded_full_train, scaled_full_train], axis=1)\n",
    "\n",
    "concat_full_test = pd.concat([encoded_full_test, scaled_full_test], axis=1)"
   ]
  },
  {
   "cell_type": "markdown",
   "metadata": {},
   "source": [
    "### Feature engineering\n",
    "\n",
    "Autofeat is a library that applies multiple numerical transformations to the features in order to find meaningful relationships between features and target, improving the prediction"
   ]
  },
  {
   "cell_type": "code",
   "execution_count": 9,
   "metadata": {},
   "outputs": [],
   "source": [
    "y = train_df['resign']"
   ]
  },
  {
   "cell_type": "code",
   "execution_count": 10,
   "metadata": {},
   "outputs": [],
   "source": [
    "feateng_cols = ['seniority_2',\n",
    " 'work_modality_Presencial',\n",
    " 'gender_Mujer',\n",
    " 'recruitment_channel_Headhunter',\n",
    " 'recruitment_channel_Linkedin',\n",
    " 'recruitment_channel_Portal Web',\n",
    " 'recruitment_channel_Referidos',\n",
    " 'marital_estatus_Divorciado',\n",
    " 'marital_estatus_Soltero',\n",
    " 'marital_estatus_Viudo',\n",
    " 'performance_low',\n",
    " 'join_age_group_old_adult',\n",
    " 'join_age_group_young',\n",
    " 'work_modality_boss_Presencial',\n",
    " 'gender_boss_Mujer',\n",
    " 'recruitment_channel_boss_Headhunter',\n",
    " 'recruitment_channel_boss_Linkedin',\n",
    " 'recruitment_channel_boss_Portal Web',\n",
    " 'recruitment_channel_boss_Referidos',\n",
    " 'marital_estatus_boss_Divorciado',\n",
    " 'marital_estatus_boss_Soltero',\n",
    " 'marital_estatus_boss_Viudo',\n",
    " 'performance_boss_low',\n",
    " 'join_age_group_boss_old_adult',\n",
    " 'join_age_group_boss_young',\n",
    " 'joined_after_boss_1',\n",
    " 'younger_than_boss_1',\n",
    " 'office_distance',\n",
    " 'low_health_days',\n",
    " 'average_permanence',\n",
    " 'salary',\n",
    " 'performance_score',\n",
    " 'psi_score',\n",
    " 'join_age',\n",
    " 'office_distance_boss',\n",
    " 'low_health_days_boss',\n",
    " 'average_permanence_boss',\n",
    " 'salary_boss',\n",
    " 'performance_score_boss',\n",
    " 'psi_score_boss',\n",
    " 'join_age_boss',\n",
    " 'salary_diff',\n",
    " 'join_days_diff',\n",
    " 'age_diff',\n",
    " 'boss_employees_in_charge']"
   ]
  },
  {
   "cell_type": "code",
   "execution_count": 11,
   "metadata": {},
   "outputs": [
    {
     "name": "stderr",
     "output_type": "stream",
     "text": [
      "2024-10-24 23:17:00,375 INFO: [AutoFeat] The 2 step feature engineering process could generate up to 49770 features.\n",
      "2024-10-24 23:17:00,376 INFO: [AutoFeat] With 2152 data points this new feature matrix would use about 0.43 gb of space.\n",
      "2024-10-24 23:17:00,380 INFO: [feateng] Step 1: transformation of original features\n"
     ]
    },
    {
     "name": "stdout",
     "output_type": "stream",
     "text": [
      "[feateng]               0/             45 features transformed\r"
     ]
    },
    {
     "name": "stderr",
     "output_type": "stream",
     "text": [
      "2024-10-24 23:17:07,110 INFO: [feateng] Generated 88 transformed features from 45 original features - done.\n",
      "2024-10-24 23:17:07,134 INFO: [feateng] Step 2: first combination of features\n"
     ]
    },
    {
     "name": "stdout",
     "output_type": "stream",
     "text": [
      "[feateng]            8400/           8778 feature tuples combined\r"
     ]
    },
    {
     "name": "stderr",
     "output_type": "stream",
     "text": [
      "2024-10-24 23:17:11,926 INFO: [feateng] Generated 8629 feature combinations from 8778 original feature tuples - done.\n"
     ]
    },
    {
     "name": "stdout",
     "output_type": "stream",
     "text": [
      "[feateng]            8700/           8778 feature tuples combined\r"
     ]
    },
    {
     "name": "stderr",
     "output_type": "stream",
     "text": [
      "2024-10-24 23:17:12,021 INFO: [feateng] Generated altogether 8795 new features in 2 steps\n",
      "2024-10-24 23:17:12,022 INFO: [feateng] Removing correlated features, as well as additions at the highest level\n",
      "2024-10-24 23:17:12,669 INFO: [feateng] Generated a total of 8166 additional features\n"
     ]
    },
    {
     "name": "stdout",
     "output_type": "stream",
     "text": [
      "[featsel] Scaling data...done.\n",
      "[Parallel(n_jobs=-1)]: Using backend LokyBackend with 12 concurrent workers.\n",
      "[Parallel(n_jobs=-1)]: Done   1 tasks      | elapsed: 31.8min\n",
      "[Parallel(n_jobs=-1)]: Done   2 out of   5 | elapsed: 32.1min remaining: 48.1min\n",
      "[Parallel(n_jobs=-1)]: Done   3 out of   5 | elapsed: 32.8min remaining: 21.9min\n",
      "[Parallel(n_jobs=-1)]: Done   5 out of   5 | elapsed: 35.4min remaining:    0.0s\n",
      "[Parallel(n_jobs=-1)]: Done   5 out of   5 | elapsed: 35.4min finished\n"
     ]
    },
    {
     "name": "stderr",
     "output_type": "stream",
     "text": [
      "2024-10-24 23:52:34,565 INFO: [featsel] 51 features after 5 feature selection runs\n",
      "2024-10-24 23:52:34,868 INFO: [featsel] 51 features after correlation filtering\n",
      "2024-10-24 23:52:39,732 INFO: [featsel] 27 features after noise filtering\n",
      "2024-10-24 23:52:39,736 INFO: [AutoFeat] Computing 22 new features.\n"
     ]
    },
    {
     "name": "stdout",
     "output_type": "stream",
     "text": [
      "[AutoFeat]    21/   22 new features\r"
     ]
    },
    {
     "name": "stderr",
     "output_type": "stream",
     "text": [
      "2024-10-24 23:52:42,727 INFO: [AutoFeat]    22/   22 new features ...done.\n",
      "2024-10-24 23:52:42,730 INFO: [AutoFeat] Final dataframe with 118 feature columns (22 new).\n",
      "2024-10-24 23:52:42,731 INFO: [AutoFeat] Training final classification model.\n",
      "2024-10-24 23:52:43,745 INFO: [AutoFeat] Trained model: largest coefficients:\n",
      "2024-10-24 23:52:43,746 INFO: [-1.25794388]\n",
      "2024-10-24 23:52:43,747 INFO: 5.794558 * gender_Mujer*gender_boss_Mujer\n",
      "2024-10-24 23:52:43,747 INFO: 2.997091 * seniority_2\n",
      "2024-10-24 23:52:43,748 INFO: 2.298569 * gender_Mujer\n",
      "2024-10-24 23:52:43,748 INFO: 1.769027 * gender_boss_Mujer\n",
      "2024-10-24 23:52:43,749 INFO: 1.248439 * join_year_2019\n",
      "2024-10-24 23:52:43,749 INFO: 0.937848 * seniority_2*Abs(psi_score_boss)\n",
      "2024-10-24 23:52:43,750 INFO: 0.803051 * gender_Mujer*marital_estatus_Soltero\n",
      "2024-10-24 23:52:43,750 INFO: 0.760109 * performance_score\n",
      "2024-10-24 23:52:43,751 INFO: 0.644197 * gender_Mujer*recruitment_channel_PortalWeb\n",
      "2024-10-24 23:52:43,751 INFO: 0.615844 * work_modality_Presencial*work_modality_boss_Presencial\n",
      "2024-10-24 23:52:43,752 INFO: 0.544344 * gender_boss_Mujer*Abs(join_age_boss)\n",
      "2024-10-24 23:52:43,752 INFO: 0.527610 * average_permanence*recruitment_channel_Referidos\n",
      "2024-10-24 23:52:43,753 INFO: 0.469538 * gender_boss_Mujer*joined_after_boss_1\n",
      "2024-10-24 23:52:43,754 INFO: 0.455053 * marital_estatus_Soltero*Abs(psi_score)\n",
      "2024-10-24 23:52:43,754 INFO: 0.437943 * marital_estatus_Divorciado*exp(salary_boss)\n",
      "2024-10-24 23:52:43,755 INFO: 0.405413 * low_health_days*Abs(office_distance_boss)\n",
      "2024-10-24 23:52:43,756 INFO: 0.387403 * gender_Mujer*low_health_days\n",
      "2024-10-24 23:52:43,757 INFO: 0.356452 * performance_score_boss*recruitment_channel_boss_PortalWeb\n",
      "2024-10-24 23:52:43,757 INFO: 0.328153 * recruitment_channel_Referidos*exp(boss_employees_in_charge)\n",
      "2024-10-24 23:52:43,758 INFO: 0.281440 * gender_boss_Mujer*exp(performance_score_boss)\n",
      "2024-10-24 23:52:43,759 INFO: 0.201449 * exp(salary_boss)*Abs(psi_score_boss)\n",
      "2024-10-24 23:52:43,759 INFO: 0.174692 * Abs(performance_score)/performance_score\n",
      "2024-10-24 23:52:43,760 INFO: 0.109431 * boss_employees_in_charge**2*join_days_diff\n",
      "2024-10-24 23:52:43,760 INFO: 0.088035 * join_days_diff*exp(join_age)\n",
      "2024-10-24 23:52:43,761 INFO: 0.043000 * office_distance_boss/average_permanence\n",
      "2024-10-24 23:52:43,761 INFO: 0.017419 * office_distance_boss**2/boss_employees_in_charge\n",
      "2024-10-24 23:52:43,762 INFO: 0.006366 * 1/(average_permanence_boss*low_health_days)\n",
      "2024-10-24 23:52:43,765 INFO: [AutoFeat] Final score: 0.7890\n"
     ]
    }
   ],
   "source": [
    "autofeat = AutoFeatClassifier(n_jobs=-1, verbose=1, feateng_cols=feateng_cols)\n",
    "\n",
    "X_full_transformed = autofeat.fit_transform(concat_full_train, y)"
   ]
  },
  {
   "cell_type": "code",
   "execution_count": 12,
   "metadata": {},
   "outputs": [
    {
     "name": "stderr",
     "output_type": "stream",
     "text": [
      "2024-10-24 23:52:43,785 INFO: [AutoFeat] Computing 22 new features.\n",
      "2024-10-24 23:52:43,806 INFO: [AutoFeat]    22/   22 new features ...done.\n"
     ]
    },
    {
     "name": "stdout",
     "output_type": "stream",
     "text": [
      "[AutoFeat]    21/   22 new features\r"
     ]
    }
   ],
   "source": [
    "X_full_transformed_test = autofeat.transform(concat_full_test)"
   ]
  },
  {
   "cell_type": "markdown",
   "metadata": {},
   "source": [
    "### Obtaining generated columns"
   ]
  },
  {
   "cell_type": "code",
   "execution_count": 13,
   "metadata": {},
   "outputs": [],
   "source": [
    "# Obtaining generated columns\n",
    "generated_cols = [col for col in X_full_transformed.columns.tolist() if col not in concat_full_train.columns.tolist()]\n",
    "generated_train = X_full_transformed[generated_cols]\n",
    "generated_test = X_full_transformed_test[generated_cols]"
   ]
  },
  {
   "cell_type": "markdown",
   "metadata": {},
   "source": [
    "## Saving full data"
   ]
  },
  {
   "cell_type": "code",
   "execution_count": 16,
   "metadata": {},
   "outputs": [],
   "source": [
    "# Dropping categories and numerical columns\n",
    "\n",
    "# Train\n",
    "train_full_df = pd.concat([train_df, generated_train], axis=1)\n",
    "\n",
    "# Test\n",
    "test_full_df = pd.concat([test_df, generated_test], axis=1)\n",
    "\n",
    "# Saving these dataframes\n",
    "\n",
    "train_full_df.to_csv(paths.data_processed_dir('train_featured.csv'), index=False, sep=',')\n",
    "test_full_df.to_csv(paths.data_processed_dir('test_featured.csv'), index=False, sep=',')"
   ]
  },
  {
   "cell_type": "markdown",
   "metadata": {},
   "source": [
    "## Saving reduced data"
   ]
  },
  {
   "cell_type": "code",
   "execution_count": 17,
   "metadata": {},
   "outputs": [],
   "source": [
    "# Train\n",
    "train_red_df = pd.concat([reduced_train_df, generated_train], axis=1)\n",
    "\n",
    "# Test\n",
    "test_red_df = pd.concat([reduced_test_df, generated_test], axis=1)\n",
    "\n",
    "# Saving these dataframes\n",
    "\n",
    "train_red_df.to_csv(paths.data_processed_dir('train_red_featured.csv'), index=False, sep=',')\n",
    "test_red_df.to_csv(paths.data_processed_dir('test_red_featured.csv'), index=False, sep=',')"
   ]
  }
 ],
 "metadata": {
  "kernelspec": {
   "display_name": "venv",
   "language": "python",
   "name": "python3"
  },
  "language_info": {
   "codemirror_mode": {
    "name": "ipython",
    "version": 3
   },
   "file_extension": ".py",
   "mimetype": "text/x-python",
   "name": "python",
   "nbconvert_exporter": "python",
   "pygments_lexer": "ipython3",
   "version": "3.9.18"
  }
 },
 "nbformat": 4,
 "nbformat_minor": 2
}
