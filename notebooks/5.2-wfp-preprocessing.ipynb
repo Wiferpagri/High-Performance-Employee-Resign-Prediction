{
 "cells": [
  {
   "cell_type": "markdown",
   "metadata": {},
   "source": [
    "# Preprocessing"
   ]
  },
  {
   "cell_type": "markdown",
   "metadata": {},
   "source": [
    "Neural networks require preprocessing such as encoding categorical columns and standardize numerical columns in order to avoid overfitting and improve performance."
   ]
  },
  {
   "cell_type": "markdown",
   "metadata": {},
   "source": [
    "## Preparing environment"
   ]
  },
  {
   "cell_type": "code",
   "execution_count": 23,
   "metadata": {},
   "outputs": [],
   "source": [
    "import pandas as pd\n",
    "import numpy as np\n",
    "from sklearn.preprocessing import OneHotEncoder, StandardScaler\n",
    "from sklearn.compose import ColumnTransformer\n",
    "import sys\n",
    "sys.path.append('../high_performance_employee_resign_prediction')\n",
    "from utils import paths"
   ]
  },
  {
   "cell_type": "markdown",
   "metadata": {},
   "source": [
    "## Importing data"
   ]
  },
  {
   "cell_type": "code",
   "execution_count": 24,
   "metadata": {},
   "outputs": [],
   "source": [
    "train_df = pd.read_csv(paths.data_processed_dir('reduced_train.csv'))\n",
    "test_df = pd.read_csv(paths.data_processed_dir('reduced_test.csv'))"
   ]
  },
  {
   "cell_type": "code",
   "execution_count": 25,
   "metadata": {},
   "outputs": [],
   "source": [
    "# Selecting columns\n",
    "\n",
    "categorical = ['gender', 'gender_boss', 'seniority', 'recruitment_channel', 'join_year', 'marital_estatus', 'join_month_boss', 'join_year_boss', 'performance']\n",
    "numerical =  [col for col in train_df.columns if 'embedding' not in col and 'id' not in col and 'resign' not in col and col not in categorical]\n",
    "other_cols = [col for col in train_df.columns if col not in categorical and col not in numerical and 'resign' not in col]\n",
    "y = train_df['resign']\n",
    "train_df.drop(columns='resign', inplace=True)"
   ]
  },
  {
   "cell_type": "markdown",
   "metadata": {},
   "source": [
    "## Preprocessing"
   ]
  },
  {
   "cell_type": "code",
   "execution_count": 26,
   "metadata": {},
   "outputs": [],
   "source": [
    "preprocessor = ColumnTransformer(\n",
    "    transformers=[\n",
    "        ('num', StandardScaler(), numerical),\n",
    "        ('cat', OneHotEncoder(sparse_output=False, drop='first'), categorical)\n",
    "    ],\n",
    "    remainder='passthrough'\n",
    ")"
   ]
  },
  {
   "cell_type": "code",
   "execution_count": 27,
   "metadata": {},
   "outputs": [],
   "source": [
    "train_transformed = preprocessor.fit_transform(train_df)\n",
    "test_transformed = preprocessor.transform(test_df)"
   ]
  },
  {
   "cell_type": "code",
   "execution_count": 28,
   "metadata": {},
   "outputs": [],
   "source": [
    "categorical_names = preprocessor.named_transformers_['cat'].get_feature_names_out(categorical)\n",
    "all_column_names = numerical + list(categorical_names) + other_cols"
   ]
  },
  {
   "cell_type": "code",
   "execution_count": 29,
   "metadata": {},
   "outputs": [],
   "source": [
    "train_preprocessed = pd.concat([pd.DataFrame(train_transformed, columns=all_column_names), y], axis=1)\n",
    "test_preprocessed = pd.DataFrame(test_transformed, columns=all_column_names)"
   ]
  },
  {
   "cell_type": "markdown",
   "metadata": {},
   "source": [
    "## Saving preprocessed data"
   ]
  },
  {
   "cell_type": "code",
   "execution_count": 35,
   "metadata": {},
   "outputs": [],
   "source": [
    "train_preprocessed.to_csv(paths.data_processed_dir('train_processed.csv'), index=False)\n",
    "test_preprocessed.to_csv(paths.data_processed_dir('test_processed.csv'), index=False)"
   ]
  }
 ],
 "metadata": {
  "kernelspec": {
   "display_name": "venv",
   "language": "python",
   "name": "python3"
  },
  "language_info": {
   "codemirror_mode": {
    "name": "ipython",
    "version": 3
   },
   "file_extension": ".py",
   "mimetype": "text/x-python",
   "name": "python",
   "nbconvert_exporter": "python",
   "pygments_lexer": "ipython3",
   "version": "3.9.18"
  }
 },
 "nbformat": 4,
 "nbformat_minor": 2
}
