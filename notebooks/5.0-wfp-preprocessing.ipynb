{
 "cells": [
  {
   "cell_type": "markdown",
   "metadata": {},
   "source": [
    "# Preprocessing data\n",
    "\n",
    "Categorical columns will be encoded using One-Hot encoding.\n",
    "\n",
    "Since distributions are not normal, we gonna use Power Transformer from Scikit-Learn to make them normal-like."
   ]
  },
  {
   "cell_type": "markdown",
   "metadata": {},
   "source": [
    "## Preparing environment"
   ]
  },
  {
   "cell_type": "code",
   "execution_count": 1,
   "metadata": {},
   "outputs": [],
   "source": [
    "import numpy as np\n",
    "import pandas as pd\n",
    "from sklearn.preprocessing import OneHotEncoder, PowerTransformer\n",
    "import sys\n",
    "sys.path.append('../high_performance_employee_resign_prediction')\n",
    "from utils import paths"
   ]
  },
  {
   "cell_type": "markdown",
   "metadata": {},
   "source": [
    "## Importing data"
   ]
  },
  {
   "cell_type": "code",
   "execution_count": 2,
   "metadata": {},
   "outputs": [],
   "source": [
    "train_df = pd.read_csv(paths.data_interim_dir('train_node.csv'))\n",
    "test_df = pd.read_csv(paths.data_interim_dir('test_node.csv'))"
   ]
  },
  {
   "cell_type": "code",
   "execution_count": 3,
   "metadata": {},
   "outputs": [],
   "source": [
    "id_cols = ['id_employee_employee', 'id_last_boss_employee', 'id_last_boss_boss']\n",
    "\n",
    "num_cols = ['office_distance_employee', 'low_health_days_employee', 'average_permanence_employee', 'salary_employee',\n",
    "            'performance_score_employee', 'psi_score_employee', 'join_age_employee', 'office_distance_boss',\n",
    "            'low_health_days_boss', 'average_permanence_boss', 'salary_boss', 'performance_score_boss',\n",
    "            'psi_score_boss', 'join_age_boss', 'office_distance_diff', 'low_health_days_diff', 'average_permanence_diff',\n",
    "            'salary_diff', 'join_days_diff', 'age_diff']\n",
    "\n",
    "cat_cols = ['seniority_employee', 'work_modality_employee', 'gender_employee', 'recruitment_channel_employee',\n",
    "            'marital_estatus_employee', 'join_year_employee', 'join_month_employee', 'performance_employee',\n",
    "            'work_modality_boss', 'gender_boss', 'recruitment_channel_boss', 'marital_estatus_boss',\n",
    "            'join_year_boss', 'join_month_boss', 'performance_boss', 'joined_after_boss', 'younger_than_boss']"
   ]
  },
  {
   "cell_type": "markdown",
   "metadata": {},
   "source": [
    "## Dropping categories according to hypothesis testing"
   ]
  },
  {
   "cell_type": "code",
   "execution_count": 4,
   "metadata": {},
   "outputs": [],
   "source": [
    "reduced_train_df = train_df.drop(columns=['gender_employee', 'join_month_employee', 'work_modality_boss', 'gender_boss',\n",
    "                                        'recruitment_channel_boss', 'marital_estatus_boss', 'join_year_boss', 'join_month_boss', \n",
    "                                        'performance_boss', 'joined_after_boss', 'younger_than_boss', 'office_distance_employee', \n",
    "                                        'average_permanence_employee', 'salary_employee', 'psi_score_employee', \n",
    "                                        'join_age_employee', 'office_distance_boss', 'low_health_days_boss', 'average_permanence_boss', \n",
    "                                        'salary_boss', 'performance_score_boss', 'psi_score_boss', 'join_age_boss', \n",
    "                                        'office_distance_diff', 'average_permanence_diff', 'salary_diff', 'age_diff'])\n",
    "\n",
    "reduced_test_df = test_df.drop(columns=['gender_employee', 'join_month_employee', 'work_modality_boss', 'gender_boss',\n",
    "                                        'recruitment_channel_boss', 'marital_estatus_boss', 'join_year_boss', 'join_month_boss', \n",
    "                                        'performance_boss', 'joined_after_boss', 'younger_than_boss', 'office_distance_employee', \n",
    "                                        'average_permanence_employee', 'salary_employee', 'psi_score_employee', \n",
    "                                        'join_age_employee', 'office_distance_boss', 'low_health_days_boss', 'average_permanence_boss', \n",
    "                                        'salary_boss', 'performance_score_boss', 'psi_score_boss', 'join_age_boss', \n",
    "                                        'office_distance_diff', 'average_permanence_diff', 'salary_diff', 'age_diff'])"
   ]
  },
  {
   "cell_type": "code",
   "execution_count": 8,
   "metadata": {},
   "outputs": [
    {
     "data": {
      "text/html": [
       "<div>\n",
       "<style scoped>\n",
       "    .dataframe tbody tr th:only-of-type {\n",
       "        vertical-align: middle;\n",
       "    }\n",
       "\n",
       "    .dataframe tbody tr th {\n",
       "        vertical-align: top;\n",
       "    }\n",
       "\n",
       "    .dataframe thead th {\n",
       "        text-align: right;\n",
       "    }\n",
       "</style>\n",
       "<table border=\"1\" class=\"dataframe\">\n",
       "  <thead>\n",
       "    <tr style=\"text-align: right;\">\n",
       "      <th></th>\n",
       "      <th>id_employee_employee</th>\n",
       "      <th>id_last_boss_employee</th>\n",
       "      <th>seniority_employee</th>\n",
       "      <th>work_modality_employee</th>\n",
       "      <th>low_health_days_employee</th>\n",
       "      <th>recruitment_channel_employee</th>\n",
       "      <th>performance_score_employee</th>\n",
       "      <th>marital_estatus_employee</th>\n",
       "      <th>join_year_employee</th>\n",
       "      <th>performance_employee</th>\n",
       "      <th>id_last_boss_boss</th>\n",
       "      <th>low_health_days_diff</th>\n",
       "      <th>join_days_diff</th>\n",
       "    </tr>\n",
       "  </thead>\n",
       "  <tbody>\n",
       "    <tr>\n",
       "      <th>0</th>\n",
       "      <td>100247</td>\n",
       "      <td>102074</td>\n",
       "      <td>1</td>\n",
       "      <td>Híbrida</td>\n",
       "      <td>1</td>\n",
       "      <td>Ferias &amp; Networking</td>\n",
       "      <td>99.0</td>\n",
       "      <td>Soltero</td>\n",
       "      <td>2018</td>\n",
       "      <td>high</td>\n",
       "      <td>102028</td>\n",
       "      <td>-1</td>\n",
       "      <td>-757</td>\n",
       "    </tr>\n",
       "    <tr>\n",
       "      <th>1</th>\n",
       "      <td>103355</td>\n",
       "      <td>102115</td>\n",
       "      <td>1</td>\n",
       "      <td>Híbrida</td>\n",
       "      <td>2</td>\n",
       "      <td>Ferias &amp; Networking</td>\n",
       "      <td>99.0</td>\n",
       "      <td>Soltero</td>\n",
       "      <td>2021</td>\n",
       "      <td>high</td>\n",
       "      <td>102116</td>\n",
       "      <td>0</td>\n",
       "      <td>-940</td>\n",
       "    </tr>\n",
       "    <tr>\n",
       "      <th>2</th>\n",
       "      <td>100669</td>\n",
       "      <td>102060</td>\n",
       "      <td>1</td>\n",
       "      <td>Híbrida</td>\n",
       "      <td>3</td>\n",
       "      <td>Referidos</td>\n",
       "      <td>96.0</td>\n",
       "      <td>Viudo</td>\n",
       "      <td>2016</td>\n",
       "      <td>high</td>\n",
       "      <td>102041</td>\n",
       "      <td>0</td>\n",
       "      <td>-990</td>\n",
       "    </tr>\n",
       "    <tr>\n",
       "      <th>3</th>\n",
       "      <td>103760</td>\n",
       "      <td>102062</td>\n",
       "      <td>1</td>\n",
       "      <td>Híbrida</td>\n",
       "      <td>2</td>\n",
       "      <td>Linkedin</td>\n",
       "      <td>96.0</td>\n",
       "      <td>Soltero</td>\n",
       "      <td>2014</td>\n",
       "      <td>high</td>\n",
       "      <td>102149</td>\n",
       "      <td>0</td>\n",
       "      <td>72</td>\n",
       "    </tr>\n",
       "    <tr>\n",
       "      <th>4</th>\n",
       "      <td>100965</td>\n",
       "      <td>102062</td>\n",
       "      <td>1</td>\n",
       "      <td>Híbrida</td>\n",
       "      <td>2</td>\n",
       "      <td>Linkedin</td>\n",
       "      <td>95.0</td>\n",
       "      <td>Soltero</td>\n",
       "      <td>2014</td>\n",
       "      <td>high</td>\n",
       "      <td>102149</td>\n",
       "      <td>0</td>\n",
       "      <td>71</td>\n",
       "    </tr>\n",
       "    <tr>\n",
       "      <th>...</th>\n",
       "      <td>...</td>\n",
       "      <td>...</td>\n",
       "      <td>...</td>\n",
       "      <td>...</td>\n",
       "      <td>...</td>\n",
       "      <td>...</td>\n",
       "      <td>...</td>\n",
       "      <td>...</td>\n",
       "      <td>...</td>\n",
       "      <td>...</td>\n",
       "      <td>...</td>\n",
       "      <td>...</td>\n",
       "      <td>...</td>\n",
       "    </tr>\n",
       "    <tr>\n",
       "      <th>2147</th>\n",
       "      <td>103567</td>\n",
       "      <td>102171</td>\n",
       "      <td>1</td>\n",
       "      <td>Presencial</td>\n",
       "      <td>8</td>\n",
       "      <td>Portal Web</td>\n",
       "      <td>80.0</td>\n",
       "      <td>Casado</td>\n",
       "      <td>2023</td>\n",
       "      <td>high</td>\n",
       "      <td>102088</td>\n",
       "      <td>-4</td>\n",
       "      <td>-2270</td>\n",
       "    </tr>\n",
       "    <tr>\n",
       "      <th>2148</th>\n",
       "      <td>104098</td>\n",
       "      <td>102172</td>\n",
       "      <td>1</td>\n",
       "      <td>Presencial</td>\n",
       "      <td>12</td>\n",
       "      <td>Linkedin</td>\n",
       "      <td>80.0</td>\n",
       "      <td>Casado</td>\n",
       "      <td>2023</td>\n",
       "      <td>high</td>\n",
       "      <td>102020</td>\n",
       "      <td>-11</td>\n",
       "      <td>-2650</td>\n",
       "    </tr>\n",
       "    <tr>\n",
       "      <th>2149</th>\n",
       "      <td>103987</td>\n",
       "      <td>102155</td>\n",
       "      <td>1</td>\n",
       "      <td>Presencial</td>\n",
       "      <td>1</td>\n",
       "      <td>Portal Web</td>\n",
       "      <td>80.0</td>\n",
       "      <td>Soltero</td>\n",
       "      <td>2023</td>\n",
       "      <td>high</td>\n",
       "      <td>102159</td>\n",
       "      <td>0</td>\n",
       "      <td>-2457</td>\n",
       "    </tr>\n",
       "    <tr>\n",
       "      <th>2150</th>\n",
       "      <td>103810</td>\n",
       "      <td>102141</td>\n",
       "      <td>1</td>\n",
       "      <td>Presencial</td>\n",
       "      <td>2</td>\n",
       "      <td>Portal Web</td>\n",
       "      <td>80.0</td>\n",
       "      <td>Casado</td>\n",
       "      <td>2023</td>\n",
       "      <td>high</td>\n",
       "      <td>102134</td>\n",
       "      <td>-1</td>\n",
       "      <td>-1923</td>\n",
       "    </tr>\n",
       "    <tr>\n",
       "      <th>2151</th>\n",
       "      <td>102441</td>\n",
       "      <td>102171</td>\n",
       "      <td>1</td>\n",
       "      <td>Presencial</td>\n",
       "      <td>1</td>\n",
       "      <td>Linkedin</td>\n",
       "      <td>80.0</td>\n",
       "      <td>Casado</td>\n",
       "      <td>2023</td>\n",
       "      <td>high</td>\n",
       "      <td>102088</td>\n",
       "      <td>3</td>\n",
       "      <td>-2261</td>\n",
       "    </tr>\n",
       "  </tbody>\n",
       "</table>\n",
       "<p>2152 rows × 13 columns</p>\n",
       "</div>"
      ],
      "text/plain": [
       "      id_employee_employee  id_last_boss_employee  seniority_employee  \\\n",
       "0                   100247                 102074                   1   \n",
       "1                   103355                 102115                   1   \n",
       "2                   100669                 102060                   1   \n",
       "3                   103760                 102062                   1   \n",
       "4                   100965                 102062                   1   \n",
       "...                    ...                    ...                 ...   \n",
       "2147                103567                 102171                   1   \n",
       "2148                104098                 102172                   1   \n",
       "2149                103987                 102155                   1   \n",
       "2150                103810                 102141                   1   \n",
       "2151                102441                 102171                   1   \n",
       "\n",
       "     work_modality_employee  low_health_days_employee  \\\n",
       "0                   Híbrida                         1   \n",
       "1                   Híbrida                         2   \n",
       "2                   Híbrida                         3   \n",
       "3                   Híbrida                         2   \n",
       "4                   Híbrida                         2   \n",
       "...                     ...                       ...   \n",
       "2147             Presencial                         8   \n",
       "2148             Presencial                        12   \n",
       "2149             Presencial                         1   \n",
       "2150             Presencial                         2   \n",
       "2151             Presencial                         1   \n",
       "\n",
       "     recruitment_channel_employee  performance_score_employee  \\\n",
       "0             Ferias & Networking                        99.0   \n",
       "1             Ferias & Networking                        99.0   \n",
       "2                       Referidos                        96.0   \n",
       "3                        Linkedin                        96.0   \n",
       "4                        Linkedin                        95.0   \n",
       "...                           ...                         ...   \n",
       "2147                   Portal Web                        80.0   \n",
       "2148                     Linkedin                        80.0   \n",
       "2149                   Portal Web                        80.0   \n",
       "2150                   Portal Web                        80.0   \n",
       "2151                     Linkedin                        80.0   \n",
       "\n",
       "     marital_estatus_employee  join_year_employee performance_employee  \\\n",
       "0                     Soltero                2018                 high   \n",
       "1                     Soltero                2021                 high   \n",
       "2                       Viudo                2016                 high   \n",
       "3                     Soltero                2014                 high   \n",
       "4                     Soltero                2014                 high   \n",
       "...                       ...                 ...                  ...   \n",
       "2147                   Casado                2023                 high   \n",
       "2148                   Casado                2023                 high   \n",
       "2149                  Soltero                2023                 high   \n",
       "2150                   Casado                2023                 high   \n",
       "2151                   Casado                2023                 high   \n",
       "\n",
       "      id_last_boss_boss  low_health_days_diff  join_days_diff  \n",
       "0                102028                    -1            -757  \n",
       "1                102116                     0            -940  \n",
       "2                102041                     0            -990  \n",
       "3                102149                     0              72  \n",
       "4                102149                     0              71  \n",
       "...                 ...                   ...             ...  \n",
       "2147             102088                    -4           -2270  \n",
       "2148             102020                   -11           -2650  \n",
       "2149             102159                     0           -2457  \n",
       "2150             102134                    -1           -1923  \n",
       "2151             102088                     3           -2261  \n",
       "\n",
       "[2152 rows x 13 columns]"
      ]
     },
     "execution_count": 8,
     "metadata": {},
     "output_type": "execute_result"
    }
   ],
   "source": [
    "reduced_train_df.iloc[:, :-193]"
   ]
  },
  {
   "cell_type": "code",
   "execution_count": 42,
   "metadata": {},
   "outputs": [],
   "source": [
    "reduced_num_cols = ['low_health_days_employee', 'performance_score_employee', 'low_health_days_diff', 'join_days_diff']\n",
    "\n",
    "reduced_cat_cols = ['seniority_employee', 'work_modality_employee', 'recruitment_channel_employee', 'marital_estatus_employee',\n",
    "                    'join_year_employee', 'performance_employee']"
   ]
  },
  {
   "cell_type": "markdown",
   "metadata": {},
   "source": [
    "## Preprocessing full data"
   ]
  },
  {
   "cell_type": "code",
   "execution_count": 10,
   "metadata": {},
   "outputs": [],
   "source": [
    "ohe_full = OneHotEncoder(sparse_output=False, drop='first')\n",
    "pt_full = PowerTransformer()"
   ]
  },
  {
   "cell_type": "code",
   "execution_count": 11,
   "metadata": {},
   "outputs": [],
   "source": [
    "# Encoding categories\n",
    "\n",
    "# Train\n",
    "encoded_full_train = pd.DataFrame(ohe_full.fit_transform(train_df[cat_cols]))\n",
    "encoded_full_train.columns = ohe_full.get_feature_names_out(cat_cols)\n",
    "\n",
    "# Test\n",
    "encoded_full_test = pd.DataFrame(ohe_full.transform(test_df[cat_cols]))\n",
    "encoded_full_test.columns = ohe_full.get_feature_names_out(cat_cols)"
   ]
  },
  {
   "cell_type": "code",
   "execution_count": 12,
   "metadata": {},
   "outputs": [],
   "source": [
    "# Scaling categories\n",
    "\n",
    "# Train\n",
    "scaled_full_train = pd.DataFrame(pt_full.fit_transform(train_df[num_cols]), columns=num_cols)\n",
    "\n",
    "# Test\n",
    "scaled_full_test = pd.DataFrame(pt_full.transform(test_df[num_cols]), columns=num_cols)"
   ]
  },
  {
   "cell_type": "code",
   "execution_count": 28,
   "metadata": {},
   "outputs": [],
   "source": [
    "# Concatenating dfs\n",
    "\n",
    "concat_full_train = pd.concat([encoded_full_train, scaled_full_train], axis=1)\n",
    "\n",
    "concat_full_test = pd.concat([encoded_full_test, scaled_full_test], axis=1)"
   ]
  },
  {
   "cell_type": "markdown",
   "metadata": {},
   "source": [
    "### Feature engineering\n",
    "\n",
    "Autofeat is a library that applies multiple numerical transformations to the features in order to find meaningful relationships between features and target, improving the prediction"
   ]
  },
  {
   "cell_type": "code",
   "execution_count": 15,
   "metadata": {},
   "outputs": [],
   "source": [
    "from autofeat import AutoFeatClassifier"
   ]
  },
  {
   "cell_type": "code",
   "execution_count": 16,
   "metadata": {},
   "outputs": [],
   "source": [
    "y = train_df['resign']"
   ]
  },
  {
   "cell_type": "code",
   "execution_count": 17,
   "metadata": {},
   "outputs": [
    {
     "name": "stderr",
     "output_type": "stream",
     "text": [
      "2024-07-26 09:01:54,560 INFO: [AutoFeat] The 2 step feature engineering process could generate up to 185745 features.\n",
      "2024-07-26 09:01:54,560 INFO: [AutoFeat] With 2152 data points this new feature matrix would use about 1.60 gb of space.\n",
      "2024-07-26 09:01:54,565 INFO: [feateng] Step 1: transformation of original features\n"
     ]
    },
    {
     "name": "stdout",
     "output_type": "stream",
     "text": [
      "[feateng]               0/             87 features transformed\r"
     ]
    },
    {
     "name": "stderr",
     "output_type": "stream",
     "text": [
      "2024-07-26 09:02:00,724 INFO: [feateng] Generated 100 transformed features from 87 original features - done.\n",
      "2024-07-26 09:02:00,767 INFO: [feateng] Step 2: first combination of features\n"
     ]
    },
    {
     "name": "stdout",
     "output_type": "stream",
     "text": [
      "[feateng]           17000/          17391 feature tuples combined\r"
     ]
    },
    {
     "name": "stderr",
     "output_type": "stream",
     "text": [
      "2024-07-26 09:02:08,715 INFO: [feateng] Generated 16969 feature combinations from 17391 original feature tuples - done.\n"
     ]
    },
    {
     "name": "stdout",
     "output_type": "stream",
     "text": [
      "[feateng]           17300/          17391 feature tuples combined\r"
     ]
    },
    {
     "name": "stderr",
     "output_type": "stream",
     "text": [
      "2024-07-26 09:02:08,904 INFO: [feateng] Generated altogether 17412 new features in 2 steps\n",
      "2024-07-26 09:02:08,905 INFO: [feateng] Removing correlated features, as well as additions at the highest level\n",
      "2024-07-26 09:02:10,009 INFO: [feateng] Generated a total of 16677 additional features\n"
     ]
    },
    {
     "name": "stdout",
     "output_type": "stream",
     "text": [
      "[featsel] Scaling data...done.\n",
      "[Parallel(n_jobs=-1)]: Using backend LokyBackend with 12 concurrent workers.\n",
      "[Parallel(n_jobs=-1)]: Done   1 tasks      | elapsed: 58.9min\n",
      "[Parallel(n_jobs=-1)]: Done   2 out of   5 | elapsed: 59.0min remaining: 88.5min\n",
      "[Parallel(n_jobs=-1)]: Done   3 out of   5 | elapsed: 59.1min remaining: 39.4min\n",
      "[Parallel(n_jobs=-1)]: Done   5 out of   5 | elapsed: 68.4min remaining:    0.0s\n",
      "[Parallel(n_jobs=-1)]: Done   5 out of   5 | elapsed: 68.4min finished\n"
     ]
    },
    {
     "name": "stderr",
     "output_type": "stream",
     "text": [
      "2024-07-26 10:10:39,450 INFO: [featsel] 21 features after 5 feature selection runs\n",
      "2024-07-26 10:10:39,779 INFO: [featsel] 21 features after correlation filtering\n",
      "2024-07-26 10:10:40,774 INFO: [featsel] 21 features after noise filtering\n",
      "2024-07-26 10:10:40,786 INFO: [AutoFeat] Computing 19 new features.\n"
     ]
    },
    {
     "name": "stdout",
     "output_type": "stream",
     "text": [
      "[AutoFeat]    18/   19 new features\r"
     ]
    },
    {
     "name": "stderr",
     "output_type": "stream",
     "text": [
      "2024-07-26 10:10:43,086 INFO: [AutoFeat]    19/   19 new features ...done.\n",
      "2024-07-26 10:10:43,090 INFO: [AutoFeat] Final dataframe with 106 feature columns (19 new).\n",
      "2024-07-26 10:10:43,090 INFO: [AutoFeat] Training final classification model.\n",
      "2024-07-26 10:10:43,524 INFO: [AutoFeat] Trained model: largest coefficients:\n",
      "2024-07-26 10:10:43,524 INFO: [-1.17411079]\n",
      "2024-07-26 10:10:43,525 INFO: 5.037028 * gender_boss_Mujer*gender_employee_Mujer\n",
      "2024-07-26 10:10:43,526 INFO: 3.330279 * join_month_employee_8*join_year_employee_2023\n",
      "2024-07-26 10:10:43,526 INFO: 2.841055 * seniority_employee_2*Abs(performance_score_boss)\n",
      "2024-07-26 10:10:43,526 INFO: 1.680698 * gender_boss_Mujer\n",
      "2024-07-26 10:10:43,527 INFO: 1.267215 * gender_employee_Mujer\n",
      "2024-07-26 10:10:43,527 INFO: 1.172442 * join_month_employee_6*join_year_boss_2017\n",
      "2024-07-26 10:10:43,528 INFO: 1.144982 * join_year_employee_2019*Abs(office_distance_diff)\n",
      "2024-07-26 10:10:43,528 INFO: 0.919206 * gender_employee_Mujer*marital_estatus_employee_Soltero\n",
      "2024-07-26 10:10:43,528 INFO: 0.610461 * performance_employee_low*performance_score_employee\n",
      "2024-07-26 10:10:43,529 INFO: 0.520572 * join_month_boss_6*psi_score_employee\n",
      "2024-07-26 10:10:43,530 INFO: 0.460613 * gender_employee_Mujer*recruitment_channel_employee_PortalWeb\n",
      "2024-07-26 10:10:43,531 INFO: 0.453303 * gender_boss_Mujer*recruitment_channel_employee_PortalWeb\n",
      "2024-07-26 10:10:43,531 INFO: 0.378311 * work_modality_boss_Presencial*work_modality_employee_Presencial\n",
      "2024-07-26 10:10:43,531 INFO: 0.323572 * gender_employee_Mujer*exp(low_health_days_employee)\n",
      "2024-07-26 10:10:43,532 INFO: 0.318843 * join_year_boss_2019/performance_score_boss\n",
      "2024-07-26 10:10:43,533 INFO: 0.318734 * gender_boss_Mujer*Abs(join_age_boss)\n",
      "2024-07-26 10:10:43,533 INFO: 0.226952 * gender_boss_Mujer*Abs(average_permanence_diff)\n",
      "2024-07-26 10:10:43,533 INFO: 0.146120 * work_modality_employee_Presencial*exp(performance_score_employee)\n",
      "2024-07-26 10:10:43,533 INFO: 0.134430 * performance_score_employee*salary_employee**2\n",
      "2024-07-26 10:10:43,535 INFO: 0.109146 * performance_score_employee*exp(performance_score_boss)\n",
      "2024-07-26 10:10:43,535 INFO: 0.099537 * gender_boss_Mujer*Abs(salary_boss)\n",
      "2024-07-26 10:10:43,537 INFO: [AutoFeat] Final score: 0.7612\n"
     ]
    }
   ],
   "source": [
    "autofeat = AutoFeatClassifier(n_jobs=-1, verbose=1)\n",
    "\n",
    "X_full_transformed = autofeat.fit_transform(concat_full_train, y)"
   ]
  },
  {
   "cell_type": "code",
   "execution_count": 29,
   "metadata": {},
   "outputs": [
    {
     "name": "stderr",
     "output_type": "stream",
     "text": [
      "2024-07-26 10:33:37,910 INFO: [AutoFeat] Computing 19 new features.\n",
      "2024-07-26 10:33:37,927 INFO: [AutoFeat]    19/   19 new features ...done.\n"
     ]
    },
    {
     "name": "stdout",
     "output_type": "stream",
     "text": [
      "[AutoFeat]    18/   19 new features\r"
     ]
    }
   ],
   "source": [
    "X_full_transformed_test = autofeat.transform(concat_full_test)"
   ]
  },
  {
   "cell_type": "markdown",
   "metadata": {},
   "source": [
    "### Joining full data"
   ]
  },
  {
   "cell_type": "code",
   "execution_count": 30,
   "metadata": {},
   "outputs": [],
   "source": [
    "# Dropping categories and numerical columns\n",
    "\n",
    "# Train\n",
    "train_drop_df = train_df.drop(columns=cat_cols)\n",
    "train_drop_df = train_drop_df.drop(columns=num_cols)\n",
    "\n",
    "# Test\n",
    "test_drop_df = test_df.drop(columns=cat_cols)\n",
    "test_drop_df = test_drop_df.drop(columns=num_cols)\n",
    "\n",
    "# Concatenating columns\n",
    "\n",
    "# Train\n",
    "train_full_df = pd.concat([train_drop_df, X_full_transformed], axis=1)\n",
    "\n",
    "# Test\n",
    "test_full_df = pd.concat([test_drop_df, X_full_transformed_test], axis=1)"
   ]
  },
  {
   "cell_type": "markdown",
   "metadata": {},
   "source": [
    "## Saving full data"
   ]
  },
  {
   "cell_type": "code",
   "execution_count": 32,
   "metadata": {},
   "outputs": [],
   "source": [
    "train_full_df.to_csv(paths.data_processed_dir('train_processed.csv'), index=False, sep=',')\n",
    "test_full_df.to_csv(paths.data_processed_dir('test_processed.csv'), index=False, sep=',')"
   ]
  },
  {
   "cell_type": "markdown",
   "metadata": {},
   "source": [
    "### Obtaining generated columns"
   ]
  },
  {
   "cell_type": "code",
   "execution_count": 38,
   "metadata": {},
   "outputs": [],
   "source": [
    "# Obtaining generated columns\n",
    "\n",
    "generated_train = X_full_transformed.iloc[:, -19:]\n",
    "generated_test = X_full_transformed_test.iloc[:, -19:]"
   ]
  },
  {
   "cell_type": "markdown",
   "metadata": {},
   "source": [
    "## Preprocessing reduced data"
   ]
  },
  {
   "cell_type": "code",
   "execution_count": 39,
   "metadata": {},
   "outputs": [],
   "source": [
    "ohe_reduced = OneHotEncoder(sparse_output=False, drop='first')\n",
    "pt_reduced = PowerTransformer()"
   ]
  },
  {
   "cell_type": "code",
   "execution_count": 40,
   "metadata": {},
   "outputs": [],
   "source": [
    "# Encoding categories\n",
    "\n",
    "# Train\n",
    "encoded_reduced_train = pd.DataFrame(ohe_reduced.fit_transform(train_df[reduced_cat_cols]))\n",
    "encoded_reduced_train.columns = ohe_reduced.get_feature_names_out(reduced_cat_cols)\n",
    "\n",
    "# Test\n",
    "encoded_reduced_test = pd.DataFrame(ohe_reduced.transform(test_df[reduced_cat_cols]))\n",
    "encoded_reduced_test.columns = ohe_reduced.get_feature_names_out(reduced_cat_cols)"
   ]
  },
  {
   "cell_type": "code",
   "execution_count": 43,
   "metadata": {},
   "outputs": [],
   "source": [
    "# Scaling categories\n",
    "\n",
    "# Train\n",
    "scaled_reduced_train = pd.DataFrame(pt_reduced.fit_transform(train_df[reduced_num_cols]), columns=reduced_num_cols)\n",
    "\n",
    "# Test\n",
    "scaled_reduced_test = pd.DataFrame(pt_reduced.transform(test_df[reduced_num_cols]), columns=reduced_num_cols)"
   ]
  },
  {
   "cell_type": "code",
   "execution_count": 44,
   "metadata": {},
   "outputs": [],
   "source": [
    "# Concatenating dfs\n",
    "\n",
    "concat_red_train = pd.concat([encoded_reduced_train, scaled_reduced_train], axis=1)\n",
    "\n",
    "concat_red_test = pd.concat([encoded_reduced_test, scaled_reduced_test], axis=1)"
   ]
  },
  {
   "cell_type": "markdown",
   "metadata": {},
   "source": [
    "## Feature Engineering"
   ]
  },
  {
   "cell_type": "code",
   "execution_count": 47,
   "metadata": {},
   "outputs": [
    {
     "name": "stderr",
     "output_type": "stream",
     "text": [
      "2024-07-26 10:47:28,657 INFO: [AutoFeat] The 2 step feature engineering process could generate up to 15400 features.\n",
      "2024-07-26 10:47:28,659 INFO: [AutoFeat] With 2152 data points this new feature matrix would use about 0.13 gb of space.\n",
      "2024-07-26 10:47:28,660 INFO: [feateng] Step 1: transformation of original features\n"
     ]
    },
    {
     "name": "stdout",
     "output_type": "stream",
     "text": [
      "[feateng]               0/             25 features transformed\r"
     ]
    },
    {
     "name": "stderr",
     "output_type": "stream",
     "text": [
      "2024-07-26 10:47:30,053 INFO: [feateng] Generated 20 transformed features from 25 original features - done.\n",
      "2024-07-26 10:47:30,055 INFO: [feateng] Step 2: first combination of features\n"
     ]
    },
    {
     "name": "stdout",
     "output_type": "stream",
     "text": [
      "[feateng]             900/            990 feature tuples combined\r"
     ]
    },
    {
     "name": "stderr",
     "output_type": "stream",
     "text": [
      "2024-07-26 10:47:30,772 INFO: [feateng] Generated 906 feature combinations from 990 original feature tuples - done.\n",
      "2024-07-26 10:47:30,778 INFO: [feateng] Generated altogether 995 new features in 2 steps\n",
      "2024-07-26 10:47:30,779 INFO: [feateng] Removing correlated features, as well as additions at the highest level\n",
      "2024-07-26 10:47:30,843 INFO: [feateng] Generated a total of 895 additional features\n"
     ]
    },
    {
     "name": "stdout",
     "output_type": "stream",
     "text": [
      "[featsel] Scaling data...done.\n",
      "[Parallel(n_jobs=-1)]: Using backend LokyBackend with 12 concurrent workers.\n",
      "[Parallel(n_jobs=-1)]: Done   1 tasks      | elapsed:  4.0min\n",
      "[Parallel(n_jobs=-1)]: Done   2 out of   5 | elapsed:  4.0min remaining:  6.1min\n",
      "[Parallel(n_jobs=-1)]: Done   3 out of   5 | elapsed:  4.1min remaining:  2.7min\n"
     ]
    },
    {
     "name": "stderr",
     "output_type": "stream",
     "text": [
      "2024-07-26 10:52:18,340 INFO: [featsel] 53 features after 5 feature selection runs\n",
      "2024-07-26 10:52:18,357 INFO: [featsel] 53 features after correlation filtering\n"
     ]
    },
    {
     "name": "stdout",
     "output_type": "stream",
     "text": [
      "[Parallel(n_jobs=-1)]: Done   5 out of   5 | elapsed:  4.8min remaining:    0.0s\n",
      "[Parallel(n_jobs=-1)]: Done   5 out of   5 | elapsed:  4.8min finished\n"
     ]
    },
    {
     "name": "stderr",
     "output_type": "stream",
     "text": [
      "2024-07-26 10:52:27,361 INFO: [featsel] 17 features after noise filtering\n",
      "2024-07-26 10:52:27,363 INFO: [AutoFeat] Computing 13 new features.\n"
     ]
    },
    {
     "name": "stdout",
     "output_type": "stream",
     "text": [
      "[AutoFeat]    12/   13 new features\r"
     ]
    },
    {
     "name": "stderr",
     "output_type": "stream",
     "text": [
      "2024-07-26 10:52:29,490 INFO: [AutoFeat]    13/   13 new features ...done.\n",
      "2024-07-26 10:52:29,492 INFO: [AutoFeat] Final dataframe with 38 feature columns (13 new).\n",
      "2024-07-26 10:52:29,494 INFO: [AutoFeat] Training final classification model.\n",
      "2024-07-26 10:52:29,782 INFO: [AutoFeat] Trained model: largest coefficients:\n",
      "2024-07-26 10:52:29,783 INFO: [0.06720006]\n",
      "2024-07-26 10:52:29,783 INFO: 0.030004 * exp(performance_score_employee)*Abs(performance_score_employee)\n",
      "2024-07-26 10:52:29,784 INFO: 0.026251 * join_days_diff**2*low_health_days_employee**3\n",
      "2024-07-26 10:52:29,785 INFO: 0.024841 * performance_score_employee\n",
      "2024-07-26 10:52:29,785 INFO: 0.019236 * low_health_days_employee**2*exp(performance_score_employee)\n",
      "2024-07-26 10:52:29,786 INFO: 0.015548 * performance_score_employee**3*recruitment_channel_employee_PortalWeb\n",
      "2024-07-26 10:52:29,786 INFO: 0.012133 * join_days_diff**3*performance_employee_low\n",
      "2024-07-26 10:52:29,787 INFO: 0.007564 * join_year_employee_2016/join_days_diff\n",
      "2024-07-26 10:52:29,788 INFO: 0.004901 * recruitment_channel_employee_Portal Web\n",
      "2024-07-26 10:52:29,788 INFO: 0.003721 * performance_employee_low*exp(performance_score_employee)\n",
      "2024-07-26 10:52:29,788 INFO: 0.003061 * work_modality_employee_Presencial\n",
      "2024-07-26 10:52:29,789 INFO: 0.002976 * seniority_employee_2\n",
      "2024-07-26 10:52:29,789 INFO: 0.002354 * join_year_employee_2014*low_health_days_employee**2\n",
      "2024-07-26 10:52:29,790 INFO: 0.002321 * performance_employee_low*seniority_employee_2\n",
      "2024-07-26 10:52:29,790 INFO: 0.001806 * join_year_employee_2019*marital_estatus_employee_Soltero\n",
      "2024-07-26 10:52:29,791 INFO: 0.001188 * join_year_employee_2023*work_modality_employee_Presencial\n",
      "2024-07-26 10:52:29,791 INFO: 0.000869 * low_health_days_employee**2*marital_estatus_employee_Viudo\n",
      "2024-07-26 10:52:29,792 INFO: 0.000054 * join_year_employee_2023*performance_employee_low\n",
      "2024-07-26 10:52:29,797 INFO: [AutoFeat] Final score: 0.6162\n"
     ]
    }
   ],
   "source": [
    "autofeat_red = AutoFeatClassifier(n_jobs=-1, verbose=2)\n",
    "\n",
    "X_red_transformed = autofeat_red.fit_transform(concat_red_train, y)"
   ]
  },
  {
   "cell_type": "code",
   "execution_count": 49,
   "metadata": {},
   "outputs": [
    {
     "name": "stderr",
     "output_type": "stream",
     "text": [
      "2024-07-26 10:55:10,920 INFO: [AutoFeat] Computing 13 new features.\n",
      "2024-07-26 10:55:10,931 INFO: [AutoFeat]    13/   13 new features ...done.\n"
     ]
    },
    {
     "name": "stdout",
     "output_type": "stream",
     "text": [
      "[AutoFeat]    12/   13 new features\r"
     ]
    }
   ],
   "source": [
    "X_red_transformed_test = autofeat_red.transform(concat_red_test)"
   ]
  },
  {
   "cell_type": "markdown",
   "metadata": {},
   "source": [
    "### Joining reduced data"
   ]
  },
  {
   "cell_type": "code",
   "execution_count": 52,
   "metadata": {},
   "outputs": [],
   "source": [
    "# Concatenating columns\n",
    "\n",
    "# Train\n",
    "train_red_df = pd.concat([train_drop_df, X_red_transformed], axis=1)\n",
    "\n",
    "# Test\n",
    "test_red_df = pd.concat([test_drop_df, X_red_transformed_test], axis=1)"
   ]
  },
  {
   "cell_type": "markdown",
   "metadata": {},
   "source": [
    "## Saving reduced data"
   ]
  },
  {
   "cell_type": "code",
   "execution_count": 55,
   "metadata": {},
   "outputs": [],
   "source": [
    "train_red_df.to_csv(paths.data_processed_dir('train_reduced_processed.csv'), index=False, sep=',')\n",
    "test_red_df.to_csv(paths.data_processed_dir('test_reduced_processed.csv'), index=False, sep=',')"
   ]
  },
  {
   "cell_type": "markdown",
   "metadata": {},
   "source": [
    "### Generating a df with reduced features and adding obtained features from full data autofeat"
   ]
  },
  {
   "cell_type": "code",
   "execution_count": 56,
   "metadata": {},
   "outputs": [],
   "source": [
    "train_full_red_df = pd.concat([train_drop_df, concat_red_train, generated_train], axis=1)\n",
    "test_full_red_df = pd.concat([test_drop_df, concat_red_test, generated_test], axis=1)"
   ]
  },
  {
   "cell_type": "code",
   "execution_count": 59,
   "metadata": {},
   "outputs": [],
   "source": [
    "# Saving these dataframes\n",
    "\n",
    "train_full_red_df.to_csv(paths.data_processed_dir('train_full_red_processed.csv'), index=False, sep=',')\n",
    "test_full_red_df.to_csv(paths.data_processed_dir('test_full_red_processed.csv'), index=False, sep=',')"
   ]
  }
 ],
 "metadata": {
  "kernelspec": {
   "display_name": "Python 3",
   "language": "python",
   "name": "python3"
  },
  "language_info": {
   "codemirror_mode": {
    "name": "ipython",
    "version": 3
   },
   "file_extension": ".py",
   "mimetype": "text/x-python",
   "name": "python",
   "nbconvert_exporter": "python",
   "pygments_lexer": "ipython3",
   "version": "3.9.18"
  }
 },
 "nbformat": 4,
 "nbformat_minor": 2
}
