{
 "cells": [
  {
   "cell_type": "markdown",
   "metadata": {},
   "source": [
    "# Preprocessing data\n",
    "\n",
    "Categorical columns will be encoded using One-Hot encoding.\n",
    "\n",
    "Since distributions are not normal, we gonna use Power Transformer from Scikit-Learn to make them normal-like."
   ]
  },
  {
   "cell_type": "markdown",
   "metadata": {},
   "source": [
    "## Preparing environment"
   ]
  },
  {
   "cell_type": "code",
   "execution_count": 1,
   "metadata": {},
   "outputs": [],
   "source": [
    "import numpy as np\n",
    "import pandas as pd\n",
    "from sklearn.preprocessing import OneHotEncoder, PowerTransformer\n",
    "import sys\n",
    "sys.path.append('../high_performance_employee_resign_prediction')\n",
    "from utils import paths"
   ]
  },
  {
   "cell_type": "markdown",
   "metadata": {},
   "source": [
    "## Importing data"
   ]
  },
  {
   "cell_type": "code",
   "execution_count": 2,
   "metadata": {},
   "outputs": [],
   "source": [
    "train_df = pd.read_csv(paths.data_interim_dir('train_node.csv'))\n",
    "test_df = pd.read_csv(paths.data_interim_dir('test_node.csv'))"
   ]
  },
  {
   "cell_type": "code",
   "execution_count": 6,
   "metadata": {},
   "outputs": [],
   "source": [
    "num_cols = ['distancia_oficina', 'dias_baja_salud', 'permanencia_promedio', 'salario', 'performance_score', 'psi_score', 'age']\n",
    "cat_cols = ['seniority', 'modalidad_trabajo', 'genero', 'canal_reclutamiento', 'estado_civil', 'join_year', 'join_month', 'performance']"
   ]
  },
  {
   "cell_type": "markdown",
   "metadata": {},
   "source": [
    "## Dropping categories according to hypothesis testing"
   ]
  },
  {
   "cell_type": "code",
   "execution_count": 3,
   "metadata": {},
   "outputs": [],
   "source": [
    "reduced_train_df = train_df.drop(columns=['join_month', 'distancia_oficina', 'permanencia_promedio', 'salario', 'psi_score', 'age'])\n",
    "reduced_test_df = test_df.drop(columns=['join_month', 'distancia_oficina', 'permanencia_promedio', 'salario', 'psi_score', 'age'])"
   ]
  },
  {
   "cell_type": "code",
   "execution_count": 7,
   "metadata": {},
   "outputs": [],
   "source": [
    "reduced_num_cols = ['dias_baja_salud', 'performance_score']\n",
    "reduced_cat_cols = ['seniority', 'modalidad_trabajo', 'genero', 'canal_reclutamiento', 'estado_civil', 'join_year', 'performance']"
   ]
  },
  {
   "cell_type": "markdown",
   "metadata": {},
   "source": [
    "## Preprocessing full data"
   ]
  },
  {
   "cell_type": "code",
   "execution_count": 9,
   "metadata": {},
   "outputs": [],
   "source": [
    "ohe_full = OneHotEncoder(sparse_output=False, drop='first')\n",
    "pt_full = PowerTransformer()"
   ]
  },
  {
   "cell_type": "code",
   "execution_count": 13,
   "metadata": {},
   "outputs": [],
   "source": [
    "# Encoding categories\n",
    "\n",
    "# Train\n",
    "encoded_full_train = pd.DataFrame(ohe_full.fit_transform(train_df[cat_cols]))\n",
    "encoded_full_train.columns = ohe_full.get_feature_names_out(cat_cols)\n",
    "\n",
    "# Test\n",
    "encoded_full_test = pd.DataFrame(ohe_full.transform(test_df[cat_cols]))\n",
    "encoded_full_test.columns = ohe_full.get_feature_names_out(cat_cols)"
   ]
  },
  {
   "cell_type": "code",
   "execution_count": 18,
   "metadata": {},
   "outputs": [],
   "source": [
    "# Scaling categories\n",
    "\n",
    "# Train\n",
    "scaled_full_train = pd.DataFrame(pt_full.fit_transform(train_df[num_cols]), columns=num_cols)\n",
    "\n",
    "# Test\n",
    "scaled_full_test = pd.DataFrame(pt_full.transform(test_df[num_cols]), columns=num_cols)"
   ]
  },
  {
   "cell_type": "markdown",
   "metadata": {},
   "source": [
    "### Joining full data"
   ]
  },
  {
   "cell_type": "code",
   "execution_count": 24,
   "metadata": {},
   "outputs": [],
   "source": [
    "# Dropping categories and numerical columns\n",
    "\n",
    "# Train\n",
    "train_drop_df = train_df.drop(columns=cat_cols)\n",
    "train_drop_df = train_drop_df.drop(columns=num_cols)\n",
    "\n",
    "# Test\n",
    "test_drop_df = test_df.drop(columns=cat_cols)\n",
    "test_drop_df = test_drop_df.drop(columns=num_cols)\n",
    "\n",
    "# Concatenating encoded and scaled columns\n",
    "\n",
    "# Train\n",
    "train_full_df = pd.concat([train_drop_df, encoded_full_train, scaled_full_train], axis=1)\n",
    "\n",
    "# Test\n",
    "test_full_df = pd.concat([test_drop_df, encoded_full_test, scaled_full_test], axis=1)"
   ]
  },
  {
   "cell_type": "markdown",
   "metadata": {},
   "source": [
    "## Saving full data"
   ]
  },
  {
   "cell_type": "code",
   "execution_count": 27,
   "metadata": {},
   "outputs": [],
   "source": [
    "train_full_df.to_csv(paths.data_processed_dir('train_processed.csv'), index=False, sep=',')\n",
    "test_full_df.to_csv(paths.data_processed_dir('test_processed.csv'), index=False, sep=',')"
   ]
  },
  {
   "cell_type": "markdown",
   "metadata": {},
   "source": [
    "## Preprocessing reduced data"
   ]
  },
  {
   "cell_type": "code",
   "execution_count": 28,
   "metadata": {},
   "outputs": [],
   "source": [
    "ohe_reduced = OneHotEncoder(sparse_output=False, drop='first')\n",
    "pt_reduced = PowerTransformer()"
   ]
  },
  {
   "cell_type": "code",
   "execution_count": 29,
   "metadata": {},
   "outputs": [],
   "source": [
    "# Encoding categories\n",
    "\n",
    "# Train\n",
    "encoded_reduced_train = pd.DataFrame(ohe_reduced.fit_transform(train_df[reduced_cat_cols]))\n",
    "encoded_reduced_train.columns = ohe_reduced.get_feature_names_out(reduced_cat_cols)\n",
    "\n",
    "# Test\n",
    "encoded_reduced_test = pd.DataFrame(ohe_reduced.transform(test_df[reduced_cat_cols]))\n",
    "encoded_reduced_test.columns = ohe_reduced.get_feature_names_out(reduced_cat_cols)"
   ]
  },
  {
   "cell_type": "code",
   "execution_count": 34,
   "metadata": {},
   "outputs": [],
   "source": [
    "# Scaling categories\n",
    "\n",
    "# Train\n",
    "scaled_reduced_train = pd.DataFrame(pt_reduced.fit_transform(train_df[reduced_num_cols]), columns=reduced_num_cols)\n",
    "\n",
    "# Test\n",
    "scaled_reduced_test = pd.DataFrame(pt_reduced.transform(test_df[reduced_num_cols]), columns=reduced_num_cols)"
   ]
  },
  {
   "cell_type": "markdown",
   "metadata": {},
   "source": [
    "### Joining reduced data"
   ]
  },
  {
   "cell_type": "code",
   "execution_count": 39,
   "metadata": {},
   "outputs": [],
   "source": [
    "# Concatenating encoded and scaled columns\n",
    "\n",
    "# Train\n",
    "train_reduced_df = pd.concat([train_drop_df, encoded_reduced_train, scaled_reduced_train], axis=1)\n",
    "\n",
    "# Test\n",
    "test_reduced_df = pd.concat([test_drop_df, encoded_reduced_test, scaled_reduced_test], axis=1)"
   ]
  },
  {
   "cell_type": "markdown",
   "metadata": {},
   "source": [
    "## Saving reduced data"
   ]
  },
  {
   "cell_type": "code",
   "execution_count": 45,
   "metadata": {},
   "outputs": [],
   "source": [
    "train_reduced_df.to_csv(paths.data_processed_dir('train_reduced_processed.csv'), index=False, sep=',')\n",
    "test_reduced_df.to_csv(paths.data_processed_dir('test_reduced_processed.csv'), index=False, sep=',')"
   ]
  }
 ],
 "metadata": {
  "kernelspec": {
   "display_name": "Python 3",
   "language": "python",
   "name": "python3"
  },
  "language_info": {
   "codemirror_mode": {
    "name": "ipython",
    "version": 3
   },
   "file_extension": ".py",
   "mimetype": "text/x-python",
   "name": "python",
   "nbconvert_exporter": "python",
   "pygments_lexer": "ipython3",
   "version": "3.9.18"
  }
 },
 "nbformat": 4,
 "nbformat_minor": 2
}
