{
 "cells": [
  {
   "cell_type": "markdown",
   "metadata": {},
   "source": [
    "# Preprocessing data\n",
    "\n",
    "Categorical columns will be encoded using One-Hot encoding because Graph Neural Networks benefit from explicit binary representations of categories. Distributions will be normalized using Standard Scaler to ensure they have a similar scale."
   ]
  },
  {
   "cell_type": "markdown",
   "metadata": {},
   "source": [
    "## Preparing environment"
   ]
  },
  {
   "cell_type": "code",
   "execution_count": 1,
   "metadata": {},
   "outputs": [],
   "source": [
    "import numpy as np\n",
    "import pandas as pd\n",
    "from sklearn.preprocessing import StandardScaler, OneHotEncoder\n",
    "import sys\n",
    "sys.path.append('../high_performance_employee_resign_prediction')\n",
    "from utils import paths"
   ]
  },
  {
   "cell_type": "markdown",
   "metadata": {},
   "source": [
    "## Importing data"
   ]
  },
  {
   "cell_type": "code",
   "execution_count": 2,
   "metadata": {},
   "outputs": [],
   "source": [
    "train_df = pd.read_csv(paths.data_interim_dir('train_clean.csv'))\n",
    "test_df = pd.read_csv(paths.data_interim_dir('test_clean.csv'))"
   ]
  },
  {
   "cell_type": "markdown",
   "metadata": {},
   "source": [
    "# Preprocessing total data"
   ]
  },
  {
   "cell_type": "code",
   "execution_count": 3,
   "metadata": {},
   "outputs": [],
   "source": [
    "# Selecting numerical and categorical columns\n",
    "\n",
    "num_cols = ['office_distance', 'low_health_days', 'average_permanence', 'salary', 'performance_score', \n",
    "            'psi_score', 'join_age', 'office_distance_boss', 'low_health_days_boss', 'average_permanence_boss', \n",
    "            'salary_boss', 'performance_score_boss', 'psi_score_boss', 'join_age_boss', 'salary_diff',\n",
    "            'join_days_diff', 'age_diff', 'avg_od_epb', 'avg_lhd_epb', 'avg_avgp_epb', \n",
    "            'avg_sal_epb', 'avg_ps_epb', 'avg_psis_epb', 'avg_ja_epb', 'boss_employees_in_charge']\n",
    "\n",
    "cat_cols = ['seniority', 'work_modality', 'gender', 'recruitment_channel', 'marital_estatus', \n",
    "            'join_year', 'join_month', 'performance', 'join_age_group', 'work_modality_boss', \n",
    "            'gender_boss', 'recruitment_channel_boss', 'marital_estatus_boss', 'join_year_boss', 'join_month_boss', \n",
    "            'performance_boss', 'join_age_group_boss', 'joined_after_boss', 'younger_than_boss']"
   ]
  },
  {
   "cell_type": "code",
   "execution_count": 12,
   "metadata": {},
   "outputs": [],
   "source": [
    "# Encoding categorical columns\n",
    "\n",
    "full_le_encoder = OneHotEncoder(sparse_output=False, drop='first')\n",
    "encoded_full_cats_train = pd.DataFrame(full_le_encoder.fit_transform(train_df[cat_cols]))\n",
    "encoded_full_cats_train.columns = full_le_encoder.get_feature_names_out()\n",
    "encoded_full_cats_test = pd.DataFrame(full_le_encoder.transform(test_df[cat_cols]))\n",
    "encoded_full_cats_test.columns = full_le_encoder.get_feature_names_out()\n",
    "\n",
    "# Concatenating encoded columns to original data\n",
    "\n",
    "processed_full_train = pd.concat([train_df.drop(columns=cat_cols), encoded_full_cats_train], axis=1)\n",
    "processed_full_test = pd.concat([test_df.drop(columns=cat_cols), encoded_full_cats_test], axis=1)\n",
    "\n",
    "# Standarizing numerical columns\n",
    "\n",
    "full_standard_scaler = StandardScaler()\n",
    "processed_full_train[num_cols] = full_standard_scaler.fit_transform(train_df[num_cols])\n",
    "processed_full_test[num_cols] = full_standard_scaler.transform(test_df[num_cols])"
   ]
  },
  {
   "cell_type": "code",
   "execution_count": 15,
   "metadata": {},
   "outputs": [],
   "source": [
    "# Saving full processed data\n",
    "\n",
    "processed_full_train.to_csv(paths.data_processed_dir('train_full_processed.csv'), index=False)\n",
    "processed_full_test.to_csv(paths.data_processed_dir('test_full_processed.csv'), index=False)"
   ]
  },
  {
   "cell_type": "markdown",
   "metadata": {},
   "source": [
    "# Preprocessing reduced data according to hypothesis testing\n",
    "\n"
   ]
  },
  {
   "cell_type": "code",
   "execution_count": 16,
   "metadata": {},
   "outputs": [],
   "source": [
    "discard_cols = ['join_month', 'work_modality_boss', 'gender_boss', 'recruitment_channel_boss', 'marital_estatus_boss', \n",
    "                'join_year_boss', 'join_month_boss', 'join_age_group_boss', 'younger_than_boss', 'office_distance', \n",
    "                'average_permanence', 'salary', 'psi_score', 'join_age', 'office_distance_boss', \n",
    "                'average_permanence_boss', 'salary_boss', 'psi_score_boss', 'join_age_boss', 'age_diff', \n",
    "                'avg_od_epb', 'avg_lhd_epb', 'avg_sal_epb', 'avg_psis_epb', 'boss_employees_in_charge']\n",
    "\n",
    "# Discarding features\n",
    "\n",
    "train_red_df = train_df.drop(columns=discard_cols)\n",
    "test_red_df = test_df.drop(columns=discard_cols)"
   ]
  },
  {
   "cell_type": "code",
   "execution_count": 22,
   "metadata": {},
   "outputs": [],
   "source": [
    "# Getting the reduced numerical and categorical columns\n",
    "\n",
    "red_num_cols = [col for col in num_cols if col not in discard_cols]\n",
    "red_cat_cols = [col for col in cat_cols if col not in discard_cols]"
   ]
  },
  {
   "cell_type": "code",
   "execution_count": 24,
   "metadata": {},
   "outputs": [],
   "source": [
    "# Encoding categorical columns\n",
    "\n",
    "red_le_encoder = OneHotEncoder(sparse_output=False, drop='first')\n",
    "encoded_red_cats_train = pd.DataFrame(red_le_encoder.fit_transform(train_red_df[red_cat_cols]))\n",
    "encoded_red_cats_train.columns = red_le_encoder.get_feature_names_out()\n",
    "encoded_red_cats_test = pd.DataFrame(red_le_encoder.transform(test_red_df[red_cat_cols]))\n",
    "encoded_red_cats_test.columns = red_le_encoder.get_feature_names_out()\n",
    "\n",
    "# Concatenating encoded columns to original reduced data\n",
    "\n",
    "processed_red_train = pd.concat([train_red_df.drop(columns=red_cat_cols), encoded_red_cats_train], axis=1)\n",
    "processed_red_test = pd.concat([test_red_df.drop(columns=red_cat_cols), encoded_red_cats_test], axis=1)\n",
    "\n",
    "# Standarizing numerical columns\n",
    "\n",
    "red_standard_scaler = StandardScaler()\n",
    "processed_red_train[red_num_cols] = red_standard_scaler.fit_transform(train_red_df[red_num_cols])\n",
    "processed_red_test[red_num_cols] = red_standard_scaler.transform(test_red_df[red_num_cols])"
   ]
  },
  {
   "cell_type": "code",
   "execution_count": 26,
   "metadata": {},
   "outputs": [],
   "source": [
    "# Saving reduced processed data\n",
    "\n",
    "processed_red_train.to_csv(paths.data_processed_dir('train_red_processed.csv'), index=False)\n",
    "processed_red_test.to_csv(paths.data_processed_dir('test_red_processed.csv'), index=False)"
   ]
  },
  {
   "cell_type": "markdown",
   "metadata": {},
   "source": [
    "With this preprocessing made, we can make 2 experiments: Modelling on full data and modelling on reduced data, in order to find which approach works better for the GNN."
   ]
  }
 ],
 "metadata": {
  "kernelspec": {
   "display_name": "Python 3",
   "language": "python",
   "name": "python3"
  },
  "language_info": {
   "codemirror_mode": {
    "name": "ipython",
    "version": 3
   },
   "file_extension": ".py",
   "mimetype": "text/x-python",
   "name": "python",
   "nbconvert_exporter": "python",
   "pygments_lexer": "ipython3",
   "version": "3.9.18"
  }
 },
 "nbformat": 4,
 "nbformat_minor": 2
}
