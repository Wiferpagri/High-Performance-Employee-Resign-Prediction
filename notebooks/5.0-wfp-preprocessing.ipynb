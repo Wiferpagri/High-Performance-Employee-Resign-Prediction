{
 "cells": [
  {
   "cell_type": "markdown",
   "metadata": {},
   "source": [
    "# Preprocessing data\n",
    "\n",
    "Categorical columns will be encoded using One-Hot encoding.\n",
    "\n",
    "Since distributions are not normal, we gonna use Power Transformer from Scikit-Learn to make them normal-like."
   ]
  },
  {
   "cell_type": "markdown",
   "metadata": {},
   "source": [
    "## Preparing environment"
   ]
  },
  {
   "cell_type": "code",
   "execution_count": 11,
   "metadata": {},
   "outputs": [],
   "source": [
    "import numpy as np\n",
    "import pandas as pd\n",
    "from sklearn.preprocessing import OneHotEncoder, StandardScaler\n",
    "import sys\n",
    "sys.path.append('../high_performance_employee_resign_prediction')\n",
    "from utils import paths"
   ]
  },
  {
   "cell_type": "markdown",
   "metadata": {},
   "source": [
    "## Importing data"
   ]
  },
  {
   "cell_type": "code",
   "execution_count": 12,
   "metadata": {},
   "outputs": [],
   "source": [
    "train_df = pd.read_csv(paths.data_interim_dir('train_node.csv'))\n",
    "test_df = pd.read_csv(paths.data_interim_dir('test_node.csv'))"
   ]
  },
  {
   "cell_type": "code",
   "execution_count": 13,
   "metadata": {},
   "outputs": [],
   "source": [
    "id_cols = ['id_employee', 'id_last_boss', 'id_last_boss']\n",
    "\n",
    "num_cols = ['office_distance', 'low_health_days', 'average_permanence', 'salary', 'performance_score', \n",
    "            'psi_score', 'join_age', 'office_distance_boss', 'low_health_days_boss', 'average_permanence_boss', \n",
    "            'salary_boss', 'performance_score_boss', 'psi_score_boss', 'join_age_boss', 'salary_diff',\n",
    "            'join_days_diff', 'age_diff', 'avg_od_epb', 'avg_lhd_epb', 'avg_avgp_epb', \n",
    "            'avg_sal_epb', 'avg_ps_epb', 'avg_psis_epb', 'avg_ja_epb', 'boss_employees_in_charge']\n",
    "\n",
    "cat_cols = ['seniority', 'work_modality', 'gender', 'recruitment_channel', 'marital_estatus', \n",
    "            'join_year', 'join_month', 'performance', 'join_age_group', 'work_modality_boss', \n",
    "            'gender_boss', 'recruitment_channel_boss', 'marital_estatus_boss', 'join_year_boss', 'join_month_boss', \n",
    "            'performance_boss', 'join_age_group_boss', 'joined_after_boss', 'younger_than_boss']"
   ]
  },
  {
   "cell_type": "markdown",
   "metadata": {},
   "source": [
    "## Dropping categories according to hypothesis testing"
   ]
  },
  {
   "cell_type": "code",
   "execution_count": 14,
   "metadata": {},
   "outputs": [],
   "source": [
    "reduced_train_df = train_df.drop(columns=['join_month', 'work_modality_boss', 'gender_boss', 'recruitment_channel_boss', \n",
    "                                          'marital_estatus_boss', 'join_year_boss', 'join_month_boss', 'join_age_group_boss', \n",
    "                                          'younger_than_boss', 'office_distance', 'average_permanence', 'salary', \n",
    "                                          'psi_score', 'join_age', 'office_distance_boss', 'average_permanence_boss', \n",
    "                                          'salary_boss', 'psi_score_boss', 'join_age_boss', 'age_diff', \n",
    "                                          'avg_od_epb', 'avg_lhd_epb', 'avg_sal_epb', 'avg_psis_epb', \n",
    "                                          'boss_employees_in_charge'])\n",
    "\n",
    "reduced_test_df = test_df.drop(columns=['join_month', 'work_modality_boss', 'gender_boss', 'recruitment_channel_boss', \n",
    "                                          'marital_estatus_boss', 'join_year_boss', 'join_month_boss', 'join_age_group_boss', \n",
    "                                          'younger_than_boss', 'office_distance', 'average_permanence', 'salary', \n",
    "                                          'psi_score', 'join_age', 'office_distance_boss', 'average_permanence_boss', \n",
    "                                          'salary_boss', 'psi_score_boss', 'join_age_boss', 'age_diff', \n",
    "                                          'avg_od_epb', 'avg_lhd_epb', 'avg_sal_epb', 'avg_psis_epb', \n",
    "                                          'boss_employees_in_charge'])"
   ]
  },
  {
   "cell_type": "code",
   "execution_count": 15,
   "metadata": {},
   "outputs": [
    {
     "data": {
      "text/html": [
       "<div>\n",
       "<style scoped>\n",
       "    .dataframe tbody tr th:only-of-type {\n",
       "        vertical-align: middle;\n",
       "    }\n",
       "\n",
       "    .dataframe tbody tr th {\n",
       "        vertical-align: top;\n",
       "    }\n",
       "\n",
       "    .dataframe thead th {\n",
       "        text-align: right;\n",
       "    }\n",
       "</style>\n",
       "<table border=\"1\" class=\"dataframe\">\n",
       "  <thead>\n",
       "    <tr style=\"text-align: right;\">\n",
       "      <th></th>\n",
       "      <th>id_employee</th>\n",
       "      <th>id_last_boss</th>\n",
       "      <th>seniority</th>\n",
       "      <th>work_modality</th>\n",
       "      <th>low_health_days</th>\n",
       "      <th>gender</th>\n",
       "      <th>recruitment_channel</th>\n",
       "      <th>performance_score</th>\n",
       "      <th>marital_estatus</th>\n",
       "      <th>join_year</th>\n",
       "      <th>...</th>\n",
       "      <th>join_age_group</th>\n",
       "      <th>low_health_days_boss</th>\n",
       "      <th>performance_score_boss</th>\n",
       "      <th>performance_boss</th>\n",
       "      <th>salary_diff</th>\n",
       "      <th>join_days_diff</th>\n",
       "      <th>joined_after_boss</th>\n",
       "      <th>avg_avgp_epb</th>\n",
       "      <th>avg_ps_epb</th>\n",
       "      <th>avg_ja_epb</th>\n",
       "    </tr>\n",
       "  </thead>\n",
       "  <tbody>\n",
       "    <tr>\n",
       "      <th>0</th>\n",
       "      <td>100247</td>\n",
       "      <td>102074</td>\n",
       "      <td>1</td>\n",
       "      <td>Híbrida</td>\n",
       "      <td>1</td>\n",
       "      <td>Mujer</td>\n",
       "      <td>Ferias &amp; Networking</td>\n",
       "      <td>99</td>\n",
       "      <td>Soltero</td>\n",
       "      <td>2018</td>\n",
       "      <td>...</td>\n",
       "      <td>young</td>\n",
       "      <td>0</td>\n",
       "      <td>80</td>\n",
       "      <td>high</td>\n",
       "      <td>1475989</td>\n",
       "      <td>-757</td>\n",
       "      <td>1</td>\n",
       "      <td>5.645161</td>\n",
       "      <td>74.096774</td>\n",
       "      <td>31.225806</td>\n",
       "    </tr>\n",
       "    <tr>\n",
       "      <th>1</th>\n",
       "      <td>103355</td>\n",
       "      <td>102115</td>\n",
       "      <td>1</td>\n",
       "      <td>Híbrida</td>\n",
       "      <td>2</td>\n",
       "      <td>Hombre</td>\n",
       "      <td>Ferias &amp; Networking</td>\n",
       "      <td>99</td>\n",
       "      <td>Soltero</td>\n",
       "      <td>2021</td>\n",
       "      <td>...</td>\n",
       "      <td>young</td>\n",
       "      <td>2</td>\n",
       "      <td>94</td>\n",
       "      <td>high</td>\n",
       "      <td>1433226</td>\n",
       "      <td>-940</td>\n",
       "      <td>1</td>\n",
       "      <td>7.148936</td>\n",
       "      <td>73.340426</td>\n",
       "      <td>35.574468</td>\n",
       "    </tr>\n",
       "    <tr>\n",
       "      <th>2</th>\n",
       "      <td>100669</td>\n",
       "      <td>102060</td>\n",
       "      <td>1</td>\n",
       "      <td>Híbrida</td>\n",
       "      <td>3</td>\n",
       "      <td>Mujer</td>\n",
       "      <td>Referidos</td>\n",
       "      <td>96</td>\n",
       "      <td>Viudo</td>\n",
       "      <td>2016</td>\n",
       "      <td>...</td>\n",
       "      <td>adult</td>\n",
       "      <td>3</td>\n",
       "      <td>82</td>\n",
       "      <td>high</td>\n",
       "      <td>933894</td>\n",
       "      <td>-990</td>\n",
       "      <td>1</td>\n",
       "      <td>8.275862</td>\n",
       "      <td>76.034483</td>\n",
       "      <td>34.379310</td>\n",
       "    </tr>\n",
       "    <tr>\n",
       "      <th>3</th>\n",
       "      <td>103760</td>\n",
       "      <td>102062</td>\n",
       "      <td>1</td>\n",
       "      <td>Híbrida</td>\n",
       "      <td>2</td>\n",
       "      <td>Hombre</td>\n",
       "      <td>Linkedin</td>\n",
       "      <td>96</td>\n",
       "      <td>Soltero</td>\n",
       "      <td>2014</td>\n",
       "      <td>...</td>\n",
       "      <td>young</td>\n",
       "      <td>2</td>\n",
       "      <td>38</td>\n",
       "      <td>low</td>\n",
       "      <td>421768</td>\n",
       "      <td>72</td>\n",
       "      <td>0</td>\n",
       "      <td>4.588235</td>\n",
       "      <td>77.647059</td>\n",
       "      <td>29.176471</td>\n",
       "    </tr>\n",
       "    <tr>\n",
       "      <th>4</th>\n",
       "      <td>100965</td>\n",
       "      <td>102062</td>\n",
       "      <td>1</td>\n",
       "      <td>Híbrida</td>\n",
       "      <td>2</td>\n",
       "      <td>Hombre</td>\n",
       "      <td>Linkedin</td>\n",
       "      <td>95</td>\n",
       "      <td>Soltero</td>\n",
       "      <td>2014</td>\n",
       "      <td>...</td>\n",
       "      <td>young</td>\n",
       "      <td>2</td>\n",
       "      <td>38</td>\n",
       "      <td>low</td>\n",
       "      <td>425196</td>\n",
       "      <td>71</td>\n",
       "      <td>0</td>\n",
       "      <td>4.588235</td>\n",
       "      <td>77.647059</td>\n",
       "      <td>29.176471</td>\n",
       "    </tr>\n",
       "    <tr>\n",
       "      <th>...</th>\n",
       "      <td>...</td>\n",
       "      <td>...</td>\n",
       "      <td>...</td>\n",
       "      <td>...</td>\n",
       "      <td>...</td>\n",
       "      <td>...</td>\n",
       "      <td>...</td>\n",
       "      <td>...</td>\n",
       "      <td>...</td>\n",
       "      <td>...</td>\n",
       "      <td>...</td>\n",
       "      <td>...</td>\n",
       "      <td>...</td>\n",
       "      <td>...</td>\n",
       "      <td>...</td>\n",
       "      <td>...</td>\n",
       "      <td>...</td>\n",
       "      <td>...</td>\n",
       "      <td>...</td>\n",
       "      <td>...</td>\n",
       "      <td>...</td>\n",
       "    </tr>\n",
       "    <tr>\n",
       "      <th>2147</th>\n",
       "      <td>103567</td>\n",
       "      <td>102171</td>\n",
       "      <td>1</td>\n",
       "      <td>Presencial</td>\n",
       "      <td>8</td>\n",
       "      <td>Mujer</td>\n",
       "      <td>Portal Web</td>\n",
       "      <td>80</td>\n",
       "      <td>Casado</td>\n",
       "      <td>2023</td>\n",
       "      <td>...</td>\n",
       "      <td>adult</td>\n",
       "      <td>4</td>\n",
       "      <td>80</td>\n",
       "      <td>high</td>\n",
       "      <td>1334841</td>\n",
       "      <td>-2270</td>\n",
       "      <td>1</td>\n",
       "      <td>6.610169</td>\n",
       "      <td>82.542373</td>\n",
       "      <td>42.457627</td>\n",
       "    </tr>\n",
       "    <tr>\n",
       "      <th>2148</th>\n",
       "      <td>104098</td>\n",
       "      <td>102172</td>\n",
       "      <td>1</td>\n",
       "      <td>Presencial</td>\n",
       "      <td>12</td>\n",
       "      <td>Mujer</td>\n",
       "      <td>Linkedin</td>\n",
       "      <td>71</td>\n",
       "      <td>Casado</td>\n",
       "      <td>2023</td>\n",
       "      <td>...</td>\n",
       "      <td>adult</td>\n",
       "      <td>1</td>\n",
       "      <td>57</td>\n",
       "      <td>low</td>\n",
       "      <td>588663</td>\n",
       "      <td>-2650</td>\n",
       "      <td>1</td>\n",
       "      <td>6.523810</td>\n",
       "      <td>75.936508</td>\n",
       "      <td>39.063492</td>\n",
       "    </tr>\n",
       "    <tr>\n",
       "      <th>2149</th>\n",
       "      <td>103987</td>\n",
       "      <td>102155</td>\n",
       "      <td>1</td>\n",
       "      <td>Presencial</td>\n",
       "      <td>1</td>\n",
       "      <td>Hombre</td>\n",
       "      <td>Portal Web</td>\n",
       "      <td>77</td>\n",
       "      <td>Soltero</td>\n",
       "      <td>2023</td>\n",
       "      <td>...</td>\n",
       "      <td>adult</td>\n",
       "      <td>1</td>\n",
       "      <td>39</td>\n",
       "      <td>low</td>\n",
       "      <td>-43879</td>\n",
       "      <td>-2457</td>\n",
       "      <td>1</td>\n",
       "      <td>6.692308</td>\n",
       "      <td>64.153846</td>\n",
       "      <td>35.230769</td>\n",
       "    </tr>\n",
       "    <tr>\n",
       "      <th>2150</th>\n",
       "      <td>103810</td>\n",
       "      <td>102141</td>\n",
       "      <td>1</td>\n",
       "      <td>Presencial</td>\n",
       "      <td>2</td>\n",
       "      <td>Hombre</td>\n",
       "      <td>Portal Web</td>\n",
       "      <td>77</td>\n",
       "      <td>Casado</td>\n",
       "      <td>2023</td>\n",
       "      <td>...</td>\n",
       "      <td>adult</td>\n",
       "      <td>1</td>\n",
       "      <td>64</td>\n",
       "      <td>low</td>\n",
       "      <td>306923</td>\n",
       "      <td>-1923</td>\n",
       "      <td>1</td>\n",
       "      <td>7.629630</td>\n",
       "      <td>77.444444</td>\n",
       "      <td>41.222222</td>\n",
       "    </tr>\n",
       "    <tr>\n",
       "      <th>2151</th>\n",
       "      <td>102441</td>\n",
       "      <td>102171</td>\n",
       "      <td>1</td>\n",
       "      <td>Presencial</td>\n",
       "      <td>1</td>\n",
       "      <td>Hombre</td>\n",
       "      <td>Linkedin</td>\n",
       "      <td>79</td>\n",
       "      <td>Casado</td>\n",
       "      <td>2023</td>\n",
       "      <td>...</td>\n",
       "      <td>adult</td>\n",
       "      <td>4</td>\n",
       "      <td>80</td>\n",
       "      <td>high</td>\n",
       "      <td>859899</td>\n",
       "      <td>-2261</td>\n",
       "      <td>1</td>\n",
       "      <td>6.610169</td>\n",
       "      <td>82.542373</td>\n",
       "      <td>42.457627</td>\n",
       "    </tr>\n",
       "  </tbody>\n",
       "</table>\n",
       "<p>2152 rows × 21 columns</p>\n",
       "</div>"
      ],
      "text/plain": [
       "      id_employee  id_last_boss  seniority work_modality  low_health_days  \\\n",
       "0          100247        102074          1       Híbrida                1   \n",
       "1          103355        102115          1       Híbrida                2   \n",
       "2          100669        102060          1       Híbrida                3   \n",
       "3          103760        102062          1       Híbrida                2   \n",
       "4          100965        102062          1       Híbrida                2   \n",
       "...           ...           ...        ...           ...              ...   \n",
       "2147       103567        102171          1    Presencial                8   \n",
       "2148       104098        102172          1    Presencial               12   \n",
       "2149       103987        102155          1    Presencial                1   \n",
       "2150       103810        102141          1    Presencial                2   \n",
       "2151       102441        102171          1    Presencial                1   \n",
       "\n",
       "      gender  recruitment_channel  performance_score marital_estatus  \\\n",
       "0      Mujer  Ferias & Networking                 99         Soltero   \n",
       "1     Hombre  Ferias & Networking                 99         Soltero   \n",
       "2      Mujer            Referidos                 96           Viudo   \n",
       "3     Hombre             Linkedin                 96         Soltero   \n",
       "4     Hombre             Linkedin                 95         Soltero   \n",
       "...      ...                  ...                ...             ...   \n",
       "2147   Mujer           Portal Web                 80          Casado   \n",
       "2148   Mujer             Linkedin                 71          Casado   \n",
       "2149  Hombre           Portal Web                 77         Soltero   \n",
       "2150  Hombre           Portal Web                 77          Casado   \n",
       "2151  Hombre             Linkedin                 79          Casado   \n",
       "\n",
       "      join_year  ... join_age_group low_health_days_boss  \\\n",
       "0          2018  ...          young                    0   \n",
       "1          2021  ...          young                    2   \n",
       "2          2016  ...          adult                    3   \n",
       "3          2014  ...          young                    2   \n",
       "4          2014  ...          young                    2   \n",
       "...         ...  ...            ...                  ...   \n",
       "2147       2023  ...          adult                    4   \n",
       "2148       2023  ...          adult                    1   \n",
       "2149       2023  ...          adult                    1   \n",
       "2150       2023  ...          adult                    1   \n",
       "2151       2023  ...          adult                    4   \n",
       "\n",
       "      performance_score_boss  performance_boss salary_diff  join_days_diff  \\\n",
       "0                         80              high     1475989            -757   \n",
       "1                         94              high     1433226            -940   \n",
       "2                         82              high      933894            -990   \n",
       "3                         38               low      421768              72   \n",
       "4                         38               low      425196              71   \n",
       "...                      ...               ...         ...             ...   \n",
       "2147                      80              high     1334841           -2270   \n",
       "2148                      57               low      588663           -2650   \n",
       "2149                      39               low      -43879           -2457   \n",
       "2150                      64               low      306923           -1923   \n",
       "2151                      80              high      859899           -2261   \n",
       "\n",
       "      joined_after_boss  avg_avgp_epb  avg_ps_epb  avg_ja_epb  \n",
       "0                     1      5.645161   74.096774   31.225806  \n",
       "1                     1      7.148936   73.340426   35.574468  \n",
       "2                     1      8.275862   76.034483   34.379310  \n",
       "3                     0      4.588235   77.647059   29.176471  \n",
       "4                     0      4.588235   77.647059   29.176471  \n",
       "...                 ...           ...         ...         ...  \n",
       "2147                  1      6.610169   82.542373   42.457627  \n",
       "2148                  1      6.523810   75.936508   39.063492  \n",
       "2149                  1      6.692308   64.153846   35.230769  \n",
       "2150                  1      7.629630   77.444444   41.222222  \n",
       "2151                  1      6.610169   82.542373   42.457627  \n",
       "\n",
       "[2152 rows x 21 columns]"
      ]
     },
     "execution_count": 15,
     "metadata": {},
     "output_type": "execute_result"
    }
   ],
   "source": [
    "reduced_train_df.iloc[:, :-129]"
   ]
  },
  {
   "cell_type": "code",
   "execution_count": 16,
   "metadata": {},
   "outputs": [],
   "source": [
    "reduced_num_cols = ['low_health_days', 'performance_score', 'low_health_days_boss', 'performance_score_boss', \n",
    "                    'salary_diff', 'join_days_diff', 'avg_avgp_epb', 'avg_ps_epb', 'avg_ja_epb']\n",
    "\n",
    "reduced_cat_cols = ['seniority', 'work_modality', 'gender', 'recruitment_channel', 'marital_estatus',\n",
    "                    'join_year', 'performance', 'join_age_group', 'performance_boss', 'joined_after_boss']"
   ]
  },
  {
   "cell_type": "markdown",
   "metadata": {},
   "source": [
    "## Preprocessing full data"
   ]
  },
  {
   "cell_type": "code",
   "execution_count": 19,
   "metadata": {},
   "outputs": [],
   "source": [
    "ohe_full = OneHotEncoder(sparse_output=False, drop='first')\n",
    "ss_full = StandardScaler()"
   ]
  },
  {
   "cell_type": "code",
   "execution_count": 20,
   "metadata": {},
   "outputs": [],
   "source": [
    "# Encoding categories\n",
    "\n",
    "# Train\n",
    "encoded_full_train = pd.DataFrame(ohe_full.fit_transform(train_df[cat_cols]))\n",
    "encoded_full_train.columns = ohe_full.get_feature_names_out(cat_cols)\n",
    "\n",
    "# Test\n",
    "encoded_full_test = pd.DataFrame(ohe_full.transform(test_df[cat_cols]))\n",
    "encoded_full_test.columns = ohe_full.get_feature_names_out(cat_cols)"
   ]
  },
  {
   "cell_type": "code",
   "execution_count": 21,
   "metadata": {},
   "outputs": [],
   "source": [
    "# Scaling categories\n",
    "\n",
    "# Train\n",
    "scaled_full_train = pd.DataFrame(ss_full.fit_transform(train_df[num_cols]), columns=num_cols)\n",
    "\n",
    "# Test\n",
    "scaled_full_test = pd.DataFrame(ss_full.transform(test_df[num_cols]), columns=num_cols)"
   ]
  },
  {
   "cell_type": "code",
   "execution_count": 22,
   "metadata": {},
   "outputs": [],
   "source": [
    "# Concatenating dfs\n",
    "\n",
    "concat_full_train = pd.concat([encoded_full_train, scaled_full_train], axis=1)\n",
    "\n",
    "concat_full_test = pd.concat([encoded_full_test, scaled_full_test], axis=1)"
   ]
  },
  {
   "cell_type": "markdown",
   "metadata": {},
   "source": [
    "## Preprocessing full data"
   ]
  },
  {
   "cell_type": "code",
   "execution_count": null,
   "metadata": {},
   "outputs": [],
   "source": [
    "ohe_full = OneHotEncoder(sparse_output=False, drop='first')\n",
    "ss_full = StandardScaler()"
   ]
  },
  {
   "cell_type": "code",
   "execution_count": null,
   "metadata": {},
   "outputs": [],
   "source": [
    "# Encoding categories\n",
    "\n",
    "# Train\n",
    "encoded_full_train = pd.DataFrame(ohe_full.fit_transform(train_df[cat_cols]))\n",
    "encoded_full_train.columns = ohe_full.get_feature_names_out(cat_cols)\n",
    "\n",
    "# Test\n",
    "encoded_full_test = pd.DataFrame(ohe_full.transform(test_df[cat_cols]))\n",
    "encoded_full_test.columns = ohe_full.get_feature_names_out(cat_cols)"
   ]
  },
  {
   "cell_type": "code",
   "execution_count": null,
   "metadata": {},
   "outputs": [],
   "source": [
    "# Scaling categories\n",
    "\n",
    "# Train\n",
    "scaled_full_train = pd.DataFrame(ss_full.fit_transform(train_df[num_cols]), columns=num_cols)\n",
    "\n",
    "# Test\n",
    "scaled_full_test = pd.DataFrame(ss_full.transform(test_df[num_cols]), columns=num_cols)"
   ]
  },
  {
   "cell_type": "code",
   "execution_count": null,
   "metadata": {},
   "outputs": [],
   "source": [
    "# Concatenating dfs\n",
    "\n",
    "concat_full_train = pd.concat([encoded_full_train, scaled_full_train], axis=1)\n",
    "\n",
    "concat_full_test = pd.concat([encoded_full_test, scaled_full_test], axis=1)"
   ]
  },
  {
   "cell_type": "markdown",
   "metadata": {},
   "source": [
    "### Feature engineering\n",
    "\n",
    "Autofeat is a library that applies multiple numerical transformations to the features in order to find meaningful relationships between features and target, improving the prediction"
   ]
  },
  {
   "cell_type": "code",
   "execution_count": 23,
   "metadata": {},
   "outputs": [],
   "source": [
    "from autofeat import AutoFeatClassifier"
   ]
  },
  {
   "cell_type": "code",
   "execution_count": 25,
   "metadata": {},
   "outputs": [],
   "source": [
    "y = train_df['resign']"
   ]
  },
  {
   "cell_type": "code",
   "execution_count": 32,
   "metadata": {},
   "outputs": [],
   "source": [
    "feateng_cols = ['seniority_2',\n",
    " 'work_modality_Presencial',\n",
    " 'gender_Mujer',\n",
    " 'recruitment_channel_Headhunter',\n",
    " 'recruitment_channel_Linkedin',\n",
    " 'recruitment_channel_Portal Web',\n",
    " 'recruitment_channel_Referidos',\n",
    " 'marital_estatus_Divorciado',\n",
    " 'marital_estatus_Soltero',\n",
    " 'marital_estatus_Viudo',\n",
    " 'performance_low',\n",
    " 'join_age_group_old_adult',\n",
    " 'join_age_group_young',\n",
    " 'work_modality_boss_Presencial',\n",
    " 'gender_boss_Mujer',\n",
    " 'recruitment_channel_boss_Headhunter',\n",
    " 'recruitment_channel_boss_Linkedin',\n",
    " 'recruitment_channel_boss_Portal Web',\n",
    " 'recruitment_channel_boss_Referidos',\n",
    " 'marital_estatus_boss_Divorciado',\n",
    " 'marital_estatus_boss_Soltero',\n",
    " 'marital_estatus_boss_Viudo',\n",
    " 'performance_boss_low',\n",
    " 'join_age_group_boss_old_adult',\n",
    " 'join_age_group_boss_young',\n",
    " 'joined_after_boss_1',\n",
    " 'younger_than_boss_1',\n",
    " 'office_distance',\n",
    " 'low_health_days',\n",
    " 'average_permanence',\n",
    " 'salary',\n",
    " 'performance_score',\n",
    " 'psi_score',\n",
    " 'join_age',\n",
    " 'office_distance_boss',\n",
    " 'low_health_days_boss',\n",
    " 'average_permanence_boss',\n",
    " 'salary_boss',\n",
    " 'performance_score_boss',\n",
    " 'psi_score_boss',\n",
    " 'join_age_boss',\n",
    " 'salary_diff',\n",
    " 'join_days_diff',\n",
    " 'age_diff',\n",
    " 'boss_employees_in_charge']"
   ]
  },
  {
   "cell_type": "code",
   "execution_count": 33,
   "metadata": {},
   "outputs": [
    {
     "name": "stderr",
     "output_type": "stream",
     "text": [
      "2024-09-09 00:37:38,927 INFO: [AutoFeat] The 2 step feature engineering process could generate up to 49770 features.\n",
      "2024-09-09 00:37:38,928 INFO: [AutoFeat] With 2152 data points this new feature matrix would use about 0.43 gb of space.\n",
      "2024-09-09 00:37:38,930 INFO: [feateng] Step 1: transformation of original features\n"
     ]
    },
    {
     "name": "stdout",
     "output_type": "stream",
     "text": [
      "[feateng]               0/             45 features transformed\r"
     ]
    },
    {
     "name": "stderr",
     "output_type": "stream",
     "text": [
      "2024-09-09 00:37:46,754 INFO: [feateng] Generated 88 transformed features from 45 original features - done.\n",
      "2024-09-09 00:37:46,758 INFO: [feateng] Step 2: first combination of features\n"
     ]
    },
    {
     "name": "stdout",
     "output_type": "stream",
     "text": [
      "[feateng]            8600/           8778 feature tuples combined\r"
     ]
    },
    {
     "name": "stderr",
     "output_type": "stream",
     "text": [
      "2024-09-09 00:38:08,059 INFO: [feateng] Generated 8629 feature combinations from 8778 original feature tuples - done.\n",
      "2024-09-09 00:38:08,153 INFO: [feateng] Generated altogether 8795 new features in 2 steps\n",
      "2024-09-09 00:38:08,155 INFO: [feateng] Removing correlated features, as well as additions at the highest level\n"
     ]
    },
    {
     "name": "stdout",
     "output_type": "stream",
     "text": [
      "[feateng]            8700/           8778 feature tuples combined\r"
     ]
    },
    {
     "name": "stderr",
     "output_type": "stream",
     "text": [
      "2024-09-09 00:38:09,004 INFO: [feateng] Generated a total of 8166 additional features\n"
     ]
    },
    {
     "name": "stdout",
     "output_type": "stream",
     "text": [
      "[featsel] Scaling data...done.\n",
      "[Parallel(n_jobs=-1)]: Using backend LokyBackend with 12 concurrent workers.\n",
      "[Parallel(n_jobs=-1)]: Done   1 tasks      | elapsed: 32.0min\n",
      "[Parallel(n_jobs=-1)]: Done   2 out of   5 | elapsed: 32.3min remaining: 48.4min\n",
      "[Parallel(n_jobs=-1)]: Done   3 out of   5 | elapsed: 33.1min remaining: 22.1min\n",
      "[Parallel(n_jobs=-1)]: Done   5 out of   5 | elapsed: 35.9min remaining:    0.0s\n",
      "[Parallel(n_jobs=-1)]: Done   5 out of   5 | elapsed: 35.9min finished\n"
     ]
    },
    {
     "name": "stderr",
     "output_type": "stream",
     "text": [
      "2024-09-09 01:14:06,314 INFO: [featsel] 62 features after 5 feature selection runs\n",
      "2024-09-09 01:14:06,396 INFO: [featsel] 62 features after correlation filtering\n",
      "2024-09-09 01:14:13,369 INFO: [featsel] 30 features after noise filtering\n",
      "2024-09-09 01:14:13,375 INFO: [AutoFeat] Computing 25 new features.\n"
     ]
    },
    {
     "name": "stdout",
     "output_type": "stream",
     "text": [
      "[AutoFeat]    23/   25 new features\r"
     ]
    },
    {
     "name": "stderr",
     "output_type": "stream",
     "text": [
      "2024-09-09 01:14:16,410 INFO: [AutoFeat]    25/   25 new features ...done.\n",
      "2024-09-09 01:14:16,413 INFO: [AutoFeat] Final dataframe with 121 feature columns (25 new).\n",
      "2024-09-09 01:14:16,414 INFO: [AutoFeat] Training final classification model.\n"
     ]
    },
    {
     "name": "stdout",
     "output_type": "stream",
     "text": [
      "[AutoFeat]    24/   25 new features\r"
     ]
    },
    {
     "name": "stderr",
     "output_type": "stream",
     "text": [
      "2024-09-09 01:14:17,479 INFO: [AutoFeat] Trained model: largest coefficients:\n",
      "2024-09-09 01:14:17,480 INFO: [-1.28320283]\n",
      "2024-09-09 01:14:17,481 INFO: 5.693560 * gender_Mujer*gender_boss_Mujer\n",
      "2024-09-09 01:14:17,482 INFO: 2.755608 * seniority_2\n",
      "2024-09-09 01:14:17,482 INFO: 2.227825 * gender_Mujer\n",
      "2024-09-09 01:14:17,482 INFO: 1.866277 * gender_boss_Mujer\n",
      "2024-09-09 01:14:17,483 INFO: 1.207835 * seniority_2*Abs(psi_score_boss)\n",
      "2024-09-09 01:14:17,483 INFO: 1.188418 * join_year_2019\n",
      "2024-09-09 01:14:17,484 INFO: 0.802443 * gender_Mujer*marital_estatus_Soltero\n",
      "2024-09-09 01:14:17,485 INFO: 0.656138 * marital_estatus_Divorciado*Abs(psi_score)\n",
      "2024-09-09 01:14:17,486 INFO: 0.628426 * gender_Mujer*recruitment_channel_PortalWeb\n",
      "2024-09-09 01:14:17,486 INFO: 0.572402 * work_modality_Presencial*work_modality_boss_Presencial\n",
      "2024-09-09 01:14:17,486 INFO: 0.525835 * gender_boss_Mujer*Abs(join_age_boss)\n",
      "2024-09-09 01:14:17,487 INFO: 0.487760 * average_permanence*recruitment_channel_Referidos\n",
      "2024-09-09 01:14:17,487 INFO: 0.420028 * marital_estatus_Soltero*Abs(psi_score)\n",
      "2024-09-09 01:14:17,487 INFO: 0.418280 * performance_score_boss*recruitment_channel_boss_PortalWeb\n",
      "2024-09-09 01:14:17,488 INFO: 0.401235 * performance_score\n",
      "2024-09-09 01:14:17,488 INFO: 0.400942 * gender_boss_Mujer*joined_after_boss_1\n",
      "2024-09-09 01:14:17,489 INFO: 0.399180 * low_health_days*Abs(office_distance_boss)\n",
      "2024-09-09 01:14:17,490 INFO: 0.343473 * recruitment_channel_Referidos*exp(boss_employees_in_charge)\n",
      "2024-09-09 01:14:17,491 INFO: 0.317640 * join_days_diff*Abs(boss_employees_in_charge)\n",
      "2024-09-09 01:14:17,491 INFO: 0.284575 * marital_estatus_boss_Divorciado*performance_score**3\n",
      "2024-09-09 01:14:17,493 INFO: 0.261529 * gender_boss_Mujer*exp(performance_score_boss)\n",
      "2024-09-09 01:14:17,493 INFO: 0.224988 * Abs(performance_score)/performance_score\n",
      "2024-09-09 01:14:17,494 INFO: 0.174092 * exp(salary_boss)*Abs(psi_score_boss)\n",
      "2024-09-09 01:14:17,495 INFO: 0.122040 * performance_score*Abs(salary_boss)\n",
      "2024-09-09 01:14:17,495 INFO: 0.105417 * low_health_days*exp(age_diff)\n",
      "2024-09-09 01:14:17,495 INFO: 0.105388 * performance_score*exp(performance_score_boss)\n",
      "2024-09-09 01:14:17,497 INFO: 0.048364 * office_distance_boss/average_permanence\n",
      "2024-09-09 01:14:17,497 INFO: 0.008561 * exp(office_distance_boss)/low_health_days_boss\n",
      "2024-09-09 01:14:17,498 INFO: 0.008274 * exp(office_distance_boss)/boss_employees_in_charge\n",
      "2024-09-09 01:14:17,499 INFO: 0.006086 * 1/(average_permanence_boss*low_health_days)\n",
      "2024-09-09 01:14:17,500 INFO: [AutoFeat] Final score: 0.7839\n"
     ]
    }
   ],
   "source": [
    "autofeat = AutoFeatClassifier(n_jobs=-1, verbose=1, feateng_cols=feateng_cols)\n",
    "\n",
    "X_full_transformed = autofeat.fit_transform(concat_full_train, y)"
   ]
  },
  {
   "cell_type": "code",
   "execution_count": 34,
   "metadata": {},
   "outputs": [
    {
     "name": "stderr",
     "output_type": "stream",
     "text": [
      "2024-09-09 01:14:17,525 INFO: [AutoFeat] Computing 25 new features.\n",
      "2024-09-09 01:14:17,549 INFO: [AutoFeat]    25/   25 new features ...done.\n"
     ]
    },
    {
     "name": "stdout",
     "output_type": "stream",
     "text": [
      "[AutoFeat]    24/   25 new features\r"
     ]
    }
   ],
   "source": [
    "X_full_transformed_test = autofeat.transform(concat_full_test)"
   ]
  },
  {
   "cell_type": "markdown",
   "metadata": {},
   "source": [
    "### Joining full data"
   ]
  },
  {
   "cell_type": "code",
   "execution_count": 35,
   "metadata": {},
   "outputs": [],
   "source": [
    "# Dropping categories and numerical columns\n",
    "\n",
    "# Train\n",
    "train_drop_df = train_df.drop(columns=cat_cols)\n",
    "train_drop_df = train_drop_df.drop(columns=num_cols)\n",
    "\n",
    "# Test\n",
    "test_drop_df = test_df.drop(columns=cat_cols)\n",
    "test_drop_df = test_drop_df.drop(columns=num_cols)\n",
    "\n",
    "# Concatenating columns\n",
    "\n",
    "# Train\n",
    "train_full_df = pd.concat([train_drop_df, X_full_transformed], axis=1)\n",
    "\n",
    "# Test\n",
    "test_full_df = pd.concat([test_drop_df, X_full_transformed_test], axis=1)"
   ]
  },
  {
   "cell_type": "markdown",
   "metadata": {},
   "source": [
    "## Saving full data"
   ]
  },
  {
   "cell_type": "code",
   "execution_count": 36,
   "metadata": {},
   "outputs": [],
   "source": [
    "train_full_df.to_csv(paths.data_processed_dir('train_processed.csv'), index=False, sep=',')\n",
    "test_full_df.to_csv(paths.data_processed_dir('test_processed.csv'), index=False, sep=',')"
   ]
  },
  {
   "cell_type": "markdown",
   "metadata": {},
   "source": [
    "### Obtaining generated columns"
   ]
  },
  {
   "cell_type": "code",
   "execution_count": 37,
   "metadata": {},
   "outputs": [],
   "source": [
    "# Obtaining generated columns\n",
    "generated_cols = [col for col in X_full_transformed.columns.tolist() if col not in concat_full_train.columns.tolist()]\n",
    "generated_train = X_full_transformed[generated_cols]\n",
    "generated_test = X_full_transformed_test[generated_cols]"
   ]
  },
  {
   "cell_type": "markdown",
   "metadata": {},
   "source": [
    "### Generating a df with reduced features and adding obtained features from full data autofeat"
   ]
  },
  {
   "cell_type": "code",
   "execution_count": 43,
   "metadata": {},
   "outputs": [],
   "source": [
    "ohe_red = OneHotEncoder(sparse_output=False, drop='first')\n",
    "ss_red = StandardScaler()"
   ]
  },
  {
   "cell_type": "code",
   "execution_count": 44,
   "metadata": {},
   "outputs": [],
   "source": [
    "# Encoding categories\n",
    "\n",
    "# Train\n",
    "encoded_red_train = pd.DataFrame(ohe_red.fit_transform(train_df[reduced_cat_cols]))\n",
    "encoded_red_train.columns = ohe_red.get_feature_names_out(reduced_cat_cols)\n",
    "\n",
    "# Test\n",
    "encoded_red_test = pd.DataFrame(ohe_red.transform(test_df[reduced_cat_cols]))\n",
    "encoded_red_test.columns = ohe_red.get_feature_names_out(reduced_cat_cols)"
   ]
  },
  {
   "cell_type": "code",
   "execution_count": 45,
   "metadata": {},
   "outputs": [],
   "source": [
    "# Scaling categories\n",
    "\n",
    "# Train\n",
    "scaled_red_train = pd.DataFrame(ss_red.fit_transform(train_df[reduced_num_cols]), columns=reduced_num_cols)\n",
    "\n",
    "# Test\n",
    "scaled_red_test = pd.DataFrame(ss_red.transform(test_df[reduced_num_cols]), columns=reduced_num_cols)"
   ]
  },
  {
   "cell_type": "code",
   "execution_count": 46,
   "metadata": {},
   "outputs": [],
   "source": [
    "# Concatenating dfs\n",
    "\n",
    "concat_red_train = pd.concat([encoded_red_train, scaled_red_train], axis=1)\n",
    "\n",
    "concat_red_test = pd.concat([encoded_red_test, scaled_red_test], axis=1)"
   ]
  },
  {
   "cell_type": "code",
   "execution_count": 47,
   "metadata": {},
   "outputs": [],
   "source": [
    "train_red_df = pd.concat([train_drop_df, concat_red_train, generated_train], axis=1)\n",
    "test_red_df = pd.concat([test_drop_df, concat_red_test, generated_test], axis=1)"
   ]
  },
  {
   "cell_type": "code",
   "execution_count": 50,
   "metadata": {},
   "outputs": [],
   "source": [
    "# Saving these dataframes\n",
    "\n",
    "train_red_df.to_csv(paths.data_processed_dir('train_red_processed.csv'), index=False, sep=',')\n",
    "test_red_df.to_csv(paths.data_processed_dir('test_red_processed.csv'), index=False, sep=',')"
   ]
  }
 ],
 "metadata": {
  "kernelspec": {
   "display_name": "Python 3",
   "language": "python",
   "name": "python3"
  },
  "language_info": {
   "codemirror_mode": {
    "name": "ipython",
    "version": 3
   },
   "file_extension": ".py",
   "mimetype": "text/x-python",
   "name": "python",
   "nbconvert_exporter": "python",
   "pygments_lexer": "ipython3",
   "version": "3.9.18"
  }
 },
 "nbformat": 4,
 "nbformat_minor": 2
}
