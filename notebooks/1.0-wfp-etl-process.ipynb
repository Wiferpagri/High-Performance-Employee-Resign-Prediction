{
 "cells": [
  {
   "cell_type": "markdown",
   "metadata": {},
   "source": [
    "# ETL Process to clean data before analysis"
   ]
  },
  {
   "cell_type": "markdown",
   "metadata": {},
   "source": [
    "## Preparing environment"
   ]
  },
  {
   "cell_type": "code",
   "execution_count": 348,
   "metadata": {},
   "outputs": [],
   "source": [
    "import pandas as pd"
   ]
  },
  {
   "cell_type": "code",
   "execution_count": 349,
   "metadata": {},
   "outputs": [],
   "source": [
    "import sys\n",
    "sys.path.append('../high_performance_employee_resign_prediction')\n",
    "from utils import paths"
   ]
  },
  {
   "cell_type": "markdown",
   "metadata": {},
   "source": [
    "## Data Dictionary\n",
    "\n",
    "* id_employee - Employee ID\n",
    "* id_last_boss - Boss ID\n",
    "* seniority - 1: For people who don't have anyone in charge, 2: For those who have people in charge\n",
    "* work_modality - Work modality specified on employee contract\n",
    "* office_distance -  Distance in kilometers from employee home to work.\n",
    "* low_health_days -  Number of days pf justified sick leave since employee started to work for the company.\n",
    "* gender - Employee gender\n",
    "* recruitment_channel - Indicates the means by which the application process took place. \n",
    "* average_permanence - Mean time in years that the employee has worked in previous laboral experience.\n",
    "* birth_date - Birth date in format dd/mm/yyyy.\n",
    "* salary - It is the amount corresponding to the monthly remuneration received.\n",
    "* psi_score - Is the score obtained in psychometric test during selection process.\n",
    "* join_date - Date when the employee started to work for the company.\n",
    "* marital_estatus - Marital Estatus.\n",
    "* performance_score - Is the score obtained by the employee it his last quarterly performance test if he had.\n",
    "* resign - \"0\" if employee continues working or \"1\" if employee left the company on his first 6 months."
   ]
  },
  {
   "cell_type": "markdown",
   "metadata": {},
   "source": [
    "## Extracting data"
   ]
  },
  {
   "cell_type": "code",
   "execution_count": 350,
   "metadata": {},
   "outputs": [
    {
     "name": "stderr",
     "output_type": "stream",
     "text": [
      "C:\\Users\\WILLIAM\\AppData\\Local\\Temp\\ipykernel_17532\\388407031.py:1: UserWarning: Parsing dates in %d/%m/%Y format when dayfirst=False (the default) was specified. Pass `dayfirst=True` or specify a format to silence this warning.\n",
      "  train_df = pd.read_csv(paths.data_raw_dir('train_data.csv'), parse_dates=['birth_date', 'join_date'], sep=';')\n",
      "C:\\Users\\WILLIAM\\AppData\\Local\\Temp\\ipykernel_17532\\388407031.py:1: UserWarning: Parsing dates in %d/%m/%Y format when dayfirst=False (the default) was specified. Pass `dayfirst=True` or specify a format to silence this warning.\n",
      "  train_df = pd.read_csv(paths.data_raw_dir('train_data.csv'), parse_dates=['birth_date', 'join_date'], sep=';')\n",
      "C:\\Users\\WILLIAM\\AppData\\Local\\Temp\\ipykernel_17532\\388407031.py:3: UserWarning: Parsing dates in %d/%m/%Y format when dayfirst=False (the default) was specified. Pass `dayfirst=True` or specify a format to silence this warning.\n",
      "  test_df = pd.read_csv(paths.data_raw_dir('test_data.csv'), parse_dates=['birth_date', 'join_date'], sep=';')\n",
      "C:\\Users\\WILLIAM\\AppData\\Local\\Temp\\ipykernel_17532\\388407031.py:3: UserWarning: Parsing dates in %d/%m/%Y format when dayfirst=False (the default) was specified. Pass `dayfirst=True` or specify a format to silence this warning.\n",
      "  test_df = pd.read_csv(paths.data_raw_dir('test_data.csv'), parse_dates=['birth_date', 'join_date'], sep=';')\n"
     ]
    }
   ],
   "source": [
    "train_df = pd.read_csv(paths.data_raw_dir('train_data.csv'), parse_dates=['birth_date', 'join_date'], sep=';')\n",
    "\n",
    "test_df = pd.read_csv(paths.data_raw_dir('test_data.csv'), parse_dates=['birth_date', 'join_date'], sep=';')"
   ]
  },
  {
   "cell_type": "markdown",
   "metadata": {},
   "source": [
    "## Checking data"
   ]
  },
  {
   "cell_type": "code",
   "execution_count": 351,
   "metadata": {},
   "outputs": [
    {
     "name": "stdout",
     "output_type": "stream",
     "text": [
      "<class 'pandas.core.frame.DataFrame'>\n",
      "RangeIndex: 2152 entries, 0 to 2151\n",
      "Data columns (total 16 columns):\n",
      " #   Column               Non-Null Count  Dtype         \n",
      "---  ------               --------------  -----         \n",
      " 0   id_employee          2152 non-null   int64         \n",
      " 1   id_last_boss         2061 non-null   float64       \n",
      " 2   seniority            2152 non-null   int64         \n",
      " 3   work_modality        2152 non-null   object        \n",
      " 4   office_distance      2152 non-null   float64       \n",
      " 5   low_health_days      2152 non-null   int64         \n",
      " 6   gender               2152 non-null   object        \n",
      " 7   recruitment_channel  2152 non-null   object        \n",
      " 8   average_permanence   2152 non-null   int64         \n",
      " 9   birth_date           2152 non-null   datetime64[ns]\n",
      " 10  salary               2152 non-null   int64         \n",
      " 11  performance_score    2084 non-null   float64       \n",
      " 12  psi_score            2152 non-null   int64         \n",
      " 13  join_date            2152 non-null   datetime64[ns]\n",
      " 14  marital_estatus      2152 non-null   object        \n",
      " 15  resign               2152 non-null   int64         \n",
      "dtypes: datetime64[ns](2), float64(3), int64(7), object(4)\n",
      "memory usage: 269.1+ KB\n"
     ]
    }
   ],
   "source": [
    "train_df.info()"
   ]
  },
  {
   "cell_type": "code",
   "execution_count": 352,
   "metadata": {},
   "outputs": [
    {
     "name": "stdout",
     "output_type": "stream",
     "text": [
      "<class 'pandas.core.frame.DataFrame'>\n",
      "RangeIndex: 2020 entries, 0 to 2019\n",
      "Data columns (total 15 columns):\n",
      " #   Column               Non-Null Count  Dtype         \n",
      "---  ------               --------------  -----         \n",
      " 0   id_employee          2020 non-null   int64         \n",
      " 1   id_last_boss         1937 non-null   float64       \n",
      " 2   seniority            2020 non-null   int64         \n",
      " 3   work_modality        2020 non-null   object        \n",
      " 4   office_distance      2020 non-null   float64       \n",
      " 5   low_health_days      2020 non-null   int64         \n",
      " 6   gender               2020 non-null   object        \n",
      " 7   recruitment_channel  2020 non-null   object        \n",
      " 8   average_permanence   2020 non-null   int64         \n",
      " 9   birth_date           2020 non-null   datetime64[ns]\n",
      " 10  salary               2020 non-null   int64         \n",
      " 11  performance_score    2020 non-null   int64         \n",
      " 12  psi_score            2020 non-null   int64         \n",
      " 13  join_date            2020 non-null   datetime64[ns]\n",
      " 14  marital_estatus      2020 non-null   object        \n",
      "dtypes: datetime64[ns](2), float64(2), int64(7), object(4)\n",
      "memory usage: 236.8+ KB\n"
     ]
    }
   ],
   "source": [
    "test_df.info()"
   ]
  },
  {
   "cell_type": "code",
   "execution_count": 353,
   "metadata": {},
   "outputs": [
    {
     "data": {
      "text/html": [
       "<div>\n",
       "<style scoped>\n",
       "    .dataframe tbody tr th:only-of-type {\n",
       "        vertical-align: middle;\n",
       "    }\n",
       "\n",
       "    .dataframe tbody tr th {\n",
       "        vertical-align: top;\n",
       "    }\n",
       "\n",
       "    .dataframe thead th {\n",
       "        text-align: right;\n",
       "    }\n",
       "</style>\n",
       "<table border=\"1\" class=\"dataframe\">\n",
       "  <thead>\n",
       "    <tr style=\"text-align: right;\">\n",
       "      <th></th>\n",
       "      <th>id_employee</th>\n",
       "      <th>id_last_boss</th>\n",
       "      <th>seniority</th>\n",
       "      <th>office_distance</th>\n",
       "      <th>low_health_days</th>\n",
       "      <th>average_permanence</th>\n",
       "      <th>birth_date</th>\n",
       "      <th>salary</th>\n",
       "      <th>performance_score</th>\n",
       "      <th>psi_score</th>\n",
       "      <th>join_date</th>\n",
       "      <th>resign</th>\n",
       "    </tr>\n",
       "  </thead>\n",
       "  <tbody>\n",
       "    <tr>\n",
       "      <th>count</th>\n",
       "      <td>2152.000000</td>\n",
       "      <td>2061.000000</td>\n",
       "      <td>2152.000000</td>\n",
       "      <td>2152.000000</td>\n",
       "      <td>2152.000000</td>\n",
       "      <td>2152.000000</td>\n",
       "      <td>2152</td>\n",
       "      <td>2.152000e+03</td>\n",
       "      <td>2084.000000</td>\n",
       "      <td>2152.000000</td>\n",
       "      <td>2152</td>\n",
       "      <td>2152.000000</td>\n",
       "    </tr>\n",
       "    <tr>\n",
       "      <th>mean</th>\n",
       "      <td>102070.160781</td>\n",
       "      <td>102090.326055</td>\n",
       "      <td>1.042286</td>\n",
       "      <td>3.111768</td>\n",
       "      <td>2.709108</td>\n",
       "      <td>6.644981</td>\n",
       "      <td>1982-08-05 21:32:07.137546432</td>\n",
       "      <td>4.570211e+05</td>\n",
       "      <td>63.472169</td>\n",
       "      <td>75.286245</td>\n",
       "      <td>2018-01-18 17:42:36.133828864</td>\n",
       "      <td>0.466078</td>\n",
       "    </tr>\n",
       "    <tr>\n",
       "      <th>min</th>\n",
       "      <td>100001.000000</td>\n",
       "      <td>102000.000000</td>\n",
       "      <td>1.000000</td>\n",
       "      <td>0.120000</td>\n",
       "      <td>0.000000</td>\n",
       "      <td>1.000000</td>\n",
       "      <td>1957-01-25 00:00:00</td>\n",
       "      <td>7.652100e+04</td>\n",
       "      <td>5.000000</td>\n",
       "      <td>58.000000</td>\n",
       "      <td>2012-01-04 00:00:00</td>\n",
       "      <td>0.000000</td>\n",
       "    </tr>\n",
       "    <tr>\n",
       "      <th>25%</th>\n",
       "      <td>101028.750000</td>\n",
       "      <td>102054.000000</td>\n",
       "      <td>1.000000</td>\n",
       "      <td>1.818750</td>\n",
       "      <td>1.000000</td>\n",
       "      <td>3.000000</td>\n",
       "      <td>1973-12-16 18:00:00</td>\n",
       "      <td>2.604398e+05</td>\n",
       "      <td>42.000000</td>\n",
       "      <td>71.000000</td>\n",
       "      <td>2014-12-28 12:00:00</td>\n",
       "      <td>0.000000</td>\n",
       "    </tr>\n",
       "    <tr>\n",
       "      <th>50%</th>\n",
       "      <td>102048.500000</td>\n",
       "      <td>102091.000000</td>\n",
       "      <td>1.000000</td>\n",
       "      <td>2.510000</td>\n",
       "      <td>2.000000</td>\n",
       "      <td>6.000000</td>\n",
       "      <td>1981-05-07 12:00:00</td>\n",
       "      <td>3.734225e+05</td>\n",
       "      <td>65.000000</td>\n",
       "      <td>75.000000</td>\n",
       "      <td>2018-02-18 00:00:00</td>\n",
       "      <td>0.000000</td>\n",
       "    </tr>\n",
       "    <tr>\n",
       "      <th>75%</th>\n",
       "      <td>103135.500000</td>\n",
       "      <td>102127.000000</td>\n",
       "      <td>1.000000</td>\n",
       "      <td>4.151250</td>\n",
       "      <td>3.000000</td>\n",
       "      <td>9.000000</td>\n",
       "      <td>1991-04-29 18:00:00</td>\n",
       "      <td>6.741930e+05</td>\n",
       "      <td>90.000000</td>\n",
       "      <td>79.000000</td>\n",
       "      <td>2021-02-23 00:00:00</td>\n",
       "      <td>1.000000</td>\n",
       "    </tr>\n",
       "    <tr>\n",
       "      <th>max</th>\n",
       "      <td>104171.000000</td>\n",
       "      <td>102172.000000</td>\n",
       "      <td>2.000000</td>\n",
       "      <td>21.050000</td>\n",
       "      <td>35.000000</td>\n",
       "      <td>25.000000</td>\n",
       "      <td>2003-02-19 00:00:00</td>\n",
       "      <td>1.900000e+06</td>\n",
       "      <td>99.000000</td>\n",
       "      <td>98.000000</td>\n",
       "      <td>2023-12-24 00:00:00</td>\n",
       "      <td>1.000000</td>\n",
       "    </tr>\n",
       "    <tr>\n",
       "      <th>std</th>\n",
       "      <td>1210.999342</td>\n",
       "      <td>43.586010</td>\n",
       "      <td>0.201288</td>\n",
       "      <td>1.789050</td>\n",
       "      <td>2.982975</td>\n",
       "      <td>4.283794</td>\n",
       "      <td>NaN</td>\n",
       "      <td>3.029435e+05</td>\n",
       "      <td>23.110594</td>\n",
       "      <td>6.050987</td>\n",
       "      <td>NaN</td>\n",
       "      <td>0.498964</td>\n",
       "    </tr>\n",
       "  </tbody>\n",
       "</table>\n",
       "</div>"
      ],
      "text/plain": [
       "         id_employee   id_last_boss    seniority  office_distance  \\\n",
       "count    2152.000000    2061.000000  2152.000000      2152.000000   \n",
       "mean   102070.160781  102090.326055     1.042286         3.111768   \n",
       "min    100001.000000  102000.000000     1.000000         0.120000   \n",
       "25%    101028.750000  102054.000000     1.000000         1.818750   \n",
       "50%    102048.500000  102091.000000     1.000000         2.510000   \n",
       "75%    103135.500000  102127.000000     1.000000         4.151250   \n",
       "max    104171.000000  102172.000000     2.000000        21.050000   \n",
       "std      1210.999342      43.586010     0.201288         1.789050   \n",
       "\n",
       "       low_health_days  average_permanence                     birth_date  \\\n",
       "count      2152.000000         2152.000000                           2152   \n",
       "mean          2.709108            6.644981  1982-08-05 21:32:07.137546432   \n",
       "min           0.000000            1.000000            1957-01-25 00:00:00   \n",
       "25%           1.000000            3.000000            1973-12-16 18:00:00   \n",
       "50%           2.000000            6.000000            1981-05-07 12:00:00   \n",
       "75%           3.000000            9.000000            1991-04-29 18:00:00   \n",
       "max          35.000000           25.000000            2003-02-19 00:00:00   \n",
       "std           2.982975            4.283794                            NaN   \n",
       "\n",
       "             salary  performance_score    psi_score  \\\n",
       "count  2.152000e+03        2084.000000  2152.000000   \n",
       "mean   4.570211e+05          63.472169    75.286245   \n",
       "min    7.652100e+04           5.000000    58.000000   \n",
       "25%    2.604398e+05          42.000000    71.000000   \n",
       "50%    3.734225e+05          65.000000    75.000000   \n",
       "75%    6.741930e+05          90.000000    79.000000   \n",
       "max    1.900000e+06          99.000000    98.000000   \n",
       "std    3.029435e+05          23.110594     6.050987   \n",
       "\n",
       "                           join_date       resign  \n",
       "count                           2152  2152.000000  \n",
       "mean   2018-01-18 17:42:36.133828864     0.466078  \n",
       "min              2012-01-04 00:00:00     0.000000  \n",
       "25%              2014-12-28 12:00:00     0.000000  \n",
       "50%              2018-02-18 00:00:00     0.000000  \n",
       "75%              2021-02-23 00:00:00     1.000000  \n",
       "max              2023-12-24 00:00:00     1.000000  \n",
       "std                              NaN     0.498964  "
      ]
     },
     "execution_count": 353,
     "metadata": {},
     "output_type": "execute_result"
    }
   ],
   "source": [
    "train_df.describe()"
   ]
  },
  {
   "cell_type": "code",
   "execution_count": 354,
   "metadata": {},
   "outputs": [
    {
     "data": {
      "text/html": [
       "<div>\n",
       "<style scoped>\n",
       "    .dataframe tbody tr th:only-of-type {\n",
       "        vertical-align: middle;\n",
       "    }\n",
       "\n",
       "    .dataframe tbody tr th {\n",
       "        vertical-align: top;\n",
       "    }\n",
       "\n",
       "    .dataframe thead th {\n",
       "        text-align: right;\n",
       "    }\n",
       "</style>\n",
       "<table border=\"1\" class=\"dataframe\">\n",
       "  <thead>\n",
       "    <tr style=\"text-align: right;\">\n",
       "      <th></th>\n",
       "      <th>id_employee</th>\n",
       "      <th>id_last_boss</th>\n",
       "      <th>seniority</th>\n",
       "      <th>office_distance</th>\n",
       "      <th>low_health_days</th>\n",
       "      <th>average_permanence</th>\n",
       "      <th>birth_date</th>\n",
       "      <th>salary</th>\n",
       "      <th>performance_score</th>\n",
       "      <th>psi_score</th>\n",
       "      <th>join_date</th>\n",
       "    </tr>\n",
       "  </thead>\n",
       "  <tbody>\n",
       "    <tr>\n",
       "      <th>count</th>\n",
       "      <td>2020.000000</td>\n",
       "      <td>1937.000000</td>\n",
       "      <td>2020.000000</td>\n",
       "      <td>2020.000000</td>\n",
       "      <td>2020.000000</td>\n",
       "      <td>2020.000000</td>\n",
       "      <td>2020</td>\n",
       "      <td>2.020000e+03</td>\n",
       "      <td>2020.000000</td>\n",
       "      <td>2020.00000</td>\n",
       "      <td>2020</td>\n",
       "    </tr>\n",
       "    <tr>\n",
       "      <th>mean</th>\n",
       "      <td>102103.807921</td>\n",
       "      <td>102089.646877</td>\n",
       "      <td>1.041089</td>\n",
       "      <td>3.059394</td>\n",
       "      <td>2.662376</td>\n",
       "      <td>6.713366</td>\n",
       "      <td>1982-04-05 03:26:43.960396032</td>\n",
       "      <td>4.638236e+05</td>\n",
       "      <td>89.146040</td>\n",
       "      <td>75.44505</td>\n",
       "      <td>2018-01-28 08:31:50.495049472</td>\n",
       "    </tr>\n",
       "    <tr>\n",
       "      <th>min</th>\n",
       "      <td>100000.000000</td>\n",
       "      <td>102000.000000</td>\n",
       "      <td>1.000000</td>\n",
       "      <td>0.110000</td>\n",
       "      <td>0.000000</td>\n",
       "      <td>1.000000</td>\n",
       "      <td>1956-08-16 00:00:00</td>\n",
       "      <td>7.551700e+04</td>\n",
       "      <td>80.000000</td>\n",
       "      <td>58.00000</td>\n",
       "      <td>2012-01-02 00:00:00</td>\n",
       "    </tr>\n",
       "    <tr>\n",
       "      <th>25%</th>\n",
       "      <td>101071.250000</td>\n",
       "      <td>102052.000000</td>\n",
       "      <td>1.000000</td>\n",
       "      <td>1.805000</td>\n",
       "      <td>1.000000</td>\n",
       "      <td>3.000000</td>\n",
       "      <td>1973-05-27 12:00:00</td>\n",
       "      <td>2.663110e+05</td>\n",
       "      <td>85.000000</td>\n",
       "      <td>71.00000</td>\n",
       "      <td>2014-12-14 00:00:00</td>\n",
       "    </tr>\n",
       "    <tr>\n",
       "      <th>50%</th>\n",
       "      <td>102117.500000</td>\n",
       "      <td>102089.000000</td>\n",
       "      <td>1.000000</td>\n",
       "      <td>2.542500</td>\n",
       "      <td>2.000000</td>\n",
       "      <td>6.000000</td>\n",
       "      <td>1981-03-23 00:00:00</td>\n",
       "      <td>3.747200e+05</td>\n",
       "      <td>90.000000</td>\n",
       "      <td>76.00000</td>\n",
       "      <td>2018-02-15 12:00:00</td>\n",
       "    </tr>\n",
       "    <tr>\n",
       "      <th>75%</th>\n",
       "      <td>103126.250000</td>\n",
       "      <td>102126.000000</td>\n",
       "      <td>1.000000</td>\n",
       "      <td>4.000000</td>\n",
       "      <td>3.000000</td>\n",
       "      <td>9.000000</td>\n",
       "      <td>1990-11-19 12:00:00</td>\n",
       "      <td>6.763075e+05</td>\n",
       "      <td>92.000000</td>\n",
       "      <td>79.00000</td>\n",
       "      <td>2021-03-25 06:00:00</td>\n",
       "    </tr>\n",
       "    <tr>\n",
       "      <th>max</th>\n",
       "      <td>104172.000000</td>\n",
       "      <td>102172.000000</td>\n",
       "      <td>2.000000</td>\n",
       "      <td>14.045000</td>\n",
       "      <td>23.000000</td>\n",
       "      <td>27.000000</td>\n",
       "      <td>2003-01-14 00:00:00</td>\n",
       "      <td>1.900000e+06</td>\n",
       "      <td>99.000000</td>\n",
       "      <td>98.00000</td>\n",
       "      <td>2023-12-24 00:00:00</td>\n",
       "    </tr>\n",
       "    <tr>\n",
       "      <th>std</th>\n",
       "      <td>1197.751058</td>\n",
       "      <td>43.691244</td>\n",
       "      <td>0.198545</td>\n",
       "      <td>1.637131</td>\n",
       "      <td>2.817351</td>\n",
       "      <td>4.307580</td>\n",
       "      <td>NaN</td>\n",
       "      <td>3.063601e+05</td>\n",
       "      <td>4.851837</td>\n",
       "      <td>6.00944</td>\n",
       "      <td>NaN</td>\n",
       "    </tr>\n",
       "  </tbody>\n",
       "</table>\n",
       "</div>"
      ],
      "text/plain": [
       "         id_employee   id_last_boss    seniority  office_distance  \\\n",
       "count    2020.000000    1937.000000  2020.000000      2020.000000   \n",
       "mean   102103.807921  102089.646877     1.041089         3.059394   \n",
       "min    100000.000000  102000.000000     1.000000         0.110000   \n",
       "25%    101071.250000  102052.000000     1.000000         1.805000   \n",
       "50%    102117.500000  102089.000000     1.000000         2.542500   \n",
       "75%    103126.250000  102126.000000     1.000000         4.000000   \n",
       "max    104172.000000  102172.000000     2.000000        14.045000   \n",
       "std      1197.751058      43.691244     0.198545         1.637131   \n",
       "\n",
       "       low_health_days  average_permanence                     birth_date  \\\n",
       "count      2020.000000         2020.000000                           2020   \n",
       "mean          2.662376            6.713366  1982-04-05 03:26:43.960396032   \n",
       "min           0.000000            1.000000            1956-08-16 00:00:00   \n",
       "25%           1.000000            3.000000            1973-05-27 12:00:00   \n",
       "50%           2.000000            6.000000            1981-03-23 00:00:00   \n",
       "75%           3.000000            9.000000            1990-11-19 12:00:00   \n",
       "max          23.000000           27.000000            2003-01-14 00:00:00   \n",
       "std           2.817351            4.307580                            NaN   \n",
       "\n",
       "             salary  performance_score   psi_score  \\\n",
       "count  2.020000e+03        2020.000000  2020.00000   \n",
       "mean   4.638236e+05          89.146040    75.44505   \n",
       "min    7.551700e+04          80.000000    58.00000   \n",
       "25%    2.663110e+05          85.000000    71.00000   \n",
       "50%    3.747200e+05          90.000000    76.00000   \n",
       "75%    6.763075e+05          92.000000    79.00000   \n",
       "max    1.900000e+06          99.000000    98.00000   \n",
       "std    3.063601e+05           4.851837     6.00944   \n",
       "\n",
       "                           join_date  \n",
       "count                           2020  \n",
       "mean   2018-01-28 08:31:50.495049472  \n",
       "min              2012-01-02 00:00:00  \n",
       "25%              2014-12-14 00:00:00  \n",
       "50%              2018-02-15 12:00:00  \n",
       "75%              2021-03-25 06:00:00  \n",
       "max              2023-12-24 00:00:00  \n",
       "std                              NaN  "
      ]
     },
     "execution_count": 354,
     "metadata": {},
     "output_type": "execute_result"
    }
   ],
   "source": [
    "test_df.describe()"
   ]
  },
  {
   "cell_type": "markdown",
   "metadata": {},
   "source": [
    "Observing the statistics summary, we can see that there are some outliers in `office_distance`, `low_health_days`, `average_permanence` and `salary` for both train and test data. They will be analyzed and actions will be taken during the EDA."
   ]
  },
  {
   "cell_type": "markdown",
   "metadata": {},
   "source": [
    "## Looking for typo errors in object data"
   ]
  },
  {
   "cell_type": "code",
   "execution_count": 355,
   "metadata": {},
   "outputs": [
    {
     "data": {
      "text/html": [
       "<div>\n",
       "<style scoped>\n",
       "    .dataframe tbody tr th:only-of-type {\n",
       "        vertical-align: middle;\n",
       "    }\n",
       "\n",
       "    .dataframe tbody tr th {\n",
       "        vertical-align: top;\n",
       "    }\n",
       "\n",
       "    .dataframe thead th {\n",
       "        text-align: right;\n",
       "    }\n",
       "</style>\n",
       "<table border=\"1\" class=\"dataframe\">\n",
       "  <thead>\n",
       "    <tr style=\"text-align: right;\">\n",
       "      <th></th>\n",
       "      <th>work_modality</th>\n",
       "      <th>gender</th>\n",
       "      <th>recruitment_channel</th>\n",
       "      <th>marital_estatus</th>\n",
       "    </tr>\n",
       "  </thead>\n",
       "  <tbody>\n",
       "    <tr>\n",
       "      <th>count</th>\n",
       "      <td>2152</td>\n",
       "      <td>2152</td>\n",
       "      <td>2152</td>\n",
       "      <td>2152</td>\n",
       "    </tr>\n",
       "    <tr>\n",
       "      <th>unique</th>\n",
       "      <td>2</td>\n",
       "      <td>2</td>\n",
       "      <td>5</td>\n",
       "      <td>4</td>\n",
       "    </tr>\n",
       "    <tr>\n",
       "      <th>top</th>\n",
       "      <td>Presencial</td>\n",
       "      <td>Hombre</td>\n",
       "      <td>Portal Web</td>\n",
       "      <td>Soltero</td>\n",
       "    </tr>\n",
       "    <tr>\n",
       "      <th>freq</th>\n",
       "      <td>1530</td>\n",
       "      <td>1095</td>\n",
       "      <td>986</td>\n",
       "      <td>925</td>\n",
       "    </tr>\n",
       "  </tbody>\n",
       "</table>\n",
       "</div>"
      ],
      "text/plain": [
       "       work_modality  gender recruitment_channel marital_estatus\n",
       "count           2152    2152                2152            2152\n",
       "unique             2       2                   5               4\n",
       "top       Presencial  Hombre          Portal Web         Soltero\n",
       "freq            1530    1095                 986             925"
      ]
     },
     "execution_count": 355,
     "metadata": {},
     "output_type": "execute_result"
    }
   ],
   "source": [
    "train_df.describe(include='object')"
   ]
  },
  {
   "cell_type": "code",
   "execution_count": 356,
   "metadata": {},
   "outputs": [
    {
     "data": {
      "text/html": [
       "<div>\n",
       "<style scoped>\n",
       "    .dataframe tbody tr th:only-of-type {\n",
       "        vertical-align: middle;\n",
       "    }\n",
       "\n",
       "    .dataframe tbody tr th {\n",
       "        vertical-align: top;\n",
       "    }\n",
       "\n",
       "    .dataframe thead th {\n",
       "        text-align: right;\n",
       "    }\n",
       "</style>\n",
       "<table border=\"1\" class=\"dataframe\">\n",
       "  <thead>\n",
       "    <tr style=\"text-align: right;\">\n",
       "      <th></th>\n",
       "      <th>work_modality</th>\n",
       "      <th>gender</th>\n",
       "      <th>recruitment_channel</th>\n",
       "      <th>marital_estatus</th>\n",
       "    </tr>\n",
       "  </thead>\n",
       "  <tbody>\n",
       "    <tr>\n",
       "      <th>count</th>\n",
       "      <td>2020</td>\n",
       "      <td>2020</td>\n",
       "      <td>2020</td>\n",
       "      <td>2020</td>\n",
       "    </tr>\n",
       "    <tr>\n",
       "      <th>unique</th>\n",
       "      <td>2</td>\n",
       "      <td>2</td>\n",
       "      <td>5</td>\n",
       "      <td>4</td>\n",
       "    </tr>\n",
       "    <tr>\n",
       "      <th>top</th>\n",
       "      <td>Presencial</td>\n",
       "      <td>Mujer</td>\n",
       "      <td>Portal Web</td>\n",
       "      <td>Soltero</td>\n",
       "    </tr>\n",
       "    <tr>\n",
       "      <th>freq</th>\n",
       "      <td>1408</td>\n",
       "      <td>1037</td>\n",
       "      <td>869</td>\n",
       "      <td>800</td>\n",
       "    </tr>\n",
       "  </tbody>\n",
       "</table>\n",
       "</div>"
      ],
      "text/plain": [
       "       work_modality gender recruitment_channel marital_estatus\n",
       "count           2020   2020                2020            2020\n",
       "unique             2      2                   5               4\n",
       "top       Presencial  Mujer          Portal Web         Soltero\n",
       "freq            1408   1037                 869             800"
      ]
     },
     "execution_count": 356,
     "metadata": {},
     "output_type": "execute_result"
    }
   ],
   "source": [
    "test_df.describe(include='object')"
   ]
  },
  {
   "cell_type": "code",
   "execution_count": 357,
   "metadata": {},
   "outputs": [
    {
     "name": "stdout",
     "output_type": "stream",
     "text": [
      "['Híbrida' 'Presencial']\n",
      "['Híbrida' 'Presencial']\n"
     ]
    }
   ],
   "source": [
    "# Checking work_modality categories\n",
    "\n",
    "print(train_df.work_modality.unique())\n",
    "print(test_df.work_modality.unique())"
   ]
  },
  {
   "cell_type": "code",
   "execution_count": 358,
   "metadata": {},
   "outputs": [
    {
     "name": "stdout",
     "output_type": "stream",
     "text": [
      "['Ferias & Networking' 'Referidos' 'Linkedin' 'Portal Web' 'Headhunter']\n",
      "['Ferias & Networking' 'Portal Web' 'Linkedin' 'Referidos' 'Headhunter']\n"
     ]
    }
   ],
   "source": [
    "# Checking recruitment_channel categories\n",
    "\n",
    "print(train_df.recruitment_channel.unique())\n",
    "print(test_df.recruitment_channel.unique())"
   ]
  },
  {
   "cell_type": "code",
   "execution_count": 359,
   "metadata": {},
   "outputs": [
    {
     "name": "stdout",
     "output_type": "stream",
     "text": [
      "['Soltero' 'Viudo' 'Divorciado' 'Casado']\n",
      "['Soltero' 'Casado' 'Viudo' 'Divorciado']\n"
     ]
    }
   ],
   "source": [
    "# Checking marital_estatus categories\n",
    "\n",
    "print(train_df.marital_estatus.unique())\n",
    "print(test_df.marital_estatus.unique())"
   ]
  },
  {
   "cell_type": "markdown",
   "metadata": {},
   "source": [
    "From the data dictionary we can see that `seniority` and `id_last_boss` are categories too. However, id_ultimo_jefe has many categories, so it will be analyzed during the hypothesis testing phase."
   ]
  },
  {
   "cell_type": "code",
   "execution_count": 360,
   "metadata": {},
   "outputs": [],
   "source": [
    "cat_cols = ['work_modality', 'gender', 'recruitment_channel', 'marital_estatus', 'seniority']\n",
    "\n",
    "# Defining a function to check categories proportion\n",
    "\n",
    "def check_categories_proportion(df, col):\n",
    "    \n",
    "    \"\"\"\n",
    "    Calculate and print the proportion of each category in a specified column of a DataFrame.\n",
    "\n",
    "    This function takes a pandas DataFrame and a column name, calculates the proportion \n",
    "    (as a percentage) of each unique value (category) in the specified column, and prints \n",
    "    the resulting proportions.\n",
    "\n",
    "    Parameters:\n",
    "    df (pandas.DataFrame): The DataFrame containing the data.\n",
    "    col (str): The name of the column for which to calculate category proportions.\n",
    "\n",
    "    Returns:\n",
    "    None: This function prints the category proportions and does not return any value.\n",
    "\n",
    "    Example:\n",
    "    >>> import pandas as pd\n",
    "    >>> data = {'category': ['A', 'B', 'A', 'C', 'B', 'A']}\n",
    "    >>> df = pd.DataFrame(data)\n",
    "    >>> check_categories_proportion(df, 'category')\n",
    "    A    50.0\n",
    "    B    33.3\n",
    "    C    16.7\n",
    "    Name: category, dtype: float64\n",
    "    \"\"\"\n",
    "    \n",
    "    proportion = df[col].value_counts(normalize=True) * 100\n",
    "    print(proportion)"
   ]
  },
  {
   "cell_type": "code",
   "execution_count": 361,
   "metadata": {},
   "outputs": [
    {
     "name": "stdout",
     "output_type": "stream",
     "text": [
      "work_modality\n",
      "Presencial    71.096654\n",
      "Híbrida       28.903346\n",
      "Name: proportion, dtype: float64\n",
      "----------------------------------------\n",
      "gender\n",
      "Hombre    50.8829\n",
      "Mujer     49.1171\n",
      "Name: proportion, dtype: float64\n",
      "----------------------------------------\n",
      "recruitment_channel\n",
      "Portal Web             45.817844\n",
      "Linkedin               22.676580\n",
      "Referidos              15.706320\n",
      "Ferias & Networking    14.312268\n",
      "Headhunter              1.486989\n",
      "Name: proportion, dtype: float64\n",
      "----------------------------------------\n",
      "marital_estatus\n",
      "Soltero       42.983271\n",
      "Casado        38.708178\n",
      "Divorciado    10.315985\n",
      "Viudo          7.992565\n",
      "Name: proportion, dtype: float64\n",
      "----------------------------------------\n",
      "seniority\n",
      "1    95.771375\n",
      "2     4.228625\n",
      "Name: proportion, dtype: float64\n",
      "----------------------------------------\n"
     ]
    }
   ],
   "source": [
    "for col in cat_cols:\n",
    "    check_categories_proportion(train_df, col)\n",
    "    print('-'*40)"
   ]
  },
  {
   "cell_type": "code",
   "execution_count": 362,
   "metadata": {},
   "outputs": [
    {
     "name": "stdout",
     "output_type": "stream",
     "text": [
      "work_modality\n",
      "Presencial    69.70297\n",
      "Híbrida       30.29703\n",
      "Name: proportion, dtype: float64\n",
      "----------------------------------------\n",
      "gender\n",
      "Mujer     51.336634\n",
      "Hombre    48.663366\n",
      "Name: proportion, dtype: float64\n",
      "----------------------------------------\n",
      "recruitment_channel\n",
      "Portal Web             43.019802\n",
      "Linkedin               25.247525\n",
      "Referidos              16.336634\n",
      "Ferias & Networking    14.059406\n",
      "Headhunter              1.336634\n",
      "Name: proportion, dtype: float64\n",
      "----------------------------------------\n",
      "marital_estatus\n",
      "Soltero       39.603960\n",
      "Casado        38.514851\n",
      "Divorciado    12.425743\n",
      "Viudo          9.455446\n",
      "Name: proportion, dtype: float64\n",
      "----------------------------------------\n",
      "seniority\n",
      "1    95.891089\n",
      "2     4.108911\n",
      "Name: proportion, dtype: float64\n",
      "----------------------------------------\n"
     ]
    }
   ],
   "source": [
    "for col in cat_cols:\n",
    "    check_categories_proportion(test_df, col)\n",
    "    print('-'*40)"
   ]
  },
  {
   "cell_type": "markdown",
   "metadata": {},
   "source": [
    "Categories proportion in both train and test data are similar."
   ]
  },
  {
   "cell_type": "markdown",
   "metadata": {},
   "source": [
    "## Extracting info from date columns"
   ]
  },
  {
   "cell_type": "code",
   "execution_count": 363,
   "metadata": {},
   "outputs": [],
   "source": [
    "# Calculating age of join\n",
    "\n",
    "train_df['join_age'] = (train_df['join_date'] - train_df['birth_date']).dt.days // 365\n",
    "\n",
    "test_df['join_age'] = (test_df['join_date'] - test_df['birth_date']).dt.days // 365"
   ]
  },
  {
   "cell_type": "code",
   "execution_count": 364,
   "metadata": {},
   "outputs": [],
   "source": [
    "# Obtaining season info\n",
    "\n",
    "train_df['join_year'] = train_df['join_date'].dt.year\n",
    "train_df['join_month'] = train_df['join_date'].dt.month\n",
    "\n",
    "test_df['join_year'] = test_df['join_date'].dt.year\n",
    "test_df['join_month'] = test_df['join_date'].dt.month"
   ]
  },
  {
   "cell_type": "code",
   "execution_count": 365,
   "metadata": {},
   "outputs": [
    {
     "name": "stdout",
     "output_type": "stream",
     "text": [
      "<class 'pandas.core.frame.DataFrame'>\n",
      "RangeIndex: 2152 entries, 0 to 2151\n",
      "Data columns (total 19 columns):\n",
      " #   Column               Non-Null Count  Dtype         \n",
      "---  ------               --------------  -----         \n",
      " 0   id_employee          2152 non-null   int64         \n",
      " 1   id_last_boss         2061 non-null   float64       \n",
      " 2   seniority            2152 non-null   int64         \n",
      " 3   work_modality        2152 non-null   object        \n",
      " 4   office_distance      2152 non-null   float64       \n",
      " 5   low_health_days      2152 non-null   int64         \n",
      " 6   gender               2152 non-null   object        \n",
      " 7   recruitment_channel  2152 non-null   object        \n",
      " 8   average_permanence   2152 non-null   int64         \n",
      " 9   birth_date           2152 non-null   datetime64[ns]\n",
      " 10  salary               2152 non-null   int64         \n",
      " 11  performance_score    2084 non-null   float64       \n",
      " 12  psi_score            2152 non-null   int64         \n",
      " 13  join_date            2152 non-null   datetime64[ns]\n",
      " 14  marital_estatus      2152 non-null   object        \n",
      " 15  resign               2152 non-null   int64         \n",
      " 16  join_age             2152 non-null   int64         \n",
      " 17  join_year            2152 non-null   int32         \n",
      " 18  join_month           2152 non-null   int32         \n",
      "dtypes: datetime64[ns](2), float64(3), int32(2), int64(8), object(4)\n",
      "memory usage: 302.8+ KB\n"
     ]
    }
   ],
   "source": [
    "train_df.info()"
   ]
  },
  {
   "cell_type": "code",
   "execution_count": 366,
   "metadata": {},
   "outputs": [
    {
     "name": "stdout",
     "output_type": "stream",
     "text": [
      "<class 'pandas.core.frame.DataFrame'>\n",
      "RangeIndex: 2020 entries, 0 to 2019\n",
      "Data columns (total 18 columns):\n",
      " #   Column               Non-Null Count  Dtype         \n",
      "---  ------               --------------  -----         \n",
      " 0   id_employee          2020 non-null   int64         \n",
      " 1   id_last_boss         1937 non-null   float64       \n",
      " 2   seniority            2020 non-null   int64         \n",
      " 3   work_modality        2020 non-null   object        \n",
      " 4   office_distance      2020 non-null   float64       \n",
      " 5   low_health_days      2020 non-null   int64         \n",
      " 6   gender               2020 non-null   object        \n",
      " 7   recruitment_channel  2020 non-null   object        \n",
      " 8   average_permanence   2020 non-null   int64         \n",
      " 9   birth_date           2020 non-null   datetime64[ns]\n",
      " 10  salary               2020 non-null   int64         \n",
      " 11  performance_score    2020 non-null   int64         \n",
      " 12  psi_score            2020 non-null   int64         \n",
      " 13  join_date            2020 non-null   datetime64[ns]\n",
      " 14  marital_estatus      2020 non-null   object        \n",
      " 15  join_age             2020 non-null   int64         \n",
      " 16  join_year            2020 non-null   int32         \n",
      " 17  join_month           2020 non-null   int32         \n",
      "dtypes: datetime64[ns](2), float64(2), int32(2), int64(8), object(4)\n",
      "memory usage: 268.4+ KB\n"
     ]
    }
   ],
   "source": [
    "test_df.info()"
   ]
  },
  {
   "cell_type": "markdown",
   "metadata": {},
   "source": [
    "## Missing values treatment"
   ]
  },
  {
   "cell_type": "markdown",
   "metadata": {},
   "source": [
    "From context of the business, is well known that people with performance_score greater than or equal to 80 is considered people with high perfomance, and everyone else is considered low performance. There are some missing values in this column on train data, and observing the statistics summary, most of the employees from the train data are low performance, while all the employees in the test data are high performance; this lead us to impute those missing values with 80, in order to help the people to generalize better the high performance employees. Additionally, performance categorical column will be added with 'high' for employees with performance score greater or equal to 80 and 'low' for everyone else."
   ]
  },
  {
   "cell_type": "code",
   "execution_count": 367,
   "metadata": {},
   "outputs": [],
   "source": [
    "train_df['performance_score'] = train_df['performance_score'].fillna(80)"
   ]
  },
  {
   "cell_type": "markdown",
   "metadata": {},
   "source": [
    "Since id_ultimo_jefe is a categorical column, we can't impute it. So we gonna fill missing values with bfill method."
   ]
  },
  {
   "cell_type": "code",
   "execution_count": 368,
   "metadata": {},
   "outputs": [
    {
     "name": "stderr",
     "output_type": "stream",
     "text": [
      "C:\\Users\\WILLIAM\\AppData\\Local\\Temp\\ipykernel_17532\\2512515177.py:1: FutureWarning: Series.fillna with 'method' is deprecated and will raise in a future version. Use obj.ffill() or obj.bfill() instead.\n",
      "  train_df['id_last_boss'] = train_df['id_last_boss'].fillna(method='bfill')\n",
      "C:\\Users\\WILLIAM\\AppData\\Local\\Temp\\ipykernel_17532\\2512515177.py:3: FutureWarning: Series.fillna with 'method' is deprecated and will raise in a future version. Use obj.ffill() or obj.bfill() instead.\n",
      "  test_df['id_last_boss'] = test_df['id_last_boss'].fillna(method='bfill')\n"
     ]
    }
   ],
   "source": [
    "train_df['id_last_boss'] = train_df['id_last_boss'].fillna(method='bfill')\n",
    "\n",
    "test_df['id_last_boss'] = test_df['id_last_boss'].fillna(method='bfill')"
   ]
  },
  {
   "cell_type": "markdown",
   "metadata": {},
   "source": [
    "## Changing id_last_boss dtype"
   ]
  },
  {
   "cell_type": "code",
   "execution_count": 369,
   "metadata": {},
   "outputs": [],
   "source": [
    "train_df['id_last_boss'] = train_df['id_last_boss'].astype(int)\n",
    "\n",
    "test_df['id_last_boss'] = test_df['id_last_boss'].astype(int)"
   ]
  },
  {
   "cell_type": "code",
   "execution_count": 370,
   "metadata": {},
   "outputs": [
    {
     "name": "stdout",
     "output_type": "stream",
     "text": [
      "<class 'pandas.core.frame.DataFrame'>\n",
      "RangeIndex: 2152 entries, 0 to 2151\n",
      "Data columns (total 19 columns):\n",
      " #   Column               Non-Null Count  Dtype         \n",
      "---  ------               --------------  -----         \n",
      " 0   id_employee          2152 non-null   int64         \n",
      " 1   id_last_boss         2152 non-null   int32         \n",
      " 2   seniority            2152 non-null   int64         \n",
      " 3   work_modality        2152 non-null   object        \n",
      " 4   office_distance      2152 non-null   float64       \n",
      " 5   low_health_days      2152 non-null   int64         \n",
      " 6   gender               2152 non-null   object        \n",
      " 7   recruitment_channel  2152 non-null   object        \n",
      " 8   average_permanence   2152 non-null   int64         \n",
      " 9   birth_date           2152 non-null   datetime64[ns]\n",
      " 10  salary               2152 non-null   int64         \n",
      " 11  performance_score    2152 non-null   float64       \n",
      " 12  psi_score            2152 non-null   int64         \n",
      " 13  join_date            2152 non-null   datetime64[ns]\n",
      " 14  marital_estatus      2152 non-null   object        \n",
      " 15  resign               2152 non-null   int64         \n",
      " 16  join_age             2152 non-null   int64         \n",
      " 17  join_year            2152 non-null   int32         \n",
      " 18  join_month           2152 non-null   int32         \n",
      "dtypes: datetime64[ns](2), float64(2), int32(3), int64(8), object(4)\n",
      "memory usage: 294.3+ KB\n"
     ]
    }
   ],
   "source": [
    "train_df.info()"
   ]
  },
  {
   "cell_type": "code",
   "execution_count": 371,
   "metadata": {},
   "outputs": [
    {
     "name": "stdout",
     "output_type": "stream",
     "text": [
      "<class 'pandas.core.frame.DataFrame'>\n",
      "RangeIndex: 2020 entries, 0 to 2019\n",
      "Data columns (total 18 columns):\n",
      " #   Column               Non-Null Count  Dtype         \n",
      "---  ------               --------------  -----         \n",
      " 0   id_employee          2020 non-null   int64         \n",
      " 1   id_last_boss         2020 non-null   int32         \n",
      " 2   seniority            2020 non-null   int64         \n",
      " 3   work_modality        2020 non-null   object        \n",
      " 4   office_distance      2020 non-null   float64       \n",
      " 5   low_health_days      2020 non-null   int64         \n",
      " 6   gender               2020 non-null   object        \n",
      " 7   recruitment_channel  2020 non-null   object        \n",
      " 8   average_permanence   2020 non-null   int64         \n",
      " 9   birth_date           2020 non-null   datetime64[ns]\n",
      " 10  salary               2020 non-null   int64         \n",
      " 11  performance_score    2020 non-null   int64         \n",
      " 12  psi_score            2020 non-null   int64         \n",
      " 13  join_date            2020 non-null   datetime64[ns]\n",
      " 14  marital_estatus      2020 non-null   object        \n",
      " 15  join_age             2020 non-null   int64         \n",
      " 16  join_year            2020 non-null   int32         \n",
      " 17  join_month           2020 non-null   int32         \n",
      "dtypes: datetime64[ns](2), float64(1), int32(3), int64(8), object(4)\n",
      "memory usage: 260.5+ KB\n"
     ]
    }
   ],
   "source": [
    "test_df.info()"
   ]
  },
  {
   "cell_type": "markdown",
   "metadata": {},
   "source": [
    "## Adding performance column"
   ]
  },
  {
   "cell_type": "code",
   "execution_count": 372,
   "metadata": {},
   "outputs": [],
   "source": [
    "train_df['performance'] = ['high' if score >= 80 else 'low' for score in train_df['performance_score']]\n",
    "test_df['performance'] = ['high' if score >= 80 else 'low' for score in test_df['performance_score']]"
   ]
  },
  {
   "cell_type": "markdown",
   "metadata": {},
   "source": [
    "## Joining dataframes to create new features"
   ]
  },
  {
   "cell_type": "markdown",
   "metadata": {},
   "source": [
    "Boss id are also present in employee id, so we can use this information to create new features that can help to improve the results"
   ]
  },
  {
   "cell_type": "code",
   "execution_count": 373,
   "metadata": {},
   "outputs": [],
   "source": [
    "y = train_df['resign']\n",
    "\n",
    "concat_df = pd.concat([train_df.drop(columns='resign'), test_df], axis=0).reset_index(drop=True)"
   ]
  },
  {
   "cell_type": "code",
   "execution_count": 374,
   "metadata": {},
   "outputs": [],
   "source": [
    "expanded_df = pd.merge(concat_df, concat_df, how='left',\n",
    "                             left_on='id_last_boss', right_on='id_employee',\n",
    "                             suffixes=('_employee', '_boss'))"
   ]
  },
  {
   "cell_type": "code",
   "execution_count": 375,
   "metadata": {},
   "outputs": [
    {
     "name": "stdout",
     "output_type": "stream",
     "text": [
      "<class 'pandas.core.frame.DataFrame'>\n",
      "RangeIndex: 4172 entries, 0 to 4171\n",
      "Data columns (total 38 columns):\n",
      " #   Column                        Non-Null Count  Dtype         \n",
      "---  ------                        --------------  -----         \n",
      " 0   id_employee_employee          4172 non-null   int64         \n",
      " 1   id_last_boss_employee         4172 non-null   int32         \n",
      " 2   seniority_employee            4172 non-null   int64         \n",
      " 3   work_modality_employee        4172 non-null   object        \n",
      " 4   office_distance_employee      4172 non-null   float64       \n",
      " 5   low_health_days_employee      4172 non-null   int64         \n",
      " 6   gender_employee               4172 non-null   object        \n",
      " 7   recruitment_channel_employee  4172 non-null   object        \n",
      " 8   average_permanence_employee   4172 non-null   int64         \n",
      " 9   birth_date_employee           4172 non-null   datetime64[ns]\n",
      " 10  salary_employee               4172 non-null   int64         \n",
      " 11  performance_score_employee    4172 non-null   float64       \n",
      " 12  psi_score_employee            4172 non-null   int64         \n",
      " 13  join_date_employee            4172 non-null   datetime64[ns]\n",
      " 14  marital_estatus_employee      4172 non-null   object        \n",
      " 15  join_age_employee             4172 non-null   int64         \n",
      " 16  join_year_employee            4172 non-null   int32         \n",
      " 17  join_month_employee           4172 non-null   int32         \n",
      " 18  performance_employee          4172 non-null   object        \n",
      " 19  id_employee_boss              4172 non-null   int64         \n",
      " 20  id_last_boss_boss             4172 non-null   int32         \n",
      " 21  seniority_boss                4172 non-null   int64         \n",
      " 22  work_modality_boss            4172 non-null   object        \n",
      " 23  office_distance_boss          4172 non-null   float64       \n",
      " 24  low_health_days_boss          4172 non-null   int64         \n",
      " 25  gender_boss                   4172 non-null   object        \n",
      " 26  recruitment_channel_boss      4172 non-null   object        \n",
      " 27  average_permanence_boss       4172 non-null   int64         \n",
      " 28  birth_date_boss               4172 non-null   datetime64[ns]\n",
      " 29  salary_boss                   4172 non-null   int64         \n",
      " 30  performance_score_boss        4172 non-null   float64       \n",
      " 31  psi_score_boss                4172 non-null   int64         \n",
      " 32  join_date_boss                4172 non-null   datetime64[ns]\n",
      " 33  marital_estatus_boss          4172 non-null   object        \n",
      " 34  join_age_boss                 4172 non-null   int64         \n",
      " 35  join_year_boss                4172 non-null   int32         \n",
      " 36  join_month_boss               4172 non-null   int32         \n",
      " 37  performance_boss              4172 non-null   object        \n",
      "dtypes: datetime64[ns](4), float64(4), int32(6), int64(14), object(10)\n",
      "memory usage: 1.1+ MB\n"
     ]
    }
   ],
   "source": [
    "expanded_df.info()"
   ]
  },
  {
   "cell_type": "code",
   "execution_count": 384,
   "metadata": {},
   "outputs": [],
   "source": [
    "# Dropping unnecessary features\n",
    "\n",
    "expanded_df.drop(columns=['id_employee_boss', # Is the same as id_last_boss_employee\n",
    "                          'seniority_boss', # It's 2 for all bosses\n",
    "                          'birth_date_employee', # Age is already calculated\n",
    "                          'birth_date_boss', # Age is already calculated\n",
    "                          ], inplace=True)"
   ]
  },
  {
   "cell_type": "markdown",
   "metadata": {},
   "source": [
    "## Creating new features"
   ]
  },
  {
   "cell_type": "markdown",
   "metadata": {},
   "source": [
    "These new features allow us to make new features such as differences in numerical columns, determine if a employee joined after or before a boss and joined, etc"
   ]
  },
  {
   "cell_type": "code",
   "execution_count": 385,
   "metadata": {},
   "outputs": [],
   "source": [
    "# Creating difference columns\n",
    "\n",
    "expanded_df['office_distance_diff'] = expanded_df['office_distance_boss'] - expanded_df['office_distance_employee']\n",
    "expanded_df['low_health_days_diff'] = expanded_df['low_health_days_boss'] - expanded_df['low_health_days_employee']\n",
    "expanded_df['average_permanence_diff'] = expanded_df['average_permanence_boss'] - expanded_df['average_permanence_employee']\n",
    "expanded_df['salary_diff'] = expanded_df['salary_boss'] - expanded_df['salary_employee']\n",
    "expanded_df['join_days_diff'] = (expanded_df['join_date_boss'] - expanded_df['join_date_employee']).dt.days\n",
    "expanded_df['joined_after_boss'] = [0 if value > 0 else 1 for value in expanded_df['join_days_diff']]\n",
    "expanded_df['age_diff'] = expanded_df['join_age_boss'] - expanded_df['join_age_employee']"
   ]
  },
  {
   "cell_type": "code",
   "execution_count": 395,
   "metadata": {},
   "outputs": [],
   "source": [
    "# Dropping join_date columns\n",
    "\n",
    "expanded_df.drop(columns=['join_date_employee', 'join_date_boss'], inplace=True)"
   ]
  },
  {
   "cell_type": "code",
   "execution_count": 396,
   "metadata": {},
   "outputs": [],
   "source": [
    "# Separating train and test df\n",
    "\n",
    "train_final = pd.concat([expanded_df.loc[:2151, :], y], axis=1)\n",
    "test_final = expanded_df.loc[2152:, :].reset_index(drop=True)"
   ]
  },
  {
   "cell_type": "code",
   "execution_count": 397,
   "metadata": {},
   "outputs": [
    {
     "name": "stdout",
     "output_type": "stream",
     "text": [
      "<class 'pandas.core.frame.DataFrame'>\n",
      "RangeIndex: 2152 entries, 0 to 2151\n",
      "Data columns (total 40 columns):\n",
      " #   Column                        Non-Null Count  Dtype  \n",
      "---  ------                        --------------  -----  \n",
      " 0   id_employee_employee          2152 non-null   int64  \n",
      " 1   id_last_boss_employee         2152 non-null   int32  \n",
      " 2   seniority_employee            2152 non-null   int64  \n",
      " 3   work_modality_employee        2152 non-null   object \n",
      " 4   office_distance_employee      2152 non-null   float64\n",
      " 5   low_health_days_employee      2152 non-null   int64  \n",
      " 6   gender_employee               2152 non-null   object \n",
      " 7   recruitment_channel_employee  2152 non-null   object \n",
      " 8   average_permanence_employee   2152 non-null   int64  \n",
      " 9   salary_employee               2152 non-null   int64  \n",
      " 10  performance_score_employee    2152 non-null   float64\n",
      " 11  psi_score_employee            2152 non-null   int64  \n",
      " 12  marital_estatus_employee      2152 non-null   object \n",
      " 13  join_age_employee             2152 non-null   int64  \n",
      " 14  join_year_employee            2152 non-null   int32  \n",
      " 15  join_month_employee           2152 non-null   int32  \n",
      " 16  performance_employee          2152 non-null   object \n",
      " 17  id_last_boss_boss             2152 non-null   int32  \n",
      " 18  work_modality_boss            2152 non-null   object \n",
      " 19  office_distance_boss          2152 non-null   float64\n",
      " 20  low_health_days_boss          2152 non-null   int64  \n",
      " 21  gender_boss                   2152 non-null   object \n",
      " 22  recruitment_channel_boss      2152 non-null   object \n",
      " 23  average_permanence_boss       2152 non-null   int64  \n",
      " 24  salary_boss                   2152 non-null   int64  \n",
      " 25  performance_score_boss        2152 non-null   float64\n",
      " 26  psi_score_boss                2152 non-null   int64  \n",
      " 27  marital_estatus_boss          2152 non-null   object \n",
      " 28  join_age_boss                 2152 non-null   int64  \n",
      " 29  join_year_boss                2152 non-null   int32  \n",
      " 30  join_month_boss               2152 non-null   int32  \n",
      " 31  performance_boss              2152 non-null   object \n",
      " 32  office_distance_diff          2152 non-null   float64\n",
      " 33  low_health_days_diff          2152 non-null   int64  \n",
      " 34  average_permanence_diff       2152 non-null   int64  \n",
      " 35  salary_diff                   2152 non-null   int64  \n",
      " 36  join_days_diff                2152 non-null   int64  \n",
      " 37  joined_after_boss             2152 non-null   int64  \n",
      " 38  age_diff                      2152 non-null   int64  \n",
      " 39  resign                        2152 non-null   int64  \n",
      "dtypes: float64(5), int32(6), int64(19), object(10)\n",
      "memory usage: 622.2+ KB\n"
     ]
    }
   ],
   "source": [
    "train_final.info()"
   ]
  },
  {
   "cell_type": "code",
   "execution_count": 398,
   "metadata": {},
   "outputs": [
    {
     "name": "stdout",
     "output_type": "stream",
     "text": [
      "<class 'pandas.core.frame.DataFrame'>\n",
      "RangeIndex: 2020 entries, 0 to 2019\n",
      "Data columns (total 39 columns):\n",
      " #   Column                        Non-Null Count  Dtype  \n",
      "---  ------                        --------------  -----  \n",
      " 0   id_employee_employee          2020 non-null   int64  \n",
      " 1   id_last_boss_employee         2020 non-null   int32  \n",
      " 2   seniority_employee            2020 non-null   int64  \n",
      " 3   work_modality_employee        2020 non-null   object \n",
      " 4   office_distance_employee      2020 non-null   float64\n",
      " 5   low_health_days_employee      2020 non-null   int64  \n",
      " 6   gender_employee               2020 non-null   object \n",
      " 7   recruitment_channel_employee  2020 non-null   object \n",
      " 8   average_permanence_employee   2020 non-null   int64  \n",
      " 9   salary_employee               2020 non-null   int64  \n",
      " 10  performance_score_employee    2020 non-null   float64\n",
      " 11  psi_score_employee            2020 non-null   int64  \n",
      " 12  marital_estatus_employee      2020 non-null   object \n",
      " 13  join_age_employee             2020 non-null   int64  \n",
      " 14  join_year_employee            2020 non-null   int32  \n",
      " 15  join_month_employee           2020 non-null   int32  \n",
      " 16  performance_employee          2020 non-null   object \n",
      " 17  id_last_boss_boss             2020 non-null   int32  \n",
      " 18  work_modality_boss            2020 non-null   object \n",
      " 19  office_distance_boss          2020 non-null   float64\n",
      " 20  low_health_days_boss          2020 non-null   int64  \n",
      " 21  gender_boss                   2020 non-null   object \n",
      " 22  recruitment_channel_boss      2020 non-null   object \n",
      " 23  average_permanence_boss       2020 non-null   int64  \n",
      " 24  salary_boss                   2020 non-null   int64  \n",
      " 25  performance_score_boss        2020 non-null   float64\n",
      " 26  psi_score_boss                2020 non-null   int64  \n",
      " 27  marital_estatus_boss          2020 non-null   object \n",
      " 28  join_age_boss                 2020 non-null   int64  \n",
      " 29  join_year_boss                2020 non-null   int32  \n",
      " 30  join_month_boss               2020 non-null   int32  \n",
      " 31  performance_boss              2020 non-null   object \n",
      " 32  office_distance_diff          2020 non-null   float64\n",
      " 33  low_health_days_diff          2020 non-null   int64  \n",
      " 34  average_permanence_diff       2020 non-null   int64  \n",
      " 35  salary_diff                   2020 non-null   int64  \n",
      " 36  join_days_diff                2020 non-null   int64  \n",
      " 37  joined_after_boss             2020 non-null   int64  \n",
      " 38  age_diff                      2020 non-null   int64  \n",
      "dtypes: float64(5), int32(6), int64(18), object(10)\n",
      "memory usage: 568.2+ KB\n"
     ]
    }
   ],
   "source": [
    "test_final.info()"
   ]
  },
  {
   "cell_type": "markdown",
   "metadata": {},
   "source": [
    "## Saving clean data"
   ]
  },
  {
   "cell_type": "code",
   "execution_count": 399,
   "metadata": {},
   "outputs": [],
   "source": [
    "train_final.to_csv(paths.data_interim_dir('train_clean.csv'), index=False, sep=',')\n",
    "\n",
    "test_final.to_csv(paths.data_interim_dir('test_clean.csv'), index=False, sep=',')"
   ]
  }
 ],
 "metadata": {
  "kernelspec": {
   "display_name": "Python 3",
   "language": "python",
   "name": "python3"
  },
  "language_info": {
   "codemirror_mode": {
    "name": "ipython",
    "version": 3
   },
   "file_extension": ".py",
   "mimetype": "text/x-python",
   "name": "python",
   "nbconvert_exporter": "python",
   "pygments_lexer": "ipython3",
   "version": "3.9.18"
  }
 },
 "nbformat": 4,
 "nbformat_minor": 2
}
