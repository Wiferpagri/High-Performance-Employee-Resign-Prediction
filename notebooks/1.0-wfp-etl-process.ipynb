{
 "cells": [
  {
   "cell_type": "markdown",
   "metadata": {},
   "source": [
    "# ETL Process to clean data before analysis"
   ]
  },
  {
   "cell_type": "markdown",
   "metadata": {},
   "source": [
    "## Preparing environment"
   ]
  },
  {
   "cell_type": "code",
   "execution_count": 29,
   "metadata": {},
   "outputs": [],
   "source": [
    "import pandas as pd"
   ]
  },
  {
   "cell_type": "code",
   "execution_count": 30,
   "metadata": {},
   "outputs": [],
   "source": [
    "import sys\n",
    "sys.path.append('../high_performance_employee_resign_prediction')\n",
    "from utils import paths"
   ]
  },
  {
   "cell_type": "markdown",
   "metadata": {},
   "source": [
    "## Data Dictionary\n",
    "\n",
    "* id_employee - Employee ID\n",
    "* id_last_boss - Boss ID\n",
    "* seniority - 1: For people who don't have anyone in charge, 2: For those who have people in charge\n",
    "* work_modality - Work modality specified on employee contract\n",
    "* office_distance -  Distance in kilometers from employee home to work.\n",
    "* low_health_days -  Number of days pf justified sick leave since employee started to work for the company.\n",
    "* gender - Employee gender\n",
    "* recruitment_channel - Indicates the means by which the application process took place. \n",
    "* average_permanence - Mean time in years that the employee has worked in previous laboral experience.\n",
    "* birth_date - Birth date in format dd/mm/yyyy.\n",
    "* salary - It is the amount corresponding to the monthly remuneration received.\n",
    "* psi_score - Is the score obtained in psychometric test during selection process.\n",
    "* join_date - Date when the employee started to work for the company.\n",
    "* marital_estatus - Marital Status.\n",
    "* performance_score - Is the score obtained by the employee it his last quarterly performance test if he had.\n",
    "* resign - \"0\" if employee continues working or \"1\" if employee left the company on his first 6 months."
   ]
  },
  {
   "cell_type": "markdown",
   "metadata": {},
   "source": [
    "## Extracting data"
   ]
  },
  {
   "cell_type": "code",
   "execution_count": 31,
   "metadata": {},
   "outputs": [],
   "source": [
    "train_df = pd.read_csv(paths.data_raw_dir('train_data.csv'), sep=';')\n",
    "\n",
    "test_df = pd.read_csv(paths.data_raw_dir('test_data.csv'), sep=';')"
   ]
  },
  {
   "cell_type": "markdown",
   "metadata": {},
   "source": [
    "## Checking data"
   ]
  },
  {
   "cell_type": "code",
   "execution_count": 32,
   "metadata": {},
   "outputs": [
    {
     "name": "stdout",
     "output_type": "stream",
     "text": [
      "<class 'pandas.core.frame.DataFrame'>\n",
      "RangeIndex: 2152 entries, 0 to 2151\n",
      "Data columns (total 16 columns):\n",
      " #   Column               Non-Null Count  Dtype  \n",
      "---  ------               --------------  -----  \n",
      " 0   id_employee          2152 non-null   int64  \n",
      " 1   id_last_boss         2061 non-null   float64\n",
      " 2   seniority            2152 non-null   int64  \n",
      " 3   work_modality        2152 non-null   object \n",
      " 4   office_distance      2152 non-null   float64\n",
      " 5   low_health_days      2152 non-null   int64  \n",
      " 6   gender               2152 non-null   object \n",
      " 7   recruitment_channel  2152 non-null   object \n",
      " 8   average_permanence   2152 non-null   int64  \n",
      " 9   birth_date           2152 non-null   object \n",
      " 10  salary               2152 non-null   int64  \n",
      " 11  performance_score    2084 non-null   float64\n",
      " 12  psi_score            2152 non-null   int64  \n",
      " 13  join_date            2152 non-null   object \n",
      " 14  marital_estatus      2152 non-null   object \n",
      " 15  resign               2152 non-null   int64  \n",
      "dtypes: float64(3), int64(7), object(6)\n",
      "memory usage: 269.1+ KB\n"
     ]
    }
   ],
   "source": [
    "train_df.info()"
   ]
  },
  {
   "cell_type": "code",
   "execution_count": 33,
   "metadata": {},
   "outputs": [
    {
     "name": "stdout",
     "output_type": "stream",
     "text": [
      "<class 'pandas.core.frame.DataFrame'>\n",
      "RangeIndex: 2020 entries, 0 to 2019\n",
      "Data columns (total 15 columns):\n",
      " #   Column               Non-Null Count  Dtype  \n",
      "---  ------               --------------  -----  \n",
      " 0   id_employee          2020 non-null   int64  \n",
      " 1   id_last_boss         1937 non-null   float64\n",
      " 2   seniority            2020 non-null   int64  \n",
      " 3   work_modality        2020 non-null   object \n",
      " 4   office_distance      2020 non-null   float64\n",
      " 5   low_health_days      2020 non-null   int64  \n",
      " 6   gender               2020 non-null   object \n",
      " 7   recruitment_channel  2020 non-null   object \n",
      " 8   average_permanence   2020 non-null   int64  \n",
      " 9   birth_date           2020 non-null   object \n",
      " 10  salary               2020 non-null   int64  \n",
      " 11  performance_score    2020 non-null   int64  \n",
      " 12  psi_score            2020 non-null   int64  \n",
      " 13  join_date            2020 non-null   object \n",
      " 14  marital_estatus      2020 non-null   object \n",
      "dtypes: float64(2), int64(7), object(6)\n",
      "memory usage: 236.8+ KB\n"
     ]
    }
   ],
   "source": [
    "test_df.info()"
   ]
  },
  {
   "cell_type": "code",
   "execution_count": 34,
   "metadata": {},
   "outputs": [
    {
     "data": {
      "text/html": [
       "<div>\n",
       "<style scoped>\n",
       "    .dataframe tbody tr th:only-of-type {\n",
       "        vertical-align: middle;\n",
       "    }\n",
       "\n",
       "    .dataframe tbody tr th {\n",
       "        vertical-align: top;\n",
       "    }\n",
       "\n",
       "    .dataframe thead th {\n",
       "        text-align: right;\n",
       "    }\n",
       "</style>\n",
       "<table border=\"1\" class=\"dataframe\">\n",
       "  <thead>\n",
       "    <tr style=\"text-align: right;\">\n",
       "      <th></th>\n",
       "      <th>id_employee</th>\n",
       "      <th>id_last_boss</th>\n",
       "      <th>seniority</th>\n",
       "      <th>office_distance</th>\n",
       "      <th>low_health_days</th>\n",
       "      <th>average_permanence</th>\n",
       "      <th>salary</th>\n",
       "      <th>performance_score</th>\n",
       "      <th>psi_score</th>\n",
       "      <th>resign</th>\n",
       "    </tr>\n",
       "  </thead>\n",
       "  <tbody>\n",
       "    <tr>\n",
       "      <th>count</th>\n",
       "      <td>2152.000000</td>\n",
       "      <td>2061.000000</td>\n",
       "      <td>2152.000000</td>\n",
       "      <td>2152.000000</td>\n",
       "      <td>2152.000000</td>\n",
       "      <td>2152.000000</td>\n",
       "      <td>2.152000e+03</td>\n",
       "      <td>2084.000000</td>\n",
       "      <td>2152.000000</td>\n",
       "      <td>2152.000000</td>\n",
       "    </tr>\n",
       "    <tr>\n",
       "      <th>mean</th>\n",
       "      <td>102070.160781</td>\n",
       "      <td>102090.326055</td>\n",
       "      <td>1.042286</td>\n",
       "      <td>3.111768</td>\n",
       "      <td>2.709108</td>\n",
       "      <td>6.644981</td>\n",
       "      <td>4.570211e+05</td>\n",
       "      <td>63.472169</td>\n",
       "      <td>75.286245</td>\n",
       "      <td>0.466078</td>\n",
       "    </tr>\n",
       "    <tr>\n",
       "      <th>std</th>\n",
       "      <td>1210.999342</td>\n",
       "      <td>43.586010</td>\n",
       "      <td>0.201288</td>\n",
       "      <td>1.789050</td>\n",
       "      <td>2.982975</td>\n",
       "      <td>4.283794</td>\n",
       "      <td>3.029435e+05</td>\n",
       "      <td>23.110594</td>\n",
       "      <td>6.050987</td>\n",
       "      <td>0.498964</td>\n",
       "    </tr>\n",
       "    <tr>\n",
       "      <th>min</th>\n",
       "      <td>100001.000000</td>\n",
       "      <td>102000.000000</td>\n",
       "      <td>1.000000</td>\n",
       "      <td>0.120000</td>\n",
       "      <td>0.000000</td>\n",
       "      <td>1.000000</td>\n",
       "      <td>7.652100e+04</td>\n",
       "      <td>5.000000</td>\n",
       "      <td>58.000000</td>\n",
       "      <td>0.000000</td>\n",
       "    </tr>\n",
       "    <tr>\n",
       "      <th>25%</th>\n",
       "      <td>101028.750000</td>\n",
       "      <td>102054.000000</td>\n",
       "      <td>1.000000</td>\n",
       "      <td>1.818750</td>\n",
       "      <td>1.000000</td>\n",
       "      <td>3.000000</td>\n",
       "      <td>2.604398e+05</td>\n",
       "      <td>42.000000</td>\n",
       "      <td>71.000000</td>\n",
       "      <td>0.000000</td>\n",
       "    </tr>\n",
       "    <tr>\n",
       "      <th>50%</th>\n",
       "      <td>102048.500000</td>\n",
       "      <td>102091.000000</td>\n",
       "      <td>1.000000</td>\n",
       "      <td>2.510000</td>\n",
       "      <td>2.000000</td>\n",
       "      <td>6.000000</td>\n",
       "      <td>3.734225e+05</td>\n",
       "      <td>65.000000</td>\n",
       "      <td>75.000000</td>\n",
       "      <td>0.000000</td>\n",
       "    </tr>\n",
       "    <tr>\n",
       "      <th>75%</th>\n",
       "      <td>103135.500000</td>\n",
       "      <td>102127.000000</td>\n",
       "      <td>1.000000</td>\n",
       "      <td>4.151250</td>\n",
       "      <td>3.000000</td>\n",
       "      <td>9.000000</td>\n",
       "      <td>6.741930e+05</td>\n",
       "      <td>90.000000</td>\n",
       "      <td>79.000000</td>\n",
       "      <td>1.000000</td>\n",
       "    </tr>\n",
       "    <tr>\n",
       "      <th>max</th>\n",
       "      <td>104171.000000</td>\n",
       "      <td>102172.000000</td>\n",
       "      <td>2.000000</td>\n",
       "      <td>21.050000</td>\n",
       "      <td>35.000000</td>\n",
       "      <td>25.000000</td>\n",
       "      <td>1.900000e+06</td>\n",
       "      <td>99.000000</td>\n",
       "      <td>98.000000</td>\n",
       "      <td>1.000000</td>\n",
       "    </tr>\n",
       "  </tbody>\n",
       "</table>\n",
       "</div>"
      ],
      "text/plain": [
       "         id_employee   id_last_boss    seniority  office_distance  \\\n",
       "count    2152.000000    2061.000000  2152.000000      2152.000000   \n",
       "mean   102070.160781  102090.326055     1.042286         3.111768   \n",
       "std      1210.999342      43.586010     0.201288         1.789050   \n",
       "min    100001.000000  102000.000000     1.000000         0.120000   \n",
       "25%    101028.750000  102054.000000     1.000000         1.818750   \n",
       "50%    102048.500000  102091.000000     1.000000         2.510000   \n",
       "75%    103135.500000  102127.000000     1.000000         4.151250   \n",
       "max    104171.000000  102172.000000     2.000000        21.050000   \n",
       "\n",
       "       low_health_days  average_permanence        salary  performance_score  \\\n",
       "count      2152.000000         2152.000000  2.152000e+03        2084.000000   \n",
       "mean          2.709108            6.644981  4.570211e+05          63.472169   \n",
       "std           2.982975            4.283794  3.029435e+05          23.110594   \n",
       "min           0.000000            1.000000  7.652100e+04           5.000000   \n",
       "25%           1.000000            3.000000  2.604398e+05          42.000000   \n",
       "50%           2.000000            6.000000  3.734225e+05          65.000000   \n",
       "75%           3.000000            9.000000  6.741930e+05          90.000000   \n",
       "max          35.000000           25.000000  1.900000e+06          99.000000   \n",
       "\n",
       "         psi_score       resign  \n",
       "count  2152.000000  2152.000000  \n",
       "mean     75.286245     0.466078  \n",
       "std       6.050987     0.498964  \n",
       "min      58.000000     0.000000  \n",
       "25%      71.000000     0.000000  \n",
       "50%      75.000000     0.000000  \n",
       "75%      79.000000     1.000000  \n",
       "max      98.000000     1.000000  "
      ]
     },
     "execution_count": 34,
     "metadata": {},
     "output_type": "execute_result"
    }
   ],
   "source": [
    "train_df.describe()"
   ]
  },
  {
   "cell_type": "code",
   "execution_count": 35,
   "metadata": {},
   "outputs": [
    {
     "data": {
      "text/html": [
       "<div>\n",
       "<style scoped>\n",
       "    .dataframe tbody tr th:only-of-type {\n",
       "        vertical-align: middle;\n",
       "    }\n",
       "\n",
       "    .dataframe tbody tr th {\n",
       "        vertical-align: top;\n",
       "    }\n",
       "\n",
       "    .dataframe thead th {\n",
       "        text-align: right;\n",
       "    }\n",
       "</style>\n",
       "<table border=\"1\" class=\"dataframe\">\n",
       "  <thead>\n",
       "    <tr style=\"text-align: right;\">\n",
       "      <th></th>\n",
       "      <th>id_employee</th>\n",
       "      <th>id_last_boss</th>\n",
       "      <th>seniority</th>\n",
       "      <th>office_distance</th>\n",
       "      <th>low_health_days</th>\n",
       "      <th>average_permanence</th>\n",
       "      <th>salary</th>\n",
       "      <th>performance_score</th>\n",
       "      <th>psi_score</th>\n",
       "    </tr>\n",
       "  </thead>\n",
       "  <tbody>\n",
       "    <tr>\n",
       "      <th>count</th>\n",
       "      <td>2020.000000</td>\n",
       "      <td>1937.000000</td>\n",
       "      <td>2020.000000</td>\n",
       "      <td>2020.000000</td>\n",
       "      <td>2020.000000</td>\n",
       "      <td>2020.000000</td>\n",
       "      <td>2.020000e+03</td>\n",
       "      <td>2020.000000</td>\n",
       "      <td>2020.00000</td>\n",
       "    </tr>\n",
       "    <tr>\n",
       "      <th>mean</th>\n",
       "      <td>102103.807921</td>\n",
       "      <td>102089.646877</td>\n",
       "      <td>1.041089</td>\n",
       "      <td>3.059394</td>\n",
       "      <td>2.662376</td>\n",
       "      <td>6.713366</td>\n",
       "      <td>4.638236e+05</td>\n",
       "      <td>89.146040</td>\n",
       "      <td>75.44505</td>\n",
       "    </tr>\n",
       "    <tr>\n",
       "      <th>std</th>\n",
       "      <td>1197.751058</td>\n",
       "      <td>43.691244</td>\n",
       "      <td>0.198545</td>\n",
       "      <td>1.637131</td>\n",
       "      <td>2.817351</td>\n",
       "      <td>4.307580</td>\n",
       "      <td>3.063601e+05</td>\n",
       "      <td>4.851837</td>\n",
       "      <td>6.00944</td>\n",
       "    </tr>\n",
       "    <tr>\n",
       "      <th>min</th>\n",
       "      <td>100000.000000</td>\n",
       "      <td>102000.000000</td>\n",
       "      <td>1.000000</td>\n",
       "      <td>0.110000</td>\n",
       "      <td>0.000000</td>\n",
       "      <td>1.000000</td>\n",
       "      <td>7.551700e+04</td>\n",
       "      <td>80.000000</td>\n",
       "      <td>58.00000</td>\n",
       "    </tr>\n",
       "    <tr>\n",
       "      <th>25%</th>\n",
       "      <td>101071.250000</td>\n",
       "      <td>102052.000000</td>\n",
       "      <td>1.000000</td>\n",
       "      <td>1.805000</td>\n",
       "      <td>1.000000</td>\n",
       "      <td>3.000000</td>\n",
       "      <td>2.663110e+05</td>\n",
       "      <td>85.000000</td>\n",
       "      <td>71.00000</td>\n",
       "    </tr>\n",
       "    <tr>\n",
       "      <th>50%</th>\n",
       "      <td>102117.500000</td>\n",
       "      <td>102089.000000</td>\n",
       "      <td>1.000000</td>\n",
       "      <td>2.542500</td>\n",
       "      <td>2.000000</td>\n",
       "      <td>6.000000</td>\n",
       "      <td>3.747200e+05</td>\n",
       "      <td>90.000000</td>\n",
       "      <td>76.00000</td>\n",
       "    </tr>\n",
       "    <tr>\n",
       "      <th>75%</th>\n",
       "      <td>103126.250000</td>\n",
       "      <td>102126.000000</td>\n",
       "      <td>1.000000</td>\n",
       "      <td>4.000000</td>\n",
       "      <td>3.000000</td>\n",
       "      <td>9.000000</td>\n",
       "      <td>6.763075e+05</td>\n",
       "      <td>92.000000</td>\n",
       "      <td>79.00000</td>\n",
       "    </tr>\n",
       "    <tr>\n",
       "      <th>max</th>\n",
       "      <td>104172.000000</td>\n",
       "      <td>102172.000000</td>\n",
       "      <td>2.000000</td>\n",
       "      <td>14.045000</td>\n",
       "      <td>23.000000</td>\n",
       "      <td>27.000000</td>\n",
       "      <td>1.900000e+06</td>\n",
       "      <td>99.000000</td>\n",
       "      <td>98.00000</td>\n",
       "    </tr>\n",
       "  </tbody>\n",
       "</table>\n",
       "</div>"
      ],
      "text/plain": [
       "         id_employee   id_last_boss    seniority  office_distance  \\\n",
       "count    2020.000000    1937.000000  2020.000000      2020.000000   \n",
       "mean   102103.807921  102089.646877     1.041089         3.059394   \n",
       "std      1197.751058      43.691244     0.198545         1.637131   \n",
       "min    100000.000000  102000.000000     1.000000         0.110000   \n",
       "25%    101071.250000  102052.000000     1.000000         1.805000   \n",
       "50%    102117.500000  102089.000000     1.000000         2.542500   \n",
       "75%    103126.250000  102126.000000     1.000000         4.000000   \n",
       "max    104172.000000  102172.000000     2.000000        14.045000   \n",
       "\n",
       "       low_health_days  average_permanence        salary  performance_score  \\\n",
       "count      2020.000000         2020.000000  2.020000e+03        2020.000000   \n",
       "mean          2.662376            6.713366  4.638236e+05          89.146040   \n",
       "std           2.817351            4.307580  3.063601e+05           4.851837   \n",
       "min           0.000000            1.000000  7.551700e+04          80.000000   \n",
       "25%           1.000000            3.000000  2.663110e+05          85.000000   \n",
       "50%           2.000000            6.000000  3.747200e+05          90.000000   \n",
       "75%           3.000000            9.000000  6.763075e+05          92.000000   \n",
       "max          23.000000           27.000000  1.900000e+06          99.000000   \n",
       "\n",
       "        psi_score  \n",
       "count  2020.00000  \n",
       "mean     75.44505  \n",
       "std       6.00944  \n",
       "min      58.00000  \n",
       "25%      71.00000  \n",
       "50%      76.00000  \n",
       "75%      79.00000  \n",
       "max      98.00000  "
      ]
     },
     "execution_count": 35,
     "metadata": {},
     "output_type": "execute_result"
    }
   ],
   "source": [
    "test_df.describe()"
   ]
  },
  {
   "cell_type": "markdown",
   "metadata": {},
   "source": [
    "Observing the statistics summary, we can see that there are some outliers in `office_distance`, `low_health_days`, `average_permanence` and `salary` for both train and test data. They will be analyzed and actions will be taken during the EDA."
   ]
  },
  {
   "cell_type": "markdown",
   "metadata": {},
   "source": [
    "## Looking for typo errors in object data"
   ]
  },
  {
   "cell_type": "code",
   "execution_count": 36,
   "metadata": {},
   "outputs": [
    {
     "data": {
      "text/html": [
       "<div>\n",
       "<style scoped>\n",
       "    .dataframe tbody tr th:only-of-type {\n",
       "        vertical-align: middle;\n",
       "    }\n",
       "\n",
       "    .dataframe tbody tr th {\n",
       "        vertical-align: top;\n",
       "    }\n",
       "\n",
       "    .dataframe thead th {\n",
       "        text-align: right;\n",
       "    }\n",
       "</style>\n",
       "<table border=\"1\" class=\"dataframe\">\n",
       "  <thead>\n",
       "    <tr style=\"text-align: right;\">\n",
       "      <th></th>\n",
       "      <th>work_modality</th>\n",
       "      <th>gender</th>\n",
       "      <th>recruitment_channel</th>\n",
       "      <th>birth_date</th>\n",
       "      <th>join_date</th>\n",
       "      <th>marital_estatus</th>\n",
       "    </tr>\n",
       "  </thead>\n",
       "  <tbody>\n",
       "    <tr>\n",
       "      <th>count</th>\n",
       "      <td>2152</td>\n",
       "      <td>2152</td>\n",
       "      <td>2152</td>\n",
       "      <td>2152</td>\n",
       "      <td>2152</td>\n",
       "      <td>2152</td>\n",
       "    </tr>\n",
       "    <tr>\n",
       "      <th>unique</th>\n",
       "      <td>2</td>\n",
       "      <td>2</td>\n",
       "      <td>5</td>\n",
       "      <td>1980</td>\n",
       "      <td>1595</td>\n",
       "      <td>4</td>\n",
       "    </tr>\n",
       "    <tr>\n",
       "      <th>top</th>\n",
       "      <td>Presencial</td>\n",
       "      <td>Hombre</td>\n",
       "      <td>Portal Web</td>\n",
       "      <td>24/11/1978</td>\n",
       "      <td>3/10/2013</td>\n",
       "      <td>Soltero</td>\n",
       "    </tr>\n",
       "    <tr>\n",
       "      <th>freq</th>\n",
       "      <td>1530</td>\n",
       "      <td>1095</td>\n",
       "      <td>986</td>\n",
       "      <td>3</td>\n",
       "      <td>5</td>\n",
       "      <td>925</td>\n",
       "    </tr>\n",
       "  </tbody>\n",
       "</table>\n",
       "</div>"
      ],
      "text/plain": [
       "       work_modality  gender recruitment_channel  birth_date  join_date  \\\n",
       "count           2152    2152                2152        2152       2152   \n",
       "unique             2       2                   5        1980       1595   \n",
       "top       Presencial  Hombre          Portal Web  24/11/1978  3/10/2013   \n",
       "freq            1530    1095                 986           3          5   \n",
       "\n",
       "       marital_estatus  \n",
       "count             2152  \n",
       "unique               4  \n",
       "top            Soltero  \n",
       "freq               925  "
      ]
     },
     "execution_count": 36,
     "metadata": {},
     "output_type": "execute_result"
    }
   ],
   "source": [
    "train_df.describe(include='object')"
   ]
  },
  {
   "cell_type": "code",
   "execution_count": 37,
   "metadata": {},
   "outputs": [
    {
     "data": {
      "text/html": [
       "<div>\n",
       "<style scoped>\n",
       "    .dataframe tbody tr th:only-of-type {\n",
       "        vertical-align: middle;\n",
       "    }\n",
       "\n",
       "    .dataframe tbody tr th {\n",
       "        vertical-align: top;\n",
       "    }\n",
       "\n",
       "    .dataframe thead th {\n",
       "        text-align: right;\n",
       "    }\n",
       "</style>\n",
       "<table border=\"1\" class=\"dataframe\">\n",
       "  <thead>\n",
       "    <tr style=\"text-align: right;\">\n",
       "      <th></th>\n",
       "      <th>work_modality</th>\n",
       "      <th>gender</th>\n",
       "      <th>recruitment_channel</th>\n",
       "      <th>birth_date</th>\n",
       "      <th>join_date</th>\n",
       "      <th>marital_estatus</th>\n",
       "    </tr>\n",
       "  </thead>\n",
       "  <tbody>\n",
       "    <tr>\n",
       "      <th>count</th>\n",
       "      <td>2020</td>\n",
       "      <td>2020</td>\n",
       "      <td>2020</td>\n",
       "      <td>2020</td>\n",
       "      <td>2020</td>\n",
       "      <td>2020</td>\n",
       "    </tr>\n",
       "    <tr>\n",
       "      <th>unique</th>\n",
       "      <td>2</td>\n",
       "      <td>2</td>\n",
       "      <td>5</td>\n",
       "      <td>1883</td>\n",
       "      <td>1527</td>\n",
       "      <td>4</td>\n",
       "    </tr>\n",
       "    <tr>\n",
       "      <th>top</th>\n",
       "      <td>Presencial</td>\n",
       "      <td>Mujer</td>\n",
       "      <td>Portal Web</td>\n",
       "      <td>27/04/1972</td>\n",
       "      <td>29/09/2017</td>\n",
       "      <td>Soltero</td>\n",
       "    </tr>\n",
       "    <tr>\n",
       "      <th>freq</th>\n",
       "      <td>1408</td>\n",
       "      <td>1037</td>\n",
       "      <td>869</td>\n",
       "      <td>3</td>\n",
       "      <td>5</td>\n",
       "      <td>800</td>\n",
       "    </tr>\n",
       "  </tbody>\n",
       "</table>\n",
       "</div>"
      ],
      "text/plain": [
       "       work_modality gender recruitment_channel  birth_date   join_date  \\\n",
       "count           2020   2020                2020        2020        2020   \n",
       "unique             2      2                   5        1883        1527   \n",
       "top       Presencial  Mujer          Portal Web  27/04/1972  29/09/2017   \n",
       "freq            1408   1037                 869           3           5   \n",
       "\n",
       "       marital_estatus  \n",
       "count             2020  \n",
       "unique               4  \n",
       "top            Soltero  \n",
       "freq               800  "
      ]
     },
     "execution_count": 37,
     "metadata": {},
     "output_type": "execute_result"
    }
   ],
   "source": [
    "test_df.describe(include='object')"
   ]
  },
  {
   "cell_type": "code",
   "execution_count": 38,
   "metadata": {},
   "outputs": [
    {
     "name": "stdout",
     "output_type": "stream",
     "text": [
      "['Híbrida' 'Presencial']\n",
      "['Híbrida' 'Presencial']\n"
     ]
    }
   ],
   "source": [
    "# Checking work_modality categories\n",
    "\n",
    "print(train_df.work_modality.unique())\n",
    "print(test_df.work_modality.unique())"
   ]
  },
  {
   "cell_type": "code",
   "execution_count": 39,
   "metadata": {},
   "outputs": [
    {
     "name": "stdout",
     "output_type": "stream",
     "text": [
      "['Ferias & Networking' 'Referidos' 'Linkedin' 'Portal Web' 'Headhunter']\n",
      "['Ferias & Networking' 'Portal Web' 'Linkedin' 'Referidos' 'Headhunter']\n"
     ]
    }
   ],
   "source": [
    "# Checking recruitment_channel categories\n",
    "\n",
    "print(train_df.recruitment_channel.unique())\n",
    "print(test_df.recruitment_channel.unique())"
   ]
  },
  {
   "cell_type": "code",
   "execution_count": 40,
   "metadata": {},
   "outputs": [
    {
     "name": "stdout",
     "output_type": "stream",
     "text": [
      "['Soltero' 'Viudo' 'Divorciado' 'Casado']\n",
      "['Soltero' 'Casado' 'Viudo' 'Divorciado']\n"
     ]
    }
   ],
   "source": [
    "# Checking marital_estatus categories\n",
    "\n",
    "print(train_df.marital_estatus.unique())\n",
    "print(test_df.marital_estatus.unique())"
   ]
  },
  {
   "cell_type": "markdown",
   "metadata": {},
   "source": [
    "From the data dictionary we can see that `seniority` and `id_last_boss` are categories too. However, id_ultimo_jefe has many categories, so it will be analyzed during the hypothesis testing phase."
   ]
  },
  {
   "cell_type": "code",
   "execution_count": 41,
   "metadata": {},
   "outputs": [],
   "source": [
    "cat_cols = ['work_modality', 'gender', 'recruitment_channel', 'marital_estatus', 'seniority']\n",
    "\n",
    "# Defining a function to check categories proportion\n",
    "\n",
    "def check_categories_proportion(df, col):\n",
    "    \n",
    "    \"\"\"\n",
    "    Calculate and print the proportion of each category in a specified column of a DataFrame.\n",
    "\n",
    "    This function takes a pandas DataFrame and a column name, calculates the proportion \n",
    "    (as a percentage) of each unique value (category) in the specified column, and prints \n",
    "    the resulting proportions.\n",
    "\n",
    "    Parameters:\n",
    "    df (pandas.DataFrame): The DataFrame containing the data.\n",
    "    col (str): The name of the column for which to calculate category proportions.\n",
    "\n",
    "    Returns:\n",
    "    None: This function prints the category proportions and does not return any value.\n",
    "\n",
    "    Example:\n",
    "    >>> import pandas as pd\n",
    "    >>> data = {'category': ['A', 'B', 'A', 'C', 'B', 'A']}\n",
    "    >>> df = pd.DataFrame(data)\n",
    "    >>> check_categories_proportion(df, 'category')\n",
    "    A    50.0\n",
    "    B    33.3\n",
    "    C    16.7\n",
    "    Name: category, dtype: float64\n",
    "    \"\"\"\n",
    "    \n",
    "    proportion = df[col].value_counts(normalize=True) * 100\n",
    "    print(proportion)"
   ]
  },
  {
   "cell_type": "code",
   "execution_count": 42,
   "metadata": {},
   "outputs": [
    {
     "name": "stdout",
     "output_type": "stream",
     "text": [
      "work_modality\n",
      "Presencial    71.096654\n",
      "Híbrida       28.903346\n",
      "Name: proportion, dtype: float64\n",
      "----------------------------------------\n",
      "gender\n",
      "Hombre    50.8829\n",
      "Mujer     49.1171\n",
      "Name: proportion, dtype: float64\n",
      "----------------------------------------\n",
      "recruitment_channel\n",
      "Portal Web             45.817844\n",
      "Linkedin               22.676580\n",
      "Referidos              15.706320\n",
      "Ferias & Networking    14.312268\n",
      "Headhunter              1.486989\n",
      "Name: proportion, dtype: float64\n",
      "----------------------------------------\n",
      "marital_estatus\n",
      "Soltero       42.983271\n",
      "Casado        38.708178\n",
      "Divorciado    10.315985\n",
      "Viudo          7.992565\n",
      "Name: proportion, dtype: float64\n",
      "----------------------------------------\n",
      "seniority\n",
      "1    95.771375\n",
      "2     4.228625\n",
      "Name: proportion, dtype: float64\n",
      "----------------------------------------\n"
     ]
    }
   ],
   "source": [
    "for col in cat_cols:\n",
    "    check_categories_proportion(train_df, col)\n",
    "    print('-'*40)"
   ]
  },
  {
   "cell_type": "code",
   "execution_count": 43,
   "metadata": {},
   "outputs": [
    {
     "name": "stdout",
     "output_type": "stream",
     "text": [
      "work_modality\n",
      "Presencial    69.70297\n",
      "Híbrida       30.29703\n",
      "Name: proportion, dtype: float64\n",
      "----------------------------------------\n",
      "gender\n",
      "Mujer     51.336634\n",
      "Hombre    48.663366\n",
      "Name: proportion, dtype: float64\n",
      "----------------------------------------\n",
      "recruitment_channel\n",
      "Portal Web             43.019802\n",
      "Linkedin               25.247525\n",
      "Referidos              16.336634\n",
      "Ferias & Networking    14.059406\n",
      "Headhunter              1.336634\n",
      "Name: proportion, dtype: float64\n",
      "----------------------------------------\n",
      "marital_estatus\n",
      "Soltero       39.603960\n",
      "Casado        38.514851\n",
      "Divorciado    12.425743\n",
      "Viudo          9.455446\n",
      "Name: proportion, dtype: float64\n",
      "----------------------------------------\n",
      "seniority\n",
      "1    95.891089\n",
      "2     4.108911\n",
      "Name: proportion, dtype: float64\n",
      "----------------------------------------\n"
     ]
    }
   ],
   "source": [
    "for col in cat_cols:\n",
    "    check_categories_proportion(test_df, col)\n",
    "    print('-'*40)"
   ]
  },
  {
   "cell_type": "markdown",
   "metadata": {},
   "source": [
    "Categories proportion in both train and test data are similar."
   ]
  },
  {
   "cell_type": "markdown",
   "metadata": {},
   "source": [
    "## Extracting info from date columns"
   ]
  },
  {
   "cell_type": "code",
   "execution_count": 44,
   "metadata": {},
   "outputs": [],
   "source": [
    "# Converting date columns to dtype datetime\n",
    "\n",
    "train_df['join_date'] = pd.to_datetime(train_df['join_date'], dayfirst=True)\n",
    "train_df['birth_date'] = pd.to_datetime(train_df['birth_date'], dayfirst=True)\n",
    "\n",
    "test_df['join_date'] = pd.to_datetime(test_df['join_date'], dayfirst=True)\n",
    "test_df['birth_date'] = pd.to_datetime(test_df['birth_date'], dayfirst=True)"
   ]
  },
  {
   "cell_type": "code",
   "execution_count": 45,
   "metadata": {},
   "outputs": [],
   "source": [
    "# Calculating age of join\n",
    "\n",
    "train_df['join_age'] = (train_df['join_date'] - train_df['birth_date']).dt.days // 365\n",
    "\n",
    "test_df['join_age'] = (test_df['join_date'] - test_df['birth_date']).dt.days // 365"
   ]
  },
  {
   "cell_type": "code",
   "execution_count": 46,
   "metadata": {},
   "outputs": [],
   "source": [
    "# Obtaining season info\n",
    "\n",
    "train_df['join_year'] = train_df['join_date'].dt.year\n",
    "train_df['join_month'] = train_df['join_date'].dt.month\n",
    "\n",
    "test_df['join_year'] = test_df['join_date'].dt.year\n",
    "test_df['join_month'] = test_df['join_date'].dt.month"
   ]
  },
  {
   "cell_type": "code",
   "execution_count": 47,
   "metadata": {},
   "outputs": [],
   "source": [
    "# Discarding original dates\n",
    "\n",
    "train_df.drop(['birth_date', 'join_date'], axis=1, inplace=True)\n",
    "test_df.drop(['birth_date', 'join_date'], axis=1, inplace=True)"
   ]
  },
  {
   "cell_type": "code",
   "execution_count": 48,
   "metadata": {},
   "outputs": [
    {
     "name": "stdout",
     "output_type": "stream",
     "text": [
      "<class 'pandas.core.frame.DataFrame'>\n",
      "RangeIndex: 2152 entries, 0 to 2151\n",
      "Data columns (total 17 columns):\n",
      " #   Column               Non-Null Count  Dtype  \n",
      "---  ------               --------------  -----  \n",
      " 0   id_employee          2152 non-null   int64  \n",
      " 1   id_last_boss         2061 non-null   float64\n",
      " 2   seniority            2152 non-null   int64  \n",
      " 3   work_modality        2152 non-null   object \n",
      " 4   office_distance      2152 non-null   float64\n",
      " 5   low_health_days      2152 non-null   int64  \n",
      " 6   gender               2152 non-null   object \n",
      " 7   recruitment_channel  2152 non-null   object \n",
      " 8   average_permanence   2152 non-null   int64  \n",
      " 9   salary               2152 non-null   int64  \n",
      " 10  performance_score    2084 non-null   float64\n",
      " 11  psi_score            2152 non-null   int64  \n",
      " 12  marital_estatus      2152 non-null   object \n",
      " 13  resign               2152 non-null   int64  \n",
      " 14  join_age             2152 non-null   int64  \n",
      " 15  join_year            2152 non-null   int32  \n",
      " 16  join_month           2152 non-null   int32  \n",
      "dtypes: float64(3), int32(2), int64(8), object(4)\n",
      "memory usage: 269.1+ KB\n"
     ]
    }
   ],
   "source": [
    "train_df.info()"
   ]
  },
  {
   "cell_type": "code",
   "execution_count": 49,
   "metadata": {},
   "outputs": [
    {
     "name": "stdout",
     "output_type": "stream",
     "text": [
      "<class 'pandas.core.frame.DataFrame'>\n",
      "RangeIndex: 2020 entries, 0 to 2019\n",
      "Data columns (total 16 columns):\n",
      " #   Column               Non-Null Count  Dtype  \n",
      "---  ------               --------------  -----  \n",
      " 0   id_employee          2020 non-null   int64  \n",
      " 1   id_last_boss         1937 non-null   float64\n",
      " 2   seniority            2020 non-null   int64  \n",
      " 3   work_modality        2020 non-null   object \n",
      " 4   office_distance      2020 non-null   float64\n",
      " 5   low_health_days      2020 non-null   int64  \n",
      " 6   gender               2020 non-null   object \n",
      " 7   recruitment_channel  2020 non-null   object \n",
      " 8   average_permanence   2020 non-null   int64  \n",
      " 9   salary               2020 non-null   int64  \n",
      " 10  performance_score    2020 non-null   int64  \n",
      " 11  psi_score            2020 non-null   int64  \n",
      " 12  marital_estatus      2020 non-null   object \n",
      " 13  join_age             2020 non-null   int64  \n",
      " 14  join_year            2020 non-null   int32  \n",
      " 15  join_month           2020 non-null   int32  \n",
      "dtypes: float64(2), int32(2), int64(8), object(4)\n",
      "memory usage: 236.8+ KB\n"
     ]
    }
   ],
   "source": [
    "test_df.info()"
   ]
  },
  {
   "cell_type": "markdown",
   "metadata": {},
   "source": [
    "## Missing values treatment"
   ]
  },
  {
   "cell_type": "markdown",
   "metadata": {},
   "source": [
    "From context of the business, is well known that people with performance_score greater than or equal to 80 is considered people with high perfomance, and everyone else is considered low performance. There are some missing values in this column on train data, and observing the statistics summary, most of the employees from the train data are low performance, while all the employees in the test data are high performance; this lead us to impute those missing values with 80, in order to help the people to generalize better the high performance employees. Additionally, performance categorical column will be added with 'high' for employees with performance score greater or equal to 80 and 'low' for everyone else."
   ]
  },
  {
   "cell_type": "code",
   "execution_count": 50,
   "metadata": {},
   "outputs": [],
   "source": [
    "train_df['performance_score'] = train_df['performance_score'].fillna(80)"
   ]
  },
  {
   "cell_type": "markdown",
   "metadata": {},
   "source": [
    "Since id_ultimo_jefe is a categorical column, we can't impute it. So we gonna fill missing values with bfill method."
   ]
  },
  {
   "cell_type": "code",
   "execution_count": 51,
   "metadata": {},
   "outputs": [
    {
     "name": "stderr",
     "output_type": "stream",
     "text": [
      "C:\\Users\\WILLIAM\\AppData\\Local\\Temp\\ipykernel_19320\\2512515177.py:1: FutureWarning: Series.fillna with 'method' is deprecated and will raise in a future version. Use obj.ffill() or obj.bfill() instead.\n",
      "  train_df['id_last_boss'] = train_df['id_last_boss'].fillna(method='bfill')\n",
      "C:\\Users\\WILLIAM\\AppData\\Local\\Temp\\ipykernel_19320\\2512515177.py:3: FutureWarning: Series.fillna with 'method' is deprecated and will raise in a future version. Use obj.ffill() or obj.bfill() instead.\n",
      "  test_df['id_last_boss'] = test_df['id_last_boss'].fillna(method='bfill')\n"
     ]
    }
   ],
   "source": [
    "train_df['id_last_boss'] = train_df['id_last_boss'].fillna(method='bfill')\n",
    "\n",
    "test_df['id_last_boss'] = test_df['id_last_boss'].fillna(method='bfill')"
   ]
  },
  {
   "cell_type": "markdown",
   "metadata": {},
   "source": [
    "## Changing id_last_boss dtype"
   ]
  },
  {
   "cell_type": "code",
   "execution_count": 52,
   "metadata": {},
   "outputs": [],
   "source": [
    "train_df['id_last_boss'] = train_df['id_last_boss'].astype(int)\n",
    "\n",
    "test_df['id_last_boss'] = test_df['id_last_boss'].astype(int)"
   ]
  },
  {
   "cell_type": "code",
   "execution_count": 53,
   "metadata": {},
   "outputs": [
    {
     "name": "stdout",
     "output_type": "stream",
     "text": [
      "<class 'pandas.core.frame.DataFrame'>\n",
      "RangeIndex: 2152 entries, 0 to 2151\n",
      "Data columns (total 17 columns):\n",
      " #   Column               Non-Null Count  Dtype  \n",
      "---  ------               --------------  -----  \n",
      " 0   id_employee          2152 non-null   int64  \n",
      " 1   id_last_boss         2152 non-null   int32  \n",
      " 2   seniority            2152 non-null   int64  \n",
      " 3   work_modality        2152 non-null   object \n",
      " 4   office_distance      2152 non-null   float64\n",
      " 5   low_health_days      2152 non-null   int64  \n",
      " 6   gender               2152 non-null   object \n",
      " 7   recruitment_channel  2152 non-null   object \n",
      " 8   average_permanence   2152 non-null   int64  \n",
      " 9   salary               2152 non-null   int64  \n",
      " 10  performance_score    2152 non-null   float64\n",
      " 11  psi_score            2152 non-null   int64  \n",
      " 12  marital_estatus      2152 non-null   object \n",
      " 13  resign               2152 non-null   int64  \n",
      " 14  join_age             2152 non-null   int64  \n",
      " 15  join_year            2152 non-null   int32  \n",
      " 16  join_month           2152 non-null   int32  \n",
      "dtypes: float64(2), int32(3), int64(8), object(4)\n",
      "memory usage: 260.7+ KB\n"
     ]
    }
   ],
   "source": [
    "train_df.info()"
   ]
  },
  {
   "cell_type": "code",
   "execution_count": 54,
   "metadata": {},
   "outputs": [
    {
     "name": "stdout",
     "output_type": "stream",
     "text": [
      "<class 'pandas.core.frame.DataFrame'>\n",
      "RangeIndex: 2020 entries, 0 to 2019\n",
      "Data columns (total 16 columns):\n",
      " #   Column               Non-Null Count  Dtype  \n",
      "---  ------               --------------  -----  \n",
      " 0   id_employee          2020 non-null   int64  \n",
      " 1   id_last_boss         2020 non-null   int32  \n",
      " 2   seniority            2020 non-null   int64  \n",
      " 3   work_modality        2020 non-null   object \n",
      " 4   office_distance      2020 non-null   float64\n",
      " 5   low_health_days      2020 non-null   int64  \n",
      " 6   gender               2020 non-null   object \n",
      " 7   recruitment_channel  2020 non-null   object \n",
      " 8   average_permanence   2020 non-null   int64  \n",
      " 9   salary               2020 non-null   int64  \n",
      " 10  performance_score    2020 non-null   int64  \n",
      " 11  psi_score            2020 non-null   int64  \n",
      " 12  marital_estatus      2020 non-null   object \n",
      " 13  join_age             2020 non-null   int64  \n",
      " 14  join_year            2020 non-null   int32  \n",
      " 15  join_month           2020 non-null   int32  \n",
      "dtypes: float64(1), int32(3), int64(8), object(4)\n",
      "memory usage: 229.0+ KB\n"
     ]
    }
   ],
   "source": [
    "test_df.info()"
   ]
  },
  {
   "cell_type": "markdown",
   "metadata": {},
   "source": [
    "## Adding performance column"
   ]
  },
  {
   "cell_type": "code",
   "execution_count": 55,
   "metadata": {},
   "outputs": [],
   "source": [
    "train_df['performance'] = ['high' if score >= 80 else 'low' for score in train_df['performance_score']]\n",
    "test_df['performance'] = ['high' if score >= 80 else 'low' for score in test_df['performance_score']]"
   ]
  },
  {
   "cell_type": "markdown",
   "metadata": {},
   "source": [
    "## Adding new features"
   ]
  },
  {
   "cell_type": "markdown",
   "metadata": {},
   "source": [
    "Boss id are also present in employee id, so we can use this information to create new features that can help to improve the results"
   ]
  },
  {
   "cell_type": "code",
   "execution_count": 66,
   "metadata": {},
   "outputs": [],
   "source": [
    "expanded_train_df = pd.merge(train_df, train_df.drop(columns=['resign']), how='left',\n",
    "                             left_on='id_last_boss', right_on='id_employee',\n",
    "                             suffixes=('_employee', '_boss'))"
   ]
  },
  {
   "cell_type": "code",
   "execution_count": 67,
   "metadata": {},
   "outputs": [
    {
     "name": "stdout",
     "output_type": "stream",
     "text": [
      "<class 'pandas.core.frame.DataFrame'>\n",
      "RangeIndex: 2152 entries, 0 to 2151\n",
      "Data columns (total 35 columns):\n",
      " #   Column                        Non-Null Count  Dtype  \n",
      "---  ------                        --------------  -----  \n",
      " 0   id_employee_employee          2152 non-null   int64  \n",
      " 1   id_last_boss_employee         2152 non-null   int32  \n",
      " 2   seniority_employee            2152 non-null   int64  \n",
      " 3   work_modality_employee        2152 non-null   object \n",
      " 4   office_distance_employee      2152 non-null   float64\n",
      " 5   low_health_days_employee      2152 non-null   int64  \n",
      " 6   gender_employee               2152 non-null   object \n",
      " 7   recruitment_channel_employee  2152 non-null   object \n",
      " 8   average_permanence_employee   2152 non-null   int64  \n",
      " 9   salary_employee               2152 non-null   int64  \n",
      " 10  performance_score_employee    2152 non-null   float64\n",
      " 11  psi_score_employee            2152 non-null   int64  \n",
      " 12  marital_estatus_employee      2152 non-null   object \n",
      " 13  resign                        2152 non-null   int64  \n",
      " 14  join_age_employee             2152 non-null   int64  \n",
      " 15  join_year_employee            2152 non-null   int32  \n",
      " 16  join_month_employee           2152 non-null   int32  \n",
      " 17  performance_employee          2152 non-null   object \n",
      " 18  id_employee_boss              1116 non-null   float64\n",
      " 19  id_last_boss_boss             1116 non-null   float64\n",
      " 20  seniority_boss                1116 non-null   float64\n",
      " 21  work_modality_boss            1116 non-null   object \n",
      " 22  office_distance_boss          1116 non-null   float64\n",
      " 23  low_health_days_boss          1116 non-null   float64\n",
      " 24  gender_boss                   1116 non-null   object \n",
      " 25  recruitment_channel_boss      1116 non-null   object \n",
      " 26  average_permanence_boss       1116 non-null   float64\n",
      " 27  salary_boss                   1116 non-null   float64\n",
      " 28  performance_score_boss        1116 non-null   float64\n",
      " 29  psi_score_boss                1116 non-null   float64\n",
      " 30  marital_estatus_boss          1116 non-null   object \n",
      " 31  join_age_boss                 1116 non-null   float64\n",
      " 32  join_year_boss                1116 non-null   float64\n",
      " 33  join_month_boss               1116 non-null   float64\n",
      " 34  performance_boss              1116 non-null   object \n",
      "dtypes: float64(14), int32(3), int64(8), object(10)\n",
      "memory usage: 563.3+ KB\n"
     ]
    }
   ],
   "source": [
    "expanded_train_df.info()"
   ]
  },
  {
   "cell_type": "code",
   "execution_count": 70,
   "metadata": {},
   "outputs": [],
   "source": [
    "expanded_test_df = pd.merge(test_df, test_df, how='left',\n",
    "                             left_on='id_last_boss', right_on='id_employee',\n",
    "                             suffixes=('_employee', '_boss'))"
   ]
  },
  {
   "cell_type": "code",
   "execution_count": 84,
   "metadata": {},
   "outputs": [
    {
     "data": {
      "text/html": [
       "<div>\n",
       "<style scoped>\n",
       "    .dataframe tbody tr th:only-of-type {\n",
       "        vertical-align: middle;\n",
       "    }\n",
       "\n",
       "    .dataframe tbody tr th {\n",
       "        vertical-align: top;\n",
       "    }\n",
       "\n",
       "    .dataframe thead th {\n",
       "        text-align: right;\n",
       "    }\n",
       "</style>\n",
       "<table border=\"1\" class=\"dataframe\">\n",
       "  <thead>\n",
       "    <tr style=\"text-align: right;\">\n",
       "      <th></th>\n",
       "      <th>id_employee_employee</th>\n",
       "      <th>id_last_boss_employee</th>\n",
       "      <th>id_employee_boss</th>\n",
       "      <th>id_last_boss_boss</th>\n",
       "    </tr>\n",
       "  </thead>\n",
       "  <tbody>\n",
       "    <tr>\n",
       "      <th>0</th>\n",
       "      <td>100486</td>\n",
       "      <td>102115</td>\n",
       "      <td>102115.0</td>\n",
       "      <td>102116.0</td>\n",
       "    </tr>\n",
       "    <tr>\n",
       "      <th>1</th>\n",
       "      <td>103752</td>\n",
       "      <td>102074</td>\n",
       "      <td>102074.0</td>\n",
       "      <td>102028.0</td>\n",
       "    </tr>\n",
       "    <tr>\n",
       "      <th>2</th>\n",
       "      <td>103937</td>\n",
       "      <td>102150</td>\n",
       "      <td>102150.0</td>\n",
       "      <td>102085.0</td>\n",
       "    </tr>\n",
       "    <tr>\n",
       "      <th>3</th>\n",
       "      <td>101744</td>\n",
       "      <td>102172</td>\n",
       "      <td>NaN</td>\n",
       "      <td>NaN</td>\n",
       "    </tr>\n",
       "    <tr>\n",
       "      <th>4</th>\n",
       "      <td>101037</td>\n",
       "      <td>102060</td>\n",
       "      <td>102060.0</td>\n",
       "      <td>102041.0</td>\n",
       "    </tr>\n",
       "    <tr>\n",
       "      <th>...</th>\n",
       "      <td>...</td>\n",
       "      <td>...</td>\n",
       "      <td>...</td>\n",
       "      <td>...</td>\n",
       "    </tr>\n",
       "    <tr>\n",
       "      <th>2015</th>\n",
       "      <td>103755</td>\n",
       "      <td>102161</td>\n",
       "      <td>102161.0</td>\n",
       "      <td>102039.0</td>\n",
       "    </tr>\n",
       "    <tr>\n",
       "      <th>2016</th>\n",
       "      <td>103976</td>\n",
       "      <td>102171</td>\n",
       "      <td>NaN</td>\n",
       "      <td>NaN</td>\n",
       "    </tr>\n",
       "    <tr>\n",
       "      <th>2017</th>\n",
       "      <td>104115</td>\n",
       "      <td>102144</td>\n",
       "      <td>NaN</td>\n",
       "      <td>NaN</td>\n",
       "    </tr>\n",
       "    <tr>\n",
       "      <th>2018</th>\n",
       "      <td>103920</td>\n",
       "      <td>102152</td>\n",
       "      <td>NaN</td>\n",
       "      <td>NaN</td>\n",
       "    </tr>\n",
       "    <tr>\n",
       "      <th>2019</th>\n",
       "      <td>103151</td>\n",
       "      <td>102171</td>\n",
       "      <td>NaN</td>\n",
       "      <td>NaN</td>\n",
       "    </tr>\n",
       "  </tbody>\n",
       "</table>\n",
       "<p>2020 rows × 4 columns</p>\n",
       "</div>"
      ],
      "text/plain": [
       "      id_employee_employee  id_last_boss_employee  id_employee_boss  \\\n",
       "0                   100486                 102115          102115.0   \n",
       "1                   103752                 102074          102074.0   \n",
       "2                   103937                 102150          102150.0   \n",
       "3                   101744                 102172               NaN   \n",
       "4                   101037                 102060          102060.0   \n",
       "...                    ...                    ...               ...   \n",
       "2015                103755                 102161          102161.0   \n",
       "2016                103976                 102171               NaN   \n",
       "2017                104115                 102144               NaN   \n",
       "2018                103920                 102152               NaN   \n",
       "2019                103151                 102171               NaN   \n",
       "\n",
       "      id_last_boss_boss  \n",
       "0              102116.0  \n",
       "1              102028.0  \n",
       "2              102085.0  \n",
       "3                   NaN  \n",
       "4              102041.0  \n",
       "...                 ...  \n",
       "2015           102039.0  \n",
       "2016                NaN  \n",
       "2017                NaN  \n",
       "2018                NaN  \n",
       "2019                NaN  \n",
       "\n",
       "[2020 rows x 4 columns]"
      ]
     },
     "execution_count": 84,
     "metadata": {},
     "output_type": "execute_result"
    }
   ],
   "source": [
    "expanded_test_df[['id_employee_employee', 'id_last_boss_employee', 'id_employee_boss', 'id_last_boss_boss']]"
   ]
  },
  {
   "cell_type": "code",
   "execution_count": 81,
   "metadata": {},
   "outputs": [
    {
     "name": "stdout",
     "output_type": "stream",
     "text": [
      "<class 'pandas.core.frame.DataFrame'>\n",
      "RangeIndex: 2020 entries, 0 to 2019\n",
      "Data columns (total 34 columns):\n",
      " #   Column                        Non-Null Count  Dtype  \n",
      "---  ------                        --------------  -----  \n",
      " 0   id_employee_employee          2020 non-null   int64  \n",
      " 1   id_last_boss_employee         2020 non-null   int32  \n",
      " 2   seniority_employee            2020 non-null   int64  \n",
      " 3   work_modality_employee        2020 non-null   object \n",
      " 4   office_distance_employee      2020 non-null   float64\n",
      " 5   low_health_days_employee      2020 non-null   int64  \n",
      " 6   gender_employee               2020 non-null   object \n",
      " 7   recruitment_channel_employee  2020 non-null   object \n",
      " 8   average_permanence_employee   2020 non-null   int64  \n",
      " 9   salary_employee               2020 non-null   int64  \n",
      " 10  performance_score_employee    2020 non-null   int64  \n",
      " 11  psi_score_employee            2020 non-null   int64  \n",
      " 12  marital_estatus_employee      2020 non-null   object \n",
      " 13  join_age_employee             2020 non-null   int64  \n",
      " 14  join_year_employee            2020 non-null   int32  \n",
      " 15  join_month_employee           2020 non-null   int32  \n",
      " 16  performance_employee          2020 non-null   object \n",
      " 17  id_employee_boss              956 non-null    float64\n",
      " 18  id_last_boss_boss             956 non-null    float64\n",
      " 19  seniority_boss                956 non-null    float64\n",
      " 20  work_modality_boss            956 non-null    object \n",
      " 21  office_distance_boss          956 non-null    float64\n",
      " 22  low_health_days_boss          956 non-null    float64\n",
      " 23  gender_boss                   956 non-null    object \n",
      " 24  recruitment_channel_boss      956 non-null    object \n",
      " 25  average_permanence_boss       956 non-null    float64\n",
      " 26  salary_boss                   956 non-null    float64\n",
      " 27  performance_score_boss        956 non-null    float64\n",
      " 28  psi_score_boss                956 non-null    float64\n",
      " 29  marital_estatus_boss          956 non-null    object \n",
      " 30  join_age_boss                 956 non-null    float64\n",
      " 31  join_year_boss                956 non-null    float64\n",
      " 32  join_month_boss               956 non-null    float64\n",
      " 33  performance_boss              956 non-null    object \n",
      "dtypes: float64(13), int32(3), int64(8), object(10)\n",
      "memory usage: 513.0+ KB\n"
     ]
    }
   ],
   "source": [
    "expanded_test_df.info()"
   ]
  },
  {
   "cell_type": "markdown",
   "metadata": {},
   "source": [
    "## Missing Values treatment"
   ]
  },
  {
   "cell_type": "markdown",
   "metadata": {},
   "source": [
    "In order to impute missing values from new features from boss, let's make some notations and assumptions:\n",
    "\n",
    "- id_employee_boss, id_last_boss_boss, marital_estatus_boss, join_month_boss are not relevant\n",
    "- seniority_boss is not relevant since all boss have seniority 2\n",
    "- work_modality_boss, recruitment_channel_boss will be assumed to be the same from employee\n",
    "- gender_boss will be assumed as no relevant\n",
    "- Numerical features will be imputed using KNN Imputer\n",
    "- performance_boss will be determined after imputing numerical values"
   ]
  },
  {
   "cell_type": "code",
   "execution_count": 89,
   "metadata": {},
   "outputs": [],
   "source": [
    "y = expanded_train_df['resign']"
   ]
  },
  {
   "cell_type": "code",
   "execution_count": 91,
   "metadata": {},
   "outputs": [],
   "source": [
    "# Dropping columns\n",
    "\n",
    "expanded_train_df.drop(columns=['id_employee_boss', 'id_last_boss_boss',\n",
    "                                'marital_estatus_boss', 'join_month_boss',\n",
    "                                'seniority_boss', 'gender_boss', 'performance_boss'], inplace=True)\n",
    "\n",
    "expanded_test_df.drop(columns=['id_employee_boss', 'id_last_boss_boss',\n",
    "                                'marital_estatus_boss', 'join_month_boss',\n",
    "                                'seniority_boss', 'gender_boss', 'performance_boss'], inplace=True)"
   ]
  },
  {
   "cell_type": "code",
   "execution_count": 93,
   "metadata": {},
   "outputs": [],
   "source": [
    "# Dropping resign\n",
    "\n",
    "expanded_train_df.drop(columns=['resign'], inplace=True)"
   ]
  },
  {
   "cell_type": "code",
   "execution_count": 99,
   "metadata": {},
   "outputs": [
    {
     "name": "stderr",
     "output_type": "stream",
     "text": [
      "C:\\Users\\WILLIAM\\AppData\\Local\\Temp\\ipykernel_19320\\338459526.py:6: SettingWithCopyWarning: \n",
      "A value is trying to be set on a copy of a slice from a DataFrame.\n",
      "Try using .loc[row_indexer,col_indexer] = value instead\n",
      "\n",
      "See the caveats in the documentation: https://pandas.pydata.org/pandas-docs/stable/user_guide/indexing.html#returning-a-view-versus-a-copy\n",
      "  miss_train['work_modality_boss'] = miss_train['work_modality_employee']\n",
      "C:\\Users\\WILLIAM\\AppData\\Local\\Temp\\ipykernel_19320\\338459526.py:7: SettingWithCopyWarning: \n",
      "A value is trying to be set on a copy of a slice from a DataFrame.\n",
      "Try using .loc[row_indexer,col_indexer] = value instead\n",
      "\n",
      "See the caveats in the documentation: https://pandas.pydata.org/pandas-docs/stable/user_guide/indexing.html#returning-a-view-versus-a-copy\n",
      "  miss_train['recruitment_channel_boss'] = miss_train['recruitment_channel_employee']\n"
     ]
    }
   ],
   "source": [
    "# Imputing missing values from work_modality_boss and recruitment_channel_boss\n",
    "\n",
    "no_miss_train = expanded_train_df.dropna()\n",
    "miss_train = expanded_train_df[expanded_train_df.isna().any(axis=1)]\n",
    "\n",
    "miss_train['work_modality_boss'] = miss_train['work_modality_employee']\n",
    "miss_train['recruitment_channel_boss'] = miss_train['recruitment_channel_employee']\n",
    "\n",
    "expanded_train_df_clean = pd.concat([no_miss_train, miss_train], axis=0).sort_index()"
   ]
  },
  {
   "cell_type": "code",
   "execution_count": 102,
   "metadata": {},
   "outputs": [
    {
     "name": "stderr",
     "output_type": "stream",
     "text": [
      "C:\\Users\\WILLIAM\\AppData\\Local\\Temp\\ipykernel_19320\\1881566490.py:6: SettingWithCopyWarning: \n",
      "A value is trying to be set on a copy of a slice from a DataFrame.\n",
      "Try using .loc[row_indexer,col_indexer] = value instead\n",
      "\n",
      "See the caveats in the documentation: https://pandas.pydata.org/pandas-docs/stable/user_guide/indexing.html#returning-a-view-versus-a-copy\n",
      "  miss_test['work_modality_boss'] = miss_test['work_modality_employee']\n",
      "C:\\Users\\WILLIAM\\AppData\\Local\\Temp\\ipykernel_19320\\1881566490.py:7: SettingWithCopyWarning: \n",
      "A value is trying to be set on a copy of a slice from a DataFrame.\n",
      "Try using .loc[row_indexer,col_indexer] = value instead\n",
      "\n",
      "See the caveats in the documentation: https://pandas.pydata.org/pandas-docs/stable/user_guide/indexing.html#returning-a-view-versus-a-copy\n",
      "  miss_test['recruitment_channel_boss'] = miss_test['recruitment_channel_employee']\n"
     ]
    }
   ],
   "source": [
    "# Imputing missing values from work_modality_boss and recruitment_channel_boss\n",
    "\n",
    "no_miss_test = expanded_test_df.dropna()\n",
    "miss_test = expanded_test_df[expanded_test_df.isna().any(axis=1)]\n",
    "\n",
    "miss_test['work_modality_boss'] = miss_test['work_modality_employee']\n",
    "miss_test['recruitment_channel_boss'] = miss_test['recruitment_channel_employee']\n",
    "\n",
    "expanded_test_df_clean = pd.concat([no_miss_test, miss_test], axis=0).sort_index()"
   ]
  },
  {
   "cell_type": "code",
   "execution_count": 106,
   "metadata": {},
   "outputs": [],
   "source": [
    "# Preparing missing values imputation\n",
    "\n",
    "from sklearn.preprocessing import OneHotEncoder, PowerTransformer\n",
    "from sklearn.impute import KNNImputer"
   ]
  },
  {
   "cell_type": "code",
   "execution_count": 108,
   "metadata": {},
   "outputs": [],
   "source": [
    "# Saving ids\n",
    "\n",
    "train_ids = expanded_train_df_clean[['id_employee_employee', 'id_last_boss_employee']]\n",
    "test_ids = expanded_test_df_clean[['id_employee_employee', 'id_last_boss_employee']]"
   ]
  },
  {
   "cell_type": "code",
   "execution_count": 109,
   "metadata": {},
   "outputs": [],
   "source": [
    "# Dropping columns\n",
    "\n",
    "expanded_train_df_clean.drop(columns=['id_employee_employee', 'id_last_boss_employee'], inplace=True)\n",
    "expanded_test_df_clean.drop(columns=['id_employee_employee', 'id_last_boss_employee'], inplace=True)"
   ]
  },
  {
   "cell_type": "code",
   "execution_count": 111,
   "metadata": {},
   "outputs": [
    {
     "name": "stdout",
     "output_type": "stream",
     "text": [
      "<class 'pandas.core.frame.DataFrame'>\n",
      "Index: 2152 entries, 0 to 2151\n",
      "Data columns (total 25 columns):\n",
      " #   Column                        Non-Null Count  Dtype  \n",
      "---  ------                        --------------  -----  \n",
      " 0   seniority_employee            2152 non-null   int64  \n",
      " 1   work_modality_employee        2152 non-null   object \n",
      " 2   office_distance_employee      2152 non-null   float64\n",
      " 3   low_health_days_employee      2152 non-null   int64  \n",
      " 4   gender_employee               2152 non-null   object \n",
      " 5   recruitment_channel_employee  2152 non-null   object \n",
      " 6   average_permanence_employee   2152 non-null   int64  \n",
      " 7   salary_employee               2152 non-null   int64  \n",
      " 8   performance_score_employee    2152 non-null   float64\n",
      " 9   psi_score_employee            2152 non-null   int64  \n",
      " 10  marital_estatus_employee      2152 non-null   object \n",
      " 11  join_age_employee             2152 non-null   int64  \n",
      " 12  join_year_employee            2152 non-null   int32  \n",
      " 13  join_month_employee           2152 non-null   int32  \n",
      " 14  performance_employee          2152 non-null   object \n",
      " 15  work_modality_boss            2152 non-null   object \n",
      " 16  office_distance_boss          1116 non-null   float64\n",
      " 17  low_health_days_boss          1116 non-null   float64\n",
      " 18  recruitment_channel_boss      2152 non-null   object \n",
      " 19  average_permanence_boss       1116 non-null   float64\n",
      " 20  salary_boss                   1116 non-null   float64\n",
      " 21  performance_score_boss        1116 non-null   float64\n",
      " 22  psi_score_boss                1116 non-null   float64\n",
      " 23  join_age_boss                 1116 non-null   float64\n",
      " 24  join_year_boss                1116 non-null   float64\n",
      "dtypes: float64(10), int32(2), int64(6), object(7)\n",
      "memory usage: 420.3+ KB\n"
     ]
    }
   ],
   "source": [
    "expanded_train_df_clean.info()"
   ]
  },
  {
   "cell_type": "code",
   "execution_count": 115,
   "metadata": {},
   "outputs": [],
   "source": [
    "# Defining categorical and numerical columns\n",
    "\n",
    "cat_cols = ['seniority_employee', 'work_modality_employee', 'gender_employee', 'recruitment_channel_employee',\n",
    "            'marital_estatus_employee', 'join_year_employee', 'join_month_employee', 'performance_employee', \n",
    "            'work_modality_boss', 'recruitment_channel_boss']\n",
    "\n",
    "num_cols = ['office_distance_employee', 'low_health_days_employee', 'average_permanence_employee', 'salary_employee',\n",
    "            'performance_score_employee', 'psi_score_employee', 'join_age_employee', 'office_distance_boss', 'low_health_days_boss',\n",
    "            'average_permanence_boss', 'salary_boss', 'performance_score_boss', 'psi_score_boss', 'join_age_boss', 'join_year_boss']"
   ]
  },
  {
   "cell_type": "code",
   "execution_count": 118,
   "metadata": {},
   "outputs": [],
   "source": [
    "# Encoding categorical columns\n",
    "\n",
    "oh_encoder = OneHotEncoder(sparse_output=False, drop='first')\n",
    "\n",
    "train_clean_encoded = pd.DataFrame(oh_encoder.fit_transform(expanded_train_df_clean[cat_cols]))\n",
    "train_clean_encoded.columns = oh_encoder.get_feature_names_out(cat_cols)\n",
    "\n",
    "test_clean_encoded = pd.DataFrame(oh_encoder.transform(expanded_test_df_clean[cat_cols]))\n",
    "test_clean_encoded.columns = oh_encoder.get_feature_names_out(cat_cols)"
   ]
  },
  {
   "cell_type": "code",
   "execution_count": 124,
   "metadata": {},
   "outputs": [],
   "source": [
    "# Transforming numerical columns\n",
    "\n",
    "pt = PowerTransformer(method='yeo-johnson')\n",
    "\n",
    "train_clean_scaled = pd.DataFrame(pt.fit_transform(expanded_train_df_clean[num_cols]), columns=num_cols)\n",
    "\n",
    "test_clean_scaled = pd.DataFrame(pt.transform(expanded_test_df_clean[num_cols]), columns=num_cols)"
   ]
  },
  {
   "cell_type": "code",
   "execution_count": 125,
   "metadata": {},
   "outputs": [],
   "source": [
    "# Preparing df to make numerical imputation\n",
    "\n",
    "train_clean_final = pd.concat([train_clean_encoded, train_clean_scaled], axis=1)\n",
    "test_clean_final = pd.concat([test_clean_encoded, test_clean_scaled], axis=1)"
   ]
  },
  {
   "cell_type": "code",
   "execution_count": 127,
   "metadata": {},
   "outputs": [],
   "source": [
    "# Imputing missing values\n",
    "\n",
    "knn_imp = KNNImputer()\n",
    "\n",
    "train_clean_final = pd.DataFrame(knn_imp.fit_transform(train_clean_final), columns=train_clean_final.columns)\n",
    "test_clean_final = pd.DataFrame(knn_imp.transform(test_clean_final), columns=train_clean_final.columns)"
   ]
  },
  {
   "cell_type": "code",
   "execution_count": 128,
   "metadata": {},
   "outputs": [
    {
     "name": "stdout",
     "output_type": "stream",
     "text": [
      "<class 'pandas.core.frame.DataFrame'>\n",
      "RangeIndex: 2152 entries, 0 to 2151\n",
      "Data columns (total 53 columns):\n",
      " #   Column                                   Non-Null Count  Dtype  \n",
      "---  ------                                   --------------  -----  \n",
      " 0   seniority_employee_2                     2152 non-null   float64\n",
      " 1   work_modality_employee_Presencial        2152 non-null   float64\n",
      " 2   gender_employee_Mujer                    2152 non-null   float64\n",
      " 3   recruitment_channel_employee_Headhunter  2152 non-null   float64\n",
      " 4   recruitment_channel_employee_Linkedin    2152 non-null   float64\n",
      " 5   recruitment_channel_employee_Portal Web  2152 non-null   float64\n",
      " 6   recruitment_channel_employee_Referidos   2152 non-null   float64\n",
      " 7   marital_estatus_employee_Divorciado      2152 non-null   float64\n",
      " 8   marital_estatus_employee_Soltero         2152 non-null   float64\n",
      " 9   marital_estatus_employee_Viudo           2152 non-null   float64\n",
      " 10  join_year_employee_2013                  2152 non-null   float64\n",
      " 11  join_year_employee_2014                  2152 non-null   float64\n",
      " 12  join_year_employee_2015                  2152 non-null   float64\n",
      " 13  join_year_employee_2016                  2152 non-null   float64\n",
      " 14  join_year_employee_2017                  2152 non-null   float64\n",
      " 15  join_year_employee_2018                  2152 non-null   float64\n",
      " 16  join_year_employee_2019                  2152 non-null   float64\n",
      " 17  join_year_employee_2020                  2152 non-null   float64\n",
      " 18  join_year_employee_2021                  2152 non-null   float64\n",
      " 19  join_year_employee_2022                  2152 non-null   float64\n",
      " 20  join_year_employee_2023                  2152 non-null   float64\n",
      " 21  join_month_employee_2                    2152 non-null   float64\n",
      " 22  join_month_employee_3                    2152 non-null   float64\n",
      " 23  join_month_employee_4                    2152 non-null   float64\n",
      " 24  join_month_employee_5                    2152 non-null   float64\n",
      " 25  join_month_employee_6                    2152 non-null   float64\n",
      " 26  join_month_employee_7                    2152 non-null   float64\n",
      " 27  join_month_employee_8                    2152 non-null   float64\n",
      " 28  join_month_employee_9                    2152 non-null   float64\n",
      " 29  join_month_employee_10                   2152 non-null   float64\n",
      " 30  join_month_employee_11                   2152 non-null   float64\n",
      " 31  join_month_employee_12                   2152 non-null   float64\n",
      " 32  performance_employee_low                 2152 non-null   float64\n",
      " 33  work_modality_boss_Presencial            2152 non-null   float64\n",
      " 34  recruitment_channel_boss_Headhunter      2152 non-null   float64\n",
      " 35  recruitment_channel_boss_Linkedin        2152 non-null   float64\n",
      " 36  recruitment_channel_boss_Portal Web      2152 non-null   float64\n",
      " 37  recruitment_channel_boss_Referidos       2152 non-null   float64\n",
      " 38  office_distance_employee                 2152 non-null   float64\n",
      " 39  low_health_days_employee                 2152 non-null   float64\n",
      " 40  average_permanence_employee              2152 non-null   float64\n",
      " 41  salary_employee                          2152 non-null   float64\n",
      " 42  performance_score_employee               2152 non-null   float64\n",
      " 43  psi_score_employee                       2152 non-null   float64\n",
      " 44  join_age_employee                        2152 non-null   float64\n",
      " 45  office_distance_boss                     2152 non-null   float64\n",
      " 46  low_health_days_boss                     2152 non-null   float64\n",
      " 47  average_permanence_boss                  2152 non-null   float64\n",
      " 48  salary_boss                              2152 non-null   float64\n",
      " 49  performance_score_boss                   2152 non-null   float64\n",
      " 50  psi_score_boss                           2152 non-null   float64\n",
      " 51  join_age_boss                            2152 non-null   float64\n",
      " 52  join_year_boss                           2152 non-null   float64\n",
      "dtypes: float64(53)\n",
      "memory usage: 891.2 KB\n"
     ]
    }
   ],
   "source": [
    "train_clean_final.info()"
   ]
  },
  {
   "cell_type": "code",
   "execution_count": 129,
   "metadata": {},
   "outputs": [
    {
     "name": "stdout",
     "output_type": "stream",
     "text": [
      "<class 'pandas.core.frame.DataFrame'>\n",
      "RangeIndex: 2020 entries, 0 to 2019\n",
      "Data columns (total 53 columns):\n",
      " #   Column                                   Non-Null Count  Dtype  \n",
      "---  ------                                   --------------  -----  \n",
      " 0   seniority_employee_2                     2020 non-null   float64\n",
      " 1   work_modality_employee_Presencial        2020 non-null   float64\n",
      " 2   gender_employee_Mujer                    2020 non-null   float64\n",
      " 3   recruitment_channel_employee_Headhunter  2020 non-null   float64\n",
      " 4   recruitment_channel_employee_Linkedin    2020 non-null   float64\n",
      " 5   recruitment_channel_employee_Portal Web  2020 non-null   float64\n",
      " 6   recruitment_channel_employee_Referidos   2020 non-null   float64\n",
      " 7   marital_estatus_employee_Divorciado      2020 non-null   float64\n",
      " 8   marital_estatus_employee_Soltero         2020 non-null   float64\n",
      " 9   marital_estatus_employee_Viudo           2020 non-null   float64\n",
      " 10  join_year_employee_2013                  2020 non-null   float64\n",
      " 11  join_year_employee_2014                  2020 non-null   float64\n",
      " 12  join_year_employee_2015                  2020 non-null   float64\n",
      " 13  join_year_employee_2016                  2020 non-null   float64\n",
      " 14  join_year_employee_2017                  2020 non-null   float64\n",
      " 15  join_year_employee_2018                  2020 non-null   float64\n",
      " 16  join_year_employee_2019                  2020 non-null   float64\n",
      " 17  join_year_employee_2020                  2020 non-null   float64\n",
      " 18  join_year_employee_2021                  2020 non-null   float64\n",
      " 19  join_year_employee_2022                  2020 non-null   float64\n",
      " 20  join_year_employee_2023                  2020 non-null   float64\n",
      " 21  join_month_employee_2                    2020 non-null   float64\n",
      " 22  join_month_employee_3                    2020 non-null   float64\n",
      " 23  join_month_employee_4                    2020 non-null   float64\n",
      " 24  join_month_employee_5                    2020 non-null   float64\n",
      " 25  join_month_employee_6                    2020 non-null   float64\n",
      " 26  join_month_employee_7                    2020 non-null   float64\n",
      " 27  join_month_employee_8                    2020 non-null   float64\n",
      " 28  join_month_employee_9                    2020 non-null   float64\n",
      " 29  join_month_employee_10                   2020 non-null   float64\n",
      " 30  join_month_employee_11                   2020 non-null   float64\n",
      " 31  join_month_employee_12                   2020 non-null   float64\n",
      " 32  performance_employee_low                 2020 non-null   float64\n",
      " 33  work_modality_boss_Presencial            2020 non-null   float64\n",
      " 34  recruitment_channel_boss_Headhunter      2020 non-null   float64\n",
      " 35  recruitment_channel_boss_Linkedin        2020 non-null   float64\n",
      " 36  recruitment_channel_boss_Portal Web      2020 non-null   float64\n",
      " 37  recruitment_channel_boss_Referidos       2020 non-null   float64\n",
      " 38  office_distance_employee                 2020 non-null   float64\n",
      " 39  low_health_days_employee                 2020 non-null   float64\n",
      " 40  average_permanence_employee              2020 non-null   float64\n",
      " 41  salary_employee                          2020 non-null   float64\n",
      " 42  performance_score_employee               2020 non-null   float64\n",
      " 43  psi_score_employee                       2020 non-null   float64\n",
      " 44  join_age_employee                        2020 non-null   float64\n",
      " 45  office_distance_boss                     2020 non-null   float64\n",
      " 46  low_health_days_boss                     2020 non-null   float64\n",
      " 47  average_permanence_boss                  2020 non-null   float64\n",
      " 48  salary_boss                              2020 non-null   float64\n",
      " 49  performance_score_boss                   2020 non-null   float64\n",
      " 50  psi_score_boss                           2020 non-null   float64\n",
      " 51  join_age_boss                            2020 non-null   float64\n",
      " 52  join_year_boss                           2020 non-null   float64\n",
      "dtypes: float64(53)\n",
      "memory usage: 836.5 KB\n"
     ]
    }
   ],
   "source": [
    "test_clean_final.info()"
   ]
  },
  {
   "cell_type": "code",
   "execution_count": 146,
   "metadata": {},
   "outputs": [],
   "source": [
    "# Making inverse transformations\n",
    "\n",
    "train_cat_cols = pd.DataFrame(oh_encoder.inverse_transform(train_clean_final[train_clean_encoded.columns]), columns=cat_cols)\n",
    "test_cat_cols = pd.DataFrame(oh_encoder.inverse_transform(test_clean_final[train_clean_encoded.columns]), columns=cat_cols)\n",
    "\n",
    "train_num_cols = pd.DataFrame(pt.inverse_transform(train_clean_final[num_cols]), columns=num_cols)\n",
    "test_num_cols = pd.DataFrame(pt.inverse_transform(test_clean_final[num_cols]), columns=num_cols)"
   ]
  },
  {
   "cell_type": "markdown",
   "metadata": {},
   "source": [
    "From original data it's known that all numerical columns but office_distance are integers."
   ]
  },
  {
   "cell_type": "code",
   "execution_count": 148,
   "metadata": {},
   "outputs": [],
   "source": [
    "# Changing dtypes\n",
    "\n",
    "float_cols = ['office_distance_employee', 'office_distance_boss']\n",
    "int_cols = [col for col in num_cols if col not in float_cols]\n",
    "\n",
    "train_num_cols[int_cols] = train_num_cols[int_cols].astype(int)\n",
    "test_num_cols[int_cols] = test_num_cols[int_cols].astype(int)"
   ]
  },
  {
   "cell_type": "code",
   "execution_count": 150,
   "metadata": {},
   "outputs": [],
   "source": [
    "# Concatenating all features\n",
    "\n",
    "train_final = pd.concat([train_ids, train_cat_cols, train_num_cols, y], axis=1)\n",
    "test_final = pd.concat([test_ids, test_cat_cols, test_num_cols], axis=1)"
   ]
  },
  {
   "cell_type": "code",
   "execution_count": 151,
   "metadata": {},
   "outputs": [
    {
     "name": "stdout",
     "output_type": "stream",
     "text": [
      "<class 'pandas.core.frame.DataFrame'>\n",
      "Index: 2152 entries, 0 to 2151\n",
      "Data columns (total 28 columns):\n",
      " #   Column                        Non-Null Count  Dtype  \n",
      "---  ------                        --------------  -----  \n",
      " 0   id_employee_employee          2152 non-null   int64  \n",
      " 1   id_last_boss_employee         2152 non-null   int32  \n",
      " 2   seniority_employee            2152 non-null   object \n",
      " 3   work_modality_employee        2152 non-null   object \n",
      " 4   gender_employee               2152 non-null   object \n",
      " 5   recruitment_channel_employee  2152 non-null   object \n",
      " 6   marital_estatus_employee      2152 non-null   object \n",
      " 7   join_year_employee            2152 non-null   object \n",
      " 8   join_month_employee           2152 non-null   object \n",
      " 9   performance_employee          2152 non-null   object \n",
      " 10  work_modality_boss            2152 non-null   object \n",
      " 11  recruitment_channel_boss      2152 non-null   object \n",
      " 12  office_distance_employee      2152 non-null   float64\n",
      " 13  low_health_days_employee      2152 non-null   int32  \n",
      " 14  average_permanence_employee   2152 non-null   int32  \n",
      " 15  salary_employee               2152 non-null   int32  \n",
      " 16  performance_score_employee    2152 non-null   int32  \n",
      " 17  psi_score_employee            2152 non-null   int32  \n",
      " 18  join_age_employee             2152 non-null   int32  \n",
      " 19  office_distance_boss          2152 non-null   float64\n",
      " 20  low_health_days_boss          2152 non-null   int32  \n",
      " 21  average_permanence_boss       2152 non-null   int32  \n",
      " 22  salary_boss                   2152 non-null   int32  \n",
      " 23  performance_score_boss        2152 non-null   int32  \n",
      " 24  psi_score_boss                2152 non-null   int32  \n",
      " 25  join_age_boss                 2152 non-null   int32  \n",
      " 26  join_year_boss                2152 non-null   int32  \n",
      " 27  resign                        2152 non-null   int64  \n",
      "dtypes: float64(2), int32(14), int64(2), object(10)\n",
      "memory usage: 369.9+ KB\n"
     ]
    }
   ],
   "source": [
    "train_final.info()"
   ]
  },
  {
   "cell_type": "code",
   "execution_count": 152,
   "metadata": {},
   "outputs": [
    {
     "name": "stdout",
     "output_type": "stream",
     "text": [
      "<class 'pandas.core.frame.DataFrame'>\n",
      "Index: 2020 entries, 0 to 2019\n",
      "Data columns (total 27 columns):\n",
      " #   Column                        Non-Null Count  Dtype  \n",
      "---  ------                        --------------  -----  \n",
      " 0   id_employee_employee          2020 non-null   int64  \n",
      " 1   id_last_boss_employee         2020 non-null   int32  \n",
      " 2   seniority_employee            2020 non-null   object \n",
      " 3   work_modality_employee        2020 non-null   object \n",
      " 4   gender_employee               2020 non-null   object \n",
      " 5   recruitment_channel_employee  2020 non-null   object \n",
      " 6   marital_estatus_employee      2020 non-null   object \n",
      " 7   join_year_employee            2020 non-null   object \n",
      " 8   join_month_employee           2020 non-null   object \n",
      " 9   performance_employee          2020 non-null   object \n",
      " 10  work_modality_boss            2020 non-null   object \n",
      " 11  recruitment_channel_boss      2020 non-null   object \n",
      " 12  office_distance_employee      2020 non-null   float64\n",
      " 13  low_health_days_employee      2020 non-null   int32  \n",
      " 14  average_permanence_employee   2020 non-null   int32  \n",
      " 15  salary_employee               2020 non-null   int32  \n",
      " 16  performance_score_employee    2020 non-null   int32  \n",
      " 17  psi_score_employee            2020 non-null   int32  \n",
      " 18  join_age_employee             2020 non-null   int32  \n",
      " 19  office_distance_boss          2020 non-null   float64\n",
      " 20  low_health_days_boss          2020 non-null   int32  \n",
      " 21  average_permanence_boss       2020 non-null   int32  \n",
      " 22  salary_boss                   2020 non-null   int32  \n",
      " 23  performance_score_boss        2020 non-null   int32  \n",
      " 24  psi_score_boss                2020 non-null   int32  \n",
      " 25  join_age_boss                 2020 non-null   int32  \n",
      " 26  join_year_boss                2020 non-null   int32  \n",
      "dtypes: float64(2), int32(14), int64(1), object(10)\n",
      "memory usage: 331.4+ KB\n"
     ]
    }
   ],
   "source": [
    "test_final.info()"
   ]
  },
  {
   "cell_type": "markdown",
   "metadata": {},
   "source": [
    "## Creating new features"
   ]
  },
  {
   "cell_type": "markdown",
   "metadata": {},
   "source": [
    "These new features allow us to make new features such as salary difference, age difference and boss_performance"
   ]
  },
  {
   "cell_type": "code",
   "execution_count": 167,
   "metadata": {},
   "outputs": [],
   "source": [
    "# Creating new features\n",
    "\n",
    "train_final['salary_diff'] = train_final['salary_boss'] - train_final['salary_employee']\n",
    "train_final['age_diff'] = train_final['join_age_boss'] - train_final['join_age_employee']\n",
    "train_final['performance_boss'] = ['high' if value > 80 else 'low' for value in train_final['performance_score_boss']]\n",
    "\n",
    "test_final['salary_diff'] = train_final['salary_boss'] - train_final['salary_employee']\n",
    "test_final['age_diff'] = train_final['join_age_boss'] - train_final['join_age_employee']\n",
    "test_final['performance_boss'] = ['high' if value > 80 else 'low' for value in test_final['performance_score_boss']]"
   ]
  },
  {
   "cell_type": "code",
   "execution_count": 170,
   "metadata": {},
   "outputs": [
    {
     "name": "stdout",
     "output_type": "stream",
     "text": [
      "<class 'pandas.core.frame.DataFrame'>\n",
      "Index: 2152 entries, 0 to 2151\n",
      "Data columns (total 31 columns):\n",
      " #   Column                        Non-Null Count  Dtype  \n",
      "---  ------                        --------------  -----  \n",
      " 0   id_employee_employee          2152 non-null   int64  \n",
      " 1   id_last_boss_employee         2152 non-null   int32  \n",
      " 2   seniority_employee            2152 non-null   object \n",
      " 3   work_modality_employee        2152 non-null   object \n",
      " 4   gender_employee               2152 non-null   object \n",
      " 5   recruitment_channel_employee  2152 non-null   object \n",
      " 6   marital_estatus_employee      2152 non-null   object \n",
      " 7   join_year_employee            2152 non-null   object \n",
      " 8   join_month_employee           2152 non-null   object \n",
      " 9   performance_employee          2152 non-null   object \n",
      " 10  work_modality_boss            2152 non-null   object \n",
      " 11  recruitment_channel_boss      2152 non-null   object \n",
      " 12  office_distance_employee      2152 non-null   float64\n",
      " 13  low_health_days_employee      2152 non-null   int32  \n",
      " 14  average_permanence_employee   2152 non-null   int32  \n",
      " 15  salary_employee               2152 non-null   int32  \n",
      " 16  performance_score_employee    2152 non-null   int32  \n",
      " 17  psi_score_employee            2152 non-null   int32  \n",
      " 18  join_age_employee             2152 non-null   int32  \n",
      " 19  office_distance_boss          2152 non-null   float64\n",
      " 20  low_health_days_boss          2152 non-null   int32  \n",
      " 21  average_permanence_boss       2152 non-null   int32  \n",
      " 22  salary_boss                   2152 non-null   int32  \n",
      " 23  performance_score_boss        2152 non-null   int32  \n",
      " 24  psi_score_boss                2152 non-null   int32  \n",
      " 25  join_age_boss                 2152 non-null   int32  \n",
      " 26  join_year_boss                2152 non-null   int32  \n",
      " 27  resign                        2152 non-null   int64  \n",
      " 28  salary_diff                   2152 non-null   int32  \n",
      " 29  age_diff                      2152 non-null   int32  \n",
      " 30  performance_boss              2152 non-null   object \n",
      "dtypes: float64(2), int32(16), int64(2), object(11)\n",
      "memory usage: 468.0+ KB\n"
     ]
    }
   ],
   "source": [
    "train_final.info()"
   ]
  },
  {
   "cell_type": "code",
   "execution_count": 171,
   "metadata": {},
   "outputs": [
    {
     "name": "stdout",
     "output_type": "stream",
     "text": [
      "<class 'pandas.core.frame.DataFrame'>\n",
      "Index: 2020 entries, 0 to 2019\n",
      "Data columns (total 30 columns):\n",
      " #   Column                        Non-Null Count  Dtype  \n",
      "---  ------                        --------------  -----  \n",
      " 0   id_employee_employee          2020 non-null   int64  \n",
      " 1   id_last_boss_employee         2020 non-null   int32  \n",
      " 2   seniority_employee            2020 non-null   object \n",
      " 3   work_modality_employee        2020 non-null   object \n",
      " 4   gender_employee               2020 non-null   object \n",
      " 5   recruitment_channel_employee  2020 non-null   object \n",
      " 6   marital_estatus_employee      2020 non-null   object \n",
      " 7   join_year_employee            2020 non-null   object \n",
      " 8   join_month_employee           2020 non-null   object \n",
      " 9   performance_employee          2020 non-null   object \n",
      " 10  work_modality_boss            2020 non-null   object \n",
      " 11  recruitment_channel_boss      2020 non-null   object \n",
      " 12  office_distance_employee      2020 non-null   float64\n",
      " 13  low_health_days_employee      2020 non-null   int32  \n",
      " 14  average_permanence_employee   2020 non-null   int32  \n",
      " 15  salary_employee               2020 non-null   int32  \n",
      " 16  performance_score_employee    2020 non-null   int32  \n",
      " 17  psi_score_employee            2020 non-null   int32  \n",
      " 18  join_age_employee             2020 non-null   int32  \n",
      " 19  office_distance_boss          2020 non-null   float64\n",
      " 20  low_health_days_boss          2020 non-null   int32  \n",
      " 21  average_permanence_boss       2020 non-null   int32  \n",
      " 22  salary_boss                   2020 non-null   int32  \n",
      " 23  performance_score_boss        2020 non-null   int32  \n",
      " 24  psi_score_boss                2020 non-null   int32  \n",
      " 25  join_age_boss                 2020 non-null   int32  \n",
      " 26  join_year_boss                2020 non-null   int32  \n",
      " 27  salary_diff                   2020 non-null   int32  \n",
      " 28  age_diff                      2020 non-null   int32  \n",
      " 29  performance_boss              2020 non-null   object \n",
      "dtypes: float64(2), int32(16), int64(1), object(11)\n",
      "memory usage: 363.0+ KB\n"
     ]
    }
   ],
   "source": [
    "test_final.info()"
   ]
  },
  {
   "cell_type": "markdown",
   "metadata": {},
   "source": [
    "## Saving clean data"
   ]
  },
  {
   "cell_type": "code",
   "execution_count": 169,
   "metadata": {},
   "outputs": [],
   "source": [
    "train_final.to_csv(paths.data_interim_dir('train_clean.csv'), index=False, sep=',')\n",
    "\n",
    "test_final.to_csv(paths.data_interim_dir('test_clean.csv'), index=False, sep=',')"
   ]
  }
 ],
 "metadata": {
  "kernelspec": {
   "display_name": "Python 3",
   "language": "python",
   "name": "python3"
  },
  "language_info": {
   "codemirror_mode": {
    "name": "ipython",
    "version": 3
   },
   "file_extension": ".py",
   "mimetype": "text/x-python",
   "name": "python",
   "nbconvert_exporter": "python",
   "pygments_lexer": "ipython3",
   "version": "3.9.18"
  }
 },
 "nbformat": 4,
 "nbformat_minor": 2
}
