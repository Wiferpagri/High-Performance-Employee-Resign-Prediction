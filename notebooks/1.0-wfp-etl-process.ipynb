{
 "cells": [
  {
   "cell_type": "markdown",
   "metadata": {},
   "source": [
    "# ETL Process to clean data before analysis"
   ]
  },
  {
   "cell_type": "markdown",
   "metadata": {},
   "source": [
    "## Preparing environment"
   ]
  },
  {
   "cell_type": "code",
   "execution_count": 1,
   "metadata": {},
   "outputs": [],
   "source": [
    "import pandas as pd"
   ]
  },
  {
   "cell_type": "code",
   "execution_count": 8,
   "metadata": {},
   "outputs": [],
   "source": [
    "import sys\n",
    "sys.path.append('../high_performance_employee_resign_prediction')\n",
    "from utils import paths"
   ]
  },
  {
   "cell_type": "markdown",
   "metadata": {},
   "source": [
    "## Data Dictionary\n",
    "\n",
    "* id_colaborador - Employee ID\n",
    "* id_ultimo_jefe - Boss ID\n",
    "* seniority - 1: For people who don't have anyone in charge, 2: For those who have people in charge\n",
    "* modalidad_trabajo - Work modality specified on employee contract\n",
    "* distancia_oficina -  Distance in kilometers from employee home to work.\n",
    "* dias_baja_salud -  Number of days pf justified sick leave since employee started to work for the company.\n",
    "* genero - Employee gender\n",
    "* canal_reclutamiento - Indicates the means by which the application process took place. \n",
    "* permanencia_promedio - Mean time in years that the employee has worked in previous laboral experience.\n",
    "* fecha_nacimiento - Birth date in format dd/mm/yyyy.\n",
    "* salario - It is the amount corresponding to the monthly remuneration received.\n",
    "* psi_score - Is the score obtained in psychometric test during selection process.\n",
    "* fecha_incorporación - Date when the employee started to work for the company.\n",
    "* estado_civil - Marital Status.\n",
    "* performance_score - Is the score obtained by the employee it his last quarterly performance test if he had.\n",
    "* abandono_6meses - \"0\" if employee continues working or \"1\" if employee left the company on his first 6 months."
   ]
  },
  {
   "cell_type": "markdown",
   "metadata": {},
   "source": [
    "## Extracting data"
   ]
  },
  {
   "cell_type": "code",
   "execution_count": 11,
   "metadata": {},
   "outputs": [],
   "source": [
    "train_df = pd.read_csv(paths.data_raw_dir('train_data.csv'), sep=';')\n",
    "\n",
    "test_df = pd.read_csv(paths.data_raw_dir('test_data.csv'), sep=';')"
   ]
  },
  {
   "cell_type": "markdown",
   "metadata": {},
   "source": [
    "## Checking data"
   ]
  },
  {
   "cell_type": "code",
   "execution_count": 12,
   "metadata": {},
   "outputs": [
    {
     "name": "stdout",
     "output_type": "stream",
     "text": [
      "<class 'pandas.core.frame.DataFrame'>\n",
      "RangeIndex: 2152 entries, 0 to 2151\n",
      "Data columns (total 16 columns):\n",
      " #   Column                Non-Null Count  Dtype  \n",
      "---  ------                --------------  -----  \n",
      " 0   id_colaborador        2152 non-null   int64  \n",
      " 1   id_ultimo_jefe        2061 non-null   float64\n",
      " 2   seniority             2152 non-null   int64  \n",
      " 3   modalidad_trabajo     2152 non-null   object \n",
      " 4   distancia_oficina     2152 non-null   float64\n",
      " 5   dias_baja_salud       2152 non-null   int64  \n",
      " 6   genero                2152 non-null   object \n",
      " 7   canal_reclutamiento   2152 non-null   object \n",
      " 8   permanencia_promedio  2152 non-null   int64  \n",
      " 9   fecha_nacimiento      2152 non-null   object \n",
      " 10  salario               2152 non-null   int64  \n",
      " 11  performance_score     2084 non-null   float64\n",
      " 12  psi_score             2152 non-null   int64  \n",
      " 13  fecha_incorporacion   2152 non-null   object \n",
      " 14  estado_civil          2152 non-null   object \n",
      " 15  abandono_6meses       2152 non-null   int64  \n",
      "dtypes: float64(3), int64(7), object(6)\n",
      "memory usage: 269.1+ KB\n"
     ]
    }
   ],
   "source": [
    "train_df.info()"
   ]
  },
  {
   "cell_type": "code",
   "execution_count": 13,
   "metadata": {},
   "outputs": [
    {
     "name": "stdout",
     "output_type": "stream",
     "text": [
      "<class 'pandas.core.frame.DataFrame'>\n",
      "RangeIndex: 2020 entries, 0 to 2019\n",
      "Data columns (total 15 columns):\n",
      " #   Column                Non-Null Count  Dtype  \n",
      "---  ------                --------------  -----  \n",
      " 0   id_colaborador        2020 non-null   int64  \n",
      " 1   id_ultimo_jefe        1937 non-null   float64\n",
      " 2   seniority             2020 non-null   int64  \n",
      " 3   modalidad_trabajo     2020 non-null   object \n",
      " 4   distancia_oficina     2020 non-null   float64\n",
      " 5   dias_baja_salud       2020 non-null   int64  \n",
      " 6   genero                2020 non-null   object \n",
      " 7   canal_reclutamiento   2020 non-null   object \n",
      " 8   permanencia_promedio  2020 non-null   int64  \n",
      " 9   fecha_nacimiento      2020 non-null   object \n",
      " 10  salario               2020 non-null   int64  \n",
      " 11  performance_score     2020 non-null   int64  \n",
      " 12  psi_score             2020 non-null   int64  \n",
      " 13  fecha_incorporacion   2020 non-null   object \n",
      " 14  estado_civil          2020 non-null   object \n",
      "dtypes: float64(2), int64(7), object(6)\n",
      "memory usage: 236.8+ KB\n"
     ]
    }
   ],
   "source": [
    "test_df.info()"
   ]
  },
  {
   "cell_type": "code",
   "execution_count": 14,
   "metadata": {},
   "outputs": [
    {
     "data": {
      "text/html": [
       "<div>\n",
       "<style scoped>\n",
       "    .dataframe tbody tr th:only-of-type {\n",
       "        vertical-align: middle;\n",
       "    }\n",
       "\n",
       "    .dataframe tbody tr th {\n",
       "        vertical-align: top;\n",
       "    }\n",
       "\n",
       "    .dataframe thead th {\n",
       "        text-align: right;\n",
       "    }\n",
       "</style>\n",
       "<table border=\"1\" class=\"dataframe\">\n",
       "  <thead>\n",
       "    <tr style=\"text-align: right;\">\n",
       "      <th></th>\n",
       "      <th>id_colaborador</th>\n",
       "      <th>id_ultimo_jefe</th>\n",
       "      <th>seniority</th>\n",
       "      <th>distancia_oficina</th>\n",
       "      <th>dias_baja_salud</th>\n",
       "      <th>permanencia_promedio</th>\n",
       "      <th>salario</th>\n",
       "      <th>performance_score</th>\n",
       "      <th>psi_score</th>\n",
       "      <th>abandono_6meses</th>\n",
       "    </tr>\n",
       "  </thead>\n",
       "  <tbody>\n",
       "    <tr>\n",
       "      <th>count</th>\n",
       "      <td>2152.000000</td>\n",
       "      <td>2061.000000</td>\n",
       "      <td>2152.000000</td>\n",
       "      <td>2152.000000</td>\n",
       "      <td>2152.000000</td>\n",
       "      <td>2152.000000</td>\n",
       "      <td>2.152000e+03</td>\n",
       "      <td>2084.000000</td>\n",
       "      <td>2152.000000</td>\n",
       "      <td>2152.000000</td>\n",
       "    </tr>\n",
       "    <tr>\n",
       "      <th>mean</th>\n",
       "      <td>102070.160781</td>\n",
       "      <td>102090.326055</td>\n",
       "      <td>1.042286</td>\n",
       "      <td>3.111768</td>\n",
       "      <td>2.709108</td>\n",
       "      <td>6.644981</td>\n",
       "      <td>4.570211e+05</td>\n",
       "      <td>63.472169</td>\n",
       "      <td>75.286245</td>\n",
       "      <td>0.466078</td>\n",
       "    </tr>\n",
       "    <tr>\n",
       "      <th>std</th>\n",
       "      <td>1210.999342</td>\n",
       "      <td>43.586010</td>\n",
       "      <td>0.201288</td>\n",
       "      <td>1.789050</td>\n",
       "      <td>2.982975</td>\n",
       "      <td>4.283794</td>\n",
       "      <td>3.029435e+05</td>\n",
       "      <td>23.110594</td>\n",
       "      <td>6.050987</td>\n",
       "      <td>0.498964</td>\n",
       "    </tr>\n",
       "    <tr>\n",
       "      <th>min</th>\n",
       "      <td>100001.000000</td>\n",
       "      <td>102000.000000</td>\n",
       "      <td>1.000000</td>\n",
       "      <td>0.120000</td>\n",
       "      <td>0.000000</td>\n",
       "      <td>1.000000</td>\n",
       "      <td>7.652100e+04</td>\n",
       "      <td>5.000000</td>\n",
       "      <td>58.000000</td>\n",
       "      <td>0.000000</td>\n",
       "    </tr>\n",
       "    <tr>\n",
       "      <th>25%</th>\n",
       "      <td>101028.750000</td>\n",
       "      <td>102054.000000</td>\n",
       "      <td>1.000000</td>\n",
       "      <td>1.818750</td>\n",
       "      <td>1.000000</td>\n",
       "      <td>3.000000</td>\n",
       "      <td>2.604398e+05</td>\n",
       "      <td>42.000000</td>\n",
       "      <td>71.000000</td>\n",
       "      <td>0.000000</td>\n",
       "    </tr>\n",
       "    <tr>\n",
       "      <th>50%</th>\n",
       "      <td>102048.500000</td>\n",
       "      <td>102091.000000</td>\n",
       "      <td>1.000000</td>\n",
       "      <td>2.510000</td>\n",
       "      <td>2.000000</td>\n",
       "      <td>6.000000</td>\n",
       "      <td>3.734225e+05</td>\n",
       "      <td>65.000000</td>\n",
       "      <td>75.000000</td>\n",
       "      <td>0.000000</td>\n",
       "    </tr>\n",
       "    <tr>\n",
       "      <th>75%</th>\n",
       "      <td>103135.500000</td>\n",
       "      <td>102127.000000</td>\n",
       "      <td>1.000000</td>\n",
       "      <td>4.151250</td>\n",
       "      <td>3.000000</td>\n",
       "      <td>9.000000</td>\n",
       "      <td>6.741930e+05</td>\n",
       "      <td>90.000000</td>\n",
       "      <td>79.000000</td>\n",
       "      <td>1.000000</td>\n",
       "    </tr>\n",
       "    <tr>\n",
       "      <th>max</th>\n",
       "      <td>104171.000000</td>\n",
       "      <td>102172.000000</td>\n",
       "      <td>2.000000</td>\n",
       "      <td>21.050000</td>\n",
       "      <td>35.000000</td>\n",
       "      <td>25.000000</td>\n",
       "      <td>1.900000e+06</td>\n",
       "      <td>99.000000</td>\n",
       "      <td>98.000000</td>\n",
       "      <td>1.000000</td>\n",
       "    </tr>\n",
       "  </tbody>\n",
       "</table>\n",
       "</div>"
      ],
      "text/plain": [
       "       id_colaborador  id_ultimo_jefe    seniority  distancia_oficina  \\\n",
       "count     2152.000000     2061.000000  2152.000000        2152.000000   \n",
       "mean    102070.160781   102090.326055     1.042286           3.111768   \n",
       "std       1210.999342       43.586010     0.201288           1.789050   \n",
       "min     100001.000000   102000.000000     1.000000           0.120000   \n",
       "25%     101028.750000   102054.000000     1.000000           1.818750   \n",
       "50%     102048.500000   102091.000000     1.000000           2.510000   \n",
       "75%     103135.500000   102127.000000     1.000000           4.151250   \n",
       "max     104171.000000   102172.000000     2.000000          21.050000   \n",
       "\n",
       "       dias_baja_salud  permanencia_promedio       salario  performance_score  \\\n",
       "count      2152.000000           2152.000000  2.152000e+03        2084.000000   \n",
       "mean          2.709108              6.644981  4.570211e+05          63.472169   \n",
       "std           2.982975              4.283794  3.029435e+05          23.110594   \n",
       "min           0.000000              1.000000  7.652100e+04           5.000000   \n",
       "25%           1.000000              3.000000  2.604398e+05          42.000000   \n",
       "50%           2.000000              6.000000  3.734225e+05          65.000000   \n",
       "75%           3.000000              9.000000  6.741930e+05          90.000000   \n",
       "max          35.000000             25.000000  1.900000e+06          99.000000   \n",
       "\n",
       "         psi_score  abandono_6meses  \n",
       "count  2152.000000      2152.000000  \n",
       "mean     75.286245         0.466078  \n",
       "std       6.050987         0.498964  \n",
       "min      58.000000         0.000000  \n",
       "25%      71.000000         0.000000  \n",
       "50%      75.000000         0.000000  \n",
       "75%      79.000000         1.000000  \n",
       "max      98.000000         1.000000  "
      ]
     },
     "execution_count": 14,
     "metadata": {},
     "output_type": "execute_result"
    }
   ],
   "source": [
    "train_df.describe()"
   ]
  },
  {
   "cell_type": "code",
   "execution_count": 15,
   "metadata": {},
   "outputs": [
    {
     "data": {
      "text/html": [
       "<div>\n",
       "<style scoped>\n",
       "    .dataframe tbody tr th:only-of-type {\n",
       "        vertical-align: middle;\n",
       "    }\n",
       "\n",
       "    .dataframe tbody tr th {\n",
       "        vertical-align: top;\n",
       "    }\n",
       "\n",
       "    .dataframe thead th {\n",
       "        text-align: right;\n",
       "    }\n",
       "</style>\n",
       "<table border=\"1\" class=\"dataframe\">\n",
       "  <thead>\n",
       "    <tr style=\"text-align: right;\">\n",
       "      <th></th>\n",
       "      <th>id_colaborador</th>\n",
       "      <th>id_ultimo_jefe</th>\n",
       "      <th>seniority</th>\n",
       "      <th>distancia_oficina</th>\n",
       "      <th>dias_baja_salud</th>\n",
       "      <th>permanencia_promedio</th>\n",
       "      <th>salario</th>\n",
       "      <th>performance_score</th>\n",
       "      <th>psi_score</th>\n",
       "    </tr>\n",
       "  </thead>\n",
       "  <tbody>\n",
       "    <tr>\n",
       "      <th>count</th>\n",
       "      <td>2020.000000</td>\n",
       "      <td>1937.000000</td>\n",
       "      <td>2020.000000</td>\n",
       "      <td>2020.000000</td>\n",
       "      <td>2020.000000</td>\n",
       "      <td>2020.000000</td>\n",
       "      <td>2.020000e+03</td>\n",
       "      <td>2020.000000</td>\n",
       "      <td>2020.00000</td>\n",
       "    </tr>\n",
       "    <tr>\n",
       "      <th>mean</th>\n",
       "      <td>102103.807921</td>\n",
       "      <td>102089.646877</td>\n",
       "      <td>1.041089</td>\n",
       "      <td>3.059394</td>\n",
       "      <td>2.662376</td>\n",
       "      <td>6.713366</td>\n",
       "      <td>4.638236e+05</td>\n",
       "      <td>89.146040</td>\n",
       "      <td>75.44505</td>\n",
       "    </tr>\n",
       "    <tr>\n",
       "      <th>std</th>\n",
       "      <td>1197.751058</td>\n",
       "      <td>43.691244</td>\n",
       "      <td>0.198545</td>\n",
       "      <td>1.637131</td>\n",
       "      <td>2.817351</td>\n",
       "      <td>4.307580</td>\n",
       "      <td>3.063601e+05</td>\n",
       "      <td>4.851837</td>\n",
       "      <td>6.00944</td>\n",
       "    </tr>\n",
       "    <tr>\n",
       "      <th>min</th>\n",
       "      <td>100000.000000</td>\n",
       "      <td>102000.000000</td>\n",
       "      <td>1.000000</td>\n",
       "      <td>0.110000</td>\n",
       "      <td>0.000000</td>\n",
       "      <td>1.000000</td>\n",
       "      <td>7.551700e+04</td>\n",
       "      <td>80.000000</td>\n",
       "      <td>58.00000</td>\n",
       "    </tr>\n",
       "    <tr>\n",
       "      <th>25%</th>\n",
       "      <td>101071.250000</td>\n",
       "      <td>102052.000000</td>\n",
       "      <td>1.000000</td>\n",
       "      <td>1.805000</td>\n",
       "      <td>1.000000</td>\n",
       "      <td>3.000000</td>\n",
       "      <td>2.663110e+05</td>\n",
       "      <td>85.000000</td>\n",
       "      <td>71.00000</td>\n",
       "    </tr>\n",
       "    <tr>\n",
       "      <th>50%</th>\n",
       "      <td>102117.500000</td>\n",
       "      <td>102089.000000</td>\n",
       "      <td>1.000000</td>\n",
       "      <td>2.542500</td>\n",
       "      <td>2.000000</td>\n",
       "      <td>6.000000</td>\n",
       "      <td>3.747200e+05</td>\n",
       "      <td>90.000000</td>\n",
       "      <td>76.00000</td>\n",
       "    </tr>\n",
       "    <tr>\n",
       "      <th>75%</th>\n",
       "      <td>103126.250000</td>\n",
       "      <td>102126.000000</td>\n",
       "      <td>1.000000</td>\n",
       "      <td>4.000000</td>\n",
       "      <td>3.000000</td>\n",
       "      <td>9.000000</td>\n",
       "      <td>6.763075e+05</td>\n",
       "      <td>92.000000</td>\n",
       "      <td>79.00000</td>\n",
       "    </tr>\n",
       "    <tr>\n",
       "      <th>max</th>\n",
       "      <td>104172.000000</td>\n",
       "      <td>102172.000000</td>\n",
       "      <td>2.000000</td>\n",
       "      <td>14.045000</td>\n",
       "      <td>23.000000</td>\n",
       "      <td>27.000000</td>\n",
       "      <td>1.900000e+06</td>\n",
       "      <td>99.000000</td>\n",
       "      <td>98.00000</td>\n",
       "    </tr>\n",
       "  </tbody>\n",
       "</table>\n",
       "</div>"
      ],
      "text/plain": [
       "       id_colaborador  id_ultimo_jefe    seniority  distancia_oficina  \\\n",
       "count     2020.000000     1937.000000  2020.000000        2020.000000   \n",
       "mean    102103.807921   102089.646877     1.041089           3.059394   \n",
       "std       1197.751058       43.691244     0.198545           1.637131   \n",
       "min     100000.000000   102000.000000     1.000000           0.110000   \n",
       "25%     101071.250000   102052.000000     1.000000           1.805000   \n",
       "50%     102117.500000   102089.000000     1.000000           2.542500   \n",
       "75%     103126.250000   102126.000000     1.000000           4.000000   \n",
       "max     104172.000000   102172.000000     2.000000          14.045000   \n",
       "\n",
       "       dias_baja_salud  permanencia_promedio       salario  performance_score  \\\n",
       "count      2020.000000           2020.000000  2.020000e+03        2020.000000   \n",
       "mean          2.662376              6.713366  4.638236e+05          89.146040   \n",
       "std           2.817351              4.307580  3.063601e+05           4.851837   \n",
       "min           0.000000              1.000000  7.551700e+04          80.000000   \n",
       "25%           1.000000              3.000000  2.663110e+05          85.000000   \n",
       "50%           2.000000              6.000000  3.747200e+05          90.000000   \n",
       "75%           3.000000              9.000000  6.763075e+05          92.000000   \n",
       "max          23.000000             27.000000  1.900000e+06          99.000000   \n",
       "\n",
       "        psi_score  \n",
       "count  2020.00000  \n",
       "mean     75.44505  \n",
       "std       6.00944  \n",
       "min      58.00000  \n",
       "25%      71.00000  \n",
       "50%      76.00000  \n",
       "75%      79.00000  \n",
       "max      98.00000  "
      ]
     },
     "execution_count": 15,
     "metadata": {},
     "output_type": "execute_result"
    }
   ],
   "source": [
    "test_df.describe()"
   ]
  },
  {
   "cell_type": "markdown",
   "metadata": {},
   "source": [
    "Observing the statistics summary, we can see that there are some outliers in `distancia_oficina`, `dias_baja_salud`, `permanencia_promedio` and `salario` for both train and test data. They will be analyzed and actions will be taken during the EDA."
   ]
  },
  {
   "cell_type": "markdown",
   "metadata": {},
   "source": [
    "## Looking for typo erros in object data"
   ]
  },
  {
   "cell_type": "code",
   "execution_count": 18,
   "metadata": {},
   "outputs": [
    {
     "data": {
      "text/html": [
       "<div>\n",
       "<style scoped>\n",
       "    .dataframe tbody tr th:only-of-type {\n",
       "        vertical-align: middle;\n",
       "    }\n",
       "\n",
       "    .dataframe tbody tr th {\n",
       "        vertical-align: top;\n",
       "    }\n",
       "\n",
       "    .dataframe thead th {\n",
       "        text-align: right;\n",
       "    }\n",
       "</style>\n",
       "<table border=\"1\" class=\"dataframe\">\n",
       "  <thead>\n",
       "    <tr style=\"text-align: right;\">\n",
       "      <th></th>\n",
       "      <th>modalidad_trabajo</th>\n",
       "      <th>genero</th>\n",
       "      <th>canal_reclutamiento</th>\n",
       "      <th>fecha_nacimiento</th>\n",
       "      <th>fecha_incorporacion</th>\n",
       "      <th>estado_civil</th>\n",
       "    </tr>\n",
       "  </thead>\n",
       "  <tbody>\n",
       "    <tr>\n",
       "      <th>count</th>\n",
       "      <td>2152</td>\n",
       "      <td>2152</td>\n",
       "      <td>2152</td>\n",
       "      <td>2152</td>\n",
       "      <td>2152</td>\n",
       "      <td>2152</td>\n",
       "    </tr>\n",
       "    <tr>\n",
       "      <th>unique</th>\n",
       "      <td>2</td>\n",
       "      <td>2</td>\n",
       "      <td>5</td>\n",
       "      <td>1980</td>\n",
       "      <td>1595</td>\n",
       "      <td>4</td>\n",
       "    </tr>\n",
       "    <tr>\n",
       "      <th>top</th>\n",
       "      <td>Presencial</td>\n",
       "      <td>Hombre</td>\n",
       "      <td>Portal Web</td>\n",
       "      <td>24/11/1978</td>\n",
       "      <td>3/10/2013</td>\n",
       "      <td>Soltero</td>\n",
       "    </tr>\n",
       "    <tr>\n",
       "      <th>freq</th>\n",
       "      <td>1530</td>\n",
       "      <td>1095</td>\n",
       "      <td>986</td>\n",
       "      <td>3</td>\n",
       "      <td>5</td>\n",
       "      <td>925</td>\n",
       "    </tr>\n",
       "  </tbody>\n",
       "</table>\n",
       "</div>"
      ],
      "text/plain": [
       "       modalidad_trabajo  genero canal_reclutamiento fecha_nacimiento  \\\n",
       "count               2152    2152                2152             2152   \n",
       "unique                 2       2                   5             1980   \n",
       "top           Presencial  Hombre          Portal Web       24/11/1978   \n",
       "freq                1530    1095                 986                3   \n",
       "\n",
       "       fecha_incorporacion estado_civil  \n",
       "count                 2152         2152  \n",
       "unique                1595            4  \n",
       "top              3/10/2013      Soltero  \n",
       "freq                     5          925  "
      ]
     },
     "execution_count": 18,
     "metadata": {},
     "output_type": "execute_result"
    }
   ],
   "source": [
    "train_df.describe(include='object')"
   ]
  },
  {
   "cell_type": "code",
   "execution_count": 19,
   "metadata": {},
   "outputs": [
    {
     "data": {
      "text/html": [
       "<div>\n",
       "<style scoped>\n",
       "    .dataframe tbody tr th:only-of-type {\n",
       "        vertical-align: middle;\n",
       "    }\n",
       "\n",
       "    .dataframe tbody tr th {\n",
       "        vertical-align: top;\n",
       "    }\n",
       "\n",
       "    .dataframe thead th {\n",
       "        text-align: right;\n",
       "    }\n",
       "</style>\n",
       "<table border=\"1\" class=\"dataframe\">\n",
       "  <thead>\n",
       "    <tr style=\"text-align: right;\">\n",
       "      <th></th>\n",
       "      <th>modalidad_trabajo</th>\n",
       "      <th>genero</th>\n",
       "      <th>canal_reclutamiento</th>\n",
       "      <th>fecha_nacimiento</th>\n",
       "      <th>fecha_incorporacion</th>\n",
       "      <th>estado_civil</th>\n",
       "    </tr>\n",
       "  </thead>\n",
       "  <tbody>\n",
       "    <tr>\n",
       "      <th>count</th>\n",
       "      <td>2020</td>\n",
       "      <td>2020</td>\n",
       "      <td>2020</td>\n",
       "      <td>2020</td>\n",
       "      <td>2020</td>\n",
       "      <td>2020</td>\n",
       "    </tr>\n",
       "    <tr>\n",
       "      <th>unique</th>\n",
       "      <td>2</td>\n",
       "      <td>2</td>\n",
       "      <td>5</td>\n",
       "      <td>1883</td>\n",
       "      <td>1527</td>\n",
       "      <td>4</td>\n",
       "    </tr>\n",
       "    <tr>\n",
       "      <th>top</th>\n",
       "      <td>Presencial</td>\n",
       "      <td>Mujer</td>\n",
       "      <td>Portal Web</td>\n",
       "      <td>27/04/1972</td>\n",
       "      <td>29/09/2017</td>\n",
       "      <td>Soltero</td>\n",
       "    </tr>\n",
       "    <tr>\n",
       "      <th>freq</th>\n",
       "      <td>1408</td>\n",
       "      <td>1037</td>\n",
       "      <td>869</td>\n",
       "      <td>3</td>\n",
       "      <td>5</td>\n",
       "      <td>800</td>\n",
       "    </tr>\n",
       "  </tbody>\n",
       "</table>\n",
       "</div>"
      ],
      "text/plain": [
       "       modalidad_trabajo genero canal_reclutamiento fecha_nacimiento  \\\n",
       "count               2020   2020                2020             2020   \n",
       "unique                 2      2                   5             1883   \n",
       "top           Presencial  Mujer          Portal Web       27/04/1972   \n",
       "freq                1408   1037                 869                3   \n",
       "\n",
       "       fecha_incorporacion estado_civil  \n",
       "count                 2020         2020  \n",
       "unique                1527            4  \n",
       "top             29/09/2017      Soltero  \n",
       "freq                     5          800  "
      ]
     },
     "execution_count": 19,
     "metadata": {},
     "output_type": "execute_result"
    }
   ],
   "source": [
    "test_df.describe(include='object')"
   ]
  },
  {
   "cell_type": "code",
   "execution_count": 20,
   "metadata": {},
   "outputs": [
    {
     "name": "stdout",
     "output_type": "stream",
     "text": [
      "['Híbrida' 'Presencial']\n",
      "['Híbrida' 'Presencial']\n"
     ]
    }
   ],
   "source": [
    "# Checking modalidad_trabajo categories\n",
    "\n",
    "print(train_df.modalidad_trabajo.unique())\n",
    "print(test_df.modalidad_trabajo.unique())"
   ]
  },
  {
   "cell_type": "code",
   "execution_count": 21,
   "metadata": {},
   "outputs": [
    {
     "name": "stdout",
     "output_type": "stream",
     "text": [
      "['Ferias & Networking' 'Referidos' 'Linkedin' 'Portal Web' 'Headhunter']\n",
      "['Ferias & Networking' 'Portal Web' 'Linkedin' 'Referidos' 'Headhunter']\n"
     ]
    }
   ],
   "source": [
    "# Checking canal_reclutamiento categories\n",
    "\n",
    "print(train_df.canal_reclutamiento.unique())\n",
    "print(test_df.canal_reclutamiento.unique())"
   ]
  },
  {
   "cell_type": "code",
   "execution_count": 22,
   "metadata": {},
   "outputs": [
    {
     "name": "stdout",
     "output_type": "stream",
     "text": [
      "['Soltero' 'Viudo' 'Divorciado' 'Casado']\n",
      "['Soltero' 'Casado' 'Viudo' 'Divorciado']\n"
     ]
    }
   ],
   "source": [
    "# Checking estado_civil categories\n",
    "\n",
    "print(train_df.estado_civil.unique())\n",
    "print(test_df.estado_civil.unique())"
   ]
  },
  {
   "cell_type": "markdown",
   "metadata": {},
   "source": [
    "From the data dictionary we can see that `seniority` and `id_ultimo_jefe` are categories too. However, id_ultimo_jefe has many categories, so it will be analyzed during the hypothesis testing phase."
   ]
  },
  {
   "cell_type": "code",
   "execution_count": 23,
   "metadata": {},
   "outputs": [],
   "source": [
    "cat_cols = ['modalidad_trabajo', 'genero', 'canal_reclutamiento', 'estado_civil', 'seniority']\n",
    "\n",
    "# Defining a function to check categories proportion\n",
    "\n",
    "def check_categories_proportion(df, col):\n",
    "    \n",
    "    \"\"\"\n",
    "    Calculate and print the proportion of each category in a specified column of a DataFrame.\n",
    "\n",
    "    This function takes a pandas DataFrame and a column name, calculates the proportion \n",
    "    (as a percentage) of each unique value (category) in the specified column, and prints \n",
    "    the resulting proportions.\n",
    "\n",
    "    Parameters:\n",
    "    df (pandas.DataFrame): The DataFrame containing the data.\n",
    "    col (str): The name of the column for which to calculate category proportions.\n",
    "\n",
    "    Returns:\n",
    "    None: This function prints the category proportions and does not return any value.\n",
    "\n",
    "    Example:\n",
    "    >>> import pandas as pd\n",
    "    >>> data = {'category': ['A', 'B', 'A', 'C', 'B', 'A']}\n",
    "    >>> df = pd.DataFrame(data)\n",
    "    >>> check_categories_proportion(df, 'category')\n",
    "    A    50.0\n",
    "    B    33.3\n",
    "    C    16.7\n",
    "    Name: category, dtype: float64\n",
    "    \"\"\"\n",
    "    \n",
    "    proportion = df[col].value_counts(normalize=True) * 100\n",
    "    print(proportion)"
   ]
  },
  {
   "cell_type": "code",
   "execution_count": 25,
   "metadata": {},
   "outputs": [
    {
     "name": "stdout",
     "output_type": "stream",
     "text": [
      "modalidad_trabajo\n",
      "Presencial    71.096654\n",
      "Híbrida       28.903346\n",
      "Name: proportion, dtype: float64\n",
      "----------------------------------------\n",
      "genero\n",
      "Hombre    50.8829\n",
      "Mujer     49.1171\n",
      "Name: proportion, dtype: float64\n",
      "----------------------------------------\n",
      "canal_reclutamiento\n",
      "Portal Web             45.817844\n",
      "Linkedin               22.676580\n",
      "Referidos              15.706320\n",
      "Ferias & Networking    14.312268\n",
      "Headhunter              1.486989\n",
      "Name: proportion, dtype: float64\n",
      "----------------------------------------\n",
      "estado_civil\n",
      "Soltero       42.983271\n",
      "Casado        38.708178\n",
      "Divorciado    10.315985\n",
      "Viudo          7.992565\n",
      "Name: proportion, dtype: float64\n",
      "----------------------------------------\n",
      "seniority\n",
      "1    95.771375\n",
      "2     4.228625\n",
      "Name: proportion, dtype: float64\n",
      "----------------------------------------\n"
     ]
    }
   ],
   "source": [
    "for col in cat_cols:\n",
    "    check_categories_proportion(train_df, col)\n",
    "    print('-'*40)"
   ]
  },
  {
   "cell_type": "code",
   "execution_count": 26,
   "metadata": {},
   "outputs": [
    {
     "name": "stdout",
     "output_type": "stream",
     "text": [
      "modalidad_trabajo\n",
      "Presencial    69.70297\n",
      "Híbrida       30.29703\n",
      "Name: proportion, dtype: float64\n",
      "----------------------------------------\n",
      "genero\n",
      "Mujer     51.336634\n",
      "Hombre    48.663366\n",
      "Name: proportion, dtype: float64\n",
      "----------------------------------------\n",
      "canal_reclutamiento\n",
      "Portal Web             43.019802\n",
      "Linkedin               25.247525\n",
      "Referidos              16.336634\n",
      "Ferias & Networking    14.059406\n",
      "Headhunter              1.336634\n",
      "Name: proportion, dtype: float64\n",
      "----------------------------------------\n",
      "estado_civil\n",
      "Soltero       39.603960\n",
      "Casado        38.514851\n",
      "Divorciado    12.425743\n",
      "Viudo          9.455446\n",
      "Name: proportion, dtype: float64\n",
      "----------------------------------------\n",
      "seniority\n",
      "1    95.891089\n",
      "2     4.108911\n",
      "Name: proportion, dtype: float64\n",
      "----------------------------------------\n"
     ]
    }
   ],
   "source": [
    "for col in cat_cols:\n",
    "    check_categories_proportion(test_df, col)\n",
    "    print('-'*40)"
   ]
  },
  {
   "cell_type": "markdown",
   "metadata": {},
   "source": [
    "Categories proportion in both train and test data are similar."
   ]
  },
  {
   "cell_type": "markdown",
   "metadata": {},
   "source": [
    "## Extracting info from date columns"
   ]
  },
  {
   "cell_type": "code",
   "execution_count": 27,
   "metadata": {},
   "outputs": [],
   "source": [
    "# Converting date columns to dtype datetime\n",
    "\n",
    "train_df['fecha_incorporacion'] = pd.to_datetime(train_df['fecha_incorporacion'], dayfirst=True)\n",
    "train_df['fecha_nacimiento'] = pd.to_datetime(train_df['fecha_nacimiento'], dayfirst=True)\n",
    "\n",
    "test_df['fecha_incorporacion'] = pd.to_datetime(test_df['fecha_incorporacion'], dayfirst=True)\n",
    "test_df['fecha_nacimiento'] = pd.to_datetime(test_df['fecha_nacimiento'], dayfirst=True)"
   ]
  },
  {
   "cell_type": "code",
   "execution_count": 29,
   "metadata": {},
   "outputs": [],
   "source": [
    "# Calculating age of join\n",
    "\n",
    "train_df['age'] = (train_df['fecha_incorporacion'] - train_df['fecha_nacimiento']).dt.days // 365\n",
    "\n",
    "test_df['age'] = (test_df['fecha_incorporacion'] - test_df['fecha_nacimiento']).dt.days // 365"
   ]
  },
  {
   "cell_type": "code",
   "execution_count": 30,
   "metadata": {},
   "outputs": [],
   "source": [
    "# Obtaining season info\n",
    "\n",
    "train_df['join_year'] = train_df['fecha_incorporacion'].dt.year\n",
    "train_df['join_month'] = train_df['fecha_incorporacion'].dt.month\n",
    "\n",
    "test_df['join_year'] = test_df['fecha_incorporacion'].dt.year\n",
    "test_df['join_month'] = test_df['fecha_incorporacion'].dt.month"
   ]
  },
  {
   "cell_type": "code",
   "execution_count": 31,
   "metadata": {},
   "outputs": [],
   "source": [
    "# Discarding original dates\n",
    "\n",
    "train_df.drop(['fecha_nacimiento', 'fecha_incorporacion'], axis=1, inplace=True)\n",
    "test_df.drop(['fecha_nacimiento', 'fecha_incorporacion'], axis=1, inplace=True)"
   ]
  },
  {
   "cell_type": "code",
   "execution_count": 32,
   "metadata": {},
   "outputs": [
    {
     "name": "stdout",
     "output_type": "stream",
     "text": [
      "<class 'pandas.core.frame.DataFrame'>\n",
      "RangeIndex: 2152 entries, 0 to 2151\n",
      "Data columns (total 17 columns):\n",
      " #   Column                Non-Null Count  Dtype  \n",
      "---  ------                --------------  -----  \n",
      " 0   id_colaborador        2152 non-null   int64  \n",
      " 1   id_ultimo_jefe        2061 non-null   float64\n",
      " 2   seniority             2152 non-null   int64  \n",
      " 3   modalidad_trabajo     2152 non-null   object \n",
      " 4   distancia_oficina     2152 non-null   float64\n",
      " 5   dias_baja_salud       2152 non-null   int64  \n",
      " 6   genero                2152 non-null   object \n",
      " 7   canal_reclutamiento   2152 non-null   object \n",
      " 8   permanencia_promedio  2152 non-null   int64  \n",
      " 9   salario               2152 non-null   int64  \n",
      " 10  performance_score     2084 non-null   float64\n",
      " 11  psi_score             2152 non-null   int64  \n",
      " 12  estado_civil          2152 non-null   object \n",
      " 13  abandono_6meses       2152 non-null   int64  \n",
      " 14  age                   2152 non-null   int64  \n",
      " 15  join_year             2152 non-null   int32  \n",
      " 16  join_month            2152 non-null   int32  \n",
      "dtypes: float64(3), int32(2), int64(8), object(4)\n",
      "memory usage: 269.1+ KB\n"
     ]
    }
   ],
   "source": [
    "train_df.info()"
   ]
  },
  {
   "cell_type": "code",
   "execution_count": 33,
   "metadata": {},
   "outputs": [
    {
     "name": "stdout",
     "output_type": "stream",
     "text": [
      "<class 'pandas.core.frame.DataFrame'>\n",
      "RangeIndex: 2020 entries, 0 to 2019\n",
      "Data columns (total 16 columns):\n",
      " #   Column                Non-Null Count  Dtype  \n",
      "---  ------                --------------  -----  \n",
      " 0   id_colaborador        2020 non-null   int64  \n",
      " 1   id_ultimo_jefe        1937 non-null   float64\n",
      " 2   seniority             2020 non-null   int64  \n",
      " 3   modalidad_trabajo     2020 non-null   object \n",
      " 4   distancia_oficina     2020 non-null   float64\n",
      " 5   dias_baja_salud       2020 non-null   int64  \n",
      " 6   genero                2020 non-null   object \n",
      " 7   canal_reclutamiento   2020 non-null   object \n",
      " 8   permanencia_promedio  2020 non-null   int64  \n",
      " 9   salario               2020 non-null   int64  \n",
      " 10  performance_score     2020 non-null   int64  \n",
      " 11  psi_score             2020 non-null   int64  \n",
      " 12  estado_civil          2020 non-null   object \n",
      " 13  age                   2020 non-null   int64  \n",
      " 14  join_year             2020 non-null   int32  \n",
      " 15  join_month            2020 non-null   int32  \n",
      "dtypes: float64(2), int32(2), int64(8), object(4)\n",
      "memory usage: 236.8+ KB\n"
     ]
    }
   ],
   "source": [
    "test_df.info()"
   ]
  },
  {
   "cell_type": "markdown",
   "metadata": {},
   "source": [
    "## Missing values treatment"
   ]
  },
  {
   "cell_type": "markdown",
   "metadata": {},
   "source": [
    "From context of the business, is well known that people with performance_score greater than or equal to 80 is considered people with high perfomance, and everyone else is considered low performance. There are some missing values in this column on train data, and observing the statistics summary, most of the employees from the train data are low performance, while all the employees in the test data are high performance; this lead us to impute those missing values with 80, in order to help the people to generalize better the high performance employees. Additionally, performance categorical column will be added with 'high' for employees with performance score greater or equal to 80 and 'low' for everyone else."
   ]
  },
  {
   "cell_type": "code",
   "execution_count": 34,
   "metadata": {},
   "outputs": [],
   "source": [
    "train_df['performance_score'] = train_df['performance_score'].fillna(80)"
   ]
  },
  {
   "cell_type": "markdown",
   "metadata": {},
   "source": [
    "Since id_ultimo_jefe is a categorical column, we can't impute it. So we gonna fill missing values with 'unknown'."
   ]
  },
  {
   "cell_type": "code",
   "execution_count": 35,
   "metadata": {},
   "outputs": [],
   "source": [
    "train_df['id_ultimo_jefe'] = train_df['id_ultimo_jefe'].fillna('unknown')\n",
    "\n",
    "test_df['id_ultimo_jefe'] = test_df['id_ultimo_jefe'].fillna('unknown')"
   ]
  },
  {
   "cell_type": "code",
   "execution_count": 36,
   "metadata": {},
   "outputs": [
    {
     "name": "stdout",
     "output_type": "stream",
     "text": [
      "<class 'pandas.core.frame.DataFrame'>\n",
      "RangeIndex: 2152 entries, 0 to 2151\n",
      "Data columns (total 17 columns):\n",
      " #   Column                Non-Null Count  Dtype  \n",
      "---  ------                --------------  -----  \n",
      " 0   id_colaborador        2152 non-null   int64  \n",
      " 1   id_ultimo_jefe        2152 non-null   object \n",
      " 2   seniority             2152 non-null   int64  \n",
      " 3   modalidad_trabajo     2152 non-null   object \n",
      " 4   distancia_oficina     2152 non-null   float64\n",
      " 5   dias_baja_salud       2152 non-null   int64  \n",
      " 6   genero                2152 non-null   object \n",
      " 7   canal_reclutamiento   2152 non-null   object \n",
      " 8   permanencia_promedio  2152 non-null   int64  \n",
      " 9   salario               2152 non-null   int64  \n",
      " 10  performance_score     2152 non-null   float64\n",
      " 11  psi_score             2152 non-null   int64  \n",
      " 12  estado_civil          2152 non-null   object \n",
      " 13  abandono_6meses       2152 non-null   int64  \n",
      " 14  age                   2152 non-null   int64  \n",
      " 15  join_year             2152 non-null   int32  \n",
      " 16  join_month            2152 non-null   int32  \n",
      "dtypes: float64(2), int32(2), int64(8), object(5)\n",
      "memory usage: 269.1+ KB\n"
     ]
    }
   ],
   "source": [
    "train_df.info()"
   ]
  },
  {
   "cell_type": "code",
   "execution_count": 37,
   "metadata": {},
   "outputs": [
    {
     "name": "stdout",
     "output_type": "stream",
     "text": [
      "<class 'pandas.core.frame.DataFrame'>\n",
      "RangeIndex: 2020 entries, 0 to 2019\n",
      "Data columns (total 16 columns):\n",
      " #   Column                Non-Null Count  Dtype  \n",
      "---  ------                --------------  -----  \n",
      " 0   id_colaborador        2020 non-null   int64  \n",
      " 1   id_ultimo_jefe        2020 non-null   object \n",
      " 2   seniority             2020 non-null   int64  \n",
      " 3   modalidad_trabajo     2020 non-null   object \n",
      " 4   distancia_oficina     2020 non-null   float64\n",
      " 5   dias_baja_salud       2020 non-null   int64  \n",
      " 6   genero                2020 non-null   object \n",
      " 7   canal_reclutamiento   2020 non-null   object \n",
      " 8   permanencia_promedio  2020 non-null   int64  \n",
      " 9   salario               2020 non-null   int64  \n",
      " 10  performance_score     2020 non-null   int64  \n",
      " 11  psi_score             2020 non-null   int64  \n",
      " 12  estado_civil          2020 non-null   object \n",
      " 13  age                   2020 non-null   int64  \n",
      " 14  join_year             2020 non-null   int32  \n",
      " 15  join_month            2020 non-null   int32  \n",
      "dtypes: float64(1), int32(2), int64(8), object(5)\n",
      "memory usage: 236.8+ KB\n"
     ]
    }
   ],
   "source": [
    "test_df.info()"
   ]
  },
  {
   "cell_type": "markdown",
   "metadata": {},
   "source": [
    "## Saving clean data"
   ]
  },
  {
   "cell_type": "code",
   "execution_count": 38,
   "metadata": {},
   "outputs": [],
   "source": [
    "train_df.to_csv(paths.data_interim_dir('train_clean.csv'), index=False, sep=',')\n",
    "\n",
    "test_df.to_csv(paths.data_interim_dir('test_clean.csv'), index=False, sep=',')"
   ]
  }
 ],
 "metadata": {
  "kernelspec": {
   "display_name": "Python 3",
   "language": "python",
   "name": "python3"
  },
  "language_info": {
   "codemirror_mode": {
    "name": "ipython",
    "version": 3
   },
   "file_extension": ".py",
   "mimetype": "text/x-python",
   "name": "python",
   "nbconvert_exporter": "python",
   "pygments_lexer": "ipython3",
   "version": "3.9.18"
  }
 },
 "nbformat": 4,
 "nbformat_minor": 2
}
