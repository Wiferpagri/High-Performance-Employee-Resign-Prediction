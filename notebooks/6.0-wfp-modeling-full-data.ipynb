{
 "cells": [
  {
   "cell_type": "markdown",
   "metadata": {},
   "source": [
    "# Modeling full data\n",
    "\n",
    "Since our data is composed by multiple boss-employees relationships, we can model it as multiple Directed Acyclic Graphs. Graph Neural Networks are specialized on detecting and learning hidden patterns and characteristics from each graph and their nodes, in order to make more accurate predictions than traditional Machine Learning or Deep Learning models on graphs, since they assume that all the data is independent."
   ]
  },
  {
   "cell_type": "markdown",
   "metadata": {},
   "source": [
    "## Preparing environment"
   ]
  },
  {
   "cell_type": "code",
   "execution_count": 75,
   "metadata": {},
   "outputs": [],
   "source": [
    "import pandas as pd\n",
    "import numpy as np\n",
    "import sys\n",
    "import networkx as nx\n",
    "import torch\n",
    "import torch.nn as nn\n",
    "import torch.nn.functional as F\n",
    "from torch_geometric.utils import from_networkx\n",
    "from torch_geometric.data import Data\n",
    "from torch_geometric.nn import GATConv\n",
    "import optuna\n",
    "from sklearn.metrics import f1_score\n",
    "from sklearn.model_selection import StratifiedKFold\n",
    "from sklearn.utils.class_weight import compute_class_weight\n",
    "sys.path.append('../high_performance_employee_resign_prediction')\n",
    "from utils import paths"
   ]
  },
  {
   "cell_type": "code",
   "execution_count": 76,
   "metadata": {},
   "outputs": [],
   "source": [
    "import warnings\n",
    "\n",
    "# Ignore all future warnings\n",
    "warnings.filterwarnings('ignore', category=FutureWarning)"
   ]
  },
  {
   "cell_type": "markdown",
   "metadata": {},
   "source": [
    "## Importing data"
   ]
  },
  {
   "cell_type": "code",
   "execution_count": 77,
   "metadata": {},
   "outputs": [],
   "source": [
    "train_df = pd.read_csv(paths.data_processed_dir('train_full_processed.csv'))\n",
    "test_df = pd.read_csv(paths.data_processed_dir('test_full_processed.csv'))"
   ]
  },
  {
   "cell_type": "code",
   "execution_count": 78,
   "metadata": {},
   "outputs": [],
   "source": [
    "# Saving test id_employee for submission\n",
    "\n",
    "id_col = test_df['id_employee']"
   ]
  },
  {
   "cell_type": "markdown",
   "metadata": {},
   "source": [
    "## Modeling the graph"
   ]
  },
  {
   "cell_type": "code",
   "execution_count": 79,
   "metadata": {},
   "outputs": [],
   "source": [
    "# Combining both dataframes to model the graph\n",
    "combined_df = pd.concat([train_df, test_df], ignore_index=True)"
   ]
  },
  {
   "cell_type": "code",
   "execution_count": 80,
   "metadata": {},
   "outputs": [],
   "source": [
    "# Modeling the graph\n",
    "# Create a mapping of employees to indices (node IDs)\n",
    "employee_ids = combined_df['id_employee'].unique()\n",
    "employee_id_map = {id_: idx for idx, id_ in enumerate(employee_ids)}\n",
    "\n",
    "# Map employees and bosses to indices for graph construction\n",
    "combined_df['employee_idx'] = combined_df['id_employee'].map(employee_id_map)\n",
    "combined_df['boss_idx'] = combined_df['id_last_boss'].map(employee_id_map)\n",
    "\n",
    "# Split train and test datasets again, but with the processed features\n",
    "train_mask = combined_df['resign'].notna()\n",
    "test_mask = ~train_mask\n",
    "\n",
    "train_labels = combined_df.loc[train_mask, 'resign'].astype(int).values\n",
    "test_data = combined_df.loc[test_mask].reset_index(drop=True)\n",
    "\n",
    "# Node features\n",
    "node_features = torch.tensor(combined_df.drop(columns=['id_employee', 'id_last_boss', 'employee_idx', 'boss_idx', 'resign']).to_numpy(), dtype=torch.float)\n",
    "\n",
    "# Create edge index\n",
    "edge_index = torch.tensor([combined_df['employee_idx'].to_numpy(), combined_df['boss_idx'].to_numpy()], dtype=torch.long)"
   ]
  },
  {
   "cell_type": "code",
   "execution_count": 81,
   "metadata": {},
   "outputs": [],
   "source": [
    "# Computing class weight\n",
    "\n",
    "class_weights = compute_class_weight('balanced', classes=[0, 1], y=train_labels)\n",
    "class_weights_tensor = torch.tensor(class_weights, dtype=torch.float)"
   ]
  },
  {
   "cell_type": "markdown",
   "metadata": {},
   "source": [
    "# Modeling using GATConv\n",
    "\n",
    "GATConv is a framework that can handle varying importance of node connections, useful for hierarchical structure."
   ]
  },
  {
   "cell_type": "code",
   "execution_count": 82,
   "metadata": {},
   "outputs": [],
   "source": [
    "# Creating the model\n",
    "\n",
    "class GAT(nn.Module):\n",
    "    def __init__(self, input_dim, hidden_dim, output_dim, heads=1, dropout=0.6):\n",
    "        super(GAT, self).__init__()\n",
    "        self.conv1 = GATConv(input_dim, hidden_dim, heads=heads, dropout=dropout)\n",
    "        self.conv2 = GATConv(hidden_dim * heads, output_dim, heads=1, concat=False, dropout=dropout)\n",
    "        \n",
    "    def forward(self, x, edge_index):\n",
    "        # First GAT Layer\n",
    "        x = self.conv1(x, edge_index)\n",
    "        x = F.elu(x)\n",
    "        x = F.dropout(x, p=0.6, training=self.training)\n",
    "        \n",
    "        # Second GAT Layer\n",
    "        x = self.conv2(x, edge_index)\n",
    "        return F.log_softmax(x, dim=1)"
   ]
  },
  {
   "cell_type": "markdown",
   "metadata": {},
   "source": [
    "## Defining the objective function to optimize"
   ]
  },
  {
   "cell_type": "code",
   "execution_count": 83,
   "metadata": {},
   "outputs": [],
   "source": [
    "# Creating function to optimize the model\n",
    "\n",
    "def objective(trial):\n",
    "    # Hyperparameter search space\n",
    "    hidden_dim = trial.suggest_int('hidden_dim', 16, 128)\n",
    "    heads = trial.suggest_int('heads', 1, 8)\n",
    "    dropout = trial.suggest_float('dropout', 0.2, 0.7)\n",
    "    learning_rate = trial.suggest_float('learning_rate', 1e-4, 1e-2)\n",
    "    weight_decay = trial.suggest_float('weight_decay', 1e-5, 1e-3)\n",
    "    \n",
    "    # Initialize cross-validation\n",
    "    skf = StratifiedKFold(n_splits=5, shuffle=True, random_state=42)\n",
    "    f1_scores = []\n",
    "    \n",
    "    for train_idx, val_idx in skf.split(combined_df[train_mask].index, train_labels):\n",
    "        train_x = combined_df.iloc[train_idx]\n",
    "        val_x = combined_df.iloc[val_idx]\n",
    "        train_y = torch.tensor(train_labels[train_idx], dtype=torch.long)\n",
    "        val_y = torch.tensor(train_labels[val_idx], dtype=torch.long)\n",
    "    \n",
    "    # Model\n",
    "    model = GAT(input_dim=node_features.shape[1], hidden_dim=hidden_dim, output_dim=2, heads=heads, dropout=dropout)\n",
    "    optimizer = torch.optim.Adam(model.parameters(), lr=learning_rate, weight_decay=weight_decay)\n",
    "    \n",
    "    # Training loop\n",
    "    patience = 10\n",
    "    best_val_f1 = 0\n",
    "    no_improve_counter = 0\n",
    "    \n",
    "    for epoch in range(100):\n",
    "        model.train()\n",
    "        optimizer.zero_grad()\n",
    "        out = model(node_features, edge_index)\n",
    "        loss = F.nll_loss(out[train_idx], train_y, weight=class_weights_tensor)\n",
    "        loss.backward()\n",
    "        optimizer.step()\n",
    "        \n",
    "        # Validation\n",
    "        model.eval()\n",
    "        out_val = model(node_features, edge_index)\n",
    "        val_pred = out_val[val_idx].argmax(dim=1)\n",
    "        val_f1 = f1_score(val_y.cpu(), val_pred.cpu(), average='macro')\n",
    "        \n",
    "        # Early stopping logic\n",
    "        if val_f1 > best_val_f1 + 0.01:\n",
    "            best_val_f1 = val_f1\n",
    "            no_improve_counter = 0\n",
    "        else:\n",
    "            no_improve_counter += 1\n",
    "        \n",
    "        if no_improve_counter >= patience:\n",
    "            break\n",
    "    \n",
    "    f1_scores.append(best_val_f1)\n",
    "\n",
    "    mean_f1 = sum(f1_scores) / len(f1_scores)\n",
    "    return mean_f1"
   ]
  },
  {
   "cell_type": "markdown",
   "metadata": {},
   "source": [
    "## Optimizing hyperparameters"
   ]
  },
  {
   "cell_type": "code",
   "execution_count": 84,
   "metadata": {},
   "outputs": [
    {
     "name": "stderr",
     "output_type": "stream",
     "text": [
      "[I 2024-09-08 20:37:40,733] A new study created in memory with name: no-name-7819f874-ac3e-4b57-82f7-7fec4e0e2eb5\n",
      "[I 2024-09-08 20:37:41,800] Trial 0 finished with value: 0.6646835242857687 and parameters: {'hidden_dim': 63, 'heads': 4, 'dropout': 0.33785472808639916, 'learning_rate': 0.004607998065657858, 'weight_decay': 0.0006871470212463507}. Best is trial 0 with value: 0.6646835242857687.\n",
      "[I 2024-09-08 20:37:42,907] Trial 1 finished with value: 0.6232476635514019 and parameters: {'hidden_dim': 117, 'heads': 3, 'dropout': 0.44563942784722443, 'learning_rate': 0.0036876798160535265, 'weight_decay': 0.0008440104944619361}. Best is trial 0 with value: 0.6646835242857687.\n",
      "[I 2024-09-08 20:37:45,558] Trial 2 finished with value: 0.6442360728075013 and parameters: {'hidden_dim': 104, 'heads': 8, 'dropout': 0.5522416327878021, 'learning_rate': 0.00648654873400841, 'weight_decay': 0.0005366556424312154}. Best is trial 0 with value: 0.6646835242857687.\n",
      "[I 2024-09-08 20:37:46,330] Trial 3 finished with value: 0.6619845060419931 and parameters: {'hidden_dim': 36, 'heads': 5, 'dropout': 0.2872742767600528, 'learning_rate': 0.00601390778562235, 'weight_decay': 0.0006471073975084299}. Best is trial 0 with value: 0.6646835242857687.\n",
      "[I 2024-09-08 20:37:48,687] Trial 4 finished with value: 0.6556947780735354 and parameters: {'hidden_dim': 104, 'heads': 6, 'dropout': 0.34337716959439346, 'learning_rate': 0.0006938134085309929, 'weight_decay': 0.00014187539469033791}. Best is trial 0 with value: 0.6646835242857687.\n",
      "[I 2024-09-08 20:37:51,156] Trial 5 finished with value: 0.6632101489244346 and parameters: {'hidden_dim': 95, 'heads': 7, 'dropout': 0.2776198195082271, 'learning_rate': 0.00242220694444888, 'weight_decay': 0.0008269954485196663}. Best is trial 0 with value: 0.6646835242857687.\n",
      "[I 2024-09-08 20:37:52,587] Trial 6 finished with value: 0.6674256724232116 and parameters: {'hidden_dim': 92, 'heads': 6, 'dropout': 0.33783682279923355, 'learning_rate': 0.006647830943470678, 'weight_decay': 0.0008029243287635611}. Best is trial 6 with value: 0.6674256724232116.\n",
      "[I 2024-09-08 20:37:54,758] Trial 7 finished with value: 0.6510948589233165 and parameters: {'hidden_dim': 99, 'heads': 8, 'dropout': 0.6633223315606946, 'learning_rate': 0.007360384023352063, 'weight_decay': 0.00023677913552201267}. Best is trial 6 with value: 0.6674256724232116.\n",
      "[I 2024-09-08 20:37:57,816] Trial 8 finished with value: 0.6685556713566094 and parameters: {'hidden_dim': 126, 'heads': 4, 'dropout': 0.4789874643952634, 'learning_rate': 0.0077617983706595485, 'weight_decay': 8.14161054832057e-05}. Best is trial 8 with value: 0.6685556713566094.\n",
      "[I 2024-09-08 20:38:00,304] Trial 9 finished with value: 0.6808965879606307 and parameters: {'hidden_dim': 84, 'heads': 6, 'dropout': 0.3636799328569005, 'learning_rate': 0.0022886699258829416, 'weight_decay': 0.00026205093404374274}. Best is trial 9 with value: 0.6808965879606307.\n",
      "[I 2024-09-08 20:38:01,342] Trial 10 finished with value: 0.590378661586092 and parameters: {'hidden_dim': 64, 'heads': 1, 'dropout': 0.4432487791524591, 'learning_rate': 0.0004598787848264594, 'weight_decay': 0.00036531869779966945}. Best is trial 9 with value: 0.6808965879606307.\n",
      "[I 2024-09-08 20:38:01,951] Trial 11 finished with value: 0.6619845060419931 and parameters: {'hidden_dim': 25, 'heads': 3, 'dropout': 0.5505693064021804, 'learning_rate': 0.009771418047467673, 'weight_decay': 3.953336854049645e-05}. Best is trial 9 with value: 0.6808965879606307.\n",
      "[I 2024-09-08 20:38:03,830] Trial 12 finished with value: 0.6442360728075013 and parameters: {'hidden_dim': 126, 'heads': 4, 'dropout': 0.511135404431426, 'learning_rate': 0.0090090074702846, 'weight_decay': 0.0003320823411343566}. Best is trial 9 with value: 0.6808965879606307.\n",
      "[I 2024-09-08 20:38:05,124] Trial 13 finished with value: 0.6790072702094513 and parameters: {'hidden_dim': 76, 'heads': 2, 'dropout': 0.21029958709849156, 'learning_rate': 0.0025031250032375822, 'weight_decay': 1.8904267852033827e-05}. Best is trial 9 with value: 0.6808965879606307.\n",
      "[I 2024-09-08 20:38:05,945] Trial 14 finished with value: 0.6463203463203464 and parameters: {'hidden_dim': 76, 'heads': 1, 'dropout': 0.2087202014665497, 'learning_rate': 0.0025203066390598996, 'weight_decay': 0.00023457335244973657}. Best is trial 9 with value: 0.6808965879606307.\n",
      "[I 2024-09-08 20:38:06,946] Trial 15 finished with value: 0.6672961113305451 and parameters: {'hidden_dim': 50, 'heads': 2, 'dropout': 0.20236074339701762, 'learning_rate': 0.002053614545441976, 'weight_decay': 0.0004460430978810697}. Best is trial 9 with value: 0.6808965879606307.\n",
      "[I 2024-09-08 20:38:08,753] Trial 16 finished with value: 0.6581228940294552 and parameters: {'hidden_dim': 80, 'heads': 6, 'dropout': 0.3992341524278049, 'learning_rate': 0.0037256345323315133, 'weight_decay': 0.0009952387839276245}. Best is trial 9 with value: 0.6808965879606307.\n",
      "[I 2024-09-08 20:38:09,805] Trial 17 finished with value: 0.6626429100904128 and parameters: {'hidden_dim': 83, 'heads': 2, 'dropout': 0.26645414663056466, 'learning_rate': 0.0015075693315787743, 'weight_decay': 0.00020456037076723875}. Best is trial 9 with value: 0.6808965879606307.\n",
      "[I 2024-09-08 20:38:10,847] Trial 18 finished with value: 0.6601048163548164 and parameters: {'hidden_dim': 52, 'heads': 5, 'dropout': 0.394510317500227, 'learning_rate': 0.0034627193539460803, 'weight_decay': 4.9235278581328265e-05}. Best is trial 9 with value: 0.6808965879606307.\n",
      "[I 2024-09-08 20:38:12,246] Trial 19 finished with value: 0.6364227642276423 and parameters: {'hidden_dim': 66, 'heads': 7, 'dropout': 0.243919827209911, 'learning_rate': 0.00506242790945524, 'weight_decay': 0.0003371644766983116}. Best is trial 9 with value: 0.6808965879606307.\n",
      "[I 2024-09-08 20:38:13,809] Trial 20 finished with value: 0.6283006866406797 and parameters: {'hidden_dim': 49, 'heads': 3, 'dropout': 0.6583190851135508, 'learning_rate': 0.001164744983192763, 'weight_decay': 0.0001417487423445791}. Best is trial 9 with value: 0.6808965879606307.\n",
      "[I 2024-09-08 20:38:15,315] Trial 21 finished with value: 0.634786936505618 and parameters: {'hidden_dim': 118, 'heads': 4, 'dropout': 0.519524541530984, 'learning_rate': 0.005264103456262461, 'weight_decay': 1.2076695174039628e-05}. Best is trial 9 with value: 0.6808965879606307.\n",
      "[I 2024-09-08 20:38:16,573] Trial 22 finished with value: 0.6629026070421831 and parameters: {'hidden_dim': 85, 'heads': 2, 'dropout': 0.618983666062541, 'learning_rate': 0.007878573031476802, 'weight_decay': 0.00012420306752094896}. Best is trial 9 with value: 0.6808965879606307.\n",
      "[I 2024-09-08 20:38:18,538] Trial 23 finished with value: 0.6626429100904128 and parameters: {'hidden_dim': 107, 'heads': 5, 'dropout': 0.48959062503655276, 'learning_rate': 0.0030639546859153703, 'weight_decay': 9.246589568437292e-05}. Best is trial 9 with value: 0.6808965879606307.\n",
      "[I 2024-09-08 20:38:22,211] Trial 24 finished with value: 0.6590567327409433 and parameters: {'hidden_dim': 128, 'heads': 7, 'dropout': 0.3921710192776927, 'learning_rate': 0.004311248402035332, 'weight_decay': 0.00026649162016931184}. Best is trial 9 with value: 0.6808965879606307.\n",
      "[I 2024-09-08 20:38:23,826] Trial 25 finished with value: 0.6463892315349824 and parameters: {'hidden_dim': 114, 'heads': 3, 'dropout': 0.5799893024411449, 'learning_rate': 0.0016715793729145147, 'weight_decay': 0.00044916837362553514}. Best is trial 9 with value: 0.6808965879606307.\n",
      "[I 2024-09-08 20:38:25,292] Trial 26 finished with value: 0.6411004028578424 and parameters: {'hidden_dim': 88, 'heads': 6, 'dropout': 0.4656199363556467, 'learning_rate': 0.00795121054544788, 'weight_decay': 0.00017781821128807994}. Best is trial 9 with value: 0.6808965879606307.\n",
      "[I 2024-09-08 20:38:26,409] Trial 27 finished with value: 0.6599937833666887 and parameters: {'hidden_dim': 71, 'heads': 4, 'dropout': 0.3176532532220896, 'learning_rate': 0.005704908190111591, 'weight_decay': 7.105660448242385e-05}. Best is trial 9 with value: 0.6808965879606307.\n",
      "[I 2024-09-08 20:38:27,015] Trial 28 finished with value: 0.6612499252956932 and parameters: {'hidden_dim': 33, 'heads': 1, 'dropout': 0.38899097956961, 'learning_rate': 0.008700004410395546, 'weight_decay': 0.0002739951582582821}. Best is trial 9 with value: 0.6808965879606307.\n",
      "[I 2024-09-08 20:38:27,871] Trial 29 finished with value: 0.6386554621848739 and parameters: {'hidden_dim': 57, 'heads': 5, 'dropout': 0.4326152349791044, 'learning_rate': 0.004313565619383072, 'weight_decay': 1.3185528380801111e-05}. Best is trial 9 with value: 0.6808965879606307.\n",
      "[I 2024-09-08 20:38:28,409] Trial 30 finished with value: 0.6251252199810478 and parameters: {'hidden_dim': 17, 'heads': 2, 'dropout': 0.360428103924176, 'learning_rate': 0.002931998474994294, 'weight_decay': 0.0005532850105131545}. Best is trial 9 with value: 0.6808965879606307.\n",
      "[I 2024-09-08 20:38:32,538] Trial 31 finished with value: 0.6767004732927655 and parameters: {'hidden_dim': 95, 'heads': 6, 'dropout': 0.3145378897159773, 'learning_rate': 0.006545755551038171, 'weight_decay': 0.0007291114971277239}. Best is trial 9 with value: 0.6808965879606307.\n",
      "[I 2024-09-08 20:38:34,010] Trial 32 finished with value: 0.6642373763664757 and parameters: {'hidden_dim': 74, 'heads': 7, 'dropout': 0.24613755186426323, 'learning_rate': 0.007128288303505209, 'weight_decay': 0.0006088088752202998}. Best is trial 9 with value: 0.6808965879606307.\n",
      "[I 2024-09-08 20:38:35,681] Trial 33 finished with value: 0.6255631696513081 and parameters: {'hidden_dim': 112, 'heads': 6, 'dropout': 0.3064979915556776, 'learning_rate': 0.006525665715794399, 'weight_decay': 0.0007360452005120957}. Best is trial 9 with value: 0.6808965879606307.\n",
      "[I 2024-09-08 20:38:37,196] Trial 34 finished with value: 0.63996121981315 and parameters: {'hidden_dim': 94, 'heads': 5, 'dropout': 0.3611321104212044, 'learning_rate': 0.005806358641256152, 'weight_decay': 0.0009864430020861124}. Best is trial 9 with value: 0.6808965879606307.\n",
      "[I 2024-09-08 20:38:40,056] Trial 35 finished with value: 0.6200239619644473 and parameters: {'hidden_dim': 121, 'heads': 8, 'dropout': 0.3048785141955773, 'learning_rate': 0.008341006398173789, 'weight_decay': 0.0006859706483858139}. Best is trial 9 with value: 0.6808965879606307.\n",
      "[I 2024-09-08 20:38:41,397] Trial 36 finished with value: 0.6438268997635752 and parameters: {'hidden_dim': 107, 'heads': 4, 'dropout': 0.42841133578579677, 'learning_rate': 0.006873892393395046, 'weight_decay': 0.000877136698619739}. Best is trial 9 with value: 0.6808965879606307.\n",
      "[I 2024-09-08 20:38:44,687] Trial 37 finished with value: 0.6814884207315746 and parameters: {'hidden_dim': 101, 'heads': 6, 'dropout': 0.23258115702260523, 'learning_rate': 0.007508324371093813, 'weight_decay': 0.0004169221839373581}. Best is trial 37 with value: 0.6814884207315746.\n",
      "[I 2024-09-08 20:38:46,696] Trial 38 finished with value: 0.664390243902439 and parameters: {'hidden_dim': 99, 'heads': 6, 'dropout': 0.2337948460704639, 'learning_rate': 0.004626040598906295, 'weight_decay': 0.00044944835857894044}. Best is trial 37 with value: 0.6814884207315746.\n",
      "[I 2024-09-08 20:38:49,873] Trial 39 finished with value: 0.6697674418604651 and parameters: {'hidden_dim': 89, 'heads': 7, 'dropout': 0.2728835228482363, 'learning_rate': 0.005984256860827087, 'weight_decay': 0.00039857825278961554}. Best is trial 37 with value: 0.6814884207315746.\n",
      "[I 2024-09-08 20:38:53,367] Trial 40 finished with value: 0.6830352303523035 and parameters: {'hidden_dim': 100, 'heads': 6, 'dropout': 0.2174982406445419, 'learning_rate': 0.0008434325893669442, 'weight_decay': 0.0005252095294587037}. Best is trial 40 with value: 0.6830352303523035.\n",
      "[I 2024-09-08 20:38:56,017] Trial 41 finished with value: 0.6534415145368492 and parameters: {'hidden_dim': 101, 'heads': 6, 'dropout': 0.224037369226706, 'learning_rate': 0.0009716616611227088, 'weight_decay': 0.0005253504164374203}. Best is trial 40 with value: 0.6830352303523035.\n",
      "[I 2024-09-08 20:39:00,199] Trial 42 finished with value: 0.6372014537902388 and parameters: {'hidden_dim': 95, 'heads': 6, 'dropout': 0.2564653422578876, 'learning_rate': 0.00020429428827789487, 'weight_decay': 0.0005971904385116054}. Best is trial 40 with value: 0.6830352303523035.\n",
      "[I 2024-09-08 20:39:01,638] Trial 43 finished with value: 0.6711521877084792 and parameters: {'hidden_dim': 83, 'heads': 5, 'dropout': 0.28690497662115344, 'learning_rate': 0.0020789531257589667, 'weight_decay': 0.0007566007800049704}. Best is trial 40 with value: 0.6830352303523035.\n",
      "[I 2024-09-08 20:39:04,368] Trial 44 finished with value: 0.6650872979814371 and parameters: {'hidden_dim': 78, 'heads': 7, 'dropout': 0.2218663930361722, 'learning_rate': 0.0008525339438677465, 'weight_decay': 0.000495624099145938}. Best is trial 40 with value: 0.6830352303523035.\n",
      "[I 2024-09-08 20:39:06,846] Trial 45 finished with value: 0.6511552440290758 and parameters: {'hidden_dim': 90, 'heads': 8, 'dropout': 0.332528933546709, 'learning_rate': 0.001520595342101669, 'weight_decay': 0.00030643050923296445}. Best is trial 40 with value: 0.6830352303523035.\n",
      "[I 2024-09-08 20:39:07,721] Trial 46 finished with value: 0.4883278163605288 and parameters: {'hidden_dim': 70, 'heads': 5, 'dropout': 0.20217403647456653, 'learning_rate': 0.0001241241945582445, 'weight_decay': 0.0003913169710109346}. Best is trial 40 with value: 0.6830352303523035.\n",
      "[I 2024-09-08 20:39:11,076] Trial 47 finished with value: 0.6601462161628138 and parameters: {'hidden_dim': 100, 'heads': 7, 'dropout': 0.28591197413621483, 'learning_rate': 0.007421211769812409, 'weight_decay': 0.0008803866597417894}. Best is trial 40 with value: 0.6830352303523035.\n",
      "[I 2024-09-08 20:39:14,471] Trial 48 finished with value: 0.6516780019462974 and parameters: {'hidden_dim': 109, 'heads': 6, 'dropout': 0.26482983529156745, 'learning_rate': 0.00947437785296983, 'weight_decay': 0.0006499249394194566}. Best is trial 40 with value: 0.6830352303523035.\n",
      "[I 2024-09-08 20:39:16,842] Trial 49 finished with value: 0.6602753758220682 and parameters: {'hidden_dim': 103, 'heads': 6, 'dropout': 0.3579780349753796, 'learning_rate': 0.0023843149362299306, 'weight_decay': 0.0005703778942379853}. Best is trial 40 with value: 0.6830352303523035.\n",
      "[I 2024-09-08 20:39:18,388] Trial 50 finished with value: 0.6577230269392176 and parameters: {'hidden_dim': 97, 'heads': 5, 'dropout': 0.3184865056536845, 'learning_rate': 0.003532187311075796, 'weight_decay': 0.0004902322093089775}. Best is trial 40 with value: 0.6830352303523035.\n",
      "[I 2024-09-08 20:39:19,800] Trial 51 finished with value: 0.6484093678083118 and parameters: {'hidden_dim': 82, 'heads': 5, 'dropout': 0.2961561653593671, 'learning_rate': 0.002221997507944579, 'weight_decay': 0.0007639507812073539}. Best is trial 40 with value: 0.6830352303523035.\n",
      "[I 2024-09-08 20:39:21,771] Trial 52 finished with value: 0.6481502555015471 and parameters: {'hidden_dim': 86, 'heads': 6, 'dropout': 0.22371511050589446, 'learning_rate': 0.0018390821865917912, 'weight_decay': 0.0007449272023549416}. Best is trial 40 with value: 0.6830352303523035.\n",
      "[I 2024-09-08 20:39:23,633] Trial 53 finished with value: 0.6602004806339171 and parameters: {'hidden_dim': 79, 'heads': 5, 'dropout': 0.2787913508045822, 'learning_rate': 0.002914849628845813, 'weight_decay': 0.000804849938440002}. Best is trial 40 with value: 0.6830352303523035.\n",
      "[I 2024-09-08 20:39:27,444] Trial 54 finished with value: 0.6720770616200897 and parameters: {'hidden_dim': 93, 'heads': 6, 'dropout': 0.2463878525989757, 'learning_rate': 0.0005108060310785673, 'weight_decay': 0.0006768297442945956}. Best is trial 40 with value: 0.6830352303523035.\n",
      "[I 2024-09-08 20:39:29,661] Trial 55 finished with value: 0.6311956777073057 and parameters: {'hidden_dim': 94, 'heads': 7, 'dropout': 0.2478950370003979, 'learning_rate': 0.00046942739732885224, 'weight_decay': 0.000692954308517245}. Best is trial 40 with value: 0.6830352303523035.\n",
      "[I 2024-09-08 20:39:32,148] Trial 56 finished with value: 0.6650872979814371 and parameters: {'hidden_dim': 59, 'heads': 6, 'dropout': 0.21430498252406877, 'learning_rate': 0.0011961405444983395, 'weight_decay': 0.0006365984187979679}. Best is trial 40 with value: 0.6830352303523035.\n",
      "[I 2024-09-08 20:39:34,653] Trial 57 finished with value: 0.6418604651162789 and parameters: {'hidden_dim': 91, 'heads': 6, 'dropout': 0.23958112004391832, 'learning_rate': 0.0013007120858571188, 'weight_decay': 0.00019047395080485743}. Best is trial 40 with value: 0.6830352303523035.\n",
      "[I 2024-09-08 20:39:35,892] Trial 58 finished with value: 0.6595740065937878 and parameters: {'hidden_dim': 68, 'heads': 7, 'dropout': 0.265514900728185, 'learning_rate': 0.006351740106543942, 'weight_decay': 0.0006862408238936621}. Best is trial 40 with value: 0.6830352303523035.\n",
      "[I 2024-09-08 20:39:37,410] Trial 59 finished with value: 0.6647609147609148 and parameters: {'hidden_dim': 106, 'heads': 4, 'dropout': 0.20075018603928338, 'learning_rate': 0.002616633294650584, 'weight_decay': 0.0004233575778698657}. Best is trial 40 with value: 0.6830352303523035.\n",
      "[I 2024-09-08 20:39:39,389] Trial 60 finished with value: 0.6581228940294552 and parameters: {'hidden_dim': 75, 'heads': 3, 'dropout': 0.33199852589495515, 'learning_rate': 0.0005774818541256839, 'weight_decay': 0.0003146376296436738}. Best is trial 40 with value: 0.6830352303523035.\n",
      "[I 2024-09-08 20:39:41,160] Trial 61 finished with value: 0.6648552685704389 and parameters: {'hidden_dim': 84, 'heads': 5, 'dropout': 0.281100275386568, 'learning_rate': 0.0019067960599960807, 'weight_decay': 0.0008277249287551034}. Best is trial 40 with value: 0.6830352303523035.\n",
      "[I 2024-09-08 20:39:43,649] Trial 62 finished with value: 0.676658497925356 and parameters: {'hidden_dim': 87, 'heads': 6, 'dropout': 0.25139053324924665, 'learning_rate': 0.001553757273481388, 'weight_decay': 0.0007244342988612213}. Best is trial 40 with value: 0.6830352303523035.\n",
      "[I 2024-09-08 20:39:47,211] Trial 63 finished with value: 0.6812557150509417 and parameters: {'hidden_dim': 97, 'heads': 6, 'dropout': 0.23283013312846165, 'learning_rate': 0.0008604357418010119, 'weight_decay': 0.0007193155759134903}. Best is trial 40 with value: 0.6830352303523035.\n",
      "[I 2024-09-08 20:39:50,391] Trial 64 finished with value: 0.6670366860701232 and parameters: {'hidden_dim': 88, 'heads': 6, 'dropout': 0.2235741062995006, 'learning_rate': 0.0013810108387766655, 'weight_decay': 0.0003545569736037174}. Best is trial 40 with value: 0.6830352303523035.\n",
      "[I 2024-09-08 20:39:52,416] Trial 65 finished with value: 0.6365450787712879 and parameters: {'hidden_dim': 112, 'heads': 7, 'dropout': 0.23125637265541307, 'learning_rate': 0.003925153768240769, 'weight_decay': 0.0007214754976837631}. Best is trial 40 with value: 0.6830352303523035.\n",
      "[I 2024-09-08 20:39:54,830] Trial 66 finished with value: 0.6470025388851739 and parameters: {'hidden_dim': 103, 'heads': 6, 'dropout': 0.2558716319363033, 'learning_rate': 0.0009540558627232249, 'weight_decay': 0.0007898211582658285}. Best is trial 40 with value: 0.6830352303523035.\n",
      "[I 2024-09-08 20:39:57,598] Trial 67 finished with value: 0.6581376859799133 and parameters: {'hidden_dim': 96, 'heads': 7, 'dropout': 0.20887046422793645, 'learning_rate': 0.001672291625814906, 'weight_decay': 0.0008652727180400118}. Best is trial 40 with value: 0.6830352303523035.\n",
      "[I 2024-09-08 20:40:00,681] Trial 68 finished with value: 0.6549106368211002 and parameters: {'hidden_dim': 79, 'heads': 6, 'dropout': 0.31100950696433693, 'learning_rate': 0.0073837042210961245, 'weight_decay': 0.000926789601735512}. Best is trial 40 with value: 0.6830352303523035.\n",
      "[I 2024-09-08 20:40:01,376] Trial 69 finished with value: 0.6372093023255813 and parameters: {'hidden_dim': 98, 'heads': 1, 'dropout': 0.41281834156227515, 'learning_rate': 0.005301304365429202, 'weight_decay': 0.0002569601048525938}. Best is trial 40 with value: 0.6830352303523035.\n",
      "[I 2024-09-08 20:40:07,005] Trial 70 finished with value: 0.6767424377633194 and parameters: {'hidden_dim': 73, 'heads': 6, 'dropout': 0.25425134508159464, 'learning_rate': 0.0010798360209930396, 'weight_decay': 0.00010975127353317728}. Best is trial 40 with value: 0.6830352303523035.\n",
      "[I 2024-09-08 20:40:09,638] Trial 71 finished with value: 0.6485159502195084 and parameters: {'hidden_dim': 73, 'heads': 6, 'dropout': 0.25692003206449165, 'learning_rate': 0.0007865677371248497, 'weight_decay': 0.00011537161655553466}. Best is trial 40 with value: 0.6830352303523035.\n",
      "[I 2024-09-08 20:40:11,161] Trial 72 finished with value: 0.6770506792058516 and parameters: {'hidden_dim': 64, 'heads': 6, 'dropout': 0.23631058191966564, 'learning_rate': 0.0032357729904532936, 'weight_decay': 4.696790593810153e-05}. Best is trial 40 with value: 0.6830352303523035.\n",
      "[I 2024-09-08 20:40:12,268] Trial 73 finished with value: 0.6691877600554785 and parameters: {'hidden_dim': 61, 'heads': 5, 'dropout': 0.23574435649870137, 'learning_rate': 0.0032977858190755605, 'weight_decay': 0.00015884917870330765}. Best is trial 40 with value: 0.6830352303523035.\n",
      "[I 2024-09-08 20:40:14,270] Trial 74 finished with value: 0.6543483456082035 and parameters: {'hidden_dim': 66, 'heads': 7, 'dropout': 0.2959066116345625, 'learning_rate': 0.0026626459349243965, 'weight_decay': 7.233685203607607e-05}. Best is trial 40 with value: 0.6830352303523035.\n",
      "[I 2024-09-08 20:40:16,288] Trial 75 finished with value: 0.6603475513428121 and parameters: {'hidden_dim': 64, 'heads': 6, 'dropout': 0.21478013502655297, 'learning_rate': 0.002294612437698357, 'weight_decay': 0.00022014093758595635}. Best is trial 40 with value: 0.6830352303523035.\n",
      "[I 2024-09-08 20:40:17,643] Trial 76 finished with value: 0.6455838972757244 and parameters: {'hidden_dim': 39, 'heads': 6, 'dropout': 0.3432013855342019, 'learning_rate': 0.003094506929393752, 'weight_decay': 4.554208247780012e-05}. Best is trial 40 with value: 0.6830352303523035.\n",
      "[I 2024-09-08 20:40:19,995] Trial 77 finished with value: 0.6612499252956932 and parameters: {'hidden_dim': 70, 'heads': 7, 'dropout': 0.23594444219869498, 'learning_rate': 0.0010417689724533854, 'weight_decay': 0.000141007652506129}. Best is trial 40 with value: 0.6830352303523035.\n",
      "[I 2024-09-08 20:40:20,509] Trial 78 finished with value: 0.6353326570996225 and parameters: {'hidden_dim': 54, 'heads': 2, 'dropout': 0.2719006008250775, 'learning_rate': 0.008167726916145793, 'weight_decay': 1.2214526353167684e-05}. Best is trial 40 with value: 0.6830352303523035.\n",
      "[I 2024-09-08 20:40:23,179] Trial 79 finished with value: 0.6672961113305451 and parameters: {'hidden_dim': 76, 'heads': 5, 'dropout': 0.21249859564274548, 'learning_rate': 0.0069075904605584455, 'weight_decay': 9.357401102341563e-05}. Best is trial 40 with value: 0.6830352303523035.\n",
      "[I 2024-09-08 20:40:24,521] Trial 80 finished with value: 0.6533965193588349 and parameters: {'hidden_dim': 47, 'heads': 6, 'dropout': 0.2633148934575233, 'learning_rate': 0.0040042570910192084, 'weight_decay': 0.00010221148256337739}. Best is trial 40 with value: 0.6830352303523035.\n",
      "[I 2024-09-08 20:40:26,674] Trial 81 finished with value: 0.6557841673698102 and parameters: {'hidden_dim': 87, 'heads': 6, 'dropout': 0.24817039973296703, 'learning_rate': 0.001616588580629083, 'weight_decay': 3.0450599373792194e-05}. Best is trial 40 with value: 0.6830352303523035.\n",
      "[I 2024-09-08 20:40:28,575] Trial 82 finished with value: 0.6651090342679127 and parameters: {'hidden_dim': 82, 'heads': 6, 'dropout': 0.22993240459624184, 'learning_rate': 0.0019547004303838984, 'weight_decay': 6.62142101720031e-05}. Best is trial 40 with value: 0.6830352303523035.\n",
      "[I 2024-09-08 20:40:32,459] Trial 83 finished with value: 0.6767004732927655 and parameters: {'hidden_dim': 101, 'heads': 6, 'dropout': 0.3776220457582581, 'learning_rate': 0.002739094823502232, 'weight_decay': 0.0002881184189477806}. Best is trial 40 with value: 0.6830352303523035.\n",
      "[I 2024-09-08 20:40:34,393] Trial 84 finished with value: 0.6645284327323162 and parameters: {'hidden_dim': 102, 'heads': 5, 'dropout': 0.3709919862361717, 'learning_rate': 0.0028505901595847747, 'weight_decay': 0.0003001292494340823}. Best is trial 40 with value: 0.6830352303523035.\n",
      "[I 2024-09-08 20:40:36,905] Trial 85 finished with value: 0.6383123049789716 and parameters: {'hidden_dim': 119, 'heads': 6, 'dropout': 0.4556803559596652, 'learning_rate': 0.004674280340065918, 'weight_decay': 0.00038015010176440045}. Best is trial 40 with value: 0.6830352303523035.\n",
      "[I 2024-09-08 20:40:42,512] Trial 86 finished with value: 0.6433353753408616 and parameters: {'hidden_dim': 105, 'heads': 7, 'dropout': 0.3779390000527168, 'learning_rate': 0.00026928711476426016, 'weight_decay': 0.00022773221877586377}. Best is trial 40 with value: 0.6830352303523035.\n",
      "[I 2024-09-08 20:40:47,089] Trial 87 finished with value: 0.6720770616200897 and parameters: {'hidden_dim': 91, 'heads': 6, 'dropout': 0.29855991052682773, 'learning_rate': 0.007607261569096286, 'weight_decay': 0.000280155772195124}. Best is trial 40 with value: 0.6830352303523035.\n",
      "[I 2024-09-08 20:40:48,917] Trial 88 finished with value: 0.6533395604334507 and parameters: {'hidden_dim': 108, 'heads': 5, 'dropout': 0.32135389047688323, 'learning_rate': 0.003351993279581112, 'weight_decay': 0.0004760374615074306}. Best is trial 40 with value: 0.6830352303523035.\n",
      "[I 2024-09-08 20:40:53,085] Trial 89 finished with value: 0.6436290361896095 and parameters: {'hidden_dim': 98, 'heads': 7, 'dropout': 0.21828193047754837, 'learning_rate': 0.008740738630457495, 'weight_decay': 0.0004230010062950746}. Best is trial 40 with value: 0.6830352303523035.\n",
      "[I 2024-09-08 20:40:55,283] Trial 90 finished with value: 0.648789722785666 and parameters: {'hidden_dim': 111, 'heads': 6, 'dropout': 0.35019948469282713, 'learning_rate': 0.0024999437129995185, 'weight_decay': 0.00017102715803802998}. Best is trial 40 with value: 0.6830352303523035.\n",
      "[I 2024-09-08 20:40:58,682] Trial 91 finished with value: 0.6460215333290007 and parameters: {'hidden_dim': 93, 'heads': 6, 'dropout': 0.2512599346528191, 'learning_rate': 0.0021161972487759952, 'weight_decay': 0.0005930591526662844}. Best is trial 40 with value: 0.6830352303523035.\n",
      "[I 2024-09-08 20:41:01,766] Trial 92 finished with value: 0.6345496965858465 and parameters: {'hidden_dim': 115, 'heads': 6, 'dropout': 0.20268583603108448, 'learning_rate': 0.0006869317714874583, 'weight_decay': 0.0006549105200672088}. Best is trial 40 with value: 0.6830352303523035.\n",
      "[I 2024-09-08 20:41:04,840] Trial 93 finished with value: 0.6693095903468296 and parameters: {'hidden_dim': 77, 'heads': 6, 'dropout': 0.2747068469440158, 'learning_rate': 0.0017061660784296819, 'weight_decay': 0.0005400631363041478}. Best is trial 40 with value: 0.6830352303523035.\n",
      "[I 2024-09-08 20:41:07,068] Trial 94 finished with value: 0.6614559295437392 and parameters: {'hidden_dim': 100, 'heads': 6, 'dropout': 0.23977811268309604, 'learning_rate': 0.0013526404145979148, 'weight_decay': 0.0007263681745172629}. Best is trial 40 with value: 0.6830352303523035.\n",
      "[I 2024-09-08 20:41:08,646] Trial 95 finished with value: 0.6672961113305451 and parameters: {'hidden_dim': 85, 'heads': 5, 'dropout': 0.4066688096647993, 'learning_rate': 0.002790901406682462, 'weight_decay': 0.0003390527454678033}. Best is trial 40 with value: 0.6830352303523035.\n",
      "[I 2024-09-08 20:41:11,259] Trial 96 finished with value: 0.6394861392832996 and parameters: {'hidden_dim': 81, 'heads': 8, 'dropout': 0.22795789761035126, 'learning_rate': 0.0011022329290660904, 'weight_decay': 0.00012204726947955506}. Best is trial 40 with value: 0.6830352303523035.\n",
      "[I 2024-09-08 20:41:13,203] Trial 97 finished with value: 0.6627888739257649 and parameters: {'hidden_dim': 90, 'heads': 7, 'dropout': 0.32841604692426635, 'learning_rate': 0.003110464112563064, 'weight_decay': 0.0007747175212554286}. Best is trial 40 with value: 0.6830352303523035.\n",
      "[I 2024-09-08 20:41:15,760] Trial 98 finished with value: 0.6651090342679127 and parameters: {'hidden_dim': 95, 'heads': 6, 'dropout': 0.2905318710015805, 'learning_rate': 0.0014250012645155088, 'weight_decay': 0.0006246414188377145}. Best is trial 40 with value: 0.6830352303523035.\n",
      "[I 2024-09-08 20:41:17,529] Trial 99 finished with value: 0.6575887880235707 and parameters: {'hidden_dim': 72, 'heads': 6, 'dropout': 0.26502090389479255, 'learning_rate': 0.006269370600239253, 'weight_decay': 0.0007119651013590709}. Best is trial 40 with value: 0.6830352303523035.\n"
     ]
    },
    {
     "name": "stdout",
     "output_type": "stream",
     "text": [
      "Best hyperparameters:  {'hidden_dim': 100, 'heads': 6, 'dropout': 0.2174982406445419, 'learning_rate': 0.0008434325893669442, 'weight_decay': 0.0005252095294587037}\n",
      "Best F1 score: 0.6830352303523035\n"
     ]
    }
   ],
   "source": [
    "study = optuna.create_study(direction='maximize')\n",
    "study.optimize(objective, n_trials=100)\n",
    "\n",
    "# Print hyperparameters and best F1 score\n",
    "print('Best hyperparameters: ', study.best_params)\n",
    "print(f\"Best F1 score: {study.best_value}\")"
   ]
  },
  {
   "cell_type": "markdown",
   "metadata": {},
   "source": [
    "## Training model with optimized hyperparameters"
   ]
  },
  {
   "cell_type": "code",
   "execution_count": 85,
   "metadata": {},
   "outputs": [],
   "source": [
    "# Final training using best hyperparameters\n",
    "best_params = study.best_params\n",
    "\n",
    "\n",
    "model = GAT(input_dim=node_features.shape[1], hidden_dim=best_params['hidden_dim'], \n",
    "            output_dim=2, heads=best_params['heads'], dropout=best_params['dropout'])\n",
    "optimizer = torch.optim.Adam(model.parameters(), lr=best_params['learning_rate'], weight_decay=best_params['weight_decay'])\n",
    "\n",
    "# Train on the full train data\n",
    "model.train()\n",
    "for epoch in range(200):\n",
    "    optimizer.zero_grad()\n",
    "    out = model(node_features, edge_index)\n",
    "    loss = F.nll_loss(out[train_mask], torch.tensor(train_labels, dtype=torch.long), weight=class_weights_tensor)\n",
    "    loss.backward()\n",
    "    optimizer.step()"
   ]
  },
  {
   "cell_type": "code",
   "execution_count": 86,
   "metadata": {},
   "outputs": [],
   "source": [
    "# Make predictions on the test set\n",
    "model.eval()\n",
    "test_out = model(node_features, edge_index)\n",
    "test_pred = test_out[test_mask].argmax(dim=1)\n",
    "\n",
    "# Save or process predictions\n",
    "test_df['resign'] = test_pred.cpu().numpy()"
   ]
  },
  {
   "cell_type": "code",
   "execution_count": 87,
   "metadata": {},
   "outputs": [
    {
     "data": {
      "text/plain": [
       "resign\n",
       "0    1602\n",
       "1     418\n",
       "Name: count, dtype: int64"
      ]
     },
     "execution_count": 87,
     "metadata": {},
     "output_type": "execute_result"
    }
   ],
   "source": [
    "test_df['resign'].value_counts()"
   ]
  },
  {
   "cell_type": "code",
   "execution_count": 88,
   "metadata": {},
   "outputs": [],
   "source": [
    "test_df[['id_employee', 'resign']].rename({'id_employee':'ID', 'resign':'abandono_6meses'}, axis=1).to_csv('sub_GAT_full.csv', index=False)"
   ]
  }
 ],
 "metadata": {
  "kernelspec": {
   "display_name": "Python 3",
   "language": "python",
   "name": "python3"
  },
  "language_info": {
   "codemirror_mode": {
    "name": "ipython",
    "version": 3
   },
   "file_extension": ".py",
   "mimetype": "text/x-python",
   "name": "python",
   "nbconvert_exporter": "python",
   "pygments_lexer": "ipython3",
   "version": "3.9.18"
  }
 },
 "nbformat": 4,
 "nbformat_minor": 2
}
