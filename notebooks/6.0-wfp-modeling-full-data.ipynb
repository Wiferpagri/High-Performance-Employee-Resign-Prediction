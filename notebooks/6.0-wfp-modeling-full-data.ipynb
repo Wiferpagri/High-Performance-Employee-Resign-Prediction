{
 "cells": [
  {
   "cell_type": "markdown",
   "metadata": {},
   "source": [
    "# Modeling full data\n",
    "\n",
    "Since our full data has many features due to node embeddings, we need to use robust models as XGBoost, Support Vector Machine and a Neural Network. The metric chosen metric for this evaluation is F1-Score because both classes have the same weight"
   ]
  },
  {
   "cell_type": "markdown",
   "metadata": {},
   "source": [
    "## Preparing environment"
   ]
  },
  {
   "cell_type": "code",
   "execution_count": 1,
   "metadata": {},
   "outputs": [],
   "source": [
    "import pandas as pd\n",
    "import numpy as np\n",
    "import sys\n",
    "from sklearn.metrics import f1_score, make_scorer\n",
    "from sklearn.model_selection import KFold, cross_val_score, RandomizedSearchCV\n",
    "from xgboost import XGBClassifier\n",
    "import torch\n",
    "import torch.nn as nn\n",
    "import torch.optim as optim\n",
    "from torch.utils.data import TensorDataset, DataLoader, Subset\n",
    "import optuna\n",
    "sys.path.append('../high_performance_employee_resign_prediction')\n",
    "from utils import paths"
   ]
  },
  {
   "cell_type": "code",
   "execution_count": 2,
   "metadata": {},
   "outputs": [],
   "source": [
    "import warnings\n",
    "warnings.simplefilter(action='ignore', category=FutureWarning)"
   ]
  },
  {
   "cell_type": "markdown",
   "metadata": {},
   "source": [
    "## Importing data"
   ]
  },
  {
   "cell_type": "code",
   "execution_count": 5,
   "metadata": {},
   "outputs": [],
   "source": [
    "train_df = pd.read_csv(paths.data_processed_dir('train_dimrdcd.csv'))\n",
    "test_df = pd.read_csv(paths.data_processed_dir('test_dimrdcd.csv'))"
   ]
  },
  {
   "cell_type": "code",
   "execution_count": 6,
   "metadata": {},
   "outputs": [],
   "source": [
    "# Saving id_employee_employee for submission\n",
    "\n",
    "id_col = test_df['id_employee']"
   ]
  },
  {
   "cell_type": "code",
   "execution_count": 7,
   "metadata": {},
   "outputs": [],
   "source": [
    "y = train_df['resign']"
   ]
  },
  {
   "cell_type": "code",
   "execution_count": 8,
   "metadata": {},
   "outputs": [],
   "source": [
    "# Dropping unnecessary columns\n",
    "\n",
    "X = train_df.drop(columns=['id_employee', 'id_last_boss', 'resign'])\n",
    "X_test = test_df.drop(columns=['id_employee', 'id_last_boss'])"
   ]
  },
  {
   "cell_type": "markdown",
   "metadata": {},
   "source": [
    "## Preparing cross validation"
   ]
  },
  {
   "cell_type": "code",
   "execution_count": 9,
   "metadata": {},
   "outputs": [],
   "source": [
    "# Folding data\n",
    "\n",
    "kf = KFold(n_splits=5, shuffle=True, random_state=42)"
   ]
  },
  {
   "cell_type": "markdown",
   "metadata": {},
   "source": [
    "## Evaluating XGBoost Model"
   ]
  },
  {
   "cell_type": "code",
   "execution_count": 10,
   "metadata": {},
   "outputs": [],
   "source": [
    "# Creating base model\n",
    "\n",
    "xgb_base = XGBClassifier(random_state=42, eval_metric='mlogloss')"
   ]
  },
  {
   "cell_type": "code",
   "execution_count": 11,
   "metadata": {},
   "outputs": [
    {
     "data": {
      "text/plain": [
       "array([0.66357309, 0.65251989, 0.67175573, 0.67010309, 0.70813397])"
      ]
     },
     "execution_count": 11,
     "metadata": {},
     "output_type": "execute_result"
    }
   ],
   "source": [
    "# Making cross-validation in xgboost\n",
    "\n",
    "cv_results = cross_val_score(xgb_base, X, y, cv=kf, scoring='f1')\n",
    "cv_results"
   ]
  },
  {
   "cell_type": "markdown",
   "metadata": {},
   "source": [
    "Initial f1 results are good, let's optimize the model with cross-validation"
   ]
  },
  {
   "cell_type": "code",
   "execution_count": 12,
   "metadata": {},
   "outputs": [],
   "source": [
    "# Defining param grid\n",
    "\n",
    "param_dist = {\n",
    "    'n_estimators': [100, 200, 300, 400, 500],\n",
    "    'max_depth': [3, 4, 5, 6, 7],\n",
    "    'learning_rate': [0.01, 0.05, 0.1, 0.2],\n",
    "    'subsample': [0.6, 0.7, 0.8, 0.9, 1.0],\n",
    "    'colsample_bytree': [0.6, 0.7, 0.8, 0.9, 1.0],\n",
    "    'gamma': [0, 0.1, 0.2, 0.3, 0.4, 0.5],\n",
    "    'min_child_weight': [1, 2, 3, 4, 5]\n",
    "}"
   ]
  },
  {
   "cell_type": "code",
   "execution_count": 13,
   "metadata": {},
   "outputs": [],
   "source": [
    "# Defining random search\n",
    "\n",
    "random_search = RandomizedSearchCV(\n",
    "    estimator=xgb_base,\n",
    "    param_distributions=param_dist,\n",
    "    scoring=make_scorer(f1_score),\n",
    "    n_iter=100,  # Number of different combinations to try\n",
    "    cv=kf,\n",
    "    verbose=2,\n",
    "    random_state=42,\n",
    "    n_jobs=-1  # Use all available cores\n",
    ")"
   ]
  },
  {
   "cell_type": "code",
   "execution_count": 14,
   "metadata": {},
   "outputs": [
    {
     "name": "stdout",
     "output_type": "stream",
     "text": [
      "Fitting 5 folds for each of 100 candidates, totalling 500 fits\n"
     ]
    },
    {
     "data": {
      "text/html": [
       "<style>#sk-container-id-1 {color: black;}#sk-container-id-1 pre{padding: 0;}#sk-container-id-1 div.sk-toggleable {background-color: white;}#sk-container-id-1 label.sk-toggleable__label {cursor: pointer;display: block;width: 100%;margin-bottom: 0;padding: 0.3em;box-sizing: border-box;text-align: center;}#sk-container-id-1 label.sk-toggleable__label-arrow:before {content: \"▸\";float: left;margin-right: 0.25em;color: #696969;}#sk-container-id-1 label.sk-toggleable__label-arrow:hover:before {color: black;}#sk-container-id-1 div.sk-estimator:hover label.sk-toggleable__label-arrow:before {color: black;}#sk-container-id-1 div.sk-toggleable__content {max-height: 0;max-width: 0;overflow: hidden;text-align: left;background-color: #f0f8ff;}#sk-container-id-1 div.sk-toggleable__content pre {margin: 0.2em;color: black;border-radius: 0.25em;background-color: #f0f8ff;}#sk-container-id-1 input.sk-toggleable__control:checked~div.sk-toggleable__content {max-height: 200px;max-width: 100%;overflow: auto;}#sk-container-id-1 input.sk-toggleable__control:checked~label.sk-toggleable__label-arrow:before {content: \"▾\";}#sk-container-id-1 div.sk-estimator input.sk-toggleable__control:checked~label.sk-toggleable__label {background-color: #d4ebff;}#sk-container-id-1 div.sk-label input.sk-toggleable__control:checked~label.sk-toggleable__label {background-color: #d4ebff;}#sk-container-id-1 input.sk-hidden--visually {border: 0;clip: rect(1px 1px 1px 1px);clip: rect(1px, 1px, 1px, 1px);height: 1px;margin: -1px;overflow: hidden;padding: 0;position: absolute;width: 1px;}#sk-container-id-1 div.sk-estimator {font-family: monospace;background-color: #f0f8ff;border: 1px dotted black;border-radius: 0.25em;box-sizing: border-box;margin-bottom: 0.5em;}#sk-container-id-1 div.sk-estimator:hover {background-color: #d4ebff;}#sk-container-id-1 div.sk-parallel-item::after {content: \"\";width: 100%;border-bottom: 1px solid gray;flex-grow: 1;}#sk-container-id-1 div.sk-label:hover label.sk-toggleable__label {background-color: #d4ebff;}#sk-container-id-1 div.sk-serial::before {content: \"\";position: absolute;border-left: 1px solid gray;box-sizing: border-box;top: 0;bottom: 0;left: 50%;z-index: 0;}#sk-container-id-1 div.sk-serial {display: flex;flex-direction: column;align-items: center;background-color: white;padding-right: 0.2em;padding-left: 0.2em;position: relative;}#sk-container-id-1 div.sk-item {position: relative;z-index: 1;}#sk-container-id-1 div.sk-parallel {display: flex;align-items: stretch;justify-content: center;background-color: white;position: relative;}#sk-container-id-1 div.sk-item::before, #sk-container-id-1 div.sk-parallel-item::before {content: \"\";position: absolute;border-left: 1px solid gray;box-sizing: border-box;top: 0;bottom: 0;left: 50%;z-index: -1;}#sk-container-id-1 div.sk-parallel-item {display: flex;flex-direction: column;z-index: 1;position: relative;background-color: white;}#sk-container-id-1 div.sk-parallel-item:first-child::after {align-self: flex-end;width: 50%;}#sk-container-id-1 div.sk-parallel-item:last-child::after {align-self: flex-start;width: 50%;}#sk-container-id-1 div.sk-parallel-item:only-child::after {width: 0;}#sk-container-id-1 div.sk-dashed-wrapped {border: 1px dashed gray;margin: 0 0.4em 0.5em 0.4em;box-sizing: border-box;padding-bottom: 0.4em;background-color: white;}#sk-container-id-1 div.sk-label label {font-family: monospace;font-weight: bold;display: inline-block;line-height: 1.2em;}#sk-container-id-1 div.sk-label-container {text-align: center;}#sk-container-id-1 div.sk-container {/* jupyter's `normalize.less` sets `[hidden] { display: none; }` but bootstrap.min.css set `[hidden] { display: none !important; }` so we also need the `!important` here to be able to override the default hidden behavior on the sphinx rendered scikit-learn.org. See: https://github.com/scikit-learn/scikit-learn/issues/21755 */display: inline-block !important;position: relative;}#sk-container-id-1 div.sk-text-repr-fallback {display: none;}</style><div id=\"sk-container-id-1\" class=\"sk-top-container\"><div class=\"sk-text-repr-fallback\"><pre>RandomizedSearchCV(cv=KFold(n_splits=5, random_state=42, shuffle=True),\n",
       "                   estimator=XGBClassifier(base_score=None, booster=None,\n",
       "                                           callbacks=None,\n",
       "                                           colsample_bylevel=None,\n",
       "                                           colsample_bynode=None,\n",
       "                                           colsample_bytree=None, device=None,\n",
       "                                           early_stopping_rounds=None,\n",
       "                                           enable_categorical=False,\n",
       "                                           eval_metric=&#x27;mlogloss&#x27;,\n",
       "                                           feature_types=None, gamma=None,\n",
       "                                           grow_policy=None,\n",
       "                                           importance_t...\n",
       "                                           random_state=42, ...),\n",
       "                   n_iter=100, n_jobs=-1,\n",
       "                   param_distributions={&#x27;colsample_bytree&#x27;: [0.6, 0.7, 0.8, 0.9,\n",
       "                                                             1.0],\n",
       "                                        &#x27;gamma&#x27;: [0, 0.1, 0.2, 0.3, 0.4, 0.5],\n",
       "                                        &#x27;learning_rate&#x27;: [0.01, 0.05, 0.1, 0.2],\n",
       "                                        &#x27;max_depth&#x27;: [3, 4, 5, 6, 7],\n",
       "                                        &#x27;min_child_weight&#x27;: [1, 2, 3, 4, 5],\n",
       "                                        &#x27;n_estimators&#x27;: [100, 200, 300, 400,\n",
       "                                                         500],\n",
       "                                        &#x27;subsample&#x27;: [0.6, 0.7, 0.8, 0.9, 1.0]},\n",
       "                   random_state=42, scoring=make_scorer(f1_score), verbose=2)</pre><b>In a Jupyter environment, please rerun this cell to show the HTML representation or trust the notebook. <br />On GitHub, the HTML representation is unable to render, please try loading this page with nbviewer.org.</b></div><div class=\"sk-container\" hidden><div class=\"sk-item sk-dashed-wrapped\"><div class=\"sk-label-container\"><div class=\"sk-label sk-toggleable\"><input class=\"sk-toggleable__control sk-hidden--visually\" id=\"sk-estimator-id-1\" type=\"checkbox\" ><label for=\"sk-estimator-id-1\" class=\"sk-toggleable__label sk-toggleable__label-arrow\">RandomizedSearchCV</label><div class=\"sk-toggleable__content\"><pre>RandomizedSearchCV(cv=KFold(n_splits=5, random_state=42, shuffle=True),\n",
       "                   estimator=XGBClassifier(base_score=None, booster=None,\n",
       "                                           callbacks=None,\n",
       "                                           colsample_bylevel=None,\n",
       "                                           colsample_bynode=None,\n",
       "                                           colsample_bytree=None, device=None,\n",
       "                                           early_stopping_rounds=None,\n",
       "                                           enable_categorical=False,\n",
       "                                           eval_metric=&#x27;mlogloss&#x27;,\n",
       "                                           feature_types=None, gamma=None,\n",
       "                                           grow_policy=None,\n",
       "                                           importance_t...\n",
       "                                           random_state=42, ...),\n",
       "                   n_iter=100, n_jobs=-1,\n",
       "                   param_distributions={&#x27;colsample_bytree&#x27;: [0.6, 0.7, 0.8, 0.9,\n",
       "                                                             1.0],\n",
       "                                        &#x27;gamma&#x27;: [0, 0.1, 0.2, 0.3, 0.4, 0.5],\n",
       "                                        &#x27;learning_rate&#x27;: [0.01, 0.05, 0.1, 0.2],\n",
       "                                        &#x27;max_depth&#x27;: [3, 4, 5, 6, 7],\n",
       "                                        &#x27;min_child_weight&#x27;: [1, 2, 3, 4, 5],\n",
       "                                        &#x27;n_estimators&#x27;: [100, 200, 300, 400,\n",
       "                                                         500],\n",
       "                                        &#x27;subsample&#x27;: [0.6, 0.7, 0.8, 0.9, 1.0]},\n",
       "                   random_state=42, scoring=make_scorer(f1_score), verbose=2)</pre></div></div></div><div class=\"sk-parallel\"><div class=\"sk-parallel-item\"><div class=\"sk-item\"><div class=\"sk-label-container\"><div class=\"sk-label sk-toggleable\"><input class=\"sk-toggleable__control sk-hidden--visually\" id=\"sk-estimator-id-2\" type=\"checkbox\" ><label for=\"sk-estimator-id-2\" class=\"sk-toggleable__label sk-toggleable__label-arrow\">estimator: XGBClassifier</label><div class=\"sk-toggleable__content\"><pre>XGBClassifier(base_score=None, booster=None, callbacks=None,\n",
       "              colsample_bylevel=None, colsample_bynode=None,\n",
       "              colsample_bytree=None, device=None, early_stopping_rounds=None,\n",
       "              enable_categorical=False, eval_metric=&#x27;mlogloss&#x27;,\n",
       "              feature_types=None, gamma=None, grow_policy=None,\n",
       "              importance_type=None, interaction_constraints=None,\n",
       "              learning_rate=None, max_bin=None, max_cat_threshold=None,\n",
       "              max_cat_to_onehot=None, max_delta_step=None, max_depth=None,\n",
       "              max_leaves=None, min_child_weight=None, missing=nan,\n",
       "              monotone_constraints=None, multi_strategy=None, n_estimators=None,\n",
       "              n_jobs=None, num_parallel_tree=None, random_state=42, ...)</pre></div></div></div><div class=\"sk-serial\"><div class=\"sk-item\"><div class=\"sk-estimator sk-toggleable\"><input class=\"sk-toggleable__control sk-hidden--visually\" id=\"sk-estimator-id-3\" type=\"checkbox\" ><label for=\"sk-estimator-id-3\" class=\"sk-toggleable__label sk-toggleable__label-arrow\">XGBClassifier</label><div class=\"sk-toggleable__content\"><pre>XGBClassifier(base_score=None, booster=None, callbacks=None,\n",
       "              colsample_bylevel=None, colsample_bynode=None,\n",
       "              colsample_bytree=None, device=None, early_stopping_rounds=None,\n",
       "              enable_categorical=False, eval_metric=&#x27;mlogloss&#x27;,\n",
       "              feature_types=None, gamma=None, grow_policy=None,\n",
       "              importance_type=None, interaction_constraints=None,\n",
       "              learning_rate=None, max_bin=None, max_cat_threshold=None,\n",
       "              max_cat_to_onehot=None, max_delta_step=None, max_depth=None,\n",
       "              max_leaves=None, min_child_weight=None, missing=nan,\n",
       "              monotone_constraints=None, multi_strategy=None, n_estimators=None,\n",
       "              n_jobs=None, num_parallel_tree=None, random_state=42, ...)</pre></div></div></div></div></div></div></div></div></div></div>"
      ],
      "text/plain": [
       "RandomizedSearchCV(cv=KFold(n_splits=5, random_state=42, shuffle=True),\n",
       "                   estimator=XGBClassifier(base_score=None, booster=None,\n",
       "                                           callbacks=None,\n",
       "                                           colsample_bylevel=None,\n",
       "                                           colsample_bynode=None,\n",
       "                                           colsample_bytree=None, device=None,\n",
       "                                           early_stopping_rounds=None,\n",
       "                                           enable_categorical=False,\n",
       "                                           eval_metric='mlogloss',\n",
       "                                           feature_types=None, gamma=None,\n",
       "                                           grow_policy=None,\n",
       "                                           importance_t...\n",
       "                                           random_state=42, ...),\n",
       "                   n_iter=100, n_jobs=-1,\n",
       "                   param_distributions={'colsample_bytree': [0.6, 0.7, 0.8, 0.9,\n",
       "                                                             1.0],\n",
       "                                        'gamma': [0, 0.1, 0.2, 0.3, 0.4, 0.5],\n",
       "                                        'learning_rate': [0.01, 0.05, 0.1, 0.2],\n",
       "                                        'max_depth': [3, 4, 5, 6, 7],\n",
       "                                        'min_child_weight': [1, 2, 3, 4, 5],\n",
       "                                        'n_estimators': [100, 200, 300, 400,\n",
       "                                                         500],\n",
       "                                        'subsample': [0.6, 0.7, 0.8, 0.9, 1.0]},\n",
       "                   random_state=42, scoring=make_scorer(f1_score), verbose=2)"
      ]
     },
     "execution_count": 14,
     "metadata": {},
     "output_type": "execute_result"
    }
   ],
   "source": [
    "# Optimizing model\n",
    "\n",
    "random_search.fit(X, y)"
   ]
  },
  {
   "cell_type": "code",
   "execution_count": 15,
   "metadata": {},
   "outputs": [
    {
     "name": "stdout",
     "output_type": "stream",
     "text": [
      "Best parameters found: {'subsample': 0.9, 'n_estimators': 300, 'min_child_weight': 3, 'max_depth': 3, 'learning_rate': 0.01, 'gamma': 0.3, 'colsample_bytree': 1.0}\n",
      "Best cross-validation F1 score: 0.7338862001086277\n"
     ]
    }
   ],
   "source": [
    "print(f\"Best parameters found: {random_search.best_params_}\")\n",
    "print(f\"Best cross-validation F1 score: {random_search.best_score_}\")"
   ]
  },
  {
   "cell_type": "markdown",
   "metadata": {},
   "source": [
    "# Evaluating and optimizing neural network"
   ]
  },
  {
   "cell_type": "code",
   "execution_count": 16,
   "metadata": {},
   "outputs": [],
   "source": [
    "X_train_tensor = torch.from_numpy(X.to_numpy()).float()\n",
    "X_test_tensor = torch.from_numpy(X_test.to_numpy()).float()\n",
    "y_tensor = torch.from_numpy(y.to_numpy()).long()"
   ]
  },
  {
   "cell_type": "code",
   "execution_count": 17,
   "metadata": {},
   "outputs": [],
   "source": [
    "# Defining Neural Network\n",
    "\n",
    "class Net(nn.Module):\n",
    "    def __init__(self, input_size, num_classes, num_layers, hidden_size, dropout_rate, activation_fn):\n",
    "        super(Net, self).__init__()\n",
    "        layers = []\n",
    "        in_size = input_size\n",
    "        \n",
    "        for _ in range(num_layers):\n",
    "            layers.append(nn.Linear(in_size, hidden_size))\n",
    "            layers.append(activation_fn)\n",
    "            layers.append(nn.Dropout(dropout_rate))\n",
    "            in_size = hidden_size\n",
    "        \n",
    "        layers.append(nn.Linear(in_size, num_classes))\n",
    "        self.network = nn.Sequential(*layers)\n",
    "    \n",
    "    def forward(self, x):\n",
    "        return self.network(x)"
   ]
  },
  {
   "cell_type": "markdown",
   "metadata": {},
   "source": [
    "## Defining function to optimize with Optuna"
   ]
  },
  {
   "cell_type": "code",
   "execution_count": 18,
   "metadata": {},
   "outputs": [],
   "source": [
    "# Defining objective function\n",
    "\n",
    "def objective(trial):\n",
    "    # Hyperparameters to tune\n",
    "    num_layers = trial.suggest_int('num_layers', 1, 3)\n",
    "    hidden_size = trial.suggest_int('hidden_size', 32, 256, log=True)\n",
    "    dropout_rate = trial.suggest_uniform('dropout_rate', 0.1, 0.5)\n",
    "    weight_decay = trial.suggest_loguniform('weight_decay', 1e-5, 1e-2)\n",
    "    learning_rate = trial.suggest_loguniform('learning_rate', 1e-4, 1e-1)\n",
    "    batch_size = trial.suggest_categorical('batch_size', [16, 32, 64, 128])\n",
    "    activation_name = trial.suggest_categorical('activation', ['ReLU', 'LeakyReLU', 'ELU'])\n",
    "\n",
    "    # Choose activation function\n",
    "    if activation_name == 'ReLU':\n",
    "        activation_fn = nn.ReLU()\n",
    "    elif activation_name == 'LeakyReLU':\n",
    "        activation_fn = nn.LeakyReLU()\n",
    "    else:\n",
    "        activation_fn = nn.ELU()\n",
    "        \n",
    "    skf = KFold(n_splits=5, shuffle=True, random_state=42)\n",
    "    f1_scores = []\n",
    "    \n",
    "\n",
    "    for train_index, val_index in skf.split(X_train_tensor, y_tensor):\n",
    "        X_train_fold = X_train_tensor[train_index]\n",
    "        y_train_fold = y_tensor[train_index]\n",
    "        X_val_fold = X_train_tensor[val_index]\n",
    "        y_val_fold = y_tensor[val_index]\n",
    "\n",
    "        train_dataset = TensorDataset(X_train_fold, y_train_fold)\n",
    "        val_dataset = TensorDataset(X_val_fold, y_val_fold)\n",
    "\n",
    "        train_loader = DataLoader(train_dataset, batch_size=batch_size, shuffle=True)\n",
    "        val_loader = DataLoader(val_dataset, batch_size=batch_size)\n",
    "\n",
    "        model = Net(input_size=X_train_tensor.shape[1],\n",
    "                    num_classes=2,\n",
    "                    num_layers=num_layers,\n",
    "                    hidden_size=hidden_size,\n",
    "                    dropout_rate=dropout_rate,\n",
    "                    activation_fn=activation_fn)\n",
    "\n",
    "        criterion = nn.CrossEntropyLoss()\n",
    "        optimizer = optim.Adam(model.parameters(), lr=learning_rate, weight_decay=weight_decay)\n",
    "\n",
    "        # Early stopping parameters\n",
    "        best_val_f1 = 0\n",
    "        patience = 10\n",
    "        trigger_times = 0\n",
    "\n",
    "        for epoch in range(50):  # Max epochs\n",
    "            model.train()\n",
    "            for X_batch, y_batch in train_loader:\n",
    "                optimizer.zero_grad()\n",
    "                outputs = model(X_batch)\n",
    "                loss = criterion(outputs, y_batch)\n",
    "                loss.backward()\n",
    "                optimizer.step()\n",
    "\n",
    "            # Validation\n",
    "            model.eval()\n",
    "            all_preds = []\n",
    "            all_labels = []\n",
    "            with torch.no_grad():\n",
    "                for X_batch, y_batch in val_loader:\n",
    "                    outputs = model(X_batch)\n",
    "                    _, predicted = torch.max(outputs.data, 1)\n",
    "                    all_preds.extend(predicted.cpu().numpy())\n",
    "                    all_labels.extend(y_batch.cpu().numpy())\n",
    "\n",
    "            val_f1 = f1_score(all_labels, all_preds, average='binary')\n",
    "\n",
    "            # Early stopping check\n",
    "            if val_f1 > best_val_f1:\n",
    "                best_val_f1 = val_f1\n",
    "                trigger_times = 0\n",
    "            else:\n",
    "                trigger_times += 1\n",
    "                if trigger_times >= patience:\n",
    "                    break  # Early stopping\n",
    "\n",
    "        f1_scores.append(best_val_f1)\n",
    "\n",
    "    # Return the average F1-score across folds\n",
    "    return np.mean(f1_scores)"
   ]
  },
  {
   "cell_type": "code",
   "execution_count": 19,
   "metadata": {},
   "outputs": [
    {
     "name": "stderr",
     "output_type": "stream",
     "text": [
      "[I 2024-09-30 20:22:46,355] A new study created in memory with name: no-name-9f00cfb9-af53-4822-95b5-6f4e7497362c\n",
      "[I 2024-09-30 20:23:11,029] Trial 0 finished with value: 0.7362293486028679 and parameters: {'num_layers': 3, 'hidden_size': 63, 'dropout_rate': 0.15532290695104117, 'weight_decay': 0.0001557333608235515, 'learning_rate': 0.0007025882796000155, 'batch_size': 16, 'activation': 'ReLU'}. Best is trial 0 with value: 0.7362293486028679.\n",
      "[I 2024-09-30 20:23:16,164] Trial 1 finished with value: 0.7362293486028679 and parameters: {'num_layers': 2, 'hidden_size': 49, 'dropout_rate': 0.25881336517020515, 'weight_decay': 0.0001264155014570637, 'learning_rate': 0.004168917092493062, 'batch_size': 64, 'activation': 'LeakyReLU'}. Best is trial 0 with value: 0.7362293486028679.\n",
      "[I 2024-09-30 20:23:22,440] Trial 2 finished with value: 0.536462372665893 and parameters: {'num_layers': 3, 'hidden_size': 121, 'dropout_rate': 0.33226652409790153, 'weight_decay': 0.0003559471884281773, 'learning_rate': 0.04331403282336362, 'batch_size': 128, 'activation': 'LeakyReLU'}. Best is trial 0 with value: 0.7362293486028679.\n",
      "[I 2024-09-30 20:23:34,045] Trial 3 finished with value: 0.7362293486028679 and parameters: {'num_layers': 3, 'hidden_size': 135, 'dropout_rate': 0.3104816367659937, 'weight_decay': 0.002813396995259734, 'learning_rate': 0.00043503460476013915, 'batch_size': 32, 'activation': 'ReLU'}. Best is trial 0 with value: 0.7362293486028679.\n",
      "[I 2024-09-30 20:23:46,999] Trial 4 finished with value: 0.7362293486028679 and parameters: {'num_layers': 3, 'hidden_size': 35, 'dropout_rate': 0.21887179181280164, 'weight_decay': 2.238987873324826e-05, 'learning_rate': 0.000269007995644272, 'batch_size': 32, 'activation': 'ELU'}. Best is trial 0 with value: 0.7362293486028679.\n",
      "[I 2024-09-30 20:23:57,750] Trial 5 finished with value: 0.7362293486028679 and parameters: {'num_layers': 3, 'hidden_size': 83, 'dropout_rate': 0.14896438118810185, 'weight_decay': 0.002240269736684243, 'learning_rate': 0.000256371764035692, 'batch_size': 32, 'activation': 'LeakyReLU'}. Best is trial 0 with value: 0.7362293486028679.\n",
      "[I 2024-09-30 20:24:06,471] Trial 6 finished with value: 0.7362293486028679 and parameters: {'num_layers': 3, 'hidden_size': 162, 'dropout_rate': 0.4468363326462349, 'weight_decay': 0.0001472449001389772, 'learning_rate': 0.003286157706167171, 'batch_size': 64, 'activation': 'ELU'}. Best is trial 0 with value: 0.7362293486028679.\n",
      "[I 2024-09-30 20:24:20,488] Trial 7 finished with value: 0.7362293486028679 and parameters: {'num_layers': 2, 'hidden_size': 127, 'dropout_rate': 0.3951544444583577, 'weight_decay': 0.004285021034812885, 'learning_rate': 0.001007808382777628, 'batch_size': 16, 'activation': 'ReLU'}. Best is trial 0 with value: 0.7362293486028679.\n",
      "[I 2024-09-30 20:24:27,148] Trial 8 finished with value: 0.7362293486028679 and parameters: {'num_layers': 1, 'hidden_size': 170, 'dropout_rate': 0.27904831197321167, 'weight_decay': 0.00022512758939887683, 'learning_rate': 0.000687244190248748, 'batch_size': 32, 'activation': 'ReLU'}. Best is trial 0 with value: 0.7362293486028679.\n",
      "[I 2024-09-30 20:24:31,585] Trial 9 finished with value: 0.5969074759232929 and parameters: {'num_layers': 3, 'hidden_size': 57, 'dropout_rate': 0.18566711575385741, 'weight_decay': 0.00011671087333087014, 'learning_rate': 0.00023274048603859796, 'batch_size': 128, 'activation': 'LeakyReLU'}. Best is trial 0 with value: 0.7362293486028679.\n",
      "[I 2024-09-30 20:24:41,213] Trial 10 finished with value: 0.728288552004552 and parameters: {'num_layers': 1, 'hidden_size': 75, 'dropout_rate': 0.1240203638370832, 'weight_decay': 1.5188800090895132e-05, 'learning_rate': 0.011264366847450209, 'batch_size': 16, 'activation': 'ReLU'}. Best is trial 0 with value: 0.7362293486028679.\n",
      "[I 2024-09-30 20:24:45,653] Trial 11 finished with value: 0.7362293486028679 and parameters: {'num_layers': 2, 'hidden_size': 45, 'dropout_rate': 0.238830117486744, 'weight_decay': 5.200224963151012e-05, 'learning_rate': 0.0029572850313881382, 'batch_size': 64, 'activation': 'LeakyReLU'}. Best is trial 0 with value: 0.7362293486028679.\n",
      "[I 2024-09-30 20:25:02,290] Trial 12 finished with value: 0.7362293486028679 and parameters: {'num_layers': 2, 'hidden_size': 254, 'dropout_rate': 0.18920865241836288, 'weight_decay': 0.0010568883113188053, 'learning_rate': 0.003015420845698454, 'batch_size': 16, 'activation': 'ReLU'}. Best is trial 0 with value: 0.7362293486028679.\n",
      "[I 2024-09-30 20:25:06,385] Trial 13 finished with value: 0.20399279015419863 and parameters: {'num_layers': 2, 'hidden_size': 56, 'dropout_rate': 0.12215300301940257, 'weight_decay': 0.0007457860582770955, 'learning_rate': 0.00010681850308507522, 'batch_size': 64, 'activation': 'LeakyReLU'}. Best is trial 0 with value: 0.7362293486028679.\n",
      "[I 2024-09-30 20:25:09,755] Trial 14 finished with value: 0.7355913981452904 and parameters: {'num_layers': 1, 'hidden_size': 32, 'dropout_rate': 0.26129637123988747, 'weight_decay': 5.0313153277257515e-05, 'learning_rate': 0.011740704331081188, 'batch_size': 64, 'activation': 'ELU'}. Best is trial 0 with value: 0.7362293486028679.\n",
      "[I 2024-09-30 20:25:22,462] Trial 15 finished with value: 0.7362293486028679 and parameters: {'num_layers': 2, 'hidden_size': 59, 'dropout_rate': 0.364603095043635, 'weight_decay': 6.113029347606034e-05, 'learning_rate': 0.0011425059118962849, 'batch_size': 16, 'activation': 'ReLU'}. Best is trial 0 with value: 0.7362293486028679.\n",
      "[I 2024-09-30 20:25:33,072] Trial 16 finished with value: 0.7362293486028679 and parameters: {'num_layers': 2, 'hidden_size': 44, 'dropout_rate': 0.173063888344763, 'weight_decay': 0.0004772578485287979, 'learning_rate': 0.00788867088150554, 'batch_size': 16, 'activation': 'LeakyReLU'}. Best is trial 0 with value: 0.7362293486028679.\n",
      "[I 2024-09-30 20:25:37,165] Trial 17 finished with value: 0.6546003447992695 and parameters: {'num_layers': 1, 'hidden_size': 70, 'dropout_rate': 0.4846357317259689, 'weight_decay': 0.009026771733280883, 'learning_rate': 0.09717259672745589, 'batch_size': 64, 'activation': 'LeakyReLU'}. Best is trial 0 with value: 0.7362293486028679.\n",
      "[I 2024-09-30 20:25:41,151] Trial 18 finished with value: 0.7362293486028679 and parameters: {'num_layers': 2, 'hidden_size': 100, 'dropout_rate': 0.22613612494299315, 'weight_decay': 0.00010720394954459505, 'learning_rate': 0.002097536725257751, 'batch_size': 128, 'activation': 'ReLU'}. Best is trial 0 with value: 0.7362293486028679.\n",
      "[I 2024-09-30 20:25:45,466] Trial 19 finished with value: 0.7362293486028679 and parameters: {'num_layers': 2, 'hidden_size': 44, 'dropout_rate': 0.11243299424251385, 'weight_decay': 2.359760825324954e-05, 'learning_rate': 0.006496896343112254, 'batch_size': 64, 'activation': 'ELU'}. Best is trial 0 with value: 0.7362293486028679.\n",
      "[I 2024-09-30 20:26:01,541] Trial 20 finished with value: 0.2952709649372537 and parameters: {'num_layers': 3, 'hidden_size': 95, 'dropout_rate': 0.2834177998897327, 'weight_decay': 0.0002801038592404645, 'learning_rate': 0.021169873531994187, 'batch_size': 16, 'activation': 'LeakyReLU'}. Best is trial 0 with value: 0.7362293486028679.\n",
      "[I 2024-09-30 20:26:13,616] Trial 21 finished with value: 0.7362293486028679 and parameters: {'num_layers': 3, 'hidden_size': 172, 'dropout_rate': 0.32361992604665635, 'weight_decay': 0.0011774901376183722, 'learning_rate': 0.0005599528023212564, 'batch_size': 32, 'activation': 'ReLU'}. Best is trial 0 with value: 0.7362293486028679.\n",
      "[I 2024-09-30 20:26:24,221] Trial 22 finished with value: 0.7362293486028679 and parameters: {'num_layers': 3, 'hidden_size': 117, 'dropout_rate': 0.3208061783699676, 'weight_decay': 0.0022435835060266563, 'learning_rate': 0.00046546879143351066, 'batch_size': 32, 'activation': 'ReLU'}. Best is trial 0 with value: 0.7362293486028679.\n",
      "[I 2024-09-30 20:26:32,976] Trial 23 finished with value: 0.7362293486028679 and parameters: {'num_layers': 3, 'hidden_size': 66, 'dropout_rate': 0.37717189893931724, 'weight_decay': 0.0006007647541738494, 'learning_rate': 0.001784397393247017, 'batch_size': 32, 'activation': 'ReLU'}. Best is trial 0 with value: 0.7362293486028679.\n",
      "[I 2024-09-30 20:26:37,113] Trial 24 finished with value: 0.35832639949052136 and parameters: {'num_layers': 2, 'hidden_size': 50, 'dropout_rate': 0.4114649062502309, 'weight_decay': 0.0001742922974781699, 'learning_rate': 0.00012610855395653686, 'batch_size': 64, 'activation': 'ReLU'}. Best is trial 0 with value: 0.7362293486028679.\n",
      "[I 2024-09-30 20:26:45,284] Trial 25 finished with value: 0.7362293486028679 and parameters: {'num_layers': 3, 'hidden_size': 38, 'dropout_rate': 0.2518199059111606, 'weight_decay': 7.04906533407366e-05, 'learning_rate': 0.0011617544046867861, 'batch_size': 32, 'activation': 'ReLU'}. Best is trial 0 with value: 0.7362293486028679.\n",
      "[I 2024-09-30 20:27:07,078] Trial 26 finished with value: 0.7362293486028679 and parameters: {'num_layers': 3, 'hidden_size': 237, 'dropout_rate': 0.2955761303832049, 'weight_decay': 3.456790480444175e-05, 'learning_rate': 0.0003837068021597883, 'batch_size': 16, 'activation': 'ReLU'}. Best is trial 0 with value: 0.7362293486028679.\n",
      "[I 2024-09-30 20:27:10,971] Trial 27 finished with value: 0.7362293486028679 and parameters: {'num_layers': 2, 'hidden_size': 139, 'dropout_rate': 0.20942674492491725, 'weight_decay': 0.004899631183379214, 'learning_rate': 0.004615503211809022, 'batch_size': 128, 'activation': 'ReLU'}. Best is trial 0 with value: 0.7362293486028679.\n",
      "[I 2024-09-30 20:27:27,300] Trial 28 finished with value: 0.7362293486028679 and parameters: {'num_layers': 3, 'hidden_size': 101, 'dropout_rate': 0.347080037161903, 'weight_decay': 9.112965501630262e-05, 'learning_rate': 0.0015966927448514913, 'batch_size': 16, 'activation': 'ELU'}. Best is trial 0 with value: 0.7362293486028679.\n",
      "[I 2024-09-30 20:27:33,720] Trial 29 finished with value: 0.7362293486028679 and parameters: {'num_layers': 3, 'hidden_size': 210, 'dropout_rate': 0.14619417423601946, 'weight_decay': 0.0003181540394413023, 'learning_rate': 0.0007463007225485703, 'batch_size': 128, 'activation': 'LeakyReLU'}. Best is trial 0 with value: 0.7362293486028679.\n",
      "[I 2024-09-30 20:27:42,030] Trial 30 finished with value: 0.703159350155276 and parameters: {'num_layers': 2, 'hidden_size': 84, 'dropout_rate': 0.32190717193039897, 'weight_decay': 0.0018153906229619442, 'learning_rate': 0.019984119962821546, 'batch_size': 32, 'activation': 'LeakyReLU'}. Best is trial 0 with value: 0.7362293486028679.\n",
      "[I 2024-09-30 20:27:52,454] Trial 31 finished with value: 0.6240653394912506 and parameters: {'num_layers': 3, 'hidden_size': 34, 'dropout_rate': 0.2170214805720727, 'weight_decay': 1.1460365692966266e-05, 'learning_rate': 0.00021765840381988966, 'batch_size': 32, 'activation': 'ELU'}. Best is trial 0 with value: 0.7362293486028679.\n",
      "[I 2024-09-30 20:28:02,259] Trial 32 finished with value: 0.7362293486028679 and parameters: {'num_layers': 3, 'hidden_size': 50, 'dropout_rate': 0.1556497539140156, 'weight_decay': 1.7510890828372298e-05, 'learning_rate': 0.00035302635999606485, 'batch_size': 32, 'activation': 'ELU'}. Best is trial 0 with value: 0.7362293486028679.\n",
      "[I 2024-09-30 20:28:16,342] Trial 33 finished with value: 0.7365767550163648 and parameters: {'num_layers': 3, 'hidden_size': 38, 'dropout_rate': 0.26219943043858385, 'weight_decay': 2.6951000358377807e-05, 'learning_rate': 0.0001830491340216534, 'batch_size': 32, 'activation': 'ELU'}. Best is trial 33 with value: 0.7365767550163648.\n",
      "[I 2024-09-30 20:28:29,500] Trial 34 finished with value: 0.7362293486028679 and parameters: {'num_layers': 3, 'hidden_size': 39, 'dropout_rate': 0.2659407026947793, 'weight_decay': 3.365952803545828e-05, 'learning_rate': 0.0001837990857489998, 'batch_size': 32, 'activation': 'ELU'}. Best is trial 33 with value: 0.7365767550163648.\n",
      "[I 2024-09-30 20:28:39,848] Trial 35 finished with value: 0.7362293486028679 and parameters: {'num_layers': 3, 'hidden_size': 64, 'dropout_rate': 0.3012101794387053, 'weight_decay': 0.00016370021070359825, 'learning_rate': 0.0003799885621606915, 'batch_size': 32, 'activation': 'ELU'}. Best is trial 33 with value: 0.7365767550163648.\n",
      "[I 2024-09-30 20:28:45,132] Trial 36 finished with value: 0.3434893954560345 and parameters: {'num_layers': 3, 'hidden_size': 38, 'dropout_rate': 0.20225407245187488, 'weight_decay': 3.529147003917678e-05, 'learning_rate': 0.0001553610876594802, 'batch_size': 64, 'activation': 'ELU'}. Best is trial 33 with value: 0.7365767550163648.\n",
      "[I 2024-09-30 20:28:53,791] Trial 37 finished with value: 0.7362293486028679 and parameters: {'num_layers': 3, 'hidden_size': 50, 'dropout_rate': 0.23725618944327964, 'weight_decay': 0.00043479503301844787, 'learning_rate': 0.0007103404120162691, 'batch_size': 32, 'activation': 'LeakyReLU'}. Best is trial 33 with value: 0.7365767550163648.\n",
      "[I 2024-09-30 20:29:03,316] Trial 38 finished with value: 0.7362293486028679 and parameters: {'num_layers': 2, 'hidden_size': 124, 'dropout_rate': 0.34345976336613165, 'weight_decay': 0.0002498987649731824, 'learning_rate': 0.0002950438044964635, 'batch_size': 32, 'activation': 'ReLU'}. Best is trial 33 with value: 0.7365767550163648.\n",
      "[I 2024-09-30 20:29:09,915] Trial 39 finished with value: 0.7362293486028679 and parameters: {'num_layers': 3, 'hidden_size': 81, 'dropout_rate': 0.2985884787441423, 'weight_decay': 0.00018062041845888963, 'learning_rate': 0.0009055880086309692, 'batch_size': 64, 'activation': 'ELU'}. Best is trial 33 with value: 0.7365767550163648.\n",
      "[I 2024-09-30 20:29:18,985] Trial 40 finished with value: 0.7355913981452904 and parameters: {'num_layers': 1, 'hidden_size': 41, 'dropout_rate': 0.4352857050877673, 'weight_decay': 7.921185472456798e-05, 'learning_rate': 0.004467269593714744, 'batch_size': 16, 'activation': 'ReLU'}. Best is trial 33 with value: 0.7365767550163648.\n",
      "[I 2024-09-30 20:29:29,549] Trial 41 finished with value: 0.7362293486028679 and parameters: {'num_layers': 3, 'hidden_size': 35, 'dropout_rate': 0.17329260094843704, 'weight_decay': 2.3787147409977367e-05, 'learning_rate': 0.00025547396939071715, 'batch_size': 32, 'activation': 'ELU'}. Best is trial 33 with value: 0.7365767550163648.\n",
      "[I 2024-09-30 20:29:41,644] Trial 42 finished with value: 0.7061337591633893 and parameters: {'num_layers': 3, 'hidden_size': 54, 'dropout_rate': 0.2743568403343352, 'weight_decay': 1.0222251179932617e-05, 'learning_rate': 0.00016609826137270215, 'batch_size': 32, 'activation': 'ELU'}. Best is trial 33 with value: 0.7365767550163648.\n",
      "[I 2024-09-30 20:29:50,210] Trial 43 finished with value: 0.7362293486028679 and parameters: {'num_layers': 3, 'hidden_size': 32, 'dropout_rate': 0.2525428792654453, 'weight_decay': 4.85695104715099e-05, 'learning_rate': 0.0004873360008463275, 'batch_size': 32, 'activation': 'ELU'}. Best is trial 33 with value: 0.7365767550163648.\n",
      "[I 2024-09-30 20:29:53,342] Trial 44 finished with value: 0.45592492011467345 and parameters: {'num_layers': 2, 'hidden_size': 45, 'dropout_rate': 0.1376666385893207, 'weight_decay': 0.00012352349141084122, 'learning_rate': 0.00012353183757264651, 'batch_size': 128, 'activation': 'LeakyReLU'}. Best is trial 33 with value: 0.7365767550163648.\n",
      "[I 2024-09-30 20:30:13,086] Trial 45 finished with value: 0.7362293486028679 and parameters: {'num_layers': 3, 'hidden_size': 154, 'dropout_rate': 0.19581449434559273, 'weight_decay': 1.7658913668919896e-05, 'learning_rate': 0.0023913926591814373, 'batch_size': 16, 'activation': 'ELU'}. Best is trial 33 with value: 0.7365767550163648.\n",
      "[I 2024-09-30 20:30:17,774] Trial 46 finished with value: 0.7362293486028679 and parameters: {'num_layers': 2, 'hidden_size': 36, 'dropout_rate': 0.2366307934514001, 'weight_decay': 2.5315515965071437e-05, 'learning_rate': 0.0013615638859741936, 'batch_size': 64, 'activation': 'ReLU'}. Best is trial 33 with value: 0.7365767550163648.\n",
      "[I 2024-09-30 20:30:28,549] Trial 47 finished with value: 0.7362293486028679 and parameters: {'num_layers': 3, 'hidden_size': 62, 'dropout_rate': 0.18104936324460086, 'weight_decay': 0.009607411654536118, 'learning_rate': 0.0005708904526964039, 'batch_size': 32, 'activation': 'LeakyReLU'}. Best is trial 33 with value: 0.7365767550163648.\n",
      "[I 2024-09-30 20:30:49,122] Trial 48 finished with value: 0.7362293486028679 and parameters: {'num_layers': 3, 'hidden_size': 110, 'dropout_rate': 0.10124518973376362, 'weight_decay': 4.8521347940257726e-05, 'learning_rate': 0.0001006820046865426, 'batch_size': 16, 'activation': 'ELU'}. Best is trial 33 with value: 0.7365767550163648.\n",
      "[I 2024-09-30 20:30:52,139] Trial 49 finished with value: 0.43827684460058025 and parameters: {'num_layers': 1, 'hidden_size': 75, 'dropout_rate': 0.28933556724916676, 'weight_decay': 0.0036407406839393274, 'learning_rate': 0.0002708140637654538, 'batch_size': 64, 'activation': 'ReLU'}. Best is trial 33 with value: 0.7365767550163648.\n",
      "[I 2024-09-30 20:31:02,626] Trial 50 finished with value: 0.7362293486028679 and parameters: {'num_layers': 2, 'hidden_size': 53, 'dropout_rate': 0.22942723851113644, 'weight_decay': 0.0009275703791944226, 'learning_rate': 0.00020453191218126673, 'batch_size': 32, 'activation': 'LeakyReLU'}. Best is trial 33 with value: 0.7365767550163648.\n",
      "[I 2024-09-30 20:31:13,882] Trial 51 finished with value: 0.7362293486028679 and parameters: {'num_layers': 3, 'hidden_size': 73, 'dropout_rate': 0.15400714868222742, 'weight_decay': 0.0028089321502066202, 'learning_rate': 0.00028896801319553393, 'batch_size': 32, 'activation': 'LeakyReLU'}. Best is trial 33 with value: 0.7365767550163648.\n",
      "[I 2024-09-30 20:31:21,449] Trial 52 finished with value: 0.3233825950212931 and parameters: {'num_layers': 3, 'hidden_size': 41, 'dropout_rate': 0.12983653666628198, 'weight_decay': 0.007174610964393362, 'learning_rate': 0.00015091228698520473, 'batch_size': 32, 'activation': 'LeakyReLU'}. Best is trial 33 with value: 0.7365767550163648.\n",
      "[I 2024-09-30 20:31:31,265] Trial 53 finished with value: 0.7362293486028679 and parameters: {'num_layers': 3, 'hidden_size': 60, 'dropout_rate': 0.25403001868518116, 'weight_decay': 0.0015407807982995337, 'learning_rate': 0.0009139196072163329, 'batch_size': 32, 'activation': 'LeakyReLU'}. Best is trial 33 with value: 0.7365767550163648.\n",
      "[I 2024-09-30 20:31:37,855] Trial 54 finished with value: 0.7362293486028679 and parameters: {'num_layers': 3, 'hidden_size': 88, 'dropout_rate': 0.16598398245496976, 'weight_decay': 0.006226953402131564, 'learning_rate': 0.004201352296549164, 'batch_size': 64, 'activation': 'LeakyReLU'}. Best is trial 33 with value: 0.7365767550163648.\n",
      "[I 2024-09-30 20:31:55,590] Trial 55 finished with value: 0.7362293486028679 and parameters: {'num_layers': 3, 'hidden_size': 48, 'dropout_rate': 0.3078010364407148, 'weight_decay': 0.0006696351387175556, 'learning_rate': 0.00033433764322773803, 'batch_size': 16, 'activation': 'ReLU'}. Best is trial 33 with value: 0.7365767550163648.\n",
      "[I 2024-09-30 20:32:03,234] Trial 56 finished with value: 0.7362293486028679 and parameters: {'num_layers': 2, 'hidden_size': 69, 'dropout_rate': 0.21686576430789653, 'weight_decay': 0.0004100183752047043, 'learning_rate': 0.008059635774903809, 'batch_size': 32, 'activation': 'ReLU'}. Best is trial 33 with value: 0.7365767550163648.\n",
      "[I 2024-09-30 20:32:08,902] Trial 57 finished with value: 0.7362293486028679 and parameters: {'num_layers': 3, 'hidden_size': 79, 'dropout_rate': 0.2736775365452496, 'weight_decay': 0.00011689030260491244, 'learning_rate': 0.00047476560751795395, 'batch_size': 128, 'activation': 'LeakyReLU'}. Best is trial 33 with value: 0.7365767550163648.\n",
      "[I 2024-09-30 20:32:18,058] Trial 58 finished with value: 0.7362293486028679 and parameters: {'num_layers': 2, 'hidden_size': 193, 'dropout_rate': 0.1887561883864751, 'weight_decay': 0.0030200272307337223, 'learning_rate': 0.00278996905621986, 'batch_size': 32, 'activation': 'ReLU'}. Best is trial 33 with value: 0.7365767550163648.\n",
      "[I 2024-09-30 20:32:37,378] Trial 59 finished with value: 0.6353085847084895 and parameters: {'num_layers': 3, 'hidden_size': 137, 'dropout_rate': 0.11486759789611262, 'weight_decay': 0.00021546541462717843, 'learning_rate': 0.08522370692639779, 'batch_size': 16, 'activation': 'ELU'}. Best is trial 33 with value: 0.7365767550163648.\n",
      "[I 2024-09-30 20:32:44,589] Trial 60 finished with value: 0.3533002618070979 and parameters: {'num_layers': 3, 'hidden_size': 42, 'dropout_rate': 0.3611371248769994, 'weight_decay': 0.0020321956720840187, 'learning_rate': 0.00022104671981204227, 'batch_size': 64, 'activation': 'LeakyReLU'}. Best is trial 33 with value: 0.7365767550163648.\n",
      "[I 2024-09-30 20:32:55,675] Trial 61 finished with value: 0.7362293486028679 and parameters: {'num_layers': 3, 'hidden_size': 169, 'dropout_rate': 0.48335170991563803, 'weight_decay': 0.001345255655113029, 'learning_rate': 0.006528146317483598, 'batch_size': 64, 'activation': 'ELU'}. Best is trial 33 with value: 0.7365767550163648.\n",
      "[I 2024-09-30 20:33:02,983] Trial 62 finished with value: 0.7362293486028679 and parameters: {'num_layers': 3, 'hidden_size': 108, 'dropout_rate': 0.39586546905169256, 'weight_decay': 0.0001429833547780064, 'learning_rate': 0.0019579137810914254, 'batch_size': 64, 'activation': 'ELU'}. Best is trial 33 with value: 0.7365767550163648.\n",
      "[I 2024-09-30 20:33:11,464] Trial 63 finished with value: 0.7362293486028679 and parameters: {'num_layers': 3, 'hidden_size': 153, 'dropout_rate': 0.4975257526487569, 'weight_decay': 6.77480272809432e-05, 'learning_rate': 0.0030160486157807514, 'batch_size': 64, 'activation': 'ELU'}. Best is trial 33 with value: 0.7365767550163648.\n",
      "[I 2024-09-30 20:33:18,485] Trial 64 finished with value: 0.7362293486028679 and parameters: {'num_layers': 3, 'hidden_size': 94, 'dropout_rate': 0.43555056625317873, 'weight_decay': 8.972782702496634e-05, 'learning_rate': 0.012500214948792424, 'batch_size': 64, 'activation': 'ELU'}. Best is trial 33 with value: 0.7365767550163648.\n",
      "[I 2024-09-30 20:33:29,092] Trial 65 finished with value: 0.7362293486028679 and parameters: {'num_layers': 3, 'hidden_size': 45, 'dropout_rate': 0.45577410460562817, 'weight_decay': 1.4248198782411038e-05, 'learning_rate': 0.0006161130008274737, 'batch_size': 32, 'activation': 'ReLU'}. Best is trial 33 with value: 0.7365767550163648.\n",
      "[I 2024-09-30 20:33:38,420] Trial 66 finished with value: 0.7362293486028679 and parameters: {'num_layers': 3, 'hidden_size': 56, 'dropout_rate': 0.20748985128015132, 'weight_decay': 0.0002234438581992164, 'learning_rate': 0.0004256308443029304, 'batch_size': 32, 'activation': 'ELU'}. Best is trial 33 with value: 0.7365767550163648.\n",
      "[I 2024-09-30 20:33:56,218] Trial 67 finished with value: 0.7362293486028679 and parameters: {'num_layers': 3, 'hidden_size': 186, 'dropout_rate': 0.24600058689064616, 'weight_decay': 4.1705917715292446e-05, 'learning_rate': 0.0014420599184081578, 'batch_size': 16, 'activation': 'ReLU'}. Best is trial 33 with value: 0.7365767550163648.\n",
      "[I 2024-09-30 20:33:59,690] Trial 68 finished with value: 0.2525599000039688 and parameters: {'num_layers': 2, 'hidden_size': 140, 'dropout_rate': 0.31124575627512774, 'weight_decay': 0.00052185720847807, 'learning_rate': 0.00013225923979553415, 'batch_size': 128, 'activation': 'LeakyReLU'}. Best is trial 33 with value: 0.7365767550163648.\n",
      "[I 2024-09-30 20:34:05,214] Trial 69 finished with value: 0.7362293486028679 and parameters: {'num_layers': 3, 'hidden_size': 36, 'dropout_rate': 0.2626640882627507, 'weight_decay': 9.691924510427539e-05, 'learning_rate': 0.001102348402520224, 'batch_size': 64, 'activation': 'ELU'}. Best is trial 33 with value: 0.7365767550163648.\n",
      "[I 2024-09-30 20:34:11,379] Trial 70 finished with value: 0.7362293486028679 and parameters: {'num_layers': 2, 'hidden_size': 39, 'dropout_rate': 0.14771789781062836, 'weight_decay': 0.00032686249559063063, 'learning_rate': 0.003422601107624538, 'batch_size': 32, 'activation': 'ReLU'}. Best is trial 33 with value: 0.7365767550163648.\n",
      "[I 2024-09-30 20:34:25,346] Trial 71 finished with value: 0.7362293486028679 and parameters: {'num_layers': 2, 'hidden_size': 124, 'dropout_rate': 0.37915361403469283, 'weight_decay': 0.005329507843148986, 'learning_rate': 0.000818169690047043, 'batch_size': 16, 'activation': 'ReLU'}. Best is trial 33 with value: 0.7365767550163648.\n",
      "[I 2024-09-30 20:34:41,446] Trial 72 finished with value: 0.7362293486028679 and parameters: {'num_layers': 2, 'hidden_size': 133, 'dropout_rate': 0.4217538308038362, 'weight_decay': 0.003947603756497844, 'learning_rate': 0.0003094811292502806, 'batch_size': 16, 'activation': 'ReLU'}. Best is trial 33 with value: 0.7365767550163648.\n",
      "[I 2024-09-30 20:34:56,347] Trial 73 finished with value: 0.6992165929900952 and parameters: {'num_layers': 2, 'hidden_size': 158, 'dropout_rate': 0.4667386324723295, 'weight_decay': 0.0025364270601956223, 'learning_rate': 0.0057606083118968265, 'batch_size': 16, 'activation': 'ReLU'}. Best is trial 33 with value: 0.7365767550163648.\n",
      "[I 2024-09-30 20:35:12,087] Trial 74 finished with value: 0.7355913981452904 and parameters: {'num_layers': 1, 'hidden_size': 33, 'dropout_rate': 0.2826060898615987, 'weight_decay': 0.0008628596891371686, 'learning_rate': 0.00019075042905305028, 'batch_size': 16, 'activation': 'ReLU'}. Best is trial 33 with value: 0.7365767550163648.\n",
      "[I 2024-09-30 20:35:19,710] Trial 75 finished with value: 0.7362293486028679 and parameters: {'num_layers': 2, 'hidden_size': 113, 'dropout_rate': 0.33500140182430055, 'weight_decay': 0.00014370500721668222, 'learning_rate': 0.003688588325981064, 'batch_size': 32, 'activation': 'ELU'}. Best is trial 33 with value: 0.7365767550163648.\n",
      "[I 2024-09-30 20:35:34,960] Trial 76 finished with value: 0.7362293486028679 and parameters: {'num_layers': 2, 'hidden_size': 208, 'dropout_rate': 0.4083703333266988, 'weight_decay': 0.00401903774535461, 'learning_rate': 0.0023954055773396793, 'batch_size': 16, 'activation': 'LeakyReLU'}. Best is trial 33 with value: 0.7365767550163648.\n",
      "[I 2024-09-30 20:35:44,091] Trial 77 finished with value: 0.7362293486028679 and parameters: {'num_layers': 3, 'hidden_size': 67, 'dropout_rate': 0.16691312764515676, 'weight_decay': 3.002546006790242e-05, 'learning_rate': 0.0003834507892640077, 'batch_size': 32, 'activation': 'ReLU'}. Best is trial 33 with value: 0.7365767550163648.\n",
      "[I 2024-09-30 20:35:51,332] Trial 78 finished with value: 0.7362293486028679 and parameters: {'num_layers': 3, 'hidden_size': 102, 'dropout_rate': 0.23094036595594614, 'weight_decay': 1.9520683973408123e-05, 'learning_rate': 0.0005250828672424681, 'batch_size': 64, 'activation': 'ELU'}. Best is trial 33 with value: 0.7365767550163648.\n",
      "[I 2024-09-30 20:36:05,269] Trial 79 finished with value: 0.7362293486028679 and parameters: {'num_layers': 3, 'hidden_size': 147, 'dropout_rate': 0.38724494981674196, 'weight_decay': 5.9706662829751196e-05, 'learning_rate': 0.00024413025755488807, 'batch_size': 32, 'activation': 'ELU'}. Best is trial 33 with value: 0.7365767550163648.\n",
      "[I 2024-09-30 20:36:20,285] Trial 80 finished with value: 0.7362293486028679 and parameters: {'num_layers': 2, 'hidden_size': 130, 'dropout_rate': 0.4541197143254535, 'weight_decay': 0.007281236440330629, 'learning_rate': 0.0006756609166845259, 'batch_size': 16, 'activation': 'LeakyReLU'}. Best is trial 33 with value: 0.7365767550163648.\n",
      "[I 2024-09-30 20:36:26,902] Trial 81 finished with value: 0.7362293486028679 and parameters: {'num_layers': 1, 'hidden_size': 176, 'dropout_rate': 0.2717514105846482, 'weight_decay': 0.00029022894941681195, 'learning_rate': 0.0004211806320410068, 'batch_size': 32, 'activation': 'ReLU'}. Best is trial 33 with value: 0.7365767550163648.\n",
      "[I 2024-09-30 20:36:33,317] Trial 82 finished with value: 0.7355913981452904 and parameters: {'num_layers': 1, 'hidden_size': 164, 'dropout_rate': 0.3602127665372279, 'weight_decay': 0.0001866824003592699, 'learning_rate': 0.0009187702069482786, 'batch_size': 32, 'activation': 'ReLU'}. Best is trial 33 with value: 0.7365767550163648.\n",
      "[I 2024-09-30 20:36:38,854] Trial 83 finished with value: 0.7365890185527962 and parameters: {'num_layers': 1, 'hidden_size': 119, 'dropout_rate': 0.21928558770505147, 'weight_decay': 1.309150904122713e-05, 'learning_rate': 0.0016721147340980189, 'batch_size': 32, 'activation': 'ReLU'}. Best is trial 83 with value: 0.7365890185527962.\n",
      "[I 2024-09-30 20:36:44,650] Trial 84 finished with value: 0.7362293486028679 and parameters: {'num_layers': 1, 'hidden_size': 146, 'dropout_rate': 0.22170347532198367, 'weight_decay': 1.2054587016799588e-05, 'learning_rate': 0.0011612179144434812, 'batch_size': 32, 'activation': 'ReLU'}. Best is trial 83 with value: 0.7365890185527962.\n",
      "[I 2024-09-30 20:36:54,052] Trial 85 finished with value: 0.7362293486028679 and parameters: {'num_layers': 3, 'hidden_size': 123, 'dropout_rate': 0.19640205496823837, 'weight_decay': 1.4223762840208161e-05, 'learning_rate': 0.0016880267916041392, 'batch_size': 32, 'activation': 'ReLU'}. Best is trial 83 with value: 0.7365890185527962.\n",
      "[I 2024-09-30 20:36:56,969] Trial 86 finished with value: 0.7362293486028679 and parameters: {'num_layers': 1, 'hidden_size': 47, 'dropout_rate': 0.24632424782308768, 'weight_decay': 2.093100529126924e-05, 'learning_rate': 0.0023368092705013882, 'batch_size': 128, 'activation': 'ReLU'}. Best is trial 83 with value: 0.7365890185527962.\n",
      "[I 2024-09-30 20:37:06,601] Trial 87 finished with value: 0.7362293486028679 and parameters: {'num_layers': 3, 'hidden_size': 107, 'dropout_rate': 0.17689875278913778, 'weight_decay': 0.003407987872148811, 'learning_rate': 0.001065138859837687, 'batch_size': 32, 'activation': 'LeakyReLU'}. Best is trial 83 with value: 0.7365890185527962.\n",
      "[I 2024-09-30 20:37:12,487] Trial 88 finished with value: 0.7362293486028679 and parameters: {'num_layers': 3, 'hidden_size': 116, 'dropout_rate': 0.13389165573341733, 'weight_decay': 2.819228997972385e-05, 'learning_rate': 0.005568725277759853, 'batch_size': 64, 'activation': 'ReLU'}. Best is trial 83 with value: 0.7365890185527962.\n",
      "[I 2024-09-30 20:37:20,902] Trial 89 finished with value: 0.35227737063009673 and parameters: {'num_layers': 3, 'hidden_size': 37, 'dropout_rate': 0.2864782661115735, 'weight_decay': 0.0017802289234717676, 'learning_rate': 0.00016121377447274486, 'batch_size': 32, 'activation': 'ELU'}. Best is trial 83 with value: 0.7365890185527962.\n",
      "[I 2024-09-30 20:37:29,307] Trial 90 finished with value: 0.7362293486028679 and parameters: {'num_layers': 3, 'hidden_size': 86, 'dropout_rate': 0.12250587192124635, 'weight_decay': 0.004740194356002023, 'learning_rate': 0.0015194251341927644, 'batch_size': 32, 'activation': 'ReLU'}. Best is trial 83 with value: 0.7365890185527962.\n",
      "[I 2024-09-30 20:37:35,935] Trial 91 finished with value: 0.7355913981452904 and parameters: {'num_layers': 1, 'hidden_size': 182, 'dropout_rate': 0.25614864073809146, 'weight_decay': 0.00036311203186107255, 'learning_rate': 0.0006771792182992111, 'batch_size': 32, 'activation': 'ReLU'}. Best is trial 83 with value: 0.7365890185527962.\n",
      "[I 2024-09-30 20:37:42,936] Trial 92 finished with value: 0.7355913981452904 and parameters: {'num_layers': 1, 'hidden_size': 208, 'dropout_rate': 0.3127443103912683, 'weight_decay': 0.00015209673738167032, 'learning_rate': 0.0005906276672717675, 'batch_size': 32, 'activation': 'ReLU'}. Best is trial 83 with value: 0.7365890185527962.\n",
      "[I 2024-09-30 20:37:49,501] Trial 93 finished with value: 0.7362293486028679 and parameters: {'num_layers': 1, 'hidden_size': 92, 'dropout_rate': 0.2952436678484534, 'weight_decay': 0.00020288987230084794, 'learning_rate': 0.0013398638440468165, 'batch_size': 32, 'activation': 'ReLU'}. Best is trial 83 with value: 0.7365890185527962.\n",
      "[I 2024-09-30 20:37:54,013] Trial 94 finished with value: 0.7362293486028679 and parameters: {'num_layers': 1, 'hidden_size': 99, 'dropout_rate': 0.21474265915420307, 'weight_decay': 0.00011834878429489727, 'learning_rate': 0.0007930980561414129, 'batch_size': 64, 'activation': 'LeakyReLU'}. Best is trial 83 with value: 0.7365890185527962.\n",
      "[I 2024-09-30 20:38:01,773] Trial 95 finished with value: 0.7362293486028679 and parameters: {'num_layers': 1, 'hidden_size': 34, 'dropout_rate': 0.23651166671075802, 'weight_decay': 1.6244647301066896e-05, 'learning_rate': 0.0003550640943498172, 'batch_size': 32, 'activation': 'ELU'}. Best is trial 83 with value: 0.7365890185527962.\n",
      "[I 2024-09-30 20:38:22,458] Trial 96 finished with value: 0.7362293486028679 and parameters: {'num_layers': 3, 'hidden_size': 227, 'dropout_rate': 0.27784980388668185, 'weight_decay': 4.222460259202592e-05, 'learning_rate': 0.0019640027781685923, 'batch_size': 16, 'activation': 'ReLU'}. Best is trial 83 with value: 0.7365890185527962.\n",
      "[I 2024-09-30 20:38:35,208] Trial 97 finished with value: 0.7362293486028679 and parameters: {'num_layers': 3, 'hidden_size': 161, 'dropout_rate': 0.26755877360539637, 'weight_decay': 0.0002320033874641791, 'learning_rate': 0.00022941928255425259, 'batch_size': 32, 'activation': 'ReLU'}. Best is trial 83 with value: 0.7365890185527962.\n",
      "[I 2024-09-30 20:38:44,537] Trial 98 finished with value: 0.7362293486028679 and parameters: {'num_layers': 3, 'hidden_size': 128, 'dropout_rate': 0.3290511683112039, 'weight_decay': 0.00026457311704298944, 'learning_rate': 0.0002654409935404429, 'batch_size': 64, 'activation': 'ELU'}. Best is trial 83 with value: 0.7365890185527962.\n",
      "[I 2024-09-30 20:38:50,576] Trial 99 finished with value: 0.7362293486028679 and parameters: {'num_layers': 1, 'hidden_size': 145, 'dropout_rate': 0.2452472385770758, 'weight_decay': 9.986111546475694e-05, 'learning_rate': 0.0026745702792723533, 'batch_size': 32, 'activation': 'LeakyReLU'}. Best is trial 83 with value: 0.7365890185527962.\n"
     ]
    }
   ],
   "source": [
    "# Optimizing hyperparameters:\n",
    "\n",
    "study = optuna.create_study(direction='maximize')\n",
    "study.optimize(objective, n_trials=100)"
   ]
  },
  {
   "cell_type": "code",
   "execution_count": 26,
   "metadata": {},
   "outputs": [
    {
     "name": "stdout",
     "output_type": "stream",
     "text": [
      "Best hyperparameters:\n",
      "  num_layers: 1\n",
      "  hidden_size: 119\n",
      "  dropout_rate: 0.21928558770505147\n",
      "  weight_decay: 1.309150904122713e-05\n",
      "  learning_rate: 0.0016721147340980189\n",
      "  batch_size: 32\n",
      "  activation: ReLU\n"
     ]
    }
   ],
   "source": [
    "print(\"Best hyperparameters:\")\n",
    "for key, value in study.best_params.items():\n",
    "    print(f\"  {key}: {value}\")"
   ]
  },
  {
   "cell_type": "markdown",
   "metadata": {},
   "source": [
    "## Evaluating best models"
   ]
  },
  {
   "cell_type": "markdown",
   "metadata": {},
   "source": [
    "### XGBoost"
   ]
  },
  {
   "cell_type": "code",
   "execution_count": 27,
   "metadata": {},
   "outputs": [],
   "source": [
    "xgb_params = random_search.best_params_"
   ]
  },
  {
   "cell_type": "code",
   "execution_count": 28,
   "metadata": {},
   "outputs": [],
   "source": [
    "best_xgboost = XGBClassifier(random_state=42, eval_metric='mlogloss',\n",
    "                             **xgb_params)"
   ]
  },
  {
   "cell_type": "code",
   "execution_count": 29,
   "metadata": {},
   "outputs": [
    {
     "data": {
      "text/html": [
       "<style>#sk-container-id-3 {color: black;}#sk-container-id-3 pre{padding: 0;}#sk-container-id-3 div.sk-toggleable {background-color: white;}#sk-container-id-3 label.sk-toggleable__label {cursor: pointer;display: block;width: 100%;margin-bottom: 0;padding: 0.3em;box-sizing: border-box;text-align: center;}#sk-container-id-3 label.sk-toggleable__label-arrow:before {content: \"▸\";float: left;margin-right: 0.25em;color: #696969;}#sk-container-id-3 label.sk-toggleable__label-arrow:hover:before {color: black;}#sk-container-id-3 div.sk-estimator:hover label.sk-toggleable__label-arrow:before {color: black;}#sk-container-id-3 div.sk-toggleable__content {max-height: 0;max-width: 0;overflow: hidden;text-align: left;background-color: #f0f8ff;}#sk-container-id-3 div.sk-toggleable__content pre {margin: 0.2em;color: black;border-radius: 0.25em;background-color: #f0f8ff;}#sk-container-id-3 input.sk-toggleable__control:checked~div.sk-toggleable__content {max-height: 200px;max-width: 100%;overflow: auto;}#sk-container-id-3 input.sk-toggleable__control:checked~label.sk-toggleable__label-arrow:before {content: \"▾\";}#sk-container-id-3 div.sk-estimator input.sk-toggleable__control:checked~label.sk-toggleable__label {background-color: #d4ebff;}#sk-container-id-3 div.sk-label input.sk-toggleable__control:checked~label.sk-toggleable__label {background-color: #d4ebff;}#sk-container-id-3 input.sk-hidden--visually {border: 0;clip: rect(1px 1px 1px 1px);clip: rect(1px, 1px, 1px, 1px);height: 1px;margin: -1px;overflow: hidden;padding: 0;position: absolute;width: 1px;}#sk-container-id-3 div.sk-estimator {font-family: monospace;background-color: #f0f8ff;border: 1px dotted black;border-radius: 0.25em;box-sizing: border-box;margin-bottom: 0.5em;}#sk-container-id-3 div.sk-estimator:hover {background-color: #d4ebff;}#sk-container-id-3 div.sk-parallel-item::after {content: \"\";width: 100%;border-bottom: 1px solid gray;flex-grow: 1;}#sk-container-id-3 div.sk-label:hover label.sk-toggleable__label {background-color: #d4ebff;}#sk-container-id-3 div.sk-serial::before {content: \"\";position: absolute;border-left: 1px solid gray;box-sizing: border-box;top: 0;bottom: 0;left: 50%;z-index: 0;}#sk-container-id-3 div.sk-serial {display: flex;flex-direction: column;align-items: center;background-color: white;padding-right: 0.2em;padding-left: 0.2em;position: relative;}#sk-container-id-3 div.sk-item {position: relative;z-index: 1;}#sk-container-id-3 div.sk-parallel {display: flex;align-items: stretch;justify-content: center;background-color: white;position: relative;}#sk-container-id-3 div.sk-item::before, #sk-container-id-3 div.sk-parallel-item::before {content: \"\";position: absolute;border-left: 1px solid gray;box-sizing: border-box;top: 0;bottom: 0;left: 50%;z-index: -1;}#sk-container-id-3 div.sk-parallel-item {display: flex;flex-direction: column;z-index: 1;position: relative;background-color: white;}#sk-container-id-3 div.sk-parallel-item:first-child::after {align-self: flex-end;width: 50%;}#sk-container-id-3 div.sk-parallel-item:last-child::after {align-self: flex-start;width: 50%;}#sk-container-id-3 div.sk-parallel-item:only-child::after {width: 0;}#sk-container-id-3 div.sk-dashed-wrapped {border: 1px dashed gray;margin: 0 0.4em 0.5em 0.4em;box-sizing: border-box;padding-bottom: 0.4em;background-color: white;}#sk-container-id-3 div.sk-label label {font-family: monospace;font-weight: bold;display: inline-block;line-height: 1.2em;}#sk-container-id-3 div.sk-label-container {text-align: center;}#sk-container-id-3 div.sk-container {/* jupyter's `normalize.less` sets `[hidden] { display: none; }` but bootstrap.min.css set `[hidden] { display: none !important; }` so we also need the `!important` here to be able to override the default hidden behavior on the sphinx rendered scikit-learn.org. See: https://github.com/scikit-learn/scikit-learn/issues/21755 */display: inline-block !important;position: relative;}#sk-container-id-3 div.sk-text-repr-fallback {display: none;}</style><div id=\"sk-container-id-3\" class=\"sk-top-container\"><div class=\"sk-text-repr-fallback\"><pre>XGBClassifier(base_score=None, booster=None, callbacks=None,\n",
       "              colsample_bylevel=None, colsample_bynode=None,\n",
       "              colsample_bytree=1.0, device=None, early_stopping_rounds=None,\n",
       "              enable_categorical=False, eval_metric=&#x27;mlogloss&#x27;,\n",
       "              feature_types=None, gamma=0.3, grow_policy=None,\n",
       "              importance_type=None, interaction_constraints=None,\n",
       "              learning_rate=0.01, max_bin=None, max_cat_threshold=None,\n",
       "              max_cat_to_onehot=None, max_delta_step=None, max_depth=3,\n",
       "              max_leaves=None, min_child_weight=3, missing=nan,\n",
       "              monotone_constraints=None, multi_strategy=None, n_estimators=300,\n",
       "              n_jobs=None, num_parallel_tree=None, random_state=42, ...)</pre><b>In a Jupyter environment, please rerun this cell to show the HTML representation or trust the notebook. <br />On GitHub, the HTML representation is unable to render, please try loading this page with nbviewer.org.</b></div><div class=\"sk-container\" hidden><div class=\"sk-item\"><div class=\"sk-estimator sk-toggleable\"><input class=\"sk-toggleable__control sk-hidden--visually\" id=\"sk-estimator-id-5\" type=\"checkbox\" checked><label for=\"sk-estimator-id-5\" class=\"sk-toggleable__label sk-toggleable__label-arrow\">XGBClassifier</label><div class=\"sk-toggleable__content\"><pre>XGBClassifier(base_score=None, booster=None, callbacks=None,\n",
       "              colsample_bylevel=None, colsample_bynode=None,\n",
       "              colsample_bytree=1.0, device=None, early_stopping_rounds=None,\n",
       "              enable_categorical=False, eval_metric=&#x27;mlogloss&#x27;,\n",
       "              feature_types=None, gamma=0.3, grow_policy=None,\n",
       "              importance_type=None, interaction_constraints=None,\n",
       "              learning_rate=0.01, max_bin=None, max_cat_threshold=None,\n",
       "              max_cat_to_onehot=None, max_delta_step=None, max_depth=3,\n",
       "              max_leaves=None, min_child_weight=3, missing=nan,\n",
       "              monotone_constraints=None, multi_strategy=None, n_estimators=300,\n",
       "              n_jobs=None, num_parallel_tree=None, random_state=42, ...)</pre></div></div></div></div></div>"
      ],
      "text/plain": [
       "XGBClassifier(base_score=None, booster=None, callbacks=None,\n",
       "              colsample_bylevel=None, colsample_bynode=None,\n",
       "              colsample_bytree=1.0, device=None, early_stopping_rounds=None,\n",
       "              enable_categorical=False, eval_metric='mlogloss',\n",
       "              feature_types=None, gamma=0.3, grow_policy=None,\n",
       "              importance_type=None, interaction_constraints=None,\n",
       "              learning_rate=0.01, max_bin=None, max_cat_threshold=None,\n",
       "              max_cat_to_onehot=None, max_delta_step=None, max_depth=3,\n",
       "              max_leaves=None, min_child_weight=3, missing=nan,\n",
       "              monotone_constraints=None, multi_strategy=None, n_estimators=300,\n",
       "              n_jobs=None, num_parallel_tree=None, random_state=42, ...)"
      ]
     },
     "execution_count": 29,
     "metadata": {},
     "output_type": "execute_result"
    }
   ],
   "source": [
    "# Fitting the model \n",
    "\n",
    "best_xgboost.fit(X, y)"
   ]
  },
  {
   "cell_type": "code",
   "execution_count": 30,
   "metadata": {},
   "outputs": [],
   "source": [
    "# Predicting values\n",
    "\n",
    "y_pred_xgb = best_xgboost.predict(X_test)"
   ]
  },
  {
   "cell_type": "code",
   "execution_count": 31,
   "metadata": {},
   "outputs": [],
   "source": [
    "# Saving predicted values\n",
    "\n",
    "sub_xgb = pd.DataFrame(y_pred_xgb, columns=['abandono_6meses'])\n",
    "sub_xgb = pd.concat([id_col, sub_xgb], axis=1)\n",
    "sub_xgb.rename(columns={'id_employee': 'ID'}, inplace=True)\n",
    "sub_xgb.to_csv('../results/sub_xgb_rfe.csv', index=False, sep=',')"
   ]
  },
  {
   "attachments": {
    "image-2.png": {
     "image/png": "[encoded data removed]"
    }
   },
   "cell_type": "markdown",
   "metadata": {},
   "source": [
    "Kaggle Score:\n",
    "\n",
    "![image-2.png](attachment:image-2.png)"
   ]
  },
  {
   "cell_type": "code",
   "execution_count": 32,
   "metadata": {},
   "outputs": [
    {
     "data": {
      "text/plain": [
       "{'num_layers': 1,\n",
       " 'hidden_size': 119,\n",
       " 'dropout_rate': 0.21928558770505147,\n",
       " 'weight_decay': 1.309150904122713e-05,\n",
       " 'learning_rate': 0.0016721147340980189,\n",
       " 'batch_size': 32,\n",
       " 'activation': 'ReLU'}"
      ]
     },
     "execution_count": 32,
     "metadata": {},
     "output_type": "execute_result"
    }
   ],
   "source": [
    "study.best_params"
   ]
  },
  {
   "cell_type": "markdown",
   "metadata": {},
   "source": [
    "### Neural Network"
   ]
  },
  {
   "cell_type": "code",
   "execution_count": 33,
   "metadata": {},
   "outputs": [],
   "source": [
    "best_params = study.best_params\n",
    "\n",
    "# Use the entire training set\n",
    "train_dataset = TensorDataset(X_train_tensor, y_tensor)\n",
    "train_loader = DataLoader(train_dataset, batch_size=best_params['batch_size'], shuffle=True)\n",
    "\n",
    "# Initialize the model with best hyperparameters\n",
    "if best_params['activation'] == 'ReLU':\n",
    "    activation_fn = nn.ReLU()\n",
    "elif best_params['activation'] == 'LeakyReLU':\n",
    "    activation_fn = nn.LeakyReLU()\n",
    "else:\n",
    "    activation_fn = nn.ELU()\n",
    "\n",
    "model = Net(input_size=X_train_tensor.shape[1],\n",
    "            num_classes=2,\n",
    "            num_layers=best_params['num_layers'],\n",
    "            hidden_size=best_params['hidden_size'],\n",
    "            dropout_rate=best_params['dropout_rate'],\n",
    "            activation_fn=activation_fn\n",
    "            )\n",
    "\n",
    "criterion = nn.CrossEntropyLoss()\n",
    "optimizer = optim.Adam(model.parameters(), lr=best_params['learning_rate'], weight_decay=best_params['weight_decay'])\n",
    "\n",
    "# Train the model\n",
    "for epoch in range(50):  # Adjust epochs as needed\n",
    "    model.train()\n",
    "    for X_batch, y_batch in train_loader:\n",
    "        optimizer.zero_grad()\n",
    "        outputs = model(X_batch)\n",
    "        loss = criterion(outputs, y_batch)\n",
    "        loss.backward()\n",
    "        optimizer.step()"
   ]
  },
  {
   "cell_type": "code",
   "execution_count": 34,
   "metadata": {},
   "outputs": [],
   "source": [
    "# Loading test data\n",
    "test_loader = DataLoader(X_test_tensor, batch_size=best_params['batch_size'])\n",
    "\n",
    "# Evaluation\n",
    "model.eval()\n",
    "nn_pred = []\n",
    "\n",
    "with torch.no_grad():\n",
    "    for X_batch in test_loader:\n",
    "        # Getting outputs\n",
    "        outputs = model(X_batch)\n",
    "        \n",
    "        # Get the predicted class (0 or 1)\n",
    "        _, predicted = torch.max(outputs.data, 1)\n",
    "        \n",
    "        # Append the predicted class to test_predictions\n",
    "        nn_pred.extend(predicted.cpu().numpy())"
   ]
  },
  {
   "cell_type": "code",
   "execution_count": 35,
   "metadata": {},
   "outputs": [],
   "source": [
    "# Saving predicted values\n",
    "\n",
    "sub_nn = pd.DataFrame(nn_pred, columns=['abandono_6meses'])\n",
    "sub_nn = pd.concat([id_col, sub_nn], axis=1)\n",
    "sub_nn.rename(columns={'id_employee': 'ID'}, inplace=True)\n",
    "sub_nn.to_csv('../results/sub_nn_rfe.csv', index=False, sep=',')"
   ]
  },
  {
   "attachments": {
    "image.png": {
     "image/png": "[encoded data removed]"
    }
   },
   "cell_type": "markdown",
   "metadata": {},
   "source": [
    "Kaggle Score:\n",
    "\n",
    "![image.png](attachment:image.png)"
   ]
  }
 ],
 "metadata": {
  "kernelspec": {
   "display_name": "Python 3",
   "language": "python",
   "name": "python3"
  },
  "language_info": {
   "codemirror_mode": {
    "name": "ipython",
    "version": 3
   },
   "file_extension": ".py",
   "mimetype": "text/x-python",
   "name": "python",
   "nbconvert_exporter": "python",
   "pygments_lexer": "ipython3",
   "version": "3.9.18"
  }
 },
 "nbformat": 4,
 "nbformat_minor": 2
}
