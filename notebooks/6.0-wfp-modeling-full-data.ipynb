{
 "cells": [
  {
   "cell_type": "markdown",
   "metadata": {},
   "source": [
    "# Modeling full data\n",
    "\n",
    "Since our full data has many features due to node embeddings, we need to use robust models as XGBoost, Support Vector Machine and a Neural Network. The metric chosen metric for this evaluation is F1-Score because both classes have the same weight"
   ]
  },
  {
   "cell_type": "markdown",
   "metadata": {},
   "source": [
    "## Preparing environment"
   ]
  },
  {
   "cell_type": "code",
   "execution_count": 15,
   "metadata": {},
   "outputs": [],
   "source": [
    "import pandas as pd\n",
    "import numpy as np\n",
    "import sys\n",
    "from sklearn.metrics import f1_score, make_scorer\n",
    "from sklearn.model_selection import KFold, cross_val_score, RandomizedSearchCV\n",
    "from xgboost import XGBClassifier\n",
    "import torch\n",
    "import torch.nn as nn\n",
    "import torch.optim as optim\n",
    "from torch.utils.data import TensorDataset, DataLoader, Subset\n",
    "import optuna\n",
    "sys.path.append('../high_performance_employee_resign_prediction')\n",
    "from utils import paths"
   ]
  },
  {
   "cell_type": "code",
   "execution_count": 24,
   "metadata": {},
   "outputs": [],
   "source": [
    "import warnings\n",
    "warnings.simplefilter(action='ignore', category=FutureWarning)"
   ]
  },
  {
   "cell_type": "markdown",
   "metadata": {},
   "source": [
    "## Importing data"
   ]
  },
  {
   "cell_type": "code",
   "execution_count": 2,
   "metadata": {},
   "outputs": [],
   "source": [
    "train_df = pd.read_csv(paths.data_processed_dir('train_processed.csv'))\n",
    "test_df = pd.read_csv(paths.data_processed_dir('test_processed.csv'))"
   ]
  },
  {
   "cell_type": "code",
   "execution_count": 3,
   "metadata": {},
   "outputs": [],
   "source": [
    "# Saving id_employee_employee for submission\n",
    "\n",
    "id_col = test_df['id_employee']"
   ]
  },
  {
   "cell_type": "code",
   "execution_count": 4,
   "metadata": {},
   "outputs": [],
   "source": [
    "y = train_df['resign']"
   ]
  },
  {
   "cell_type": "code",
   "execution_count": 5,
   "metadata": {},
   "outputs": [],
   "source": [
    "# Dropping unnecessary columns\n",
    "\n",
    "X = train_df.drop(columns=['id_employee', 'id_last_boss', 'resign'])\n",
    "X_test = test_df.drop(columns=['id_employee', 'id_last_boss'])"
   ]
  },
  {
   "cell_type": "markdown",
   "metadata": {},
   "source": [
    "## Preparing cross validation"
   ]
  },
  {
   "cell_type": "code",
   "execution_count": 6,
   "metadata": {},
   "outputs": [],
   "source": [
    "# Folding data\n",
    "\n",
    "kf = KFold(n_splits=5, shuffle=True, random_state=42)"
   ]
  },
  {
   "cell_type": "markdown",
   "metadata": {},
   "source": [
    "## Evaluating XGBoost Model"
   ]
  },
  {
   "cell_type": "code",
   "execution_count": 7,
   "metadata": {},
   "outputs": [],
   "source": [
    "# Creating base model\n",
    "\n",
    "xgb_base = XGBClassifier(random_state=42, eval_metric='mlogloss')"
   ]
  },
  {
   "cell_type": "code",
   "execution_count": 8,
   "metadata": {},
   "outputs": [
    {
     "data": {
      "text/plain": [
       "array([0.71258907, 0.72533333, 0.68085106, 0.69021739, 0.72682927])"
      ]
     },
     "execution_count": 8,
     "metadata": {},
     "output_type": "execute_result"
    }
   ],
   "source": [
    "# Making cross-validation in xgboost\n",
    "\n",
    "cv_results = cross_val_score(xgb_base, X, y, cv=kf, scoring='f1')\n",
    "cv_results"
   ]
  },
  {
   "cell_type": "markdown",
   "metadata": {},
   "source": [
    "Initial f1 results are good, let's optimize the model with cross-validation"
   ]
  },
  {
   "cell_type": "code",
   "execution_count": 9,
   "metadata": {},
   "outputs": [],
   "source": [
    "# Defining param grid\n",
    "\n",
    "param_dist = {\n",
    "    'n_estimators': [100, 200, 300, 400, 500],\n",
    "    'max_depth': [3, 4, 5, 6, 7],\n",
    "    'learning_rate': [0.01, 0.05, 0.1, 0.2],\n",
    "    'subsample': [0.6, 0.7, 0.8, 0.9, 1.0],\n",
    "    'colsample_bytree': [0.6, 0.7, 0.8, 0.9, 1.0],\n",
    "    'gamma': [0, 0.1, 0.2, 0.3, 0.4, 0.5],\n",
    "    'min_child_weight': [1, 2, 3, 4, 5]\n",
    "}"
   ]
  },
  {
   "cell_type": "code",
   "execution_count": 12,
   "metadata": {},
   "outputs": [],
   "source": [
    "# Defining random search\n",
    "\n",
    "random_search = RandomizedSearchCV(\n",
    "    estimator=xgb_base,\n",
    "    param_distributions=param_dist,\n",
    "    scoring=make_scorer(f1_score),\n",
    "    n_iter=100,  # Number of different combinations to try\n",
    "    cv=kf,\n",
    "    verbose=2,\n",
    "    random_state=42,\n",
    "    n_jobs=-1  # Use all available cores\n",
    ")"
   ]
  },
  {
   "cell_type": "code",
   "execution_count": 13,
   "metadata": {},
   "outputs": [
    {
     "name": "stdout",
     "output_type": "stream",
     "text": [
      "Fitting 5 folds for each of 100 candidates, totalling 500 fits\n"
     ]
    },
    {
     "data": {
      "text/html": [
       "<style>#sk-container-id-1 {color: black;}#sk-container-id-1 pre{padding: 0;}#sk-container-id-1 div.sk-toggleable {background-color: white;}#sk-container-id-1 label.sk-toggleable__label {cursor: pointer;display: block;width: 100%;margin-bottom: 0;padding: 0.3em;box-sizing: border-box;text-align: center;}#sk-container-id-1 label.sk-toggleable__label-arrow:before {content: \"▸\";float: left;margin-right: 0.25em;color: #696969;}#sk-container-id-1 label.sk-toggleable__label-arrow:hover:before {color: black;}#sk-container-id-1 div.sk-estimator:hover label.sk-toggleable__label-arrow:before {color: black;}#sk-container-id-1 div.sk-toggleable__content {max-height: 0;max-width: 0;overflow: hidden;text-align: left;background-color: #f0f8ff;}#sk-container-id-1 div.sk-toggleable__content pre {margin: 0.2em;color: black;border-radius: 0.25em;background-color: #f0f8ff;}#sk-container-id-1 input.sk-toggleable__control:checked~div.sk-toggleable__content {max-height: 200px;max-width: 100%;overflow: auto;}#sk-container-id-1 input.sk-toggleable__control:checked~label.sk-toggleable__label-arrow:before {content: \"▾\";}#sk-container-id-1 div.sk-estimator input.sk-toggleable__control:checked~label.sk-toggleable__label {background-color: #d4ebff;}#sk-container-id-1 div.sk-label input.sk-toggleable__control:checked~label.sk-toggleable__label {background-color: #d4ebff;}#sk-container-id-1 input.sk-hidden--visually {border: 0;clip: rect(1px 1px 1px 1px);clip: rect(1px, 1px, 1px, 1px);height: 1px;margin: -1px;overflow: hidden;padding: 0;position: absolute;width: 1px;}#sk-container-id-1 div.sk-estimator {font-family: monospace;background-color: #f0f8ff;border: 1px dotted black;border-radius: 0.25em;box-sizing: border-box;margin-bottom: 0.5em;}#sk-container-id-1 div.sk-estimator:hover {background-color: #d4ebff;}#sk-container-id-1 div.sk-parallel-item::after {content: \"\";width: 100%;border-bottom: 1px solid gray;flex-grow: 1;}#sk-container-id-1 div.sk-label:hover label.sk-toggleable__label {background-color: #d4ebff;}#sk-container-id-1 div.sk-serial::before {content: \"\";position: absolute;border-left: 1px solid gray;box-sizing: border-box;top: 0;bottom: 0;left: 50%;z-index: 0;}#sk-container-id-1 div.sk-serial {display: flex;flex-direction: column;align-items: center;background-color: white;padding-right: 0.2em;padding-left: 0.2em;position: relative;}#sk-container-id-1 div.sk-item {position: relative;z-index: 1;}#sk-container-id-1 div.sk-parallel {display: flex;align-items: stretch;justify-content: center;background-color: white;position: relative;}#sk-container-id-1 div.sk-item::before, #sk-container-id-1 div.sk-parallel-item::before {content: \"\";position: absolute;border-left: 1px solid gray;box-sizing: border-box;top: 0;bottom: 0;left: 50%;z-index: -1;}#sk-container-id-1 div.sk-parallel-item {display: flex;flex-direction: column;z-index: 1;position: relative;background-color: white;}#sk-container-id-1 div.sk-parallel-item:first-child::after {align-self: flex-end;width: 50%;}#sk-container-id-1 div.sk-parallel-item:last-child::after {align-self: flex-start;width: 50%;}#sk-container-id-1 div.sk-parallel-item:only-child::after {width: 0;}#sk-container-id-1 div.sk-dashed-wrapped {border: 1px dashed gray;margin: 0 0.4em 0.5em 0.4em;box-sizing: border-box;padding-bottom: 0.4em;background-color: white;}#sk-container-id-1 div.sk-label label {font-family: monospace;font-weight: bold;display: inline-block;line-height: 1.2em;}#sk-container-id-1 div.sk-label-container {text-align: center;}#sk-container-id-1 div.sk-container {/* jupyter's `normalize.less` sets `[hidden] { display: none; }` but bootstrap.min.css set `[hidden] { display: none !important; }` so we also need the `!important` here to be able to override the default hidden behavior on the sphinx rendered scikit-learn.org. See: https://github.com/scikit-learn/scikit-learn/issues/21755 */display: inline-block !important;position: relative;}#sk-container-id-1 div.sk-text-repr-fallback {display: none;}</style><div id=\"sk-container-id-1\" class=\"sk-top-container\"><div class=\"sk-text-repr-fallback\"><pre>RandomizedSearchCV(cv=KFold(n_splits=5, random_state=42, shuffle=True),\n",
       "                   estimator=XGBClassifier(base_score=None, booster=None,\n",
       "                                           callbacks=None,\n",
       "                                           colsample_bylevel=None,\n",
       "                                           colsample_bynode=None,\n",
       "                                           colsample_bytree=None, device=None,\n",
       "                                           early_stopping_rounds=None,\n",
       "                                           enable_categorical=False,\n",
       "                                           eval_metric=&#x27;mlogloss&#x27;,\n",
       "                                           feature_types=None, gamma=None,\n",
       "                                           grow_policy=None,\n",
       "                                           importance_t...\n",
       "                                           random_state=42, ...),\n",
       "                   n_iter=100, n_jobs=-1,\n",
       "                   param_distributions={&#x27;colsample_bytree&#x27;: [0.6, 0.7, 0.8, 0.9,\n",
       "                                                             1.0],\n",
       "                                        &#x27;gamma&#x27;: [0, 0.1, 0.2, 0.3, 0.4, 0.5],\n",
       "                                        &#x27;learning_rate&#x27;: [0.01, 0.05, 0.1, 0.2],\n",
       "                                        &#x27;max_depth&#x27;: [3, 4, 5, 6, 7],\n",
       "                                        &#x27;min_child_weight&#x27;: [1, 2, 3, 4, 5],\n",
       "                                        &#x27;n_estimators&#x27;: [100, 200, 300, 400,\n",
       "                                                         500],\n",
       "                                        &#x27;subsample&#x27;: [0.6, 0.7, 0.8, 0.9, 1.0]},\n",
       "                   random_state=42, scoring=make_scorer(f1_score), verbose=2)</pre><b>In a Jupyter environment, please rerun this cell to show the HTML representation or trust the notebook. <br />On GitHub, the HTML representation is unable to render, please try loading this page with nbviewer.org.</b></div><div class=\"sk-container\" hidden><div class=\"sk-item sk-dashed-wrapped\"><div class=\"sk-label-container\"><div class=\"sk-label sk-toggleable\"><input class=\"sk-toggleable__control sk-hidden--visually\" id=\"sk-estimator-id-1\" type=\"checkbox\" ><label for=\"sk-estimator-id-1\" class=\"sk-toggleable__label sk-toggleable__label-arrow\">RandomizedSearchCV</label><div class=\"sk-toggleable__content\"><pre>RandomizedSearchCV(cv=KFold(n_splits=5, random_state=42, shuffle=True),\n",
       "                   estimator=XGBClassifier(base_score=None, booster=None,\n",
       "                                           callbacks=None,\n",
       "                                           colsample_bylevel=None,\n",
       "                                           colsample_bynode=None,\n",
       "                                           colsample_bytree=None, device=None,\n",
       "                                           early_stopping_rounds=None,\n",
       "                                           enable_categorical=False,\n",
       "                                           eval_metric=&#x27;mlogloss&#x27;,\n",
       "                                           feature_types=None, gamma=None,\n",
       "                                           grow_policy=None,\n",
       "                                           importance_t...\n",
       "                                           random_state=42, ...),\n",
       "                   n_iter=100, n_jobs=-1,\n",
       "                   param_distributions={&#x27;colsample_bytree&#x27;: [0.6, 0.7, 0.8, 0.9,\n",
       "                                                             1.0],\n",
       "                                        &#x27;gamma&#x27;: [0, 0.1, 0.2, 0.3, 0.4, 0.5],\n",
       "                                        &#x27;learning_rate&#x27;: [0.01, 0.05, 0.1, 0.2],\n",
       "                                        &#x27;max_depth&#x27;: [3, 4, 5, 6, 7],\n",
       "                                        &#x27;min_child_weight&#x27;: [1, 2, 3, 4, 5],\n",
       "                                        &#x27;n_estimators&#x27;: [100, 200, 300, 400,\n",
       "                                                         500],\n",
       "                                        &#x27;subsample&#x27;: [0.6, 0.7, 0.8, 0.9, 1.0]},\n",
       "                   random_state=42, scoring=make_scorer(f1_score), verbose=2)</pre></div></div></div><div class=\"sk-parallel\"><div class=\"sk-parallel-item\"><div class=\"sk-item\"><div class=\"sk-label-container\"><div class=\"sk-label sk-toggleable\"><input class=\"sk-toggleable__control sk-hidden--visually\" id=\"sk-estimator-id-2\" type=\"checkbox\" ><label for=\"sk-estimator-id-2\" class=\"sk-toggleable__label sk-toggleable__label-arrow\">estimator: XGBClassifier</label><div class=\"sk-toggleable__content\"><pre>XGBClassifier(base_score=None, booster=None, callbacks=None,\n",
       "              colsample_bylevel=None, colsample_bynode=None,\n",
       "              colsample_bytree=None, device=None, early_stopping_rounds=None,\n",
       "              enable_categorical=False, eval_metric=&#x27;mlogloss&#x27;,\n",
       "              feature_types=None, gamma=None, grow_policy=None,\n",
       "              importance_type=None, interaction_constraints=None,\n",
       "              learning_rate=None, max_bin=None, max_cat_threshold=None,\n",
       "              max_cat_to_onehot=None, max_delta_step=None, max_depth=None,\n",
       "              max_leaves=None, min_child_weight=None, missing=nan,\n",
       "              monotone_constraints=None, multi_strategy=None, n_estimators=None,\n",
       "              n_jobs=None, num_parallel_tree=None, random_state=42, ...)</pre></div></div></div><div class=\"sk-serial\"><div class=\"sk-item\"><div class=\"sk-estimator sk-toggleable\"><input class=\"sk-toggleable__control sk-hidden--visually\" id=\"sk-estimator-id-3\" type=\"checkbox\" ><label for=\"sk-estimator-id-3\" class=\"sk-toggleable__label sk-toggleable__label-arrow\">XGBClassifier</label><div class=\"sk-toggleable__content\"><pre>XGBClassifier(base_score=None, booster=None, callbacks=None,\n",
       "              colsample_bylevel=None, colsample_bynode=None,\n",
       "              colsample_bytree=None, device=None, early_stopping_rounds=None,\n",
       "              enable_categorical=False, eval_metric=&#x27;mlogloss&#x27;,\n",
       "              feature_types=None, gamma=None, grow_policy=None,\n",
       "              importance_type=None, interaction_constraints=None,\n",
       "              learning_rate=None, max_bin=None, max_cat_threshold=None,\n",
       "              max_cat_to_onehot=None, max_delta_step=None, max_depth=None,\n",
       "              max_leaves=None, min_child_weight=None, missing=nan,\n",
       "              monotone_constraints=None, multi_strategy=None, n_estimators=None,\n",
       "              n_jobs=None, num_parallel_tree=None, random_state=42, ...)</pre></div></div></div></div></div></div></div></div></div></div>"
      ],
      "text/plain": [
       "RandomizedSearchCV(cv=KFold(n_splits=5, random_state=42, shuffle=True),\n",
       "                   estimator=XGBClassifier(base_score=None, booster=None,\n",
       "                                           callbacks=None,\n",
       "                                           colsample_bylevel=None,\n",
       "                                           colsample_bynode=None,\n",
       "                                           colsample_bytree=None, device=None,\n",
       "                                           early_stopping_rounds=None,\n",
       "                                           enable_categorical=False,\n",
       "                                           eval_metric='mlogloss',\n",
       "                                           feature_types=None, gamma=None,\n",
       "                                           grow_policy=None,\n",
       "                                           importance_t...\n",
       "                                           random_state=42, ...),\n",
       "                   n_iter=100, n_jobs=-1,\n",
       "                   param_distributions={'colsample_bytree': [0.6, 0.7, 0.8, 0.9,\n",
       "                                                             1.0],\n",
       "                                        'gamma': [0, 0.1, 0.2, 0.3, 0.4, 0.5],\n",
       "                                        'learning_rate': [0.01, 0.05, 0.1, 0.2],\n",
       "                                        'max_depth': [3, 4, 5, 6, 7],\n",
       "                                        'min_child_weight': [1, 2, 3, 4, 5],\n",
       "                                        'n_estimators': [100, 200, 300, 400,\n",
       "                                                         500],\n",
       "                                        'subsample': [0.6, 0.7, 0.8, 0.9, 1.0]},\n",
       "                   random_state=42, scoring=make_scorer(f1_score), verbose=2)"
      ]
     },
     "execution_count": 13,
     "metadata": {},
     "output_type": "execute_result"
    }
   ],
   "source": [
    "# Optimizing model\n",
    "\n",
    "random_search.fit(X, y)"
   ]
  },
  {
   "cell_type": "code",
   "execution_count": 14,
   "metadata": {},
   "outputs": [
    {
     "name": "stdout",
     "output_type": "stream",
     "text": [
      "Best parameters found: {'subsample': 0.9, 'n_estimators': 400, 'min_child_weight': 3, 'max_depth': 7, 'learning_rate': 0.05, 'gamma': 0.5, 'colsample_bytree': 0.7}\n",
      "Best cross-validation F1 score: 0.7312546621631444\n"
     ]
    }
   ],
   "source": [
    "print(f\"Best parameters found: {random_search.best_params_}\")\n",
    "print(f\"Best cross-validation F1 score: {random_search.best_score_}\")"
   ]
  },
  {
   "cell_type": "markdown",
   "metadata": {},
   "source": [
    "# Evaluating and optimizing neural network"
   ]
  },
  {
   "cell_type": "code",
   "execution_count": 20,
   "metadata": {},
   "outputs": [],
   "source": [
    "X_train_tensor = torch.from_numpy(X.to_numpy()).float()\n",
    "X_test_tensor = torch.from_numpy(X_test.to_numpy()).float()\n",
    "y_tensor = torch.from_numpy(y.to_numpy()).long()"
   ]
  },
  {
   "cell_type": "code",
   "execution_count": 21,
   "metadata": {},
   "outputs": [],
   "source": [
    "# Defining Neural Network\n",
    "\n",
    "class Net(nn.Module):\n",
    "    def __init__(self, input_size, num_classes, num_layers, hidden_size, dropout_rate, activation_fn):\n",
    "        super(Net, self).__init__()\n",
    "        layers = []\n",
    "        in_size = input_size\n",
    "        \n",
    "        for _ in range(num_layers):\n",
    "            layers.append(nn.Linear(in_size, hidden_size))\n",
    "            layers.append(activation_fn)\n",
    "            layers.append(nn.Dropout(dropout_rate))\n",
    "            in_size = hidden_size\n",
    "        \n",
    "        layers.append(nn.Linear(in_size, num_classes))\n",
    "        self.network = nn.Sequential(*layers)\n",
    "    \n",
    "    def forward(self, x):\n",
    "        return self.network(x)"
   ]
  },
  {
   "cell_type": "markdown",
   "metadata": {},
   "source": [
    "## Defining function to optimize with Optuna"
   ]
  },
  {
   "cell_type": "code",
   "execution_count": 22,
   "metadata": {},
   "outputs": [],
   "source": [
    "# Defining objective function\n",
    "\n",
    "def objective(trial):\n",
    "    # Hyperparameters to tune\n",
    "    num_layers = trial.suggest_int('num_layers', 1, 3)\n",
    "    hidden_size = trial.suggest_int('hidden_size', 32, 256, log=True)\n",
    "    dropout_rate = trial.suggest_uniform('dropout_rate', 0.1, 0.5)\n",
    "    weight_decay = trial.suggest_loguniform('weight_decay', 1e-5, 1e-2)\n",
    "    learning_rate = trial.suggest_loguniform('learning_rate', 1e-4, 1e-1)\n",
    "    batch_size = trial.suggest_categorical('batch_size', [16, 32, 64, 128])\n",
    "    activation_name = trial.suggest_categorical('activation', ['ReLU', 'LeakyReLU', 'ELU'])\n",
    "\n",
    "    # Choose activation function\n",
    "    if activation_name == 'ReLU':\n",
    "        activation_fn = nn.ReLU()\n",
    "    elif activation_name == 'LeakyReLU':\n",
    "        activation_fn = nn.LeakyReLU()\n",
    "    else:\n",
    "        activation_fn = nn.ELU()\n",
    "        \n",
    "    skf = KFold(n_splits=5, shuffle=True, random_state=42)\n",
    "    f1_scores = []\n",
    "    \n",
    "\n",
    "    for train_index, val_index in skf.split(X_train_tensor, y_tensor):\n",
    "        X_train_fold = X_train_tensor[train_index]\n",
    "        y_train_fold = y_tensor[train_index]\n",
    "        X_val_fold = X_train_tensor[val_index]\n",
    "        y_val_fold = y_tensor[val_index]\n",
    "\n",
    "        train_dataset = TensorDataset(X_train_fold, y_train_fold)\n",
    "        val_dataset = TensorDataset(X_val_fold, y_val_fold)\n",
    "\n",
    "        train_loader = DataLoader(train_dataset, batch_size=batch_size, shuffle=True)\n",
    "        val_loader = DataLoader(val_dataset, batch_size=batch_size)\n",
    "\n",
    "        model = Net(input_size=X_train_tensor.shape[1],\n",
    "                    num_classes=2,\n",
    "                    num_layers=num_layers,\n",
    "                    hidden_size=hidden_size,\n",
    "                    dropout_rate=dropout_rate,\n",
    "                    activation_fn=activation_fn)\n",
    "\n",
    "        criterion = nn.CrossEntropyLoss()\n",
    "        optimizer = optim.Adam(model.parameters(), lr=learning_rate, weight_decay=weight_decay)\n",
    "\n",
    "        # Early stopping parameters\n",
    "        best_val_f1 = 0\n",
    "        patience = 10\n",
    "        trigger_times = 0\n",
    "\n",
    "        for epoch in range(50):  # Max epochs\n",
    "            model.train()\n",
    "            for X_batch, y_batch in train_loader:\n",
    "                optimizer.zero_grad()\n",
    "                outputs = model(X_batch)\n",
    "                loss = criterion(outputs, y_batch)\n",
    "                loss.backward()\n",
    "                optimizer.step()\n",
    "\n",
    "            # Validation\n",
    "            model.eval()\n",
    "            all_preds = []\n",
    "            all_labels = []\n",
    "            with torch.no_grad():\n",
    "                for X_batch, y_batch in val_loader:\n",
    "                    outputs = model(X_batch)\n",
    "                    _, predicted = torch.max(outputs.data, 1)\n",
    "                    all_preds.extend(predicted.cpu().numpy())\n",
    "                    all_labels.extend(y_batch.cpu().numpy())\n",
    "\n",
    "            val_f1 = f1_score(all_labels, all_preds, average='binary')\n",
    "\n",
    "            # Early stopping check\n",
    "            if val_f1 > best_val_f1:\n",
    "                best_val_f1 = val_f1\n",
    "                trigger_times = 0\n",
    "            else:\n",
    "                trigger_times += 1\n",
    "                if trigger_times >= patience:\n",
    "                    break  # Early stopping\n",
    "\n",
    "        f1_scores.append(best_val_f1)\n",
    "\n",
    "    # Return the average F1-score across folds\n",
    "    return np.mean(f1_scores)"
   ]
  },
  {
   "cell_type": "code",
   "execution_count": 25,
   "metadata": {},
   "outputs": [
    {
     "name": "stderr",
     "output_type": "stream",
     "text": [
      "[I 2024-09-09 21:11:36,571] A new study created in memory with name: no-name-c65e3061-07cd-4e04-850d-54cb5c58e023\n",
      "[I 2024-09-09 21:11:50,561] Trial 0 finished with value: 0.6902391846715231 and parameters: {'num_layers': 2, 'hidden_size': 145, 'dropout_rate': 0.2454372610719735, 'weight_decay': 0.00369785660649159, 'learning_rate': 0.00042385504244294515, 'batch_size': 128, 'activation': 'LeakyReLU'}. Best is trial 0 with value: 0.6902391846715231.\n",
      "[I 2024-09-09 21:11:58,823] Trial 1 finished with value: 0.7119349949036824 and parameters: {'num_layers': 2, 'hidden_size': 38, 'dropout_rate': 0.18757412544246674, 'weight_decay': 0.00017526556743193298, 'learning_rate': 0.015277778465500944, 'batch_size': 64, 'activation': 'LeakyReLU'}. Best is trial 1 with value: 0.7119349949036824.\n",
      "[I 2024-09-09 21:12:14,358] Trial 2 finished with value: 0.7341018370103333 and parameters: {'num_layers': 2, 'hidden_size': 38, 'dropout_rate': 0.4715125534118684, 'weight_decay': 0.0005168237257752334, 'learning_rate': 0.000998687809864851, 'batch_size': 64, 'activation': 'ELU'}. Best is trial 2 with value: 0.7341018370103333.\n",
      "[I 2024-09-09 21:12:35,269] Trial 3 finished with value: 0.6440504443139933 and parameters: {'num_layers': 2, 'hidden_size': 57, 'dropout_rate': 0.322738866547153, 'weight_decay': 1.5138309145697499e-05, 'learning_rate': 0.07339438044061065, 'batch_size': 16, 'activation': 'LeakyReLU'}. Best is trial 2 with value: 0.7341018370103333.\n",
      "[I 2024-09-09 21:12:42,868] Trial 4 finished with value: 0.7018205674714517 and parameters: {'num_layers': 2, 'hidden_size': 83, 'dropout_rate': 0.48994749096301227, 'weight_decay': 0.008719674008141439, 'learning_rate': 0.002515650264463213, 'batch_size': 128, 'activation': 'LeakyReLU'}. Best is trial 2 with value: 0.7341018370103333.\n",
      "[I 2024-09-09 21:13:08,253] Trial 5 finished with value: 0.7315252933472561 and parameters: {'num_layers': 2, 'hidden_size': 41, 'dropout_rate': 0.11406954408966713, 'weight_decay': 2.1254115060973048e-05, 'learning_rate': 0.0002424599893778695, 'batch_size': 32, 'activation': 'ELU'}. Best is trial 2 with value: 0.7341018370103333.\n",
      "[I 2024-09-09 21:13:35,145] Trial 6 finished with value: 0.713154284790632 and parameters: {'num_layers': 3, 'hidden_size': 89, 'dropout_rate': 0.2612432145947582, 'weight_decay': 2.0662839649651775e-05, 'learning_rate': 0.0004092981304323154, 'batch_size': 32, 'activation': 'LeakyReLU'}. Best is trial 2 with value: 0.7341018370103333.\n",
      "[I 2024-09-09 21:14:38,930] Trial 7 finished with value: 0.7163638887594163 and parameters: {'num_layers': 3, 'hidden_size': 193, 'dropout_rate': 0.3379218970973734, 'weight_decay': 0.003917272396602931, 'learning_rate': 0.00022910629872630844, 'batch_size': 16, 'activation': 'LeakyReLU'}. Best is trial 2 with value: 0.7341018370103333.\n",
      "[I 2024-09-09 21:14:46,243] Trial 8 finished with value: 0.7248092490168178 and parameters: {'num_layers': 1, 'hidden_size': 38, 'dropout_rate': 0.47777713605029126, 'weight_decay': 0.001280782342551247, 'learning_rate': 0.0031354117285265918, 'batch_size': 64, 'activation': 'LeakyReLU'}. Best is trial 2 with value: 0.7341018370103333.\n",
      "[I 2024-09-09 21:15:15,388] Trial 9 finished with value: 0.7331398812957465 and parameters: {'num_layers': 1, 'hidden_size': 157, 'dropout_rate': 0.12678243920157067, 'weight_decay': 4.646791873663513e-05, 'learning_rate': 0.0007722427952636165, 'batch_size': 16, 'activation': 'LeakyReLU'}. Best is trial 2 with value: 0.7341018370103333.\n",
      "[I 2024-09-09 21:15:24,721] Trial 10 finished with value: 0.7109778511365189 and parameters: {'num_layers': 1, 'hidden_size': 255, 'dropout_rate': 0.40042294614689544, 'weight_decay': 0.00032384804327081755, 'learning_rate': 0.015385970290190072, 'batch_size': 64, 'activation': 'ReLU'}. Best is trial 2 with value: 0.7341018370103333.\n",
      "[I 2024-09-09 21:15:47,695] Trial 11 finished with value: 0.7463178721563507 and parameters: {'num_layers': 1, 'hidden_size': 133, 'dropout_rate': 0.10447506246812595, 'weight_decay': 0.0001135835414260198, 'learning_rate': 0.001796949807189895, 'batch_size': 16, 'activation': 'ELU'}. Best is trial 11 with value: 0.7463178721563507.\n",
      "[I 2024-09-09 21:16:10,130] Trial 12 finished with value: 0.7383292090246616 and parameters: {'num_layers': 1, 'hidden_size': 63, 'dropout_rate': 0.4005202587547275, 'weight_decay': 0.00020680093449801357, 'learning_rate': 0.0014294415495544298, 'batch_size': 16, 'activation': 'ELU'}. Best is trial 11 with value: 0.7463178721563507.\n",
      "[I 2024-09-09 21:16:46,336] Trial 13 finished with value: 0.688021024959173 and parameters: {'num_layers': 1, 'hidden_size': 62, 'dropout_rate': 0.39012032383042045, 'weight_decay': 8.89878118611148e-05, 'learning_rate': 0.00010236389733804107, 'batch_size': 16, 'activation': 'ELU'}. Best is trial 11 with value: 0.7463178721563507.\n",
      "[I 2024-09-09 21:17:09,611] Trial 14 finished with value: 0.7245991201613038 and parameters: {'num_layers': 1, 'hidden_size': 116, 'dropout_rate': 0.3953176375110509, 'weight_decay': 9.620072750046722e-05, 'learning_rate': 0.011246733774354785, 'batch_size': 16, 'activation': 'ELU'}. Best is trial 11 with value: 0.7463178721563507.\n",
      "[I 2024-09-09 21:17:34,718] Trial 15 finished with value: 0.7443485888493282 and parameters: {'num_layers': 1, 'hidden_size': 64, 'dropout_rate': 0.19281988682269652, 'weight_decay': 0.0008478417463977427, 'learning_rate': 0.0015812876379854696, 'batch_size': 16, 'activation': 'ELU'}. Best is trial 11 with value: 0.7463178721563507.\n",
      "[I 2024-09-09 21:17:55,480] Trial 16 finished with value: 0.7221357280414831 and parameters: {'num_layers': 1, 'hidden_size': 119, 'dropout_rate': 0.17172320178427208, 'weight_decay': 0.0008690977168146913, 'learning_rate': 0.007467814009732334, 'batch_size': 16, 'activation': 'ReLU'}. Best is trial 11 with value: 0.7463178721563507.\n",
      "[I 2024-09-09 21:18:20,509] Trial 17 finished with value: 0.7378180369351752 and parameters: {'num_layers': 1, 'hidden_size': 74, 'dropout_rate': 0.19418703001051402, 'weight_decay': 0.001827050412098832, 'learning_rate': 0.00551191882760117, 'batch_size': 16, 'activation': 'ELU'}. Best is trial 11 with value: 0.7463178721563507.\n",
      "[I 2024-09-09 21:18:34,313] Trial 18 finished with value: 0.6358775513282742 and parameters: {'num_layers': 3, 'hidden_size': 114, 'dropout_rate': 0.2363406880899825, 'weight_decay': 0.0005575201999171882, 'learning_rate': 0.0409810848050733, 'batch_size': 32, 'activation': 'ELU'}. Best is trial 11 with value: 0.7463178721563507.\n",
      "[I 2024-09-09 21:18:43,423] Trial 19 finished with value: 0.7413389159606838 and parameters: {'num_layers': 1, 'hidden_size': 47, 'dropout_rate': 0.15778889838863427, 'weight_decay': 5.930586875302309e-05, 'learning_rate': 0.0018393895503429352, 'batch_size': 128, 'activation': 'ELU'}. Best is trial 11 with value: 0.7463178721563507.\n",
      "[I 2024-09-09 21:19:03,206] Trial 20 finished with value: 0.732242492275787 and parameters: {'num_layers': 1, 'hidden_size': 104, 'dropout_rate': 0.11154967314077537, 'weight_decay': 0.0001928106890535022, 'learning_rate': 0.0055380808575251645, 'batch_size': 16, 'activation': 'ReLU'}. Best is trial 11 with value: 0.7463178721563507.\n",
      "[I 2024-09-09 21:19:11,945] Trial 21 finished with value: 0.7421405799014552 and parameters: {'num_layers': 1, 'hidden_size': 53, 'dropout_rate': 0.16380559219537194, 'weight_decay': 6.484573090859022e-05, 'learning_rate': 0.0017763019470589851, 'batch_size': 128, 'activation': 'ELU'}. Best is trial 11 with value: 0.7463178721563507.\n",
      "[I 2024-09-09 21:19:21,724] Trial 22 finished with value: 0.7268306614064013 and parameters: {'num_layers': 1, 'hidden_size': 50, 'dropout_rate': 0.14692887237703436, 'weight_decay': 3.7335233702637924e-05, 'learning_rate': 0.0008520008521855985, 'batch_size': 128, 'activation': 'ELU'}. Best is trial 11 with value: 0.7463178721563507.\n",
      "[I 2024-09-09 21:19:30,649] Trial 23 finished with value: 0.7422132525537286 and parameters: {'num_layers': 1, 'hidden_size': 71, 'dropout_rate': 0.21177644508712226, 'weight_decay': 9.854809408246471e-05, 'learning_rate': 0.003605051111875492, 'batch_size': 128, 'activation': 'ELU'}. Best is trial 11 with value: 0.7463178721563507.\n",
      "[I 2024-09-09 21:19:37,315] Trial 24 finished with value: 0.7342848088572971 and parameters: {'num_layers': 1, 'hidden_size': 70, 'dropout_rate': 0.21870848059545567, 'weight_decay': 0.00012297402524869843, 'learning_rate': 0.004600938247203033, 'batch_size': 128, 'activation': 'ELU'}. Best is trial 11 with value: 0.7463178721563507.\n",
      "[I 2024-09-09 21:20:07,839] Trial 25 finished with value: 0.7408030641119092 and parameters: {'num_layers': 2, 'hidden_size': 32, 'dropout_rate': 0.2926990349494706, 'weight_decay': 0.00030285793863848846, 'learning_rate': 0.0034184249198406275, 'batch_size': 16, 'activation': 'ELU'}. Best is trial 11 with value: 0.7463178721563507.\n",
      "[I 2024-09-09 21:20:17,988] Trial 26 finished with value: 0.7455761932885074 and parameters: {'num_layers': 1, 'hidden_size': 96, 'dropout_rate': 0.20469443968376289, 'weight_decay': 0.0005524874324933066, 'learning_rate': 0.0012642041916593148, 'batch_size': 128, 'activation': 'ELU'}. Best is trial 11 with value: 0.7463178721563507.\n",
      "[I 2024-09-09 21:20:37,078] Trial 27 finished with value: 0.7312738151578803 and parameters: {'num_layers': 1, 'hidden_size': 147, 'dropout_rate': 0.2729933390304598, 'weight_decay': 0.000588290237436913, 'learning_rate': 0.0005359721019432432, 'batch_size': 32, 'activation': 'ReLU'}. Best is trial 11 with value: 0.7463178721563507.\n",
      "[I 2024-09-09 21:21:08,796] Trial 28 finished with value: 0.7385429147539598 and parameters: {'num_layers': 2, 'hidden_size': 99, 'dropout_rate': 0.10190588488384694, 'weight_decay': 0.0019031758497889428, 'learning_rate': 0.0012445914856026106, 'batch_size': 16, 'activation': 'ELU'}. Best is trial 11 with value: 0.7463178721563507.\n",
      "[I 2024-09-09 21:21:25,784] Trial 29 finished with value: 0.7202647418063544 and parameters: {'num_layers': 2, 'hidden_size': 170, 'dropout_rate': 0.13977802302520165, 'weight_decay': 0.0009442387680736426, 'learning_rate': 0.0004960134456466238, 'batch_size': 128, 'activation': 'ELU'}. Best is trial 11 with value: 0.7463178721563507.\n",
      "[I 2024-09-09 21:21:35,413] Trial 30 finished with value: 0.7467495533991041 and parameters: {'num_layers': 1, 'hidden_size': 127, 'dropout_rate': 0.2341127254028685, 'weight_decay': 0.0029060843293988105, 'learning_rate': 0.0023502035222025992, 'batch_size': 128, 'activation': 'ELU'}. Best is trial 30 with value: 0.7467495533991041.\n",
      "[I 2024-09-09 21:21:44,043] Trial 31 finished with value: 0.7349536241179204 and parameters: {'num_layers': 1, 'hidden_size': 122, 'dropout_rate': 0.24339116275399852, 'weight_decay': 0.0032644998370523633, 'learning_rate': 0.0025896323313271932, 'batch_size': 128, 'activation': 'ELU'}. Best is trial 30 with value: 0.7467495533991041.\n",
      "[I 2024-09-09 21:21:51,683] Trial 32 finished with value: 0.7304931191234596 and parameters: {'num_layers': 1, 'hidden_size': 133, 'dropout_rate': 0.20417796591789283, 'weight_decay': 0.005380478852685281, 'learning_rate': 0.0021689429025031986, 'batch_size': 128, 'activation': 'ELU'}. Best is trial 30 with value: 0.7467495533991041.\n",
      "[I 2024-09-09 21:21:59,911] Trial 33 finished with value: 0.7249004294919916 and parameters: {'num_layers': 1, 'hidden_size': 82, 'dropout_rate': 0.18133203687691468, 'weight_decay': 0.0024618034871178715, 'learning_rate': 0.0011436823863186347, 'batch_size': 128, 'activation': 'ELU'}. Best is trial 30 with value: 0.7467495533991041.\n",
      "[I 2024-09-09 21:22:14,738] Trial 34 finished with value: 0.7332827654615379 and parameters: {'num_layers': 1, 'hidden_size': 203, 'dropout_rate': 0.22100947875771845, 'weight_decay': 0.00034711331691401507, 'learning_rate': 0.0007260706090467666, 'batch_size': 64, 'activation': 'ELU'}. Best is trial 30 with value: 0.7467495533991041.\n",
      "[I 2024-09-09 21:22:28,473] Trial 35 finished with value: 0.7001116724037507 and parameters: {'num_layers': 2, 'hidden_size': 98, 'dropout_rate': 0.2810516956885215, 'weight_decay': 0.0008930091609839656, 'learning_rate': 0.0003227517621469112, 'batch_size': 128, 'activation': 'ELU'}. Best is trial 30 with value: 0.7467495533991041.\n",
      "[I 2024-09-09 21:22:51,509] Trial 36 finished with value: 0.6561088378180456 and parameters: {'num_layers': 2, 'hidden_size': 180, 'dropout_rate': 0.3234682151520531, 'weight_decay': 0.00978932636465347, 'learning_rate': 0.009361760353602807, 'batch_size': 16, 'activation': 'ELU'}. Best is trial 30 with value: 0.7467495533991041.\n",
      "[I 2024-09-09 21:23:02,501] Trial 37 finished with value: 0.7273677071077012 and parameters: {'num_layers': 2, 'hidden_size': 133, 'dropout_rate': 0.25542521710319593, 'weight_decay': 0.005700334672635345, 'learning_rate': 0.0014630121854050148, 'batch_size': 128, 'activation': 'ReLU'}. Best is trial 30 with value: 0.7467495533991041.\n",
      "[I 2024-09-09 21:23:16,140] Trial 38 finished with value: 0.7165547967767828 and parameters: {'num_layers': 1, 'hidden_size': 84, 'dropout_rate': 0.18718277545921513, 'weight_decay': 0.0011953640866118828, 'learning_rate': 0.02036013182330464, 'batch_size': 32, 'activation': 'ELU'}. Best is trial 30 with value: 0.7467495533991041.\n",
      "[I 2024-09-09 21:23:31,743] Trial 39 finished with value: 0.7316793804169596 and parameters: {'num_layers': 1, 'hidden_size': 221, 'dropout_rate': 0.2293011074029701, 'weight_decay': 0.00037683247374735836, 'learning_rate': 0.0006823200053897928, 'batch_size': 64, 'activation': 'ELU'}. Best is trial 30 with value: 0.7467495533991041.\n",
      "[I 2024-09-09 21:24:08,943] Trial 40 finished with value: 0.7138708062990717 and parameters: {'num_layers': 3, 'hidden_size': 106, 'dropout_rate': 0.1272569941204568, 'weight_decay': 0.0017618132472490124, 'learning_rate': 0.0010396561931071803, 'batch_size': 16, 'activation': 'LeakyReLU'}. Best is trial 30 with value: 0.7467495533991041.\n",
      "[I 2024-09-09 21:24:16,010] Trial 41 finished with value: 0.7476515873358429 and parameters: {'num_layers': 1, 'hidden_size': 73, 'dropout_rate': 0.20765536980835012, 'weight_decay': 0.00013877547984341825, 'learning_rate': 0.0036580686692554436, 'batch_size': 128, 'activation': 'ELU'}. Best is trial 41 with value: 0.7476515873358429.\n",
      "[I 2024-09-09 21:24:23,142] Trial 42 finished with value: 0.7332969474611979 and parameters: {'num_layers': 1, 'hidden_size': 90, 'dropout_rate': 0.20240358495826963, 'weight_decay': 0.00024447221388298, 'learning_rate': 0.002494435357773179, 'batch_size': 128, 'activation': 'ELU'}. Best is trial 41 with value: 0.7476515873358429.\n",
      "[I 2024-09-09 21:24:30,498] Trial 43 finished with value: 0.7391210773070432 and parameters: {'num_layers': 1, 'hidden_size': 62, 'dropout_rate': 0.3078844101527683, 'weight_decay': 0.00014514056637606555, 'learning_rate': 0.003963301012746355, 'batch_size': 128, 'activation': 'ELU'}. Best is trial 41 with value: 0.7476515873358429.\n",
      "[I 2024-09-09 21:24:39,486] Trial 44 finished with value: 0.7351990735311059 and parameters: {'num_layers': 1, 'hidden_size': 77, 'dropout_rate': 0.25313846360587, 'weight_decay': 0.0004326495217005609, 'learning_rate': 0.0015008845459854253, 'batch_size': 128, 'activation': 'ELU'}. Best is trial 41 with value: 0.7476515873358429.\n",
      "[I 2024-09-09 21:24:46,586] Trial 45 finished with value: 0.7280715257583531 and parameters: {'num_layers': 1, 'hidden_size': 92, 'dropout_rate': 0.34808236265955694, 'weight_decay': 0.0006493306775146808, 'learning_rate': 0.0027710483577467328, 'batch_size': 128, 'activation': 'LeakyReLU'}. Best is trial 41 with value: 0.7476515873358429.\n",
      "[I 2024-09-09 21:25:09,052] Trial 46 finished with value: 0.7308267686798878 and parameters: {'num_layers': 1, 'hidden_size': 154, 'dropout_rate': 0.17280021590110722, 'weight_decay': 3.7169690129222496e-05, 'learning_rate': 0.007543872273514225, 'batch_size': 16, 'activation': 'ELU'}. Best is trial 41 with value: 0.7476515873358429.\n",
      "[I 2024-09-09 21:25:18,093] Trial 47 finished with value: 0.7345149137876718 and parameters: {'num_layers': 1, 'hidden_size': 133, 'dropout_rate': 0.14486151323062463, 'weight_decay': 0.0001510213414585766, 'learning_rate': 0.0018620717826811565, 'batch_size': 64, 'activation': 'ELU'}. Best is trial 41 with value: 0.7476515873358429.\n",
      "[I 2024-09-09 21:25:44,786] Trial 48 finished with value: 0.6970652810634671 and parameters: {'num_layers': 1, 'hidden_size': 57, 'dropout_rate': 0.27017932243524484, 'weight_decay': 0.0002817117919312945, 'learning_rate': 0.00014485142039248172, 'batch_size': 16, 'activation': 'LeakyReLU'}. Best is trial 41 with value: 0.7476515873358429.\n",
      "[I 2024-09-09 21:25:55,502] Trial 49 finished with value: 0.7226629789638911 and parameters: {'num_layers': 1, 'hidden_size': 68, 'dropout_rate': 0.4417606802419759, 'weight_decay': 2.3019238741160797e-05, 'learning_rate': 0.005264355044659082, 'batch_size': 32, 'activation': 'ReLU'}. Best is trial 41 with value: 0.7476515873358429.\n",
      "[I 2024-09-09 21:26:07,221] Trial 50 finished with value: 0.6948841587209911 and parameters: {'num_layers': 2, 'hidden_size': 79, 'dropout_rate': 0.18991378935115805, 'weight_decay': 0.0007394538669717785, 'learning_rate': 0.0003451571260795435, 'batch_size': 128, 'activation': 'ELU'}. Best is trial 41 with value: 0.7476515873358429.\n",
      "[I 2024-09-09 21:26:14,493] Trial 51 finished with value: 0.73762303184573 and parameters: {'num_layers': 1, 'hidden_size': 66, 'dropout_rate': 0.21170159972853828, 'weight_decay': 8.978330578077045e-05, 'learning_rate': 0.0036823091032755577, 'batch_size': 128, 'activation': 'ELU'}. Best is trial 41 with value: 0.7476515873358429.\n",
      "[I 2024-09-09 21:26:21,524] Trial 52 finished with value: 0.7393741760019608 and parameters: {'num_layers': 1, 'hidden_size': 57, 'dropout_rate': 0.2318756482555887, 'weight_decay': 0.00010508248624578072, 'learning_rate': 0.0031158989035478014, 'batch_size': 128, 'activation': 'ELU'}. Best is trial 41 with value: 0.7476515873358429.\n",
      "[I 2024-09-09 21:26:29,613] Trial 53 finished with value: 0.7335590632648012 and parameters: {'num_layers': 1, 'hidden_size': 44, 'dropout_rate': 0.1567436878955037, 'weight_decay': 7.188825695157815e-05, 'learning_rate': 0.0020230846193589618, 'batch_size': 128, 'activation': 'ELU'}. Best is trial 41 with value: 0.7476515873358429.\n",
      "[I 2024-09-09 21:26:39,020] Trial 54 finished with value: 0.723347341076954 and parameters: {'num_layers': 1, 'hidden_size': 74, 'dropout_rate': 0.20597051235100253, 'weight_decay': 0.00021166392054323323, 'learning_rate': 0.0010076851287021283, 'batch_size': 128, 'activation': 'ELU'}. Best is trial 41 with value: 0.7476515873358429.\n",
      "[I 2024-09-09 21:27:05,380] Trial 55 finished with value: 0.7335054879478131 and parameters: {'num_layers': 1, 'hidden_size': 108, 'dropout_rate': 0.1275134193865219, 'weight_decay': 5.227635328008199e-05, 'learning_rate': 0.00725001935789259, 'batch_size': 16, 'activation': 'ELU'}. Best is trial 41 with value: 0.7476515873358429.\n",
      "[I 2024-09-09 21:27:13,296] Trial 56 finished with value: 0.7390093763016872 and parameters: {'num_layers': 1, 'hidden_size': 86, 'dropout_rate': 0.1740401805300534, 'weight_decay': 0.00016320711557188332, 'learning_rate': 0.004079927898920547, 'batch_size': 128, 'activation': 'ELU'}. Best is trial 41 with value: 0.7476515873358429.\n",
      "[I 2024-09-09 21:27:37,016] Trial 57 finished with value: 0.743478282297346 and parameters: {'num_layers': 1, 'hidden_size': 95, 'dropout_rate': 0.23855205216937156, 'weight_decay': 0.0004561914623312334, 'learning_rate': 0.0016102896144689668, 'batch_size': 16, 'activation': 'ELU'}. Best is trial 41 with value: 0.7476515873358429.\n",
      "[I 2024-09-09 21:28:07,137] Trial 58 finished with value: 0.7475937703510166 and parameters: {'num_layers': 1, 'hidden_size': 125, 'dropout_rate': 0.2365069129805044, 'weight_decay': 1.03214653150913e-05, 'learning_rate': 0.001459230305895031, 'batch_size': 16, 'activation': 'ELU'}. Best is trial 41 with value: 0.7476515873358429.\n",
      "[I 2024-09-09 21:28:31,776] Trial 59 finished with value: 0.7384238783343411 and parameters: {'num_layers': 1, 'hidden_size': 122, 'dropout_rate': 0.28998369296344684, 'weight_decay': 1.7984806433947777e-05, 'learning_rate': 0.0012806837792884572, 'batch_size': 16, 'activation': 'ReLU'}. Best is trial 41 with value: 0.7476515873358429.\n",
      "[I 2024-09-09 21:28:54,173] Trial 60 finished with value: 0.7344112943470283 and parameters: {'num_layers': 1, 'hidden_size': 168, 'dropout_rate': 0.2579634814346162, 'weight_decay': 1.0346355673881801e-05, 'learning_rate': 0.0008732811075300593, 'batch_size': 16, 'activation': 'LeakyReLU'}. Best is trial 41 with value: 0.7476515873358429.\n",
      "[I 2024-09-09 21:29:17,233] Trial 61 finished with value: 0.7444781218801977 and parameters: {'num_layers': 1, 'hidden_size': 96, 'dropout_rate': 0.2429289346744561, 'weight_decay': 0.0004510257216899066, 'learning_rate': 0.0015839503447068201, 'batch_size': 16, 'activation': 'ELU'}. Best is trial 41 with value: 0.7476515873358429.\n",
      "[I 2024-09-09 21:29:38,486] Trial 62 finished with value: 0.7388326648041605 and parameters: {'num_layers': 1, 'hidden_size': 141, 'dropout_rate': 0.2216380745506801, 'weight_decay': 0.0011567090767121175, 'learning_rate': 0.002479383126103616, 'batch_size': 16, 'activation': 'ELU'}. Best is trial 41 with value: 0.7476515873358429.\n",
      "[I 2024-09-09 21:30:02,590] Trial 63 finished with value: 0.7428640869520058 and parameters: {'num_layers': 1, 'hidden_size': 112, 'dropout_rate': 0.19457788043601482, 'weight_decay': 0.0005091264277464968, 'learning_rate': 0.0020082717113633144, 'batch_size': 16, 'activation': 'ELU'}. Best is trial 41 with value: 0.7476515873358429.\n",
      "[I 2024-09-09 21:30:31,662] Trial 64 finished with value: 0.7406712602414053 and parameters: {'num_layers': 1, 'hidden_size': 100, 'dropout_rate': 0.24253178085368024, 'weight_decay': 0.0015060846415948527, 'learning_rate': 0.0005726222569330108, 'batch_size': 16, 'activation': 'ELU'}. Best is trial 41 with value: 0.7476515873358429.\n",
      "[I 2024-09-09 21:30:58,715] Trial 65 finished with value: 0.7445724465196234 and parameters: {'num_layers': 1, 'hidden_size': 122, 'dropout_rate': 0.2699856155550254, 'weight_decay': 0.002651857414627952, 'learning_rate': 0.0012521834978187197, 'batch_size': 16, 'activation': 'ELU'}. Best is trial 41 with value: 0.7476515873358429.\n",
      "[I 2024-09-09 21:31:14,641] Trial 66 finished with value: 0.629984674300113 and parameters: {'num_layers': 1, 'hidden_size': 125, 'dropout_rate': 0.2645623031786142, 'weight_decay': 0.0029592078279293667, 'learning_rate': 0.08886484650867854, 'batch_size': 16, 'activation': 'ELU'}. Best is trial 41 with value: 0.7476515873358429.\n",
      "[I 2024-09-09 21:31:44,305] Trial 67 finished with value: 0.7452023431363479 and parameters: {'num_layers': 1, 'hidden_size': 116, 'dropout_rate': 0.3037661713799944, 'weight_decay': 0.002357058982370252, 'learning_rate': 0.0012776273934902039, 'batch_size': 16, 'activation': 'ELU'}. Best is trial 41 with value: 0.7476515873358429.\n",
      "[I 2024-09-09 21:32:14,401] Trial 68 finished with value: 0.7398604778539342 and parameters: {'num_layers': 1, 'hidden_size': 129, 'dropout_rate': 0.31137420522457404, 'weight_decay': 0.004566675642480367, 'learning_rate': 0.0008754874405561074, 'batch_size': 16, 'activation': 'ELU'}. Best is trial 41 with value: 0.7476515873358429.\n",
      "[I 2024-09-09 21:32:30,833] Trial 69 finished with value: 0.7327779612977846 and parameters: {'num_layers': 1, 'hidden_size': 141, 'dropout_rate': 0.351344678834448, 'weight_decay': 0.0065320254353238814, 'learning_rate': 0.0013071494555087384, 'batch_size': 32, 'activation': 'ELU'}. Best is trial 41 with value: 0.7476515873358429.\n",
      "[I 2024-09-09 21:32:44,105] Trial 70 finished with value: 0.7273600587666748 and parameters: {'num_layers': 1, 'hidden_size': 111, 'dropout_rate': 0.3716165828920089, 'weight_decay': 0.002152022172951941, 'learning_rate': 0.0006246682673291663, 'batch_size': 64, 'activation': 'ELU'}. Best is trial 41 with value: 0.7476515873358429.\n",
      "[I 2024-09-09 21:33:35,507] Trial 71 finished with value: 0.7453079249331621 and parameters: {'num_layers': 3, 'hidden_size': 114, 'dropout_rate': 0.27677440543790083, 'weight_decay': 0.0030804574287132845, 'learning_rate': 0.0010926044570458236, 'batch_size': 16, 'activation': 'ELU'}. Best is trial 41 with value: 0.7476515873358429.\n",
      "[I 2024-09-09 21:34:35,158] Trial 72 finished with value: 0.7387575830370798 and parameters: {'num_layers': 3, 'hidden_size': 144, 'dropout_rate': 0.2831233677558481, 'weight_decay': 0.003706416541089885, 'learning_rate': 0.0010716821306968269, 'batch_size': 16, 'activation': 'ELU'}. Best is trial 41 with value: 0.7476515873358429.\n",
      "[I 2024-09-09 21:35:20,237] Trial 73 finished with value: 0.7413566928219095 and parameters: {'num_layers': 3, 'hidden_size': 117, 'dropout_rate': 0.3258899022945585, 'weight_decay': 0.0026301494875139936, 'learning_rate': 0.00043129406984946224, 'batch_size': 16, 'activation': 'ELU'}. Best is trial 41 with value: 0.7476515873358429.\n",
      "[I 2024-09-09 21:36:04,957] Trial 74 finished with value: 0.7118261523687281 and parameters: {'num_layers': 3, 'hidden_size': 104, 'dropout_rate': 0.2708279355221623, 'weight_decay': 0.007312984044066734, 'learning_rate': 0.0023113238797368937, 'batch_size': 16, 'activation': 'ELU'}. Best is trial 41 with value: 0.7476515873358429.\n",
      "[I 2024-09-09 21:36:50,518] Trial 75 finished with value: 0.724544238896384 and parameters: {'num_layers': 3, 'hidden_size': 153, 'dropout_rate': 0.3002285904612556, 'weight_decay': 0.001483633620798981, 'learning_rate': 0.0031073719435229913, 'batch_size': 16, 'activation': 'ELU'}. Best is trial 41 with value: 0.7476515873358429.\n",
      "[I 2024-09-09 21:37:27,613] Trial 76 finished with value: 0.7337654684801389 and parameters: {'num_layers': 2, 'hidden_size': 165, 'dropout_rate': 0.2517675161490929, 'weight_decay': 0.003999789637201, 'learning_rate': 0.0011983405087139245, 'batch_size': 16, 'activation': 'ELU'}. Best is trial 41 with value: 0.7476515873358429.\n",
      "[I 2024-09-09 21:38:01,688] Trial 77 finished with value: 0.7293031115702835 and parameters: {'num_layers': 2, 'hidden_size': 118, 'dropout_rate': 0.27936097170118374, 'weight_decay': 3.3191442229383444e-05, 'learning_rate': 0.0009223947648499683, 'batch_size': 16, 'activation': 'ReLU'}. Best is trial 41 with value: 0.7476515873358429.\n",
      "[I 2024-09-09 21:38:29,555] Trial 78 finished with value: 0.7342370128498735 and parameters: {'num_layers': 1, 'hidden_size': 139, 'dropout_rate': 0.3000931091926712, 'weight_decay': 0.002342161992434838, 'learning_rate': 0.001763889300237603, 'batch_size': 16, 'activation': 'ELU'}. Best is trial 41 with value: 0.7476515873358429.\n",
      "[I 2024-09-09 21:38:42,718] Trial 79 finished with value: 0.7335996130515745 and parameters: {'num_layers': 1, 'hidden_size': 125, 'dropout_rate': 0.22601970605464455, 'weight_decay': 0.005257479666055514, 'learning_rate': 0.000698044404987246, 'batch_size': 64, 'activation': 'ELU'}. Best is trial 41 with value: 0.7476515873358429.\n",
      "[I 2024-09-09 21:38:54,125] Trial 80 finished with value: 0.7132145462631421 and parameters: {'num_layers': 2, 'hidden_size': 105, 'dropout_rate': 0.32775791247572944, 'weight_decay': 0.003172431877474247, 'learning_rate': 0.00078538184331223, 'batch_size': 128, 'activation': 'LeakyReLU'}. Best is trial 41 with value: 0.7476515873358429.\n",
      "[I 2024-09-09 21:39:17,792] Trial 81 finished with value: 0.7437462126110133 and parameters: {'num_layers': 1, 'hidden_size': 96, 'dropout_rate': 0.26134080079121885, 'weight_decay': 1.0904890095663473e-05, 'learning_rate': 0.0014808659495969614, 'batch_size': 16, 'activation': 'ELU'}. Best is trial 41 with value: 0.7476515873358429.\n",
      "[I 2024-09-09 21:39:44,730] Trial 82 finished with value: 0.7459456127230661 and parameters: {'num_layers': 1, 'hidden_size': 88, 'dropout_rate': 0.24112061211507277, 'weight_decay': 0.0010502052338942055, 'learning_rate': 0.001725253375957574, 'batch_size': 16, 'activation': 'ELU'}. Best is trial 41 with value: 0.7476515873358429.\n",
      "[I 2024-09-09 21:40:06,030] Trial 83 finished with value: 0.7417566899729023 and parameters: {'num_layers': 1, 'hidden_size': 132, 'dropout_rate': 0.2868622205460963, 'weight_decay': 0.0017834585223601815, 'learning_rate': 0.002085860250003945, 'batch_size': 16, 'activation': 'ELU'}. Best is trial 41 with value: 0.7476515873358429.\n",
      "[I 2024-09-09 21:40:30,064] Trial 84 finished with value: 0.7381614314731324 and parameters: {'num_layers': 1, 'hidden_size': 88, 'dropout_rate': 0.2150756540464802, 'weight_decay': 0.001103355835068946, 'learning_rate': 0.0029556497752439652, 'batch_size': 16, 'activation': 'ELU'}. Best is trial 41 with value: 0.7476515873358429.\n",
      "[I 2024-09-09 21:40:42,813] Trial 85 finished with value: 0.7278196089164075 and parameters: {'num_layers': 1, 'hidden_size': 109, 'dropout_rate': 0.23047855827937394, 'weight_decay': 0.0007367118304562784, 'learning_rate': 0.004533223680114618, 'batch_size': 32, 'activation': 'ELU'}. Best is trial 41 with value: 0.7476515873358429.\n",
      "[I 2024-09-09 21:41:12,221] Trial 86 finished with value: 0.741941121688148 and parameters: {'num_layers': 1, 'hidden_size': 81, 'dropout_rate': 0.30699102286496366, 'weight_decay': 0.0021338395525990054, 'learning_rate': 0.0011456382238675916, 'batch_size': 16, 'activation': 'ELU'}. Best is trial 41 with value: 0.7476515873358429.\n",
      "[I 2024-09-09 21:41:22,376] Trial 87 finished with value: 0.734992166669293 and parameters: {'num_layers': 1, 'hidden_size': 114, 'dropout_rate': 0.31525463483191324, 'weight_decay': 2.7900550760596615e-05, 'learning_rate': 0.0017673523964539535, 'batch_size': 128, 'activation': 'ELU'}. Best is trial 41 with value: 0.7476515873358429.\n",
      "[I 2024-09-09 21:41:49,644] Trial 88 finished with value: 0.7459936560410154 and parameters: {'num_layers': 1, 'hidden_size': 150, 'dropout_rate': 0.27354616742023313, 'weight_decay': 0.000961623667895049, 'learning_rate': 0.0023513327660989835, 'batch_size': 16, 'activation': 'ELU'}. Best is trial 41 with value: 0.7476515873358429.\n",
      "[I 2024-09-09 21:41:58,037] Trial 89 finished with value: 0.7317673050412863 and parameters: {'num_layers': 1, 'hidden_size': 185, 'dropout_rate': 0.3371184714262967, 'weight_decay': 0.000984275441066173, 'learning_rate': 0.0026805300623758666, 'batch_size': 128, 'activation': 'ELU'}. Best is trial 41 with value: 0.7476515873358429.\n",
      "[I 2024-09-09 21:42:18,705] Trial 90 finished with value: 0.7292010336005743 and parameters: {'num_layers': 1, 'hidden_size': 160, 'dropout_rate': 0.1971503340302775, 'weight_decay': 0.0014875709906238357, 'learning_rate': 0.002258343877291566, 'batch_size': 16, 'activation': 'ReLU'}. Best is trial 41 with value: 0.7476515873358429.\n",
      "[I 2024-09-09 21:42:50,492] Trial 91 finished with value: 0.7452228133984673 and parameters: {'num_layers': 1, 'hidden_size': 126, 'dropout_rate': 0.24975933759051644, 'weight_decay': 0.0027506500673250274, 'learning_rate': 0.0012722440412460579, 'batch_size': 16, 'activation': 'ELU'}. Best is trial 41 with value: 0.7476515873358429.\n",
      "[I 2024-09-09 21:43:17,537] Trial 92 finished with value: 0.7420187037381658 and parameters: {'num_layers': 1, 'hidden_size': 101, 'dropout_rate': 0.24876740735938968, 'weight_decay': 0.003483688123138955, 'learning_rate': 0.0017235710174381123, 'batch_size': 16, 'activation': 'ELU'}. Best is trial 41 with value: 0.7476515873358429.\n",
      "[I 2024-09-09 21:43:46,950] Trial 93 finished with value: 0.7454813616180062 and parameters: {'num_layers': 1, 'hidden_size': 128, 'dropout_rate': 0.23838194153999812, 'weight_decay': 0.0006387465484962168, 'learning_rate': 0.0014222457934825541, 'batch_size': 16, 'activation': 'ELU'}. Best is trial 41 with value: 0.7476515873358429.\n",
      "[I 2024-09-09 21:44:11,050] Trial 94 finished with value: 0.7302915528772097 and parameters: {'num_layers': 1, 'hidden_size': 149, 'dropout_rate': 0.23675008489732088, 'weight_decay': 0.0006126311806188761, 'learning_rate': 0.00636758151186517, 'batch_size': 16, 'activation': 'ELU'}. Best is trial 41 with value: 0.7476515873358429.\n",
      "[I 2024-09-09 21:44:31,712] Trial 95 finished with value: 0.7312552307053473 and parameters: {'num_layers': 1, 'hidden_size': 137, 'dropout_rate': 0.2145201351141532, 'weight_decay': 0.0008070752664876414, 'learning_rate': 0.0035940494775240353, 'batch_size': 16, 'activation': 'ELU'}. Best is trial 41 with value: 0.7476515873358429.\n",
      "[I 2024-09-09 21:44:39,235] Trial 96 finished with value: 0.717938648743589 and parameters: {'num_layers': 1, 'hidden_size': 127, 'dropout_rate': 0.18123186735617414, 'weight_decay': 0.0002833266833600325, 'learning_rate': 0.0009948900450469482, 'batch_size': 128, 'activation': 'ELU'}. Best is trial 41 with value: 0.7476515873358429.\n",
      "[I 2024-09-09 21:45:02,006] Trial 97 finished with value: 0.740280228620423 and parameters: {'num_layers': 1, 'hidden_size': 147, 'dropout_rate': 0.25018208669058334, 'weight_decay': 0.00039547525581910684, 'learning_rate': 0.001424484331933004, 'batch_size': 16, 'activation': 'ELU'}. Best is trial 41 with value: 0.7476515873358429.\n",
      "[I 2024-09-09 21:45:11,748] Trial 98 finished with value: 0.7325880506389363 and parameters: {'num_layers': 1, 'hidden_size': 93, 'dropout_rate': 0.22396976909520733, 'weight_decay': 0.0005131315197975387, 'learning_rate': 0.0020230801718603337, 'batch_size': 128, 'activation': 'LeakyReLU'}. Best is trial 41 with value: 0.7476515873358429.\n",
      "[I 2024-09-09 21:45:27,028] Trial 99 finished with value: 0.6590200990660878 and parameters: {'num_layers': 1, 'hidden_size': 136, 'dropout_rate': 0.2074108577704155, 'weight_decay': 0.0012990162014945596, 'learning_rate': 0.0388125938599259, 'batch_size': 16, 'activation': 'ELU'}. Best is trial 41 with value: 0.7476515873358429.\n"
     ]
    }
   ],
   "source": [
    "# Optimizing hyperparameters:\n",
    "\n",
    "study = optuna.create_study(direction='maximize')\n",
    "study.optimize(objective, n_trials=100)"
   ]
  },
  {
   "cell_type": "code",
   "execution_count": 26,
   "metadata": {},
   "outputs": [
    {
     "name": "stdout",
     "output_type": "stream",
     "text": [
      "Best hyperparameters:\n",
      "  num_layers: 1\n",
      "  hidden_size: 73\n",
      "  dropout_rate: 0.20765536980835012\n",
      "  weight_decay: 0.00013877547984341825\n",
      "  learning_rate: 0.0036580686692554436\n",
      "  batch_size: 128\n",
      "  activation: ELU\n"
     ]
    }
   ],
   "source": [
    "print(\"Best hyperparameters:\")\n",
    "for key, value in study.best_params.items():\n",
    "    print(f\"  {key}: {value}\")"
   ]
  },
  {
   "cell_type": "markdown",
   "metadata": {},
   "source": [
    "## Evaluating best models"
   ]
  },
  {
   "cell_type": "markdown",
   "metadata": {},
   "source": [
    "### XGBoost"
   ]
  },
  {
   "cell_type": "code",
   "execution_count": 28,
   "metadata": {},
   "outputs": [],
   "source": [
    "xgb_params = random_search.best_params_"
   ]
  },
  {
   "cell_type": "code",
   "execution_count": 29,
   "metadata": {},
   "outputs": [],
   "source": [
    "best_xgboost = XGBClassifier(random_state=42, eval_metric='mlogloss',\n",
    "                             **xgb_params)"
   ]
  },
  {
   "cell_type": "code",
   "execution_count": 30,
   "metadata": {},
   "outputs": [
    {
     "data": {
      "text/html": [
       "<style>#sk-container-id-2 {color: black;}#sk-container-id-2 pre{padding: 0;}#sk-container-id-2 div.sk-toggleable {background-color: white;}#sk-container-id-2 label.sk-toggleable__label {cursor: pointer;display: block;width: 100%;margin-bottom: 0;padding: 0.3em;box-sizing: border-box;text-align: center;}#sk-container-id-2 label.sk-toggleable__label-arrow:before {content: \"▸\";float: left;margin-right: 0.25em;color: #696969;}#sk-container-id-2 label.sk-toggleable__label-arrow:hover:before {color: black;}#sk-container-id-2 div.sk-estimator:hover label.sk-toggleable__label-arrow:before {color: black;}#sk-container-id-2 div.sk-toggleable__content {max-height: 0;max-width: 0;overflow: hidden;text-align: left;background-color: #f0f8ff;}#sk-container-id-2 div.sk-toggleable__content pre {margin: 0.2em;color: black;border-radius: 0.25em;background-color: #f0f8ff;}#sk-container-id-2 input.sk-toggleable__control:checked~div.sk-toggleable__content {max-height: 200px;max-width: 100%;overflow: auto;}#sk-container-id-2 input.sk-toggleable__control:checked~label.sk-toggleable__label-arrow:before {content: \"▾\";}#sk-container-id-2 div.sk-estimator input.sk-toggleable__control:checked~label.sk-toggleable__label {background-color: #d4ebff;}#sk-container-id-2 div.sk-label input.sk-toggleable__control:checked~label.sk-toggleable__label {background-color: #d4ebff;}#sk-container-id-2 input.sk-hidden--visually {border: 0;clip: rect(1px 1px 1px 1px);clip: rect(1px, 1px, 1px, 1px);height: 1px;margin: -1px;overflow: hidden;padding: 0;position: absolute;width: 1px;}#sk-container-id-2 div.sk-estimator {font-family: monospace;background-color: #f0f8ff;border: 1px dotted black;border-radius: 0.25em;box-sizing: border-box;margin-bottom: 0.5em;}#sk-container-id-2 div.sk-estimator:hover {background-color: #d4ebff;}#sk-container-id-2 div.sk-parallel-item::after {content: \"\";width: 100%;border-bottom: 1px solid gray;flex-grow: 1;}#sk-container-id-2 div.sk-label:hover label.sk-toggleable__label {background-color: #d4ebff;}#sk-container-id-2 div.sk-serial::before {content: \"\";position: absolute;border-left: 1px solid gray;box-sizing: border-box;top: 0;bottom: 0;left: 50%;z-index: 0;}#sk-container-id-2 div.sk-serial {display: flex;flex-direction: column;align-items: center;background-color: white;padding-right: 0.2em;padding-left: 0.2em;position: relative;}#sk-container-id-2 div.sk-item {position: relative;z-index: 1;}#sk-container-id-2 div.sk-parallel {display: flex;align-items: stretch;justify-content: center;background-color: white;position: relative;}#sk-container-id-2 div.sk-item::before, #sk-container-id-2 div.sk-parallel-item::before {content: \"\";position: absolute;border-left: 1px solid gray;box-sizing: border-box;top: 0;bottom: 0;left: 50%;z-index: -1;}#sk-container-id-2 div.sk-parallel-item {display: flex;flex-direction: column;z-index: 1;position: relative;background-color: white;}#sk-container-id-2 div.sk-parallel-item:first-child::after {align-self: flex-end;width: 50%;}#sk-container-id-2 div.sk-parallel-item:last-child::after {align-self: flex-start;width: 50%;}#sk-container-id-2 div.sk-parallel-item:only-child::after {width: 0;}#sk-container-id-2 div.sk-dashed-wrapped {border: 1px dashed gray;margin: 0 0.4em 0.5em 0.4em;box-sizing: border-box;padding-bottom: 0.4em;background-color: white;}#sk-container-id-2 div.sk-label label {font-family: monospace;font-weight: bold;display: inline-block;line-height: 1.2em;}#sk-container-id-2 div.sk-label-container {text-align: center;}#sk-container-id-2 div.sk-container {/* jupyter's `normalize.less` sets `[hidden] { display: none; }` but bootstrap.min.css set `[hidden] { display: none !important; }` so we also need the `!important` here to be able to override the default hidden behavior on the sphinx rendered scikit-learn.org. See: https://github.com/scikit-learn/scikit-learn/issues/21755 */display: inline-block !important;position: relative;}#sk-container-id-2 div.sk-text-repr-fallback {display: none;}</style><div id=\"sk-container-id-2\" class=\"sk-top-container\"><div class=\"sk-text-repr-fallback\"><pre>XGBClassifier(base_score=None, booster=None, callbacks=None,\n",
       "              colsample_bylevel=None, colsample_bynode=None,\n",
       "              colsample_bytree=0.7, device=None, early_stopping_rounds=None,\n",
       "              enable_categorical=False, eval_metric=&#x27;mlogloss&#x27;,\n",
       "              feature_types=None, gamma=0.5, grow_policy=None,\n",
       "              importance_type=None, interaction_constraints=None,\n",
       "              learning_rate=0.05, max_bin=None, max_cat_threshold=None,\n",
       "              max_cat_to_onehot=None, max_delta_step=None, max_depth=7,\n",
       "              max_leaves=None, min_child_weight=3, missing=nan,\n",
       "              monotone_constraints=None, multi_strategy=None, n_estimators=400,\n",
       "              n_jobs=None, num_parallel_tree=None, random_state=42, ...)</pre><b>In a Jupyter environment, please rerun this cell to show the HTML representation or trust the notebook. <br />On GitHub, the HTML representation is unable to render, please try loading this page with nbviewer.org.</b></div><div class=\"sk-container\" hidden><div class=\"sk-item\"><div class=\"sk-estimator sk-toggleable\"><input class=\"sk-toggleable__control sk-hidden--visually\" id=\"sk-estimator-id-4\" type=\"checkbox\" checked><label for=\"sk-estimator-id-4\" class=\"sk-toggleable__label sk-toggleable__label-arrow\">XGBClassifier</label><div class=\"sk-toggleable__content\"><pre>XGBClassifier(base_score=None, booster=None, callbacks=None,\n",
       "              colsample_bylevel=None, colsample_bynode=None,\n",
       "              colsample_bytree=0.7, device=None, early_stopping_rounds=None,\n",
       "              enable_categorical=False, eval_metric=&#x27;mlogloss&#x27;,\n",
       "              feature_types=None, gamma=0.5, grow_policy=None,\n",
       "              importance_type=None, interaction_constraints=None,\n",
       "              learning_rate=0.05, max_bin=None, max_cat_threshold=None,\n",
       "              max_cat_to_onehot=None, max_delta_step=None, max_depth=7,\n",
       "              max_leaves=None, min_child_weight=3, missing=nan,\n",
       "              monotone_constraints=None, multi_strategy=None, n_estimators=400,\n",
       "              n_jobs=None, num_parallel_tree=None, random_state=42, ...)</pre></div></div></div></div></div>"
      ],
      "text/plain": [
       "XGBClassifier(base_score=None, booster=None, callbacks=None,\n",
       "              colsample_bylevel=None, colsample_bynode=None,\n",
       "              colsample_bytree=0.7, device=None, early_stopping_rounds=None,\n",
       "              enable_categorical=False, eval_metric='mlogloss',\n",
       "              feature_types=None, gamma=0.5, grow_policy=None,\n",
       "              importance_type=None, interaction_constraints=None,\n",
       "              learning_rate=0.05, max_bin=None, max_cat_threshold=None,\n",
       "              max_cat_to_onehot=None, max_delta_step=None, max_depth=7,\n",
       "              max_leaves=None, min_child_weight=3, missing=nan,\n",
       "              monotone_constraints=None, multi_strategy=None, n_estimators=400,\n",
       "              n_jobs=None, num_parallel_tree=None, random_state=42, ...)"
      ]
     },
     "execution_count": 30,
     "metadata": {},
     "output_type": "execute_result"
    }
   ],
   "source": [
    "# Fitting the model \n",
    "\n",
    "best_xgboost.fit(X, y)"
   ]
  },
  {
   "cell_type": "code",
   "execution_count": 31,
   "metadata": {},
   "outputs": [],
   "source": [
    "# Predicting values\n",
    "\n",
    "y_pred_xgb = best_xgboost.predict(X_test)"
   ]
  },
  {
   "cell_type": "code",
   "execution_count": 33,
   "metadata": {},
   "outputs": [],
   "source": [
    "# Saving predicted values\n",
    "\n",
    "sub_xgb = pd.DataFrame(y_pred_xgb, columns=['abandono_6meses'])\n",
    "sub_xgb = pd.concat([id_col, sub_xgb], axis=1)\n",
    "sub_xgb.rename(columns={'id_employee': 'ID'}, inplace=True)\n",
    "sub_xgb.to_csv('../results/sub_xgb_full.csv', index=False, sep=',')"
   ]
  },
  {
   "attachments": {
    "image.png": {
     "image/png": "[encoded data removed]"
    }
   },
   "cell_type": "markdown",
   "metadata": {},
   "source": [
    "Kaggle Score:\n",
    "\n",
    "![image.png](attachment:image.png)"
   ]
  },
  {
   "cell_type": "code",
   "execution_count": 35,
   "metadata": {},
   "outputs": [
    {
     "data": {
      "text/plain": [
       "{'num_layers': 1,\n",
       " 'hidden_size': 73,\n",
       " 'dropout_rate': 0.20765536980835012,\n",
       " 'weight_decay': 0.00013877547984341825,\n",
       " 'learning_rate': 0.0036580686692554436,\n",
       " 'batch_size': 128,\n",
       " 'activation': 'ELU'}"
      ]
     },
     "execution_count": 35,
     "metadata": {},
     "output_type": "execute_result"
    }
   ],
   "source": [
    "study.best_params"
   ]
  },
  {
   "cell_type": "markdown",
   "metadata": {},
   "source": [
    "### Neural Network"
   ]
  },
  {
   "cell_type": "code",
   "execution_count": 37,
   "metadata": {},
   "outputs": [],
   "source": [
    "# Use the entire training set\n",
    "train_dataset = TensorDataset(X_train_tensor, y_tensor)\n",
    "train_loader = DataLoader(train_dataset, batch_size=best_params['batch_size'], shuffle=True)\n",
    "\n",
    "# Initialize the model with best hyperparameters\n",
    "model = Net(input_size=X_train_tensor.shape[1],\n",
    "            num_classes=2,\n",
    "            num_layers=best_params['num_layers'],\n",
    "            hidden_size=best_params['hidden_size'],\n",
    "            dropout_rate=best_params['dropout_rate'],\n",
    "            activation_fn=nn.ELU())\n",
    "\n",
    "criterion = nn.CrossEntropyLoss()\n",
    "optimizer = optim.Adam(model.parameters(), lr=best_params['learning_rate'], weight_decay=best_params['weight_decay'])\n",
    "\n",
    "# Train the model\n",
    "for epoch in range(50):  # Adjust epochs as needed\n",
    "    model.train()\n",
    "    for X_batch, y_batch in train_loader:\n",
    "        optimizer.zero_grad()\n",
    "        outputs = model(X_batch)\n",
    "        loss = criterion(outputs, y_batch)\n",
    "        loss.backward()\n",
    "        optimizer.step()"
   ]
  },
  {
   "cell_type": "code",
   "execution_count": 38,
   "metadata": {},
   "outputs": [],
   "source": [
    "# Loading test data\n",
    "test_loader = DataLoader(X_test_tensor, batch_size=best_params['batch_size'])\n",
    "\n",
    "# Evaluation\n",
    "model.eval()\n",
    "nn_pred = []\n",
    "\n",
    "with torch.no_grad():\n",
    "    for X_batch in test_loader:\n",
    "        # Getting outputs\n",
    "        outputs = model(X_batch)\n",
    "        \n",
    "        # Get the predicted class (0 or 1)\n",
    "        _, predicted = torch.max(outputs.data, 1)\n",
    "        \n",
    "        # Append the predicted class to test_predictions\n",
    "        nn_pred.extend(predicted.cpu().numpy())"
   ]
  },
  {
   "cell_type": "code",
   "execution_count": 41,
   "metadata": {},
   "outputs": [],
   "source": [
    "# Saving predicted values\n",
    "\n",
    "sub_nn = pd.DataFrame(nn_pred, columns=['abandono_6meses'])\n",
    "sub_nn = pd.concat([id_col, sub_nn], axis=1)\n",
    "sub_nn.rename(columns={'id_employee': 'ID'}, inplace=True)\n",
    "sub_nn.to_csv('../results/sub_nn_full.csv', index=False, sep=',')"
   ]
  },
  {
   "attachments": {
    "image-2.png": {
     "image/png": "[encoded data removed]"
    }
   },
   "cell_type": "markdown",
   "metadata": {},
   "source": [
    "Kaggle Score:\n",
    "\n",
    "![image-2.png](attachment:image-2.png)"
   ]
  }
 ],
 "metadata": {
  "kernelspec": {
   "display_name": "Python 3",
   "language": "python",
   "name": "python3"
  },
  "language_info": {
   "codemirror_mode": {
    "name": "ipython",
    "version": 3
   },
   "file_extension": ".py",
   "mimetype": "text/x-python",
   "name": "python",
   "nbconvert_exporter": "python",
   "pygments_lexer": "ipython3",
   "version": "3.9.18"
  }
 },
 "nbformat": 4,
 "nbformat_minor": 2
}
